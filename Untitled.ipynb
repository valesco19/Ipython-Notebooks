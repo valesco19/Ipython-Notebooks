{
 "cells": [
  {
   "cell_type": "code",
   "execution_count": 2,
   "metadata": {
    "collapsed": true
   },
   "outputs": [],
   "source": [
    "from pulp import *\n",
    "import csv\n",
    "import numpy as np\n",
    "import pandas as pd\n",
    "import os"
   ]
  },
  {
   "cell_type": "code",
   "execution_count": 53,
   "metadata": {
    "collapsed": false
   },
   "outputs": [],
   "source": [
    "file = '/home/valesco/Datasets/PGA_Data/pga_odds/Bovada__2016_06_13_07_05.txt'\n",
    "text = open(file,'r')\n",
    "string = text.readlines()\n",
    "\n",
    "new_list = []\n",
    "for s in string:\n",
    "    new_list.append(s.replace('\\n',''))\n",
    "    \n",
    "new_list = new_list[3:]\n",
    "\n",
    "players = []\n",
    "odds = []\n",
    "for i, new in enumerate(new_list):\n",
    "    if i % 2 == 0:\n",
    "        if new == 'GAME VIEW':\n",
    "            break\n",
    "        else:\n",
    "            players.append(new)\n",
    "    else:\n",
    "        new = new.replace('+','')\n",
    "        odds.append(int(new))\n",
    "\n",
    "dk_file = '/home/valesco/Downloads/DKSalaries.csv'\n",
    "dk_df = pd.read_csv(dk_file, index_col = 0)\n",
    "\n",
    "odds_df = pd.DataFrame({'player': players, 'odds': odds})\n",
    "odds_df = odds_df.set_index('player')\n",
    "\n",
    "final_df = odds_df.join(dk_df)\n",
    "final_df.sort_index(inplace = True)\n",
    "\n",
    "final_df['odds'] = final_df['odds'].apply(lambda x: x * .01)\n",
    "final_df.reset_index(inplace = True)\n",
    "final_df = final_df.dropna(axis = 0)\n",
    "final_df.sort_values('Salary', ascending = False, inplace = True)"
   ]
  },
  {
   "cell_type": "code",
   "execution_count": 85,
   "metadata": {
    "collapsed": false
   },
   "outputs": [],
   "source": []
  },
  {
   "cell_type": "code",
   "execution_count": null,
   "metadata": {
    "collapsed": false
   },
   "outputs": [],
   "source": []
  },
  {
   "cell_type": "code",
   "execution_count": 91,
   "metadata": {
    "collapsed": false
   },
   "outputs": [
    {
     "ename": "TypeError",
     "evalue": "unhashable type: 'dict'",
     "output_type": "error",
     "traceback": [
      "\u001b[1;31m---------------------------------------------------------------------------\u001b[0m",
      "\u001b[1;31mTypeError\u001b[0m                                 Traceback (most recent call last)",
      "\u001b[1;32m<ipython-input-91-9137f48640ac>\u001b[0m in \u001b[0;36m<module>\u001b[1;34m()\u001b[0m\n\u001b[0;32m     15\u001b[0m \u001b[1;33m\u001b[0m\u001b[0m\n\u001b[0;32m     16\u001b[0m \u001b[1;31m# Create binary decision variables for which player ends up on which team\u001b[0m\u001b[1;33m\u001b[0m\u001b[1;33m\u001b[0m\u001b[0m\n\u001b[1;32m---> 17\u001b[1;33m \u001b[0mpossible_assignments\u001b[0m \u001b[1;33m=\u001b[0m \u001b[0mLpVariable\u001b[0m\u001b[1;33m.\u001b[0m\u001b[0mdicts\u001b[0m\u001b[1;33m(\u001b[0m\u001b[1;34m\"x\"\u001b[0m\u001b[1;33m,\u001b[0m  \u001b[0mplayers\u001b[0m\u001b[1;33m,\u001b[0m \u001b[1;36m0\u001b[0m\u001b[1;33m)\u001b[0m\u001b[1;33m\u001b[0m\u001b[0m\n\u001b[0m\u001b[0;32m     18\u001b[0m \u001b[1;33m\u001b[0m\u001b[0m\n\u001b[0;32m     19\u001b[0m \u001b[1;31m# Add in the objective function\u001b[0m\u001b[1;33m\u001b[0m\u001b[1;33m\u001b[0m\u001b[0m\n",
      "\u001b[1;32m/home/valesco/anaconda3/lib/python3.5/site-packages/pulp/pulp.py\u001b[0m in \u001b[0;36mdicts\u001b[1;34m(self, name, indexs, lowBound, upBound, cat, indexStart)\u001b[0m\n\u001b[0;32m    320\u001b[0m         \u001b[1;32mif\u001b[0m \u001b[0mlen\u001b[0m\u001b[1;33m(\u001b[0m\u001b[0mindexs\u001b[0m\u001b[1;33m)\u001b[0m \u001b[1;33m==\u001b[0m \u001b[1;36m0\u001b[0m\u001b[1;33m:\u001b[0m\u001b[1;33m\u001b[0m\u001b[0m\n\u001b[0;32m    321\u001b[0m             \u001b[1;32mfor\u001b[0m \u001b[0mi\u001b[0m \u001b[1;32min\u001b[0m \u001b[0mindex\u001b[0m\u001b[1;33m:\u001b[0m\u001b[1;33m\u001b[0m\u001b[0m\n\u001b[1;32m--> 322\u001b[1;33m                 \u001b[0md\u001b[0m\u001b[1;33m[\u001b[0m\u001b[0mi\u001b[0m\u001b[1;33m]\u001b[0m \u001b[1;33m=\u001b[0m \u001b[0mLpVariable\u001b[0m\u001b[1;33m(\u001b[0m\u001b[0mname\u001b[0m \u001b[1;33m%\u001b[0m \u001b[0mtuple\u001b[0m\u001b[1;33m(\u001b[0m\u001b[0mindexStart\u001b[0m \u001b[1;33m+\u001b[0m \u001b[1;33m[\u001b[0m\u001b[0mstr\u001b[0m\u001b[1;33m(\u001b[0m\u001b[0mi\u001b[0m\u001b[1;33m)\u001b[0m\u001b[1;33m]\u001b[0m\u001b[1;33m)\u001b[0m\u001b[1;33m,\u001b[0m \u001b[0mlowBound\u001b[0m\u001b[1;33m,\u001b[0m \u001b[0mupBound\u001b[0m\u001b[1;33m,\u001b[0m \u001b[0mcat\u001b[0m\u001b[1;33m)\u001b[0m\u001b[1;33m\u001b[0m\u001b[0m\n\u001b[0m\u001b[0;32m    323\u001b[0m         \u001b[1;32melse\u001b[0m\u001b[1;33m:\u001b[0m\u001b[1;33m\u001b[0m\u001b[0m\n\u001b[0;32m    324\u001b[0m             \u001b[1;32mfor\u001b[0m \u001b[0mi\u001b[0m \u001b[1;32min\u001b[0m \u001b[0mindex\u001b[0m\u001b[1;33m:\u001b[0m\u001b[1;33m\u001b[0m\u001b[0m\n",
      "\u001b[1;31mTypeError\u001b[0m: unhashable type: 'dict'"
     ]
    }
   ],
   "source": [
    "in_file = \"USOpenDK.csv\"\n",
    "reader = csv.DictReader(open(in_file, 'r'))\n",
    "player_dict = []\n",
    "for i , row in enumerate(reader):\n",
    "    t = {k: v for k, v in row.items()}\n",
    "    t['id'] = i\n",
    "    player_dict.append(t)\n",
    "\n",
    "# Create an empty LP\n",
    "IP = LpProblem(\"Golf Optimization\", LpMinimize)\n",
    "\n",
    "# Create a list of the teams and player IDs\n",
    "teams = [i for i in range(10)]\n",
    "players = [player for player in player_dict]\n",
    "\n",
    "# Create binary decision variables for which player ends up on which team\n",
    "possible_assignments = LpVariable.dicts(\"x\",  players, 0)\n",
    "\n",
    "# Add in the objective function\n",
    "IP += sum([float(player['odds']) * possible_assignments[team][player['id']] for player in player_dict for team in teams])\n",
    "#IP += \n",
    "\n",
    "for team in teams:\n",
    "    IP += lpSum([possible_assignments[team][player['id']] for player in player_dict]) == 6, '6 players per team '+str(team)\n",
    "    IP += sum([float(player['Salary']) * possible_assignments[team][player['id']] for player in player_dict]) <= 50000\n",
    "    #IP += sum([float(player['odds']) < 15 for player in player_dict]) > 0, '1 favorite per team'\n",
    "    #IP += lpSum([possible_assignments[t][p['id']] for p in d if p['Group'] == 'A']) == 1, '1 A per team '+str(t)\n",
    "    #IP += lpSum([possible_assignments[t][p['id']] for p in d if p['Group'] == 'B']) == 2, '2 B per team '+str(t)\n",
    "    #IP += lpSum([possible_assignments[t][p['id']] for p in d if p['Group'] == 'C']) == 3, '3 C per team '+str(t)\n",
    "    #IP += lpSum([possible_assignments[t][p['id']] for p in d if p['Group'] == 'D']) == 2, '2 D per team '+str(t)\n",
    "    \n",
    "    \n",
    "    \n",
    "    \n",
    "# Write out the LP formulation\n",
    "IP.writeLP('simple optimization.lp')"
   ]
  },
  {
   "cell_type": "code",
   "execution_count": null,
   "metadata": {
    "collapsed": true
   },
   "outputs": [],
   "source": []
  }
 ],
 "metadata": {
  "kernelspec": {
   "display_name": "Python 3",
   "language": "python",
   "name": "python3"
  },
  "language_info": {
   "codemirror_mode": {
    "name": "ipython",
    "version": 3
   },
   "file_extension": ".py",
   "mimetype": "text/x-python",
   "name": "python",
   "nbconvert_exporter": "python",
   "pygments_lexer": "ipython3",
   "version": "3.5.1"
  }
 },
 "nbformat": 4,
 "nbformat_minor": 0
}
