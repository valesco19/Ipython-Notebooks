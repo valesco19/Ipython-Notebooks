{
 "cells": [
  {
   "cell_type": "code",
   "execution_count": 15,
   "metadata": {
    "collapsed": true
   },
   "outputs": [],
   "source": [
    "import numpy as np\n",
    "import re\n",
    "import itertools\n",
    "from collections import Counter\n",
    "import os\n",
    "import tensorflow as tf\n",
    "import time\n",
    "import datetime"
   ]
  },
  {
   "cell_type": "code",
   "execution_count": 16,
   "metadata": {
    "scrolled": true
   },
   "outputs": [],
   "source": [
    "##Process Sentence Data\n",
    "\n",
    "os.chdir('D:/data/rotten_tomatoes/rt-polaritydata/')\n",
    "positive_data_file = 'rt-polarity.pos'\n",
    "negative_data_file = 'rt-polarity.neg'\n",
    "\n",
    "def load_data_and_labels(positive_data_file, negative_data_file):\n",
    "    \n",
    "    #load positive dataset\n",
    "    positive_examples = list(open(positive_data_file, 'r').readlines())\n",
    "    positive_examples = [s.strip() for s in positive_examples]\n",
    "\n",
    "    #Load negative dataset\n",
    "    negative_examples = list(open(negative_data_file, 'r').readlines())\n",
    "    negative_examples = [s.strip() for s in negative_examples]\n",
    "\n",
    "    x_text = positive_examples + negative_examples\n",
    "    x_text = [clean_str(sent) for sent in x_text]\n",
    "\n",
    "    #Generate labels\n",
    "    positive_labels = [[0,1] for _ in positive_examples]\n",
    "    negative_labels = [[1,0] for _ in negative_examples]\n",
    "\n",
    "    y = np.concatenate([positive_labels, negative_labels], 0)\n",
    "\n",
    "    return [x_text, y]\n",
    "\n",
    "def clean_str(string):\n",
    "    \"\"\"\n",
    "    Tokenization/string cleaning for all datasets except for SST.\n",
    "    Original taken from https://github.com/yoonkim/CNN_sentence/blob/master/process_data.py\n",
    "    \"\"\"\n",
    "    string = re.sub(r\"[^A-Za-z0-9(),!?\\'\\`]\", \" \", string)\n",
    "    string = re.sub(r\"\\'s\", \" \\'s\", string)\n",
    "    string = re.sub(r\"\\'ve\", \" \\'ve\", string)\n",
    "    string = re.sub(r\"n\\'t\", \" n\\'t\", string)\n",
    "    string = re.sub(r\"\\'re\", \" \\'re\", string)\n",
    "    string = re.sub(r\"\\'d\", \" \\'d\", string)\n",
    "    string = re.sub(r\"\\'ll\", \" \\'ll\", string)\n",
    "    string = re.sub(r\",\", \" , \", string)\n",
    "    string = re.sub(r\"!\", \" ! \", string)\n",
    "    string = re.sub(r\"\\(\", \" \\( \", string)\n",
    "    string = re.sub(r\"\\)\", \" \\) \", string)\n",
    "    string = re.sub(r\"\\?\", \" \\? \", string)\n",
    "    string = re.sub(r\"\\s{2,}\", \" \", string)\n",
    "    \n",
    "    \n",
    "    return string.strip().lower()\n",
    "\n",
    "def batch_iter(data, batch_size, num_epochs, shuffle = True):\n",
    "    \n",
    "    \"\"\"\n",
    "    Generates a batch iterator for a dataset\n",
    "    \"\"\"\n",
    "    data = np.array(data)\n",
    "    data_size = len(data)\n",
    "    num_batches_per_epoch = int((len(data) - 1) / batch_size) + 1\n",
    "    \n",
    "    for epoch in range(num_epochs):\n",
    "        #Shuffle data at each epoch\n",
    "        \n",
    "        if shuffle:\n",
    "            shuffle_indicies = np.ranom.permutation(np.arange(data_size))\n",
    "            shuffled_data = data[shuffle_indicies]\n",
    "        else:\n",
    "            shuffled_data = data\n",
    "            \n",
    "        for batch_num in range(num_batches_per_epoch):\n",
    "            start_index = batch_num * batch_size\n",
    "            end_index = min((batch_num + 1) * batch_size, data_size)\n",
    "            \n",
    "            yield shuffled_data[start_index:end_index]\n",
    "            "
   ]
  },
  {
   "cell_type": "code",
   "execution_count": 17,
   "metadata": {},
   "outputs": [],
   "source": [
    "##"
   ]
  },
  {
   "cell_type": "code",
   "execution_count": null,
   "metadata": {
    "collapsed": true
   },
   "outputs": [],
   "source": []
  }
 ],
 "metadata": {
  "kernelspec": {
   "display_name": "Python 3",
   "language": "python",
   "name": "python3"
  },
  "language_info": {
   "codemirror_mode": {
    "name": "ipython",
    "version": 3
   },
   "file_extension": ".py",
   "mimetype": "text/x-python",
   "name": "python",
   "nbconvert_exporter": "python",
   "pygments_lexer": "ipython3",
   "version": "3.5.0"
  }
 },
 "nbformat": 4,
 "nbformat_minor": 2
}
