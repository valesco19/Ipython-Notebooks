{
 "cells": [
  {
   "cell_type": "code",
   "execution_count": 1,
   "metadata": {
    "collapsed": false,
    "deletable": true,
    "editable": true
   },
   "outputs": [],
   "source": [
    "%load_ext Cython\n",
    "#%load_ext cythonmagic\n",
    "import numpy as np\n",
    "from itertools import combinations, chain\n",
    "from scipy.misc import comb\n",
    "from datetime import datetime\n",
    "import pandas as pd\n",
    "import cython\n",
    "from fuzzywuzzy import process\n",
    "import os"
   ]
  },
  {
   "cell_type": "code",
   "execution_count": 2,
   "metadata": {
    "collapsed": false,
    "deletable": true,
    "editable": true
   },
   "outputs": [],
   "source": [
    "os.chdir('/home/valesco/Datasets/PGA_Data/pga_temp')\n",
    "sals = pd.read_csv('rbc_heritage_salaries.csv', sep = ';')\n",
    "sals = sals[['player_name', 'salary']]\n",
    "pid_df = pd.read_csv('/home/valesco/Datasets/PGA_Data/pga_master_files/player_ids.csv',\n",
    "                    sep = ';')"
   ]
  },
  {
   "cell_type": "code",
   "execution_count": 3,
   "metadata": {
    "collapsed": false,
    "deletable": true,
    "editable": true
   },
   "outputs": [
    {
     "data": {
      "text/html": [
       "<div>\n",
       "<table border=\"1\" class=\"dataframe\">\n",
       "  <thead>\n",
       "    <tr style=\"text-align: right;\">\n",
       "      <th></th>\n",
       "      <th>player_name</th>\n",
       "      <th>salary</th>\n",
       "      <th>player_id</th>\n",
       "    </tr>\n",
       "  </thead>\n",
       "  <tbody>\n",
       "    <tr>\n",
       "      <th>0</th>\n",
       "      <td>Matt Kuchar</td>\n",
       "      <td>11500</td>\n",
       "      <td>23108</td>\n",
       "    </tr>\n",
       "    <tr>\n",
       "      <th>1</th>\n",
       "      <td>Russell Henley</td>\n",
       "      <td>10700</td>\n",
       "      <td>34098</td>\n",
       "    </tr>\n",
       "    <tr>\n",
       "      <th>2</th>\n",
       "      <td>Brandt Snedeker</td>\n",
       "      <td>10500</td>\n",
       "      <td>27649</td>\n",
       "    </tr>\n",
       "    <tr>\n",
       "      <th>3</th>\n",
       "      <td>Branden Grace</td>\n",
       "      <td>10000</td>\n",
       "      <td>29974</td>\n",
       "    </tr>\n",
       "    <tr>\n",
       "      <th>4</th>\n",
       "      <td>Kevin Kisner</td>\n",
       "      <td>9700</td>\n",
       "      <td>29478</td>\n",
       "    </tr>\n",
       "  </tbody>\n",
       "</table>\n",
       "</div>"
      ],
      "text/plain": [
       "       player_name  salary  player_id\n",
       "0      Matt Kuchar   11500      23108\n",
       "1   Russell Henley   10700      34098\n",
       "2  Brandt Snedeker   10500      27649\n",
       "3    Branden Grace   10000      29974\n",
       "4     Kevin Kisner    9700      29478"
      ]
     },
     "execution_count": 3,
     "metadata": {},
     "output_type": "execute_result"
    }
   ],
   "source": [
    "def fuzz_match(x):\n",
    "    matched = process.extractOne(x, player_names)\n",
    "    if matched[1] > 89:\n",
    "        return int(pid_df['player_id'].loc[pid_df['player_name'] == matched[0]].values[0])\n",
    "    else:\n",
    "        print(x)\n",
    "        return \"NAN\"\n",
    "    \n",
    "player_names = pid_df['player_name'].unique()\n",
    "\n",
    "sals['player_id'] = sals['player_name'].apply(lambda x: fuzz_match(x))\n",
    "\n",
    "sals.head()"
   ]
  },
  {
   "cell_type": "code",
   "execution_count": 4,
   "metadata": {
    "collapsed": false,
    "deletable": true,
    "editable": true
   },
   "outputs": [
    {
     "data": {
      "text/plain": [
       "dtype('int16')"
      ]
     },
     "execution_count": 4,
     "metadata": {},
     "output_type": "execute_result"
    }
   ],
   "source": [
    "pid_ls = sals['player_id'].values\n",
    "pid_ls = pid_ls.astype(np.int32)\n",
    "sal_ls = sals['salary'].values\n",
    "sal_ls = sal_ls.astype(np.int16)\n",
    "sal_ls[0].dtype"
   ]
  },
  {
   "cell_type": "code",
   "execution_count": 5,
   "metadata": {
    "collapsed": false,
    "deletable": true,
    "editable": true
   },
   "outputs": [
    {
     "data": {
      "text/plain": [
       "132"
      ]
     },
     "execution_count": 5,
     "metadata": {},
     "output_type": "execute_result"
    }
   ],
   "source": [
    "pid_ls.shape[0]"
   ]
  },
  {
   "cell_type": "code",
   "execution_count": 6,
   "metadata": {
    "collapsed": false,
    "deletable": true,
    "editable": true
   },
   "outputs": [],
   "source": [
    "%%cython\n",
    "import numpy as np\n",
    "cimport numpy as np\n",
    "\n",
    "def create_combos(sal_array, pid_array, r):\n",
    "    cdef int pid_num = pid_array.shape[0]\n",
    "    cdef int sal_num = sal_array.shape[0]\n",
    "    cdef np.ndarray combos = np.zeros([10000000,r], dtype = np.int32)\n",
    "    cdef np.ndarray temp = np.zeros([1,r], dtype = np.int32)\n",
    "    cdef int count = 0\n",
    "    \n",
    "    for p1 in range(pid_num):\n",
    "        for p2 in range(pid_num):\n",
    "            for p3 in range(pid_num):\n",
    "                for p4 in range(pid_num):\n",
    "                    for p5 in range(pid_num):\n",
    "                        for p6 in range(pid_num):\n",
    "                            temp = np.array([pid_array[p1], pid_array[p2], pid_array[p3], pid_array[p4], pid_array[p5], pid_array[p6]]).astype(np.int32)\n",
    "\n",
    "                            if count < 10000000:\n",
    "                                combos[count] = temp\n",
    "                                count += 1\n",
    "                    \n",
    "    return combos"
   ]
  },
  {
   "cell_type": "code",
   "execution_count": null,
   "metadata": {
    "collapsed": false,
    "deletable": true,
    "editable": true
   },
   "outputs": [],
   "source": [
    "start = datetime.now()\n",
    "combo_array = create_combos(sal_ls, pid_ls, 6)\n",
    "#print(len(combo_array))\n",
    "elapsed = (datetime.now() - start)\n",
    "elapsed.hours"
   ]
  },
  {
   "cell_type": "code",
   "execution_count": 132,
   "metadata": {
    "collapsed": false,
    "deletable": true,
    "editable": true
   },
   "outputs": [
    {
     "data": {
      "text/plain": [
       "array([1, 3, 5])"
      ]
     },
     "execution_count": 132,
     "metadata": {},
     "output_type": "execute_result"
    }
   ],
   "source": [
    "x = [1,5,3]\n",
    "np.sort(x, axis = 0)"
   ]
  },
  {
   "cell_type": "code",
   "execution_count": 99,
   "metadata": {
    "collapsed": false,
    "deletable": true,
    "editable": true
   },
   "outputs": [
    {
     "data": {
      "text/plain": [
       "array([[0, 1, 2],\n",
       "       [3, 4, 5],\n",
       "       [6, 7, 8],\n",
       "       [3, 9, 5]])"
      ]
     },
     "execution_count": 99,
     "metadata": {},
     "output_type": "execute_result"
    }
   ],
   "source": [
    "test_array = np.arange(12).reshape([4,3])\n",
    "\n",
    "m = np.array([3,9,5]).astype(np.int16)\n",
    "\n",
    "test_array[3] = m\n",
    "test_array"
   ]
  },
  {
   "cell_type": "code",
   "execution_count": null,
   "metadata": {
    "collapsed": true,
    "deletable": true,
    "editable": true
   },
   "outputs": [],
   "source": [
    "print('done')"
   ]
  },
  {
   "cell_type": "code",
   "execution_count": null,
   "metadata": {
    "collapsed": true
   },
   "outputs": [],
   "source": []
  }
 ],
 "metadata": {
  "kernelspec": {
   "display_name": "Python 3",
   "language": "python",
   "name": "python3"
  },
  "language_info": {
   "codemirror_mode": {
    "name": "ipython",
    "version": 3
   },
   "file_extension": ".py",
   "mimetype": "text/x-python",
   "name": "python",
   "nbconvert_exporter": "python",
   "pygments_lexer": "ipython3",
   "version": "3.5.0"
  }
 },
 "nbformat": 4,
 "nbformat_minor": 2
}
