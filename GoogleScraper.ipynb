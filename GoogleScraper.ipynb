{
 "cells": [
  {
   "cell_type": "code",
   "execution_count": 1,
   "metadata": {
    "collapsed": true,
    "deletable": true,
    "editable": true
   },
   "outputs": [],
   "source": [
    "from selenium import webdriver\n",
    "from selenium.webdriver.common.keys import Keys\n",
    "from selenium.webdriver.support.ui import Select\n",
    "import time\n",
    "import os\n",
    "import smtplib\n",
    "import json\n",
    "import base64\n",
    "from datetime import datetime\n",
    "from email.mime.text import MIMEText\n",
    "from email.mime.multipart import MIMEMultipart\n",
    "from bs4 import BeautifulSoup\n",
    "from random import shuffle\n",
    "chromedriver = 'C:/Users/Medcomp/Anaconda3/selenium/webdriver/Chrome/chromedriver'\n",
    "os.environ['webdriver.chrome.driver'] = chromedriver"
   ]
  },
  {
   "cell_type": "code",
   "execution_count": 3,
   "metadata": {
    "collapsed": false,
    "deletable": true,
    "editable": true
   },
   "outputs": [
    {
     "name": "stdout",
     "output_type": "stream",
     "text": [
      "Key:  baton rouge industry\n",
      "Key:  data science trend\n",
      "Key:  data pipeline\n",
      "Key:  icd10 business\n",
      "Key:  data science project\n",
      "Key:  democratizing data\n",
      "Key:  machine learning breakthrough\n",
      "Key:  democratizing tools\n",
      "Key:  chatbot\n",
      "Key:  next gold rush\n",
      "Key:  startup trend\n",
      "email sent 12_05_2016_23:52\n"
     ]
    }
   ],
   "source": [
    "url = 'https://www.google.com'\n",
    "keyword_ls = ['machine learning breakthrough', 'next gold rush', 'data science trend', 'baton rouge industry',\n",
    "             'startup trend', 'democratizing data', 'icd10 business', 'chatbot', 'data science project', \n",
    "             'data pipeline', 'democratizing tools']\n",
    "\n",
    "shuffle(keyword_ls)\n",
    "\n",
    "def google(url, keyword):\n",
    "    browser = webdriver.Chrome()\n",
    "    browser.get(url)\n",
    "    #Search for terms and narrow search\n",
    "    search_box = browser.find_element_by_xpath('//*[@id=\"lst-ib\"]')\n",
    "    search_box.send_keys(keyword + Keys.ENTER)\n",
    "    time.sleep(3)\n",
    "    \n",
    "    search_tools = browser.find_element_by_xpath('//*[@id=\"hdtb-tls\"]')\n",
    "    search_tools.click()\n",
    "    time.sleep(3)\n",
    "    \n",
    "    any_time_dd = browser.find_element_by_xpath('//div[@aria-label=\"Any time\"]')\n",
    "    any_time_dd.click()\n",
    "    \n",
    "    past_week = browser.find_element_by_xpath('//*[@id=\"qdr_w\"]')\n",
    "    past_week.click()\n",
    "    \n",
    "    time.sleep(3)\n",
    "    \n",
    "    return browser\n",
    "\n",
    "def retrieve_urls(browser):\n",
    "    \n",
    "    results = browser.find_elements_by_xpath('//*[@id=\"rso\"]/div')\n",
    "    urls = []\n",
    "    for result in results:\n",
    "        temp = result.find_elements_by_xpath('//a')\n",
    "        urls.append(temp)\n",
    "    time.sleep(5)\n",
    "    return browser, urls\n",
    "\n",
    "\n",
    "    \n",
    "def scrape(page_num, url, keyword):\n",
    "    complete_urls = []\n",
    "    \n",
    "    goog_browser = google(url, keyword)  \n",
    "\n",
    "    for r in range(page_num):\n",
    "        time.sleep(3)\n",
    "        goog_browser, temp_urls = retrieve_urls(goog_browser)\n",
    "        for t, temp in enumerate(temp_urls):\n",
    "            i = 0\n",
    "            if t < (page_num - 2):\n",
    "                for t in temp:\n",
    "                    if len(t.text) > 20:\n",
    "                        i += 1\n",
    "                        text = str(t.text)\n",
    "                        href = str(t.get_attribute('href'))\n",
    "                        complete_urls.append(' ' + keyword + ': ' + str(r) + '_' + str(i))\n",
    "                        complete_urls.append(text)\n",
    "                        complete_urls.append(href)\n",
    "                        complete_urls.append('\\n')\n",
    "\n",
    "\n",
    "        next_btn = goog_browser.find_element_by_xpath('//*[@id=\"pnnext\"]/span[2]')\n",
    "        next_btn.click()\n",
    "        \n",
    "    message = '\\n'.join(complete_urls)\n",
    "    goog_browser.close()\n",
    "    return message\n",
    "     \n",
    "            \n",
    "def send_email(message, sender, receiver):\n",
    "    now_string = time.strftime('%m_%d_%Y_%H:%M')\n",
    "    msg = MIMEMultipart('alternative')\n",
    "    msg['Subject'] = 'Google Scrape ' + now_string\n",
    "    msg['From'] = sender\n",
    "    msg['To'] = receiver\n",
    "    body = MIMEText(message, 'plain')\n",
    "    msg.attach(body)\n",
    "    \n",
    "    gmail_user = 'valesco19@gmail.com'\n",
    "    gmail_pwd = '1QAZCDE35TGB'\n",
    "\n",
    "    server = smtplib.SMTP('smtp.gmail.com',587)\n",
    "    server.ehlo()\n",
    "    server.starttls()\n",
    "    server.login(gmail_user, gmail_pwd)\n",
    "    server.sendmail(sender, receiver, msg.as_string())\n",
    "    server.close()\n",
    "    \n",
    "    file = '/home/valesco/Datasets/Google_Scraps/Google_scrap' + now_string + '.txt'\n",
    "    with open(file, 'w') as f:\n",
    "        f.write(\"\\n\".join(map(lambda x: str(x), message)))\n",
    "        f.close()\n",
    "    print('email sent ' + now_string)\n",
    "\n",
    "#while True:\n",
    "#try:\n",
    "msg = []\n",
    "for key in keyword_ls:\n",
    "    print(\"Key: \", key)\n",
    "    msg.append(scrape(3, url, key))\n",
    "\n",
    "msg = '\\n'.join(msg)\n",
    "\n",
    "sender = 'valesco19@gmail.com'\n",
    "receiver = 'valesco19@gmail.com'\n",
    "\n",
    "send_email(msg, sender, receiver)\n",
    "#time.sleep(86400)\n",
    "#except:\n",
    "    #print('email failed!')\n",
    "    #time.sleep(3200)"
   ]
  },
  {
   "cell_type": "code",
   "execution_count": null,
   "metadata": {
    "collapsed": false,
    "deletable": true,
    "editable": true
   },
   "outputs": [],
   "source": []
  },
  {
   "cell_type": "code",
   "execution_count": null,
   "metadata": {
    "collapsed": false,
    "deletable": true,
    "editable": true
   },
   "outputs": [],
   "source": []
  },
  {
   "cell_type": "code",
   "execution_count": null,
   "metadata": {
    "collapsed": false,
    "deletable": true,
    "editable": true
   },
   "outputs": [],
   "source": [
    "\n",
    "\n",
    "    \n"
   ]
  },
  {
   "cell_type": "code",
   "execution_count": null,
   "metadata": {
    "collapsed": false,
    "deletable": true,
    "editable": true
   },
   "outputs": [],
   "source": []
  },
  {
   "cell_type": "code",
   "execution_count": null,
   "metadata": {
    "collapsed": false,
    "deletable": true,
    "editable": true
   },
   "outputs": [],
   "source": []
  },
  {
   "cell_type": "code",
   "execution_count": null,
   "metadata": {
    "collapsed": true,
    "deletable": true,
    "editable": true
   },
   "outputs": [],
   "source": []
  }
 ],
 "metadata": {
  "anaconda-cloud": {},
  "kernelspec": {
   "display_name": "Python 3",
   "language": "python",
   "name": "python3"
  },
  "language_info": {
   "codemirror_mode": {
    "name": "ipython",
    "version": 3
   },
   "file_extension": ".py",
   "mimetype": "text/x-python",
   "name": "python",
   "nbconvert_exporter": "python",
   "pygments_lexer": "ipython3",
   "version": "3.5.0"
  }
 },
 "nbformat": 4,
 "nbformat_minor": 0
}
