{
 "cells": [
  {
   "cell_type": "code",
   "execution_count": 11,
   "metadata": {
    "collapsed": false
   },
   "outputs": [],
   "source": [
    "import requests\n",
    "import os\n",
    "import json\n",
    "import pandas as pd\n",
    "import numpy as np\n",
    "from datetime import datetime\n",
    "from googlefinance import getQuotes"
   ]
  },
  {
   "cell_type": "code",
   "execution_count": 66,
   "metadata": {
    "collapsed": false
   },
   "outputs": [],
   "source": [
    "#quantl_api = 'p3VeDwyv_sj6Bw9ZLgJQ'\n",
    "\n",
    "index_symbols = ['USO', 'NDX', 'DJT', 'SPX', 'XOI', 'SOX', 'XAU', 'CBOE', 'XX:MXDOW', 'AU:XAO',\n",
    "                 'JP:NIK', 'XX:SGDOW', 'XX:DWBRDT', 'XX:CLDOW', 'XX:CHDOW', 'DX:DAX', 'XX:ZADOW', \n",
    "                 'AIA', 'IEV', 'ILF', 'SGL', 'IPW']\n",
    "\n",
    "\n",
    "def return_quote(symbol):\n",
    "    data = json.loads(json.dumps(getQuotes(symbol), indent = 2))\n",
    "        \n",
    "    return data\n",
    "\n",
    "\n",
    "price_ls = []\n",
    "symbol_ls = []\n",
    "\n",
    "for symbol in index_symbols:\n",
    "    data = return_quote(symbol)\n",
    "    \n",
    "    price = data[0]['LastTradePrice']\n",
    "    \n",
    "    price_ls.append(price)\n",
    "    symbol_ls.append(symbol)\n",
    "    \n",
    "\n",
    "index_df = pd.DataFrame({'symbol': symbol_ls, 'price': price_ls, 'datetime_retrieved': now})\n",
    "\n"
   ]
  },
  {
   "cell_type": "code",
   "execution_count": 64,
   "metadata": {
    "collapsed": false
   },
   "outputs": [],
   "source": [
    "data = json.loads(json.dumps(getQuotes('IPW'), indent = 2))"
   ]
  },
  {
   "cell_type": "code",
   "execution_count": 65,
   "metadata": {
    "collapsed": false
   },
   "outputs": [
    {
     "data": {
      "text/plain": [
       "[{'ID': '12971916',\n",
       "  'Index': 'OTCMKTS',\n",
       "  'LastTradeDateTime': '2017-05-12T16:00:00Z',\n",
       "  'LastTradeDateTimeLong': 'May 12, 4:00PM EDT',\n",
       "  'LastTradePrice': '0.0800',\n",
       "  'LastTradeTime': '4:00PM EDT',\n",
       "  'LastTradeWithCurrency': '0.08',\n",
       "  'StockSymbol': 'CSSI'}]"
      ]
     },
     "execution_count": 65,
     "metadata": {},
     "output_type": "execute_result"
    }
   ],
   "source": [
    "data"
   ]
  },
  {
   "cell_type": "code",
   "execution_count": null,
   "metadata": {
    "collapsed": true
   },
   "outputs": [],
   "source": [
    "now = datetime.now()\n",
    "now.strftime('')"
   ]
  }
 ],
 "metadata": {
  "kernelspec": {
   "display_name": "Python 3",
   "language": "python",
   "name": "python3"
  },
  "language_info": {
   "codemirror_mode": {
    "name": "ipython",
    "version": 3
   },
   "file_extension": ".py",
   "mimetype": "text/x-python",
   "name": "python",
   "nbconvert_exporter": "python",
   "pygments_lexer": "ipython3",
   "version": "3.5.0"
  }
 },
 "nbformat": 4,
 "nbformat_minor": 2
}
