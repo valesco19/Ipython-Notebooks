{
 "cells": [
  {
   "cell_type": "code",
   "execution_count": 2,
   "metadata": {
    "collapsed": true
   },
   "outputs": [],
   "source": [
    "from pulp import *\n",
    "import csv\n",
    "import numpy as np\n",
    "import pandas as pd"
   ]
  },
  {
   "cell_type": "code",
   "execution_count": 115,
   "metadata": {
    "collapsed": false
   },
   "outputs": [
    {
     "name": "stderr",
     "output_type": "stream",
     "text": [
      "/home/valesco/anaconda3/lib/python3.5/site-packages/ipykernel/__main__.py:2: SettingWithCopyWarning: \n",
      "A value is trying to be set on a copy of a slice from a DataFrame.\n",
      "Try using .loc[row_indexer,col_indexer] = value instead\n",
      "\n",
      "See the caveats in the documentation: http://pandas.pydata.org/pandas-docs/stable/indexing.html#indexing-view-versus-copy\n",
      "  from ipykernel import kernelapp as app\n"
     ]
    },
    {
     "data": {
      "text/html": [
       "<div>\n",
       "<table border=\"1\" class=\"dataframe\">\n",
       "  <thead>\n",
       "    <tr style=\"text-align: right;\">\n",
       "      <th></th>\n",
       "      <th>name</th>\n",
       "      <th>salary</th>\n",
       "      <th>avg_points</th>\n",
       "      <th>odds</th>\n",
       "    </tr>\n",
       "  </thead>\n",
       "  <tbody>\n",
       "    <tr>\n",
       "      <th>0</th>\n",
       "      <td>Jason Day</td>\n",
       "      <td>12300</td>\n",
       "      <td>82.875</td>\n",
       "      <td>8.0</td>\n",
       "    </tr>\n",
       "    <tr>\n",
       "      <th>1</th>\n",
       "      <td>Dustin Johnson</td>\n",
       "      <td>12000</td>\n",
       "      <td>91.643</td>\n",
       "      <td>8.0</td>\n",
       "    </tr>\n",
       "    <tr>\n",
       "      <th>2</th>\n",
       "      <td>Rory McIlroy</td>\n",
       "      <td>11900</td>\n",
       "      <td>83.867</td>\n",
       "      <td>9.0</td>\n",
       "    </tr>\n",
       "    <tr>\n",
       "      <th>3</th>\n",
       "      <td>Jordan Spieth</td>\n",
       "      <td>11700</td>\n",
       "      <td>81.633</td>\n",
       "      <td>10.0</td>\n",
       "    </tr>\n",
       "    <tr>\n",
       "      <th>4</th>\n",
       "      <td>Adam Scott</td>\n",
       "      <td>10600</td>\n",
       "      <td>84.231</td>\n",
       "      <td>22.0</td>\n",
       "    </tr>\n",
       "  </tbody>\n",
       "</table>\n",
       "</div>"
      ],
      "text/plain": [
       "             name  salary  avg_points  odds\n",
       "0       Jason Day   12300      82.875   8.0\n",
       "1  Dustin Johnson   12000      91.643   8.0\n",
       "2    Rory McIlroy   11900      83.867   9.0\n",
       "3   Jordan Spieth   11700      81.633  10.0\n",
       "4      Adam Scott   10600      84.231  22.0"
      ]
     },
     "execution_count": 115,
     "metadata": {},
     "output_type": "execute_result"
    }
   ],
   "source": [
    "final_df.columns = ['name', 'salary', 'avg_points', 'odds']\n",
    "final_df['odds'] = final_df['odds']/ 10\n",
    "os.chdir('/home/valesco/Documents/')\n",
    "final_df.to_csv('British.csv')\n",
    "\n",
    "final_df.head()"
   ]
  },
  {
   "cell_type": "code",
   "execution_count": 99,
   "metadata": {
    "collapsed": false
   },
   "outputs": [],
   "source": [
    "in_file = \"British.csv\"\n",
    "reader = csv.DictReader(open(in_file, 'r'))\n",
    "player_dict = []\n",
    "for i , row in enumerate(reader):\n",
    "    t = {k: v for k, v in row.items()}\n",
    "    t['id'] = i\n",
    "    player_dict.append(t)\n",
    "    \n",
    "# Create an empty LP\n",
    "IP = LpProblem(\"Golf Optimization\", LpMinimize)\n",
    "\n",
    "# Create a list of the teams and player IDs\n",
    "teams = [i for i in range(10)]\n",
    "players = [player['id'] for player in player_dict]\n",
    "\n",
    "# Create binary decision variables for which player ends up on which team\n",
    "possible_assignments = LpVariable.dicts(\"x\", (teams, players), 0, 1, LpBinary)\n",
    "\n",
    "# Add in the objective function\n",
    "IP += sum([float(player['odds']) * possible_assignments[team][player['id']] for player in player_dict for team in teams])\n",
    "#IP += \n",
    "\n",
    "for team in teams:\n",
    "    IP += lpSum([possible_assignments[team][player['id']] for player in player_dict]) == 6, '6 players per team '+str(team)\n",
    "    IP += sum([float(player['salary']) * possible_assignments[team][player['id']] for player in player_dict]) <= 50000\n",
    "    IP += sum([float(player['odds']) < 15 for player in player_dict]) > 0, '1 favorite per team'\n",
    "    #IP += lpSum([possible_assignments[t][p['id']] for p in d if p['Group'] == 'A']) == 1, '1 A per team '+str(t)\n",
    "    #IP += lpSum([possible_assignments[t][p['id']] for p in d if p['Group'] == 'B']) == 2, '2 B per team '+str(t)\n",
    "    #IP += lpSum([possible_assignments[t][p['id']] for p in d if p['Group'] == 'C']) == 3, '3 C per team '+str(t)\n",
    "    #IP += lpSum([possible_assignments[t][p['id']] for p in d if p['Group'] == 'D']) == 2, '2 D per team '+str(t)\n",
    "    \n",
    "    \n",
    "    \n",
    "    \n",
    "# Write out the LP formulation\n",
    "IP.writeLP('simple optimization.lp')"
   ]
  },
  {
   "cell_type": "code",
   "execution_count": 100,
   "metadata": {
    "collapsed": false
   },
   "outputs": [
    {
     "name": "stdout",
     "output_type": "stream",
     "text": [
      "Status: Optimal\n"
     ]
    }
   ],
   "source": [
    "# Solve the LP\n",
    "IP.solve()\n",
    "\n",
    "# Print out the LP solution status\n",
    "print(\"Status:\", LpStatus[IP.status])"
   ]
  },
  {
   "cell_type": "code",
   "execution_count": 106,
   "metadata": {
    "collapsed": false
   },
   "outputs": [
    {
     "name": "stdout",
     "output_type": "stream",
     "text": [
      "The players chosen for team 1 are:\n",
      "32\n",
      "114\n",
      "115\n",
      "116\n",
      "119\n",
      "120\n",
      "Total Salary - 34800, Avg odds to win - 57916\n"
     ]
    }
   ],
   "source": [
    "# Print out some results\n",
    "print(\"The players chosen for team 1 are:\")\n",
    "\n",
    "opt_salary = []\n",
    "opt_odds = []\n",
    "for player in player_dict:\n",
    "    if possible_assignments[1][player['id']].value() == 1.0:\n",
    "        print(player['id'])\n",
    "        opt_odds.append(float(player['odds']))\n",
    "        opt_salary.append(int(player['salary']))\n",
    "\n",
    "print('Total Salary - %i, Avg odds to win - %i' % (sum(opt_salary), np.mean(opt_odds)))\n",
    "        "
   ]
  },
  {
   "cell_type": "code",
   "execution_count": 5,
   "metadata": {
    "collapsed": true
   },
   "outputs": [],
   "source": [
    "#Cat food simplified Model\n",
    "#Create the problem variable to contain the problem data\n",
    "prob = LpProblem('The Whiskas Problem', LpMinimize)\n",
    "\n",
    "#Create 2 variables Beef and Chicken with lower limit of 0\n",
    "x1 = LpVariable('Chick Percent', 0, None, LpInteger)\n",
    "x2 = LpVariable('Beef Percent', 0)\n",
    "\n",
    "#Create the objective of the optimization\n",
    "prob += 0.013 * x1 + 0.008 * x2, \"Total Cost of Ingredients per can\"\n",
    "\n",
    "#Create 5 constraints\n",
    "prob += x1 + x2 == 100, 'Percentage Sum'\n",
    "prob += 0.100 * x1 + 0.200 * x2 >= 8.0, 'Protein Requirement'\n",
    "prob += 0.080 * x1 + 0.100 * x2 >= 6.0, 'Fat Requirement'\n",
    "prob += 0.001 * x1 + 0.005 * x2 <= 2.0, 'Fiber Requirement'\n",
    "prob += 0.002 * x1 + 0.005 * x2 <= 0.4, 'Salt Rquirement'"
   ]
  },
  {
   "cell_type": "code",
   "execution_count": 6,
   "metadata": {
    "collapsed": false
   },
   "outputs": [
    {
     "name": "stdout",
     "output_type": "stream",
     "text": [
      "Status:  Optimal\n"
     ]
    }
   ],
   "source": [
    "# Solve problem\n",
    "prob.solve()\n",
    "print('Status: ', LpStatus[prob.status])"
   ]
  },
  {
   "cell_type": "code",
   "execution_count": 7,
   "metadata": {
    "collapsed": false
   },
   "outputs": [
    {
     "name": "stdout",
     "output_type": "stream",
     "text": [
      "Beef_Percent  =  66.0\n",
      "Chick_Percent  =  34.0\n"
     ]
    }
   ],
   "source": [
    "for v in prob.variables():\n",
    "    print(v.name, ' = ', v.varValue)"
   ]
  },
  {
   "cell_type": "code",
   "execution_count": 8,
   "metadata": {
    "collapsed": false
   },
   "outputs": [
    {
     "name": "stdout",
     "output_type": "stream",
     "text": [
      "Total Cost of Ingredients per can =  0.97\n"
     ]
    }
   ],
   "source": [
    "# The optimized objective function value is printed to the screen\n",
    "print('Total Cost of Ingredients per can = ', value(prob.objective))"
   ]
  },
  {
   "cell_type": "code",
   "execution_count": 9,
   "metadata": {
    "collapsed": true
   },
   "outputs": [],
   "source": [
    "#Cat food full version\n",
    "# Create a list of ingredients\n",
    "Ingredients = ['Chicken', 'Beef', 'Mutton', 'Rice', 'Wheat', 'Gel']\n",
    "\n",
    "# Dict of the cost of each ingredient\n",
    "costs = {'Chicken': 0.013,\n",
    "         'Beef': 0.008,\n",
    "         'Mutton': 0.010,\n",
    "         'Rice': 0.002,\n",
    "         'Wheat': 0.005,\n",
    "         'Gel': 0.001}\n",
    "\n",
    "# Dict of protein percent\n",
    "proteinPercent = {'Chicken': 0.100,\n",
    "                  'Beef': 0.200,\n",
    "                  'Mutton': 0.150,\n",
    "                  'Rice': 0.000,\n",
    "                  'Wheat': 0.040,\n",
    "                  'Gel': 0.000}\n",
    "\n",
    "# A dictionary of the fat percent\n",
    "fatPercent = {'Chicken': 0.080,\n",
    "              'Beef': 0.100,\n",
    "              'Mutton': 0.110,\n",
    "              'Rice': 0.010,\n",
    "              'Wheat': 0.010,\n",
    "              'Gel': 0.000}\n",
    "\n",
    "# Dict of fiber\n",
    "fiberPercent = {'Chicken': 0.001,\n",
    "                'Beef': 0.005,\n",
    "                'Mutton': 0.003,\n",
    "                'Rice': 0.100,\n",
    "                'Wheat': 0.150,\n",
    "                'Gel': 0.000}\n",
    "\n",
    "# Dict of salt percent\n",
    "saltPercent = {'Chicken': 0.002,\n",
    "               'Beef': 0.005,\n",
    "               'Mutton': 0.007,\n",
    "               'Rice': 0.002,\n",
    "               'Wheat': 0.008,\n",
    "               'Gel': 0.000}"
   ]
  },
  {
   "cell_type": "code",
   "execution_count": 10,
   "metadata": {
    "collapsed": false
   },
   "outputs": [],
   "source": [
    "# Create the 'prob' variable to contain the problem data\n",
    "prob = LpProblem('The Whiskas Problem', LpMinimize)\n",
    "\n",
    "# Dict called ingredient vars to contain reference variables\n",
    "ingredient_vars = LpVariable.dicts(\"Ingr\",Ingredients,0)\n",
    "\n",
    "# The objective funct is added to prob first\n",
    "prob += lpSum([costs[i] * ingredient_vars[i] for i in Ingredients]), 'Total Cost of Ingredients per can'\n",
    "\n",
    "# The five constraints are added to 'prob'\n",
    "prob += lpSum([ingredient_vars[i] for i in Ingredients]) == 100, \"PercentagesSum\"\n",
    "prob += lpSum([proteinPercent[i] * ingredient_vars[i] for i in Ingredients]) >= 8.0, \"ProteinRequirement\"\n",
    "prob += lpSum([fatPercent[i] * ingredient_vars[i] for i in Ingredients]) >= 6.0, \"FatRequirement\"\n",
    "prob += lpSum([fiberPercent[i] * ingredient_vars[i] for i in Ingredients]) <= 2.0, \"FibreRequirement\"\n",
    "prob += lpSum([saltPercent[i] * ingredient_vars[i] for i in Ingredients]) <= 0.4, \"SaltRequirement\""
   ]
  },
  {
   "cell_type": "code",
   "execution_count": 11,
   "metadata": {
    "collapsed": false
   },
   "outputs": [
    {
     "name": "stdout",
     "output_type": "stream",
     "text": [
      "Status:  Optimal\n"
     ]
    }
   ],
   "source": [
    "# Solve problem\n",
    "prob.solve()\n",
    "print('Status: ', LpStatus[prob.status])"
   ]
  },
  {
   "cell_type": "code",
   "execution_count": 12,
   "metadata": {
    "collapsed": false
   },
   "outputs": [
    {
     "name": "stdout",
     "output_type": "stream",
     "text": [
      "Ingr_Beef  =  60.0\n",
      "Ingr_Chicken  =  0.0\n",
      "Ingr_Gel  =  40.0\n",
      "Ingr_Mutton  =  0.0\n",
      "Ingr_Rice  =  0.0\n",
      "Ingr_Wheat  =  0.0\n"
     ]
    }
   ],
   "source": [
    "for v in prob.variables():\n",
    "    print(v.name, ' = ', v.varValue)"
   ]
  },
  {
   "cell_type": "code",
   "execution_count": 13,
   "metadata": {
    "collapsed": false
   },
   "outputs": [
    {
     "name": "stdout",
     "output_type": "stream",
     "text": [
      "Total Cost of Ingredients per can =  0.52\n"
     ]
    }
   ],
   "source": [
    "# The optimized objective function value is printed to the screen\n",
    "print('Total Cost of Ingredients per can = ', value(prob.objective))"
   ]
  },
  {
   "cell_type": "code",
   "execution_count": 116,
   "metadata": {
    "collapsed": true
   },
   "outputs": [],
   "source": [
    "in_file = \"British.csv\"\n",
    "reader = csv.DictReader(open(in_file, 'r'))\n",
    "player_dict = []\n",
    "for i , row in enumerate(reader):\n",
    "    team = {k: v for k, v in row.items()}\n",
    "    team['id'] = i\n",
    "    player_dict.append(team)\n",
    "    "
   ]
  },
  {
   "cell_type": "code",
   "execution_count": 144,
   "metadata": {
    "collapsed": false
   },
   "outputs": [],
   "source": [
    "teams = [i for i in range(10)]\n",
    "players = [player['id'] for player in player_dict]\n",
    "\n",
    "\n",
    "golf = LpProblem('US Open', LpMinimize)\n",
    "\n",
    "possible_assignments = LpVariable.dicts(\"possible\", (teams, players), 0, 1, LpBinary)\n",
    "\n",
    "#objective\n",
    "golf += sum([float(player['odds']) * possible_assignments[team][player['id']] for player in player_dict for team in teams])\n",
    "\n",
    "for team in teams:\n",
    "    golf += lpSum([possible_assignments[team][player['id']] for player in player_dict]) == 6, '6 players per team '+str(team)\n",
    "    golf += sum([float(player['salary']) * possible_assignments[team][player['id']] for player in player_dict]) <= 50000\n",
    "    golf += lpSum([possible_assignments[team][player['id']] for player in player_dict if float(player['odds']) < 15]) >= 1\n",
    "    #golf += lpSum([possible_assignments[team][player['id']] for player in player_dict if float(player['Odds']) < 20]) >= 2\n",
    "    golf += lpSum([possible_assignments[team][player['id']] for player in player_dict if player['name'] == 'Zach Johnson']) == 0\n",
    "    golf += lpSum([possible_assignments[team][player['id']] for player in player_dict if player['name'] == 'Bubba Watson']) == 0\n",
    "    golf += lpSum([possible_assignments[team][player['id']] for player in player_dict if player['name'] == 'Jon Rahm']) == 1\n",
    "    golf += lpSum([possible_assignments[team][player['id']] for player in player_dict if player['name'] == 'Phil Mickelson']) == 0"
   ]
  },
  {
   "cell_type": "code",
   "execution_count": 145,
   "metadata": {
    "collapsed": false,
    "scrolled": true
   },
   "outputs": [
    {
     "name": "stdout",
     "output_type": "stream",
     "text": [
      "Status:  Optimal\n"
     ]
    }
   ],
   "source": [
    "golf.writeLP('masters_optimization.lp')\n",
    "golf.solve()\n",
    "print('Status: ', LpStatus[golf.status])\n"
   ]
  },
  {
   "cell_type": "code",
   "execution_count": 146,
   "metadata": {
    "collapsed": false
   },
   "outputs": [
    {
     "name": "stdout",
     "output_type": "stream",
     "text": [
      "The players chosen for team 1 are:\n",
      "Jordan Spieth- odds: 10.0 salary: 11700\n",
      "Shane Lowry- odds: 45.0 salary: 8800\n",
      "Patrick Reed- odds: 55.0 salary: 7900\n",
      "Charl Schwartzel- odds: 66.0 salary: 7800\n",
      "Andy Sullivan- odds: 80.0 salary: 7200\n",
      "Jon Rahm- odds: 150.0 salary: 6600\n",
      "Total Salary - 50000, Avg odds to win - 67\n"
     ]
    }
   ],
   "source": [
    "# Print out some results\n",
    "print(\"The players chosen for team 1 are:\")\n",
    "\n",
    "opt_salary = []\n",
    "opt_odds = []\n",
    "for player in player_dict:\n",
    "    if possible_assignments[1][player['id']].value() == 1.0:\n",
    "        print(player['name']+ '- odds: ' + player['odds'] + ' salary: ' + player['salary'])\n",
    "        opt_odds.append(float(player['odds']))\n",
    "        opt_salary.append(int(player['salary']))\n",
    "\n",
    "print('Total Salary - %i, Avg odds to win - %i' % (sum(opt_salary), np.mean(opt_odds)))\n",
    "        "
   ]
  },
  {
   "cell_type": "code",
   "execution_count": null,
   "metadata": {
    "collapsed": false
   },
   "outputs": [],
   "source": [
    "for team in teams:   \n",
    "    opt_salary = []\n",
    "    opt_odds = []\n",
    "    for player in player_dict:\n",
    "        if possible_assignments[1][player['id']].value() == 1.0:\n",
    "            print(player['Name']+ '- odds: ' + player['Odds'] + ' Salary: ' + player['Salary'])\n",
    "            opt_odds.append(float(player['Odds']))\n",
    "            opt_salary.append(int(player['Salary']))\n",
    "\n",
    "    print('Total Salary - %i, Avg odds to win - %i' % (sum(opt_salary), np.mean(opt_odds)))"
   ]
  },
  {
   "cell_type": "code",
   "execution_count": null,
   "metadata": {
    "collapsed": true
   },
   "outputs": [],
   "source": []
  },
  {
   "cell_type": "code",
   "execution_count": null,
   "metadata": {
    "collapsed": true
   },
   "outputs": [],
   "source": []
  }
 ],
 "metadata": {
  "kernelspec": {
   "display_name": "Python 3",
   "language": "python",
   "name": "python3"
  },
  "language_info": {
   "codemirror_mode": {
    "name": "ipython",
    "version": 3
   },
   "file_extension": ".py",
   "mimetype": "text/x-python",
   "name": "python",
   "nbconvert_exporter": "python",
   "pygments_lexer": "ipython3",
   "version": "3.5.1"
  }
 },
 "nbformat": 4,
 "nbformat_minor": 0
}
