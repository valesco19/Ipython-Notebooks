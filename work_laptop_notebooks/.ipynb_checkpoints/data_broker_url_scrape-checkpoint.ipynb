{
 "cells": [
  {
   "cell_type": "code",
   "execution_count": 1,
   "metadata": {
    "collapsed": true,
    "deletable": true,
    "editable": true
   },
   "outputs": [],
   "source": [
    "import requests\n",
    "import re\n",
    "from selenium import webdriver\n",
    "from selenium.webdriver.common.keys import Keys\n",
    "import pandas as pd\n",
    "import numpy as np\n",
    "import json\n",
    "import os\n",
    "import time\n",
    "from datetime import datetime, timedelta\n",
    "from bs4 import BeautifulSoup as bs\n"
   ]
  },
  {
   "cell_type": "code",
   "execution_count": 2,
   "metadata": {
    "collapsed": false,
    "deletable": true,
    "editable": true
   },
   "outputs": [
    {
     "data": {
      "text/html": [
       "<div>\n",
       "<table border=\"1\" class=\"dataframe\">\n",
       "  <thead>\n",
       "    <tr style=\"text-align: right;\">\n",
       "      <th></th>\n",
       "      <th>names</th>\n",
       "      <th>url</th>\n",
       "      <th>search_url</th>\n",
       "      <th>terms_of_service</th>\n",
       "      <th>privacy_policy</th>\n",
       "      <th>opt_out</th>\n",
       "    </tr>\n",
       "  </thead>\n",
       "  <tbody>\n",
       "    <tr>\n",
       "      <th>0</th>\n",
       "      <td>+Address.com</td>\n",
       "      <td>http://plusaddress.com/</td>\n",
       "      <td>http://plusaddress.com/results?cx=partner-pub-...</td>\n",
       "      <td>http://plusaddress.com/#terms</td>\n",
       "      <td>http://plusaddress.com/#privacy</td>\n",
       "      <td>null</td>\n",
       "    </tr>\n",
       "    <tr>\n",
       "      <th>1</th>\n",
       "      <td>1-800-US-Search</td>\n",
       "      <td>http://www.ussearch.com/consumer/index.jsp</td>\n",
       "      <td>https://www.ussearch.com/search/people/[firstn...</td>\n",
       "      <td>http://www.ussearch.com/consumer/commerce/abou...</td>\n",
       "      <td>http://www.ussearch.com/consumer/commerce/abou...</td>\n",
       "      <td>Opt-Out: Yes, http://www.ussearch.com/consumer...</td>\n",
       "    </tr>\n",
       "    <tr>\n",
       "      <th>2</th>\n",
       "      <td>10 Digits</td>\n",
       "      <td>http://10digits.us</td>\n",
       "      <td>https://whitepages.plus/n/[firstname]_[middlei...</td>\n",
       "      <td>http://10digits.us/terms</td>\n",
       "      <td>http://10digits.us/privacy</td>\n",
       "      <td>null</td>\n",
       "    </tr>\n",
       "    <tr>\n",
       "      <th>3</th>\n",
       "      <td>411.com (a WhitePages.com company)</td>\n",
       "      <td>http://www.411.com</td>\n",
       "      <td>https://www.411.com/name/[firstname]-[lastname...</td>\n",
       "      <td>http://www.whitepagescustomers.com/terms-of-se...</td>\n",
       "      <td>http://www.whitepagescustomers.com/data-policy/</td>\n",
       "      <td>null</td>\n",
       "    </tr>\n",
       "    <tr>\n",
       "      <th>4</th>\n",
       "      <td>4Addresses.com</td>\n",
       "      <td>http://www.4addresses.com</td>\n",
       "      <td>http://4addresses.net/Search.php?q1=[firstname...</td>\n",
       "      <td>http://4addresses.com/TermsOfUse.php</td>\n",
       "      <td>http://4addresses.com/PrivacyPolicy.php</td>\n",
       "      <td>null</td>\n",
       "    </tr>\n",
       "  </tbody>\n",
       "</table>\n",
       "</div>"
      ],
      "text/plain": [
       "                                names  \\\n",
       "0                        +Address.com   \n",
       "1                     1-800-US-Search   \n",
       "2                           10 Digits   \n",
       "3  411.com (a WhitePages.com company)   \n",
       "4                      4Addresses.com   \n",
       "\n",
       "                                           url  \\\n",
       "0                     http://plusaddress.com/    \n",
       "1  http://www.ussearch.com/consumer/index.jsp    \n",
       "2                          http://10digits.us    \n",
       "3                          http://www.411.com    \n",
       "4                   http://www.4addresses.com    \n",
       "\n",
       "                                          search_url  \\\n",
       "0  http://plusaddress.com/results?cx=partner-pub-...   \n",
       "1  https://www.ussearch.com/search/people/[firstn...   \n",
       "2  https://whitepages.plus/n/[firstname]_[middlei...   \n",
       "3  https://www.411.com/name/[firstname]-[lastname...   \n",
       "4  http://4addresses.net/Search.php?q1=[firstname...   \n",
       "\n",
       "                                    terms_of_service  \\\n",
       "0                     http://plusaddress.com/#terms    \n",
       "1  http://www.ussearch.com/consumer/commerce/abou...   \n",
       "2                          http://10digits.us/terms    \n",
       "3  http://www.whitepagescustomers.com/terms-of-se...   \n",
       "4              http://4addresses.com/TermsOfUse.php    \n",
       "\n",
       "                                      privacy_policy  \\\n",
       "0                   http://plusaddress.com/#privacy    \n",
       "1  http://www.ussearch.com/consumer/commerce/abou...   \n",
       "2                        http://10digits.us/privacy    \n",
       "3   http://www.whitepagescustomers.com/data-policy/    \n",
       "4           http://4addresses.com/PrivacyPolicy.php    \n",
       "\n",
       "                                             opt_out  \n",
       "0                                               null  \n",
       "1  Opt-Out: Yes, http://www.ussearch.com/consumer...  \n",
       "2                                               null  \n",
       "3                                               null  \n",
       "4                                               null  "
      ]
     },
     "execution_count": 2,
     "metadata": {},
     "output_type": "execute_result"
    }
   ],
   "source": [
    "db_df = pd.read_csv('/home/valesco/Datasets/data_broker_urls.csv')\n",
    "db_df.head()"
   ]
  },
  {
   "cell_type": "code",
   "execution_count": 3,
   "metadata": {
    "collapsed": false,
    "deletable": true,
    "editable": true
   },
   "outputs": [
    {
     "ename": "NameError",
     "evalue": "name 'master_ls' is not defined",
     "output_type": "error",
     "traceback": [
      "\u001b[0;31m---------------------------------------------------------------------------\u001b[0m",
      "\u001b[0;31mNameError\u001b[0m                                 Traceback (most recent call last)",
      "\u001b[0;32m<ipython-input-3-9f1664ef1b1a>\u001b[0m in \u001b[0;36m<module>\u001b[0;34m()\u001b[0m\n\u001b[1;32m     22\u001b[0m     \u001b[0;32mif\u001b[0m \u001b[0;34m'http'\u001b[0m \u001b[0;32min\u001b[0m \u001b[0murl\u001b[0m\u001b[0;34m:\u001b[0m\u001b[0;34m\u001b[0m\u001b[0m\n\u001b[1;32m     23\u001b[0m         \u001b[0mls\u001b[0m \u001b[0;34m=\u001b[0m \u001b[0mre\u001b[0m\u001b[0;34m.\u001b[0m\u001b[0mfindall\u001b[0m\u001b[0;34m(\u001b[0m\u001b[0;34m'\\[([A-Za-z0-9_]+)\\]'\u001b[0m\u001b[0;34m,\u001b[0m \u001b[0murl\u001b[0m\u001b[0;34m)\u001b[0m\u001b[0;34m\u001b[0m\u001b[0m\n\u001b[0;32m---> 24\u001b[0;31m         \u001b[0mmaster_ls\u001b[0m\u001b[0;34m.\u001b[0m\u001b[0mextend\u001b[0m\u001b[0;34m(\u001b[0m\u001b[0mls\u001b[0m\u001b[0;34m)\u001b[0m\u001b[0;34m\u001b[0m\u001b[0m\n\u001b[0m\u001b[1;32m     25\u001b[0m \u001b[0;34m\u001b[0m\u001b[0m\n\u001b[1;32m     26\u001b[0m         \u001b[0mnew_url\u001b[0m \u001b[0;34m=\u001b[0m \u001b[0murl\u001b[0m\u001b[0;34m\u001b[0m\u001b[0m\n",
      "\u001b[0;31mNameError\u001b[0m: name 'master_ls' is not defined"
     ]
    }
   ],
   "source": [
    "search_urls = db_df['search_url'].values\n",
    "\n",
    "cust_info = {\n",
    "    'firstname': 'Kathleen',\n",
    "    'middlename': 'Elizabeth',\n",
    "    'middleinitial': 'E',\n",
    "    'lastname': 'Petersen',\n",
    "    'streetaddress': '16175+Feliciana+Ave',\n",
    "    'streetname': 'Felciana+Ave',\n",
    "    'streetnumber': '16175',\n",
    "    'city': 'Prarieville',\n",
    "    'statename': 'Louisiana', \n",
    "    'stateabbreviation': 'LA',\n",
    "    'zipcode': '70769',\n",
    "    'sex': 'Female',\n",
    "    'phonenumber': ''\n",
    "    }\n",
    "\n",
    "document_dict = {}\n",
    "\n",
    "for url in search_urls:\n",
    "    if 'http' in url:\n",
    "        ls = re.findall('\\[([A-Za-z0-9_]+)\\]', url)\n",
    "        master_ls.extend(ls)\n",
    "        \n",
    "        new_url = url\n",
    "        for key in ls:\n",
    "            new_url = new_url.replace('[{}]'.format(key), cust_info[key])\n",
    "            \n",
    "        print(new_url)\n",
    "        browser = webdriver.Chrome(chromedriver)\n",
    "        browser.get(new_url)\n",
    "\n",
    "        elements = browser.find_elements_by_xpath('//*')\n",
    "        \n",
    "        document = ''\n",
    "        \n",
    "        for element in elements:\n",
    "            try:\n",
    "                if len(element.text) > 0:\n",
    "                    document += element.text\n",
    "            except:\n",
    "                pass\n",
    "\n",
    "        time.sleep(2)\n",
    "        browser.close()\n",
    "        \n",
    "        document_name = db_df['names'].loc[db_df['search_url'] == url].values[0]\n",
    "        document_dict[document_name] = document\n",
    "        \n",
    "document_dict"
   ]
  },
  {
   "cell_type": "code",
   "execution_count": 60,
   "metadata": {
    "collapsed": false,
    "deletable": true,
    "editable": true
   },
   "outputs": [
    {
     "data": {
      "text/plain": [
       "{'1-800-US-Search': 7,\n",
       " '10 Digits': 7,\n",
       " '411.com (a WhitePages.com company)': 1,\n",
       " '4Addresses.com': 4,\n",
       " 'Address Search': 2,\n",
       " 'Addresses.com': 7,\n",
       " 'Advanced Background Checks': 7,\n",
       " 'American Yellow Pages': 2,\n",
       " 'Archives': 5,\n",
       " 'Arrests.org (varies from state to state)': 4,\n",
       " 'Background-Check-Only.com': 5,\n",
       " 'Bankruptreport.com': 1,\n",
       " 'BlockShopper': 6,\n",
       " 'Check Mate LLC': 5,\n",
       " 'Civil Records.org': 6,\n",
       " 'Corporation Wiki': 1,\n",
       " 'Court Records': 5,\n",
       " 'Criminal Pages': 5,\n",
       " 'Criminal Records': 3,\n",
       " 'Death Records': 5,\n",
       " 'Divorce Records': 6,\n",
       " 'Govregistry.us': 4,\n",
       " 'Info Registry': 1,\n",
       " 'Instant People Finder': 7,\n",
       " 'InstantProve.com': 3,\n",
       " 'Instantbackgroundreport.com': 2,\n",
       " 'InteliGator': 6,\n",
       " 'Intelius': 7,\n",
       " 'Marriage Records': 5,\n",
       " 'Mugshots (varies from state to state)': 6,\n",
       " 'Peek You': 5,\n",
       " 'People Lookup (Data source Intelius)': 6,\n",
       " 'People Search Now': 5,\n",
       " 'PeopleSmart': 3,\n",
       " 'Persopo': 7,\n",
       " 'Phonebooks.com (affiliated with Intelius)': 5,\n",
       " 'Public Arrest Records': 7,\n",
       " 'Public Records Checks': 2,\n",
       " 'PublicBackgroundChecks.com': 6,\n",
       " 'Publicrecords.com (affiliated with Intelius)': 7,\n",
       " 'Records Authority': 3,\n",
       " 'Reverse Genie': 6,\n",
       " 'Reverse Mobile': 2,\n",
       " 'Reverse Number Database': 1,\n",
       " 'Reverse Phone Lookup': 2,\n",
       " 'Roots Web (Associated with Ancestry.com)': 4,\n",
       " 'Search Bug': 6,\n",
       " 'State Records (United States State Records) ': 6,\n",
       " 'Tenant Detective (affiliated with Infopay)': 2,\n",
       " 'US Identify': 6,\n",
       " 'USA People Search': 6,\n",
       " 'Vebidoo': 5,\n",
       " 'iSearch': 5,\n",
       " 'pipl': 2,\n",
       " 'plusaddress': 1}"
      ]
     },
     "execution_count": 60,
     "metadata": {},
     "output_type": "execute_result"
    }
   ],
   "source": [
    "result_dict = {}\n",
    "for doc, string in document_dict.items():\n",
    "    count = 0\n",
    "    for key, value in cust_info.items():\n",
    "        value = value.replace('+', ' ')\n",
    "        if value in string:\n",
    "            count += 1\n",
    "            \n",
    "    result_dict[doc] = count\n",
    "    \n",
    "result_dict    "
   ]
  },
  {
   "cell_type": "code",
   "execution_count": 29,
   "metadata": {
    "collapsed": false,
    "deletable": true,
    "editable": true
   },
   "outputs": [
    {
     "data": {
      "text/plain": [
       "-1"
      ]
     },
     "execution_count": 29,
     "metadata": {},
     "output_type": "execute_result"
    }
   ],
   "source": []
  },
  {
   "cell_type": "code",
   "execution_count": null,
   "metadata": {
    "collapsed": true,
    "deletable": true,
    "editable": true
   },
   "outputs": [],
   "source": []
  }
 ],
 "metadata": {
  "kernelspec": {
   "display_name": "Python 3",
   "language": "python",
   "name": "python3"
  },
  "language_info": {
   "codemirror_mode": {
    "name": "ipython",
    "version": 3
   },
   "file_extension": ".py",
   "mimetype": "text/x-python",
   "name": "python",
   "nbconvert_exporter": "python",
   "pygments_lexer": "ipython3",
   "version": "3.5.0"
  }
 },
 "nbformat": 4,
 "nbformat_minor": 2
}
