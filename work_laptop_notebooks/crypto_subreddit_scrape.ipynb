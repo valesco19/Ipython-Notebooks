{
 "cells": [
  {
   "cell_type": "code",
   "execution_count": 3,
   "metadata": {
    "collapsed": true
   },
   "outputs": [],
   "source": [
    "import pandas as pd\n",
    "import numpy as np\n",
    "import os\n",
    "import requests\n",
    "import json\n",
    "from datetime import datetime, timedelta\n",
    "import time\n",
    "from w3lib.html import replace_entities\n",
    "from bs4 import BeautifulSoup as bs\n",
    "from selenium import webdriver\n",
    "from selenium.webdriver.common.keys import Keys\n",
    "from random import randint\n",
    "from tqdm import tqdm\n",
    "import requests\n",
    "\n",
    "#chromedriver = 'C:/Users/vales/Anaconda3/Lib/ChromeDriver/chromedriver.exe'\n",
    "#os.environ['webdriver.chrome.driver'] = chromedriver"
   ]
  },
  {
   "cell_type": "code",
   "execution_count": 14,
   "metadata": {},
   "outputs": [
    {
     "data": {
      "text/plain": [
       "{'name': 'Bitcoin',\n",
       " 'rank': 1,\n",
       " 'slug': 'bitcoin',\n",
       " 'symbol': 'BTC',\n",
       " 'tokens': ['Bitcoin', 'BTC']}"
      ]
     },
     "execution_count": 14,
     "metadata": {},
     "output_type": "execute_result"
    }
   ],
   "source": [
    "#Retrieve list of cryptocurrencies\n",
    "url = 'https://files.coinmarketcap.com/generated/search/quick_search.json'\n",
    "headers = {'User-agent': 'Mozilla/5.0'}\n",
    "coin_json = requests.get(url, headers = headers).json()\n",
    "coin_json[0]"
   ]
  },
  {
   "cell_type": "code",
   "execution_count": 77,
   "metadata": {},
   "outputs": [
    {
     "name": "stderr",
     "output_type": "stream",
     "text": [
      "\n",
      "  0%|                                                                                         | 0/1345 [00:00<?, ?it/s]\n"
     ]
    },
    {
     "name": "stdout",
     "output_type": "stream",
     "text": [
      "Bitcoin https://www.reddit.com/r/Bitcoin/\n"
     ]
    },
    {
     "name": "stderr",
     "output_type": "stream",
     "text": [
      "\r",
      "  0%|                                                                               | 1/1345 [00:12<4:30:42, 12.09s/it]"
     ]
    },
    {
     "name": "stdout",
     "output_type": "stream",
     "text": [
      "Ethereum https://www.reddit.com/r/ethereum/\n"
     ]
    },
    {
     "name": "stderr",
     "output_type": "stream",
     "text": [
      "\r",
      "  0%|                                                                               | 2/1345 [00:22<4:19:12, 11.58s/it]"
     ]
    },
    {
     "name": "stdout",
     "output_type": "stream",
     "text": [
      "Bitcoin Cash https://www.reddit.com/r/CryptoCurrency/comments/7cdutp/bitcoin_cash_btc_trading_discussion/\n"
     ]
    },
    {
     "name": "stderr",
     "output_type": "stream",
     "text": [
      "\r",
      "  0%|▏                                                                              | 3/1345 [00:55<6:40:44, 17.92s/it]"
     ]
    },
    {
     "name": "stdout",
     "output_type": "stream",
     "text": [
      "Litecoin https://www.reddit.com/r/CryptoCurrency/\n"
     ]
    },
    {
     "name": "stderr",
     "output_type": "stream",
     "text": [
      "\r",
      "  0%|▏                                                                              | 4/1345 [01:06<5:57:16, 15.99s/it]"
     ]
    },
    {
     "name": "stdout",
     "output_type": "stream",
     "text": [
      "IOTA https://www.reddit.com/r/Iota/\n"
     ]
    },
    {
     "name": "stderr",
     "output_type": "stream",
     "text": [
      "\r",
      "  0%|▎                                                                              | 5/1345 [01:19<5:34:13, 14.97s/it]"
     ]
    },
    {
     "name": "stdout",
     "output_type": "stream",
     "text": [
      "Ripple https://www.reddit.com/r/Ripple/\n"
     ]
    },
    {
     "name": "stderr",
     "output_type": "stream",
     "text": [
      "\r",
      "  0%|▎                                                                              | 6/1345 [01:30<5:10:48, 13.93s/it]"
     ]
    },
    {
     "name": "stdout",
     "output_type": "stream",
     "text": [
      "Dash https://www.reddit.com/r/dashpay/\n"
     ]
    },
    {
     "name": "stderr",
     "output_type": "stream",
     "text": [
      "\r",
      "  1%|▍                                                                              | 7/1345 [01:47<5:26:11, 14.63s/it]"
     ]
    },
    {
     "name": "stdout",
     "output_type": "stream",
     "text": [
      "NEM https://www.reddit.com/r/nem/\n"
     ]
    },
    {
     "name": "stderr",
     "output_type": "stream",
     "text": [
      "\r",
      "  1%|▍                                                                              | 8/1345 [01:58<5:04:10, 13.65s/it]"
     ]
    },
    {
     "name": "stdout",
     "output_type": "stream",
     "text": [
      "Monero https://www.reddit.com/r/Monero/\n"
     ]
    },
    {
     "name": "stderr",
     "output_type": "stream",
     "text": [
      "\r",
      "  1%|▌                                                                              | 9/1345 [02:08<4:42:25, 12.68s/it]"
     ]
    },
    {
     "name": "stdout",
     "output_type": "stream",
     "text": [
      "Bitcoin Gold https://www.reddit.com/r/CryptoCurrency/comments/75162v/bitcoin_gold_vertcoin/\n"
     ]
    },
    {
     "name": "stderr",
     "output_type": "stream",
     "text": [
      "\r",
      "  1%|▌                                                                             | 10/1345 [02:21<4:39:53, 12.58s/it]"
     ]
    },
    {
     "name": "stdout",
     "output_type": "stream",
     "text": [
      "Cardano https://www.reddit.com/r/cardano/comments/743lft/cardano_for_people_who_actually_understand_crypto/\n"
     ]
    },
    {
     "name": "stderr",
     "output_type": "stream",
     "text": [
      "\r",
      "  1%|▋                                                                             | 11/1345 [02:31<4:23:23, 11.85s/it]"
     ]
    },
    {
     "name": "stdout",
     "output_type": "stream",
     "text": [
      "EOS https://www.reddit.com/r/eos/\n"
     ]
    },
    {
     "name": "stderr",
     "output_type": "stream",
     "text": [
      "\r",
      "  1%|▋                                                                             | 12/1345 [02:42<4:19:53, 11.70s/it]"
     ]
    },
    {
     "name": "stdout",
     "output_type": "stream",
     "text": [
      "Ethereum Classic https://www.reddit.com/r/EthereumClassic/\n"
     ]
    },
    {
     "name": "stderr",
     "output_type": "stream",
     "text": [
      "\r",
      "  1%|▊                                                                             | 13/1345 [02:55<4:30:18, 12.18s/it]"
     ]
    },
    {
     "name": "stdout",
     "output_type": "stream",
     "text": [
      "Stellar Lumens https://www.reddit.com/r/Stellar/\n"
     ]
    },
    {
     "name": "stderr",
     "output_type": "stream",
     "text": [
      "\r",
      "  1%|▊                                                                             | 14/1345 [03:06<4:17:00, 11.59s/it]"
     ]
    },
    {
     "name": "stdout",
     "output_type": "stream",
     "text": [
      "NEO https://www.reddit.com/r/NEO/\n"
     ]
    },
    {
     "name": "stderr",
     "output_type": "stream",
     "text": [
      "\r",
      "  1%|▊                                                                             | 15/1345 [03:16<4:08:08, 11.19s/it]"
     ]
    },
    {
     "name": "stdout",
     "output_type": "stream",
     "text": [
      "BitConnect https://www.reddit.com/r/CryptoCurrency/comments/7ak08u/bitconnects_market_cap_just_dropped_by_half/\n"
     ]
    },
    {
     "name": "stderr",
     "output_type": "stream",
     "text": [
      "\r",
      "  1%|▉                                                                             | 16/1345 [03:29<4:22:14, 11.84s/it]"
     ]
    },
    {
     "name": "stdout",
     "output_type": "stream",
     "text": [
      "Populous https://www.reddit.com/r/CryptoMarkets/comments/6xfgzq/populous_investors_be_careful/\n"
     ]
    },
    {
     "name": "stderr",
     "output_type": "stream",
     "text": [
      "\r",
      "  1%|▉                                                                             | 17/1345 [03:41<4:23:43, 11.91s/it]"
     ]
    },
    {
     "name": "stdout",
     "output_type": "stream",
     "text": [
      "Waves https://www.reddit.com/r/Wavesplatform/\n"
     ]
    },
    {
     "name": "stderr",
     "output_type": "stream",
     "text": [
      "\r",
      "  1%|█                                                                             | 18/1345 [03:53<4:20:14, 11.77s/it]"
     ]
    },
    {
     "name": "stdout",
     "output_type": "stream",
     "text": [
      "OmiseGO https://www.reddit.com/r/omise_go/\n"
     ]
    },
    {
     "name": "stderr",
     "output_type": "stream",
     "text": [
      "\r",
      "  1%|█                                                                             | 19/1345 [04:05<4:24:50, 11.98s/it]"
     ]
    },
    {
     "name": "stdout",
     "output_type": "stream",
     "text": [
      "Lisk https://www.reddit.com/r/Lisk/\n"
     ]
    },
    {
     "name": "stderr",
     "output_type": "stream",
     "text": [
      "\r",
      "  1%|█▏                                                                            | 20/1345 [04:15<4:08:42, 11.26s/it]"
     ]
    },
    {
     "name": "stdout",
     "output_type": "stream",
     "text": [
      "Qtum https://www.reddit.com/r/Qtum/\n"
     ]
    },
    {
     "name": "stderr",
     "output_type": "stream",
     "text": [
      "\r",
      "  2%|█▏                                                                            | 21/1345 [04:26<4:09:01, 11.29s/it]"
     ]
    },
    {
     "name": "stdout",
     "output_type": "stream",
     "text": [
      "Zcash https://www.reddit.com/r/zec/\n"
     ]
    },
    {
     "name": "stderr",
     "output_type": "stream",
     "text": [
      "\r",
      "  2%|█▎                                                                            | 22/1345 [04:38<4:10:38, 11.37s/it]"
     ]
    },
    {
     "name": "stdout",
     "output_type": "stream",
     "text": [
      "Stratis https://www.reddit.com/r/CryptoCurrency/comments/4r8lvp/stratis_now_has_its_own_subreddit/\n"
     ]
    },
    {
     "name": "stderr",
     "output_type": "stream",
     "text": [
      "\r",
      "  2%|█▎                                                                            | 23/1345 [04:48<4:04:21, 11.09s/it]"
     ]
    },
    {
     "name": "stdout",
     "output_type": "stream",
     "text": [
      "Ardor https://www.reddit.com/r/NXT/\n"
     ]
    },
    {
     "name": "stderr",
     "output_type": "stream",
     "text": [
      "\r",
      "  2%|█▍                                                                            | 24/1345 [05:01<4:12:27, 11.47s/it]"
     ]
    },
    {
     "name": "stdout",
     "output_type": "stream",
     "text": [
      "Tether https://www.reddit.com/r/CryptoCurrency/comments/7eho5y/tether_was_hacked_by_the_same_person_who_hacked/\n"
     ]
    },
    {
     "name": "stderr",
     "output_type": "stream",
     "text": [
      "\r",
      "  2%|█▍                                                                            | 25/1345 [05:10<3:59:29, 10.89s/it]"
     ]
    },
    {
     "name": "stdout",
     "output_type": "stream",
     "text": [
      "MonaCoin https://www.reddit.com/r/CryptoCurrency/\n"
     ]
    },
    {
     "name": "stderr",
     "output_type": "stream",
     "text": [
      "\r",
      "  2%|█▌                                                                            | 26/1345 [05:24<4:16:47, 11.68s/it]"
     ]
    },
    {
     "name": "stdout",
     "output_type": "stream",
     "text": [
      "Nxt https://www.reddit.com/r/NXT/\n"
     ]
    },
    {
     "name": "stderr",
     "output_type": "stream",
     "text": [
      "\r",
      "  2%|█▌                                                                            | 27/1345 [05:35<4:14:46, 11.60s/it]"
     ]
    },
    {
     "name": "stdout",
     "output_type": "stream",
     "text": [
      "Hshare https://www.reddit.com/r/CryptoCurrency/comments/6wjz3l/what_the_f_is_hshare/\n"
     ]
    },
    {
     "name": "stderr",
     "output_type": "stream",
     "text": [
      "\r",
      "  2%|█▌                                                                            | 28/1345 [05:48<4:21:53, 11.93s/it]"
     ]
    },
    {
     "name": "stdout",
     "output_type": "stream",
     "text": [
      "BitShares https://www.reddit.com/r/BitShares/\n"
     ]
    },
    {
     "name": "stderr",
     "output_type": "stream",
     "text": [
      "\r",
      "  2%|█▋                                                                            | 29/1345 [05:58<4:12:55, 11.53s/it]"
     ]
    },
    {
     "name": "stdout",
     "output_type": "stream",
     "text": [
      "Bytecoin https://www.reddit.com/r/BytecoinBCN/\n"
     ]
    },
    {
     "name": "stderr",
     "output_type": "stream",
     "text": [
      "\r",
      "  2%|█▋                                                                            | 30/1345 [06:13<4:31:46, 12.40s/it]"
     ]
    },
    {
     "name": "stdout",
     "output_type": "stream",
     "text": [
      "TRON https://www.reddit.com/r/CryptoCurrency/comments/71auea/tim_draper_invests_into_tron_labs_trx/\n"
     ]
    },
    {
     "name": "stderr",
     "output_type": "stream",
     "text": [
      "\r",
      "  2%|█▊                                                                            | 31/1345 [06:24<4:24:21, 12.07s/it]"
     ]
    },
    {
     "name": "stdout",
     "output_type": "stream",
     "text": [
      "Steem https://www.reddit.com/r/steemit/\n"
     ]
    },
    {
     "name": "stderr",
     "output_type": "stream",
     "text": [
      "\r",
      "  2%|█▊                                                                            | 32/1345 [06:34<4:12:49, 11.55s/it]"
     ]
    },
    {
     "name": "stdout",
     "output_type": "stream",
     "text": [
      "Veritaseum https://www.reddit.com/r/CryptoCurrency/comments/6ql8u0/veritaseum/\n"
     ]
    },
    {
     "name": "stderr",
     "output_type": "stream",
     "text": [
      "\r",
      "  2%|█▉                                                                           | 33/1345 [07:53<11:29:42, 31.54s/it]"
     ]
    },
    {
     "name": "stdout",
     "output_type": "stream",
     "text": [
      "Ark https://www.reddit.com/r/ArkEcosystem/\n"
     ]
    },
    {
     "name": "stderr",
     "output_type": "stream",
     "text": [
      "\r",
      "  3%|█▉                                                                            | 34/1345 [08:04<9:18:23, 25.56s/it]"
     ]
    },
    {
     "name": "stdout",
     "output_type": "stream",
     "text": [
      "SALT https://www.reddit.com/r/CryptoCurrency/comments/6ttr6z/what_do_you_think_about_salt_lending/\n"
     ]
    },
    {
     "name": "stderr",
     "output_type": "stream",
     "text": [
      "\r",
      "  3%|██                                                                            | 35/1345 [08:17<7:52:34, 21.64s/it]"
     ]
    },
    {
     "name": "stdout",
     "output_type": "stream",
     "text": [
      "Decred https://www.reddit.com/r/CryptoCurrency/\n"
     ]
    },
    {
     "name": "stderr",
     "output_type": "stream",
     "text": [
      "\r",
      "  3%|██                                                                            | 36/1345 [08:30<7:00:37, 19.28s/it]"
     ]
    },
    {
     "name": "stdout",
     "output_type": "stream",
     "text": [
      "Augur https://www.reddit.com/r/Augur/\n"
     ]
    },
    {
     "name": "stderr",
     "output_type": "stream",
     "text": [
      "\r",
      "  3%|██▏                                                                           | 37/1345 [08:42<6:12:28, 17.09s/it]"
     ]
    },
    {
     "name": "stdout",
     "output_type": "stream",
     "text": [
      "Komodo https://www.reddit.com/r/komodoplatform/\n"
     ]
    },
    {
     "name": "stderr",
     "output_type": "stream",
     "text": [
      "\r",
      "  3%|██▏                                                                           | 38/1345 [08:52<5:25:45, 14.95s/it]"
     ]
    },
    {
     "name": "stdout",
     "output_type": "stream",
     "text": [
      "Dogecoin https://www.reddit.com/r/dogecoin/\n"
     ]
    },
    {
     "name": "stderr",
     "output_type": "stream",
     "text": [
      "\r",
      "  3%|██▎                                                                           | 39/1345 [09:07<5:23:59, 14.88s/it]"
     ]
    },
    {
     "name": "stdout",
     "output_type": "stream",
     "text": [
      "Vertcoin https://www.reddit.com/r/vertcoin/comments/6ashbs/why_vertcoin/\n"
     ]
    },
    {
     "name": "stderr",
     "output_type": "stream",
     "text": [
      "\r",
      "  3%|██▎                                                                           | 40/1345 [09:18<4:54:47, 13.55s/it]"
     ]
    },
    {
     "name": "stdout",
     "output_type": "stream",
     "text": [
      "Einsteinium https://www.reddit.com/r/einsteinium/\n"
     ]
    },
    {
     "name": "stderr",
     "output_type": "stream",
     "text": [
      "\r",
      "  3%|██▍                                                                           | 41/1345 [09:29<4:40:55, 12.93s/it]"
     ]
    },
    {
     "name": "stdout",
     "output_type": "stream",
     "text": [
      "Siacoin https://www.reddit.com/r/siacoin/\n"
     ]
    },
    {
     "name": "stderr",
     "output_type": "stream",
     "text": [
      "\r",
      "  3%|██▍                                                                           | 42/1345 [09:40<4:29:39, 12.42s/it]"
     ]
    },
    {
     "name": "stdout",
     "output_type": "stream",
     "text": [
      "Golem https://www.reddit.com/r/GolemProject/\n"
     ]
    },
    {
     "name": "stderr",
     "output_type": "stream",
     "text": [
      "\r",
      "  3%|██▍                                                                           | 43/1345 [09:51<4:17:46, 11.88s/it]"
     ]
    },
    {
     "name": "stdout",
     "output_type": "stream",
     "text": [
      "PIVX https://www.reddit.com/r/pivx/\n"
     ]
    },
    {
     "name": "stderr",
     "output_type": "stream",
     "text": [
      "\r",
      "  3%|██▌                                                                           | 44/1345 [10:01<4:06:39, 11.38s/it]"
     ]
    },
    {
     "name": "stdout",
     "output_type": "stream",
     "text": [
      "Binance Coin https://www.reddit.com/r/CryptoCurrency/comments/6uf71f/binance_bnb_is_quickly_moving_up_coinmarketcap/\n"
     ]
    },
    {
     "name": "stderr",
     "output_type": "stream",
     "text": [
      "\r",
      "  3%|██▌                                                                           | 45/1345 [10:13<4:06:50, 11.39s/it]"
     ]
    },
    {
     "name": "stdout",
     "output_type": "stream",
     "text": [
      "DigixDAO https://www.reddit.com/r/digix/\n"
     ]
    },
    {
     "name": "stderr",
     "output_type": "stream",
     "text": [
      "\r",
      "  3%|██▋                                                                           | 46/1345 [10:31<4:53:55, 13.58s/it]"
     ]
    },
    {
     "name": "stdout",
     "output_type": "stream",
     "text": [
      "MaidSafeCoin https://www.reddit.com/r/CryptoCurrency/comments/3jyz45/how_we_diversify_our_portfolio_with_bitshares/\n"
     ]
    },
    {
     "name": "stderr",
     "output_type": "stream",
     "text": [
      "\r",
      "  3%|██▋                                                                           | 47/1345 [10:42<4:35:12, 12.72s/it]"
     ]
    },
    {
     "name": "stdout",
     "output_type": "stream",
     "text": [
      "Basic Attention Token https://www.reddit.com/r/ethereum/comments/6dq47y/eli5_how_to_invest_in_basic_attention_token_bat/\n"
     ]
    },
    {
     "name": "stderr",
     "output_type": "stream",
     "text": [
      "\r",
      "  4%|██▊                                                                           | 48/1345 [10:51<4:13:42, 11.74s/it]"
     ]
    },
    {
     "name": "stdout",
     "output_type": "stream",
     "text": [
      "Santiment Network Token https://www.reddit.com/r/ethtrader/comments/5skfbr/how_santimentnet_is_going_to_build_communityowned/\n"
     ]
    },
    {
     "name": "stderr",
     "output_type": "stream",
     "text": [
      "\r",
      "  4%|██▊                                                                           | 49/1345 [11:08<4:42:48, 13.09s/it]"
     ]
    },
    {
     "name": "stdout",
     "output_type": "stream",
     "text": [
      "TenX https://www.reddit.com/r/TenX/\n"
     ]
    },
    {
     "name": "stderr",
     "output_type": "stream",
     "text": [
      "\r",
      "  4%|██▉                                                                           | 50/1345 [11:20<4:37:30, 12.86s/it]"
     ]
    },
    {
     "name": "stdout",
     "output_type": "stream",
     "text": [
      "RaiBlocks https://www.reddit.com/r/RaiBlocks/comments/7j0ctg/beginner_with_crypto_wanting_to_buy_a_good_amount/\n"
     ]
    },
    {
     "name": "stderr",
     "output_type": "stream",
     "text": [
      "\r",
      "  4%|██▉                                                                           | 51/1345 [11:32<4:30:15, 12.53s/it]"
     ]
    },
    {
     "name": "stdout",
     "output_type": "stream",
     "text": [
      "Syscoin https://www.reddit.com/r/SysCoin/\n"
     ]
    },
    {
     "name": "stderr",
     "output_type": "stream",
     "text": [
      "\r",
      "  4%|███                                                                           | 52/1345 [11:43<4:24:58, 12.30s/it]"
     ]
    },
    {
     "name": "stdout",
     "output_type": "stream",
     "text": [
      "Factom https://www.reddit.com/r/factom/\n"
     ]
    },
    {
     "name": "stderr",
     "output_type": "stream",
     "text": [
      "\r",
      "  4%|███                                                                           | 53/1345 [11:54<4:15:15, 11.85s/it]"
     ]
    },
    {
     "name": "stdout",
     "output_type": "stream",
     "text": [
      "Status https://www.reddit.com/r/icocrypto/\n"
     ]
    },
    {
     "name": "stderr",
     "output_type": "stream",
     "text": [
      "\r",
      "  4%|███▏                                                                          | 54/1345 [12:07<4:19:25, 12.06s/it]"
     ]
    },
    {
     "name": "stdout",
     "output_type": "stream",
     "text": [
      "Cryptonex https://www.reddit.com/r/CryptoCurrency/\n"
     ]
    },
    {
     "name": "stderr",
     "output_type": "stream",
     "text": [
      "\r",
      "  4%|███▏                                                                          | 55/1345 [12:19<4:17:28, 11.98s/it]"
     ]
    },
    {
     "name": "stdout",
     "output_type": "stream",
     "text": [
      "QASH https://www.reddit.com/r/QASH/\n"
     ]
    },
    {
     "name": "stderr",
     "output_type": "stream",
     "text": [
      "\r",
      "  4%|███▏                                                                          | 56/1345 [12:28<4:00:32, 11.20s/it]"
     ]
    },
    {
     "name": "stdout",
     "output_type": "stream",
     "text": [
      "Power Ledger https://www.reddit.com/r/icocrypto/comments/6mr791/power_ledger_token_sale_powr/\n"
     ]
    },
    {
     "name": "stderr",
     "output_type": "stream",
     "text": [
      "\r",
      "  4%|███▎                                                                          | 57/1345 [12:42<4:16:03, 11.93s/it]"
     ]
    },
    {
     "name": "stdout",
     "output_type": "stream",
     "text": [
      "Decentraland https://www.reddit.com/r/decentraland/comments/7ic439/bigger_than_crypto_kitties/\n"
     ]
    },
    {
     "name": "stderr",
     "output_type": "stream",
     "text": [
      "\r",
      "  4%|███▎                                                                          | 58/1345 [12:52<4:07:09, 11.52s/it]"
     ]
    },
    {
     "name": "stdout",
     "output_type": "stream",
     "text": [
      "BitcoinDark https://www.reddit.com/r/bitcoindark/\n"
     ]
    },
    {
     "name": "stderr",
     "output_type": "stream",
     "text": [
      "\r",
      "  4%|███▍                                                                          | 59/1345 [13:05<4:14:01, 11.85s/it]"
     ]
    },
    {
     "name": "stdout",
     "output_type": "stream",
     "text": [
      "Monaco https://www.reddit.com/r/MonacoCard/\n"
     ]
    },
    {
     "name": "stderr",
     "output_type": "stream",
     "text": [
      "\r",
      "  4%|███▍                                                                          | 60/1345 [13:16<4:11:55, 11.76s/it]"
     ]
    },
    {
     "name": "stdout",
     "output_type": "stream",
     "text": [
      "Byteball Bytes https://www.reddit.com/r/ByteBall/\n"
     ]
    },
    {
     "name": "stderr",
     "output_type": "stream",
     "text": [
      "\r",
      "  5%|███▍                                                                         | 61/1345 [14:28<10:37:39, 29.80s/it]"
     ]
    },
    {
     "name": "stdout",
     "output_type": "stream",
     "text": [
      "Walton https://www.reddit.com/r/CryptoCurrency/comments/6xj89m/what_is_walton_new_version/\n"
     ]
    },
    {
     "name": "stderr",
     "output_type": "stream",
     "text": [
      "\r",
      "  5%|███▌                                                                          | 62/1345 [14:38<8:26:44, 23.70s/it]"
     ]
    },
    {
     "name": "stdout",
     "output_type": "stream",
     "text": [
      "Kyber Network https://www.reddit.com/r/CryptoMarkets/comments/6vo5i7/kybernetwork/\n"
     ]
    },
    {
     "name": "stderr",
     "output_type": "stream",
     "text": [
      "\r",
      "  5%|███▋                                                                          | 63/1345 [14:51<7:21:08, 20.65s/it]"
     ]
    },
    {
     "name": "stdout",
     "output_type": "stream",
     "text": [
      "ZCoin https://www.reddit.com/r/ZCoinProject/\n"
     ]
    },
    {
     "name": "stderr",
     "output_type": "stream",
     "text": [
      "\r",
      "  5%|███▋                                                                          | 64/1345 [15:06<6:41:55, 18.83s/it]"
     ]
    },
    {
     "name": "stdout",
     "output_type": "stream",
     "text": [
      "Bytom https://www.reddit.com/r/bytomchain/\n"
     ]
    },
    {
     "name": "stderr",
     "output_type": "stream",
     "text": [
      "\r",
      "  5%|███▊                                                                          | 65/1345 [15:17<5:54:44, 16.63s/it]"
     ]
    },
    {
     "name": "stdout",
     "output_type": "stream",
     "text": [
      "Gas https://www.reddit.com/r/NEO/\n"
     ]
    },
    {
     "name": "stderr",
     "output_type": "stream",
     "text": [
      "\r",
      "  5%|███▊                                                                          | 66/1345 [15:29<5:19:55, 15.01s/it]"
     ]
    },
    {
     "name": "stdout",
     "output_type": "stream",
     "text": [
      "Gnosis https://www.reddit.com/r/gnosisPM/\n"
     ]
    },
    {
     "name": "stderr",
     "output_type": "stream",
     "text": [
      "\r",
      "  5%|███▉                                                                          | 67/1345 [15:42<5:10:11, 14.56s/it]"
     ]
    },
    {
     "name": "stdout",
     "output_type": "stream",
     "text": [
      "VeChain https://www.reddit.com/r/CryptoCurrency/comments/7bui4a/vechain_reddit_ama_answers/\n"
     ]
    },
    {
     "name": "stderr",
     "output_type": "stream",
     "text": [
      "\r",
      "  5%|███▉                                                                          | 68/1345 [15:54<4:51:16, 13.69s/it]"
     ]
    },
    {
     "name": "stdout",
     "output_type": "stream",
     "text": [
      "Aion https://www.reddit.com/r/CryptoCurrency/comments/7i7urx/enigma_and_aion_partnership/\n"
     ]
    },
    {
     "name": "stderr",
     "output_type": "stream",
     "text": [
      "\r",
      "  5%|████                                                                          | 69/1345 [16:06<4:40:28, 13.19s/it]"
     ]
    },
    {
     "name": "stdout",
     "output_type": "stream",
     "text": [
      "FunFair https://www.reddit.com/r/FunfairTech/\n"
     ]
    },
    {
     "name": "stderr",
     "output_type": "stream",
     "text": [
      "\r",
      "  5%|████                                                                          | 70/1345 [16:20<4:46:23, 13.48s/it]"
     ]
    },
    {
     "name": "stdout",
     "output_type": "stream",
     "text": [
      "Aeternity https://www.reddit.com/r/Aeternity/\n"
     ]
    },
    {
     "name": "stderr",
     "output_type": "stream",
     "text": [
      "\r",
      "  5%|████                                                                          | 71/1345 [16:30<4:27:55, 12.62s/it]"
     ]
    },
    {
     "name": "stdout",
     "output_type": "stream",
     "text": [
      "DigiByte https://www.reddit.com/r/Digibyte/\n"
     ]
    },
    {
     "name": "stderr",
     "output_type": "stream",
     "text": [
      "\r",
      "  5%|████▏                                                                         | 72/1345 [16:41<4:13:49, 11.96s/it]"
     ]
    },
    {
     "name": "stdout",
     "output_type": "stream",
     "text": [
      "Iconomi https://www.reddit.com/r/ICONOMI/\n"
     ]
    },
    {
     "name": "stderr",
     "output_type": "stream",
     "text": [
      "\r",
      "  5%|████▏                                                                         | 73/1345 [16:51<4:04:40, 11.54s/it]"
     ]
    },
    {
     "name": "stdout",
     "output_type": "stream",
     "text": [
      "GameCredits https://www.reddit.com/r/GameCreditsCrypto/\n"
     ]
    },
    {
     "name": "stderr",
     "output_type": "stream",
     "text": [
      "\r",
      "  6%|████▎                                                                         | 74/1345 [17:04<4:10:29, 11.83s/it]"
     ]
    },
    {
     "name": "stdout",
     "output_type": "stream",
     "text": [
      "Bancor https://www.reddit.com/r/Bancor/\n"
     ]
    },
    {
     "name": "stderr",
     "output_type": "stream",
     "text": [
      "\r",
      "  6%|████▎                                                                         | 75/1345 [17:16<4:13:09, 11.96s/it]"
     ]
    },
    {
     "name": "stdout",
     "output_type": "stream",
     "text": [
      "NAV Coin https://www.reddit.com/r/NavCoin/\n"
     ]
    },
    {
     "name": "stderr",
     "output_type": "stream",
     "text": [
      "\r",
      "  6%|████▍                                                                         | 76/1345 [17:28<4:09:24, 11.79s/it]"
     ]
    },
    {
     "name": "stdout",
     "output_type": "stream",
     "text": [
      "Raiden Network Token https://www.reddit.com/r/raidennetwork/comments/7d3ttn/undervalued_cryptocurrencies_raiden_network_token/\n"
     ]
    },
    {
     "name": "stderr",
     "output_type": "stream",
     "text": [
      "\r",
      "  6%|████▍                                                                         | 77/1345 [17:41<4:19:29, 12.28s/it]"
     ]
    },
    {
     "name": "stdout",
     "output_type": "stream",
     "text": [
      "Pura https://www.reddit.com/r/CryptoCurrency/comments/7dq6mp/pura_is_a_ponzi_scam_mlm/\n"
     ]
    },
    {
     "name": "stderr",
     "output_type": "stream",
     "text": [
      "\r",
      "  6%|████▌                                                                         | 78/1345 [17:56<4:33:23, 12.95s/it]"
     ]
    },
    {
     "name": "stdout",
     "output_type": "stream",
     "text": [
      "Verge https://www.reddit.com/r/vergecurrency/\n"
     ]
    },
    {
     "name": "stderr",
     "output_type": "stream",
     "text": [
      "\r",
      "  6%|████▌                                                                         | 79/1345 [18:08<4:28:42, 12.73s/it]"
     ]
    },
    {
     "name": "stdout",
     "output_type": "stream",
     "text": [
      "Nexus https://www.reddit.com/r/CryptoCurrency/comments/75w6jm/initial_impressions_of_nexus/\n"
     ]
    },
    {
     "name": "stderr",
     "output_type": "stream",
     "text": [
      "\r",
      "  6%|████▋                                                                         | 80/1345 [18:20<4:25:39, 12.60s/it]"
     ]
    },
    {
     "name": "stdout",
     "output_type": "stream",
     "text": [
      "0x https://www.reddit.com/r/CryptoCurrency/comments/6umuf8/0x_has_been_added_to_poloniex/\n"
     ]
    },
    {
     "name": "stderr",
     "output_type": "stream",
     "text": [
      "\r",
      "  6%|████▋                                                                         | 81/1345 [18:30<4:11:30, 11.94s/it]"
     ]
    },
    {
     "name": "stdout",
     "output_type": "stream",
     "text": [
      "Edgeless https://www.reddit.com/r/Edgeless/\n"
     ]
    },
    {
     "name": "stderr",
     "output_type": "stream",
     "text": [
      "\r",
      "  6%|████▊                                                                         | 82/1345 [18:46<4:33:00, 12.97s/it]"
     ]
    },
    {
     "name": "stdout",
     "output_type": "stream",
     "text": [
      "Civic https://www.reddit.com/r/civicplatform/\n"
     ]
    },
    {
     "name": "stderr",
     "output_type": "stream",
     "text": [
      "\r",
      "  6%|████▊                                                                         | 83/1345 [18:56<4:15:58, 12.17s/it]"
     ]
    },
    {
     "name": "stdout",
     "output_type": "stream",
     "text": [
      "Metal https://www.reddit.com/r/CryptoCurrency/comments/6x68fa/metal_mtl_this_is_the_first_time_i_am_truly/\n"
     ]
    },
    {
     "name": "stderr",
     "output_type": "stream",
     "text": [
      "\r",
      "  6%|████▊                                                                         | 84/1345 [19:07<4:04:26, 11.63s/it]"
     ]
    },
    {
     "name": "stdout",
     "output_type": "stream",
     "text": [
      "Request Network https://www.reddit.com/r/CryptoCurrency/comments/7jl7oz/request_network_is_more_than_just_paypal_20_it/\n"
     ]
    },
    {
     "name": "stderr",
     "output_type": "stream",
     "text": [
      "\r",
      "  6%|████▉                                                                         | 85/1345 [19:23<4:34:28, 13.07s/it]"
     ]
    },
    {
     "name": "stdout",
     "output_type": "stream",
     "text": [
      "Blocknet https://www.reddit.com/r/theblocknet/\n"
     ]
    },
    {
     "name": "stderr",
     "output_type": "stream",
     "text": [
      "\r",
      "  6%|████▉                                                                         | 86/1345 [19:35<4:29:50, 12.86s/it]"
     ]
    },
    {
     "name": "stdout",
     "output_type": "stream",
     "text": [
      "RChain https://www.reddit.com/r/crypto/\n"
     ]
    },
    {
     "name": "stderr",
     "output_type": "stream",
     "text": [
      "\r",
      "  6%|█████                                                                         | 87/1345 [19:48<4:26:27, 12.71s/it]"
     ]
    },
    {
     "name": "stdout",
     "output_type": "stream",
     "text": [
      "Storj https://www.reddit.com/r/storj/\n"
     ]
    },
    {
     "name": "stderr",
     "output_type": "stream",
     "text": [
      "\r",
      "  7%|█████                                                                         | 88/1345 [19:59<4:18:57, 12.36s/it]"
     ]
    },
    {
     "name": "stdout",
     "output_type": "stream",
     "text": [
      "GXShares https://www.reddit.com/r/CryptoCurrency/comments/6xy9ua/gxshares_on_binance_is_getting_bot_votes_upvote/\n"
     ]
    },
    {
     "name": "stderr",
     "output_type": "stream",
     "text": [
      "\r",
      "  7%|█████▏                                                                        | 89/1345 [20:11<4:13:10, 12.09s/it]"
     ]
    },
    {
     "name": "stdout",
     "output_type": "stream",
     "text": [
      "Dragonchain https://www.reddit.com/r/icocrypto/comments/725zba/has_anyone_heard_of_dragonchain_and_is_it_legit/\n"
     ]
    },
    {
     "name": "stderr",
     "output_type": "stream",
     "text": [
      "\r",
      "  7%|█████▏                                                                       | 90/1345 [21:25<10:42:33, 30.72s/it]"
     ]
    },
    {
     "name": "stdout",
     "output_type": "stream",
     "text": [
      "Ethos https://www.reddit.com/r/CryptoCurrency/comments/7j235d/ethos_retains_top_international_powerhouse_law/\n"
     ]
    },
    {
     "name": "stderr",
     "output_type": "stream",
     "text": [
      "\r",
      "  7%|█████▎                                                                        | 91/1345 [21:37<8:43:58, 25.07s/it]"
     ]
    },
    {
     "name": "stdout",
     "output_type": "stream",
     "text": [
      "Revain https://www.reddit.com/r/CryptoCurrency/comments/79x2cj/revain_building_a_trustless_consumer_review/\n"
     ]
    },
    {
     "name": "stderr",
     "output_type": "stream",
     "text": [
      "\r",
      "  7%|█████▎                                                                        | 92/1345 [21:48<7:17:43, 20.96s/it]"
     ]
    },
    {
     "name": "stdout",
     "output_type": "stream",
     "text": [
      "Streamr DATAcoin https://www.reddit.com/r/CryptoCurrency/comments/6x6rjc/announcing_the_streamr_datacoin_ico_sep_12th/\n"
     ]
    },
    {
     "name": "stderr",
     "output_type": "stream",
     "text": [
      "\r",
      "  7%|█████▍                                                                        | 93/1345 [22:02<6:35:55, 18.97s/it]"
     ]
    },
    {
     "name": "stdout",
     "output_type": "stream",
     "text": [
      "Metaverse ETP https://www.reddit.com/r/CryptoCurrency/comments/77xhpy/warning_metaverse_etp/\n"
     ]
    },
    {
     "name": "stderr",
     "output_type": "stream",
     "text": [
      "\r",
      "  7%|█████▍                                                                        | 94/1345 [22:14<5:47:45, 16.68s/it]"
     ]
    },
    {
     "name": "stdout",
     "output_type": "stream",
     "text": [
      "SingularDTV https://www.reddit.com/r/SingularDTV/\n"
     ]
    },
    {
     "name": "stderr",
     "output_type": "stream",
     "text": [
      "\r",
      "  7%|█████▌                                                                        | 95/1345 [22:25<5:15:22, 15.14s/it]"
     ]
    },
    {
     "name": "stdout",
     "output_type": "stream",
     "text": [
      "BitBay https://www.reddit.com/r/CryptoMarkets/comments/6j3s7g/bitbay/\n"
     ]
    },
    {
     "name": "stderr",
     "output_type": "stream",
     "text": [
      "\r",
      "  7%|█████▌                                                                        | 96/1345 [22:38<4:57:15, 14.28s/it]"
     ]
    },
    {
     "name": "stdout",
     "output_type": "stream",
     "text": [
      "ChainLink https://www.reddit.com/r/CryptoCurrency/comments/74fbnr/chainlink/\n"
     ]
    },
    {
     "name": "stderr",
     "output_type": "stream",
     "text": [
      "\r",
      "  7%|█████▋                                                                        | 97/1345 [22:50<4:44:54, 13.70s/it]"
     ]
    },
    {
     "name": "stdout",
     "output_type": "stream",
     "text": [
      "Skycoin https://www.reddit.com/r/SkycoinProject/\n"
     ]
    },
    {
     "name": "stderr",
     "output_type": "stream",
     "text": [
      "\r",
      "  7%|█████▋                                                                        | 98/1345 [23:01<4:31:08, 13.05s/it]"
     ]
    },
    {
     "name": "stdout",
     "output_type": "stream",
     "text": [
      "Peercoin https://www.reddit.com/r/peercoin/\n"
     ]
    },
    {
     "name": "stderr",
     "output_type": "stream",
     "text": [
      "\r",
      "  7%|█████▋                                                                        | 99/1345 [23:16<4:39:47, 13.47s/it]"
     ]
    },
    {
     "name": "stdout",
     "output_type": "stream",
     "text": [
      "MinexCoin https://www.reddit.com/r/CryptoCurrencies/comments/6cp455/minexcoin_ico_what_i_found_out/\n"
     ]
    },
    {
     "name": "stderr",
     "output_type": "stream",
     "text": [
      "\r",
      "  7%|█████▋                                                                       | 100/1345 [23:29<4:34:38, 13.24s/it]"
     ]
    },
    {
     "name": "stdout",
     "output_type": "stream",
     "text": [
      "Ubiq https://www.reddit.com/r/Ubiq/\n"
     ]
    },
    {
     "name": "stderr",
     "output_type": "stream",
     "text": [
      "\r",
      "  8%|█████▊                                                                       | 101/1345 [23:39<4:17:11, 12.41s/it]"
     ]
    },
    {
     "name": "stdout",
     "output_type": "stream",
     "text": [
      "Feathercoin https://www.reddit.com/r/FeatherCOin/\n"
     ]
    },
    {
     "name": "stderr",
     "output_type": "stream",
     "text": [
      "\r",
      "  8%|█████▊                                                                       | 102/1345 [23:50<4:10:16, 12.08s/it]"
     ]
    },
    {
     "name": "stdout",
     "output_type": "stream",
     "text": [
      "Aragon https://www.reddit.com/r/CryptoCurrency/comments/6fxe65/aragon/\n"
     ]
    },
    {
     "name": "stderr",
     "output_type": "stream",
     "text": [
      "\r",
      "  8%|█████▉                                                                       | 103/1345 [24:02<4:04:35, 11.82s/it]"
     ]
    },
    {
     "name": "stdout",
     "output_type": "stream",
     "text": [
      "ATMChain https://www.reddit.com/r/CryptoCurrency/comments/7dxfof/atmchain_short_term/\n"
     ]
    },
    {
     "name": "stderr",
     "output_type": "stream",
     "text": [
      "\r",
      "  8%|█████▉                                                                       | 104/1345 [24:17<4:26:54, 12.90s/it]"
     ]
    },
    {
     "name": "stdout",
     "output_type": "stream",
     "text": [
      "Groestlcoin https://www.reddit.com/r/GameCreditsCrypto/\n"
     ]
    },
    {
     "name": "stderr",
     "output_type": "stream",
     "text": [
      "\r",
      "  8%|██████                                                                       | 105/1345 [24:28<4:15:49, 12.38s/it]"
     ]
    },
    {
     "name": "stdout",
     "output_type": "stream",
     "text": [
      "PayPie https://www.reddit.com/r/CryptoMarkets/duplicates/76pc3p/paypie_worlds_first_blockchain_accounting/\n"
     ]
    },
    {
     "name": "stderr",
     "output_type": "stream",
     "text": [
      "\r",
      "  8%|██████                                                                       | 106/1345 [24:45<4:40:25, 13.58s/it]"
     ]
    },
    {
     "name": "stdout",
     "output_type": "stream",
     "text": [
      "Achain https://www.reddit.com/r/CryptoCurrency/comments/78nnkw/achain_undervalued_cryptocurrency/\n"
     ]
    },
    {
     "name": "stderr",
     "output_type": "stream",
     "text": [
      "\r",
      "  8%|██████▏                                                                      | 107/1345 [24:58<4:39:20, 13.54s/it]"
     ]
    },
    {
     "name": "stdout",
     "output_type": "stream",
     "text": [
      "Particl https://www.reddit.com/r/particlecoin/\n"
     ]
    },
    {
     "name": "stderr",
     "output_type": "stream",
     "text": [
      "\r",
      "  8%|██████▏                                                                      | 108/1345 [25:09<4:26:07, 12.91s/it]"
     ]
    },
    {
     "name": "stdout",
     "output_type": "stream",
     "text": [
      "ZenCash https://www.reddit.com/r/ZenCash_Crypto/\n"
     ]
    },
    {
     "name": "stderr",
     "output_type": "stream",
     "text": [
      "\r",
      "  8%|██████▏                                                                      | 109/1345 [25:22<4:22:18, 12.73s/it]"
     ]
    },
    {
     "name": "stdout",
     "output_type": "stream",
     "text": [
      "Substratum https://www.reddit.com/r/SubstratumNetwork/\n"
     ]
    },
    {
     "name": "stderr",
     "output_type": "stream",
     "text": [
      "\r",
      "  8%|██████▎                                                                      | 110/1345 [25:34<4:20:13, 12.64s/it]"
     ]
    },
    {
     "name": "stdout",
     "output_type": "stream",
     "text": [
      "AdEx https://www.reddit.com/r/CryptoCurrency/comments/6u8311/adex_or_bat/\n"
     ]
    },
    {
     "name": "stderr",
     "output_type": "stream",
     "text": [
      "\r",
      "  8%|██████▎                                                                      | 111/1345 [25:46<4:12:09, 12.26s/it]"
     ]
    },
    {
     "name": "stdout",
     "output_type": "stream",
     "text": [
      "Lykke https://www.reddit.com/r/lykke/\n"
     ]
    },
    {
     "name": "stderr",
     "output_type": "stream",
     "text": [
      "\r",
      "  8%|██████▍                                                                      | 112/1345 [25:58<4:12:34, 12.29s/it]"
     ]
    },
    {
     "name": "stdout",
     "output_type": "stream",
     "text": [
      "Ripio Credit Network https://www.reddit.com/r/RipioCreditNetwork/\n"
     ]
    },
    {
     "name": "stderr",
     "output_type": "stream",
     "text": [
      "\r",
      "  8%|██████▍                                                                      | 113/1345 [26:10<4:09:12, 12.14s/it]"
     ]
    },
    {
     "name": "stdout",
     "output_type": "stream",
     "text": [
      "Jinn https://www.reddit.com/r/CryptoCurrency/\n"
     ]
    },
    {
     "name": "stderr",
     "output_type": "stream",
     "text": [
      "\r",
      "  8%|██████▌                                                                      | 114/1345 [26:22<4:10:43, 12.22s/it]"
     ]
    },
    {
     "name": "stdout",
     "output_type": "stream",
     "text": [
      "Pepe Cash https://www.reddit.com/r/pepetraders/comments/6c7ivu/pepe_cash_the_hidden_colossus_of_crypto/\n"
     ]
    },
    {
     "name": "stderr",
     "output_type": "stream",
     "text": [
      "\r",
      "  9%|██████▌                                                                      | 115/1345 [26:36<4:18:04, 12.59s/it]"
     ]
    },
    {
     "name": "stdout",
     "output_type": "stream",
     "text": [
      "Cobinhood https://www.reddit.com/r/RobinHood/comments/79iuvc/crypto_currency/\n"
     ]
    },
    {
     "name": "stderr",
     "output_type": "stream",
     "text": [
      "\r",
      "  9%|██████▋                                                                      | 116/1345 [26:47<4:11:32, 12.28s/it]"
     ]
    },
    {
     "name": "stdout",
     "output_type": "stream",
     "text": [
      "Quantum Resistant Ledger https://www.reddit.com/r/QRL/\n"
     ]
    },
    {
     "name": "stderr",
     "output_type": "stream",
     "text": [
      "\r",
      "  9%|██████▋                                                                      | 117/1345 [27:00<4:11:43, 12.30s/it]"
     ]
    },
    {
     "name": "stdout",
     "output_type": "stream",
     "text": [
      "MobileGo https://www.reddit.com/r/icocrypto/comments/67q1zq/ico_review_of_mobilego_mobilego_tokens/\n"
     ]
    },
    {
     "name": "stderr",
     "output_type": "stream",
     "text": [
      "\r",
      "  9%|██████▊                                                                      | 118/1345 [27:09<3:55:09, 11.50s/it]"
     ]
    },
    {
     "name": "stdout",
     "output_type": "stream",
     "text": [
      "PotCoin https://www.reddit.com/r/potcoin/\n"
     ]
    },
    {
     "name": "stderr",
     "output_type": "stream",
     "text": [
      "\r",
      "  9%|██████▊                                                                      | 119/1345 [27:20<3:48:45, 11.20s/it]"
     ]
    },
    {
     "name": "stdout",
     "output_type": "stream",
     "text": [
      "SONM https://www.reddit.com/r/SONM/\n"
     ]
    },
    {
     "name": "stderr",
     "output_type": "stream",
     "text": [
      "\r",
      "  9%|██████▊                                                                     | 120/1345 [29:01<13:03:20, 38.37s/it]"
     ]
    },
    {
     "name": "stdout",
     "output_type": "stream",
     "text": [
      "Counterparty https://www.reddit.com/r/counterparty_xcp/\n"
     ]
    },
    {
     "name": "stderr",
     "output_type": "stream",
     "text": [
      "\r",
      "  9%|██████▊                                                                     | 121/1345 [29:15<10:31:43, 30.97s/it]"
     ]
    },
    {
     "name": "stdout",
     "output_type": "stream",
     "text": [
      "YOYOW https://www.reddit.com/r/CryptoCurrency/comments/7i7na0/yoyow_announces_yoyo_tokens_listed_on_bitfinex/\n"
     ]
    },
    {
     "name": "stderr",
     "output_type": "stream",
     "text": [
      "\r",
      "  9%|██████▉                                                                      | 122/1345 [29:27<8:33:06, 25.17s/it]"
     ]
    },
    {
     "name": "stdout",
     "output_type": "stream",
     "text": [
      "Quantstamp https://www.reddit.com/r/CryptoCurrency/comments/7cd3fz/quantstamp_the_aegis_to_secure_smart_contracts/\n"
     ]
    },
    {
     "name": "stderr",
     "output_type": "stream",
     "text": [
      "\r",
      "  9%|███████                                                                      | 123/1345 [29:37<7:02:15, 20.73s/it]"
     ]
    },
    {
     "name": "stdout",
     "output_type": "stream",
     "text": [
      "Viacoin https://www.reddit.com/r/viacoin/\n"
     ]
    },
    {
     "name": "stderr",
     "output_type": "stream",
     "text": [
      "\r",
      "  9%|███████                                                                      | 124/1345 [29:47<5:55:19, 17.46s/it]"
     ]
    },
    {
     "name": "stdout",
     "output_type": "stream",
     "text": [
      "Loopring https://www.reddit.com/r/loopring/\n"
     ]
    },
    {
     "name": "stderr",
     "output_type": "stream",
     "text": [
      "\r",
      "  9%|███████▏                                                                     | 125/1345 [30:03<5:49:19, 17.18s/it]"
     ]
    },
    {
     "name": "stdout",
     "output_type": "stream",
     "text": [
      "Agoras Tokens https://www.reddit.com/r/CryptoCurrency/comments/5ji9as/agoras_tokens_price_real_time_agoras_tokens/\n"
     ]
    },
    {
     "name": "stderr",
     "output_type": "stream",
     "text": [
      "\r",
      "  9%|███████▏                                                                     | 126/1345 [30:16<5:20:01, 15.75s/it]"
     ]
    },
    {
     "name": "stdout",
     "output_type": "stream",
     "text": [
      "Mercury https://www.reddit.com/r/CryptoCurrency/comments/740jos/anyone_else_excited_for_bat_mercury/\n"
     ]
    },
    {
     "name": "stderr",
     "output_type": "stream",
     "text": [
      "\r",
      "  9%|███████▎                                                                     | 127/1345 [30:26<4:47:03, 14.14s/it]"
     ]
    },
    {
     "name": "stdout",
     "output_type": "stream",
     "text": [
      "Open Trading Network https://www.reddit.com/r/Open_Trading_Network/\n"
     ]
    },
    {
     "name": "stderr",
     "output_type": "stream",
     "text": [
      "\r",
      " 10%|███████▎                                                                     | 128/1345 [30:42<4:56:04, 14.60s/it]"
     ]
    },
    {
     "name": "stdout",
     "output_type": "stream",
     "text": [
      "Ink https://www.reddit.com/r/CryptoCurrency/comments/7h5hen/adex_and_ink_to_hold_second_ad_auction_on_the/\n"
     ]
    },
    {
     "name": "stderr",
     "output_type": "stream",
     "text": [
      "\r",
      " 10%|███████▍                                                                     | 129/1345 [30:52<4:29:52, 13.32s/it]"
     ]
    },
    {
     "name": "stdout",
     "output_type": "stream",
     "text": [
      "FairCoin https://www.reddit.com/r/faircoin/\n"
     ]
    },
    {
     "name": "stderr",
     "output_type": "stream",
     "text": [
      "\r",
      " 10%|███████▍                                                                     | 130/1345 [31:02<4:06:19, 12.16s/it]"
     ]
    },
    {
     "name": "stdout",
     "output_type": "stream",
     "text": [
      "Wings https://www.reddit.com/r/CryptoMarkets/\n"
     ]
    },
    {
     "name": "stderr",
     "output_type": "stream",
     "text": [
      "\r",
      " 10%|███████▍                                                                     | 131/1345 [31:18<4:31:58, 13.44s/it]"
     ]
    },
    {
     "name": "stdout",
     "output_type": "stream",
     "text": [
      "Asch https://www.reddit.com/r/CryptoCurrency/comments/6i51iy/asch/\n"
     ]
    },
    {
     "name": "stderr",
     "output_type": "stream",
     "text": [
      "\r",
      " 10%|███████▌                                                                     | 132/1345 [31:30<4:19:05, 12.82s/it]"
     ]
    },
    {
     "name": "stdout",
     "output_type": "stream",
     "text": [
      "Aeon https://www.reddit.com/r/Aeon/\n"
     ]
    },
    {
     "name": "stderr",
     "output_type": "stream",
     "text": [
      "\r",
      " 10%|███████▌                                                                     | 133/1345 [31:40<4:04:24, 12.10s/it]"
     ]
    },
    {
     "name": "stdout",
     "output_type": "stream",
     "text": [
      "Rise https://www.reddit.com/r/CryptoCurrency/comments/6xc6uy/rise_wtf/\n"
     ]
    },
    {
     "name": "stderr",
     "output_type": "stream",
     "text": [
      "\r",
      " 10%|███████▋                                                                     | 134/1345 [31:54<4:19:05, 12.84s/it]"
     ]
    },
    {
     "name": "stdout",
     "output_type": "stream",
     "text": [
      "iExec RLC https://www.reddit.com/r/CryptoCurrency/comments/79h60v/why_i_invested_in_iexec_rlc/\n"
     ]
    },
    {
     "name": "stderr",
     "output_type": "stream",
     "text": [
      "\r",
      " 10%|███████▋                                                                     | 135/1345 [32:05<4:04:59, 12.15s/it]"
     ]
    },
    {
     "name": "stdout",
     "output_type": "stream",
     "text": [
      "Emercoin https://www.reddit.com/r/CryptoCurrency/comments/3zhuyz/microsoft_and_emercoin_form_partnership_to/\n"
     ]
    },
    {
     "name": "stderr",
     "output_type": "stream",
     "text": [
      "\r",
      " 10%|███████▊                                                                     | 136/1345 [32:17<4:00:57, 11.96s/it]"
     ]
    },
    {
     "name": "stdout",
     "output_type": "stream",
     "text": [
      "ReddCoin https://www.reddit.com/r/reddCoin/\n"
     ]
    },
    {
     "name": "stderr",
     "output_type": "stream",
     "text": [
      "\r",
      " 10%|███████▊                                                                     | 137/1345 [32:28<3:57:36, 11.80s/it]"
     ]
    },
    {
     "name": "stdout",
     "output_type": "stream",
     "text": [
      "Voxels https://www.reddit.com/r/Voxelus_Official/\n"
     ]
    },
    {
     "name": "stderr",
     "output_type": "stream",
     "text": [
      "\r",
      " 10%|███████▉                                                                     | 138/1345 [32:38<3:48:24, 11.35s/it]"
     ]
    },
    {
     "name": "stdout",
     "output_type": "stream",
     "text": [
      "Enigma https://www.reddit.com/r/enigmacatalyst/\n"
     ]
    },
    {
     "name": "stderr",
     "output_type": "stream",
     "text": [
      "\r",
      " 10%|███████▉                                                                     | 139/1345 [32:53<4:06:15, 12.25s/it]"
     ]
    },
    {
     "name": "stdout",
     "output_type": "stream",
     "text": [
      "Eidoo https://www.reddit.com/r/icocrypto/comments/75geqt/eidoo_a_step_forward_to_decentralization/\n"
     ]
    },
    {
     "name": "stderr",
     "output_type": "stream",
     "text": [
      "\r",
      " 10%|████████                                                                     | 140/1345 [33:04<4:01:08, 12.01s/it]"
     ]
    },
    {
     "name": "stdout",
     "output_type": "stream",
     "text": [
      "Melon https://www.reddit.com/r/melonproject/\n"
     ]
    },
    {
     "name": "stderr",
     "output_type": "stream",
     "text": [
      "\r",
      " 10%|████████                                                                     | 141/1345 [33:15<3:51:41, 11.55s/it]"
     ]
    },
    {
     "name": "stdout",
     "output_type": "stream",
     "text": [
      "AirSwap https://www.reddit.com/r/AirSwap/comments/7f5a4o/doesnt_airswap_solve_our_real_problem_at_the/\n"
     ]
    },
    {
     "name": "stderr",
     "output_type": "stream",
     "text": [
      "\r",
      " 11%|████████▏                                                                    | 142/1345 [33:25<3:46:01, 11.27s/it]"
     ]
    },
    {
     "name": "stdout",
     "output_type": "stream",
     "text": [
      "WeTrust https://www.reddit.com/r/WeTrustPlatform/\n"
     ]
    },
    {
     "name": "stderr",
     "output_type": "stream",
     "text": [
      "\r",
      " 11%|████████▏                                                                    | 143/1345 [33:36<3:41:02, 11.03s/it]"
     ]
    },
    {
     "name": "stdout",
     "output_type": "stream",
     "text": [
      "Namecoin https://www.reddit.com/r/Namecoin/\n"
     ]
    },
    {
     "name": "stderr",
     "output_type": "stream",
     "text": [
      "\r",
      " 11%|████████▏                                                                    | 144/1345 [33:49<3:55:42, 11.78s/it]"
     ]
    },
    {
     "name": "stdout",
     "output_type": "stream",
     "text": [
      "Neblio https://www.reddit.com/r/Neblio/\n"
     ]
    },
    {
     "name": "stderr",
     "output_type": "stream",
     "text": [
      "\r",
      " 11%|████████▎                                                                    | 145/1345 [33:59<3:44:53, 11.24s/it]"
     ]
    },
    {
     "name": "stdout",
     "output_type": "stream",
     "text": [
      "KuCoin Shares https://www.reddit.com/r/CryptoMarkets/comments/76cygz/kucoin_exchange_and_kucoin_shares_kcs_why_i_think/\n"
     ]
    },
    {
     "name": "stderr",
     "output_type": "stream",
     "text": [
      "\r",
      " 11%|████████▎                                                                    | 146/1345 [34:10<3:40:31, 11.04s/it]"
     ]
    },
    {
     "name": "stdout",
     "output_type": "stream",
     "text": [
      "ION https://www.reddit.com/r/IONcoin/\n"
     ]
    },
    {
     "name": "stderr",
     "output_type": "stream",
     "text": [
      "\r",
      " 11%|████████▍                                                                    | 147/1345 [34:23<3:55:31, 11.80s/it]"
     ]
    },
    {
     "name": "stdout",
     "output_type": "stream",
     "text": [
      "Diamond https://www.reddit.com/r/dmd/\n"
     ]
    },
    {
     "name": "stderr",
     "output_type": "stream",
     "text": [
      "\r",
      " 11%|████████▍                                                                    | 148/1345 [34:33<3:41:39, 11.11s/it]"
     ]
    },
    {
     "name": "stdout",
     "output_type": "stream",
     "text": [
      "Dentacoin https://www.reddit.com/r/CryptoCurrency/comments/6gyx7x/dentacoin_the_first_blockchain_concept_for_the/\n"
     ]
    },
    {
     "name": "stderr",
     "output_type": "stream",
     "text": [
      "\r",
      " 11%|████████▌                                                                    | 149/1345 [34:44<3:43:04, 11.19s/it]"
     ]
    },
    {
     "name": "stdout",
     "output_type": "stream",
     "text": [
      "Cofound.it https://www.reddit.com/r/ICONOMI/comments/6er69w/whats_the_feeling_on_cofoundit_ico/\n"
     ]
    },
    {
     "name": "stderr",
     "output_type": "stream",
     "text": [
      "\r",
      " 11%|████████▌                                                                    | 150/1345 [34:54<3:34:01, 10.75s/it]"
     ]
    },
    {
     "name": "stdout",
     "output_type": "stream",
     "text": [
      "XTRABYTES https://www.reddit.com/r/XtraBYtes/\n"
     ]
    },
    {
     "name": "stderr",
     "output_type": "stream",
     "text": [
      "\r",
      " 11%|████████▌                                                                   | 151/1345 [36:12<10:14:42, 30.89s/it]"
     ]
    },
    {
     "name": "stdout",
     "output_type": "stream",
     "text": [
      "SmartCash https://www.reddit.com/r/smartcash/\n"
     ]
    },
    {
     "name": "stderr",
     "output_type": "stream",
     "text": [
      "\r",
      " 11%|████████▋                                                                    | 152/1345 [36:24<8:20:17, 25.16s/it]"
     ]
    },
    {
     "name": "stdout",
     "output_type": "stream",
     "text": [
      "CloakCoin https://www.reddit.com/r/Cloak_Coin/\n"
     ]
    },
    {
     "name": "stderr",
     "output_type": "stream",
     "text": [
      "\r",
      " 11%|████████▊                                                                    | 153/1345 [36:33<6:47:00, 20.49s/it]"
     ]
    },
    {
     "name": "stdout",
     "output_type": "stream",
     "text": [
      "Kin https://www.reddit.com/r/CryptoCurrency/comments/7aoyrj/kin_value_continues_to_drop_over_70_since_ico/\n"
     ]
    },
    {
     "name": "stderr",
     "output_type": "stream",
     "text": [
      "\r",
      " 11%|████████▊                                                                    | 154/1345 [36:48<6:10:32, 18.67s/it]"
     ]
    },
    {
     "name": "stdout",
     "output_type": "stream",
     "text": [
      "Blocktix https://www.reddit.com/r/CryptoCurrency/comments/6lutc3/blocktix_blockchain_for_ticketing_aims_to_make/\n"
     ]
    },
    {
     "name": "stderr",
     "output_type": "stream",
     "text": [
      "\r",
      " 12%|████████▊                                                                    | 155/1345 [37:00<5:33:12, 16.80s/it]"
     ]
    },
    {
     "name": "stdout",
     "output_type": "stream",
     "text": [
      "BLOCKv https://www.reddit.com/r/sysadmin/comments/1p32lx/cryptolocker_recap_a_new_guide_to_the_bleepingest/\n"
     ]
    },
    {
     "name": "stderr",
     "output_type": "stream",
     "text": [
      "\r",
      " 12%|████████▉                                                                    | 156/1345 [37:15<5:20:25, 16.17s/it]"
     ]
    },
    {
     "name": "stdout",
     "output_type": "stream",
     "text": [
      "SIBCoin https://www.reddit.com/r/sibcoin/\n"
     ]
    },
    {
     "name": "stderr",
     "output_type": "stream",
     "text": [
      "\r",
      " 12%|████████▉                                                                    | 157/1345 [37:25<4:46:47, 14.48s/it]"
     ]
    },
    {
     "name": "stdout",
     "output_type": "stream",
     "text": [
      "Paypex https://www.reddit.com/r/paypex/\n"
     ]
    },
    {
     "name": "stderr",
     "output_type": "stream",
     "text": [
      "\r",
      " 12%|█████████                                                                    | 158/1345 [37:38<4:36:43, 13.99s/it]"
     ]
    },
    {
     "name": "stdout",
     "output_type": "stream",
     "text": [
      "TaaS https://www.reddit.com/r/taasfund/\n"
     ]
    },
    {
     "name": "stderr",
     "output_type": "stream",
     "text": [
      "\r",
      " 12%|█████████                                                                    | 159/1345 [37:55<4:52:10, 14.78s/it]"
     ]
    },
    {
     "name": "stdout",
     "output_type": "stream",
     "text": [
      "Elastic https://www.reddit.com/r/XEL/\n"
     ]
    },
    {
     "name": "stderr",
     "output_type": "stream",
     "text": [
      "\r",
      " 12%|█████████▏                                                                   | 160/1345 [38:07<4:38:33, 14.10s/it]"
     ]
    },
    {
     "name": "stdout",
     "output_type": "stream",
     "text": [
      "I/O Coin https://www.reddit.com/r/CryptoCurrency/comments/4tuj4e/io_coin_the_most_undervalued_altcoin_today/\n"
     ]
    },
    {
     "name": "stderr",
     "output_type": "stream",
     "text": [
      "\r",
      " 12%|█████████▏                                                                   | 161/1345 [38:20<4:30:29, 13.71s/it]"
     ]
    },
    {
     "name": "stdout",
     "output_type": "stream",
     "text": [
      "Zeusshield https://www.reddit.com/r/CryptoCurrency/\n"
     ]
    },
    {
     "name": "stderr",
     "output_type": "stream",
     "text": [
      "\r",
      " 12%|█████████▎                                                                   | 162/1345 [38:30<4:09:42, 12.67s/it]"
     ]
    },
    {
     "name": "stdout",
     "output_type": "stream",
     "text": [
      "DECENT https://www.reddit.com/r/CryptoCurrency/\n"
     ]
    },
    {
     "name": "stderr",
     "output_type": "stream",
     "text": [
      "\r",
      " 12%|█████████▎                                                                   | 163/1345 [38:43<4:07:10, 12.55s/it]"
     ]
    },
    {
     "name": "stdout",
     "output_type": "stream",
     "text": [
      "CoinDash https://www.reddit.com/r/dashpay/\n"
     ]
    },
    {
     "name": "stderr",
     "output_type": "stream",
     "text": [
      "\r",
      " 12%|█████████▍                                                                   | 164/1345 [38:54<4:00:14, 12.21s/it]"
     ]
    },
    {
     "name": "stdout",
     "output_type": "stream",
     "text": [
      "Wagerr https://www.reddit.com/r/Wagerr/\n"
     ]
    },
    {
     "name": "stderr",
     "output_type": "stream",
     "text": [
      "\r",
      " 12%|█████████▍                                                                   | 165/1345 [39:05<3:54:21, 11.92s/it]"
     ]
    },
    {
     "name": "stdout",
     "output_type": "stream",
     "text": [
      "Pillar https://www.reddit.com/r/CryptoCurrency/comments/78icee/peoples_thoughts_on_pillar/\n"
     ]
    },
    {
     "name": "stderr",
     "output_type": "stream",
     "text": [
      "\r",
      " 12%|█████████▌                                                                   | 166/1345 [39:19<4:04:09, 12.43s/it]"
     ]
    },
    {
     "name": "stdout",
     "output_type": "stream",
     "text": [
      "WhiteCoin https://www.reddit.com/r/whitecoin/\n"
     ]
    },
    {
     "name": "stderr",
     "output_type": "stream",
     "text": [
      "\r",
      " 12%|█████████▌                                                                   | 167/1345 [39:29<3:52:33, 11.84s/it]"
     ]
    },
    {
     "name": "stdout",
     "output_type": "stream",
     "text": [
      "Crown https://www.reddit.com/r/Crown/\n"
     ]
    },
    {
     "name": "stderr",
     "output_type": "stream",
     "text": [
      "\r",
      " 12%|█████████▌                                                                   | 168/1345 [39:39<3:38:39, 11.15s/it]"
     ]
    },
    {
     "name": "stdout",
     "output_type": "stream",
     "text": [
      "EncryptoTel [WAVES] https://www.reddit.com/r/icocrypto/comments/66klqn/encryptotel_joint_ethereum_and_waves_token/\n"
     ]
    },
    {
     "name": "stderr",
     "output_type": "stream",
     "text": [
      "\r",
      " 13%|█████████▋                                                                   | 169/1345 [39:52<3:48:42, 11.67s/it]"
     ]
    },
    {
     "name": "stdout",
     "output_type": "stream",
     "text": [
      "OKCash https://www.reddit.com/r/OKcash/\n"
     ]
    },
    {
     "name": "stderr",
     "output_type": "stream",
     "text": [
      "\r",
      " 13%|█████████▋                                                                   | 170/1345 [40:02<3:41:55, 11.33s/it]"
     ]
    },
    {
     "name": "stdout",
     "output_type": "stream",
     "text": [
      "Enjin Coin https://www.reddit.com/r/EnjinCoin/\n"
     ]
    },
    {
     "name": "stderr",
     "output_type": "stream",
     "text": [
      "\r",
      " 13%|█████████▊                                                                   | 171/1345 [40:14<3:43:06, 11.40s/it]"
     ]
    },
    {
     "name": "stdout",
     "output_type": "stream",
     "text": [
      "Bitcore https://www.reddit.com/r/CryptoMarkets/comments/7dagpc/4_interactive_infographics_bitcoin_qtum_hshare/\n"
     ]
    },
    {
     "name": "stderr",
     "output_type": "stream",
     "text": [
      "\r",
      " 13%|█████████▊                                                                   | 172/1345 [40:24<3:38:28, 11.18s/it]"
     ]
    },
    {
     "name": "stdout",
     "output_type": "stream",
     "text": [
      "SaluS https://www.reddit.com/r/CryptoCurrency/comments/6f3sph/what_is_salus_and_its_holy_grail/\n"
     ]
    },
    {
     "name": "stderr",
     "output_type": "stream",
     "text": [
      "\r",
      " 13%|█████████▉                                                                   | 173/1345 [40:38<3:50:58, 11.82s/it]"
     ]
    },
    {
     "name": "stdout",
     "output_type": "stream",
     "text": [
      "LBRY Credits https://www.reddit.com/r/lbry/\n"
     ]
    },
    {
     "name": "stderr",
     "output_type": "stream",
     "text": [
      "\r",
      " 13%|█████████▉                                                                   | 174/1345 [40:55<4:21:38, 13.41s/it]"
     ]
    },
    {
     "name": "stdout",
     "output_type": "stream",
     "text": [
      "Tierion https://www.reddit.com/r/CryptoCurrency/comments/70bx27/tierion_tnt_is_about_to_explode_upcoming_mainnet/\n"
     ]
    },
    {
     "name": "stderr",
     "output_type": "stream",
     "text": [
      "\r",
      " 13%|██████████                                                                   | 175/1345 [41:08<4:16:55, 13.18s/it]"
     ]
    },
    {
     "name": "stdout",
     "output_type": "stream",
     "text": [
      "Gulden https://www.reddit.com/r/GuldenCommunity/\n"
     ]
    },
    {
     "name": "stderr",
     "output_type": "stream",
     "text": [
      "\r",
      " 13%|██████████                                                                   | 176/1345 [41:19<4:07:14, 12.69s/it]"
     ]
    },
    {
     "name": "stdout",
     "output_type": "stream",
     "text": [
      "FirstBlood https://www.reddit.com/r/CryptoCurrency/comments/551zo5/gatecoin_adds_firstblood_for_trading/\n"
     ]
    },
    {
     "name": "stderr",
     "output_type": "stream",
     "text": [
      "\r",
      " 13%|██████████▏                                                                  | 177/1345 [41:30<3:55:20, 12.09s/it]"
     ]
    },
    {
     "name": "stdout",
     "output_type": "stream",
     "text": [
      "Global Currency Reserve https://www.reddit.com/r/CryptoCurrency/comments/2jgesw/global_currency_reserve_gcr/\n"
     ]
    },
    {
     "name": "stderr",
     "output_type": "stream",
     "text": [
      "\r",
      " 13%|██████████▏                                                                  | 178/1345 [41:41<3:47:07, 11.68s/it]"
     ]
    },
    {
     "name": "stdout",
     "output_type": "stream",
     "text": [
      "Matchpool https://www.reddit.com/r/Matchpool/\n"
     ]
    },
    {
     "name": "stderr",
     "output_type": "stream",
     "text": [
      "\r",
      " 13%|██████████▏                                                                  | 179/1345 [42:51<9:32:43, 29.47s/it]"
     ]
    },
    {
     "name": "stdout",
     "output_type": "stream",
     "text": [
      "bitqy https://www.reddit.com/r/CryptoCurrencies/comments/6rngvq/why_should_you_not_buy_bitqy/\n"
     ]
    },
    {
     "name": "stderr",
     "output_type": "stream",
     "text": [
      "\r",
      " 13%|██████████▎                                                                  | 180/1345 [43:03<7:47:48, 24.09s/it]"
     ]
    },
    {
     "name": "stdout",
     "output_type": "stream",
     "text": [
      "Time New Bank https://www.reddit.com/r/CryptoCurrency/comments/77sjk4/bnpparibas_is_closing_all_my_bank_accounts/\n"
     ]
    },
    {
     "name": "stderr",
     "output_type": "stream",
     "text": [
      "\r",
      " 13%|██████████▎                                                                  | 181/1345 [43:15<6:34:16, 20.32s/it]"
     ]
    },
    {
     "name": "stdout",
     "output_type": "stream",
     "text": [
      "Numeraire https://www.reddit.com/r/CryptoCurrency/comments/6j7vuu/numeraire_up_to_250_why_what_changed/\n"
     ]
    },
    {
     "name": "stderr",
     "output_type": "stream",
     "text": [
      "\r",
      " 14%|██████████▍                                                                  | 182/1345 [43:29<6:00:38, 18.61s/it]"
     ]
    },
    {
     "name": "stdout",
     "output_type": "stream",
     "text": [
      "Moeda Loyalty Points https://www.reddit.com/r/CryptoCurrency/comments/75bomb/moeda_loyalty_coin_might_be_worth_paying/\n"
     ]
    },
    {
     "name": "stderr",
     "output_type": "stream",
     "text": [
      "\r",
      " 14%|██████████▍                                                                  | 183/1345 [43:41<5:19:19, 16.49s/it]"
     ]
    },
    {
     "name": "stdout",
     "output_type": "stream",
     "text": [
      "Bitzeny https://www.reddit.com/r/CryptoCurrency/\n"
     ]
    },
    {
     "name": "stderr",
     "output_type": "stream",
     "text": [
      "\r",
      " 14%|██████████▌                                                                  | 184/1345 [43:52<4:50:24, 15.01s/it]"
     ]
    },
    {
     "name": "stdout",
     "output_type": "stream",
     "text": [
      "Delphy https://www.reddit.com/r/CryptoCurrency/comments/6mergu/delphi/\n"
     ]
    },
    {
     "name": "stderr",
     "output_type": "stream",
     "text": [
      "\r",
      " 14%|██████████▌                                                                  | 185/1345 [44:03<4:26:33, 13.79s/it]"
     ]
    },
    {
     "name": "stdout",
     "output_type": "stream",
     "text": [
      "Presearch https://www.reddit.com/r/CryptoCurrency/comments/6uxecp/presearch_a_real_alternative_or_just_another/\n"
     ]
    },
    {
     "name": "stderr",
     "output_type": "stream",
     "text": [
      "\r",
      " 14%|██████████▋                                                                  | 186/1345 [44:13<4:01:32, 12.50s/it]"
     ]
    },
    {
     "name": "stdout",
     "output_type": "stream",
     "text": [
      "Modum https://www.reddit.com/r/CryptoCurrency/comments/7agoyo/modum_listed_on_binance/\n"
     ]
    },
    {
     "name": "stderr",
     "output_type": "stream",
     "text": [
      "\r",
      " 14%|██████████▋                                                                  | 187/1345 [44:26<4:07:09, 12.81s/it]"
     ]
    },
    {
     "name": "stdout",
     "output_type": "stream",
     "text": [
      "MonetaryUnit https://www.reddit.com/r/crypto/\n"
     ]
    },
    {
     "name": "stderr",
     "output_type": "stream",
     "text": [
      "\r",
      " 14%|██████████▊                                                                  | 188/1345 [44:39<4:04:11, 12.66s/it]"
     ]
    },
    {
     "name": "stdout",
     "output_type": "stream",
     "text": [
      "Safe Exchange Coin https://www.reddit.com/r/CryptoCurrency/comments/72qvse/thoughts_safe_exchange_coin/\n"
     ]
    },
    {
     "name": "stderr",
     "output_type": "stream",
     "text": [
      "\r",
      " 14%|██████████▊                                                                  | 189/1345 [44:48<3:47:49, 11.82s/it]"
     ]
    },
    {
     "name": "stdout",
     "output_type": "stream",
     "text": [
      "Russian Miner Coin https://www.reddit.com/r/icocrypto/comments/6xb1pj/russian_miner_coin_russians_attempt_to_get/\n"
     ]
    },
    {
     "name": "stderr",
     "output_type": "stream",
     "text": [
      "\r",
      " 14%|██████████▉                                                                  | 190/1345 [44:59<3:42:53, 11.58s/it]"
     ]
    },
    {
     "name": "stdout",
     "output_type": "stream",
     "text": [
      "Shift https://www.reddit.com/r/ShiftNrg/\n"
     ]
    },
    {
     "name": "stderr",
     "output_type": "stream",
     "text": [
      "\r",
      " 14%|██████████▉                                                                  | 191/1345 [45:12<3:49:37, 11.94s/it]"
     ]
    },
    {
     "name": "stdout",
     "output_type": "stream",
     "text": [
      "Ambrosus https://www.reddit.com/r/CryptoCurrency/comments/7emwae/why_ambrosus_amb_is_such_a_hidden_gem_and_now_my/\n"
     ]
    },
    {
     "name": "stderr",
     "output_type": "stream",
     "text": [
      "\r",
      " 14%|██████████▉                                                                  | 192/1345 [45:27<4:03:34, 12.67s/it]"
     ]
    },
    {
     "name": "stdout",
     "output_type": "stream",
     "text": [
      "Cindicator https://www.reddit.com/r/Cindicator/comments/7ji6ft/use_of_cryptobot/\n"
     ]
    },
    {
     "name": "stderr",
     "output_type": "stream",
     "text": [
      "\r",
      " 14%|███████████                                                                  | 193/1345 [45:43<4:24:02, 13.75s/it]"
     ]
    },
    {
     "name": "stdout",
     "output_type": "stream",
     "text": [
      "NoLimitCoin https://www.reddit.com/r/nolimitcoin/\n"
     ]
    },
    {
     "name": "stderr",
     "output_type": "stream",
     "text": [
      "\r",
      " 14%|███████████                                                                  | 194/1345 [45:55<4:14:08, 13.25s/it]"
     ]
    },
    {
     "name": "stdout",
     "output_type": "stream",
     "text": [
      "BlackCoin https://www.reddit.com/r/blackcoin/\n"
     ]
    },
    {
     "name": "stderr",
     "output_type": "stream",
     "text": [
      "\r",
      " 14%|███████████▏                                                                 | 195/1345 [46:06<3:58:43, 12.46s/it]"
     ]
    },
    {
     "name": "stdout",
     "output_type": "stream",
     "text": [
      "HempCoin https://www.reddit.com/r/thehempcoin/\n"
     ]
    },
    {
     "name": "stderr",
     "output_type": "stream",
     "text": [
      "\r",
      " 15%|███████████▏                                                                 | 196/1345 [46:19<4:02:20, 12.65s/it]"
     ]
    },
    {
     "name": "stdout",
     "output_type": "stream",
     "text": [
      "Grid+ https://www.reddit.com/r/gridcoin/\n"
     ]
    },
    {
     "name": "stderr",
     "output_type": "stream",
     "text": [
      "\r",
      " 15%|███████████▎                                                                 | 197/1345 [46:30<3:52:54, 12.17s/it]"
     ]
    },
    {
     "name": "stdout",
     "output_type": "stream",
     "text": [
      "Synereo https://www.reddit.com/r/Synereo/\n"
     ]
    },
    {
     "name": "stderr",
     "output_type": "stream",
     "text": [
      "\r",
      " 15%|███████████▎                                                                 | 198/1345 [46:46<4:14:43, 13.32s/it]"
     ]
    },
    {
     "name": "stdout",
     "output_type": "stream",
     "text": [
      "Hive https://www.reddit.com/r/HiveProject_net/\n"
     ]
    },
    {
     "name": "stderr",
     "output_type": "stream",
     "text": [
      "\r",
      " 15%|███████████▍                                                                 | 199/1345 [46:57<4:04:27, 12.80s/it]"
     ]
    },
    {
     "name": "stdout",
     "output_type": "stream",
     "text": [
      "Xaurum https://www.reddit.com/r/CryptoCurrency/comments/4z6hjd/xaurum_wtf/\n"
     ]
    },
    {
     "name": "stderr",
     "output_type": "stream",
     "text": [
      "\r",
      " 15%|███████████▍                                                                 | 200/1345 [47:10<4:01:27, 12.65s/it]"
     ]
    },
    {
     "name": "stdout",
     "output_type": "stream",
     "text": [
      "GridCoin https://www.reddit.com/r/gridcoin/\n"
     ]
    },
    {
     "name": "stderr",
     "output_type": "stream",
     "text": [
      "\r",
      " 15%|███████████▌                                                                 | 201/1345 [47:25<4:17:58, 13.53s/it]"
     ]
    },
    {
     "name": "stdout",
     "output_type": "stream",
     "text": [
      "district0x https://www.reddit.com/r/district0x/\n"
     ]
    },
    {
     "name": "stderr",
     "output_type": "stream",
     "text": [
      "\r",
      " 15%|███████████▌                                                                 | 202/1345 [47:37<4:08:17, 13.03s/it]"
     ]
    },
    {
     "name": "stdout",
     "output_type": "stream",
     "text": [
      "Burst https://www.reddit.com/r/burstcoin/\n"
     ]
    },
    {
     "name": "stderr",
     "output_type": "stream",
     "text": [
      "\r",
      " 15%|███████████▌                                                                 | 203/1345 [47:49<4:04:31, 12.85s/it]"
     ]
    },
    {
     "name": "stdout",
     "output_type": "stream",
     "text": [
      "Patientory https://www.reddit.com/r/CryptoCurrency/comments/6fdmqc/patientory_raises_72_million_usd_to_transform/\n"
     ]
    },
    {
     "name": "stderr",
     "output_type": "stream",
     "text": [
      "\r",
      " 15%|███████████▋                                                                 | 204/1345 [48:05<4:19:46, 13.66s/it]"
     ]
    },
    {
     "name": "stdout",
     "output_type": "stream",
     "text": [
      "Omni https://www.reddit.com/r/omni/\n"
     ]
    },
    {
     "name": "stderr",
     "output_type": "stream",
     "text": [
      "\r",
      " 15%|███████████▋                                                                 | 205/1345 [48:15<3:59:52, 12.63s/it]"
     ]
    },
    {
     "name": "stdout",
     "output_type": "stream",
     "text": [
      "Humaniq https://www.reddit.com/r/icocrypto/comments/5hwfnh/humaniq_ethereum_based_service_delivering_1/\n"
     ]
    },
    {
     "name": "stderr",
     "output_type": "stream",
     "text": [
      "\r",
      " 15%|███████████▊                                                                 | 206/1345 [49:25<9:23:50, 29.70s/it]"
     ]
    },
    {
     "name": "stdout",
     "output_type": "stream",
     "text": [
      "TransferCoin https://www.reddit.com/r/CryptoMarkets/\n"
     ]
    },
    {
     "name": "stderr",
     "output_type": "stream",
     "text": [
      "\r",
      " 15%|███████████▊                                                                 | 207/1345 [49:34<7:28:47, 23.66s/it]"
     ]
    },
    {
     "name": "stdout",
     "output_type": "stream",
     "text": [
      "BitDice https://www.reddit.com/r/icocrypto/comments/6y9jvs/bitdice_casino_ico/\n"
     ]
    },
    {
     "name": "stderr",
     "output_type": "stream",
     "text": [
      "\r",
      " 15%|███████████▉                                                                 | 208/1345 [49:45<6:13:37, 19.72s/it]"
     ]
    },
    {
     "name": "stdout",
     "output_type": "stream",
     "text": [
      "XPlay https://www.reddit.com/r/CryptoCurrency/comments/6rwsr7/xplay_is_developing_an_erc20_compatible_token_for/\n"
     ]
    },
    {
     "name": "stderr",
     "output_type": "stream",
     "text": [
      "\r",
      " 16%|███████████▉                                                                 | 209/1345 [50:00<5:44:37, 18.20s/it]"
     ]
    },
    {
     "name": "stdout",
     "output_type": "stream",
     "text": [
      "Centra https://www.reddit.com/r/CryptoCurrency/comments/70b8u5/centra_tech_a_scam_or_not/\n"
     ]
    },
    {
     "name": "stderr",
     "output_type": "stream",
     "text": [
      "\r",
      " 16%|████████████                                                                 | 210/1345 [50:11<5:05:49, 16.17s/it]"
     ]
    },
    {
     "name": "stdout",
     "output_type": "stream",
     "text": [
      "Triggers https://www.reddit.com/r/CryptoCurrency/comments/6wxt70/why_i_am_holding_triggers_trig/\n"
     ]
    },
    {
     "name": "stderr",
     "output_type": "stream",
     "text": [
      "\r",
      " 16%|████████████                                                                 | 211/1345 [50:23<4:44:59, 15.08s/it]"
     ]
    },
    {
     "name": "stdout",
     "output_type": "stream",
     "text": [
      "ICOS https://www.reddit.com/r/icocrypto/\n"
     ]
    },
    {
     "name": "stderr",
     "output_type": "stream",
     "text": [
      "\r",
      " 16%|████████████▏                                                                | 212/1345 [50:37<4:36:23, 14.64s/it]"
     ]
    },
    {
     "name": "stdout",
     "output_type": "stream",
     "text": [
      "Golos https://www.reddit.com/r/Crypto_General/comments/7ja47j/100_profit_in_golos_join_bitcoin_trading_club_and/\n"
     ]
    },
    {
     "name": "stderr",
     "output_type": "stream",
     "text": [
      "\r",
      " 16%|████████████▏                                                                | 213/1345 [50:50<4:24:03, 14.00s/it]"
     ]
    },
    {
     "name": "stdout",
     "output_type": "stream",
     "text": [
      "Waves Community Token https://www.reddit.com/r/CryptoCurrency/comments/5th2mh/waves_community_token/\n"
     ]
    },
    {
     "name": "stderr",
     "output_type": "stream",
     "text": [
      "\r",
      " 16%|████████████▎                                                                | 214/1345 [51:01<4:06:27, 13.07s/it]"
     ]
    },
    {
     "name": "stdout",
     "output_type": "stream",
     "text": [
      "VeriCoin https://www.reddit.com/r/vericoin/\n"
     ]
    },
    {
     "name": "stderr",
     "output_type": "stream",
     "text": [
      "\r",
      " 16%|████████████▎                                                                | 215/1345 [51:14<4:05:48, 13.05s/it]"
     ]
    },
    {
     "name": "stdout",
     "output_type": "stream",
     "text": [
      "Unikoin Gold https://www.reddit.com/r/icocrypto/comments/6q0ua6/unikoin_gold/\n"
     ]
    },
    {
     "name": "stderr",
     "output_type": "stream",
     "text": [
      "\r",
      " 16%|████████████▎                                                                | 216/1345 [51:25<3:57:36, 12.63s/it]"
     ]
    },
    {
     "name": "stdout",
     "output_type": "stream",
     "text": [
      "BitSend https://www.reddit.com/r/CryptoCurrency/comments/6347h5/bitsend/\n"
     ]
    },
    {
     "name": "stderr",
     "output_type": "stream",
     "text": [
      "\r",
      " 16%|████████████▍                                                                | 217/1345 [51:41<4:13:42, 13.50s/it]"
     ]
    },
    {
     "name": "stdout",
     "output_type": "stream",
     "text": [
      "Boolberry https://www.reddit.com/r/boolberry/\n"
     ]
    },
    {
     "name": "stderr",
     "output_type": "stream",
     "text": [
      "\r",
      " 16%|████████████▍                                                                | 218/1345 [51:55<4:19:57, 13.84s/it]"
     ]
    },
    {
     "name": "stdout",
     "output_type": "stream",
     "text": [
      "Memetic / PepeCoin https://www.reddit.com/r/BytecoinBCN/comments/7iurup/new_to_bytecoin_and_crypto_in_general/\n"
     ]
    },
    {
     "name": "stderr",
     "output_type": "stream",
     "text": [
      "\r",
      " 16%|████████████▌                                                                | 219/1345 [52:06<4:02:48, 12.94s/it]"
     ]
    },
    {
     "name": "stdout",
     "output_type": "stream",
     "text": [
      "TokenCard https://www.reddit.com/r/CryptoCurrency/comments/6bx7t4/monaco_visa_vs_tokencard/\n"
     ]
    },
    {
     "name": "stderr",
     "output_type": "stream",
     "text": [
      "\r",
      " 16%|████████████▌                                                                | 220/1345 [52:17<3:48:33, 12.19s/it]"
     ]
    },
    {
     "name": "stdout",
     "output_type": "stream",
     "text": [
      "iXledger https://www.reddit.com/r/CryptoCurrency/comments/7f4vqo/ixledger_and_fidentiax_partner_to_disrupt_the/\n"
     ]
    },
    {
     "name": "stderr",
     "output_type": "stream",
     "text": [
      "\r",
      " 16%|████████████▋                                                                | 221/1345 [52:26<3:33:14, 11.38s/it]"
     ]
    },
    {
     "name": "stdout",
     "output_type": "stream",
     "text": [
      "SpankChain https://www.reddit.com/r/CryptoCurrency/comments/74ihrm/spankchain_district0x_love/\n"
     ]
    },
    {
     "name": "stderr",
     "output_type": "stream",
     "text": [
      "\r",
      " 17%|████████████▋                                                                | 222/1345 [52:37<3:29:30, 11.19s/it]"
     ]
    },
    {
     "name": "stdout",
     "output_type": "stream",
     "text": [
      "Polybius https://www.reddit.com/r/icocrypto/comments/6hdu93/polybius_scam_or_not/\n"
     ]
    },
    {
     "name": "stderr",
     "output_type": "stream",
     "text": [
      "\r",
      " 17%|████████████▊                                                                | 223/1345 [52:51<3:47:14, 12.15s/it]"
     ]
    },
    {
     "name": "stdout",
     "output_type": "stream",
     "text": [
      "Aventus https://www.reddit.com/r/Aventus/\n"
     ]
    },
    {
     "name": "stderr",
     "output_type": "stream",
     "text": [
      "\r",
      " 17%|████████████▊                                                                | 224/1345 [53:02<3:37:08, 11.62s/it]"
     ]
    },
    {
     "name": "stdout",
     "output_type": "stream",
     "text": [
      "ETHLend https://www.reddit.com/r/ETHLend/\n"
     ]
    },
    {
     "name": "stderr",
     "output_type": "stream",
     "text": [
      "\r",
      " 17%|████████████▉                                                                | 225/1345 [53:12<3:29:34, 11.23s/it]"
     ]
    },
    {
     "name": "stdout",
     "output_type": "stream",
     "text": [
      "Red Pulse https://www.reddit.com/r/CryptoCurrency/comments/7isqzv/red_pulse_is_partnering_with_bloomberg_and_18/\n"
     ]
    },
    {
     "name": "stderr",
     "output_type": "stream",
     "text": [
      "\r",
      " 17%|████████████▉                                                                | 226/1345 [53:23<3:30:18, 11.28s/it]"
     ]
    },
    {
     "name": "stdout",
     "output_type": "stream",
     "text": [
      "Dent https://www.reddit.com/r/CryptoCurrency/comments/6up5wn/dent_coin_thoughts/\n"
     ]
    },
    {
     "name": "stderr",
     "output_type": "stream",
     "text": [
      "\r",
      " 17%|████████████▉                                                                | 227/1345 [53:35<3:30:04, 11.27s/it]"
     ]
    },
    {
     "name": "stdout",
     "output_type": "stream",
     "text": [
      "Viberate https://www.reddit.com/r/viberate/comments/7j9edp/viberate_rolls_out_a_rewarding_system_allowing/\n"
     ]
    },
    {
     "name": "stderr",
     "output_type": "stream",
     "text": [
      " 17%|████████████▉                                                               | 229/1345 [55:13<10:32:12, 33.99s/it]"
     ]
    },
    {
     "name": "stdout",
     "output_type": "stream",
     "text": [
      "DigitalNote https://www.reddit.com/r/digitalNote/\n"
     ]
    },
    {
     "name": "stderr",
     "output_type": "stream",
     "text": [
      "\r",
      " 17%|█████████████▏                                                               | 230/1345 [55:25<8:25:55, 27.22s/it]"
     ]
    },
    {
     "name": "stdout",
     "output_type": "stream",
     "text": [
      "Swarm City https://www.reddit.com/r/CryptoCurrency/comments/6hlyfi/give_swarm_city_a_try/\n"
     ]
    },
    {
     "name": "stderr",
     "output_type": "stream",
     "text": [
      "\r",
      " 17%|█████████████▏                                                               | 231/1345 [55:36<6:57:59, 22.51s/it]"
     ]
    },
    {
     "name": "stdout",
     "output_type": "stream",
     "text": [
      "LEOcoin https://www.reddit.com/r/CryptoCurrency/comments/53d82s/leocoin/\n"
     ]
    },
    {
     "name": "stderr",
     "output_type": "stream",
     "text": [
      "\r",
      " 17%|█████████████▎                                                               | 232/1345 [55:47<5:51:47, 18.96s/it]"
     ]
    },
    {
     "name": "stdout",
     "output_type": "stream",
     "text": [
      "Rubycoin https://www.reddit.com/r/CryptoCurrency/comments/6g3ag8/rubycoin_very_suspicious/\n"
     ]
    },
    {
     "name": "stderr",
     "output_type": "stream",
     "text": [
      "\r",
      " 17%|█████████████▎                                                               | 233/1345 [56:00<5:21:13, 17.33s/it]"
     ]
    },
    {
     "name": "stdout",
     "output_type": "stream",
     "text": [
      "Steem Dollars https://www.reddit.com/r/steemit/\n"
     ]
    },
    {
     "name": "stderr",
     "output_type": "stream",
     "text": [
      "\r",
      " 17%|█████████████▍                                                               | 234/1345 [56:10<4:36:30, 14.93s/it]"
     ]
    },
    {
     "name": "stdout",
     "output_type": "stream",
     "text": [
      "FedoraCoin https://www.reddit.com/r/FedoraCoin/\n"
     ]
    },
    {
     "name": "stderr",
     "output_type": "stream",
     "text": [
      "\r",
      " 17%|█████████████▍                                                               | 235/1345 [56:20<4:10:03, 13.52s/it]"
     ]
    },
    {
     "name": "stdout",
     "output_type": "stream",
     "text": [
      "Etherparty https://www.reddit.com/r/etherparty/\n"
     ]
    },
    {
     "name": "stderr",
     "output_type": "stream",
     "text": [
      "\r",
      " 18%|█████████████▌                                                               | 236/1345 [56:33<4:04:50, 13.25s/it]"
     ]
    },
    {
     "name": "stdout",
     "output_type": "stream",
     "text": [
      "XP https://www.reddit.com/r/crypto/\n"
     ]
    },
    {
     "name": "stderr",
     "output_type": "stream",
     "text": [
      "\r",
      " 18%|█████████████▌                                                               | 237/1345 [56:43<3:50:03, 12.46s/it]"
     ]
    },
    {
     "name": "stdout",
     "output_type": "stream",
     "text": [
      "Stox https://www.reddit.com/r/STOX/\n"
     ]
    },
    {
     "name": "stderr",
     "output_type": "stream",
     "text": [
      "\r",
      " 18%|█████████████▋                                                               | 238/1345 [56:55<3:43:59, 12.14s/it]"
     ]
    },
    {
     "name": "stdout",
     "output_type": "stream",
     "text": [
      "Genesis Vision https://www.reddit.com/r/CryptoMarkets/comments/76rmvm/genesis_vision_ico_is_live/\n"
     ]
    },
    {
     "name": "stderr",
     "output_type": "stream",
     "text": [
      "\r",
      " 18%|█████████████▋                                                               | 239/1345 [57:08<3:50:39, 12.51s/it]"
     ]
    },
    {
     "name": "stdout",
     "output_type": "stream",
     "text": [
      "Gambit https://www.reddit.com/r/GambitCoin/\n"
     ]
    },
    {
     "name": "stderr",
     "output_type": "stream",
     "text": [
      "\r",
      " 18%|█████████████▋                                                               | 240/1345 [57:18<3:39:12, 11.90s/it]"
     ]
    },
    {
     "name": "stdout",
     "output_type": "stream",
     "text": [
      "BCAP https://www.reddit.com/r/CryptoCurrency/comments/639vmt/what_are_your_thoughts_on_bcap_and_should_we/\n"
     ]
    },
    {
     "name": "stderr",
     "output_type": "stream",
     "text": [
      "\r",
      " 18%|█████████████▊                                                               | 241/1345 [57:29<3:31:19, 11.48s/it]"
     ]
    },
    {
     "name": "stdout",
     "output_type": "stream",
     "text": [
      "Soarcoin https://www.reddit.com/r/CryptoCurrency/comments/5xiks8/cryptocurrency_set_to_soar/\n"
     ]
    },
    {
     "name": "stderr",
     "output_type": "stream",
     "text": [
      "\r",
      " 18%|█████████████▊                                                               | 242/1345 [57:44<3:52:25, 12.64s/it]"
     ]
    },
    {
     "name": "stdout",
     "output_type": "stream",
     "text": [
      "BridgeCoin https://www.reddit.com/r/Ripple/\n"
     ]
    },
    {
     "name": "stderr",
     "output_type": "stream",
     "text": [
      "\r",
      " 18%|█████████████▉                                                               | 243/1345 [57:55<3:41:16, 12.05s/it]"
     ]
    },
    {
     "name": "stdout",
     "output_type": "stream",
     "text": [
      "ATBCoin https://www.reddit.com/r/icocrypto/comments/6hbpfh/atb_coin/\n"
     ]
    },
    {
     "name": "stderr",
     "output_type": "stream",
     "text": [
      "\r",
      " 18%|█████████████▉                                                               | 244/1345 [58:05<3:32:50, 11.60s/it]"
     ]
    },
    {
     "name": "stdout",
     "output_type": "stream",
     "text": [
      "Clams https://www.reddit.com/r/Clamcoin/\n"
     ]
    },
    {
     "name": "stderr",
     "output_type": "stream",
     "text": [
      "\r",
      " 18%|██████████████                                                               | 245/1345 [58:17<3:33:10, 11.63s/it]"
     ]
    },
    {
     "name": "stdout",
     "output_type": "stream",
     "text": [
      "OracleChain https://www.reddit.com/r/CryptoCurrency/comments/745jg3/chainlink_link_decentralized_oracle_for_smart/\n"
     ]
    },
    {
     "name": "stderr",
     "output_type": "stream",
     "text": [
      "\r",
      " 18%|██████████████                                                               | 246/1345 [58:30<3:42:04, 12.12s/it]"
     ]
    },
    {
     "name": "stdout",
     "output_type": "stream",
     "text": [
      "Rialto https://www.reddit.com/r/RialtoAI/\n"
     ]
    },
    {
     "name": "stderr",
     "output_type": "stream",
     "text": [
      "\r",
      " 18%|██████████████▏                                                              | 247/1345 [58:44<3:49:44, 12.55s/it]"
     ]
    },
    {
     "name": "stdout",
     "output_type": "stream",
     "text": [
      "Databits https://www.reddit.com/r/CryptoCurrency/comments/5ovv7e/ama_we_are_the_creators_of_databits_used_by_an_ar/\n"
     ]
    },
    {
     "name": "stderr",
     "output_type": "stream",
     "text": [
      "\r",
      " 18%|██████████████▏                                                              | 248/1345 [58:57<3:49:28, 12.55s/it]"
     ]
    },
    {
     "name": "stdout",
     "output_type": "stream",
     "text": [
      "Po.et https://www.reddit.com/r/CryptoCurrency/\n"
     ]
    },
    {
     "name": "stderr",
     "output_type": "stream",
     "text": [
      "\r",
      " 19%|██████████████▎                                                              | 249/1345 [59:07<3:37:35, 11.91s/it]"
     ]
    },
    {
     "name": "stdout",
     "output_type": "stream",
     "text": [
      "Everex https://www.reddit.com/r/icocrypto/\n"
     ]
    },
    {
     "name": "stderr",
     "output_type": "stream",
     "text": [
      " 19%|█████████████▊                                                            | 251/1345 [1:00:43<10:13:25, 33.64s/it]"
     ]
    },
    {
     "name": "stdout",
     "output_type": "stream",
     "text": [
      "The ChampCoin https://www.reddit.com/r/CryptoCurrency/\n"
     ]
    },
    {
     "name": "stderr",
     "output_type": "stream",
     "text": [
      "\r",
      " 19%|██████████████                                                             | 252/1345 [1:00:53<8:05:41, 26.66s/it]"
     ]
    },
    {
     "name": "stdout",
     "output_type": "stream",
     "text": [
      "adToken https://www.reddit.com/r/CryptoMarkets/comments/6u8ocl/adtoken_and_bat_coins/\n"
     ]
    },
    {
     "name": "stderr",
     "output_type": "stream",
     "text": [
      "\r",
      " 19%|██████████████                                                             | 253/1345 [1:01:06<6:48:34, 22.45s/it]"
     ]
    },
    {
     "name": "stdout",
     "output_type": "stream",
     "text": [
      "SunContract https://www.reddit.com/r/CryptoCurrency/comments/6ieomv/any_thoughts_on_snc_suncontract_ico/\n"
     ]
    },
    {
     "name": "stderr",
     "output_type": "stream",
     "text": [
      "\r",
      " 19%|██████████████▏                                                            | 254/1345 [1:01:17<5:49:07, 19.20s/it]"
     ]
    },
    {
     "name": "stdout",
     "output_type": "stream",
     "text": [
      "bitCNY https://www.reddit.com/r/BitShares/\n"
     ]
    },
    {
     "name": "stderr",
     "output_type": "stream",
     "text": [
      "\r",
      " 19%|██████████████▏                                                            | 255/1345 [1:01:32<5:22:55, 17.78s/it]"
     ]
    },
    {
     "name": "stdout",
     "output_type": "stream",
     "text": [
      "Unobtanium https://www.reddit.com/r/Unobtanium/\n"
     ]
    },
    {
     "name": "stderr",
     "output_type": "stream",
     "text": [
      "\r",
      " 19%|██████████████▎                                                            | 256/1345 [1:01:45<4:58:37, 16.45s/it]"
     ]
    },
    {
     "name": "stdout",
     "output_type": "stream",
     "text": [
      "OBITS https://www.reddit.com/r/BitShares/\n"
     ]
    },
    {
     "name": "stderr",
     "output_type": "stream",
     "text": [
      "\r",
      " 19%|██████████████▎                                                            | 257/1345 [1:01:55<4:20:30, 14.37s/it]"
     ]
    },
    {
     "name": "stdout",
     "output_type": "stream",
     "text": [
      "SolarCoin https://www.reddit.com/r/SolarCoin/\n"
     ]
    },
    {
     "name": "stderr",
     "output_type": "stream",
     "text": [
      "\r",
      " 19%|██████████████▍                                                            | 258/1345 [1:02:06<4:03:55, 13.46s/it]"
     ]
    },
    {
     "name": "stdout",
     "output_type": "stream",
     "text": [
      "ALIS https://www.reddit.com/r/CryptoCurrency/comments/6t5asl/alis_releaseico_and_disucussion/\n"
     ]
    },
    {
     "name": "stderr",
     "output_type": "stream",
     "text": [
      "\r",
      " 19%|██████████████▍                                                            | 259/1345 [1:02:19<3:59:14, 13.22s/it]"
     ]
    },
    {
     "name": "stdout",
     "output_type": "stream",
     "text": [
      "NeosCoin https://www.reddit.com/r/NeosCoin/\n"
     ]
    },
    {
     "name": "stderr",
     "output_type": "stream",
     "text": [
      "\r",
      " 19%|██████████████▍                                                            | 260/1345 [1:02:32<4:01:29, 13.35s/it]"
     ]
    },
    {
     "name": "stdout",
     "output_type": "stream",
     "text": [
      "Sphere https://www.reddit.com/r/ethtrader/comments/7i0yu6/the_crypto_sphere_right_now/\n"
     ]
    },
    {
     "name": "stderr",
     "output_type": "stream",
     "text": [
      "\r",
      " 19%|██████████████▌                                                            | 261/1345 [1:02:45<3:58:29, 13.20s/it]"
     ]
    },
    {
     "name": "stdout",
     "output_type": "stream",
     "text": [
      "Nimiq https://www.reddit.com/r/Nimiq/\n"
     ]
    },
    {
     "name": "stderr",
     "output_type": "stream",
     "text": [
      "\r",
      " 19%|██████████████▌                                                            | 262/1345 [1:02:58<3:54:47, 13.01s/it]"
     ]
    },
    {
     "name": "stdout",
     "output_type": "stream",
     "text": [
      "Peerplays https://www.reddit.com/r/icocrypto/comments/6851lj/peerplays_crowdfund_live_til_may_14_new_interface/\n"
     ]
    },
    {
     "name": "stderr",
     "output_type": "stream",
     "text": [
      "\r",
      " 20%|██████████████▋                                                            | 263/1345 [1:03:09<3:46:51, 12.58s/it]"
     ]
    },
    {
     "name": "stdout",
     "output_type": "stream",
     "text": [
      "Paragon https://www.reddit.com/r/CryptoCurrency/comments/6zn6jx/daily_reminder_steer_clear_of_paragon_ico/\n"
     ]
    },
    {
     "name": "stderr",
     "output_type": "stream",
     "text": [
      "\r",
      " 20%|██████████████▋                                                            | 264/1345 [1:03:19<3:30:06, 11.66s/it]"
     ]
    },
    {
     "name": "stdout",
     "output_type": "stream",
     "text": [
      "FoldingCoin https://www.reddit.com/r/FoldingCoin/\n"
     ]
    },
    {
     "name": "stderr",
     "output_type": "stream",
     "text": [
      "\r",
      " 20%|██████████████▊                                                            | 265/1345 [1:03:31<3:34:04, 11.89s/it]"
     ]
    },
    {
     "name": "stdout",
     "output_type": "stream",
     "text": [
      "Credo https://www.reddit.com/r/CryptoCurrency/comments/6xbx55/bitbounce_credo_coin/\n"
     ]
    },
    {
     "name": "stderr",
     "output_type": "stream",
     "text": [
      "\r",
      " 20%|██████████████▊                                                            | 266/1345 [1:03:43<3:33:09, 11.85s/it]"
     ]
    },
    {
     "name": "stdout",
     "output_type": "stream",
     "text": [
      "Agrello https://www.reddit.com/r/CryptoCurrency/comments/6zadoc/is_agrello_worth_investing_in/\n"
     ]
    },
    {
     "name": "stderr",
     "output_type": "stream",
     "text": [
      "\r",
      " 20%|██████████████▉                                                            | 267/1345 [1:03:57<3:46:22, 12.60s/it]"
     ]
    },
    {
     "name": "stdout",
     "output_type": "stream",
     "text": [
      "ClearPoll https://www.reddit.com/r/CryptoCurrency/comments/7gqz5v/clearpolls_new_project_clearify/\n"
     ]
    },
    {
     "name": "stderr",
     "output_type": "stream",
     "text": [
      "\r",
      " 20%|██████████████▉                                                            | 268/1345 [1:04:12<3:57:44, 13.24s/it]"
     ]
    },
    {
     "name": "stdout",
     "output_type": "stream",
     "text": [
      "Bodhi https://www.reddit.com/r/CryptoCurrency/\n"
     ]
    },
    {
     "name": "stderr",
     "output_type": "stream",
     "text": [
      "\r",
      " 20%|███████████████                                                            | 269/1345 [1:04:24<3:51:16, 12.90s/it]"
     ]
    },
    {
     "name": "stdout",
     "output_type": "stream",
     "text": [
      "NuShares https://www.reddit.com/r/CryptoCurrency/comments/2vmpp1/nushares_the_losses_are_a_continuation_of_its/\n"
     ]
    },
    {
     "name": "stderr",
     "output_type": "stream",
     "text": [
      "\r",
      " 20%|███████████████                                                            | 270/1345 [1:04:36<3:44:24, 12.53s/it]"
     ]
    },
    {
     "name": "stdout",
     "output_type": "stream",
     "text": [
      "Expanse https://www.reddit.com/r/ExpanseOfficial/\n"
     ]
    },
    {
     "name": "stderr",
     "output_type": "stream",
     "text": [
      "\r",
      " 20%|███████████████                                                            | 271/1345 [1:04:52<4:00:50, 13.45s/it]"
     ]
    },
    {
     "name": "stdout",
     "output_type": "stream",
     "text": [
      "Pascal Coin https://www.reddit.com/r/pascalcoin/\n"
     ]
    },
    {
     "name": "stderr",
     "output_type": "stream",
     "text": [
      "\r",
      " 20%|███████████████▏                                                           | 272/1345 [1:05:03<3:51:13, 12.93s/it]"
     ]
    },
    {
     "name": "stdout",
     "output_type": "stream",
     "text": [
      "Energycoin https://www.reddit.com/r/CryptoMarkets/comments/6jbj5q/why_is_energycoin_raising/\n"
     ]
    },
    {
     "name": "stderr",
     "output_type": "stream",
     "text": [
      "\r",
      " 20%|███████████████▏                                                           | 273/1345 [1:05:17<3:54:33, 13.13s/it]"
     ]
    },
    {
     "name": "stdout",
     "output_type": "stream",
     "text": [
      "Universal Currency https://www.reddit.com/r/CryptoCurrency/\n"
     ]
    },
    {
     "name": "stderr",
     "output_type": "stream",
     "text": [
      "\r",
      " 20%|███████████████▎                                                           | 274/1345 [1:05:27<3:41:00, 12.38s/it]"
     ]
    },
    {
     "name": "stdout",
     "output_type": "stream",
     "text": [
      "Maecenas https://www.reddit.com/r/Maecenas/\n"
     ]
    },
    {
     "name": "stderr",
     "output_type": "stream",
     "text": [
      "\r",
      " 20%|███████████████▎                                                           | 275/1345 [1:05:40<3:41:48, 12.44s/it]"
     ]
    },
    {
     "name": "stdout",
     "output_type": "stream",
     "text": [
      "DomRaider https://www.reddit.com/r/icocrypto/comments/6xksvv/ico_review_domraider_decentralised_blockchain/\n"
     ]
    },
    {
     "name": "stderr",
     "output_type": "stream",
     "text": [
      "\r",
      " 21%|███████████████▍                                                           | 276/1345 [1:05:53<3:44:38, 12.61s/it]"
     ]
    },
    {
     "name": "stdout",
     "output_type": "stream",
     "text": [
      "Monetha https://www.reddit.com/r/CryptoCurrency/comments/6wdg4d/why_monetha_is_a_terrible_ico_my_post_was_deleted/\n"
     ]
    },
    {
     "name": "stderr",
     "output_type": "stream",
     "text": [
      "\r",
      " 21%|███████████████▍                                                           | 277/1345 [1:06:04<3:34:24, 12.05s/it]"
     ]
    },
    {
     "name": "stdout",
     "output_type": "stream",
     "text": [
      "Vcash https://www.reddit.com/r/CryptoMarkets/\n"
     ]
    },
    {
     "name": "stderr",
     "output_type": "stream",
     "text": [
      "\r",
      " 21%|███████████████▌                                                           | 278/1345 [1:07:15<8:48:56, 29.74s/it]"
     ]
    },
    {
     "name": "stdout",
     "output_type": "stream",
     "text": [
      "Mothership https://www.reddit.com/r/CryptoCurrency/comments/6m3a3k/mothership_ico/\n"
     ]
    },
    {
     "name": "stderr",
     "output_type": "stream",
     "text": [
      "\r",
      " 21%|███████████████▌                                                           | 279/1345 [1:07:25<7:04:21, 23.88s/it]"
     ]
    },
    {
     "name": "stdout",
     "output_type": "stream",
     "text": [
      "Tao https://www.reddit.com/r/CryptoCurrency/\n"
     ]
    },
    {
     "name": "stderr",
     "output_type": "stream",
     "text": [
      "\r",
      " 21%|███████████████▌                                                           | 280/1345 [1:07:38<6:07:57, 20.73s/it]"
     ]
    },
    {
     "name": "stdout",
     "output_type": "stream",
     "text": [
      "MCAP https://www.reddit.com/r/CryptoCurrencies/comments/6acyjb/mcap_legit/\n"
     ]
    },
    {
     "name": "stderr",
     "output_type": "stream",
     "text": [
      "\r",
      " 21%|███████████████▋                                                           | 281/1345 [1:07:53<5:34:23, 18.86s/it]"
     ]
    },
    {
     "name": "stdout",
     "output_type": "stream",
     "text": [
      "Bitdeal https://www.reddit.com/r/CryptoMarkets/\n"
     ]
    },
    {
     "name": "stderr",
     "output_type": "stream",
     "text": [
      "\r",
      " 21%|███████████████▋                                                           | 282/1345 [1:08:03<4:48:45, 16.30s/it]"
     ]
    },
    {
     "name": "stdout",
     "output_type": "stream",
     "text": [
      "Blackmoon Crypto https://www.reddit.com/r/BlackMoonCrypto/\n"
     ]
    },
    {
     "name": "stderr",
     "output_type": "stream",
     "text": [
      "\r",
      " 21%|███████████████▊                                                           | 283/1345 [1:08:14<4:17:16, 14.54s/it]"
     ]
    },
    {
     "name": "stdout",
     "output_type": "stream",
     "text": [
      "LoMoCoin https://www.reddit.com/r/CryptoMarkets/comments/6j1dwt/lomocoin_lmc_announcement/\n"
     ]
    },
    {
     "name": "stderr",
     "output_type": "stream",
     "text": [
      "\r",
      " 21%|███████████████▊                                                           | 284/1345 [1:08:26<4:06:13, 13.92s/it]"
     ]
    },
    {
     "name": "stdout",
     "output_type": "stream",
     "text": [
      "FlorinCoin https://www.reddit.com/r/florincoin/\n"
     ]
    },
    {
     "name": "stderr",
     "output_type": "stream",
     "text": [
      "\r",
      " 21%|███████████████▉                                                           | 285/1345 [1:08:37<3:47:25, 12.87s/it]"
     ]
    },
    {
     "name": "stdout",
     "output_type": "stream",
     "text": [
      "Target Coin https://www.reddit.com/r/CryptoCurrency/\n"
     ]
    },
    {
     "name": "stderr",
     "output_type": "stream",
     "text": [
      "\r",
      " 21%|███████████████▉                                                           | 286/1345 [1:08:49<3:46:08, 12.81s/it]"
     ]
    },
    {
     "name": "stdout",
     "output_type": "stream",
     "text": [
      "Mysterium https://www.reddit.com/r/CryptoCurrency/comments/6cu87x/thoughts_on_mysterium/\n"
     ]
    },
    {
     "name": "stderr",
     "output_type": "stream",
     "text": [
      "\r",
      " 21%|████████████████                                                           | 287/1345 [1:09:05<3:59:38, 13.59s/it]"
     ]
    },
    {
     "name": "stdout",
     "output_type": "stream",
     "text": [
      "KickCoin https://www.reddit.com/r/CryptoCurrency/\n"
     ]
    },
    {
     "name": "stderr",
     "output_type": "stream",
     "text": [
      "\r",
      " 21%|████████████████                                                           | 288/1345 [1:09:15<3:43:08, 12.67s/it]"
     ]
    },
    {
     "name": "stdout",
     "output_type": "stream",
     "text": [
      "E-Dinar Coin https://www.reddit.com/r/CryptoCurrency/comments/4i1rbl/edrcoin/\n"
     ]
    },
    {
     "name": "stderr",
     "output_type": "stream",
     "text": [
      "\r",
      " 21%|████████████████                                                           | 289/1345 [1:09:26<3:33:19, 12.12s/it]"
     ]
    },
    {
     "name": "stdout",
     "output_type": "stream",
     "text": [
      "Oxycoin https://www.reddit.com/r/oxycoin/\n"
     ]
    },
    {
     "name": "stderr",
     "output_type": "stream",
     "text": [
      "\r",
      " 22%|████████████████▏                                                          | 290/1345 [1:09:40<3:45:02, 12.80s/it]"
     ]
    },
    {
     "name": "stdout",
     "output_type": "stream",
     "text": [
      "HEAT https://www.reddit.com/r/CryptoCurrency/comments/4rypw0/heat_30_crypto/\n"
     ]
    },
    {
     "name": "stderr",
     "output_type": "stream",
     "text": [
      "\r",
      " 22%|████████████████▏                                                          | 291/1345 [1:09:50<3:26:01, 11.73s/it]"
     ]
    },
    {
     "name": "stdout",
     "output_type": "stream",
     "text": [
      "Rivetz https://www.reddit.com/r/icocrypto/comments/6vkzjd/rivetz_ico/\n"
     ]
    },
    {
     "name": "stderr",
     "output_type": "stream",
     "text": [
      "\r",
      " 22%|████████████████▎                                                          | 292/1345 [1:10:03<3:35:17, 12.27s/it]"
     ]
    },
    {
     "name": "stdout",
     "output_type": "stream",
     "text": [
      "Exchange Union https://www.reddit.com/r/CryptoCurrency/\n"
     ]
    },
    {
     "name": "stderr",
     "output_type": "stream",
     "text": [
      "\r",
      " 22%|████████████████▎                                                          | 293/1345 [1:10:14<3:25:23, 11.71s/it]"
     ]
    },
    {
     "name": "stdout",
     "output_type": "stream",
     "text": [
      "Masternodecoin https://www.reddit.com/r/CryptoCurrency/comments/61cw0e/best_master_nodes_to_invest_in/\n"
     ]
    },
    {
     "name": "stderr",
     "output_type": "stream",
     "text": [
      "\r",
      " 22%|████████████████▍                                                          | 294/1345 [1:10:26<3:29:34, 11.96s/it]"
     ]
    },
    {
     "name": "stdout",
     "output_type": "stream",
     "text": [
      "ToaCoin https://www.reddit.com/r/CryptoCurrency/\n"
     ]
    },
    {
     "name": "stderr",
     "output_type": "stream",
     "text": [
      "\r",
      " 22%|████████████████▍                                                          | 295/1345 [1:10:36<3:16:23, 11.22s/it]"
     ]
    },
    {
     "name": "stdout",
     "output_type": "stream",
     "text": [
      "Incent https://www.reddit.com/r/icocrypto/comments/53ng0p/incent_incnt/\n"
     ]
    },
    {
     "name": "stderr",
     "output_type": "stream",
     "text": [
      "\r",
      " 22%|████████████████▌                                                          | 296/1345 [1:10:47<3:14:31, 11.13s/it]"
     ]
    },
    {
     "name": "stdout",
     "output_type": "stream",
     "text": [
      "Nexium https://www.reddit.com/r/icocrypto/comments/54a8n6/beyond_the_void_nexium/\n"
     ]
    },
    {
     "name": "stderr",
     "output_type": "stream",
     "text": [
      "\r",
      " 22%|████████████████▌                                                          | 297/1345 [1:10:57<3:12:32, 11.02s/it]"
     ]
    },
    {
     "name": "stdout",
     "output_type": "stream",
     "text": [
      "NVO https://www.reddit.com/r/icocrypto/\n"
     ]
    },
    {
     "name": "stderr",
     "output_type": "stream",
     "text": [
      "\r",
      " 22%|████████████████▌                                                          | 298/1345 [1:11:08<3:10:04, 10.89s/it]"
     ]
    },
    {
     "name": "stdout",
     "output_type": "stream",
     "text": [
      "Chronobank https://www.reddit.com/r/CryptoCurrency/\n"
     ]
    },
    {
     "name": "stderr",
     "output_type": "stream",
     "text": [
      "\r",
      " 22%|████████████████▋                                                          | 299/1345 [1:11:19<3:13:14, 11.08s/it]"
     ]
    },
    {
     "name": "stdout",
     "output_type": "stream",
     "text": [
      "AirToken https://www.reddit.com/r/CryptoCurrency/comments/7catwj/airfox_airtoken_huge_buying_opportunity_or_am_i/\n"
     ]
    },
    {
     "name": "stderr",
     "output_type": "stream",
     "text": [
      "\r",
      " 22%|████████████████▋                                                          | 300/1345 [1:11:30<3:10:24, 10.93s/it]"
     ]
    },
    {
     "name": "stdout",
     "output_type": "stream",
     "text": [
      "Primas https://www.reddit.com/r/CryptoCurrency/\n"
     ]
    },
    {
     "name": "stderr",
     "output_type": "stream",
     "text": [
      "\r",
      " 22%|████████████████▊                                                          | 301/1345 [1:11:45<3:30:52, 12.12s/it]"
     ]
    },
    {
     "name": "stdout",
     "output_type": "stream",
     "text": [
      "Auroracoin https://www.reddit.com/r/auroracoin/\n"
     ]
    },
    {
     "name": "stderr",
     "output_type": "stream",
     "text": [
      "\r",
      " 22%|████████████████▊                                                          | 302/1345 [1:11:59<3:39:13, 12.61s/it]"
     ]
    },
    {
     "name": "stdout",
     "output_type": "stream",
     "text": [
      "EncrypGen https://www.reddit.com/r/icocrypto/comments/6kp5px/encrypgen_ceo_dr_koepsell_reddit_iama_on_0207/\n"
     ]
    },
    {
     "name": "stderr",
     "output_type": "stream",
     "text": [
      "\r",
      " 23%|████████████████▉                                                          | 303/1345 [1:12:11<3:38:36, 12.59s/it]"
     ]
    },
    {
     "name": "stdout",
     "output_type": "stream",
     "text": [
      "Mooncoin https://www.reddit.com/r/MoonCoin/\n"
     ]
    },
    {
     "name": "stderr",
     "output_type": "stream",
     "text": [
      "\r",
      " 23%|████████████████▉                                                          | 304/1345 [1:12:24<3:41:49, 12.79s/it]"
     ]
    },
    {
     "name": "stdout",
     "output_type": "stream",
     "text": [
      "BitBean https://www.reddit.com/r/BitBean/\n"
     ]
    },
    {
     "name": "stderr",
     "output_type": "stream",
     "text": [
      "\r",
      " 23%|█████████████████                                                          | 305/1345 [1:12:35<3:31:27, 12.20s/it]"
     ]
    },
    {
     "name": "stdout",
     "output_type": "stream",
     "text": [
      "Lunyr https://www.reddit.com/r/CryptoCurrency/comments/6t3l1l/um_lunyr_26078_24h/\n"
     ]
    },
    {
     "name": "stderr",
     "output_type": "stream",
     "text": [
      "\r",
      " 23%|█████████████████                                                          | 306/1345 [1:12:47<3:26:44, 11.94s/it]"
     ]
    },
    {
     "name": "stdout",
     "output_type": "stream",
     "text": [
      "Xenon https://www.reddit.com/r/CryptoCurrency/\n"
     ]
    },
    {
     "name": "stderr",
     "output_type": "stream",
     "text": [
      "\r",
      " 23%|█████████████████                                                          | 307/1345 [1:14:01<8:52:00, 30.75s/it]"
     ]
    },
    {
     "name": "stdout",
     "output_type": "stream",
     "text": [
      "Change https://www.reddit.com/r/CryptoCurrency/\n"
     ]
    },
    {
     "name": "stderr",
     "output_type": "stream",
     "text": [
      "\r",
      " 23%|█████████████████▏                                                         | 308/1345 [1:14:13<7:11:23, 24.96s/it]"
     ]
    },
    {
     "name": "stdout",
     "output_type": "stream",
     "text": [
      "Quantum https://www.reddit.com/r/QuantumComputing/\n"
     ]
    },
    {
     "name": "stderr",
     "output_type": "stream",
     "text": [
      "\r",
      " 23%|█████████████████▏                                                         | 309/1345 [1:14:25<6:06:32, 21.23s/it]"
     ]
    },
    {
     "name": "stdout",
     "output_type": "stream",
     "text": [
      "Ethereum Movie Venture https://www.reddit.com/r/CryptoCurrency/comments/5zuejl/ethereum_movie_venture_ico/\n"
     ]
    },
    {
     "name": "stderr",
     "output_type": "stream",
     "text": [
      "\r",
      " 23%|█████████████████▎                                                         | 310/1345 [1:14:40<5:31:26, 19.21s/it]"
     ]
    },
    {
     "name": "stdout",
     "output_type": "stream",
     "text": [
      "Sequence https://www.reddit.com/r/cryptography/\n"
     ]
    },
    {
     "name": "stderr",
     "output_type": "stream",
     "text": [
      "\r",
      " 23%|█████████████████▎                                                         | 311/1345 [1:14:53<5:02:42, 17.57s/it]"
     ]
    },
    {
     "name": "stdout",
     "output_type": "stream",
     "text": [
      "E-coin https://www.reddit.com/r/CryptoMarkets/\n"
     ]
    },
    {
     "name": "stderr",
     "output_type": "stream",
     "text": [
      "\r",
      " 23%|█████████████████▍                                                         | 312/1345 [1:15:05<4:30:56, 15.74s/it]"
     ]
    },
    {
     "name": "stdout",
     "output_type": "stream",
     "text": [
      "Obsidian https://www.reddit.com/r/ObsidianProject/\n"
     ]
    },
    {
     "name": "stderr",
     "output_type": "stream",
     "text": [
      "\r",
      " 23%|█████████████████▍                                                         | 313/1345 [1:15:18<4:18:37, 15.04s/it]"
     ]
    },
    {
     "name": "stdout",
     "output_type": "stream",
     "text": [
      "Curecoin https://www.reddit.com/r/CryptoCurrency/comments/1s2r7w/plz_explain_curecoin_points_score/\n"
     ]
    },
    {
     "name": "stderr",
     "output_type": "stream",
     "text": [
      "\r",
      " 23%|█████████████████▌                                                         | 314/1345 [1:15:28<3:50:08, 13.39s/it]"
     ]
    },
    {
     "name": "stdout",
     "output_type": "stream",
     "text": [
      "BlockCAT https://www.reddit.com/r/CryptoCurrency/comments/6vi1az/are_you_aware_of_blockcat_yet/\n"
     ]
    },
    {
     "name": "stderr",
     "output_type": "stream",
     "text": [
      "\r",
      " 23%|█████████████████▌                                                         | 315/1345 [1:15:40<3:41:42, 12.92s/it]"
     ]
    },
    {
     "name": "stdout",
     "output_type": "stream",
     "text": [
      "DeepOnion https://www.reddit.com/r/onions/\n"
     ]
    },
    {
     "name": "stderr",
     "output_type": "stream",
     "text": [
      "\r",
      " 23%|█████████████████▌                                                         | 316/1345 [1:15:55<3:52:25, 13.55s/it]"
     ]
    },
    {
     "name": "stdout",
     "output_type": "stream",
     "text": [
      "Novacoin https://www.reddit.com/r/Novacoin/\n"
     ]
    },
    {
     "name": "stderr",
     "output_type": "stream",
     "text": [
      "\r",
      " 24%|█████████████████▋                                                         | 317/1345 [1:16:08<3:51:31, 13.51s/it]"
     ]
    },
    {
     "name": "stdout",
     "output_type": "stream",
     "text": [
      "bitUSD https://www.reddit.com/r/CryptoCurrency/comments/2txxv0/bitusds_reaction_on_a_black_swan_event/\n"
     ]
    },
    {
     "name": "stderr",
     "output_type": "stream",
     "text": [
      "\r",
      " 24%|█████████████████▋                                                         | 318/1345 [1:16:19<3:36:04, 12.62s/it]"
     ]
    },
    {
     "name": "stdout",
     "output_type": "stream",
     "text": [
      "Musicoin https://www.reddit.com/r/CryptoCurrency/\n"
     ]
    },
    {
     "name": "stderr",
     "output_type": "stream",
     "text": [
      "\r",
      " 24%|█████████████████▊                                                         | 319/1345 [1:16:30<3:30:28, 12.31s/it]"
     ]
    },
    {
     "name": "stdout",
     "output_type": "stream",
     "text": [
      "PinkCoin https://www.reddit.com/r/pinkcoin/\n"
     ]
    },
    {
     "name": "stderr",
     "output_type": "stream",
     "text": [
      "\r",
      " 24%|█████████████████▊                                                         | 320/1345 [1:16:43<3:31:40, 12.39s/it]"
     ]
    },
    {
     "name": "stdout",
     "output_type": "stream",
     "text": [
      "Stealthcoin https://www.reddit.com/r/Stealthcoin/\n"
     ]
    },
    {
     "name": "stderr",
     "output_type": "stream",
     "text": [
      "\r",
      " 24%|█████████████████▉                                                         | 321/1345 [1:16:57<3:42:12, 13.02s/it]"
     ]
    },
    {
     "name": "stdout",
     "output_type": "stream",
     "text": [
      "Internet of People https://www.reddit.com/r/CryptoCurrency/comments/713w8e/internet_of_people/\n"
     ]
    },
    {
     "name": "stderr",
     "output_type": "stream",
     "text": [
      "\r",
      " 24%|█████████████████▉                                                         | 322/1345 [1:17:08<3:28:33, 12.23s/it]"
     ]
    },
    {
     "name": "stdout",
     "output_type": "stream",
     "text": [
      "Bitcrystals https://www.reddit.com/r/Bitcrystals/\n"
     ]
    },
    {
     "name": "stderr",
     "output_type": "stream",
     "text": [
      "\r",
      " 24%|██████████████████                                                         | 323/1345 [1:17:19<3:23:42, 11.96s/it]"
     ]
    },
    {
     "name": "stdout",
     "output_type": "stream",
     "text": [
      "Decision Token https://www.reddit.com/r/CryptoCurrency/\n"
     ]
    },
    {
     "name": "stderr",
     "output_type": "stream",
     "text": [
      "\r",
      " 24%|██████████████████                                                         | 324/1345 [1:17:36<3:47:17, 13.36s/it]"
     ]
    },
    {
     "name": "stdout",
     "output_type": "stream",
     "text": [
      "Pesetacoin https://www.reddit.com/r/CryptoCurrency/comments/6wy0dl/pesetacoin_ptc_any_thoughts/\n"
     ]
    },
    {
     "name": "stderr",
     "output_type": "stream",
     "text": [
      "\r",
      " 24%|██████████████████                                                         | 325/1345 [1:17:45<3:28:33, 12.27s/it]"
     ]
    },
    {
     "name": "stdout",
     "output_type": "stream",
     "text": [
      "Bitmark https://www.reddit.com/r/Bitmark/\n"
     ]
    },
    {
     "name": "stderr",
     "output_type": "stream",
     "text": [
      "\r",
      " 24%|██████████████████▏                                                        | 326/1345 [1:17:58<3:30:29, 12.39s/it]"
     ]
    },
    {
     "name": "stdout",
     "output_type": "stream",
     "text": [
      "InvestFeed https://www.reddit.com/r/CryptoCurrency/comments/6n3edf/investfeed_ico_a_social_network_for/\n"
     ]
    },
    {
     "name": "stderr",
     "output_type": "stream",
     "text": [
      "\r",
      " 24%|██████████████████▏                                                        | 327/1345 [1:18:10<3:26:27, 12.17s/it]"
     ]
    },
    {
     "name": "stdout",
     "output_type": "stream",
     "text": [
      "COSS https://www.reddit.com/r/COSS/\n"
     ]
    },
    {
     "name": "stderr",
     "output_type": "stream",
     "text": [
      "\r",
      " 24%|██████████████████▎                                                        | 328/1345 [1:18:20<3:18:23, 11.70s/it]"
     ]
    },
    {
     "name": "stdout",
     "output_type": "stream",
     "text": [
      "PoSW Coin https://www.reddit.com/r/CryptoCurrency/comments/65zv1z/owning_posw_coin_is_like_owning_shares_in_an/\n"
     ]
    },
    {
     "name": "stderr",
     "output_type": "stream",
     "text": [
      "\r",
      " 24%|██████████████████▎                                                        | 329/1345 [1:18:34<3:27:34, 12.26s/it]"
     ]
    },
    {
     "name": "stdout",
     "output_type": "stream",
     "text": [
      "PRIZM https://www.reddit.com/r/CryptoCurrency/\n"
     ]
    },
    {
     "name": "stderr",
     "output_type": "stream",
     "text": [
      "\r",
      " 25%|██████████████████▍                                                        | 330/1345 [1:18:43<3:12:48, 11.40s/it]"
     ]
    },
    {
     "name": "stdout",
     "output_type": "stream",
     "text": [
      "Dynamic https://www.reddit.com/r/CryptoCurrency/\n"
     ]
    },
    {
     "name": "stderr",
     "output_type": "stream",
     "text": [
      "\r",
      " 25%|██████████████████▍                                                        | 331/1345 [1:18:54<3:07:20, 11.09s/it]"
     ]
    },
    {
     "name": "stdout",
     "output_type": "stream",
     "text": [
      "Bitcloud https://www.reddit.com/r/CryptoCurrency/comments/78ud9i/setup_bitcloud_masternode_issues_linux/\n"
     ]
    },
    {
     "name": "stderr",
     "output_type": "stream",
     "text": [
      "\r",
      " 25%|██████████████████▌                                                        | 332/1345 [1:19:03<2:58:35, 10.58s/it]"
     ]
    },
    {
     "name": "stdout",
     "output_type": "stream",
     "text": [
      "LAToken https://www.reddit.com/r/LAToken/\n"
     ]
    },
    {
     "name": "stderr",
     "output_type": "stream",
     "text": [
      "\r",
      " 25%|██████████████████▌                                                        | 333/1345 [1:19:15<3:04:26, 10.94s/it]"
     ]
    },
    {
     "name": "stdout",
     "output_type": "stream",
     "text": [
      "Bitcoin Plus https://www.reddit.com/r/CryptoCurrency/comments/61vm07/what_the_hell_is_happening_to_bitcoin_plus/\n"
     ]
    },
    {
     "name": "stderr",
     "output_type": "stream",
     "text": [
      "\r",
      " 25%|██████████████████▌                                                        | 334/1345 [1:19:29<3:19:34, 11.84s/it]"
     ]
    },
    {
     "name": "stdout",
     "output_type": "stream",
     "text": [
      "Dovu https://www.reddit.com/r/CryptoCurrency/comments/7acpkq/dovu_jaguarland_rover_uk_government_backed_35mm/\n"
     ]
    },
    {
     "name": "stderr",
     "output_type": "stream",
     "text": [
      "\r",
      " 25%|██████████████████▋                                                        | 335/1345 [1:19:40<3:17:30, 11.73s/it]"
     ]
    },
    {
     "name": "stdout",
     "output_type": "stream",
     "text": [
      "CryptoPing https://www.reddit.com/r/Cisco/comments/4sits0/tunnel_is_upup_and_i_can_ping_across_but_crypto/\n"
     ]
    },
    {
     "name": "stderr",
     "output_type": "stream",
     "text": [
      "\r",
      " 25%|██████████████████▋                                                        | 336/1345 [1:20:54<8:31:23, 30.41s/it]"
     ]
    },
    {
     "name": "stdout",
     "output_type": "stream",
     "text": [
      "DAO.Casino https://www.reddit.com/r/CryptoMarkets/comments/6k26df/dao_casino_blockchain_gambling/\n"
     ]
    },
    {
     "name": "stderr",
     "output_type": "stream",
     "text": [
      "\r",
      " 25%|██████████████████▊                                                        | 337/1345 [1:21:06<6:54:44, 24.69s/it]"
     ]
    },
    {
     "name": "stdout",
     "output_type": "stream",
     "text": [
      "Primalbase Token https://www.reddit.com/r/icocrypto/comments/6h3k3a/primalbase_ico_is_shady_do_not_invest/\n"
     ]
    },
    {
     "name": "stderr",
     "output_type": "stream",
     "text": [
      "\r",
      " 25%|██████████████████▊                                                        | 338/1345 [1:21:17<5:48:33, 20.77s/it]"
     ]
    },
    {
     "name": "stdout",
     "output_type": "stream",
     "text": [
      "VIBE https://www.reddit.com/r/CryptoCurrency/comments/6vn7r2/vibehub_a_virtual_reality_platform/\n"
     ]
    },
    {
     "name": "stderr",
     "output_type": "stream",
     "text": [
      " 25%|██████████████████▉                                                        | 340/1345 [1:22:11<7:03:29, 25.28s/it]"
     ]
    },
    {
     "name": "stdout",
     "output_type": "stream",
     "text": [
      "Syndicate https://nm.reddit.com/r/CryptoCurrency/comments/4rlnd2/syndicate_business_management_platform_staking\n"
     ]
    },
    {
     "name": "stderr",
     "output_type": "stream",
     "text": [
      "\r",
      " 25%|███████████████████                                                        | 341/1345 [1:22:23<5:53:22, 21.12s/it]"
     ]
    },
    {
     "name": "stdout",
     "output_type": "stream",
     "text": [
      "Sexcoin https://www.reddit.com/r/CryptoCurrency/comments/7hyg75/fyi_we_now_have_a_sexcoin_wtf_is_happening/\n"
     ]
    },
    {
     "name": "stderr",
     "output_type": "stream",
     "text": [
      "\r",
      " 25%|███████████████████                                                        | 342/1345 [1:22:34<5:03:57, 18.18s/it]"
     ]
    },
    {
     "name": "stdout",
     "output_type": "stream",
     "text": [
      "ECC https://www.reddit.com/r/crypto/comments/6x0cn7/rsa_vs_ecc/\n"
     ]
    },
    {
     "name": "stderr",
     "output_type": "stream",
     "text": [
      "\r",
      " 26%|███████████████████▏                                                       | 343/1345 [1:22:45<4:26:03, 15.93s/it]"
     ]
    },
    {
     "name": "stdout",
     "output_type": "stream",
     "text": [
      "XCurrency https://www.reddit.com/r/CryptoCurrency/\n"
     ]
    },
    {
     "name": "stderr",
     "output_type": "stream",
     "text": [
      "\r",
      " 26%|███████████████████▏                                                       | 344/1345 [1:22:58<4:14:01, 15.23s/it]"
     ]
    },
    {
     "name": "stdout",
     "output_type": "stream",
     "text": [
      "Pluton https://www.reddit.com/r/crypto/\n"
     ]
    },
    {
     "name": "stderr",
     "output_type": "stream",
     "text": [
      "\r",
      " 26%|███████████████████▏                                                       | 345/1345 [1:23:09<3:50:00, 13.80s/it]"
     ]
    },
    {
     "name": "stdout",
     "output_type": "stream",
     "text": [
      "OAX https://www.reddit.com/r/OpenANX/\n"
     ]
    },
    {
     "name": "stderr",
     "output_type": "stream",
     "text": [
      "\r",
      " 26%|███████████████████▎                                                       | 346/1345 [1:23:22<3:46:02, 13.58s/it]"
     ]
    },
    {
     "name": "stdout",
     "output_type": "stream",
     "text": [
      "DecentBet https://www.reddit.com/r/CryptoCurrency/comments/6wldbn/decentbet_is_looking_to_hire_full_time_ctomaster/\n"
     ]
    },
    {
     "name": "stderr",
     "output_type": "stream",
     "text": [
      "\r",
      " 26%|███████████████████▎                                                       | 347/1345 [1:23:34<3:41:38, 13.33s/it]"
     ]
    },
    {
     "name": "stdout",
     "output_type": "stream",
     "text": [
      "Kore https://www.reddit.com/r/CryptoMarkets/comments/6koj6u/kore/\n"
     ]
    },
    {
     "name": "stderr",
     "output_type": "stream",
     "text": [
      "\r",
      " 26%|███████████████████▍                                                       | 348/1345 [1:23:47<3:39:41, 13.22s/it]"
     ]
    },
    {
     "name": "stdout",
     "output_type": "stream",
     "text": [
      "Onix https://www.reddit.com/r/CryptoeconomyES/comments/7f028d/onixcoin_alcanz%C3%B3_un_nuevo_r%C3%A9cord_de_0412/\n"
     ]
    },
    {
     "name": "stderr",
     "output_type": "stream",
     "text": [
      "\r",
      " 26%|███████████████████▍                                                       | 349/1345 [1:23:59<3:31:41, 12.75s/it]"
     ]
    },
    {
     "name": "stdout",
     "output_type": "stream",
     "text": [
      "DubaiCoin https://www.reddit.com/r/CryptoCurrency/comments/4hy0rf/introducing_dubaicoin_dbic_cryptocurrency_the/\n"
     ]
    },
    {
     "name": "stderr",
     "output_type": "stream",
     "text": [
      "\r",
      " 26%|███████████████████▌                                                       | 350/1345 [1:24:12<3:30:07, 12.67s/it]"
     ]
    },
    {
     "name": "stdout",
     "output_type": "stream",
     "text": [
      "Qwark https://www.reddit.com/r/QuarkCoin/\n"
     ]
    },
    {
     "name": "stderr",
     "output_type": "stream",
     "text": [
      "\r",
      " 26%|███████████████████▌                                                       | 351/1345 [1:24:23<3:23:18, 12.27s/it]"
     ]
    },
    {
     "name": "stdout",
     "output_type": "stream",
     "text": [
      "Bismuth https://www.reddit.com/r/cryptobismuth/\n"
     ]
    },
    {
     "name": "stderr",
     "output_type": "stream",
     "text": [
      "\r",
      " 26%|███████████████████▋                                                       | 352/1345 [1:24:32<3:08:34, 11.39s/it]"
     ]
    },
    {
     "name": "stdout",
     "output_type": "stream",
     "text": [
      "BLUE https://www.reddit.com/r/BlueCrypto/\n"
     ]
    },
    {
     "name": "stderr",
     "output_type": "stream",
     "text": [
      "\r",
      " 26%|███████████████████▋                                                       | 353/1345 [1:24:48<3:32:16, 12.84s/it]"
     ]
    },
    {
     "name": "stdout",
     "output_type": "stream",
     "text": [
      "BlueCoin https://www.reddit.com/r/CryptoCurrency/comments/7jfd63/how_do_you_buy_bluecoin_monero_and_xby/\n"
     ]
    },
    {
     "name": "stderr",
     "output_type": "stream",
     "text": [
      "\r",
      " 26%|███████████████████▋                                                       | 354/1345 [1:25:01<3:29:30, 12.68s/it]"
     ]
    },
    {
     "name": "stdout",
     "output_type": "stream",
     "text": [
      "Mintcoin https://www.reddit.com/r/CryptoCurrency/\n"
     ]
    },
    {
     "name": "stderr",
     "output_type": "stream",
     "text": [
      "\r",
      " 26%|███████████████████▊                                                       | 355/1345 [1:25:13<3:28:23, 12.63s/it]"
     ]
    },
    {
     "name": "stdout",
     "output_type": "stream",
     "text": [
      "EarthCoin https://www.reddit.com/r/CryptoCurrency/comments/29f28n/im_tipping_earthcoin/\n"
     ]
    },
    {
     "name": "stderr",
     "output_type": "stream",
     "text": [
      "\r",
      " 26%|███████████████████▊                                                       | 356/1345 [1:25:24<3:17:17, 11.97s/it]"
     ]
    },
    {
     "name": "stdout",
     "output_type": "stream",
     "text": [
      "vSlice https://www.reddit.com/r/crypto/\n"
     ]
    },
    {
     "name": "stderr",
     "output_type": "stream",
     "text": [
      "\r",
      " 27%|███████████████████▉                                                       | 357/1345 [1:25:34<3:09:10, 11.49s/it]"
     ]
    },
    {
     "name": "stdout",
     "output_type": "stream",
     "text": [
      "CVCoin https://www.reddit.com/r/CryptoCurrency/\n"
     ]
    },
    {
     "name": "stderr",
     "output_type": "stream",
     "text": [
      "\r",
      " 27%|███████████████████▉                                                       | 358/1345 [1:26:23<6:12:01, 22.62s/it]"
     ]
    },
    {
     "name": "stdout",
     "output_type": "stream",
     "text": [
      "Myriad https://www.reddit.com/r/myriadcoin/\n"
     ]
    },
    {
     "name": "stderr",
     "output_type": "stream",
     "text": [
      "\r",
      " 27%|████████████████████                                                       | 359/1345 [1:26:34<5:16:10, 19.24s/it]"
     ]
    },
    {
     "name": "stdout",
     "output_type": "stream",
     "text": [
      "Circuits of Value https://www.reddit.com/r/Coval/\n"
     ]
    },
    {
     "name": "stderr",
     "output_type": "stream",
     "text": [
      "\r",
      " 27%|████████████████████                                                       | 360/1345 [1:26:45<4:35:26, 16.78s/it]"
     ]
    },
    {
     "name": "stdout",
     "output_type": "stream",
     "text": [
      "Spectrecoin https://www.reddit.com/r/CryptoCurrency/comments/6weajl/why_i_have_decided_to_invest_in_spectrecoin_xspec/\n"
     ]
    },
    {
     "name": "stderr",
     "output_type": "stream",
     "text": [
      "\r",
      " 27%|████████████████████▏                                                      | 361/1345 [1:26:57<4:12:39, 15.41s/it]"
     ]
    },
    {
     "name": "stdout",
     "output_type": "stream",
     "text": [
      "Project Decorum https://www.reddit.com/r/CryptoCurrency/comments/6ig1lc/project_decorum/\n"
     ]
    },
    {
     "name": "stderr",
     "output_type": "stream",
     "text": [
      "\r",
      " 27%|████████████████████▏                                                      | 362/1345 [1:27:08<3:47:35, 13.89s/it]"
     ]
    },
    {
     "name": "stdout",
     "output_type": "stream",
     "text": [
      "TrueFlip https://www.reddit.com/r/CryptoCurrency/comments/6pq7u8/beware_of_trueflipio/\n"
     ]
    },
    {
     "name": "stderr",
     "output_type": "stream",
     "text": [
      "\r",
      " 27%|████████████████████▏                                                      | 363/1345 [1:27:20<3:38:56, 13.38s/it]"
     ]
    },
    {
     "name": "stdout",
     "output_type": "stream",
     "text": [
      "ZClassic https://www.reddit.com/r/ZClassic/\n"
     ]
    },
    {
     "name": "stderr",
     "output_type": "stream",
     "text": [
      "\r",
      " 27%|████████████████████▎                                                      | 364/1345 [1:27:33<3:37:07, 13.28s/it]"
     ]
    },
    {
     "name": "stdout",
     "output_type": "stream",
     "text": [
      "AsiaCoin https://www.reddit.com/r/siacoin/\n"
     ]
    },
    {
     "name": "stderr",
     "output_type": "stream",
     "text": [
      "\r",
      " 27%|████████████████████▎                                                      | 365/1345 [1:27:43<3:21:34, 12.34s/it]"
     ]
    },
    {
     "name": "stdout",
     "output_type": "stream",
     "text": [
      "DopeCoin https://www.reddit.com/r/DopeCoin/\n"
     ]
    },
    {
     "name": "stderr",
     "output_type": "stream",
     "text": [
      "\r",
      " 27%|████████████████████▍                                                      | 366/1345 [1:27:55<3:20:58, 12.32s/it]"
     ]
    },
    {
     "name": "stdout",
     "output_type": "stream",
     "text": [
      "eBitcoin https://www.reddit.com/r/Bitcoin/\n"
     ]
    },
    {
     "name": "stderr",
     "output_type": "stream",
     "text": [
      "\r",
      " 27%|████████████████████▍                                                      | 367/1345 [1:28:05<3:06:44, 11.46s/it]"
     ]
    },
    {
     "name": "stdout",
     "output_type": "stream",
     "text": [
      "ZrCoin https://www.reddit.com/r/CryptoCurrency/comments/659zm7/whats_the_deal_with_zrcoin/\n"
     ]
    },
    {
     "name": "stderr",
     "output_type": "stream",
     "text": [
      "\r",
      " 27%|████████████████████▌                                                      | 368/1345 [1:28:15<3:01:09, 11.13s/it]"
     ]
    },
    {
     "name": "stdout",
     "output_type": "stream",
     "text": [
      "Bitswift https://www.reddit.com/r/Bit_Swift/\n"
     ]
    },
    {
     "name": "stderr",
     "output_type": "stream",
     "text": [
      "\r",
      " 27%|████████████████████▌                                                      | 369/1345 [1:28:27<3:06:58, 11.49s/it]"
     ]
    },
    {
     "name": "stdout",
     "output_type": "stream",
     "text": [
      "Propy https://www.reddit.com/r/icocrypto/comments/6ncmwc/propy_presale_announcement/\n"
     ]
    },
    {
     "name": "stderr",
     "output_type": "stream",
     "text": [
      "\r",
      " 28%|████████████████████▋                                                      | 370/1345 [1:28:39<3:06:12, 11.46s/it]"
     ]
    },
    {
     "name": "stdout",
     "output_type": "stream",
     "text": [
      "APX https://www.reddit.com/r/CryptoCurrency/comments/6cd81c/apx_ico/\n"
     ]
    },
    {
     "name": "stderr",
     "output_type": "stream",
     "text": [
      "\r",
      " 28%|████████████████████▋                                                      | 371/1345 [1:28:53<3:17:27, 12.16s/it]"
     ]
    },
    {
     "name": "stdout",
     "output_type": "stream",
     "text": [
      "ArtByte https://www.reddit.com/r/CryptoCurrency/comments/3gz9u1/coindesk_artbyte_the_digital_currency_supporting/\n"
     ]
    },
    {
     "name": "stderr",
     "output_type": "stream",
     "text": [
      "\r",
      " 28%|████████████████████▋                                                      | 372/1345 [1:29:03<3:08:21, 11.61s/it]"
     ]
    },
    {
     "name": "stdout",
     "output_type": "stream",
     "text": [
      "Riecoin https://www.reddit.com/r/RieCoin/\n"
     ]
    },
    {
     "name": "stderr",
     "output_type": "stream",
     "text": [
      "\r",
      " 28%|████████████████████▊                                                      | 373/1345 [1:29:13<3:01:27, 11.20s/it]"
     ]
    },
    {
     "name": "stdout",
     "output_type": "stream",
     "text": [
      "NewYorkCoin https://www.reddit.com/r/CryptoCurrency/\n"
     ]
    },
    {
     "name": "stderr",
     "output_type": "stream",
     "text": [
      "\r",
      " 28%|████████████████████▊                                                      | 374/1345 [1:29:28<3:16:55, 12.17s/it]"
     ]
    },
    {
     "name": "stdout",
     "output_type": "stream",
     "text": [
      "Phore https://www.reddit.com/r/crypto/\n"
     ]
    },
    {
     "name": "stderr",
     "output_type": "stream",
     "text": [
      "\r",
      " 28%|████████████████████▉                                                      | 375/1345 [1:29:40<3:17:47, 12.23s/it]"
     ]
    },
    {
     "name": "stdout",
     "output_type": "stream",
     "text": [
      "Lampix https://www.reddit.com/r/Lampix/\n"
     ]
    },
    {
     "name": "stderr",
     "output_type": "stream",
     "text": [
      "\r",
      " 28%|████████████████████▉                                                      | 376/1345 [1:29:51<3:13:12, 11.96s/it]"
     ]
    },
    {
     "name": "stdout",
     "output_type": "stream",
     "text": [
      "Dimecoin https://www.reddit.com/r/altcoin/\n"
     ]
    },
    {
     "name": "stderr",
     "output_type": "stream",
     "text": [
      "\r",
      " 28%|█████████████████████                                                      | 377/1345 [1:30:02<3:05:54, 11.52s/it]"
     ]
    },
    {
     "name": "stdout",
     "output_type": "stream",
     "text": [
      "HTMLCOIN https://www.reddit.com/r/CryptoCurrency/comments/2jf4d4/htmlcoin_ledger_of_expenses_community_building/\n"
     ]
    },
    {
     "name": "stderr",
     "output_type": "stream",
     "text": [
      "\r",
      " 28%|█████████████████████                                                      | 378/1345 [1:30:12<3:00:17, 11.19s/it]"
     ]
    },
    {
     "name": "stdout",
     "output_type": "stream",
     "text": [
      "BlockMason Credit Protocol https://www.reddit.com/r/CryptoMarkets/comments/7h6vnl/how_does_blockmasons_credit_protocol_deal_with/\n"
     ]
    },
    {
     "name": "stderr",
     "output_type": "stream",
     "text": [
      "\r",
      " 28%|█████████████████████▏                                                     | 379/1345 [1:30:24<3:00:57, 11.24s/it]"
     ]
    },
    {
     "name": "stdout",
     "output_type": "stream",
     "text": [
      "ExclusiveCoin https://www.reddit.com/r/CryptoCurrency/comments/6wzq9m/exclusive_coin_excl_master_nodes_getting_more/\n"
     ]
    },
    {
     "name": "stderr",
     "output_type": "stream",
     "text": [
      "\r",
      " 28%|█████████████████████▏                                                     | 380/1345 [1:30:34<2:58:41, 11.11s/it]"
     ]
    },
    {
     "name": "stdout",
     "output_type": "stream",
     "text": [
      "PutinCoin https://www.reddit.com/r/CryptoCurrency/comments/5p2djx/trumpcoin_putincoin_potcoin_believe_it_or_not/\n"
     ]
    },
    {
     "name": "stderr",
     "output_type": "stream",
     "text": [
      "\r",
      " 28%|█████████████████████▏                                                     | 381/1345 [1:30:50<3:19:01, 12.39s/it]"
     ]
    },
    {
     "name": "stdout",
     "output_type": "stream",
     "text": [
      "HelloGold https://www.reddit.com/r/icocrypto/comments/6wiiwd/hellogold_ico_discussion/\n"
     ]
    },
    {
     "name": "stderr",
     "output_type": "stream",
     "text": [
      "\r",
      " 28%|█████████████████████▎                                                     | 382/1345 [1:31:01<3:12:47, 12.01s/it]"
     ]
    },
    {
     "name": "stdout",
     "output_type": "stream",
     "text": [
      "Synergy https://www.reddit.com/r/CryptoCurrency/\n"
     ]
    },
    {
     "name": "stderr",
     "output_type": "stream",
     "text": [
      "\r",
      " 28%|█████████████████████▎                                                     | 383/1345 [1:31:12<3:08:26, 11.75s/it]"
     ]
    },
    {
     "name": "stdout",
     "output_type": "stream",
     "text": [
      "EverGreenCoin https://www.reddit.com/r/crypto/\n"
     ]
    },
    {
     "name": "stderr",
     "output_type": "stream",
     "text": [
      "\r",
      " 29%|█████████████████████▍                                                     | 384/1345 [1:31:24<3:07:23, 11.70s/it]"
     ]
    },
    {
     "name": "stdout",
     "output_type": "stream",
     "text": [
      "Breakout Stake https://www.reddit.com/r/CryptoCurrency/comments/2r5tc4/staking_the_new_mining/\n"
     ]
    },
    {
     "name": "stderr",
     "output_type": "stream",
     "text": [
      "\r",
      " 29%|█████████████████████▍                                                     | 385/1345 [1:32:34<7:49:17, 29.33s/it]"
     ]
    },
    {
     "name": "stdout",
     "output_type": "stream",
     "text": [
      "TheGCCcoin https://www.reddit.com/r/CryptoCurrency/comments/54hw9u/new_currency_gcc_coin_is_going_in_open_market/\n"
     ]
    },
    {
     "name": "stderr",
     "output_type": "stream",
     "text": [
      "\r",
      " 29%|█████████████████████▌                                                     | 386/1345 [1:32:48<6:37:08, 24.85s/it]"
     ]
    },
    {
     "name": "stdout",
     "output_type": "stream",
     "text": [
      "Primecoin https://www.reddit.com/r/primecoin/\n"
     ]
    },
    {
     "name": "stderr",
     "output_type": "stream",
     "text": [
      "\r",
      " 29%|█████████████████████▌                                                     | 387/1345 [1:33:00<5:34:30, 20.95s/it]"
     ]
    },
    {
     "name": "stdout",
     "output_type": "stream",
     "text": [
      "Neutron https://www.reddit.com/r/NeutronCoin/comments/73jjor/neutron_will_secure_your_place_and_your_profit/\n"
     ]
    },
    {
     "name": "stderr",
     "output_type": "stream",
     "text": [
      "\r",
      " 29%|█████████████████████▋                                                     | 388/1345 [1:33:11<4:44:18, 17.82s/it]"
     ]
    },
    {
     "name": "stdout",
     "output_type": "stream",
     "text": [
      "TrustPlus https://www.reddit.com/r/CryptoCurrency/comments/5ari6t/eboost_to_begin_trading_on_bittrex_as_successful/\n"
     ]
    },
    {
     "name": "stderr",
     "output_type": "stream",
     "text": [
      "\r",
      " 29%|█████████████████████▋                                                     | 389/1345 [1:33:21<4:08:52, 15.62s/it]"
     ]
    },
    {
     "name": "stdout",
     "output_type": "stream",
     "text": [
      "Karbowanec https://www.reddit.com/r/CryptoCurrency/comments/5wyunv/karbowanec_is_ukrainian_local_altcoin_used_with/\n"
     ]
    },
    {
     "name": "stderr",
     "output_type": "stream",
     "text": [
      "\r",
      " 29%|█████████████████████▋                                                     | 390/1345 [1:33:36<4:04:08, 15.34s/it]"
     ]
    },
    {
     "name": "stdout",
     "output_type": "stream",
     "text": [
      "Sharechain https://www.reddit.com/r/CryptoCurrency/\n"
     ]
    },
    {
     "name": "stderr",
     "output_type": "stream",
     "text": [
      "\r",
      " 29%|█████████████████████▊                                                     | 391/1345 [1:33:49<3:50:29, 14.50s/it]"
     ]
    },
    {
     "name": "stdout",
     "output_type": "stream",
     "text": [
      "ChainCoin https://www.reddit.com/r/CryptoMarkets/comments/6nq0h7/is_chaincoin_worth_investing_right_now/\n"
     ]
    },
    {
     "name": "stderr",
     "output_type": "stream",
     "text": [
      "\r",
      " 29%|█████████████████████▊                                                     | 392/1345 [1:34:00<3:34:37, 13.51s/it]"
     ]
    },
    {
     "name": "stdout",
     "output_type": "stream",
     "text": [
      "EuropeCoin https://www.reddit.com/r/CryptoCurrency/\n"
     ]
    },
    {
     "name": "stderr",
     "output_type": "stream",
     "text": [
      "\r",
      " 29%|█████████████████████▉                                                     | 393/1345 [1:34:14<3:38:42, 13.78s/it]"
     ]
    },
    {
     "name": "stdout",
     "output_type": "stream",
     "text": [
      "Elixir https://www.reddit.com/r/CryptoMarkets/comments/742peu/is_elixir_a_good_investment/\n"
     ]
    },
    {
     "name": "stderr",
     "output_type": "stream",
     "text": [
      "\r",
      " 29%|█████████████████████▉                                                     | 394/1345 [1:34:25<3:26:06, 13.00s/it]"
     ]
    },
    {
     "name": "stdout",
     "output_type": "stream",
     "text": [
      "Terracoin https://www.reddit.com/r/Terracoin/\n"
     ]
    },
    {
     "name": "stderr",
     "output_type": "stream",
     "text": [
      "\r",
      " 29%|██████████████████████                                                     | 395/1345 [1:34:38<3:23:28, 12.85s/it]"
     ]
    },
    {
     "name": "stdout",
     "output_type": "stream",
     "text": [
      "TrezarCoin https://www.reddit.com/r/CryptoCurrency/\n"
     ]
    },
    {
     "name": "stderr",
     "output_type": "stream",
     "text": [
      "\r",
      " 29%|██████████████████████                                                     | 396/1345 [1:34:51<3:25:52, 13.02s/it]"
     ]
    },
    {
     "name": "stdout",
     "output_type": "stream",
     "text": [
      "Creditbit https://www.reddit.com/r/CryptoCurrency/comments/6hp5ju/creditbit_crb_i_guess_it_it_time_what_do_you_guys/\n"
     ]
    },
    {
     "name": "stderr",
     "output_type": "stream",
     "text": [
      "\r",
      " 30%|██████████████████████▏                                                    | 397/1345 [1:35:02<3:17:00, 12.47s/it]"
     ]
    },
    {
     "name": "stdout",
     "output_type": "stream",
     "text": [
      "Bela https://www.reddit.com/r/CryptoMarkets/comments/6hlsh2/thoughts_on_belacoin/\n"
     ]
    },
    {
     "name": "stderr",
     "output_type": "stream",
     "text": [
      "\r",
      " 30%|██████████████████████▏                                                    | 398/1345 [1:35:14<3:12:08, 12.17s/it]"
     ]
    },
    {
     "name": "stdout",
     "output_type": "stream",
     "text": [
      "GoByte https://www.reddit.com/r/CryptoCurrencies/comments/7gtct7/gobyte_gbx_pow_neoscrypt_masternode_asic_resistant/\n"
     ]
    },
    {
     "name": "stderr",
     "output_type": "stream",
     "text": [
      "\r",
      " 30%|██████████████████████▏                                                    | 399/1345 [1:35:27<3:14:31, 12.34s/it]"
     ]
    },
    {
     "name": "stdout",
     "output_type": "stream",
     "text": [
      "GoldCoin https://www.reddit.com/r/CryptoCurrency/\n"
     ]
    },
    {
     "name": "stderr",
     "output_type": "stream",
     "text": [
      "\r",
      " 30%|██████████████████████▎                                                    | 400/1345 [1:35:39<3:15:09, 12.39s/it]"
     ]
    },
    {
     "name": "stdout",
     "output_type": "stream",
     "text": [
      "Voise https://www.reddit.com/r/CryptoCurrency/comments/6oyv7l/voise_a_solution_to_the_music_industry_business/\n"
     ]
    },
    {
     "name": "stderr",
     "output_type": "stream",
     "text": [
      "\r",
      " 30%|██████████████████████▎                                                    | 401/1345 [1:35:52<3:15:15, 12.41s/it]"
     ]
    },
    {
     "name": "stdout",
     "output_type": "stream",
     "text": [
      "Pirl https://www.reddit.com/r/pirl/\n"
     ]
    },
    {
     "name": "stderr",
     "output_type": "stream",
     "text": [
      "\r",
      " 30%|██████████████████████▍                                                    | 402/1345 [1:36:03<3:10:02, 12.09s/it]"
     ]
    },
    {
     "name": "stdout",
     "output_type": "stream",
     "text": [
      "B2B https://www.reddit.com/r/CryptoCurrency/comments/6zuxwx/opinion_on_this_b2b_solution_for_launching/\n"
     ]
    },
    {
     "name": "stderr",
     "output_type": "stream",
     "text": [
      "\r",
      " 30%|██████████████████████▍                                                    | 403/1345 [1:36:13<3:02:11, 11.60s/it]"
     ]
    },
    {
     "name": "stdout",
     "output_type": "stream",
     "text": [
      "CannabisCoin https://www.reddit.com/r/CannabisCoins/\n"
     ]
    },
    {
     "name": "stderr",
     "output_type": "stream",
     "text": [
      "\r",
      " 30%|██████████████████████▌                                                    | 404/1345 [1:36:24<2:57:24, 11.31s/it]"
     ]
    },
    {
     "name": "stdout",
     "output_type": "stream",
     "text": [
      "Creativecoin https://www.reddit.com/r/crypto/\n"
     ]
    },
    {
     "name": "stderr",
     "output_type": "stream",
     "text": [
      "\r",
      " 30%|██████████████████████▌                                                    | 405/1345 [1:36:34<2:52:43, 11.03s/it]"
     ]
    },
    {
     "name": "stdout",
     "output_type": "stream",
     "text": [
      "2GIVE https://www.reddit.com/r/CryptoMarkets/duplicates/6doxzq/coinoutlet_makes_altcoin_2give_available_on_its/\n"
     ]
    },
    {
     "name": "stderr",
     "output_type": "stream",
     "text": [
      "\r",
      " 30%|██████████████████████▋                                                    | 406/1345 [1:36:45<2:49:46, 10.85s/it]"
     ]
    },
    {
     "name": "stdout",
     "output_type": "stream",
     "text": [
      "Oceanlab https://www.reddit.com/r/CryptoCurrency/comments/71bodn/what_are_your_thoughts_on_oceanlab_is_it_still/\n"
     ]
    },
    {
     "name": "stderr",
     "output_type": "stream",
     "text": [
      "\r",
      " 30%|██████████████████████▋                                                    | 407/1345 [1:36:56<2:51:32, 10.97s/it]"
     ]
    },
    {
     "name": "stdout",
     "output_type": "stream",
     "text": [
      "Flixxo https://www.reddit.com/r/Flixxo/\n"
     ]
    },
    {
     "name": "stderr",
     "output_type": "stream",
     "text": [
      "\r",
      " 30%|██████████████████████▊                                                    | 408/1345 [1:37:11<3:11:06, 12.24s/it]"
     ]
    },
    {
     "name": "stdout",
     "output_type": "stream",
     "text": [
      "Atmos https://www.reddit.com/r/CryptoCurrency/comments/6rs5g9/undervalued_crypto_review_novusphere_atmos_atms/\n"
     ]
    },
    {
     "name": "stderr",
     "output_type": "stream",
     "text": [
      "\r",
      " 30%|██████████████████████▊                                                    | 409/1345 [1:37:22<3:02:04, 11.67s/it]"
     ]
    },
    {
     "name": "stdout",
     "output_type": "stream",
     "text": [
      "vTorrent https://www.reddit.com/r/CryptoCurrency/comments/32qjpl/vtorrent_decetralized_blockchainbased_bittorrent/\n"
     ]
    },
    {
     "name": "stderr",
     "output_type": "stream",
     "text": [
      "\r",
      " 30%|██████████████████████▊                                                    | 410/1345 [1:37:32<2:55:02, 11.23s/it]"
     ]
    },
    {
     "name": "stdout",
     "output_type": "stream",
     "text": [
      "MyBit Token https://www.reddit.com/r/icocrypto/comments/6nv569/mybit_the_platform_for_tokenizing_revenue_streams/\n"
     ]
    },
    {
     "name": "stderr",
     "output_type": "stream",
     "text": [
      "\r",
      " 31%|██████████████████████▉                                                    | 411/1345 [1:37:42<2:49:52, 10.91s/it]"
     ]
    },
    {
     "name": "stdout",
     "output_type": "stream",
     "text": [
      "Divi https://www.reddit.com/r/DiviProject/\n"
     ]
    },
    {
     "name": "stderr",
     "output_type": "stream",
     "text": [
      "\r",
      " 31%|██████████████████████▉                                                    | 412/1345 [1:37:53<2:51:38, 11.04s/it]"
     ]
    },
    {
     "name": "stdout",
     "output_type": "stream",
     "text": [
      "Breakout https://www.reddit.com/r/CryptoCurrency/comments/6vlp2e/ltc_breakout_reddit_community/\n"
     ]
    },
    {
     "name": "stderr",
     "output_type": "stream",
     "text": [
      "\r",
      " 31%|███████████████████████                                                    | 413/1345 [1:39:08<7:46:59, 30.06s/it]"
     ]
    },
    {
     "name": "stdout",
     "output_type": "stream",
     "text": [
      "DCORP https://www.reddit.com/r/icocrypto/comments/6em1fy/dcorp_what_makes_it_an_attractive_ico/\n"
     ]
    },
    {
     "name": "stderr",
     "output_type": "stream",
     "text": [
      "\r",
      " 31%|███████████████████████                                                    | 414/1345 [1:39:19<6:19:56, 24.49s/it]"
     ]
    },
    {
     "name": "stdout",
     "output_type": "stream",
     "text": [
      "ParkByte https://www.reddit.com/r/CryptoCurrency/comments/6febxy/parkbyte_just_surged_is_it_a_useful_cointechnology/\n"
     ]
    },
    {
     "name": "stderr",
     "output_type": "stream",
     "text": [
      "\r",
      " 31%|███████████████████████▏                                                   | 415/1345 [1:39:31<5:18:41, 20.56s/it]"
     ]
    },
    {
     "name": "stdout",
     "output_type": "stream",
     "text": [
      "REAL https://www.reddit.com/r/CryptoCurrency/\n"
     ]
    },
    {
     "name": "stderr",
     "output_type": "stream",
     "text": [
      "\r",
      " 31%|███████████████████████▏                                                   | 416/1345 [1:39:44<4:45:31, 18.44s/it]"
     ]
    },
    {
     "name": "stdout",
     "output_type": "stream",
     "text": [
      "Blitzcash https://www.reddit.com/r/CryptoCurrency/comments/6dhqfx/blitzcash_mooning_and_upcoming_developments/\n"
     ]
    },
    {
     "name": "stderr",
     "output_type": "stream",
     "text": [
      "\r",
      " 31%|███████████████████████▎                                                   | 417/1345 [1:39:54<4:07:20, 15.99s/it]"
     ]
    },
    {
     "name": "stdout",
     "output_type": "stream",
     "text": [
      "SuperCoin https://www.reddit.com/r/supercoin/\n"
     ]
    },
    {
     "name": "stderr",
     "output_type": "stream",
     "text": [
      "\r",
      " 31%|███████████████████████▎                                                   | 418/1345 [1:40:06<3:46:03, 14.63s/it]"
     ]
    },
    {
     "name": "stdout",
     "output_type": "stream",
     "text": [
      "Anoncoin https://www.reddit.com/r/CryptoCurrency/duplicates/3zrw7n/an_open_invitation_from_anoncoin_for_developers/\n"
     ]
    },
    {
     "name": "stderr",
     "output_type": "stream",
     "text": [
      "\r",
      " 31%|███████████████████████▎                                                   | 419/1345 [1:40:24<3:59:48, 15.54s/it]"
     ]
    },
    {
     "name": "stdout",
     "output_type": "stream",
     "text": [
      "Kolion https://www.reddit.com/r/CryptoCurrency/\n"
     ]
    },
    {
     "name": "stderr",
     "output_type": "stream",
     "text": [
      "\r",
      " 31%|███████████████████████▍                                                   | 420/1345 [1:40:37<3:48:10, 14.80s/it]"
     ]
    },
    {
     "name": "stdout",
     "output_type": "stream",
     "text": [
      "Rupee https://www.reddit.com/r/CryptoMarkets/comments/79jgc1/rupee_is_moving_forward_great_news_guys_buying/\n"
     ]
    },
    {
     "name": "stderr",
     "output_type": "stream",
     "text": [
      "\r",
      " 31%|███████████████████████▍                                                   | 421/1345 [1:40:48<3:32:28, 13.80s/it]"
     ]
    },
    {
     "name": "stdout",
     "output_type": "stream",
     "text": [
      "MarteXcoin https://www.reddit.com/r/CryptoCurrency/comments/35w7c2/annmxt_martexcoin_x13_powpos_50_proof_of/\n"
     ]
    },
    {
     "name": "stderr",
     "output_type": "stream",
     "text": [
      "\r",
      " 31%|███████████████████████▌                                                   | 422/1345 [1:41:02<3:30:24, 13.68s/it]"
     ]
    },
    {
     "name": "stdout",
     "output_type": "stream",
     "text": [
      "CarTaxi Token https://www.reddit.com/r/CryptoCurrency/\n"
     ]
    },
    {
     "name": "stderr",
     "output_type": "stream",
     "text": [
      "\r",
      " 31%|███████████████████████▌                                                   | 423/1345 [1:41:11<3:11:03, 12.43s/it]"
     ]
    },
    {
     "name": "stdout",
     "output_type": "stream",
     "text": [
      "GCoin https://www.reddit.com/r/Bitcoin/comments/787ng3/what_if_google_creates_gcoin/\n"
     ]
    },
    {
     "name": "stderr",
     "output_type": "stream",
     "text": [
      "\r",
      " 32%|███████████████████████▋                                                   | 424/1345 [1:41:25<3:19:22, 12.99s/it]"
     ]
    },
    {
     "name": "stdout",
     "output_type": "stream",
     "text": [
      "GeoCoin https://www.reddit.com/r/CryptoCurrency/comments/6v291p/is_geocoin_about_to_rise_at_the_next_roadmap/\n"
     ]
    },
    {
     "name": "stderr",
     "output_type": "stream",
     "text": [
      "\r",
      " 32%|███████████████████████▋                                                   | 425/1345 [1:41:39<3:21:19, 13.13s/it]"
     ]
    },
    {
     "name": "stdout",
     "output_type": "stream",
     "text": [
      "Innova https://www.reddit.com/r/crypto/\n"
     ]
    },
    {
     "name": "stderr",
     "output_type": "stream",
     "text": [
      "\r",
      " 32%|███████████████████████▊                                                   | 426/1345 [1:41:51<3:18:46, 12.98s/it]"
     ]
    },
    {
     "name": "stdout",
     "output_type": "stream",
     "text": [
      "Dotcoin https://www.reddit.com/r/CryptoCurrency/\n"
     ]
    },
    {
     "name": "stderr",
     "output_type": "stream",
     "text": [
      "\r",
      " 32%|███████████████████████▊                                                   | 427/1345 [1:42:04<3:16:05, 12.82s/it]"
     ]
    },
    {
     "name": "stdout",
     "output_type": "stream",
     "text": [
      "Indorse Token https://www.reddit.com/r/icocrypto/comments/6dh2ld/indorse_indorse_token_decentralised_professional/\n"
     ]
    },
    {
     "name": "stderr",
     "output_type": "stream",
     "text": [
      "\r",
      " 32%|███████████████████████▊                                                   | 428/1345 [1:42:15<3:09:08, 12.38s/it]"
     ]
    },
    {
     "name": "stdout",
     "output_type": "stream",
     "text": [
      "Royal Kingdom Coin https://www.reddit.com/r/CryptoCurrencies/comments/7ddxps/royal_kingdom_coin_rkc_is_a_big_scam/\n"
     ]
    },
    {
     "name": "stderr",
     "output_type": "stream",
     "text": [
      "\r",
      " 32%|███████████████████████▉                                                   | 429/1345 [1:42:26<3:01:04, 11.86s/it]"
     ]
    },
    {
     "name": "stdout",
     "output_type": "stream",
     "text": [
      "Zephyr https://www.reddit.com/r/crypto/\n"
     ]
    },
    {
     "name": "stderr",
     "output_type": "stream",
     "text": [
      "\r",
      " 32%|███████████████████████▉                                                   | 430/1345 [1:42:40<3:12:59, 12.65s/it]"
     ]
    },
    {
     "name": "stdout",
     "output_type": "stream",
     "text": [
      "Centurion https://www.reddit.com/r/CryptoCurrency/\n"
     ]
    },
    {
     "name": "stderr",
     "output_type": "stream",
     "text": [
      "\r",
      " 32%|████████████████████████                                                   | 431/1345 [1:42:50<2:59:33, 11.79s/it]"
     ]
    },
    {
     "name": "stdout",
     "output_type": "stream",
     "text": [
      "Darcrus https://www.reddit.com/r/CryptoCurrency/\n"
     ]
    },
    {
     "name": "stderr",
     "output_type": "stream",
     "text": [
      "\r",
      " 32%|████████████████████████                                                   | 432/1345 [1:43:04<3:06:52, 12.28s/it]"
     ]
    },
    {
     "name": "stdout",
     "output_type": "stream",
     "text": [
      "HunterCoin https://www.reddit.com/r/Huntercoin/\n"
     ]
    },
    {
     "name": "stderr",
     "output_type": "stream",
     "text": [
      "\r",
      " 32%|████████████████████████▏                                                  | 433/1345 [1:43:17<3:11:35, 12.60s/it]"
     ]
    },
    {
     "name": "stdout",
     "output_type": "stream",
     "text": [
      "Ixcoin https://www.reddit.com/r/icocrypto/comments/54a8n6/beyond_the_void_nexium/\n"
     ]
    },
    {
     "name": "stderr",
     "output_type": "stream",
     "text": [
      "\r",
      " 32%|████████████████████████▏                                                  | 434/1345 [1:43:26<2:56:34, 11.63s/it]"
     ]
    },
    {
     "name": "stdout",
     "output_type": "stream",
     "text": [
      "SHIELD https://www.reddit.com/r/shield/\n"
     ]
    },
    {
     "name": "stderr",
     "output_type": "stream",
     "text": [
      "\r",
      " 32%|████████████████████████▎                                                  | 435/1345 [1:43:40<3:05:46, 12.25s/it]"
     ]
    },
    {
     "name": "stdout",
     "output_type": "stream",
     "text": [
      "e-Gulden https://www.reddit.com/r/GuldenCommunity/\n"
     ]
    },
    {
     "name": "stderr",
     "output_type": "stream",
     "text": [
      "\r",
      " 32%|████████████████████████▎                                                  | 436/1345 [1:43:50<2:57:17, 11.70s/it]"
     ]
    },
    {
     "name": "stdout",
     "output_type": "stream",
     "text": [
      "VeriumReserve https://www.reddit.com/r/crypto/\n"
     ]
    },
    {
     "name": "stderr",
     "output_type": "stream",
     "text": [
      "\r",
      " 32%|████████████████████████▎                                                  | 437/1345 [1:44:00<2:47:32, 11.07s/it]"
     ]
    },
    {
     "name": "stdout",
     "output_type": "stream",
     "text": [
      "AdShares https://www.reddit.com/r/CryptoMarkets/comments/6q0jqk/ico_alert_report_adshares/\n"
     ]
    },
    {
     "name": "stderr",
     "output_type": "stream",
     "text": [
      "\r",
      " 33%|████████████████████████▍                                                  | 438/1345 [1:44:14<3:02:08, 12.05s/it]"
     ]
    },
    {
     "name": "stdout",
     "output_type": "stream",
     "text": [
      "Bitcoin Red https://www.reddit.com/r/Bitcoin/\n"
     ]
    },
    {
     "name": "stderr",
     "output_type": "stream",
     "text": [
      "\r",
      " 33%|████████████████████████▍                                                  | 439/1345 [1:44:27<3:04:09, 12.20s/it]"
     ]
    },
    {
     "name": "stdout",
     "output_type": "stream",
     "text": [
      "SpreadCoin https://www.reddit.com/r/SpreadcoinOfficial/\n"
     ]
    },
    {
     "name": "stderr",
     "output_type": "stream",
     "text": [
      "\r",
      " 33%|████████████████████████▌                                                  | 440/1345 [1:44:38<2:59:15, 11.88s/it]"
     ]
    },
    {
     "name": "stdout",
     "output_type": "stream",
     "text": [
      "LUXCoin https://www.reddit.com/r/CryptoCurrency/comments/768l4u/lux_coin_phi1612_powpos_hybrid_algorithm_parallel/\n"
     ]
    },
    {
     "name": "stderr",
     "output_type": "stream",
     "text": [
      "\r",
      " 33%|████████████████████████▌                                                  | 441/1345 [1:44:50<3:01:06, 12.02s/it]"
     ]
    },
    {
     "name": "stdout",
     "output_type": "stream",
     "text": [
      "VIVO https://www.reddit.com/r/CryptoCurrency/\n"
     ]
    },
    {
     "name": "stderr",
     "output_type": "stream",
     "text": [
      "\r",
      " 33%|████████████████████████▋                                                  | 442/1345 [1:45:02<2:58:20, 11.85s/it]"
     ]
    },
    {
     "name": "stdout",
     "output_type": "stream",
     "text": [
      "Startcoin https://www.reddit.com/r/startcoin/\n"
     ]
    },
    {
     "name": "stderr",
     "output_type": "stream",
     "text": [
      "\r",
      " 33%|████████████████████████▋                                                  | 443/1345 [1:46:16<7:39:34, 30.57s/it]"
     ]
    },
    {
     "name": "stdout",
     "output_type": "stream",
     "text": [
      "Mercury Protocol https://www.reddit.com/r/icocrypto/comments/77sa5u/mercury_protocol_is_a_money_grab/\n"
     ]
    },
    {
     "name": "stderr",
     "output_type": "stream",
     "text": [
      "\r",
      " 33%|████████████████████████▊                                                  | 444/1345 [1:46:27<6:12:35, 24.81s/it]"
     ]
    },
    {
     "name": "stdout",
     "output_type": "stream",
     "text": [
      "Publica https://www.reddit.com/r/CryptoCurrency/comments/7i5kg6/this_guy_hinting_publica_going_into_an_exchange/\n"
     ]
    },
    {
     "name": "stderr",
     "output_type": "stream",
     "text": [
      "\r",
      " 33%|████████████████████████▊                                                  | 445/1345 [1:46:37<5:03:20, 20.22s/it]"
     ]
    },
    {
     "name": "stdout",
     "output_type": "stream",
     "text": [
      "ATLANT https://www.reddit.com/r/CryptoCurrency/comments/6ybbmt/atlant_invest_rent_and_trade_realestate_on_the/\n"
     ]
    },
    {
     "name": "stderr",
     "output_type": "stream",
     "text": [
      "\r",
      " 33%|████████████████████████▊                                                  | 446/1345 [1:46:51<4:33:08, 18.23s/it]"
     ]
    },
    {
     "name": "stdout",
     "output_type": "stream",
     "text": [
      "Internxt https://www.reddit.com/r/crypto/\n"
     ]
    },
    {
     "name": "stderr",
     "output_type": "stream",
     "text": [
      "\r",
      " 33%|████████████████████████▉                                                  | 447/1345 [1:47:05<4:14:08, 16.98s/it]"
     ]
    },
    {
     "name": "stdout",
     "output_type": "stream",
     "text": [
      "Aeron https://www.reddit.com/r/CryptoCurrency/comments/7eehpq/thoughts_on_aeron/\n"
     ]
    },
    {
     "name": "stderr",
     "output_type": "stream",
     "text": [
      "\r",
      " 33%|████████████████████████▉                                                  | 448/1345 [1:47:14<3:40:14, 14.73s/it]"
     ]
    },
    {
     "name": "stdout",
     "output_type": "stream",
     "text": [
      "SmartBillions https://www.reddit.com/r/icocrypto/comments/720xqj/smartbillions_ico/\n"
     ]
    },
    {
     "name": "stderr",
     "output_type": "stream",
     "text": [
      "\r",
      " 33%|█████████████████████████                                                  | 449/1345 [1:47:28<3:38:27, 14.63s/it]"
     ]
    },
    {
     "name": "stdout",
     "output_type": "stream",
     "text": [
      "GoldBlocks https://www.reddit.com/r/CryptoCurrency/comments/5xvoa0/interview_with_goldblocks_coin_introduction_of_an/\n"
     ]
    },
    {
     "name": "stderr",
     "output_type": "stream",
     "text": [
      "\r",
      " 33%|█████████████████████████                                                  | 450/1345 [1:47:41<3:28:39, 13.99s/it]"
     ]
    },
    {
     "name": "stdout",
     "output_type": "stream",
     "text": [
      "Magi https://www.reddit.com/r/CryptoCurrency/comments/5l2m5x/join_the_magic_magi/\n"
     ]
    },
    {
     "name": "stderr",
     "output_type": "stream",
     "text": [
      "\r",
      " 34%|█████████████████████████▏                                                 | 451/1345 [1:47:54<3:26:18, 13.85s/it]"
     ]
    },
    {
     "name": "stdout",
     "output_type": "stream",
     "text": [
      "Tokes https://www.reddit.com/r/CryptoCurrency/comments/6cd3d7/tokes_platform_tks_announces_new_partnerships/\n"
     ]
    },
    {
     "name": "stderr",
     "output_type": "stream",
     "text": [
      "\r",
      " 34%|█████████████████████████▏                                                 | 452/1345 [1:48:10<3:35:11, 14.46s/it]"
     ]
    },
    {
     "name": "stdout",
     "output_type": "stream",
     "text": [
      "ProCurrency https://www.reddit.com/r/CryptoCurrency/\n"
     ]
    },
    {
     "name": "stderr",
     "output_type": "stream",
     "text": [
      "\r",
      " 34%|█████████████████████████▎                                                 | 453/1345 [1:48:24<3:31:54, 14.25s/it]"
     ]
    },
    {
     "name": "stdout",
     "output_type": "stream",
     "text": [
      "Quark https://www.reddit.com/r/QuarkCoin/\n"
     ]
    },
    {
     "name": "stderr",
     "output_type": "stream",
     "text": [
      "\r",
      " 34%|█████████████████████████▎                                                 | 454/1345 [1:48:34<3:14:02, 13.07s/it]"
     ]
    },
    {
     "name": "stdout",
     "output_type": "stream",
     "text": [
      "Crypto Bullion https://www.reddit.com/r/CryptoBullionX/\n"
     ]
    },
    {
     "name": "stderr",
     "output_type": "stream",
     "text": [
      "\r",
      " 34%|█████████████████████████▎                                                 | 455/1345 [1:48:46<3:07:40, 12.65s/it]"
     ]
    },
    {
     "name": "stdout",
     "output_type": "stream",
     "text": [
      "CHIPS https://www.reddit.com/r/crypto/comments/26x1co/bitlocker_and_tpm_chips_wtf_confused/\n"
     ]
    },
    {
     "name": "stderr",
     "output_type": "stream",
     "text": [
      "\r",
      " 34%|█████████████████████████▍                                                 | 456/1345 [1:48:56<2:53:15, 11.69s/it]"
     ]
    },
    {
     "name": "stdout",
     "output_type": "stream",
     "text": [
      "Zennies https://www.reddit.com/r/crypto/\n"
     ]
    },
    {
     "name": "stderr",
     "output_type": "stream",
     "text": [
      "\r",
      " 34%|█████████████████████████▍                                                 | 457/1345 [1:49:06<2:47:48, 11.34s/it]"
     ]
    },
    {
     "name": "stdout",
     "output_type": "stream",
     "text": [
      "Hush https://www.reddit.com/r/CryptoMarkets/comments/6dysy7/hush_looks_pretty_cool/\n"
     ]
    },
    {
     "name": "stderr",
     "output_type": "stream",
     "text": [
      "\r",
      " 34%|█████████████████████████▌                                                 | 458/1345 [1:49:18<2:48:07, 11.37s/it]"
     ]
    },
    {
     "name": "stdout",
     "output_type": "stream",
     "text": [
      "Social https://www.reddit.com/r/CryptocurrencySocial/\n"
     ]
    },
    {
     "name": "stderr",
     "output_type": "stream",
     "text": [
      "\r",
      " 34%|█████████████████████████▌                                                 | 459/1345 [1:49:31<2:57:24, 12.01s/it]"
     ]
    },
    {
     "name": "stdout",
     "output_type": "stream",
     "text": [
      "REX https://www.reddit.com/r/icocrypto/comments/4ztvtg/rex/\n"
     ]
    },
    {
     "name": "stderr",
     "output_type": "stream",
     "text": [
      "\r",
      " 34%|█████████████████████████▋                                                 | 460/1345 [1:49:43<2:58:56, 12.13s/it]"
     ]
    },
    {
     "name": "stdout",
     "output_type": "stream",
     "text": [
      "Paccoin https://www.reddit.com/r/paccoin/comments/6mmr9x/paccoin_rising/\n"
     ]
    },
    {
     "name": "stderr",
     "output_type": "stream",
     "text": [
      "\r",
      " 34%|█████████████████████████▋                                                 | 461/1345 [1:49:54<2:50:46, 11.59s/it]"
     ]
    },
    {
     "name": "stdout",
     "output_type": "stream",
     "text": [
      "HyperStake https://www.reddit.com/r/hyperstake/\n"
     ]
    },
    {
     "name": "stderr",
     "output_type": "stream",
     "text": [
      "\r",
      " 34%|█████████████████████████▊                                                 | 462/1345 [1:50:07<2:58:51, 12.15s/it]"
     ]
    },
    {
     "name": "stdout",
     "output_type": "stream",
     "text": [
      "BitcoinZ https://www.reddit.com/r/CryptoCurrency/\n"
     ]
    },
    {
     "name": "stderr",
     "output_type": "stream",
     "text": [
      "\r",
      " 34%|█████████████████████████▊                                                 | 463/1345 [1:50:19<2:58:00, 12.11s/it]"
     ]
    },
    {
     "name": "stdout",
     "output_type": "stream",
     "text": [
      "AudioCoin https://www.reddit.com/r/CryptoCurrency/comments/6eht6u/audiocoin_adc_a_digital_currency_for_the_music/\n"
     ]
    },
    {
     "name": "stderr",
     "output_type": "stream",
     "text": [
      "\r",
      " 34%|█████████████████████████▊                                                 | 464/1345 [1:50:33<3:04:05, 12.54s/it]"
     ]
    },
    {
     "name": "stdout",
     "output_type": "stream",
     "text": [
      "Crave https://www.reddit.com/r/CryptoCurrency/\n"
     ]
    },
    {
     "name": "stderr",
     "output_type": "stream",
     "text": [
      "\r",
      " 35%|█████████████████████████▉                                                 | 465/1345 [1:50:44<2:59:22, 12.23s/it]"
     ]
    },
    {
     "name": "stdout",
     "output_type": "stream",
     "text": [
      "UFO Coin https://www.reddit.com/r/CryptoCurrency/comments/5da4ms/ufo_coin_question/\n"
     ]
    },
    {
     "name": "stderr",
     "output_type": "stream",
     "text": [
      "\r",
      " 35%|█████████████████████████▉                                                 | 466/1345 [1:50:57<3:00:33, 12.33s/it]"
     ]
    },
    {
     "name": "stdout",
     "output_type": "stream",
     "text": [
      "Bulwark https://www.reddit.com/r/CryptoCurrency/\n"
     ]
    },
    {
     "name": "stderr",
     "output_type": "stream",
     "text": [
      "\r",
      " 35%|██████████████████████████                                                 | 467/1345 [1:51:11<3:09:15, 12.93s/it]"
     ]
    },
    {
     "name": "stdout",
     "output_type": "stream",
     "text": [
      "Opus https://www.reddit.com/r/altcoin/\n"
     ]
    },
    {
     "name": "stderr",
     "output_type": "stream",
     "text": [
      "\r",
      " 35%|██████████████████████████                                                 | 468/1345 [1:51:22<2:57:59, 12.18s/it]"
     ]
    },
    {
     "name": "stdout",
     "output_type": "stream",
     "text": [
      "Yocoin https://www.reddit.com/r/CryptoCurrency/comments/4rq2yh/bitcoin_alternative_yocoin_a_new_cryptocurrency/\n"
     ]
    },
    {
     "name": "stderr",
     "output_type": "stream",
     "text": [
      "\r",
      " 35%|██████████████████████████▏                                                | 469/1345 [1:51:33<2:54:26, 11.95s/it]"
     ]
    },
    {
     "name": "stdout",
     "output_type": "stream",
     "text": [
      "LIFE https://www.reddit.com/r/CryptoCurrency/comments/6qln5h/life_in_crypto/\n"
     ]
    },
    {
     "name": "stderr",
     "output_type": "stream",
     "text": [
      "\r",
      " 35%|██████████████████████████▏                                                | 470/1345 [1:51:45<2:55:34, 12.04s/it]"
     ]
    },
    {
     "name": "stdout",
     "output_type": "stream",
     "text": [
      "DNotes https://www.reddit.com/r/DNotes/\n"
     ]
    },
    {
     "name": "stderr",
     "output_type": "stream",
     "text": [
      "\r",
      " 35%|██████████████████████████▎                                                | 471/1345 [1:51:57<2:51:48, 11.79s/it]"
     ]
    },
    {
     "name": "stdout",
     "output_type": "stream",
     "text": [
      "ERC20 https://www.reddit.com/r/CryptoCurrency/comments/7fzzqq/undervalued_erc20_tokens/\n"
     ]
    },
    {
     "name": "stderr",
     "output_type": "stream",
     "text": [
      "\r",
      " 35%|██████████████████████████▎                                                | 472/1345 [1:53:09<7:16:07, 29.97s/it]"
     ]
    },
    {
     "name": "stdout",
     "output_type": "stream",
     "text": [
      "Zoin https://www.reddit.com/r/crypto/\n"
     ]
    },
    {
     "name": "stderr",
     "output_type": "stream",
     "text": [
      "\r",
      " 35%|██████████████████████████▍                                                | 473/1345 [1:53:20<5:54:21, 24.38s/it]"
     ]
    },
    {
     "name": "stdout",
     "output_type": "stream",
     "text": [
      "FundYourselfNow https://www.reddit.com/r/CryptoCurrency/comments/6dpqc8/ico_review_of_fundyourselfnow_fyn_tokens/\n"
     ]
    },
    {
     "name": "stderr",
     "output_type": "stream",
     "text": [
      "\r",
      " 35%|██████████████████████████▍                                                | 474/1345 [1:53:30<4:49:07, 19.92s/it]"
     ]
    },
    {
     "name": "stdout",
     "output_type": "stream",
     "text": [
      "Smart Investment Fund Token https://www.reddit.com/r/icocrypto/comments/7f98dc/what_are_benefits_for_the_sisa_token_holders/\n"
     ]
    },
    {
     "name": "stderr",
     "output_type": "stream",
     "text": [
      "\r",
      " 35%|██████████████████████████▍                                                | 475/1345 [1:53:46<4:32:06, 18.77s/it]"
     ]
    },
    {
     "name": "stdout",
     "output_type": "stream",
     "text": [
      "eBoost https://www.reddit.com/r/CryptoCurrency/comments/5ari6t/eboost_to_begin_trading_on_bittrex_as_successful/\n"
     ]
    },
    {
     "name": "stderr",
     "output_type": "stream",
     "text": [
      "\r",
      " 35%|██████████████████████████▌                                                | 476/1345 [1:53:57<3:59:13, 16.52s/it]"
     ]
    },
    {
     "name": "stdout",
     "output_type": "stream",
     "text": [
      "Hedge https://www.reddit.com/r/HedgeToken/\n"
     ]
    },
    {
     "name": "stderr",
     "output_type": "stream",
     "text": [
      "\r",
      " 35%|██████████████████████████▌                                                | 477/1345 [1:54:09<3:37:57, 15.07s/it]"
     ]
    },
    {
     "name": "stdout",
     "output_type": "stream",
     "text": [
      "FlypMe https://www.reddit.com/r/flypme/\n"
     ]
    },
    {
     "name": "stderr",
     "output_type": "stream",
     "text": [
      "\r",
      " 36%|██████████████████████████▋                                                | 478/1345 [1:54:19<3:17:21, 13.66s/it]"
     ]
    },
    {
     "name": "stdout",
     "output_type": "stream",
     "text": [
      "Zeitcoin https://www.reddit.com/r/Bitcoin/comments/21ejkh/scam_exchange_cryptorush_implodes_with_epic_drama/\n"
     ]
    },
    {
     "name": "stderr",
     "output_type": "stream",
     "text": [
      "\r",
      " 36%|██████████████████████████▋                                                | 479/1345 [1:54:31<3:07:26, 12.99s/it]"
     ]
    },
    {
     "name": "stdout",
     "output_type": "stream",
     "text": [
      "WorldCoin https://www.reddit.com/r/worldcoinalliance/\n"
     ]
    },
    {
     "name": "stderr",
     "output_type": "stream",
     "text": [
      "\r",
      " 36%|██████████████████████████▊                                                | 480/1345 [1:54:44<3:09:18, 13.13s/it]"
     ]
    },
    {
     "name": "stdout",
     "output_type": "stream",
     "text": [
      "Altcoin https://www.reddit.com/r/altcoin/\n"
     ]
    },
    {
     "name": "stderr",
     "output_type": "stream",
     "text": [
      "\r",
      " 36%|██████████████████████████▊                                                | 481/1345 [1:54:53<2:52:51, 12.00s/it]"
     ]
    },
    {
     "name": "stdout",
     "output_type": "stream",
     "text": [
      "Woodcoin https://www.reddit.com/r/CryptoCurrency/\n"
     ]
    },
    {
     "name": "stderr",
     "output_type": "stream",
     "text": [
      "\r",
      " 36%|██████████████████████████▉                                                | 482/1345 [1:55:07<3:01:01, 12.59s/it]"
     ]
    },
    {
     "name": "stdout",
     "output_type": "stream",
     "text": [
      "LuckChain https://www.reddit.com/r/CryptoCurrency/comments/5m00i4/luckchain_bash_exchange_ann_luckchain_bash/\n"
     ]
    },
    {
     "name": "stderr",
     "output_type": "stream",
     "text": [
      "\r",
      " 36%|██████████████████████████▉                                                | 483/1345 [1:55:19<2:55:09, 12.19s/it]"
     ]
    },
    {
     "name": "stdout",
     "output_type": "stream",
     "text": [
      "Tracto https://www.reddit.com/r/CryptoCurrency/\n"
     ]
    },
    {
     "name": "stderr",
     "output_type": "stream",
     "text": [
      "\r",
      " 36%|██████████████████████████▉                                                | 484/1345 [1:55:29<2:47:20, 11.66s/it]"
     ]
    },
    {
     "name": "stdout",
     "output_type": "stream",
     "text": [
      "RussiaCoin https://www.reddit.com/r/Bitcoin/comments/71hjyq/russian_governor_invites_cryptocurrency_miners_to/\n"
     ]
    },
    {
     "name": "stderr",
     "output_type": "stream",
     "text": [
      "\r",
      " 36%|███████████████████████████                                                | 485/1345 [1:55:44<3:00:41, 12.61s/it]"
     ]
    },
    {
     "name": "stdout",
     "output_type": "stream",
     "text": [
      "Fantomcoin https://www.reddit.com/r/Fantomcoin/\n"
     ]
    },
    {
     "name": "stderr",
     "output_type": "stream",
     "text": [
      "\r",
      " 36%|███████████████████████████                                                | 486/1345 [1:55:55<2:55:10, 12.24s/it]"
     ]
    },
    {
     "name": "stdout",
     "output_type": "stream",
     "text": [
      "Cryptonite https://www.reddit.com/r/CryptoCurrency/\n"
     ]
    },
    {
     "name": "stderr",
     "output_type": "stream",
     "text": [
      "\r",
      " 36%|███████████████████████████▏                                               | 487/1345 [1:56:07<2:51:47, 12.01s/it]"
     ]
    },
    {
     "name": "stdout",
     "output_type": "stream",
     "text": [
      "BuzzCoin https://www.reddit.com/r/CryptoMarkets/comments/7bmdmg/buzzcoin_update_on_youtube/\n"
     ]
    },
    {
     "name": "stderr",
     "output_type": "stream",
     "text": [
      "\r",
      " 36%|███████████████████████████▏                                               | 488/1345 [1:56:21<3:02:41, 12.79s/it]"
     ]
    },
    {
     "name": "stdout",
     "output_type": "stream",
     "text": [
      "Hubii Network https://www.reddit.com/r/CryptoCurrency/comments/70xsyu/so_did_hubiinetwork_scammed_all_the_ico/\n"
     ]
    },
    {
     "name": "stderr",
     "output_type": "stream",
     "text": [
      "\r",
      " 36%|███████████████████████████▎                                               | 489/1345 [1:56:32<2:52:23, 12.08s/it]"
     ]
    },
    {
     "name": "stdout",
     "output_type": "stream",
     "text": [
      "PiplCoin https://www.reddit.com/r/onions/comments/1pswx3/is_there_a_site_that_i_can_do_a_people_search_on/\n"
     ]
    },
    {
     "name": "stderr",
     "output_type": "stream",
     "text": [
      "\r",
      " 36%|███████████████████████████▎                                               | 490/1345 [1:56:46<3:02:47, 12.83s/it]"
     ]
    },
    {
     "name": "stdout",
     "output_type": "stream",
     "text": [
      "Autonio https://www.reddit.com/r/Contest/comments/77typo/autonio_crypto_trading_championship_400k_nio/\n"
     ]
    },
    {
     "name": "stderr",
     "output_type": "stream",
     "text": [
      "\r",
      " 37%|███████████████████████████▍                                               | 491/1345 [1:56:57<2:52:46, 12.14s/it]"
     ]
    },
    {
     "name": "stdout",
     "output_type": "stream",
     "text": [
      "Sprouts https://www.reddit.com/r/SproutsCryptocurrency/\n"
     ]
    },
    {
     "name": "stderr",
     "output_type": "stream",
     "text": [
      "\r",
      " 37%|███████████████████████████▍                                               | 492/1345 [1:57:07<2:44:57, 11.60s/it]"
     ]
    },
    {
     "name": "stdout",
     "output_type": "stream",
     "text": [
      "NEVERDIE https://www.reddit.com/r/icocrypto/comments/6j0ehm/neverdie_ico/\n"
     ]
    },
    {
     "name": "stderr",
     "output_type": "stream",
     "text": [
      "\r",
      " 37%|███████████████████████████▍                                               | 493/1345 [1:57:19<2:43:47, 11.53s/it]"
     ]
    },
    {
     "name": "stdout",
     "output_type": "stream",
     "text": [
      "FLiK https://www.reddit.com/r/CryptoCurrency/comments/78aqpw/flik_now_ranked_on_coinmarketcap/\n"
     ]
    },
    {
     "name": "stderr",
     "output_type": "stream",
     "text": [
      "\r",
      " 37%|███████████████████████████▌                                               | 494/1345 [1:57:29<2:38:37, 11.18s/it]"
     ]
    },
    {
     "name": "stdout",
     "output_type": "stream",
     "text": [
      "Fastcoin https://www.reddit.com/r/CryptoCurrency/comments/74fy6b/fastcoin_story_from_one_trader_to_another/\n"
     ]
    },
    {
     "name": "stderr",
     "output_type": "stream",
     "text": [
      "\r",
      " 37%|███████████████████████████▌                                               | 495/1345 [1:57:44<2:55:28, 12.39s/it]"
     ]
    },
    {
     "name": "stdout",
     "output_type": "stream",
     "text": [
      "WavesGo https://www.reddit.com/r/altcoin/\n"
     ]
    },
    {
     "name": "stderr",
     "output_type": "stream",
     "text": [
      "\r",
      " 37%|███████████████████████████▋                                               | 496/1345 [1:57:55<2:50:42, 12.06s/it]"
     ]
    },
    {
     "name": "stdout",
     "output_type": "stream",
     "text": [
      "MyWish https://www.reddit.com/r/CryptoCurrency/comments/78n7m8/reddit_we_are_mywish_team_and_we_want_your_ideas/\n"
     ]
    },
    {
     "name": "stderr",
     "output_type": "stream",
     "text": [
      "\r",
      " 37%|███████████████████████████▋                                               | 497/1345 [1:58:06<2:42:52, 11.52s/it]"
     ]
    },
    {
     "name": "stdout",
     "output_type": "stream",
     "text": [
      "Growers International https://www.reddit.com/r/GRWI/\n"
     ]
    },
    {
     "name": "stderr",
     "output_type": "stream",
     "text": [
      "\r",
      " 37%|███████████████████████████▊                                               | 498/1345 [1:58:17<2:40:46, 11.39s/it]"
     ]
    },
    {
     "name": "stdout",
     "output_type": "stream",
     "text": [
      "Espers https://www.reddit.com/r/CryptoCurrency/comments/4ehbnx/espers_esp_new_algo_new_features_in_development/\n"
     ]
    },
    {
     "name": "stderr",
     "output_type": "stream",
     "text": [
      "\r",
      " 37%|███████████████████████████▊                                               | 499/1345 [1:58:29<2:43:55, 11.63s/it]"
     ]
    },
    {
     "name": "stdout",
     "output_type": "stream",
     "text": [
      "1337 https://www.reddit.com/r/CryptoCurrency/comments/6hun7y/1337_coin_the_next_10_fold_earner_you_havent/\n"
     ]
    },
    {
     "name": "stderr",
     "output_type": "stream",
     "text": [
      "\r",
      " 37%|███████████████████████████▉                                               | 500/1345 [1:59:39<6:52:19, 29.28s/it]"
     ]
    },
    {
     "name": "stdout",
     "output_type": "stream",
     "text": [
      "Visio https://www.reddit.com/r/CryptoCurrency/\n"
     ]
    },
    {
     "name": "stderr",
     "output_type": "stream",
     "text": [
      "\r",
      " 37%|███████████████████████████▉                                               | 501/1345 [1:59:52<5:40:31, 24.21s/it]"
     ]
    },
    {
     "name": "stdout",
     "output_type": "stream",
     "text": [
      "Unity Ingot https://www.reddit.com/r/CryptoCurrency/comments/6ob0qj/unity_ingot_is_probably_a_scam/\n"
     ]
    },
    {
     "name": "stderr",
     "output_type": "stream",
     "text": [
      "\r",
      " 37%|███████████████████████████▉                                               | 502/1345 [2:00:03<4:44:52, 20.28s/it]"
     ]
    },
    {
     "name": "stdout",
     "output_type": "stream",
     "text": [
      "Privatix https://www.reddit.com/r/CryptoCurrency/comments/73hfy7/anyone_else_excited_for_upcoming_privatix_project/\n"
     ]
    },
    {
     "name": "stderr",
     "output_type": "stream",
     "text": [
      "\r",
      " 37%|████████████████████████████                                               | 503/1345 [2:00:18<4:23:14, 18.76s/it]"
     ]
    },
    {
     "name": "stdout",
     "output_type": "stream",
     "text": [
      "Bowhead https://www.reddit.com/r/Bowhead/comments/6vh7k2/bowhead_faq/\n"
     ]
    },
    {
     "name": "stderr",
     "output_type": "stream",
     "text": [
      "\r",
      " 37%|████████████████████████████                                               | 504/1345 [2:00:30<3:55:42, 16.82s/it]"
     ]
    },
    {
     "name": "stdout",
     "output_type": "stream",
     "text": [
      "DigiPulse https://www.reddit.com/r/icocrypto/comments/6ntdg2/preico_digipulseio_digital_asset_inheritance/\n"
     ]
    },
    {
     "name": "stderr",
     "output_type": "stream",
     "text": [
      "\r",
      " 38%|████████████████████████████▏                                              | 505/1345 [2:00:41<3:28:31, 14.89s/it]"
     ]
    },
    {
     "name": "stdout",
     "output_type": "stream",
     "text": [
      "Bata https://www.reddit.com/r/CryptoCurrency/comments/660c4t/bata_bta_mentioned_in_masternode_section/\n"
     ]
    },
    {
     "name": "stderr",
     "output_type": "stream",
     "text": [
      "\r",
      " 38%|████████████████████████████▏                                              | 506/1345 [2:00:50<3:05:28, 13.26s/it]"
     ]
    },
    {
     "name": "stdout",
     "output_type": "stream",
     "text": [
      "IncaKoin https://www.reddit.com/r/CryptoCurrency/comments/3pf2ir/incakoin_the_future_is_made_on_inca_gold/\n"
     ]
    },
    {
     "name": "stderr",
     "output_type": "stream",
     "text": [
      "\r",
      " 38%|████████████████████████████▎                                              | 507/1345 [2:01:03<3:01:45, 13.01s/it]"
     ]
    },
    {
     "name": "stdout",
     "output_type": "stream",
     "text": [
      "Adelphoi https://www.reddit.com/r/CryptoCurrency/duplicates/765cy5/adelphoi_i_am_more_than_just_a_traders_coin_adel/\n"
     ]
    },
    {
     "name": "stderr",
     "output_type": "stream",
     "text": [
      "\r",
      " 38%|████████████████████████████▎                                              | 508/1345 [2:01:16<3:03:56, 13.19s/it]"
     ]
    },
    {
     "name": "stdout",
     "output_type": "stream",
     "text": [
      "Canada eCoin https://www.reddit.com/r/CryptoCurrency/comments/3z0qjh/canada_ecoin_cdn/\n"
     ]
    },
    {
     "name": "stderr",
     "output_type": "stream",
     "text": [
      "\r",
      " 38%|████████████████████████████▍                                              | 509/1345 [2:01:29<3:00:40, 12.97s/it]"
     ]
    },
    {
     "name": "stdout",
     "output_type": "stream",
     "text": [
      "Giga Watt Token https://www.reddit.com/r/CryptoCurrency/comments/6edm8s/giga_watt_wtt_token_referral_program/\n"
     ]
    },
    {
     "name": "stderr",
     "output_type": "stream",
     "text": [
      "\r",
      " 38%|████████████████████████████▍                                              | 510/1345 [2:01:39<2:49:39, 12.19s/it]"
     ]
    },
    {
     "name": "stdout",
     "output_type": "stream",
     "text": [
      "42-coin https://www.reddit.com/r/CryptoCurrency/comments/6qnvs0/42coin/\n"
     ]
    },
    {
     "name": "stderr",
     "output_type": "stream",
     "text": [
      "\r",
      " 38%|████████████████████████████▍                                              | 511/1345 [2:01:49<2:41:39, 11.63s/it]"
     ]
    },
    {
     "name": "stdout",
     "output_type": "stream",
     "text": [
      "Megacoin https://www.reddit.com/r/megacoin/\n"
     ]
    },
    {
     "name": "stderr",
     "output_type": "stream",
     "text": [
      "\r",
      " 38%|████████████████████████████▌                                              | 512/1345 [2:02:01<2:40:10, 11.54s/it]"
     ]
    },
    {
     "name": "stdout",
     "output_type": "stream",
     "text": [
      "Sumokoin https://www.reddit.com/r/Monero/comments/6ejizg/sumokoin_%E3%82%B9%E3%83%A2%E3%82%B3%E3%82%A4%E3%83%B3_in_japanese_is_a_fork_from_monero/\n"
     ]
    },
    {
     "name": "stderr",
     "output_type": "stream",
     "text": [
      "\r",
      " 38%|████████████████████████████▌                                              | 513/1345 [2:02:16<2:56:07, 12.70s/it]"
     ]
    },
    {
     "name": "stdout",
     "output_type": "stream",
     "text": [
      "Gimli https://www.reddit.com/r/CryptoMarkets/comments/6mpp69/gimli_decentralized_live_stream_interactions/\n"
     ]
    },
    {
     "name": "stderr",
     "output_type": "stream",
     "text": [
      "\r",
      " 38%|████████████████████████████▋                                              | 514/1345 [2:02:27<2:47:22, 12.09s/it]"
     ]
    },
    {
     "name": "stdout",
     "output_type": "stream",
     "text": [
      "Bytecent https://www.reddit.com/r/Bytecent/\n"
     ]
    },
    {
     "name": "stderr",
     "output_type": "stream",
     "text": [
      "\r",
      " 38%|████████████████████████████▋                                              | 515/1345 [2:02:39<2:47:35, 12.11s/it]"
     ]
    },
    {
     "name": "stdout",
     "output_type": "stream",
     "text": [
      "Greencoin https://www.reddit.com/r/CryptoCurrency/comments/1zs203/could_greencoin_be_a_big_deal/\n"
     ]
    },
    {
     "name": "stderr",
     "output_type": "stream",
     "text": [
      "\r",
      " 38%|████████████████████████████▊                                              | 516/1345 [2:02:54<2:59:28, 12.99s/it]"
     ]
    },
    {
     "name": "stdout",
     "output_type": "stream",
     "text": [
      "EquiTrader https://www.reddit.com/r/CryptoCurrency/comments/6izvui/equitrader_review/\n"
     ]
    },
    {
     "name": "stderr",
     "output_type": "stream",
     "text": [
      "\r",
      " 38%|████████████████████████████▊                                              | 517/1345 [2:03:05<2:52:38, 12.51s/it]"
     ]
    },
    {
     "name": "stdout",
     "output_type": "stream",
     "text": [
      "Legends Room https://www.reddit.com/r/CryptoCurrency/comments/7b0lze/legends_room_coin_lgd/\n"
     ]
    },
    {
     "name": "stderr",
     "output_type": "stream",
     "text": [
      "\r",
      " 39%|████████████████████████████▉                                              | 518/1345 [2:03:20<3:00:05, 13.07s/it]"
     ]
    },
    {
     "name": "stdout",
     "output_type": "stream",
     "text": [
      "Monster Byte https://www.reddit.com/r/icocrypto/comments/6lbtri/ico_review_monster_byte_inc_my_review_on_monster/\n"
     ]
    },
    {
     "name": "stderr",
     "output_type": "stream",
     "text": [
      "\r",
      " 39%|████████████████████████████▉                                              | 519/1345 [2:03:30<2:48:39, 12.25s/it]"
     ]
    },
    {
     "name": "stdout",
     "output_type": "stream",
     "text": [
      "BitBar https://www.reddit.com/r/CryptoCurrency/\n"
     ]
    },
    {
     "name": "stderr",
     "output_type": "stream",
     "text": [
      "\r",
      " 39%|████████████████████████████▉                                              | 520/1345 [2:03:42<2:44:48, 11.99s/it]"
     ]
    },
    {
     "name": "stdout",
     "output_type": "stream",
     "text": [
      "Miners' Reward Token https://www.reddit.com/r/CryptoCurrency/comments/6vzyiy/just_name_some_coins/\n"
     ]
    },
    {
     "name": "stderr",
     "output_type": "stream",
     "text": [
      "\r",
      " 39%|█████████████████████████████                                              | 521/1345 [2:03:56<2:54:54, 12.74s/it]"
     ]
    },
    {
     "name": "stdout",
     "output_type": "stream",
     "text": [
      "Elementrem https://www.reddit.com/r/CryptoCurrency/comments/4uemui/elementrem_eth_clone/\n"
     ]
    },
    {
     "name": "stderr",
     "output_type": "stream",
     "text": [
      "\r",
      " 39%|█████████████████████████████                                              | 522/1345 [2:04:08<2:49:44, 12.38s/it]"
     ]
    },
    {
     "name": "stdout",
     "output_type": "stream",
     "text": [
      "Embers https://www.reddit.com/r/CryptoMarkets/comments/7aaxdg/predicting_the_outcome_of_the_november_bitcoin/\n"
     ]
    },
    {
     "name": "stderr",
     "output_type": "stream",
     "text": [
      "\r",
      " 39%|█████████████████████████████▏                                             | 523/1345 [2:04:20<2:48:49, 12.32s/it]"
     ]
    },
    {
     "name": "stdout",
     "output_type": "stream",
     "text": [
      "Ellaism https://www.reddit.com/r/CryptoCurrency/comments/7jch3s/ellaism_ella_is_a_sleeper_and_has_massive_upside/\n"
     ]
    },
    {
     "name": "stderr",
     "output_type": "stream",
     "text": [
      "\r",
      " 39%|█████████████████████████████▏                                             | 524/1345 [2:04:31<2:44:45, 12.04s/it]"
     ]
    },
    {
     "name": "stdout",
     "output_type": "stream",
     "text": [
      "Solaris https://www.reddit.com/r/crypto/\n"
     ]
    },
    {
     "name": "stderr",
     "output_type": "stream",
     "text": [
      "\r",
      " 39%|█████████████████████████████▎                                             | 525/1345 [2:04:43<2:45:27, 12.11s/it]"
     ]
    },
    {
     "name": "stdout",
     "output_type": "stream",
     "text": [
      "Carboncoin https://www.reddit.com/r/CARBCoin/\n"
     ]
    },
    {
     "name": "stderr",
     "output_type": "stream",
     "text": [
      "\r",
      " 39%|█████████████████████████████▎                                             | 526/1345 [2:04:56<2:47:56, 12.30s/it]"
     ]
    },
    {
     "name": "stdout",
     "output_type": "stream",
     "text": [
      "MonacoCoin https://www.reddit.com/r/MonacoCard/\n"
     ]
    },
    {
     "name": "stderr",
     "output_type": "stream",
     "text": [
      "\r",
      " 39%|█████████████████████████████▍                                             | 527/1345 [2:05:09<2:48:34, 12.36s/it]"
     ]
    },
    {
     "name": "stdout",
     "output_type": "stream",
     "text": [
      "Linx https://www.reddit.com/r/LINXcoin/\n"
     ]
    },
    {
     "name": "stderr",
     "output_type": "stream",
     "text": [
      "\r",
      " 39%|█████████████████████████████▍                                             | 528/1345 [2:06:19<6:45:22, 29.77s/it]"
     ]
    },
    {
     "name": "stdout",
     "output_type": "stream",
     "text": [
      "ALQO https://www.reddit.com/r/Alqo/\n"
     ]
    },
    {
     "name": "stderr",
     "output_type": "stream",
     "text": [
      "\r",
      " 39%|█████████████████████████████▍                                             | 529/1345 [2:06:30<5:29:07, 24.20s/it]"
     ]
    },
    {
     "name": "stdout",
     "output_type": "stream",
     "text": [
      "IntenseCoin https://www.reddit.com/r/CryptoCurrency/\n"
     ]
    },
    {
     "name": "stderr",
     "output_type": "stream",
     "text": [
      "\r",
      " 39%|█████████████████████████████▌                                             | 530/1345 [2:06:42<4:36:19, 20.34s/it]"
     ]
    },
    {
     "name": "stdout",
     "output_type": "stream",
     "text": [
      "HiCoin https://www.reddit.com/r/crypto/\n"
     ]
    },
    {
     "name": "stderr",
     "output_type": "stream",
     "text": [
      "\r",
      " 39%|█████████████████████████████▌                                             | 531/1345 [2:06:56<4:11:01, 18.50s/it]"
     ]
    },
    {
     "name": "stdout",
     "output_type": "stream",
     "text": [
      "Condensate https://www.reddit.com/r/siacoin/\n"
     ]
    },
    {
     "name": "stderr",
     "output_type": "stream",
     "text": [
      "\r",
      " 40%|█████████████████████████████▋                                             | 532/1345 [2:07:07<3:40:54, 16.30s/it]"
     ]
    },
    {
     "name": "stdout",
     "output_type": "stream",
     "text": [
      "Renos https://www.reddit.com/r/altcoin/\n"
     ]
    },
    {
     "name": "stderr",
     "output_type": "stream",
     "text": [
      "\r",
      " 40%|█████████████████████████████▋                                             | 533/1345 [2:07:18<3:20:45, 14.83s/it]"
     ]
    },
    {
     "name": "stdout",
     "output_type": "stream",
     "text": [
      "SkinCoin https://www.reddit.com/r/CryptoCurrency/comments/6hncs4/skincoin_aims_to_become_an_irreplaceable/\n"
     ]
    },
    {
     "name": "stderr",
     "output_type": "stream",
     "text": [
      "\r",
      " 40%|█████████████████████████████▊                                             | 534/1345 [2:07:31<3:10:06, 14.07s/it]"
     ]
    },
    {
     "name": "stdout",
     "output_type": "stream",
     "text": [
      "Zetacoin https://www.reddit.com/r/CryptoMarkets/comments/1rwlvb/whats_with_the_hype_about_quark_zetacoin/\n"
     ]
    },
    {
     "name": "stderr",
     "output_type": "stream",
     "text": [
      "\r",
      " 40%|█████████████████████████████▊                                             | 535/1345 [2:07:43<3:01:25, 13.44s/it]"
     ]
    },
    {
     "name": "stdout",
     "output_type": "stream",
     "text": [
      "Unitus https://www.reddit.com/r/CryptoCurrency/comments/52yzcx/efficiently_merge_mine_myriadunitus_on_your/\n"
     ]
    },
    {
     "name": "stderr",
     "output_type": "stream",
     "text": [
      "\r",
      " 40%|█████████████████████████████▉                                             | 536/1345 [2:07:52<2:44:56, 12.23s/it]"
     ]
    },
    {
     "name": "stdout",
     "output_type": "stream",
     "text": [
      "Footy Cash https://www.reddit.com/r/CryptoCurrency/comments/6jjhi7/footycash_just_got_pumped_to_shit/\n"
     ]
    },
    {
     "name": "stderr",
     "output_type": "stream",
     "text": [
      " 40%|██████████████████████████████                                             | 538/1345 [2:09:00<5:37:00, 25.06s/it]"
     ]
    },
    {
     "name": "stdout",
     "output_type": "stream",
     "text": [
      "CryptoCarbon https://www.reddit.com/r/CryptoCurrency/\n"
     ]
    },
    {
     "name": "stderr",
     "output_type": "stream",
     "text": [
      "\r",
      " 40%|██████████████████████████████                                             | 539/1345 [2:09:10<4:37:45, 20.68s/it]"
     ]
    },
    {
     "name": "stdout",
     "output_type": "stream",
     "text": [
      "UnbreakableCoin https://www.reddit.com/r/CryptoCurrency/comments/6kmncq/unbreakable_coin/\n"
     ]
    },
    {
     "name": "stderr",
     "output_type": "stream",
     "text": [
      "\r",
      " 40%|██████████████████████████████                                             | 540/1345 [2:09:19<3:50:51, 17.21s/it]"
     ]
    },
    {
     "name": "stdout",
     "output_type": "stream",
     "text": [
      "NobleCoin https://www.reddit.com/r/NobleCoin/\n"
     ]
    },
    {
     "name": "stderr",
     "output_type": "stream",
     "text": [
      "\r",
      " 40%|██████████████████████████████▏                                            | 541/1345 [2:09:32<3:30:35, 15.72s/it]"
     ]
    },
    {
     "name": "stdout",
     "output_type": "stream",
     "text": [
      "ArcticCoin https://www.reddit.com/r/ArcticCoin/\n"
     ]
    },
    {
     "name": "stderr",
     "output_type": "stream",
     "text": [
      "\r",
      " 40%|██████████████████████████████▏                                            | 542/1345 [2:09:45<3:22:16, 15.11s/it]"
     ]
    },
    {
     "name": "stdout",
     "output_type": "stream",
     "text": [
      "Ethbits https://www.reddit.com/r/Ethbits/comments/65prbo/ethbits_ico/\n"
     ]
    },
    {
     "name": "stderr",
     "output_type": "stream",
     "text": [
      "\r",
      " 40%|██████████████████████████████▎                                            | 543/1345 [2:09:57<3:06:44, 13.97s/it]"
     ]
    },
    {
     "name": "stdout",
     "output_type": "stream",
     "text": [
      "Zero https://www.reddit.com/r/ZeroCoin/\n"
     ]
    },
    {
     "name": "stderr",
     "output_type": "stream",
     "text": [
      "\r",
      " 40%|██████████████████████████████▎                                            | 544/1345 [2:10:07<2:52:30, 12.92s/it]"
     ]
    },
    {
     "name": "stdout",
     "output_type": "stream",
     "text": [
      "Signatum https://www.reddit.com/r/CryptoCurrency/comments/6w2n8n/signatum_marketplace_v11_released_escrow/\n"
     ]
    },
    {
     "name": "stderr",
     "output_type": "stream",
     "text": [
      "\r",
      " 41%|██████████████████████████████▍                                            | 545/1345 [2:10:30<3:34:01, 16.05s/it]"
     ]
    },
    {
     "name": "stdout",
     "output_type": "stream",
     "text": [
      "Qvolta https://www.reddit.com/r/icocrypto/comments/6sdgmb/qvolta_ico_is_coming_dont_miss_the_best_token/\n"
     ]
    },
    {
     "name": "stderr",
     "output_type": "stream",
     "text": [
      "\r",
      " 41%|██████████████████████████████▍                                            | 546/1345 [2:10:42<3:14:55, 14.64s/it]"
     ]
    },
    {
     "name": "stdout",
     "output_type": "stream",
     "text": [
      "Pandacoin https://www.reddit.com/r/CryptoCurrency/comments/2nalfv/pandacoin_develops_worlds_first_hybrid/\n"
     ]
    },
    {
     "name": "stderr",
     "output_type": "stream",
     "text": [
      "\r",
      " 41%|██████████████████████████████▌                                            | 547/1345 [2:10:53<3:01:33, 13.65s/it]"
     ]
    },
    {
     "name": "stdout",
     "output_type": "stream",
     "text": [
      "InsaneCoin https://www.reddit.com/r/CryptoCurrency/\n"
     ]
    },
    {
     "name": "stderr",
     "output_type": "stream",
     "text": [
      "\r",
      " 41%|██████████████████████████████▌                                            | 548/1345 [2:11:06<2:56:13, 13.27s/it]"
     ]
    },
    {
     "name": "stdout",
     "output_type": "stream",
     "text": [
      "Deutsche eMark https://www.reddit.com/r/elektronischemark/\n"
     ]
    },
    {
     "name": "stderr",
     "output_type": "stream",
     "text": [
      "\r",
      " 41%|██████████████████████████████▌                                            | 549/1345 [2:11:18<2:52:17, 12.99s/it]"
     ]
    },
    {
     "name": "stdout",
     "output_type": "stream",
     "text": [
      "Denarius https://www.reddit.com/r/CryptoCurrency/comments/6lizyb/opinions_on_new_coin_denarius/\n"
     ]
    },
    {
     "name": "stderr",
     "output_type": "stream",
     "text": [
      "\r",
      " 41%|██████████████████████████████▋                                            | 550/1345 [2:11:33<3:01:34, 13.70s/it]"
     ]
    },
    {
     "name": "stdout",
     "output_type": "stream",
     "text": [
      "Orbitcoin https://www.reddit.com/r/Jobs4Crypto/\n"
     ]
    },
    {
     "name": "stderr",
     "output_type": "stream",
     "text": [
      "\r",
      " 41%|██████████████████████████████▋                                            | 551/1345 [2:11:45<2:52:57, 13.07s/it]"
     ]
    },
    {
     "name": "stdout",
     "output_type": "stream",
     "text": [
      "LiteDoge https://www.reddit.com/r/CryptoCurrency/comments/3d19c2/let_the_tipping_madness_begin_litedoge/\n"
     ]
    },
    {
     "name": "stderr",
     "output_type": "stream",
     "text": [
      "\r",
      " 41%|██████████████████████████████▊                                            | 552/1345 [2:11:56<2:46:20, 12.59s/it]"
     ]
    },
    {
     "name": "stdout",
     "output_type": "stream",
     "text": [
      "GAIA https://www.reddit.com/r/gaiaonline/\n"
     ]
    },
    {
     "name": "stderr",
     "output_type": "stream",
     "text": [
      "\r",
      " 41%|██████████████████████████████▊                                            | 553/1345 [2:12:07<2:37:08, 11.90s/it]"
     ]
    },
    {
     "name": "stdout",
     "output_type": "stream",
     "text": [
      "Influxcoin https://www.reddit.com/r/Influxcoin/\n"
     ]
    },
    {
     "name": "stderr",
     "output_type": "stream",
     "text": [
      "\r",
      " 41%|██████████████████████████████▉                                            | 554/1345 [2:12:16<2:26:33, 11.12s/it]"
     ]
    },
    {
     "name": "stdout",
     "output_type": "stream",
     "text": [
      "Pure https://www.reddit.com/r/CryptoCurrency/comments/66yt7v/whats_the_danger_of_a_pure_pos_coin/\n"
     ]
    },
    {
     "name": "stderr",
     "output_type": "stream",
     "text": [
      "\r",
      " 41%|██████████████████████████████▉                                            | 555/1345 [2:12:30<2:38:36, 12.05s/it]"
     ]
    },
    {
     "name": "stdout",
     "output_type": "stream",
     "text": [
      "UltraCoin https://www.reddit.com/r/official_utc/\n"
     ]
    },
    {
     "name": "stderr",
     "output_type": "stream",
     "text": [
      "\r",
      " 41%|███████████████████████████████                                            | 556/1345 [2:12:42<2:38:50, 12.08s/it]"
     ]
    },
    {
     "name": "stdout",
     "output_type": "stream",
     "text": [
      "FujiCoin https://www.reddit.com/r/CryptoCurrency/comments/29lyta/fujicoin_will_version_20_fare_any_better/\n"
     ]
    },
    {
     "name": "stderr",
     "output_type": "stream",
     "text": [
      "\r",
      " 41%|███████████████████████████████                                            | 557/1345 [2:12:54<2:36:11, 11.89s/it]"
     ]
    },
    {
     "name": "stdout",
     "output_type": "stream",
     "text": [
      "Adzcoin https://www.reddit.com/r/CryptoCurrency/comments/457dbk/adzcoin_predictions_is_adzcoin_a_good_investment/\n"
     ]
    },
    {
     "name": "stderr",
     "output_type": "stream",
     "text": [
      "\r",
      " 41%|███████████████████████████████                                            | 558/1345 [2:13:07<2:41:13, 12.29s/it]"
     ]
    },
    {
     "name": "stdout",
     "output_type": "stream",
     "text": [
      "DraftCoin https://www.reddit.com/r/CryptoCurrency/\n"
     ]
    },
    {
     "name": "stderr",
     "output_type": "stream",
     "text": [
      "\r",
      " 42%|███████████████████████████████▏                                           | 559/1345 [2:13:20<2:44:43, 12.57s/it]"
     ]
    },
    {
     "name": "stdout",
     "output_type": "stream",
     "text": [
      "KekCoin https://www.reddit.com/r/KekCoinOfficial/\n"
     ]
    },
    {
     "name": "stderr",
     "output_type": "stream",
     "text": [
      "\r",
      " 42%|███████████████████████████████▏                                           | 560/1345 [2:13:32<2:39:44, 12.21s/it]"
     ]
    },
    {
     "name": "stdout",
     "output_type": "stream",
     "text": [
      "Bitcoin Scrypt https://www.reddit.com/r/CryptoCurrency/comments/20w68d/how_high_will_bitcoin_scrypt_go/\n"
     ]
    },
    {
     "name": "stderr",
     "output_type": "stream",
     "text": [
      "\r",
      " 42%|███████████████████████████████▎                                           | 561/1345 [2:13:45<2:43:45, 12.53s/it]"
     ]
    },
    {
     "name": "stdout",
     "output_type": "stream",
     "text": [
      "Accelerator Network https://www.reddit.com/r/altcoin/\n"
     ]
    },
    {
     "name": "stderr",
     "output_type": "stream",
     "text": [
      "\r",
      " 42%|███████████████████████████████▎                                           | 562/1345 [2:13:58<2:47:06, 12.81s/it]"
     ]
    },
    {
     "name": "stdout",
     "output_type": "stream",
     "text": [
      "Dinastycoin https://www.reddit.com/r/litecoin/\n"
     ]
    },
    {
     "name": "stderr",
     "output_type": "stream",
     "text": [
      "\r",
      " 42%|███████████████████████████████▍                                           | 563/1345 [2:14:09<2:40:51, 12.34s/it]"
     ]
    },
    {
     "name": "stdout",
     "output_type": "stream",
     "text": [
      "Mao Zedong https://www.reddit.com/r/AskReddit/comments/535415/who_was_more_evil_genghis_khan_or_mao_zedong/\n"
     ]
    },
    {
     "name": "stderr",
     "output_type": "stream",
     "text": [
      "\r",
      " 42%|███████████████████████████████▍                                           | 564/1345 [2:14:21<2:37:10, 12.08s/it]"
     ]
    },
    {
     "name": "stdout",
     "output_type": "stream",
     "text": [
      "RouletteToken https://www.reddit.com/r/CryptoMarkets/\n"
     ]
    },
    {
     "name": "stderr",
     "output_type": "stream",
     "text": [
      "\r",
      " 42%|███████████████████████████████▌                                           | 565/1345 [2:14:31<2:30:26, 11.57s/it]"
     ]
    },
    {
     "name": "stdout",
     "output_type": "stream",
     "text": [
      "Bitradio https://www.reddit.com/r/beercoins/comments/6to95r/earn_crypto_by_listening_to_radio_bitradio/\n"
     ]
    },
    {
     "name": "stderr",
     "output_type": "stream",
     "text": [
      "\r",
      " 42%|███████████████████████████████▌                                           | 566/1345 [2:14:47<2:45:03, 12.71s/it]"
     ]
    },
    {
     "name": "stdout",
     "output_type": "stream",
     "text": [
      "StarCredits https://www.reddit.com/r/GameCreditsCrypto/\n"
     ]
    },
    {
     "name": "stderr",
     "output_type": "stream",
     "text": [
      "\r",
      " 42%|███████████████████████████████▌                                           | 567/1345 [2:14:56<2:32:13, 11.74s/it]"
     ]
    },
    {
     "name": "stdout",
     "output_type": "stream",
     "text": [
      "Oyster Pearl https://www.reddit.com/r/icocrypto/comments/7cbd9n/all_about_oyster_in_fron_of_your_eyes/\n"
     ]
    },
    {
     "name": "stderr",
     "output_type": "stream",
     "text": [
      "\r",
      " 42%|███████████████████████████████▋                                           | 568/1345 [2:15:08<2:31:01, 11.66s/it]"
     ]
    },
    {
     "name": "stdout",
     "output_type": "stream",
     "text": [
      "Interstellar Holdings https://www.reddit.com/r/BitcoinMarkets/comments/6ka34x/blockfolio_crypto_portfolio_app_is_snooping_on/\n"
     ]
    },
    {
     "name": "stderr",
     "output_type": "stream",
     "text": [
      "\r",
      " 42%|███████████████████████████████▋                                           | 569/1345 [2:15:18<2:24:24, 11.17s/it]"
     ]
    },
    {
     "name": "stdout",
     "output_type": "stream",
     "text": [
      "Xios https://www.reddit.com/r/CryptoCurrency/comments/796r5b/thoughts_on_xios_coin/\n"
     ]
    },
    {
     "name": "stderr",
     "output_type": "stream",
     "text": [
      "\r",
      " 42%|███████████████████████████████▊                                           | 570/1345 [2:15:28<2:21:04, 10.92s/it]"
     ]
    },
    {
     "name": "stdout",
     "output_type": "stream",
     "text": [
      "BritCoin https://www.reddit.com/r/Bitcoin/\n"
     ]
    },
    {
     "name": "stderr",
     "output_type": "stream",
     "text": [
      "\r",
      " 42%|███████████████████████████████▊                                           | 571/1345 [2:15:42<2:32:27, 11.82s/it]"
     ]
    },
    {
     "name": "stdout",
     "output_type": "stream",
     "text": [
      "PoSToken https://www.reddit.com/r/CryptoCurrency/\n"
     ]
    },
    {
     "name": "stderr",
     "output_type": "stream",
     "text": [
      "\r",
      " 43%|███████████████████████████████▉                                           | 572/1345 [2:16:53<6:23:08, 29.74s/it]"
     ]
    },
    {
     "name": "stdout",
     "output_type": "stream",
     "text": [
      "Rubies https://www.reddit.com/r/crypto/\n"
     ]
    },
    {
     "name": "stderr",
     "output_type": "stream",
     "text": [
      "\r",
      " 43%|███████████████████████████████▉                                           | 573/1345 [2:17:03<5:04:29, 23.67s/it]"
     ]
    },
    {
     "name": "stdout",
     "output_type": "stream",
     "text": [
      "Magnet https://www.reddit.com/r/CryptoMarkets/comments/6p2ziq/digibyte_magnet/\n"
     ]
    },
    {
     "name": "stderr",
     "output_type": "stream",
     "text": [
      "\r",
      " 43%|████████████████████████████████                                           | 574/1345 [2:17:14<4:17:13, 20.02s/it]"
     ]
    },
    {
     "name": "stdout",
     "output_type": "stream",
     "text": [
      "XGOX https://www.reddit.com/r/xGOxCoin/\n"
     ]
    },
    {
     "name": "stderr",
     "output_type": "stream",
     "text": [
      "\r",
      " 43%|████████████████████████████████                                           | 575/1345 [2:17:27<3:47:26, 17.72s/it]"
     ]
    },
    {
     "name": "stdout",
     "output_type": "stream",
     "text": [
      "Bitcurrency https://www.reddit.com/r/CryptoCurrency/\n"
     ]
    },
    {
     "name": "stderr",
     "output_type": "stream",
     "text": [
      "\r",
      " 43%|████████████████████████████████                                           | 576/1345 [2:17:36<3:14:48, 15.20s/it]"
     ]
    },
    {
     "name": "stdout",
     "output_type": "stream",
     "text": [
      "NetCoin https://www.reddit.com/r/netcoin/\n"
     ]
    },
    {
     "name": "stderr",
     "output_type": "stream",
     "text": [
      "\r",
      " 43%|████████████████████████████████▏                                          | 577/1345 [2:17:51<3:11:32, 14.96s/it]"
     ]
    },
    {
     "name": "stdout",
     "output_type": "stream",
     "text": [
      "Linda https://www.reddit.com/r/Forex/comments/3ltepr/analyzing_the_best_traders_linda_raschke/\n"
     ]
    },
    {
     "name": "stderr",
     "output_type": "stream",
     "text": [
      "\r",
      " 43%|████████████████████████████████▏                                          | 578/1345 [2:18:02<2:57:24, 13.88s/it]"
     ]
    },
    {
     "name": "stdout",
     "output_type": "stream",
     "text": [
      "ELTCOIN https://www.reddit.com/r/eLTCoin/comments/7gzja1/some_thoughts_on_eltcoin/\n"
     ]
    },
    {
     "name": "stderr",
     "output_type": "stream",
     "text": [
      "\r",
      " 43%|████████████████████████████████▎                                          | 579/1345 [2:18:11<2:40:01, 12.53s/it]"
     ]
    },
    {
     "name": "stdout",
     "output_type": "stream",
     "text": [
      "SmileyCoin https://www.reddit.com/r/CryptoCurrency/comments/6h3ho3/smileycoin_changes_coming_up_pay_dividends_and/\n"
     ]
    },
    {
     "name": "stderr",
     "output_type": "stream",
     "text": [
      "\r",
      " 43%|████████████████████████████████▎                                          | 580/1345 [2:18:27<2:50:25, 13.37s/it]"
     ]
    },
    {
     "name": "stdout",
     "output_type": "stream",
     "text": [
      "InflationCoin https://www.reddit.com/r/CryptoCurrency/comments/1se2bg/inflationary_coins/\n"
     ]
    },
    {
     "name": "stderr",
     "output_type": "stream",
     "text": [
      "\r",
      " 43%|████████████████████████████████▍                                          | 581/1345 [2:18:38<2:42:22, 12.75s/it]"
     ]
    },
    {
     "name": "stdout",
     "output_type": "stream",
     "text": [
      "MazaCoin https://www.reddit.com/r/mazacoin/\n"
     ]
    },
    {
     "name": "stderr",
     "output_type": "stream",
     "text": [
      "\r",
      " 43%|████████████████████████████████▍                                          | 582/1345 [2:18:47<2:29:36, 11.76s/it]"
     ]
    },
    {
     "name": "stdout",
     "output_type": "stream",
     "text": [
      "Moin https://www.reddit.com/r/CryptoCurrency/\n"
     ]
    },
    {
     "name": "stderr",
     "output_type": "stream",
     "text": [
      "\r",
      " 43%|████████████████████████████████▌                                          | 583/1345 [2:19:02<2:40:34, 12.64s/it]"
     ]
    },
    {
     "name": "stdout",
     "output_type": "stream",
     "text": [
      "DigitalPrice https://www.reddit.com/r/CryptoCurrency/\n"
     ]
    },
    {
     "name": "stderr",
     "output_type": "stream",
     "text": [
      "\r",
      " 43%|████████████████████████████████▌                                          | 584/1345 [2:19:13<2:31:54, 11.98s/it]"
     ]
    },
    {
     "name": "stdout",
     "output_type": "stream",
     "text": [
      "Kobocoin https://www.reddit.com/r/CryptoCurrency/comments/4arlr0/kobocoin_african_peer_to_peer_payment_system/\n"
     ]
    },
    {
     "name": "stderr",
     "output_type": "stream",
     "text": [
      "\r",
      " 43%|████████████████████████████████▌                                          | 585/1345 [2:19:22<2:20:48, 11.12s/it]"
     ]
    },
    {
     "name": "stdout",
     "output_type": "stream",
     "text": [
      "Machinecoin https://www.reddit.com/r/altcoin/\n"
     ]
    },
    {
     "name": "stderr",
     "output_type": "stream",
     "text": [
      "\r",
      " 44%|████████████████████████████████▋                                          | 586/1345 [2:19:33<2:21:31, 11.19s/it]"
     ]
    },
    {
     "name": "stdout",
     "output_type": "stream",
     "text": [
      "Vsync https://www.reddit.com/r/CryptoCurrency/comments/6vzyiy/just_name_some_coins/\n"
     ]
    },
    {
     "name": "stderr",
     "output_type": "stream",
     "text": [
      "\r",
      " 44%|████████████████████████████████▋                                          | 587/1345 [2:19:43<2:17:30, 10.89s/it]"
     ]
    },
    {
     "name": "stdout",
     "output_type": "stream",
     "text": [
      "InPay https://www.reddit.com/r/inpaycoin/\n"
     ]
    },
    {
     "name": "stderr",
     "output_type": "stream",
     "text": [
      "\r",
      " 44%|████████████████████████████████▊                                          | 588/1345 [2:19:57<2:26:59, 11.65s/it]"
     ]
    },
    {
     "name": "stdout",
     "output_type": "stream",
     "text": [
      "NuBits https://www.reddit.com/r/CryptoCurrency/comments/3irphh/nubits_custodian_process/\n"
     ]
    },
    {
     "name": "stderr",
     "output_type": "stream",
     "text": [
      "\r",
      " 44%|████████████████████████████████▊                                          | 589/1345 [2:20:08<2:25:02, 11.51s/it]"
     ]
    },
    {
     "name": "stdout",
     "output_type": "stream",
     "text": [
      "ZoZoCoin https://www.reddit.com/r/CryptoCurrency/\n"
     ]
    },
    {
     "name": "stderr",
     "output_type": "stream",
     "text": [
      "\r",
      " 44%|████████████████████████████████▉                                          | 590/1345 [2:20:20<2:27:44, 11.74s/it]"
     ]
    },
    {
     "name": "stdout",
     "output_type": "stream",
     "text": [
      "Link Platform https://www.reddit.com/r/CryptoMarkets/\n"
     ]
    },
    {
     "name": "stderr",
     "output_type": "stream",
     "text": [
      "\r",
      " 44%|████████████████████████████████▉                                          | 591/1345 [2:20:30<2:22:14, 11.32s/it]"
     ]
    },
    {
     "name": "stdout",
     "output_type": "stream",
     "text": [
      "bitBTC https://www.reddit.com/r/CryptoCurrency/\n"
     ]
    },
    {
     "name": "stderr",
     "output_type": "stream",
     "text": [
      "\r",
      " 44%|█████████████████████████████████                                          | 592/1345 [2:20:42<2:21:28, 11.27s/it]"
     ]
    },
    {
     "name": "stdout",
     "output_type": "stream",
     "text": [
      "Dashcoin https://www.reddit.com/r/dashpay/\n"
     ]
    },
    {
     "name": "stderr",
     "output_type": "stream",
     "text": [
      "\r",
      " 44%|█████████████████████████████████                                          | 593/1345 [2:20:54<2:25:03, 11.57s/it]"
     ]
    },
    {
     "name": "stdout",
     "output_type": "stream",
     "text": [
      "Joulecoin https://www.reddit.com/r/CryptoCurrency/comments/6agbga/joulecoin/\n"
     ]
    },
    {
     "name": "stderr",
     "output_type": "stream",
     "text": [
      "\r",
      " 44%|█████████████████████████████████                                          | 594/1345 [2:21:04<2:19:44, 11.16s/it]"
     ]
    },
    {
     "name": "stdout",
     "output_type": "stream",
     "text": [
      "Capricoin https://www.reddit.com/r/CryptoCurrency/comments/3a619d/capricoin_digital_currency/\n"
     ]
    },
    {
     "name": "stderr",
     "output_type": "stream",
     "text": [
      "\r",
      " 44%|█████████████████████████████████▏                                         | 595/1345 [2:21:13<2:12:28, 10.60s/it]"
     ]
    },
    {
     "name": "stdout",
     "output_type": "stream",
     "text": [
      "EthBet https://www.reddit.com/r/CryptoCurrency/comments/6zuqtg/ethbet_the_first_peertopeer_dicing_platform_on/\n"
     ]
    },
    {
     "name": "stderr",
     "output_type": "stream",
     "text": [
      "\r",
      " 44%|█████████████████████████████████▏                                         | 596/1345 [2:21:23<2:06:57, 10.17s/it]"
     ]
    },
    {
     "name": "stdout",
     "output_type": "stream",
     "text": [
      "Emphy https://www.reddit.com/r/icocrypto/comments/7b28yh/emphy_ico_raised_1496_eth/\n"
     ]
    },
    {
     "name": "stderr",
     "output_type": "stream",
     "text": [
      "\r",
      " 44%|█████████████████████████████████▎                                         | 597/1345 [2:21:35<2:14:09, 10.76s/it]"
     ]
    },
    {
     "name": "stdout",
     "output_type": "stream",
     "text": [
      "SmartCoin https://www.reddit.com/r/SmartCoin/\n"
     ]
    },
    {
     "name": "stderr",
     "output_type": "stream",
     "text": [
      "\r",
      " 44%|█████████████████████████████████▎                                         | 598/1345 [2:21:48<2:23:10, 11.50s/it]"
     ]
    },
    {
     "name": "stdout",
     "output_type": "stream",
     "text": [
      "CryptoInsight https://www.reddit.com/r/CryptoCurrency/comments/7j7nar/double_processed_transaction_any_insight/\n"
     ]
    },
    {
     "name": "stderr",
     "output_type": "stream",
     "text": [
      "\r",
      " 45%|█████████████████████████████████▍                                         | 599/1345 [2:22:00<2:26:57, 11.82s/it]"
     ]
    },
    {
     "name": "stdout",
     "output_type": "stream",
     "text": [
      "Trollcoin https://www.reddit.com/r/CryptoMarkets/comments/64vuk7/whats_up_with_trollcoin_on_bleutrade_troll_has/\n"
     ]
    },
    {
     "name": "stderr",
     "output_type": "stream",
     "text": [
      "\r",
      " 45%|█████████████████████████████████▍                                         | 600/1345 [2:23:11<6:05:21, 29.42s/it]"
     ]
    },
    {
     "name": "stdout",
     "output_type": "stream",
     "text": [
      "Helleniccoin https://www.reddit.com/r/CryptoCurrency/\n"
     ]
    },
    {
     "name": "stderr",
     "output_type": "stream",
     "text": [
      "\r",
      " 45%|█████████████████████████████████▌                                         | 601/1345 [2:23:23<5:01:30, 24.31s/it]"
     ]
    },
    {
     "name": "stdout",
     "output_type": "stream",
     "text": [
      "Phoenixcoin https://www.reddit.com/r/Jobs4Crypto/\n"
     ]
    },
    {
     "name": "stderr",
     "output_type": "stream",
     "text": [
      "\r",
      " 45%|█████████████████████████████████▌                                         | 602/1345 [2:23:35<4:12:28, 20.39s/it]"
     ]
    },
    {
     "name": "stdout",
     "output_type": "stream",
     "text": [
      "PetroDollar https://www.reddit.com/r/CoinTelegraph/comments/7j4hyf/crypto_the_answer_for_russias_petrodollar_woes/\n"
     ]
    },
    {
     "name": "stderr",
     "output_type": "stream",
     "text": [
      "\r",
      " 45%|█████████████████████████████████▌                                         | 603/1345 [2:23:51<3:57:30, 19.21s/it]"
     ]
    },
    {
     "name": "stdout",
     "output_type": "stream",
     "text": [
      "Sovereign Hero https://www.reddit.com/r/CryptoCurrency/comments/6vzyiy/just_name_some_coins/\n"
     ]
    },
    {
     "name": "stderr",
     "output_type": "stream",
     "text": [
      "\r",
      " 45%|█████████████████████████████████▋                                         | 604/1345 [2:24:02<3:25:42, 16.66s/it]"
     ]
    },
    {
     "name": "stdout",
     "output_type": "stream",
     "text": [
      "Unify https://www.reddit.com/r/CryptoCurrency/comments/7c9cuk/otn_to_unify_blockchains_and_provide_wallet_for/\n"
     ]
    },
    {
     "name": "stderr",
     "output_type": "stream",
     "text": [
      "\r",
      " 45%|█████████████████████████████████▋                                         | 605/1345 [2:24:13<3:05:36, 15.05s/it]"
     ]
    },
    {
     "name": "stdout",
     "output_type": "stream",
     "text": [
      "MaxCoin https://www.reddit.com/r/CryptoCurrency/comments/1x838j/epic_maxcoin_fail_lauch/\n"
     ]
    },
    {
     "name": "stderr",
     "output_type": "stream",
     "text": [
      "\r",
      " 45%|█████████████████████████████████▊                                         | 606/1345 [2:24:25<2:52:21, 13.99s/it]"
     ]
    },
    {
     "name": "stdout",
     "output_type": "stream",
     "text": [
      "Minereum https://www.reddit.com/r/CryptoCurrency/comments/6bllbw/minereum_what_do_you_guys_think/\n"
     ]
    },
    {
     "name": "stderr",
     "output_type": "stream",
     "text": [
      "\r",
      " 45%|█████████████████████████████████▊                                         | 607/1345 [2:24:36<2:43:12, 13.27s/it]"
     ]
    },
    {
     "name": "stdout",
     "output_type": "stream",
     "text": [
      "Bitcoin Fast https://www.reddit.com/r/Bitcoin/comments/3oj0ay/best_way_to_get_bitcoin_fast/\n"
     ]
    },
    {
     "name": "stderr",
     "output_type": "stream",
     "text": [
      "\r",
      " 45%|█████████████████████████████████▉                                         | 608/1345 [2:24:47<2:32:53, 12.45s/it]"
     ]
    },
    {
     "name": "stdout",
     "output_type": "stream",
     "text": [
      "AltCommunity Coin https://www.reddit.com/r/CryptoCurrency/\n"
     ]
    },
    {
     "name": "stderr",
     "output_type": "stream",
     "text": [
      "\r",
      " 45%|█████████████████████████████████▉                                         | 609/1345 [2:25:00<2:36:35, 12.77s/it]"
     ]
    },
    {
     "name": "stdout",
     "output_type": "stream",
     "text": [
      "TeslaCoin https://www.reddit.com/r/CryptoCurrency/\n"
     ]
    },
    {
     "name": "stderr",
     "output_type": "stream",
     "text": [
      "\r",
      " 45%|██████████████████████████████████                                         | 610/1345 [2:25:12<2:31:55, 12.40s/it]"
     ]
    },
    {
     "name": "stdout",
     "output_type": "stream",
     "text": [
      "CrowdCoin https://www.reddit.com/r/IAmA/comments/6z4du7/iama_cryptocurrency_enthusiast_and_creator_of/\n"
     ]
    },
    {
     "name": "stderr",
     "output_type": "stream",
     "text": [
      "\r",
      " 45%|██████████████████████████████████                                         | 611/1345 [2:25:23<2:27:38, 12.07s/it]"
     ]
    },
    {
     "name": "stdout",
     "output_type": "stream",
     "text": [
      "Titcoin https://www.reddit.com/r/Bitcoin/\n"
     ]
    },
    {
     "name": "stderr",
     "output_type": "stream",
     "text": [
      "\r",
      " 46%|██████████████████████████████████▏                                        | 612/1345 [2:25:36<2:29:28, 12.23s/it]"
     ]
    },
    {
     "name": "stdout",
     "output_type": "stream",
     "text": [
      "Authorship https://www.reddit.com/r/crypto/\n"
     ]
    },
    {
     "name": "stderr",
     "output_type": "stream",
     "text": [
      "\r",
      " 46%|██████████████████████████████████▏                                        | 613/1345 [2:25:46<2:22:45, 11.70s/it]"
     ]
    },
    {
     "name": "stdout",
     "output_type": "stream",
     "text": [
      "Crystal Clear  https://www.reddit.com/r/icocrypto/comments/6q9irx/crystal_clear_services_brings_a_revolutionary/\n"
     ]
    },
    {
     "name": "stderr",
     "output_type": "stream",
     "text": [
      "\r",
      " 46%|██████████████████████████████████▏                                        | 614/1345 [2:25:59<2:25:25, 11.94s/it]"
     ]
    },
    {
     "name": "stdout",
     "output_type": "stream",
     "text": [
      "Fujinto https://www.reddit.com/r/icocrypto/comments/6suq3r/ann_ico_fujinto_decentralized_cryptocurrency_for/\n"
     ]
    },
    {
     "name": "stderr",
     "output_type": "stream",
     "text": [
      "\r",
      " 46%|██████████████████████████████████▎                                        | 615/1345 [2:26:09<2:17:55, 11.34s/it]"
     ]
    },
    {
     "name": "stdout",
     "output_type": "stream",
     "text": [
      "FlutterCoin https://www.reddit.com/r/fluttercoin/\n"
     ]
    },
    {
     "name": "stderr",
     "output_type": "stream",
     "text": [
      "\r",
      " 46%|██████████████████████████████████▎                                        | 616/1345 [2:26:22<2:24:41, 11.91s/it]"
     ]
    },
    {
     "name": "stdout",
     "output_type": "stream",
     "text": [
      "Bolenum https://www.reddit.com/r/CryptoCurrency/comments/6g2iha/bolenums_project_to_widen_cryptocurrency_adoption/\n"
     ]
    },
    {
     "name": "stderr",
     "output_type": "stream",
     "text": [
      "\r",
      " 46%|██████████████████████████████████▍                                        | 617/1345 [2:26:31<2:15:26, 11.16s/it]"
     ]
    },
    {
     "name": "stdout",
     "output_type": "stream",
     "text": [
      "Mutual Coin https://www.reddit.com/r/CryptoCurrency/\n"
     ]
    },
    {
     "name": "stderr",
     "output_type": "stream",
     "text": [
      "\r",
      " 46%|██████████████████████████████████▍                                        | 618/1345 [2:26:44<2:19:45, 11.53s/it]"
     ]
    },
    {
     "name": "stdout",
     "output_type": "stream",
     "text": [
      "LiteBar https://www.reddit.com/r/CryptoCurrency/comments/20q3bm/litebarltb_a_longterm_store_of_value/\n"
     ]
    },
    {
     "name": "stderr",
     "output_type": "stream",
     "text": [
      "\r",
      " 46%|██████████████████████████████████▌                                        | 619/1345 [2:26:59<2:33:11, 12.66s/it]"
     ]
    },
    {
     "name": "stdout",
     "output_type": "stream",
     "text": [
      "LottoCoin https://www.reddit.com/r/CryptoCurrency/comments/1unzjq/amds_lottocoin_mining_experiment/\n"
     ]
    },
    {
     "name": "stderr",
     "output_type": "stream",
     "text": [
      "\r",
      " 46%|██████████████████████████████████▌                                        | 620/1345 [2:27:09<2:25:34, 12.05s/it]"
     ]
    },
    {
     "name": "stdout",
     "output_type": "stream",
     "text": [
      "BiblePay https://www.reddit.com/r/CryptoCurrency/comments/6vg5fe/thoughts_on_biblepay_bbp_new_charity_coin/\n"
     ]
    },
    {
     "name": "stderr",
     "output_type": "stream",
     "text": [
      "\r",
      " 46%|██████████████████████████████████▋                                        | 621/1345 [2:27:20<2:19:05, 11.53s/it]"
     ]
    },
    {
     "name": "stdout",
     "output_type": "stream",
     "text": [
      "Piggycoin https://www.reddit.com/r/piggycoin/\n"
     ]
    },
    {
     "name": "stderr",
     "output_type": "stream",
     "text": [
      "\r",
      " 46%|██████████████████████████████████▋                                        | 622/1345 [2:27:34<2:28:58, 12.36s/it]"
     ]
    },
    {
     "name": "stdout",
     "output_type": "stream",
     "text": [
      "Octanox https://www.reddit.com/r/CryptoCurrency/comments/6hzixf/octanox_fixing_interoperability_in_the/\n"
     ]
    },
    {
     "name": "stderr",
     "output_type": "stream",
     "text": [
      "\r",
      " 46%|██████████████████████████████████▋                                        | 623/1345 [2:27:45<2:24:42, 12.03s/it]"
     ]
    },
    {
     "name": "stdout",
     "output_type": "stream",
     "text": [
      "TagCoin https://www.reddit.com/r/CryptoCurrency/wiki/directory\n"
     ]
    },
    {
     "name": "stderr",
     "output_type": "stream",
     "text": [
      "\r",
      " 46%|██████████████████████████████████▊                                        | 624/1345 [2:27:56<2:18:06, 11.49s/it]"
     ]
    },
    {
     "name": "stdout",
     "output_type": "stream",
     "text": [
      "UniCoin https://www.reddit.com/r/CryptoCurrency/\n"
     ]
    },
    {
     "name": "stderr",
     "output_type": "stream",
     "text": [
      "\r",
      " 46%|██████████████████████████████████▊                                        | 625/1345 [2:28:08<2:20:38, 11.72s/it]"
     ]
    },
    {
     "name": "stdout",
     "output_type": "stream",
     "text": [
      "EmberCoin https://www.reddit.com/r/CryptoCurrency/comments/6xokgx/what_do_you_knowthink_about_embercoin/\n"
     ]
    },
    {
     "name": "stderr",
     "output_type": "stream",
     "text": [
      "\r",
      " 47%|██████████████████████████████████▉                                        | 626/1345 [2:28:19<2:18:49, 11.58s/it]"
     ]
    },
    {
     "name": "stdout",
     "output_type": "stream",
     "text": [
      "WhaleCoin https://www.reddit.com/r/CryptoCurrency/comments/7dlftl/why_do_whales_limit_coin_prices_with_huge_sell/\n"
     ]
    },
    {
     "name": "stderr",
     "output_type": "stream",
     "text": [
      "\r",
      " 47%|██████████████████████████████████▉                                        | 627/1345 [2:29:31<5:55:51, 29.74s/it]"
     ]
    },
    {
     "name": "stdout",
     "output_type": "stream",
     "text": [
      "The Cypherfunks https://www.reddit.com/r/thecypherfunks/\n"
     ]
    },
    {
     "name": "stderr",
     "output_type": "stream",
     "text": [
      "\r",
      " 47%|███████████████████████████████████                                        | 628/1345 [2:29:41<4:42:45, 23.66s/it]"
     ]
    },
    {
     "name": "stdout",
     "output_type": "stream",
     "text": [
      "Cream https://www.reddit.com/r/CryptoCurrency/\n"
     ]
    },
    {
     "name": "stderr",
     "output_type": "stream",
     "text": [
      "\r",
      " 47%|███████████████████████████████████                                        | 629/1345 [2:29:52<3:59:10, 20.04s/it]"
     ]
    },
    {
     "name": "stdout",
     "output_type": "stream",
     "text": [
      "Jetcoin https://www.reddit.com/r/CryptoCurrency/comments/6gz79r/someone_just_mentioned_jetcoin_to_me_and_i/\n"
     ]
    },
    {
     "name": "stderr",
     "output_type": "stream",
     "text": [
      "\r",
      " 47%|███████████████████████████████████▏                                       | 630/1345 [2:30:07<3:41:16, 18.57s/it]"
     ]
    },
    {
     "name": "stdout",
     "output_type": "stream",
     "text": [
      "Payfair https://www.reddit.com/r/CryptoMarkets/\n"
     ]
    },
    {
     "name": "stderr",
     "output_type": "stream",
     "text": [
      "\r",
      " 47%|███████████████████████████████████▏                                       | 631/1345 [2:30:18<3:11:36, 16.10s/it]"
     ]
    },
    {
     "name": "stdout",
     "output_type": "stream",
     "text": [
      "TrumpCoin https://www.reddit.com/r/trumpcoin/\n"
     ]
    },
    {
     "name": "stderr",
     "output_type": "stream",
     "text": [
      "\r",
      " 47%|███████████████████████████████████▏                                       | 632/1345 [2:30:30<2:58:14, 15.00s/it]"
     ]
    },
    {
     "name": "stdout",
     "output_type": "stream",
     "text": [
      "KushCoin https://www.reddit.com/r/CryptoMarkets/comments/5v71l5/kushcoin_the_1_coin_on_cryptopia_why/\n"
     ]
    },
    {
     "name": "stderr",
     "output_type": "stream",
     "text": [
      "\r",
      " 47%|███████████████████████████████████▎                                       | 633/1345 [2:30:44<2:52:12, 14.51s/it]"
     ]
    },
    {
     "name": "stdout",
     "output_type": "stream",
     "text": [
      "ColossusCoinXT https://www.reddit.com/r/ColossuscoinX/\n"
     ]
    },
    {
     "name": "stderr",
     "output_type": "stream",
     "text": [
      "\r",
      " 47%|███████████████████████████████████▎                                       | 634/1345 [2:30:53<2:33:22, 12.94s/it]"
     ]
    },
    {
     "name": "stdout",
     "output_type": "stream",
     "text": [
      "Digitalcoin https://www.reddit.com/r/digitalcoin/\n"
     ]
    },
    {
     "name": "stderr",
     "output_type": "stream",
     "text": [
      "\r",
      " 47%|███████████████████████████████████▍                                       | 635/1345 [2:31:03<2:23:19, 12.11s/it]"
     ]
    },
    {
     "name": "stdout",
     "output_type": "stream",
     "text": [
      "Pakcoin https://www.reddit.com/r/altcoinnews/comments/3i5kht/ann_pakcoin_pakistans_crypto_currency_official/\n"
     ]
    },
    {
     "name": "stderr",
     "output_type": "stream",
     "text": [
      "\r",
      " 47%|███████████████████████████████████▍                                       | 636/1345 [2:31:17<2:30:42, 12.75s/it]"
     ]
    },
    {
     "name": "stdout",
     "output_type": "stream",
     "text": [
      "8Bit https://www.reddit.com/r/CryptoCurrency/comments/3iirgl/8bit_coin_dev_may_have_quit_but_this_actually_may/\n"
     ]
    },
    {
     "name": "stderr",
     "output_type": "stream",
     "text": [
      "\r",
      " 47%|███████████████████████████████████▌                                       | 637/1345 [2:31:30<2:29:11, 12.64s/it]"
     ]
    },
    {
     "name": "stdout",
     "output_type": "stream",
     "text": [
      "Netko https://www.reddit.com/r/CryptoCurrency/comments/6g3gd6/netko/\n"
     ]
    },
    {
     "name": "stderr",
     "output_type": "stream",
     "text": [
      "\r",
      " 47%|███████████████████████████████████▌                                       | 638/1345 [2:31:39<2:17:30, 11.67s/it]"
     ]
    },
    {
     "name": "stdout",
     "output_type": "stream",
     "text": [
      "Ethereum Gold https://www.reddit.com/r/ethereum/\n"
     ]
    },
    {
     "name": "stderr",
     "output_type": "stream",
     "text": [
      "\r",
      " 48%|███████████████████████████████████▋                                       | 639/1345 [2:31:52<2:20:16, 11.92s/it]"
     ]
    },
    {
     "name": "stdout",
     "output_type": "stream",
     "text": [
      "Bolivarcoin https://www.reddit.com/r/crypto/\n"
     ]
    },
    {
     "name": "stderr",
     "output_type": "stream",
     "text": [
      "\r",
      " 48%|███████████████████████████████████▋                                       | 640/1345 [2:32:01<2:12:21, 11.26s/it]"
     ]
    },
    {
     "name": "stdout",
     "output_type": "stream",
     "text": [
      "DaxxCoin https://www.reddit.com/r/CryptoCurrency/comments/6n091m/anyone_know_anything_about_daxxcoin/\n"
     ]
    },
    {
     "name": "stderr",
     "output_type": "stream",
     "text": [
      "\r",
      " 48%|███████████████████████████████████▋                                       | 641/1345 [2:32:11<2:07:03, 10.83s/it]"
     ]
    },
    {
     "name": "stdout",
     "output_type": "stream",
     "text": [
      "Cannation https://www.reddit.com/r/crypto/\n"
     ]
    },
    {
     "name": "stderr",
     "output_type": "stream",
     "text": [
      "\r",
      " 48%|███████████████████████████████████▊                                       | 642/1345 [2:32:26<2:21:56, 12.11s/it]"
     ]
    },
    {
     "name": "stdout",
     "output_type": "stream",
     "text": [
      "SagaCoin https://www.reddit.com/r/CryptoCurrency/\n"
     ]
    },
    {
     "name": "stderr",
     "output_type": "stream",
     "text": [
      "\r",
      " 48%|███████████████████████████████████▊                                       | 643/1345 [2:32:36<2:12:52, 11.36s/it]"
     ]
    },
    {
     "name": "stdout",
     "output_type": "stream",
     "text": [
      "BitBoost https://www.reddit.com/r/CryptoCurrency/comments/65bx7n/bitboost_to_launch_the_block_a_decentralised_ebay/\n"
     ]
    },
    {
     "name": "stderr",
     "output_type": "stream",
     "text": [
      "\r",
      " 48%|███████████████████████████████████▉                                       | 644/1345 [2:32:51<2:26:57, 12.58s/it]"
     ]
    },
    {
     "name": "stdout",
     "output_type": "stream",
     "text": [
      "SwagBucks https://www.reddit.com/r/SwagBucks/comments/7axyd5/cryptomining_scripts_and_ncrave/\n"
     ]
    },
    {
     "name": "stderr",
     "output_type": "stream",
     "text": [
      "\r",
      " 48%|███████████████████████████████████▉                                       | 645/1345 [2:33:04<2:26:19, 12.54s/it]"
     ]
    },
    {
     "name": "stdout",
     "output_type": "stream",
     "text": [
      "ChessCoin https://www.reddit.com/r/Bitcoin/\n"
     ]
    },
    {
     "name": "stderr",
     "output_type": "stream",
     "text": [
      "\r",
      " 48%|████████████████████████████████████                                       | 646/1345 [2:33:14<2:18:59, 11.93s/it]"
     ]
    },
    {
     "name": "stdout",
     "output_type": "stream",
     "text": [
      "BitTokens https://www.reddit.com/r/CryptoCurrency/\n"
     ]
    },
    {
     "name": "stderr",
     "output_type": "stream",
     "text": [
      "\r",
      " 48%|████████████████████████████████████                                       | 647/1345 [2:33:27<2:21:06, 12.13s/it]"
     ]
    },
    {
     "name": "stdout",
     "output_type": "stream",
     "text": [
      "CannaCoin https://www.reddit.com/r/cannacoin/\n"
     ]
    },
    {
     "name": "stderr",
     "output_type": "stream",
     "text": [
      "\r",
      " 48%|████████████████████████████████████▏                                      | 648/1345 [2:33:37<2:15:16, 11.65s/it]"
     ]
    },
    {
     "name": "stdout",
     "output_type": "stream",
     "text": [
      "Nyancoin https://www.reddit.com/r/CryptoCurrency/comments/48fryt/coinayear_nyancoin/\n"
     ]
    },
    {
     "name": "stderr",
     "output_type": "stream",
     "text": [
      "\r",
      " 48%|████████████████████████████████████▏                                      | 649/1345 [2:33:47<2:06:54, 10.94s/it]"
     ]
    },
    {
     "name": "stdout",
     "output_type": "stream",
     "text": [
      "Bitstar https://www.reddit.com/r/bitstar/comments/2jjyz2/bitstar_on_cryptotradecom/\n"
     ]
    },
    {
     "name": "stderr",
     "output_type": "stream",
     "text": [
      "\r",
      " 48%|████████████████████████████████████▏                                      | 650/1345 [2:33:56<2:00:36, 10.41s/it]"
     ]
    },
    {
     "name": "stdout",
     "output_type": "stream",
     "text": [
      "Zurcoin https://www.reddit.com/r/CryptoCurrency/\n"
     ]
    },
    {
     "name": "stderr",
     "output_type": "stream",
     "text": [
      "\r",
      " 48%|████████████████████████████████████▎                                      | 651/1345 [2:34:07<2:03:46, 10.70s/it]"
     ]
    },
    {
     "name": "stdout",
     "output_type": "stream",
     "text": [
      "BriaCoin https://www.reddit.com/r/CryptoMarkets/comments/6k9nez/where_can_i_buy_briacoin_bria/\n"
     ]
    },
    {
     "name": "stderr",
     "output_type": "stream",
     "text": [
      "\r",
      " 48%|████████████████████████████████████▎                                      | 652/1345 [2:34:22<2:19:22, 12.07s/it]"
     ]
    },
    {
     "name": "stdout",
     "output_type": "stream",
     "text": [
      "Copico https://www.reddit.com/r/crypto/\n"
     ]
    },
    {
     "name": "stderr",
     "output_type": "stream",
     "text": [
      "\r",
      " 49%|████████████████████████████████████▍                                      | 653/1345 [2:34:35<2:19:58, 12.14s/it]"
     ]
    },
    {
     "name": "stdout",
     "output_type": "stream",
     "text": [
      "Atomic Coin https://www.reddit.com/r/CryptoCurrency/comments/71ffyf/vertcoin_litecoin_atomic_swapping/\n"
     ]
    },
    {
     "name": "stderr",
     "output_type": "stream",
     "text": [
      "\r",
      " 49%|████████████████████████████████████▍                                      | 654/1345 [2:34:47<2:21:49, 12.31s/it]"
     ]
    },
    {
     "name": "stdout",
     "output_type": "stream",
     "text": [
      "Newbium https://www.reddit.com/r/icocrypto/comments/70yscb/discover_icos_on_newbium/\n"
     ]
    },
    {
     "name": "stderr",
     "output_type": "stream",
     "text": [
      "\r",
      " 49%|████████████████████████████████████▌                                      | 655/1345 [2:35:00<2:22:02, 12.35s/it]"
     ]
    },
    {
     "name": "stdout",
     "output_type": "stream",
     "text": [
      "Mincoin https://www.reddit.com/r/CryptoCurrency/comments/1y1762/scam_alert_mincoin/\n"
     ]
    },
    {
     "name": "stderr",
     "output_type": "stream",
     "text": [
      "\r",
      " 49%|████████████████████████████████████▌                                      | 656/1345 [2:36:09<5:39:02, 29.53s/it]"
     ]
    },
    {
     "name": "stdout",
     "output_type": "stream",
     "text": [
      "iEthereum https://www.reddit.com/r/ethereum/\n"
     ]
    },
    {
     "name": "stderr",
     "output_type": "stream",
     "text": [
      "\r",
      " 49%|████████████████████████████████████▋                                      | 657/1345 [2:36:21<4:36:31, 24.12s/it]"
     ]
    },
    {
     "name": "stdout",
     "output_type": "stream",
     "text": [
      "Dalecoin https://www.reddit.com/r/CryptoCurrency/comments/79fn9e/pr_dalecoin_team_reward_investors_qualified_for/\n"
     ]
    },
    {
     "name": "stderr",
     "output_type": "stream",
     "text": [
      "\r",
      " 49%|████████████████████████████████████▋                                      | 658/1345 [2:36:31<3:48:52, 19.99s/it]"
     ]
    },
    {
     "name": "stdout",
     "output_type": "stream",
     "text": [
      "LanaCoin https://www.reddit.com/r/CryptoCurrency/\n"
     ]
    },
    {
     "name": "stderr",
     "output_type": "stream",
     "text": [
      "\r",
      " 49%|████████████████████████████████████▋                                      | 659/1345 [2:36:41<3:12:00, 16.79s/it]"
     ]
    },
    {
     "name": "stdout",
     "output_type": "stream",
     "text": [
      "Happycoin https://www.reddit.com/r/Bitcoin/\n"
     ]
    },
    {
     "name": "stderr",
     "output_type": "stream",
     "text": [
      "\r",
      " 49%|████████████████████████████████████▊                                      | 660/1345 [2:36:53<2:55:46, 15.40s/it]"
     ]
    },
    {
     "name": "stdout",
     "output_type": "stream",
     "text": [
      "iCoin https://www.reddit.com/r/icocrypto/\n"
     ]
    },
    {
     "name": "stderr",
     "output_type": "stream",
     "text": [
      "\r",
      " 49%|████████████████████████████████████▊                                      | 661/1345 [2:37:07<2:52:09, 15.10s/it]"
     ]
    },
    {
     "name": "stdout",
     "output_type": "stream",
     "text": [
      "Bit20 https://www.reddit.com/r/CryptoCurrency/comments/6lgx20/what_exactly_is_a_bit20/\n"
     ]
    },
    {
     "name": "stderr",
     "output_type": "stream",
     "text": [
      "\r",
      " 49%|████████████████████████████████████▉                                      | 662/1345 [2:37:19<2:39:28, 14.01s/it]"
     ]
    },
    {
     "name": "stdout",
     "output_type": "stream",
     "text": [
      "BERNcash https://www.reddit.com/r/CryptoCurrency/\n"
     ]
    },
    {
     "name": "stderr",
     "output_type": "stream",
     "text": [
      "\r",
      " 49%|████████████████████████████████████▉                                      | 663/1345 [2:37:30<2:30:37, 13.25s/it]"
     ]
    },
    {
     "name": "stdout",
     "output_type": "stream",
     "text": [
      "FuckToken https://www.reddit.com/r/FuckToken/\n"
     ]
    },
    {
     "name": "stderr",
     "output_type": "stream",
     "text": [
      "\r",
      " 49%|█████████████████████████████████████                                      | 664/1345 [2:37:43<2:27:23, 12.99s/it]"
     ]
    },
    {
     "name": "stdout",
     "output_type": "stream",
     "text": [
      "Elcoin https://www.reddit.com/r/vegascoin_vgc/\n"
     ]
    },
    {
     "name": "stderr",
     "output_type": "stream",
     "text": [
      "\r",
      " 49%|█████████████████████████████████████                                      | 665/1345 [2:37:54<2:21:58, 12.53s/it]"
     ]
    },
    {
     "name": "stdout",
     "output_type": "stream",
     "text": [
      "Litecoin Plus https://www.reddit.com/r/CryptoCurrency/\n"
     ]
    },
    {
     "name": "stderr",
     "output_type": "stream",
     "text": [
      "\r",
      " 50%|█████████████████████████████████████▏                                     | 666/1345 [2:38:07<2:21:57, 12.54s/it]"
     ]
    },
    {
     "name": "stdout",
     "output_type": "stream",
     "text": [
      "TittieCoin https://www.reddit.com/r/deadcryptocoins/comments/21lmos/rip_tittiecoin/\n"
     ]
    },
    {
     "name": "stderr",
     "output_type": "stream",
     "text": [
      "\r",
      " 50%|█████████████████████████████████████▏                                     | 667/1345 [2:38:17<2:14:12, 11.88s/it]"
     ]
    },
    {
     "name": "stdout",
     "output_type": "stream",
     "text": [
      "Wyvern https://www.reddit.com/r/wyvernrpg/\n"
     ]
    },
    {
     "name": "stderr",
     "output_type": "stream",
     "text": [
      "\r",
      " 50%|█████████████████████████████████████▏                                     | 668/1345 [2:38:28<2:12:44, 11.76s/it]"
     ]
    },
    {
     "name": "stdout",
     "output_type": "stream",
     "text": [
      "Ethereum Cash https://www.reddit.com/r/ethereum/\n"
     ]
    },
    {
     "name": "stderr",
     "output_type": "stream",
     "text": [
      "\r",
      " 50%|█████████████████████████████████████▎                                     | 669/1345 [2:38:39<2:08:04, 11.37s/it]"
     ]
    },
    {
     "name": "stdout",
     "output_type": "stream",
     "text": [
      "Kittehcoin https://www.reddit.com/r/kittehcoin/comments/1xfbbz/though_you_all_might_like_this/\n"
     ]
    },
    {
     "name": "stderr",
     "output_type": "stream",
     "text": [
      "\r",
      " 50%|█████████████████████████████████████▎                                     | 670/1345 [2:38:49<2:04:50, 11.10s/it]"
     ]
    },
    {
     "name": "stdout",
     "output_type": "stream",
     "text": [
      "Senderon https://www.reddit.com/r/CryptoMarkets/comments/6vl2s2/airdrop_announcement_senderon_ethereum_token/\n"
     ]
    },
    {
     "name": "stderr",
     "output_type": "stream",
     "text": [
      "\r",
      " 50%|█████████████████████████████████████▍                                     | 671/1345 [2:39:02<2:09:29, 11.53s/it]"
     ]
    },
    {
     "name": "stdout",
     "output_type": "stream",
     "text": [
      "CorgiCoin https://www.reddit.com/r/CryptoMarkets/\n"
     ]
    },
    {
     "name": "stderr",
     "output_type": "stream",
     "text": [
      "\r",
      " 50%|█████████████████████████████████████▍                                     | 672/1345 [2:39:15<2:13:25, 11.90s/it]"
     ]
    },
    {
     "name": "stdout",
     "output_type": "stream",
     "text": [
      "Rupaya https://www.reddit.com/r/pakistan/comments/20wqen/rupayacoin_first_cryptocurrency_of_pakistan/\n"
     ]
    },
    {
     "name": "stderr",
     "output_type": "stream",
     "text": [
      "\r",
      " 50%|█████████████████████████████████████▌                                     | 673/1345 [2:39:28<2:17:24, 12.27s/it]"
     ]
    },
    {
     "name": "stdout",
     "output_type": "stream",
     "text": [
      "HOdlcoin https://www.reddit.com/r/CryptoCurrency/comments/4b7h2j/hodlcoin_subreddit/\n"
     ]
    },
    {
     "name": "stderr",
     "output_type": "stream",
     "text": [
      "\r",
      " 50%|█████████████████████████████████████▌                                     | 674/1345 [2:39:41<2:20:16, 12.54s/it]"
     ]
    },
    {
     "name": "stdout",
     "output_type": "stream",
     "text": [
      "Confido https://www.reddit.com/r/CryptoCurrency/comments/79gkl4/confido_awesome_chainlink_use_case/\n"
     ]
    },
    {
     "name": "stderr",
     "output_type": "stream",
     "text": [
      "\r",
      " 50%|█████████████████████████████████████▋                                     | 675/1345 [2:39:52<2:15:43, 12.15s/it]"
     ]
    },
    {
     "name": "stdout",
     "output_type": "stream",
     "text": [
      "808Coin https://www.reddit.com/r/CryptoCurrency/\n"
     ]
    },
    {
     "name": "stderr",
     "output_type": "stream",
     "text": [
      "\r",
      " 50%|█████████████████████████████████████▋                                     | 676/1345 [2:40:05<2:17:14, 12.31s/it]"
     ]
    },
    {
     "name": "stdout",
     "output_type": "stream",
     "text": [
      "PlatinumBAR https://www.reddit.com/r/CryptoCurrency/\n"
     ]
    },
    {
     "name": "stderr",
     "output_type": "stream",
     "text": [
      "\r",
      " 50%|█████████████████████████████████████▊                                     | 677/1345 [2:40:18<2:19:17, 12.51s/it]"
     ]
    },
    {
     "name": "stdout",
     "output_type": "stream",
     "text": [
      "Triangles https://www.reddit.com/r/CryptoCurrency/\n"
     ]
    },
    {
     "name": "stderr",
     "output_type": "stream",
     "text": [
      "\r",
      " 50%|█████████████████████████████████████▊                                     | 678/1345 [2:40:29<2:13:47, 12.04s/it]"
     ]
    },
    {
     "name": "stdout",
     "output_type": "stream",
     "text": [
      "Bitgem https://www.reddit.com/r/CryptoCurrency/\n"
     ]
    },
    {
     "name": "stderr",
     "output_type": "stream",
     "text": [
      "\r",
      " 50%|█████████████████████████████████████▊                                     | 679/1345 [2:40:39<2:06:49, 11.43s/it]"
     ]
    },
    {
     "name": "stdout",
     "output_type": "stream",
     "text": [
      "GoldReserve https://www.reddit.com/r/crypto/\n"
     ]
    },
    {
     "name": "stderr",
     "output_type": "stream",
     "text": [
      "\r",
      " 51%|█████████████████████████████████████▉                                     | 680/1345 [2:40:50<2:06:09, 11.38s/it]"
     ]
    },
    {
     "name": "stdout",
     "output_type": "stream",
     "text": [
      "PureVidz https://www.reddit.com/r/pureVidz/\n"
     ]
    },
    {
     "name": "stderr",
     "output_type": "stream",
     "text": [
      "\r",
      " 51%|█████████████████████████████████████▉                                     | 681/1345 [2:41:01<2:04:30, 11.25s/it]"
     ]
    },
    {
     "name": "stdout",
     "output_type": "stream",
     "text": [
      "Swing https://www.reddit.com/r/CryptoCurrency/comments/28065b/how_to_swing_trade_bitcoin_for_profit/\n"
     ]
    },
    {
     "name": "stderr",
     "output_type": "stream",
     "text": [
      "\r",
      " 51%|██████████████████████████████████████                                     | 682/1345 [2:41:14<2:10:03, 11.77s/it]"
     ]
    },
    {
     "name": "stdout",
     "output_type": "stream",
     "text": [
      "Argentum https://www.reddit.com/r/crypto/\n"
     ]
    },
    {
     "name": "stderr",
     "output_type": "stream",
     "text": [
      "\r",
      " 51%|██████████████████████████████████████                                     | 683/1345 [2:41:26<2:12:12, 11.98s/it]"
     ]
    },
    {
     "name": "stdout",
     "output_type": "stream",
     "text": [
      "BunnyCoin https://www.reddit.com/r/CryptoCurrency/comments/2gmlvh/5_million_bunnycoins_giveaway_125000_coins_per/\n"
     ]
    },
    {
     "name": "stderr",
     "output_type": "stream",
     "text": [
      "\r",
      " 51%|██████████████████████████████████████▏                                    | 684/1345 [2:42:41<5:39:20, 30.80s/it]"
     ]
    },
    {
     "name": "stdout",
     "output_type": "stream",
     "text": [
      "Blakecoin https://www.reddit.com/r/CryptoCurrency/comments/1xue3t/blakecoin_blake256_optimized_faster_than_scrypt/\n"
     ]
    },
    {
     "name": "stderr",
     "output_type": "stream",
     "text": [
      "\r",
      " 51%|██████████████████████████████████████▏                                    | 685/1345 [2:42:53<4:35:07, 25.01s/it]"
     ]
    },
    {
     "name": "stdout",
     "output_type": "stream",
     "text": [
      "Prototanium https://www.reddit.com/r/CryptoCurrency/comments/6hagua/prototanium/\n"
     ]
    },
    {
     "name": "stderr",
     "output_type": "stream",
     "text": [
      "\r",
      " 51%|██████████████████████████████████████▎                                    | 686/1345 [2:43:03<3:46:41, 20.64s/it]"
     ]
    },
    {
     "name": "stdout",
     "output_type": "stream",
     "text": [
      "iDice https://www.reddit.com/r/ethtrader/comments/6g1jcd/warning_idice_ico_might_be_a_scam/\n"
     ]
    },
    {
     "name": "stderr",
     "output_type": "stream",
     "text": [
      "\r",
      " 51%|██████████████████████████████████████▎                                    | 687/1345 [2:43:16<3:21:40, 18.39s/it]"
     ]
    },
    {
     "name": "stdout",
     "output_type": "stream",
     "text": [
      "Ethereum Dark https://www.reddit.com/r/CryptoCurrency/comments/7933eu/ethereumdark/\n"
     ]
    },
    {
     "name": "stderr",
     "output_type": "stream",
     "text": [
      "\r",
      " 51%|██████████████████████████████████████▎                                    | 688/1345 [2:43:28<2:58:51, 16.33s/it]"
     ]
    },
    {
     "name": "stdout",
     "output_type": "stream",
     "text": [
      "PostCoin https://www.reddit.com/r/CryptoCurrency/\n"
     ]
    },
    {
     "name": "stderr",
     "output_type": "stream",
     "text": [
      "\r",
      " 51%|██████████████████████████████████████▍                                    | 689/1345 [2:43:40<2:45:53, 15.17s/it]"
     ]
    },
    {
     "name": "stdout",
     "output_type": "stream",
     "text": [
      "Coin2.1 https://www.reddit.com/r/Cryptocoin/\n"
     ]
    },
    {
     "name": "stderr",
     "output_type": "stream",
     "text": [
      "\r",
      " 51%|██████████████████████████████████████▍                                    | 690/1345 [2:43:53<2:36:27, 14.33s/it]"
     ]
    },
    {
     "name": "stdout",
     "output_type": "stream",
     "text": [
      "Billionaire Token https://www.reddit.com/r/BillionaireTkn/\n"
     ]
    },
    {
     "name": "stderr",
     "output_type": "stream",
     "text": [
      "\r",
      " 51%|██████████████████████████████████████▌                                    | 691/1345 [2:44:04<2:26:52, 13.48s/it]"
     ]
    },
    {
     "name": "stdout",
     "output_type": "stream",
     "text": [
      "Catcoin https://www.reddit.com/r/Bitcoin/\n"
     ]
    },
    {
     "name": "stderr",
     "output_type": "stream",
     "text": [
      "\r",
      " 51%|██████████████████████████████████████▌                                    | 692/1345 [2:44:16<2:20:09, 12.88s/it]"
     ]
    },
    {
     "name": "stdout",
     "output_type": "stream",
     "text": [
      "BlakeStar https://www.reddit.com/r/CryptoCurrency/\n"
     ]
    },
    {
     "name": "stderr",
     "output_type": "stream",
     "text": [
      "\r",
      " 52%|██████████████████████████████████████▋                                    | 693/1345 [2:44:29<2:21:41, 13.04s/it]"
     ]
    },
    {
     "name": "stdout",
     "output_type": "stream",
     "text": [
      "GPU Coin https://www.reddit.com/r/CryptoCurrency/\n"
     ]
    },
    {
     "name": "stderr",
     "output_type": "stream",
     "text": [
      "\r",
      " 52%|██████████████████████████████████████▋                                    | 694/1345 [2:44:40<2:16:07, 12.55s/it]"
     ]
    },
    {
     "name": "stdout",
     "output_type": "stream",
     "text": [
      "LeviarCoin https://www.reddit.com/r/CryptoCurrency/comments/6f75e4/leviarcoin_announces_crowdsale_for_its/\n"
     ]
    },
    {
     "name": "stderr",
     "output_type": "stream",
     "text": [
      "\r",
      " 52%|██████████████████████████████████████▊                                    | 695/1345 [2:44:51<2:11:17, 12.12s/it]"
     ]
    },
    {
     "name": "stdout",
     "output_type": "stream",
     "text": [
      "ParallelCoin https://www.reddit.com/r/crypto/\n"
     ]
    },
    {
     "name": "stderr",
     "output_type": "stream",
     "text": [
      "\r",
      " 52%|██████████████████████████████████████▊                                    | 696/1345 [2:45:02<2:05:56, 11.64s/it]"
     ]
    },
    {
     "name": "stdout",
     "output_type": "stream",
     "text": [
      "Quatloo https://www.reddit.com/r/CryptoCurrency/comments/5rki0n/isnt_quatloos_a_dead_crypto_why_did_a_bunch_of/\n"
     ]
    },
    {
     "name": "stderr",
     "output_type": "stream",
     "text": [
      "\r",
      " 52%|██████████████████████████████████████▊                                    | 697/1345 [2:45:11<1:57:59, 10.93s/it]"
     ]
    },
    {
     "name": "stdout",
     "output_type": "stream",
     "text": [
      "ZCash Gold https://www.reddit.com/r/zec/\n"
     ]
    },
    {
     "name": "stderr",
     "output_type": "stream",
     "text": [
      "\r",
      " 52%|██████████████████████████████████████▉                                    | 698/1345 [2:45:24<2:02:29, 11.36s/it]"
     ]
    },
    {
     "name": "stdout",
     "output_type": "stream",
     "text": [
      "ETHGAS https://www.reddit.com/r/CryptoCurrency/comments/7j235d/ethos_retains_top_international_powerhouse_law/\n"
     ]
    },
    {
     "name": "stderr",
     "output_type": "stream",
     "text": [
      "\r",
      " 52%|██████████████████████████████████████▉                                    | 699/1345 [2:45:35<2:02:49, 11.41s/it]"
     ]
    },
    {
     "name": "stdout",
     "output_type": "stream",
     "text": [
      "Photon https://www.reddit.com/r/CryptoCurrency/\n"
     ]
    },
    {
     "name": "stderr",
     "output_type": "stream",
     "text": [
      "\r",
      " 52%|███████████████████████████████████████                                    | 700/1345 [2:45:48<2:05:41, 11.69s/it]"
     ]
    },
    {
     "name": "stdout",
     "output_type": "stream",
     "text": [
      "KiloCoin https://www.reddit.com/r/CryptoCurrency/\n"
     ]
    },
    {
     "name": "stderr",
     "output_type": "stream",
     "text": [
      "\r",
      " 52%|███████████████████████████████████████                                    | 701/1345 [2:45:59<2:04:46, 11.62s/it]"
     ]
    },
    {
     "name": "stdout",
     "output_type": "stream",
     "text": [
      "Yacoin https://www.reddit.com/r/CryptoCurrency/comments/23f2ba/please_help_me_test_the_new_yacoin_tipbot/\n"
     ]
    },
    {
     "name": "stderr",
     "output_type": "stream",
     "text": [
      "\r",
      " 52%|███████████████████████████████████████▏                                   | 702/1345 [2:46:11<2:06:44, 11.83s/it]"
     ]
    },
    {
     "name": "stdout",
     "output_type": "stream",
     "text": [
      "CampusCoin https://www.reddit.com/r/CryptoMarkets/comments/6nawjr/campuscoin_the_new_college_cryptocurrency_check/\n"
     ]
    },
    {
     "name": "stderr",
     "output_type": "stream",
     "text": [
      "\r",
      " 52%|███████████████████████████████████████▏                                   | 703/1345 [2:46:28<2:21:53, 13.26s/it]"
     ]
    },
    {
     "name": "stdout",
     "output_type": "stream",
     "text": [
      "Virtacoinplus https://www.reddit.com/r/XVP/comments/6i4on9/virtacoinplus_xvp_modern_cryptocurrency/\n"
     ]
    },
    {
     "name": "stderr",
     "output_type": "stream",
     "text": [
      "\r",
      " 52%|███████████████████████████████████████▎                                   | 704/1345 [2:46:39<2:15:53, 12.72s/it]"
     ]
    },
    {
     "name": "stdout",
     "output_type": "stream",
     "text": [
      "Creatio https://www.reddit.com/r/CryptoCurrency/\n"
     ]
    },
    {
     "name": "stderr",
     "output_type": "stream",
     "text": [
      "\r",
      " 52%|███████████████████████████████████████▎                                   | 705/1345 [2:46:52<2:14:59, 12.66s/it]"
     ]
    },
    {
     "name": "stdout",
     "output_type": "stream",
     "text": [
      "Pascal Lite https://www.reddit.com/r/CryptoCurrency/\n"
     ]
    },
    {
     "name": "stderr",
     "output_type": "stream",
     "text": [
      "\r",
      " 52%|███████████████████████████████████████▎                                   | 706/1345 [2:47:03<2:10:21, 12.24s/it]"
     ]
    },
    {
     "name": "stdout",
     "output_type": "stream",
     "text": [
      "Eternity https://www.reddit.com/r/CryptoCurrency/comments/63lb5p/thoughts_on_aeternity/\n"
     ]
    },
    {
     "name": "stderr",
     "output_type": "stream",
     "text": [
      "\r",
      " 53%|███████████████████████████████████████▍                                   | 707/1345 [2:47:15<2:07:39, 12.00s/it]"
     ]
    },
    {
     "name": "stdout",
     "output_type": "stream",
     "text": [
      "LeaCoin https://www.reddit.com/r/CryptoCurrency/comments/4hy0rf/introducing_dubaicoin_dbic_cryptocurrency_the/\n"
     ]
    },
    {
     "name": "stderr",
     "output_type": "stream",
     "text": [
      "\r",
      " 53%|███████████████████████████████████████▍                                   | 708/1345 [2:47:28<2:12:06, 12.44s/it]"
     ]
    },
    {
     "name": "stdout",
     "output_type": "stream",
     "text": [
      "bitSilver https://www.reddit.com/r/CryptoCurrencies/comments/6j4coq/bitsilver_ico_cryptocurrency/\n"
     ]
    },
    {
     "name": "stderr",
     "output_type": "stream",
     "text": [
      "\r",
      " 53%|███████████████████████████████████████▌                                   | 709/1345 [2:47:38<2:05:33, 11.85s/it]"
     ]
    },
    {
     "name": "stdout",
     "output_type": "stream",
     "text": [
      "CompuCoin https://www.reddit.com/r/crypto/\n"
     ]
    },
    {
     "name": "stderr",
     "output_type": "stream",
     "text": [
      "\r",
      " 53%|███████████████████████████████████████▌                                   | 710/1345 [2:47:50<2:04:12, 11.74s/it]"
     ]
    },
    {
     "name": "stdout",
     "output_type": "stream",
     "text": [
      "Cryptojacks https://www.reddit.com/r/CryptoMarkets/\n"
     ]
    },
    {
     "name": "stderr",
     "output_type": "stream",
     "text": [
      "\r",
      " 53%|███████████████████████████████████████▋                                   | 711/1345 [2:48:04<2:12:19, 12.52s/it]"
     ]
    },
    {
     "name": "stdout",
     "output_type": "stream",
     "text": [
      "Monkey Project https://www.reddit.com/r/Bitcoin/comments/75m7ho/hodlmonkeycom_a_new_crypto_clothing_project/\n"
     ]
    },
    {
     "name": "stderr",
     "output_type": "stream",
     "text": [
      "\r",
      " 53%|███████████████████████████████████████▋                                   | 712/1345 [2:48:18<2:15:15, 12.82s/it]"
     ]
    },
    {
     "name": "stdout",
     "output_type": "stream",
     "text": [
      "Litecred https://www.reddit.com/r/CryptoCurrency/\n"
     ]
    },
    {
     "name": "stderr",
     "output_type": "stream",
     "text": [
      "\r",
      " 53%|███████████████████████████████████████▊                                   | 713/1345 [2:49:31<5:26:46, 31.02s/it]"
     ]
    },
    {
     "name": "stdout",
     "output_type": "stream",
     "text": [
      "SoonCoin https://www.reddit.com/r/CryptoCurrency/\n"
     ]
    },
    {
     "name": "stderr",
     "output_type": "stream",
     "text": [
      "\r",
      " 53%|███████████████████████████████████████▊                                   | 714/1345 [2:49:43<4:23:43, 25.08s/it]"
     ]
    },
    {
     "name": "stdout",
     "output_type": "stream",
     "text": [
      "SecureCoin https://www.reddit.com/r/securecoin/\n"
     ]
    },
    {
     "name": "stderr",
     "output_type": "stream",
     "text": [
      "\r",
      " 53%|███████████████████████████████████████▊                                   | 715/1345 [2:49:53<3:36:11, 20.59s/it]"
     ]
    },
    {
     "name": "stdout",
     "output_type": "stream",
     "text": [
      "Global Tour Coin https://www.reddit.com/r/CryptoCurrency/\n"
     ]
    },
    {
     "name": "stderr",
     "output_type": "stream",
     "text": [
      "\r",
      " 53%|███████████████████████████████████████▉                                   | 716/1345 [2:50:07<3:16:40, 18.76s/it]"
     ]
    },
    {
     "name": "stdout",
     "output_type": "stream",
     "text": [
      "C-Bit https://www.reddit.com/r/CryptoCurrency/comments/4aot2v/cbit_offers_bitcoin_classic_a_blocksize_solution/\n"
     ]
    },
    {
     "name": "stderr",
     "output_type": "stream",
     "text": [
      "\r",
      " 53%|███████████████████████████████████████▉                                   | 717/1345 [2:50:17<2:47:02, 15.96s/it]"
     ]
    },
    {
     "name": "stdout",
     "output_type": "stream",
     "text": [
      "Mineum https://www.reddit.com/r/CryptoCurrency/comments/6bllbw/minereum_what_do_you_guys_think/\n"
     ]
    },
    {
     "name": "stderr",
     "output_type": "stream",
     "text": [
      "\r",
      " 53%|████████████████████████████████████████                                   | 718/1345 [2:50:29<2:36:20, 14.96s/it]"
     ]
    },
    {
     "name": "stdout",
     "output_type": "stream",
     "text": [
      "CacheCoin https://www.reddit.com/r/CryptoCurrency/comments/6ie3mi/the_cachecoin_project/\n"
     ]
    },
    {
     "name": "stderr",
     "output_type": "stream",
     "text": [
      "\r",
      " 53%|████████████████████████████████████████                                   | 719/1345 [2:50:44<2:34:13, 14.78s/it]"
     ]
    },
    {
     "name": "stdout",
     "output_type": "stream",
     "text": [
      "BitCoal https://www.reddit.com/r/crypto/\n"
     ]
    },
    {
     "name": "stderr",
     "output_type": "stream",
     "text": [
      "\r",
      " 54%|████████████████████████████████████████▏                                  | 720/1345 [2:50:56<2:26:30, 14.06s/it]"
     ]
    },
    {
     "name": "stdout",
     "output_type": "stream",
     "text": [
      "TajCoin https://www.reddit.com/r/CryptoCurrency/\n"
     ]
    },
    {
     "name": "stderr",
     "output_type": "stream",
     "text": [
      "\r",
      " 54%|████████████████████████████████████████▏                                  | 721/1345 [2:51:10<2:25:41, 14.01s/it]"
     ]
    },
    {
     "name": "stdout",
     "output_type": "stream",
     "text": [
      "EcoCoin https://www.reddit.com/r/CryptoCurrency/comments/5q2jer/the_eco_coin_rewards_environmentally_positive/\n"
     ]
    },
    {
     "name": "stderr",
     "output_type": "stream",
     "text": [
      "\r",
      " 54%|████████████████████████████████████████▎                                  | 722/1345 [2:51:19<2:10:48, 12.60s/it]"
     ]
    },
    {
     "name": "stdout",
     "output_type": "stream",
     "text": [
      "PayCoin https://www.reddit.com/r/CryptoCurrency/comments/2q8eyd/the_truth_about_paycoin/\n"
     ]
    },
    {
     "name": "stderr",
     "output_type": "stream",
     "text": [
      "\r",
      " 54%|████████████████████████████████████████▎                                  | 723/1345 [2:51:28<2:00:20, 11.61s/it]"
     ]
    },
    {
     "name": "stdout",
     "output_type": "stream",
     "text": [
      "TEKcoin https://www.reddit.com/r/CryptoCurrency/comments/25ss59/tekcoin_500_yearly_roi/\n"
     ]
    },
    {
     "name": "stderr",
     "output_type": "stream",
     "text": [
      "\r",
      " 54%|████████████████████████████████████████▎                                  | 724/1345 [2:51:42<2:05:58, 12.17s/it]"
     ]
    },
    {
     "name": "stdout",
     "output_type": "stream",
     "text": [
      "eBitcoinCash https://www.reddit.com/r/Bitcoin/\n"
     ]
    },
    {
     "name": "stderr",
     "output_type": "stream",
     "text": [
      "\r",
      " 54%|████████████████████████████████████████▍                                  | 725/1345 [2:51:52<2:00:24, 11.65s/it]"
     ]
    },
    {
     "name": "stdout",
     "output_type": "stream",
     "text": [
      "Tychocoin https://www.reddit.com/r/crypto/\n"
     ]
    },
    {
     "name": "stderr",
     "output_type": "stream",
     "text": [
      "\r",
      " 54%|████████████████████████████████████████▍                                  | 726/1345 [2:52:03<1:56:22, 11.28s/it]"
     ]
    },
    {
     "name": "stdout",
     "output_type": "stream",
     "text": [
      "Scorecoin https://www.reddit.com/r/CryptoCurrency/comments/6xg9eu/thoughts_on_score_coin/\n"
     ]
    },
    {
     "name": "stderr",
     "output_type": "stream",
     "text": [
      "\r",
      " 54%|████████████████████████████████████████▌                                  | 727/1345 [2:52:17<2:04:56, 12.13s/it]"
     ]
    },
    {
     "name": "stdout",
     "output_type": "stream",
     "text": [
      "Emerald Crypto https://www.reddit.com/r/crypto/\n"
     ]
    },
    {
     "name": "stderr",
     "output_type": "stream",
     "text": [
      "\r",
      " 54%|████████████████████████████████████████▌                                  | 728/1345 [2:52:29<2:03:51, 12.04s/it]"
     ]
    },
    {
     "name": "stdout",
     "output_type": "stream",
     "text": [
      "EOT Token https://www.reddit.com/r/CryptoCurrency/comments/6mc2dc/eot_mining/\n"
     ]
    },
    {
     "name": "stderr",
     "output_type": "stream",
     "text": [
      "\r",
      " 54%|████████████████████████████████████████▋                                  | 729/1345 [2:52:40<2:02:23, 11.92s/it]"
     ]
    },
    {
     "name": "stdout",
     "output_type": "stream",
     "text": [
      "EagleCoin https://www.reddit.com/r/CryptoCurrency/\n"
     ]
    },
    {
     "name": "stderr",
     "output_type": "stream",
     "text": [
      "\r",
      " 54%|████████████████████████████████████████▋                                  | 730/1345 [2:52:53<2:03:52, 12.09s/it]"
     ]
    },
    {
     "name": "stdout",
     "output_type": "stream",
     "text": [
      "GoldPieces https://www.reddit.com/r/gpumining/\n"
     ]
    },
    {
     "name": "stderr",
     "output_type": "stream",
     "text": [
      "\r",
      " 54%|████████████████████████████████████████▊                                  | 731/1345 [2:53:02<1:56:11, 11.35s/it]"
     ]
    },
    {
     "name": "stdout",
     "output_type": "stream",
     "text": [
      "AnarchistsPrime https://www.reddit.com/r/CryptoCurrency/\n"
     ]
    },
    {
     "name": "stderr",
     "output_type": "stream",
     "text": [
      "\r",
      " 54%|████████████████████████████████████████▊                                  | 732/1345 [2:53:14<1:56:54, 11.44s/it]"
     ]
    },
    {
     "name": "stdout",
     "output_type": "stream",
     "text": [
      "Comet https://www.reddit.com/r/Comet/\n"
     ]
    },
    {
     "name": "stderr",
     "output_type": "stream",
     "text": [
      "\r",
      " 54%|████████████████████████████████████████▊                                  | 733/1345 [2:53:25<1:53:59, 11.18s/it]"
     ]
    },
    {
     "name": "stdout",
     "output_type": "stream",
     "text": [
      "FUNCoin https://www.reddit.com/r/FunfairTech/\n"
     ]
    },
    {
     "name": "stderr",
     "output_type": "stream",
     "text": [
      "\r",
      " 55%|████████████████████████████████████████▉                                  | 734/1345 [2:53:36<1:54:30, 11.24s/it]"
     ]
    },
    {
     "name": "stdout",
     "output_type": "stream",
     "text": [
      "Honey https://www.reddit.com/r/honey/\n"
     ]
    },
    {
     "name": "stderr",
     "output_type": "stream",
     "text": [
      "\r",
      " 55%|████████████████████████████████████████▉                                  | 735/1345 [2:53:50<2:02:02, 12.00s/it]"
     ]
    },
    {
     "name": "stdout",
     "output_type": "stream",
     "text": [
      "Debitcoin https://www.reddit.com/r/debitcoin/comments/60ech0/debitcoin_dbtc_cryptocurrency/\n"
     ]
    },
    {
     "name": "stderr",
     "output_type": "stream",
     "text": [
      "\r",
      " 55%|█████████████████████████████████████████                                  | 736/1345 [2:53:59<1:54:01, 11.23s/it]"
     ]
    },
    {
     "name": "stdout",
     "output_type": "stream",
     "text": [
      "BipCoin https://www.reddit.com/r/Bitcoin/\n"
     ]
    },
    {
     "name": "stderr",
     "output_type": "stream",
     "text": [
      "\r",
      " 55%|█████████████████████████████████████████                                  | 737/1345 [2:54:12<1:58:04, 11.65s/it]"
     ]
    },
    {
     "name": "stdout",
     "output_type": "stream",
     "text": [
      "bitGold https://www.reddit.com/r/Bitcoin/comments/2u54cc/is_bitgold_inc_a_scam/\n"
     ]
    },
    {
     "name": "stderr",
     "output_type": "stream",
     "text": [
      "\r",
      " 55%|█████████████████████████████████████████▏                                 | 738/1345 [2:54:22<1:54:32, 11.32s/it]"
     ]
    },
    {
     "name": "stdout",
     "output_type": "stream",
     "text": [
      "NevaCoin https://www.reddit.com/r/CryptoCurrency/comments/5xged3/interview_with_nevacoin_the_latest_addition_is/\n"
     ]
    },
    {
     "name": "stderr",
     "output_type": "stream",
     "text": [
      "\r",
      " 55%|█████████████████████████████████████████▏                                 | 739/1345 [2:54:34<1:55:01, 11.39s/it]"
     ]
    },
    {
     "name": "stdout",
     "output_type": "stream",
     "text": [
      "PopularCoin https://www.reddit.com/r/CryptoCurrency/\n"
     ]
    },
    {
     "name": "stderr",
     "output_type": "stream",
     "text": [
      "\r",
      " 55%|█████████████████████████████████████████▎                                 | 740/1345 [2:54:45<1:52:05, 11.12s/it]"
     ]
    },
    {
     "name": "stdout",
     "output_type": "stream",
     "text": [
      "Virta Unique Coin https://www.reddit.com/r/altcoin/comments/6hemq4/virta_unique_coin_launch/\n"
     ]
    },
    {
     "name": "stderr",
     "output_type": "stream",
     "text": [
      "\r",
      " 55%|█████████████████████████████████████████▎                                 | 741/1345 [2:54:54<1:47:47, 10.71s/it]"
     ]
    },
    {
     "name": "stdout",
     "output_type": "stream",
     "text": [
      "Chronos https://www.reddit.com/r/crypto/comments/4tzv97/chronos/\n"
     ]
    },
    {
     "name": "stderr",
     "output_type": "stream",
     "text": [
      "\r",
      " 55%|█████████████████████████████████████████▍                                 | 742/1345 [2:56:09<4:59:23, 29.79s/it]"
     ]
    },
    {
     "name": "stdout",
     "output_type": "stream",
     "text": [
      "BlazeCoin https://www.reddit.com/r/blazecoin/\n"
     ]
    },
    {
     "name": "stderr",
     "output_type": "stream",
     "text": [
      "\r",
      " 55%|█████████████████████████████████████████▍                                 | 743/1345 [2:56:20<4:02:49, 24.20s/it]"
     ]
    },
    {
     "name": "stdout",
     "output_type": "stream",
     "text": [
      "Beatcoin https://www.reddit.com/r/Bitcoin/\n"
     ]
    },
    {
     "name": "stderr",
     "output_type": "stream",
     "text": [
      "\r",
      " 55%|█████████████████████████████████████████▍                                 | 744/1345 [2:56:30<3:21:09, 20.08s/it]"
     ]
    },
    {
     "name": "stdout",
     "output_type": "stream",
     "text": [
      "Sugar Exchange https://www.reddit.com/r/CryptoCurrency/\n"
     ]
    },
    {
     "name": "stderr",
     "output_type": "stream",
     "text": [
      "\r",
      " 55%|█████████████████████████████████████████▌                                 | 745/1345 [2:56:46<3:06:30, 18.65s/it]"
     ]
    },
    {
     "name": "stdout",
     "output_type": "stream",
     "text": [
      "bitEUR https://www.reddit.com/r/CryptoCurrency/\n"
     ]
    },
    {
     "name": "stderr",
     "output_type": "stream",
     "text": [
      "\r",
      " 55%|█████████████████████████████████████████▌                                 | 746/1345 [2:56:58<2:47:06, 16.74s/it]"
     ]
    },
    {
     "name": "stdout",
     "output_type": "stream",
     "text": [
      "Marijuanacoin https://www.reddit.com/r/CryptoMarkets/comments/78lzk8/potcoin_soldifies_itself_as_marijuanas_top/\n"
     ]
    },
    {
     "name": "stderr",
     "output_type": "stream",
     "text": [
      "\r",
      " 56%|█████████████████████████████████████████▋                                 | 747/1345 [2:57:08<2:28:06, 14.86s/it]"
     ]
    },
    {
     "name": "stdout",
     "output_type": "stream",
     "text": [
      "CoinonatX https://www.reddit.com/r/CryptoCurrency/\n"
     ]
    },
    {
     "name": "stderr",
     "output_type": "stream",
     "text": [
      "\r",
      " 56%|█████████████████████████████████████████▋                                 | 748/1345 [2:57:20<2:17:46, 13.85s/it]"
     ]
    },
    {
     "name": "stdout",
     "output_type": "stream",
     "text": [
      "Credence Coin https://www.reddit.com/r/CryptoCurrency/comments/7bu7dp/credence_coin/\n"
     ]
    },
    {
     "name": "stderr",
     "output_type": "stream",
     "text": [
      "\r",
      " 56%|█████████████████████████████████████████▊                                 | 749/1345 [2:57:30<2:07:04, 12.79s/it]"
     ]
    },
    {
     "name": "stdout",
     "output_type": "stream",
     "text": [
      "Neuro https://www.reddit.com/r/neuro/\n"
     ]
    },
    {
     "name": "stderr",
     "output_type": "stream",
     "text": [
      "\r",
      " 56%|█████████████████████████████████████████▊                                 | 750/1345 [2:57:46<2:14:42, 13.58s/it]"
     ]
    },
    {
     "name": "stdout",
     "output_type": "stream",
     "text": [
      "GlobalToken https://www.reddit.com/r/CryptoCurrency/comments/6of3vq/globaltoken_coinstealer_exposed/\n"
     ]
    },
    {
     "name": "stderr",
     "output_type": "stream",
     "text": [
      "\r",
      " 56%|█████████████████████████████████████████▉                                 | 751/1345 [2:57:56<2:05:35, 12.69s/it]"
     ]
    },
    {
     "name": "stdout",
     "output_type": "stream",
     "text": [
      "AllSafe https://www.reddit.com/r/CryptoCurrency/comments/6jk6te/allsafe_what_on_earth_is_itlook_at_that_spike/\n"
     ]
    },
    {
     "name": "stderr",
     "output_type": "stream",
     "text": [
      "\r",
      " 56%|█████████████████████████████████████████▉                                 | 752/1345 [2:58:07<2:00:58, 12.24s/it]"
     ]
    },
    {
     "name": "stdout",
     "output_type": "stream",
     "text": [
      "SOILcoin https://www.reddit.com/r/crypto/\n"
     ]
    },
    {
     "name": "stderr",
     "output_type": "stream",
     "text": [
      "\r",
      " 56%|█████████████████████████████████████████▉                                 | 753/1345 [2:58:23<2:10:21, 13.21s/it]"
     ]
    },
    {
     "name": "stdout",
     "output_type": "stream",
     "text": [
      "PRCoin https://www.reddit.com/r/crypto/\n"
     ]
    },
    {
     "name": "stderr",
     "output_type": "stream",
     "text": [
      "\r",
      " 56%|██████████████████████████████████████████                                 | 754/1345 [2:58:34<2:05:17, 12.72s/it]"
     ]
    },
    {
     "name": "stdout",
     "output_type": "stream",
     "text": [
      "ZetaMicron https://www.reddit.com/r/CryptoCurrency/\n"
     ]
    },
    {
     "name": "stderr",
     "output_type": "stream",
     "text": [
      "\r",
      " 56%|██████████████████████████████████████████                                 | 755/1345 [2:58:49<2:10:33, 13.28s/it]"
     ]
    },
    {
     "name": "stdout",
     "output_type": "stream",
     "text": [
      "ReeCoin https://www.reddit.com/r/reddCoin/\n"
     ]
    },
    {
     "name": "stderr",
     "output_type": "stream",
     "text": [
      "\r",
      " 56%|██████████████████████████████████████████▏                                | 756/1345 [2:59:01<2:07:37, 13.00s/it]"
     ]
    },
    {
     "name": "stdout",
     "output_type": "stream",
     "text": [
      "Kurrent https://www.reddit.com/r/CryptoCurrency/\n"
     ]
    },
    {
     "name": "stderr",
     "output_type": "stream",
     "text": [
      "\r",
      " 56%|██████████████████████████████████████████▏                                | 757/1345 [2:59:12<2:00:01, 12.25s/it]"
     ]
    },
    {
     "name": "stdout",
     "output_type": "stream",
     "text": [
      "Aerium https://www.reddit.com/r/CryptoCurrency/\n"
     ]
    },
    {
     "name": "stderr",
     "output_type": "stream",
     "text": [
      "\r",
      " 56%|██████████████████████████████████████████▎                                | 758/1345 [2:59:28<2:12:08, 13.51s/it]"
     ]
    },
    {
     "name": "stdout",
     "output_type": "stream",
     "text": [
      "WomenCoin https://www.reddit.com/r/CryptoCurrency/\n"
     ]
    },
    {
     "name": "stderr",
     "output_type": "stream",
     "text": [
      "\r",
      " 56%|██████████████████████████████████████████▎                                | 759/1345 [2:59:41<2:08:38, 13.17s/it]"
     ]
    },
    {
     "name": "stdout",
     "output_type": "stream",
     "text": [
      "X-Coin https://www.reddit.com/r/CryptoCurrency/\n"
     ]
    },
    {
     "name": "stderr",
     "output_type": "stream",
     "text": [
      "\r",
      " 57%|██████████████████████████████████████████▍                                | 760/1345 [2:59:52<2:03:56, 12.71s/it]"
     ]
    },
    {
     "name": "stdout",
     "output_type": "stream",
     "text": [
      "DIBCOIN https://www.reddit.com/r/CryptoCurrency/\n"
     ]
    },
    {
     "name": "stderr",
     "output_type": "stream",
     "text": [
      "\r",
      " 57%|██████████████████████████████████████████▍                                | 761/1345 [3:00:04<2:01:29, 12.48s/it]"
     ]
    },
    {
     "name": "stdout",
     "output_type": "stream",
     "text": [
      "Money https://www.reddit.com/r/CryptoCurrency/\n"
     ]
    },
    {
     "name": "stderr",
     "output_type": "stream",
     "text": [
      "\r",
      " 57%|██████████████████████████████████████████▍                                | 762/1345 [3:00:16<1:58:18, 12.17s/it]"
     ]
    },
    {
     "name": "stdout",
     "output_type": "stream",
     "text": [
      "ExchangeN https://www.reddit.com/r/CryptoMarkets/\n"
     ]
    },
    {
     "name": "stderr",
     "output_type": "stream",
     "text": [
      "\r",
      " 57%|██████████████████████████████████████████▌                                | 763/1345 [3:00:30<2:05:01, 12.89s/it]"
     ]
    },
    {
     "name": "stdout",
     "output_type": "stream",
     "text": [
      "Kronecoin https://www.reddit.com/r/CryptoCurrency/\n"
     ]
    },
    {
     "name": "stderr",
     "output_type": "stream",
     "text": [
      "\r",
      " 57%|██████████████████████████████████████████▌                                | 764/1345 [3:00:41<1:58:30, 12.24s/it]"
     ]
    },
    {
     "name": "stdout",
     "output_type": "stream",
     "text": [
      "Eryllium https://www.reddit.com/r/CryptoCurrency/comments/5l9clm/eryllium_ery_ico/\n"
     ]
    },
    {
     "name": "stderr",
     "output_type": "stream",
     "text": [
      "\r",
      " 57%|██████████████████████████████████████████▋                                | 765/1345 [3:00:56<2:07:51, 13.23s/it]"
     ]
    },
    {
     "name": "stdout",
     "output_type": "stream",
     "text": [
      "Kayicoin https://www.reddit.com/r/CryptoCurrency/\n"
     ]
    },
    {
     "name": "stderr",
     "output_type": "stream",
     "text": [
      "\r",
      " 57%|██████████████████████████████████████████▋                                | 766/1345 [3:01:06<1:57:03, 12.13s/it]"
     ]
    },
    {
     "name": "stdout",
     "output_type": "stream",
     "text": [
      "Interzone https://www.reddit.com/r/CryptoCurrency/\n"
     ]
    },
    {
     "name": "stderr",
     "output_type": "stream",
     "text": [
      "\r",
      " 57%|██████████████████████████████████████████▊                                | 767/1345 [3:01:18<1:55:17, 11.97s/it]"
     ]
    },
    {
     "name": "stdout",
     "output_type": "stream",
     "text": [
      "Virtacoin https://www.reddit.com/r/VirtaCoin/comments/2kajyz/first_milestone_reached_on_virtacrypto/\n"
     ]
    },
    {
     "name": "stderr",
     "output_type": "stream",
     "text": [
      "\r",
      " 57%|██████████████████████████████████████████▊                                | 768/1345 [3:01:32<2:02:19, 12.72s/it]"
     ]
    },
    {
     "name": "stdout",
     "output_type": "stream",
     "text": [
      "LiteCoin Ultra https://www.reddit.com/r/CryptoCurrency/\n"
     ]
    },
    {
     "name": "stderr",
     "output_type": "stream",
     "text": [
      "\r",
      " 57%|██████████████████████████████████████████▉                                | 769/1345 [3:01:44<1:58:37, 12.36s/it]"
     ]
    },
    {
     "name": "stdout",
     "output_type": "stream",
     "text": [
      "Cashcoin https://www.reddit.com/r/CryptoCurrency/\n"
     ]
    },
    {
     "name": "stderr",
     "output_type": "stream",
     "text": [
      "\r",
      " 57%|██████████████████████████████████████████▉                                | 770/1345 [3:02:55<4:48:38, 30.12s/it]"
     ]
    },
    {
     "name": "stdout",
     "output_type": "stream",
     "text": [
      "Solarflarecoin https://www.reddit.com/r/CryptoCurrency/comments/61fxc6/sfc_solarflarecoin_a_new_but_underrated_coin/\n"
     ]
    },
    {
     "name": "stderr",
     "output_type": "stream",
     "text": [
      "\r",
      " 57%|██████████████████████████████████████████▉                                | 771/1345 [3:03:05<3:48:54, 23.93s/it]"
     ]
    },
    {
     "name": "stdout",
     "output_type": "stream",
     "text": [
      "Luna Coin https://www.reddit.com/r/CryptoCurrency/\n"
     ]
    },
    {
     "name": "stderr",
     "output_type": "stream",
     "text": [
      "\r",
      " 57%|███████████████████████████████████████████                                | 772/1345 [3:03:16<3:12:35, 20.17s/it]"
     ]
    },
    {
     "name": "stdout",
     "output_type": "stream",
     "text": [
      "Network Token https://www.reddit.com/r/CryptoCurrency/comments/76xk2q/request_network_token_sale_statistics/\n"
     ]
    },
    {
     "name": "stderr",
     "output_type": "stream",
     "text": [
      "\r",
      " 57%|███████████████████████████████████████████                                | 773/1345 [3:03:28<2:50:02, 17.84s/it]"
     ]
    },
    {
     "name": "stdout",
     "output_type": "stream",
     "text": [
      "Roofs https://www.reddit.com/r/crypto/\n"
     ]
    },
    {
     "name": "stderr",
     "output_type": "stream",
     "text": [
      "\r",
      " 58%|███████████████████████████████████████████▏                               | 774/1345 [3:03:42<2:36:22, 16.43s/it]"
     ]
    },
    {
     "name": "stdout",
     "output_type": "stream",
     "text": [
      "LetItRide https://www.reddit.com/r/CryptoCurrency/\n"
     ]
    },
    {
     "name": "stderr",
     "output_type": "stream",
     "text": [
      "\r",
      " 58%|███████████████████████████████████████████▏                               | 775/1345 [3:03:52<2:18:33, 14.59s/it]"
     ]
    },
    {
     "name": "stdout",
     "output_type": "stream",
     "text": [
      "CybCSec https://www.reddit.com/r/CryptoCurrency/comments/786i69/cybcsec_xcs_member_morten_linnen_steps_down_due/\n"
     ]
    },
    {
     "name": "stderr",
     "output_type": "stream",
     "text": [
      "\r",
      " 58%|███████████████████████████████████████████▎                               | 776/1345 [3:04:07<2:20:30, 14.82s/it]"
     ]
    },
    {
     "name": "stdout",
     "output_type": "stream",
     "text": [
      "FuturXe https://www.reddit.com/r/CryptoCurrency/\n"
     ]
    },
    {
     "name": "stderr",
     "output_type": "stream",
     "text": [
      "\r",
      " 58%|███████████████████████████████████████████▎                               | 777/1345 [3:04:18<2:09:54, 13.72s/it]"
     ]
    },
    {
     "name": "stdout",
     "output_type": "stream",
     "text": [
      "SydPak https://www.reddit.com/r/crypto/\n"
     ]
    },
    {
     "name": "stderr",
     "output_type": "stream",
     "text": [
      "\r",
      " 58%|███████████████████████████████████████████▍                               | 778/1345 [3:04:31<2:05:36, 13.29s/it]"
     ]
    },
    {
     "name": "stdout",
     "output_type": "stream",
     "text": [
      "CrevaCoin https://www.reddit.com/r/omni/\n"
     ]
    },
    {
     "name": "stderr",
     "output_type": "stream",
     "text": [
      "\r",
      " 58%|███████████████████████████████████████████▍                               | 779/1345 [3:04:44<2:05:21, 13.29s/it]"
     ]
    },
    {
     "name": "stdout",
     "output_type": "stream",
     "text": [
      "GeyserCoin https://www.reddit.com/r/CryptoCurrency/\n"
     ]
    },
    {
     "name": "stderr",
     "output_type": "stream",
     "text": [
      "\r",
      " 58%|███████████████████████████████████████████▍                               | 780/1345 [3:04:54<1:56:43, 12.39s/it]"
     ]
    },
    {
     "name": "stdout",
     "output_type": "stream",
     "text": [
      "LiteBitcoin https://www.reddit.com/r/litecoin/\n"
     ]
    },
    {
     "name": "stderr",
     "output_type": "stream",
     "text": [
      "\r",
      " 58%|███████████████████████████████████████████▌                               | 781/1345 [3:05:07<1:56:59, 12.45s/it]"
     ]
    },
    {
     "name": "stdout",
     "output_type": "stream",
     "text": [
      "Argus https://www.reddit.com/r/CryptoCurrency/\n"
     ]
    },
    {
     "name": "stderr",
     "output_type": "stream",
     "text": [
      "\r",
      " 58%|███████████████████████████████████████████▌                               | 782/1345 [3:05:19<1:57:00, 12.47s/it]"
     ]
    },
    {
     "name": "stdout",
     "output_type": "stream",
     "text": [
      "Crypto https://www.reddit.com/r/CryptoCurrency/\n"
     ]
    },
    {
     "name": "stderr",
     "output_type": "stream",
     "text": [
      "\r",
      " 58%|███████████████████████████████████████████▋                               | 783/1345 [3:05:31<1:53:59, 12.17s/it]"
     ]
    },
    {
     "name": "stdout",
     "output_type": "stream",
     "text": [
      "Rawcoin https://www.reddit.com/r/CryptoCurrency/\n"
     ]
    },
    {
     "name": "stderr",
     "output_type": "stream",
     "text": [
      "\r",
      " 58%|███████████████████████████████████████████▋                               | 784/1345 [3:05:43<1:54:30, 12.25s/it]"
     ]
    },
    {
     "name": "stdout",
     "output_type": "stream",
     "text": [
      "Bitvolt https://www.reddit.com/r/reddCoin/\n"
     ]
    },
    {
     "name": "stderr",
     "output_type": "stream",
     "text": [
      "\r",
      " 58%|███████████████████████████████████████████▊                               | 785/1345 [3:05:56<1:55:29, 12.37s/it]"
     ]
    },
    {
     "name": "stdout",
     "output_type": "stream",
     "text": [
      "LevoPlus https://www.reddit.com/r/CryptoCurrency/\n"
     ]
    },
    {
     "name": "stderr",
     "output_type": "stream",
     "text": [
      "\r",
      " 58%|███████████████████████████████████████████▊                               | 786/1345 [3:06:08<1:55:17, 12.37s/it]"
     ]
    },
    {
     "name": "stdout",
     "output_type": "stream",
     "text": [
      "HarmonyCoin https://www.reddit.com/r/CryptoCurrency/\n"
     ]
    },
    {
     "name": "stderr",
     "output_type": "stream",
     "text": [
      "\r",
      " 59%|███████████████████████████████████████████▉                               | 787/1345 [3:06:22<1:58:05, 12.70s/it]"
     ]
    },
    {
     "name": "stdout",
     "output_type": "stream",
     "text": [
      "Veros https://www.reddit.com/r/CryptoCurrency/comments/5hxbv7/veros_announces_using_superior_blockchain/\n"
     ]
    },
    {
     "name": "stderr",
     "output_type": "stream",
     "text": [
      "\r",
      " 59%|███████████████████████████████████████████▉                               | 788/1345 [3:06:34<1:55:12, 12.41s/it]"
     ]
    },
    {
     "name": "stdout",
     "output_type": "stream",
     "text": [
      "SuperNET https://www.reddit.com/r/Aeon+Ardor+Augur+Best_of_Crypto+BitMarket+BitShares+Bitcoin+BitcoinAll+BitcoinBeginners+BitcoinMarkets+BitcoinMining+BitcoinSerious+BlockChain+CryptoCurrencies+CryptoCurrency+CryptoMarkets+DRKCoin+DashCoin+DashTrader+Digibyte+DoItForTheCoin+EmerCoin+EtherMining+EthereumClassic+GolemProject+ICONOMI+Jobs4Crypto+Liberland+Lisk+LitecoinMarkets+LivingOnBitcoin+MintCoin+Monero+NXT+Namecoin+NiceHash+NobleCoin+NuBits+QuarkCoin+Ripple+SafeMarket+Shadowcash+Stealthcoin+TaCoCoin+Terracoin+ZcashMiners+altcoin+bitcoin_devlist+bitcoin_uncensored+bitcoin_unlimited+bitcoinxt+blackcoin+btc+burstcoin+crypto+dashmarket+dashous+dashpay+decred+digix+dogecoin+ethdapps+ethdev+ethereum+ethinvestor+ethtrader+factom+gridcoin+komodoplatform+lbry+litecoin+litecoinmining+maidsafe+mastercoin+mazacoin+melonproject+myriadcoin+nem+nyancoins+peercoin+pivx+primecoin+reddCoin+reptrader+ripplers+shapeshiftio+siacoin+steemit+storj+stratisplatform+supernet+vertcoin+xmrtrader+zec/\n"
     ]
    },
    {
     "name": "stderr",
     "output_type": "stream",
     "text": [
      "\r",
      " 59%|███████████████████████████████████████████▉                               | 789/1345 [3:06:46<1:54:33, 12.36s/it]"
     ]
    },
    {
     "name": "stdout",
     "output_type": "stream",
     "text": [
      "CasinoCoin https://www.reddit.com/r/casinocoin/\n"
     ]
    },
    {
     "name": "stderr",
     "output_type": "stream",
     "text": [
      "\r",
      " 59%|████████████████████████████████████████████                               | 790/1345 [3:06:56<1:48:44, 11.76s/it]"
     ]
    },
    {
     "name": "stdout",
     "output_type": "stream",
     "text": [
      "Stakecoin https://www.reddit.com/r/CryptoCurrency/\n"
     ]
    },
    {
     "name": "stderr",
     "output_type": "stream",
     "text": [
      "\r",
      " 59%|████████████████████████████████████████████                               | 791/1345 [3:07:08<1:47:30, 11.64s/it]"
     ]
    },
    {
     "name": "stdout",
     "output_type": "stream",
     "text": [
      "Prospectors Gold https://www.reddit.com/r/CryptoCurrency/\n"
     ]
    },
    {
     "name": "stderr",
     "output_type": "stream",
     "text": [
      "\r",
      " 59%|████████████████████████████████████████████▏                              | 792/1345 [3:07:21<1:51:54, 12.14s/it]"
     ]
    },
    {
     "name": "stdout",
     "output_type": "stream",
     "text": [
      "Ecobit https://www.reddit.com/r/CryptoCurrency/comments/6gzdrk/cryptoconservation_ecobits_30year_plan_shows/\n"
     ]
    },
    {
     "name": "stderr",
     "output_type": "stream",
     "text": [
      "\r",
      " 59%|████████████████████████████████████████████▏                              | 793/1345 [3:07:31<1:46:41, 11.60s/it]"
     ]
    },
    {
     "name": "stdout",
     "output_type": "stream",
     "text": [
      "YashCoin https://www.reddit.com/r/CryptoCurrency/\n"
     ]
    },
    {
     "name": "stderr",
     "output_type": "stream",
     "text": [
      "\r",
      " 59%|████████████████████████████████████████████▎                              | 794/1345 [3:07:42<1:43:14, 11.24s/it]"
     ]
    },
    {
     "name": "stdout",
     "output_type": "stream",
     "text": [
      "Bankcoin https://www.reddit.com/r/CryptoCurrency/\n"
     ]
    },
    {
     "name": "stderr",
     "output_type": "stream",
     "text": [
      "\r",
      " 59%|████████████████████████████████████████████▎                              | 795/1345 [3:07:55<1:48:49, 11.87s/it]"
     ]
    },
    {
     "name": "stdout",
     "output_type": "stream",
     "text": [
      "ICO OpenLedger https://www.reddit.com/r/icocrypto/\n"
     ]
    },
    {
     "name": "stderr",
     "output_type": "stream",
     "text": [
      "\r",
      " 59%|████████████████████████████████████████████▍                              | 796/1345 [3:08:04<1:41:56, 11.14s/it]"
     ]
    },
    {
     "name": "stdout",
     "output_type": "stream",
     "text": [
      "Starta https://www.reddit.com/r/CryptoCurrency/\n"
     ]
    },
    {
     "name": "stderr",
     "output_type": "stream",
     "text": [
      "\r",
      " 59%|████████████████████████████████████████████▍                              | 797/1345 [3:08:14<1:37:01, 10.62s/it]"
     ]
    },
    {
     "name": "stdout",
     "output_type": "stream",
     "text": [
      "FIMKrypto https://www.reddit.com/r/CryptoCurrency/\n"
     ]
    },
    {
     "name": "stderr",
     "output_type": "stream",
     "text": [
      "\r",
      " 59%|████████████████████████████████████████████▍                              | 798/1345 [3:08:24<1:36:20, 10.57s/it]"
     ]
    },
    {
     "name": "stdout",
     "output_type": "stream",
     "text": [
      "CryptCoin https://www.reddit.com/r/CryptoMarkets/\n"
     ]
    },
    {
     "name": "stderr",
     "output_type": "stream",
     "text": [
      "\r",
      " 59%|████████████████████████████████████████████▌                              | 799/1345 [3:08:37<1:41:25, 11.15s/it]"
     ]
    },
    {
     "name": "stdout",
     "output_type": "stream",
     "text": [
      "Colossuscoin V2 https://www.reddit.com/r/ColossuscoinX/\n"
     ]
    },
    {
     "name": "stderr",
     "output_type": "stream",
     "text": [
      "\r",
      " 59%|████████████████████████████████████████████▌                              | 800/1345 [3:09:50<4:31:13, 29.86s/it]"
     ]
    },
    {
     "name": "stdout",
     "output_type": "stream",
     "text": [
      "Janus https://www.reddit.com/r/CryptoMarkets/\n"
     ]
    },
    {
     "name": "stderr",
     "output_type": "stream",
     "text": [
      "\r",
      " 60%|████████████████████████████████████████████▋                              | 801/1345 [3:10:02<3:40:31, 24.32s/it]"
     ]
    },
    {
     "name": "stdout",
     "output_type": "stream",
     "text": [
      "Rustbits https://www.reddit.com/r/icocrypto/comments/6bmbgk/spacepirate_rustbits_game_economy_trading_cards/\n"
     ]
    },
    {
     "name": "stderr",
     "output_type": "stream",
     "text": [
      "\r",
      " 60%|████████████████████████████████████████████▋                              | 802/1345 [3:10:13<3:03:41, 20.30s/it]"
     ]
    },
    {
     "name": "stdout",
     "output_type": "stream",
     "text": [
      "Opal https://www.reddit.com/r/CryptoCurrency/comments/2x3ipq/opal_unique_privacy/\n"
     ]
    },
    {
     "name": "stderr",
     "output_type": "stream",
     "text": [
      "\r",
      " 60%|████████████████████████████████████████████▊                              | 803/1345 [3:10:25<2:41:28, 17.88s/it]"
     ]
    },
    {
     "name": "stdout",
     "output_type": "stream",
     "text": [
      "Intelligent Trading Tech https://www.reddit.com/r/CryptoCurrency/comments/791yp8/intelligent_trading_itt_on_etherdelta_and_cmc/\n"
     ]
    },
    {
     "name": "stderr",
     "output_type": "stream",
     "text": [
      "\r",
      " 60%|████████████████████████████████████████████▊                              | 804/1345 [3:10:34<2:17:40, 15.27s/it]"
     ]
    },
    {
     "name": "stdout",
     "output_type": "stream",
     "text": [
      "Bitland https://www.reddit.com/r/crypto/\n"
     ]
    },
    {
     "name": "stderr",
     "output_type": "stream",
     "text": [
      "\r",
      " 60%|████████████████████████████████████████████▉                              | 805/1345 [3:10:44<2:04:02, 13.78s/it]"
     ]
    },
    {
     "name": "stdout",
     "output_type": "stream",
     "text": [
      "HitCoin https://www.reddit.com/r/Bitcoin/\n"
     ]
    },
    {
     "name": "stderr",
     "output_type": "stream",
     "text": [
      "\r",
      " 60%|████████████████████████████████████████████▉                              | 806/1345 [3:10:57<2:00:21, 13.40s/it]"
     ]
    },
    {
     "name": "stdout",
     "output_type": "stream",
     "text": [
      "Shorty https://www.reddit.com/r/CryptoCurrency/\n"
     ]
    },
    {
     "name": "stderr",
     "output_type": "stream",
     "text": [
      "\r",
      " 60%|█████████████████████████████████████████████                              | 807/1345 [3:11:07<1:51:49, 12.47s/it]"
     ]
    },
    {
     "name": "stdout",
     "output_type": "stream",
     "text": [
      "Coin(O) https://www.reddit.com/r/CryptoCurrency/\n"
     ]
    },
    {
     "name": "stderr",
     "output_type": "stream",
     "text": [
      "\r",
      " 60%|█████████████████████████████████████████████                              | 808/1345 [3:11:18<1:46:52, 11.94s/it]"
     ]
    },
    {
     "name": "stdout",
     "output_type": "stream",
     "text": [
      "Arcade Token https://www.reddit.com/r/CryptoCurrency/\n"
     ]
    },
    {
     "name": "stderr",
     "output_type": "stream",
     "text": [
      "\r",
      " 60%|█████████████████████████████████████████████                              | 809/1345 [3:11:28<1:41:51, 11.40s/it]"
     ]
    },
    {
     "name": "stdout",
     "output_type": "stream",
     "text": [
      "Remicoin https://www.reddit.com/r/CryptoCurrency/\n"
     ]
    },
    {
     "name": "stderr",
     "output_type": "stream",
     "text": [
      "\r",
      " 60%|█████████████████████████████████████████████▏                             | 810/1345 [3:11:40<1:44:37, 11.73s/it]"
     ]
    },
    {
     "name": "stdout",
     "output_type": "stream",
     "text": [
      "BTSR https://www.reddit.com/r/crypto/\n"
     ]
    },
    {
     "name": "stderr",
     "output_type": "stream",
     "text": [
      "\r",
      " 60%|█████████████████████████████████████████████▏                             | 811/1345 [3:11:53<1:46:42, 11.99s/it]"
     ]
    },
    {
     "name": "stdout",
     "output_type": "stream",
     "text": [
      "ShadowCash https://www.reddit.com/r/Shadowcash/\n"
     ]
    },
    {
     "name": "stderr",
     "output_type": "stream",
     "text": [
      "\r",
      " 60%|█████████████████████████████████████████████▎                             | 812/1345 [3:12:05<1:47:44, 12.13s/it]"
     ]
    },
    {
     "name": "stdout",
     "output_type": "stream",
     "text": [
      "MetalCoin https://www.reddit.com/r/CryptoCurrency/comments/295k0k/metalcoinprecious_metal_reserves/\n"
     ]
    },
    {
     "name": "stderr",
     "output_type": "stream",
     "text": [
      "\r",
      " 60%|█████████████████████████████████████████████▎                             | 813/1345 [3:12:20<1:53:56, 12.85s/it]"
     ]
    },
    {
     "name": "stdout",
     "output_type": "stream",
     "text": [
      "HoboNickels https://www.reddit.com/r/HoboNickels/\n"
     ]
    },
    {
     "name": "stderr",
     "output_type": "stream",
     "text": [
      "\r",
      " 61%|█████████████████████████████████████████████▍                             | 814/1345 [3:12:32<1:52:37, 12.73s/it]"
     ]
    },
    {
     "name": "stdout",
     "output_type": "stream",
     "text": [
      "Bitpark Coin https://www.reddit.com/r/CryptoCurrency/\n"
     ]
    },
    {
     "name": "stderr",
     "output_type": "stream",
     "text": [
      "\r",
      " 61%|█████████████████████████████████████████████▍                             | 815/1345 [3:12:47<1:57:26, 13.29s/it]"
     ]
    },
    {
     "name": "stdout",
     "output_type": "stream",
     "text": [
      "Etheriya https://www.reddit.com/r/CryptoCurrency/\n"
     ]
    },
    {
     "name": "stderr",
     "output_type": "stream",
     "text": [
      "\r",
      " 61%|█████████████████████████████████████████████▌                             | 816/1345 [3:13:01<1:58:56, 13.49s/it]"
     ]
    },
    {
     "name": "stdout",
     "output_type": "stream",
     "text": [
      "BTCtalkcoin https://www.reddit.com/r/CryptoCurrency/\n"
     ]
    },
    {
     "name": "stderr",
     "output_type": "stream",
     "text": [
      "\r",
      " 61%|█████████████████████████████████████████████▌                             | 817/1345 [3:13:14<1:57:16, 13.33s/it]"
     ]
    },
    {
     "name": "stdout",
     "output_type": "stream",
     "text": [
      "FuelCoin https://www.reddit.com/r/CryptoCurrency/\n"
     ]
    },
    {
     "name": "stderr",
     "output_type": "stream",
     "text": [
      "\r",
      " 61%|█████████████████████████████████████████████▌                             | 818/1345 [3:13:26<1:54:37, 13.05s/it]"
     ]
    },
    {
     "name": "stdout",
     "output_type": "stream",
     "text": [
      "AurumCoin https://www.reddit.com/r/CryptoCurrency/\n"
     ]
    },
    {
     "name": "stderr",
     "output_type": "stream",
     "text": [
      "\r",
      " 61%|█████████████████████████████████████████████▋                             | 819/1345 [3:13:37<1:48:23, 12.36s/it]"
     ]
    },
    {
     "name": "stdout",
     "output_type": "stream",
     "text": [
      "Goodomy https://www.reddit.com/r/crypto/\n"
     ]
    },
    {
     "name": "stderr",
     "output_type": "stream",
     "text": [
      "\r",
      " 61%|█████████████████████████████████████████████▋                             | 820/1345 [3:13:50<1:48:28, 12.40s/it]"
     ]
    },
    {
     "name": "stdout",
     "output_type": "stream",
     "text": [
      "Version https://www.reddit.com/r/crypto/\n"
     ]
    },
    {
     "name": "stderr",
     "output_type": "stream",
     "text": [
      "\r",
      " 61%|█████████████████████████████████████████████▊                             | 821/1345 [3:14:05<1:56:06, 13.29s/it]"
     ]
    },
    {
     "name": "stdout",
     "output_type": "stream",
     "text": [
      "Valorbit https://www.reddit.com/r/CryptoCurrency/\n"
     ]
    },
    {
     "name": "stderr",
     "output_type": "stream",
     "text": [
      "\r",
      " 61%|█████████████████████████████████████████████▊                             | 822/1345 [3:14:16<1:48:42, 12.47s/it]"
     ]
    },
    {
     "name": "stdout",
     "output_type": "stream",
     "text": [
      "BlockPay https://www.reddit.com/r/Bitcoin/comments/54aojg/blockpay_point_of_sale_system_for_all_digital/\n"
     ]
    },
    {
     "name": "stderr",
     "output_type": "stream",
     "text": [
      "\r",
      " 61%|█████████████████████████████████████████████▉                             | 823/1345 [3:14:28<1:47:54, 12.40s/it]"
     ]
    },
    {
     "name": "stdout",
     "output_type": "stream",
     "text": [
      "iTicoin https://www.reddit.com/r/crypto/\n"
     ]
    },
    {
     "name": "stderr",
     "output_type": "stream",
     "text": [
      "\r",
      " 61%|█████████████████████████████████████████████▉                             | 824/1345 [3:14:43<1:55:28, 13.30s/it]"
     ]
    },
    {
     "name": "stdout",
     "output_type": "stream",
     "text": [
      "Joincoin https://www.reddit.com/r/CryptoCurrency/\n"
     ]
    },
    {
     "name": "stderr",
     "output_type": "stream",
     "text": [
      "\r",
      " 61%|██████████████████████████████████████████████                             | 825/1345 [3:14:55<1:50:52, 12.79s/it]"
     ]
    },
    {
     "name": "stdout",
     "output_type": "stream",
     "text": [
      "Casino https://www.reddit.com/r/CryptoMarkets/comments/6k26df/dao_casino_blockchain_gambling/\n"
     ]
    },
    {
     "name": "stderr",
     "output_type": "stream",
     "text": [
      "\r",
      " 61%|██████████████████████████████████████████████                             | 826/1345 [3:15:07<1:49:47, 12.69s/it]"
     ]
    },
    {
     "name": "stdout",
     "output_type": "stream",
     "text": [
      "Universe https://www.reddit.com/r/dataisbeautiful/comments/6zxk37/crypto_universe_bitcoin_ethereum_and_other_major/\n"
     ]
    },
    {
     "name": "stderr",
     "output_type": "stream",
     "text": [
      "\r",
      " 61%|██████████████████████████████████████████████                             | 827/1345 [3:15:18<1:43:53, 12.03s/it]"
     ]
    },
    {
     "name": "stdout",
     "output_type": "stream",
     "text": [
      "Veltor https://www.reddit.com/r/VectorCrypto/\n"
     ]
    },
    {
     "name": "stderr",
     "output_type": "stream",
     "text": [
      "\r",
      " 62%|██████████████████████████████████████████████▏                            | 828/1345 [3:15:29<1:41:55, 11.83s/it]"
     ]
    },
    {
     "name": "stdout",
     "output_type": "stream",
     "text": [
      "Ultimate Secure Cash https://www.reddit.com/r/crypto/comments/6honbs/why_isnt_steganography_the_ultimate_way_of/\n"
     ]
    },
    {
     "name": "stderr",
     "output_type": "stream",
     "text": [
      "\r",
      " 62%|██████████████████████████████████████████████▏                            | 829/1345 [3:16:44<4:24:20, 30.74s/it]"
     ]
    },
    {
     "name": "stdout",
     "output_type": "stream",
     "text": [
      "I0Coin https://www.reddit.com/r/CryptoCurrency/\n"
     ]
    },
    {
     "name": "stderr",
     "output_type": "stream",
     "text": [
      "\r",
      " 62%|██████████████████████████████████████████████▎                            | 830/1345 [3:16:55<3:33:49, 24.91s/it]"
     ]
    },
    {
     "name": "stdout",
     "output_type": "stream",
     "text": [
      "WayGuide https://www.reddit.com/r/CryptoCurrency/\n"
     ]
    },
    {
     "name": "stderr",
     "output_type": "stream",
     "text": [
      "\r",
      " 62%|██████████████████████████████████████████████▎                            | 831/1345 [3:17:05<2:55:41, 20.51s/it]"
     ]
    },
    {
     "name": "stdout",
     "output_type": "stream",
     "text": [
      "SACoin https://www.reddit.com/r/crypto/\n"
     ]
    },
    {
     "name": "stderr",
     "output_type": "stream",
     "text": [
      "\r",
      " 62%|██████████████████████████████████████████████▍                            | 832/1345 [3:17:15<2:26:34, 17.14s/it]"
     ]
    },
    {
     "name": "stdout",
     "output_type": "stream",
     "text": [
      "Tigercoin https://www.reddit.com/r/Jobs4Crypto/\n"
     ]
    },
    {
     "name": "stderr",
     "output_type": "stream",
     "text": [
      "\r",
      " 62%|██████████████████████████████████████████████▍                            | 833/1345 [3:17:25<2:09:48, 15.21s/it]"
     ]
    },
    {
     "name": "stdout",
     "output_type": "stream",
     "text": [
      "Upfiring https://www.reddit.com/r/Upfiring/\n"
     ]
    },
    {
     "name": "stderr",
     "output_type": "stream",
     "text": [
      "\r",
      " 62%|██████████████████████████████████████████████▌                            | 834/1345 [3:17:41<2:09:45, 15.24s/it]"
     ]
    },
    {
     "name": "stdout",
     "output_type": "stream",
     "text": [
      "Guncoin https://www.reddit.com/r/GunCoin/comments/26c8wm/price_of_guncoin_on_the_market_and_whales/\n"
     ]
    },
    {
     "name": "stderr",
     "output_type": "stream",
     "text": [
      "\r",
      " 62%|██████████████████████████████████████████████▌                            | 835/1345 [3:17:51<1:57:14, 13.79s/it]"
     ]
    },
    {
     "name": "stdout",
     "output_type": "stream",
     "text": [
      "Sterlingcoin https://www.reddit.com/r/crypto/\n"
     ]
    },
    {
     "name": "stderr",
     "output_type": "stream",
     "text": [
      "\r",
      " 62%|██████████████████████████████████████████████▌                            | 836/1345 [3:18:02<1:48:30, 12.79s/it]"
     ]
    },
    {
     "name": "stdout",
     "output_type": "stream",
     "text": [
      "SproutsExtreme https://www.reddit.com/r/crypto/\n"
     ]
    },
    {
     "name": "stderr",
     "output_type": "stream",
     "text": [
      "\r",
      " 62%|██████████████████████████████████████████████▋                            | 837/1345 [3:18:11<1:39:57, 11.81s/it]"
     ]
    },
    {
     "name": "stdout",
     "output_type": "stream",
     "text": [
      "Abjcoin https://www.reddit.com/r/CryptoCurrency/\n"
     ]
    },
    {
     "name": "stderr",
     "output_type": "stream",
     "text": [
      "\r",
      " 62%|██████████████████████████████████████████████▋                            | 838/1345 [3:18:22<1:36:05, 11.37s/it]"
     ]
    },
    {
     "name": "stdout",
     "output_type": "stream",
     "text": [
      "BigUp https://www.reddit.com/r/CryptoCurrency/comments/4ec5ye/new_cryptocurrency_bigup/\n"
     ]
    },
    {
     "name": "stderr",
     "output_type": "stream",
     "text": [
      "\r",
      " 62%|██████████████████████████████████████████████▊                            | 839/1345 [3:18:34<1:38:19, 11.66s/it]"
     ]
    },
    {
     "name": "stdout",
     "output_type": "stream",
     "text": [
      "Rasputin Online Coin https://www.reddit.com/r/CryptoCurrency/\n"
     ]
    },
    {
     "name": "stderr",
     "output_type": "stream",
     "text": [
      "\r",
      " 62%|██████████████████████████████████████████████▊                            | 840/1345 [3:18:45<1:37:53, 11.63s/it]"
     ]
    },
    {
     "name": "stdout",
     "output_type": "stream",
     "text": [
      "DigitalDevelopersFund https://www.reddit.com/r/crypto/\n"
     ]
    },
    {
     "name": "stderr",
     "output_type": "stream",
     "text": [
      "\r",
      " 63%|██████████████████████████████████████████████▉                            | 841/1345 [3:18:56<1:35:03, 11.32s/it]"
     ]
    },
    {
     "name": "stdout",
     "output_type": "stream",
     "text": [
      "DigiCube https://www.reddit.com/r/DigiCubed/comments/3plz50/digicube_cryptocurrency/\n"
     ]
    },
    {
     "name": "stderr",
     "output_type": "stream",
     "text": [
      "\r",
      " 63%|██████████████████████████████████████████████▉                            | 842/1345 [3:19:07<1:33:08, 11.11s/it]"
     ]
    },
    {
     "name": "stdout",
     "output_type": "stream",
     "text": [
      "Flycoin https://www.reddit.com/r/CryptoCurrency/comments/3sjsnc/fly_coin_new_generation_crypto_currency_for/\n"
     ]
    },
    {
     "name": "stderr",
     "output_type": "stream",
     "text": [
      "\r",
      " 63%|███████████████████████████████████████████████                            | 843/1345 [3:19:17<1:31:38, 10.95s/it]"
     ]
    },
    {
     "name": "stdout",
     "output_type": "stream",
     "text": [
      "Gapcoin https://www.reddit.com/r/CryptoCurrency/\n"
     ]
    },
    {
     "name": "stderr",
     "output_type": "stream",
     "text": [
      "\r",
      " 63%|███████████████████████████████████████████████                            | 844/1345 [3:19:28<1:30:11, 10.80s/it]"
     ]
    },
    {
     "name": "stdout",
     "output_type": "stream",
     "text": [
      "Shadow Token https://www.reddit.com/r/CryptoCurrency/\n"
     ]
    },
    {
     "name": "stderr",
     "output_type": "stream",
     "text": [
      "\r",
      " 63%|███████████████████████████████████████████████                            | 845/1345 [3:19:38<1:28:59, 10.68s/it]"
     ]
    },
    {
     "name": "stdout",
     "output_type": "stream",
     "text": [
      "Stress https://www.reddit.com/r/sysadmin/comments/1qbdmf/anyone_have_a_cryptolocker_file_i_can_use_to/\n"
     ]
    },
    {
     "name": "stderr",
     "output_type": "stream",
     "text": [
      "\r",
      " 63%|███████████████████████████████████████████████▏                           | 846/1345 [3:19:51<1:33:41, 11.26s/it]"
     ]
    },
    {
     "name": "stdout",
     "output_type": "stream",
     "text": [
      "QubitCoin https://www.reddit.com/r/Bitcoin/comments/1w9sji/qubitcoin_cryptocurrency/\n"
     ]
    },
    {
     "name": "stderr",
     "output_type": "stream",
     "text": [
      "\r",
      " 63%|███████████████████████████████████████████████▏                           | 847/1345 [3:20:01<1:32:15, 11.12s/it]"
     ]
    },
    {
     "name": "stdout",
     "output_type": "stream",
     "text": [
      "Sativacoin https://www.reddit.com/r/CryptoCurrency/\n"
     ]
    },
    {
     "name": "stderr",
     "output_type": "stream",
     "text": [
      "\r",
      " 63%|███████████████████████████████████████████████▎                           | 848/1345 [3:20:13<1:32:53, 11.21s/it]"
     ]
    },
    {
     "name": "stdout",
     "output_type": "stream",
     "text": [
      "SpaceCoin https://www.reddit.com/r/CryptoCurrency/\n"
     ]
    },
    {
     "name": "stderr",
     "output_type": "stream",
     "text": [
      "\r",
      " 63%|███████████████████████████████████████████████▎                           | 849/1345 [3:20:28<1:43:04, 12.47s/it]"
     ]
    },
    {
     "name": "stdout",
     "output_type": "stream",
     "text": [
      "ChanCoin https://www.reddit.com/r/chancoin/comments/7idgk3/why_4chn_chancoin_is_the_next_x100_crypto/\n"
     ]
    },
    {
     "name": "stderr",
     "output_type": "stream",
     "text": [
      "\r",
      " 63%|███████████████████████████████████████████████▍                           | 850/1345 [3:20:41<1:43:18, 12.52s/it]"
     ]
    },
    {
     "name": "stdout",
     "output_type": "stream",
     "text": [
      "Shilling https://www.reddit.com/r/CryptoCurrency/comments/7cwije/is_shilling_successful_enough_to_be_worth_the/\n"
     ]
    },
    {
     "name": "stderr",
     "output_type": "stream",
     "text": [
      "\r",
      " 63%|███████████████████████████████████████████████▍                           | 851/1345 [3:20:53<1:40:49, 12.25s/it]"
     ]
    },
    {
     "name": "stdout",
     "output_type": "stream",
     "text": [
      "GlobalCoin https://www.reddit.com/r/CryptoMarkets/comments/1sker8/globalcoin_blowing_up_on_cryptsy/\n"
     ]
    },
    {
     "name": "stderr",
     "output_type": "stream",
     "text": [
      "\r",
      " 63%|███████████████████████████████████████████████▌                           | 852/1345 [3:21:06<1:43:38, 12.61s/it]"
     ]
    },
    {
     "name": "stdout",
     "output_type": "stream",
     "text": [
      "SatoshiMadness https://www.reddit.com/r/CryptoCurrency/\n"
     ]
    },
    {
     "name": "stderr",
     "output_type": "stream",
     "text": [
      "\r",
      " 63%|███████████████████████████████████████████████▌                           | 853/1345 [3:21:19<1:45:11, 12.83s/it]"
     ]
    },
    {
     "name": "stdout",
     "output_type": "stream",
     "text": [
      "E4ROW https://www.reddit.com/r/E4ROW/\n"
     ]
    },
    {
     "name": "stderr",
     "output_type": "stream",
     "text": [
      "\r",
      " 63%|███████████████████████████████████████████████▌                           | 854/1345 [3:21:30<1:39:30, 12.16s/it]"
     ]
    },
    {
     "name": "stdout",
     "output_type": "stream",
     "text": [
      "Freicoin https://www.reddit.com/r/CryptoCurrency/comments/7hzeeg/has_the_freicoin_foundation_distributed_the/\n"
     ]
    },
    {
     "name": "stderr",
     "output_type": "stream",
     "text": [
      "\r",
      " 64%|███████████████████████████████████████████████▋                           | 855/1345 [3:21:43<1:42:44, 12.58s/it]"
     ]
    },
    {
     "name": "stdout",
     "output_type": "stream",
     "text": [
      "CryptoForecast https://www.reddit.com/r/CryptoForecast/\n"
     ]
    },
    {
     "name": "stderr",
     "output_type": "stream",
     "text": [
      "\r",
      " 64%|███████████████████████████████████████████████▋                           | 856/1345 [3:21:55<1:40:08, 12.29s/it]"
     ]
    },
    {
     "name": "stdout",
     "output_type": "stream",
     "text": [
      "FinCoin https://www.reddit.com/r/icocrypto/comments/6kukyc/fintech_bank_project/\n"
     ]
    },
    {
     "name": "stderr",
     "output_type": "stream",
     "text": [
      "\r",
      " 64%|███████████████████████████████████████████████▊                           | 857/1345 [3:23:07<4:05:22, 30.17s/it]"
     ]
    },
    {
     "name": "stdout",
     "output_type": "stream",
     "text": [
      "Evotion https://www.reddit.com/r/evolutionReddit/\n"
     ]
    },
    {
     "name": "stderr",
     "output_type": "stream",
     "text": [
      "\r",
      " 64%|███████████████████████████████████████████████▊                           | 858/1345 [3:23:18<3:18:53, 24.50s/it]"
     ]
    },
    {
     "name": "stdout",
     "output_type": "stream",
     "text": [
      "OctoCoin https://www.reddit.com/r/OctoCoin/\n"
     ]
    },
    {
     "name": "stderr",
     "output_type": "stream",
     "text": [
      "\r",
      " 64%|███████████████████████████████████████████████▉                           | 859/1345 [3:23:30<2:46:30, 20.56s/it]"
     ]
    },
    {
     "name": "stdout",
     "output_type": "stream",
     "text": [
      "OHM https://www.reddit.com/r/ohmwallet/comments/6cepgn/ohm_wallet_the_future_of_crypto_is_here/\n"
     ]
    },
    {
     "name": "stderr",
     "output_type": "stream",
     "text": [
      "\r",
      " 64%|███████████████████████████████████████████████▉                           | 860/1345 [3:23:42<2:26:10, 18.08s/it]"
     ]
    },
    {
     "name": "stdout",
     "output_type": "stream",
     "text": [
      "Evil Coin https://www.reddit.com/r/CryptoCurrency/\n"
     ]
    },
    {
     "name": "stderr",
     "output_type": "stream",
     "text": [
      "\r",
      " 64%|████████████████████████████████████████████████                           | 861/1345 [3:23:53<2:09:46, 16.09s/it]"
     ]
    },
    {
     "name": "stdout",
     "output_type": "stream",
     "text": [
      "Halcyon https://www.reddit.com/r/halcyon6/\n"
     ]
    },
    {
     "name": "stderr",
     "output_type": "stream",
     "text": [
      "\r",
      " 64%|████████████████████████████████████████████████                           | 862/1345 [3:24:05<1:59:45, 14.88s/it]"
     ]
    },
    {
     "name": "stdout",
     "output_type": "stream",
     "text": [
      "GlobalBoost-Y https://www.reddit.com/r/CryptoCurrency/comments/2gxzyn/ann_bsty_digital_money_yescrypt_globalboosty_cpu/\n"
     ]
    },
    {
     "name": "stderr",
     "output_type": "stream",
     "text": [
      "\r",
      " 64%|████████████████████████████████████████████████                           | 863/1345 [3:24:18<1:53:29, 14.13s/it]"
     ]
    },
    {
     "name": "stdout",
     "output_type": "stream",
     "text": [
      "Truckcoin https://www.reddit.com/r/CryptoCurrency/comments/58yifi/truckcoin_wallet_for_raspberry_pi/\n"
     ]
    },
    {
     "name": "stderr",
     "output_type": "stream",
     "text": [
      "\r",
      " 64%|████████████████████████████████████████████████▏                          | 864/1345 [3:24:30<1:49:21, 13.64s/it]"
     ]
    },
    {
     "name": "stdout",
     "output_type": "stream",
     "text": [
      "Bitcoin 21 https://www.reddit.com/r/Bitcoin/comments/7ccqqk/bitcoin_cash_will_not_take_over_bitcoin_this_is/\n"
     ]
    },
    {
     "name": "stderr",
     "output_type": "stream",
     "text": [
      "\r",
      " 64%|████████████████████████████████████████████████▏                          | 865/1345 [3:24:43<1:45:43, 13.21s/it]"
     ]
    },
    {
     "name": "stdout",
     "output_type": "stream",
     "text": [
      "WMCoin https://www.reddit.com/r/crypto/\n"
     ]
    },
    {
     "name": "stderr",
     "output_type": "stream",
     "text": [
      "\r",
      " 64%|████████████████████████████████████████████████▎                          | 866/1345 [3:24:52<1:36:45, 12.12s/it]"
     ]
    },
    {
     "name": "stdout",
     "output_type": "stream",
     "text": [
      "Electra https://www.reddit.com/r/CryptoICO/\n"
     ]
    },
    {
     "name": "stderr",
     "output_type": "stream",
     "text": [
      "\r",
      " 64%|████████████████████████████████████████████████▎                          | 867/1345 [3:25:08<1:44:37, 13.13s/it]"
     ]
    },
    {
     "name": "stdout",
     "output_type": "stream",
     "text": [
      "PayCon https://www.reddit.com/r/CryptoCurrency/\n"
     ]
    },
    {
     "name": "stderr",
     "output_type": "stream",
     "text": [
      "\r",
      " 65%|████████████████████████████████████████████████▍                          | 868/1345 [3:25:21<1:44:49, 13.18s/it]"
     ]
    },
    {
     "name": "stdout",
     "output_type": "stream",
     "text": [
      "Philosopher Stones https://www.reddit.com/r/crypto/\n"
     ]
    },
    {
     "name": "stderr",
     "output_type": "stream",
     "text": [
      "\r",
      " 65%|████████████████████████████████████████████████▍                          | 869/1345 [3:25:31<1:38:28, 12.41s/it]"
     ]
    },
    {
     "name": "stdout",
     "output_type": "stream",
     "text": [
      "Aricoin https://www.reddit.com/r/aricoin/\n"
     ]
    },
    {
     "name": "stderr",
     "output_type": "stream",
     "text": [
      "\r",
      " 65%|████████████████████████████████████████████████▌                          | 870/1345 [3:25:43<1:35:58, 12.12s/it]"
     ]
    },
    {
     "name": "stdout",
     "output_type": "stream",
     "text": [
      "Franko https://www.reddit.com/r/Franko/\n"
     ]
    },
    {
     "name": "stderr",
     "output_type": "stream",
     "text": [
      "\r",
      " 65%|████████████████████████████████████████████████▌                          | 871/1345 [3:25:53<1:31:52, 11.63s/it]"
     ]
    },
    {
     "name": "stdout",
     "output_type": "stream",
     "text": [
      "RedCoin https://www.reddit.com/r/reddCoin/\n"
     ]
    },
    {
     "name": "stderr",
     "output_type": "stream",
     "text": [
      "\r",
      " 65%|████████████████████████████████████████████████▌                          | 872/1345 [3:26:04<1:30:03, 11.42s/it]"
     ]
    },
    {
     "name": "stdout",
     "output_type": "stream",
     "text": [
      "Grantcoin https://www.reddit.com/r/Grantcoin/\n"
     ]
    },
    {
     "name": "stderr",
     "output_type": "stream",
     "text": [
      "\r",
      " 65%|████████████████████████████████████████████████▋                          | 873/1345 [3:26:18<1:34:41, 12.04s/it]"
     ]
    },
    {
     "name": "stdout",
     "output_type": "stream",
     "text": [
      "MojoCoin https://www.reddit.com/r/CryptoCurrency/\n"
     ]
    },
    {
     "name": "stderr",
     "output_type": "stream",
     "text": [
      "\r",
      " 65%|████████████████████████████████████████████████▋                          | 874/1345 [3:26:28<1:31:04, 11.60s/it]"
     ]
    },
    {
     "name": "stdout",
     "output_type": "stream",
     "text": [
      "Eurocoin https://www.reddit.com/r/CryptoMarkets/\n"
     ]
    },
    {
     "name": "stderr",
     "output_type": "stream",
     "text": [
      "\r",
      " 65%|████████████████████████████████████████████████▊                          | 875/1345 [3:26:41<1:33:06, 11.89s/it]"
     ]
    },
    {
     "name": "stdout",
     "output_type": "stream",
     "text": [
      "HempCoin https://www.reddit.com/r/thehempcoin/\n"
     ]
    },
    {
     "name": "stderr",
     "output_type": "stream",
     "text": [
      "\r",
      " 65%|████████████████████████████████████████████████▊                          | 876/1345 [3:26:56<1:39:25, 12.72s/it]"
     ]
    },
    {
     "name": "stdout",
     "output_type": "stream",
     "text": [
      "Cypher https://www.reddit.com/r/Cypher/\n"
     ]
    },
    {
     "name": "stderr",
     "output_type": "stream",
     "text": [
      "\r",
      " 65%|████████████████████████████████████████████████▉                          | 877/1345 [3:27:06<1:34:35, 12.13s/it]"
     ]
    },
    {
     "name": "stdout",
     "output_type": "stream",
     "text": [
      "Independent Money System https://www.reddit.com/r/CryptoCurrency/comments/6omg3a/launch_of_the_independent_money_alliance_london_uk/\n"
     ]
    },
    {
     "name": "stderr",
     "output_type": "stream",
     "text": [
      "\r",
      " 65%|████████████████████████████████████████████████▉                          | 878/1345 [3:27:18<1:33:19, 11.99s/it]"
     ]
    },
    {
     "name": "stdout",
     "output_type": "stream",
     "text": [
      "RevolverCoin https://www.reddit.com/r/CryptoCurrency/\n"
     ]
    },
    {
     "name": "stderr",
     "output_type": "stream",
     "text": [
      "\r",
      " 65%|█████████████████████████████████████████████████                          | 879/1345 [3:27:31<1:34:15, 12.14s/it]"
     ]
    },
    {
     "name": "stdout",
     "output_type": "stream",
     "text": [
      "BumbaCoin https://www.reddit.com/r/BumbaCoin/\n"
     ]
    },
    {
     "name": "stderr",
     "output_type": "stream",
     "text": [
      "\r",
      " 65%|█████████████████████████████████████████████████                          | 880/1345 [3:27:41<1:30:08, 11.63s/it]"
     ]
    },
    {
     "name": "stdout",
     "output_type": "stream",
     "text": [
      "Acoin https://www.reddit.com/r/CryptoCurrency/comments/7djfkd/acoin/\n"
     ]
    },
    {
     "name": "stderr",
     "output_type": "stream",
     "text": [
      "\r",
      " 66%|█████████████████████████████████████████████████▏                         | 881/1345 [3:27:55<1:36:29, 12.48s/it]"
     ]
    },
    {
     "name": "stdout",
     "output_type": "stream",
     "text": [
      "Ripto Bux https://www.reddit.com/r/riptobux/\n"
     ]
    },
    {
     "name": "stderr",
     "output_type": "stream",
     "text": [
      "\r",
      " 66%|█████████████████████████████████████████████████▏                         | 882/1345 [3:28:07<1:33:53, 12.17s/it]"
     ]
    },
    {
     "name": "stdout",
     "output_type": "stream",
     "text": [
      "PX https://www.reddit.com/r/CryptoCurrency/\n"
     ]
    },
    {
     "name": "stderr",
     "output_type": "stream",
     "text": [
      "\r",
      " 66%|█████████████████████████████████████████████████▏                         | 883/1345 [3:28:18<1:32:06, 11.96s/it]"
     ]
    },
    {
     "name": "stdout",
     "output_type": "stream",
     "text": [
      "Ratecoin https://www.reddit.com/r/CryptoCurrency/\n"
     ]
    },
    {
     "name": "stderr",
     "output_type": "stream",
     "text": [
      "\r",
      " 66%|█████████████████████████████████████████████████▎                         | 884/1345 [3:28:30<1:31:12, 11.87s/it]"
     ]
    },
    {
     "name": "stdout",
     "output_type": "stream",
     "text": [
      "USDe https://www.reddit.com/r/USDe/\n"
     ]
    },
    {
     "name": "stderr",
     "output_type": "stream",
     "text": [
      "\r",
      " 66%|█████████████████████████████████████████████████▎                         | 885/1345 [3:29:42<3:48:28, 29.80s/it]"
     ]
    },
    {
     "name": "stdout",
     "output_type": "stream",
     "text": [
      "Dollarcoin https://www.reddit.com/r/CryptoCurrency/\n"
     ]
    },
    {
     "name": "stderr",
     "output_type": "stream",
     "text": [
      "\r",
      " 66%|█████████████████████████████████████████████████▍                         | 886/1345 [3:29:52<3:04:08, 24.07s/it]"
     ]
    },
    {
     "name": "stdout",
     "output_type": "stream",
     "text": [
      "Darsek https://www.reddit.com/r/crypto/\n"
     ]
    },
    {
     "name": "stderr",
     "output_type": "stream",
     "text": [
      "\r",
      " 66%|█████████████████████████████████████████████████▍                         | 887/1345 [3:30:04<2:34:57, 20.30s/it]"
     ]
    },
    {
     "name": "stdout",
     "output_type": "stream",
     "text": [
      "VirtualCoin https://www.reddit.com/r/CryptoCurrency/\n"
     ]
    },
    {
     "name": "stderr",
     "output_type": "stream",
     "text": [
      "\r",
      " 66%|█████████████████████████████████████████████████▌                         | 888/1345 [3:30:15<2:14:17, 17.63s/it]"
     ]
    },
    {
     "name": "stdout",
     "output_type": "stream",
     "text": [
      "Prime-XI https://www.reddit.com/r/CryptoCurrency/\n"
     ]
    },
    {
     "name": "stderr",
     "output_type": "stream",
     "text": [
      "\r",
      " 66%|█████████████████████████████████████████████████▌                         | 889/1345 [3:30:26<1:57:23, 15.45s/it]"
     ]
    },
    {
     "name": "stdout",
     "output_type": "stream",
     "text": [
      "Marscoin https://www.reddit.com/r/CryptoCurrency/\n"
     ]
    },
    {
     "name": "stderr",
     "output_type": "stream",
     "text": [
      "\r",
      " 66%|█████████████████████████████████████████████████▋                         | 890/1345 [3:30:38<1:49:58, 14.50s/it]"
     ]
    },
    {
     "name": "stdout",
     "output_type": "stream",
     "text": [
      "Bitcoin Planet https://www.reddit.com/r/CryptoCurrency/comments/7alco5/is_bitcoin_harming_the_planet/\n"
     ]
    },
    {
     "name": "stderr",
     "output_type": "stream",
     "text": [
      "\r",
      " 66%|█████████████████████████████████████████████████▋                         | 891/1345 [3:30:47<1:38:06, 12.96s/it]"
     ]
    },
    {
     "name": "stdout",
     "output_type": "stream",
     "text": [
      "AntiBitcoin https://www.reddit.com/r/crypto/\n"
     ]
    },
    {
     "name": "stderr",
     "output_type": "stream",
     "text": [
      "\r",
      " 66%|█████████████████████████████████████████████████▋                         | 892/1345 [3:30:58<1:32:24, 12.24s/it]"
     ]
    },
    {
     "name": "stdout",
     "output_type": "stream",
     "text": [
      "Firecoin https://www.reddit.com/r/Fire_Coin/\n"
     ]
    },
    {
     "name": "stderr",
     "output_type": "stream",
     "text": [
      "\r",
      " 66%|█████████████████████████████████████████████████▊                         | 893/1345 [3:31:12<1:37:08, 12.89s/it]"
     ]
    },
    {
     "name": "stdout",
     "output_type": "stream",
     "text": [
      "Hexx https://www.reddit.com/r/CryptoCurrency/\n"
     ]
    },
    {
     "name": "stderr",
     "output_type": "stream",
     "text": [
      "\r",
      " 66%|█████████████████████████████████████████████████▊                         | 894/1345 [3:31:24<1:33:20, 12.42s/it]"
     ]
    },
    {
     "name": "stdout",
     "output_type": "stream",
     "text": [
      "DROXNE https://www.reddit.com/r/crypto/\n"
     ]
    },
    {
     "name": "stderr",
     "output_type": "stream",
     "text": [
      "\r",
      " 67%|█████████████████████████████████████████████████▉                         | 895/1345 [3:31:37<1:36:17, 12.84s/it]"
     ]
    },
    {
     "name": "stdout",
     "output_type": "stream",
     "text": [
      "AquariusCoin https://www.reddit.com/r/crypto/\n"
     ]
    },
    {
     "name": "stderr",
     "output_type": "stream",
     "text": [
      "\r",
      " 67%|█████████████████████████████████████████████████▉                         | 896/1345 [3:31:57<1:50:58, 14.83s/it]"
     ]
    },
    {
     "name": "stdout",
     "output_type": "stream",
     "text": [
      "Unrealcoin https://www.reddit.com/r/CryptoCurrency/comments/7jegsn/this_is_unreal_ripple/\n"
     ]
    },
    {
     "name": "stderr",
     "output_type": "stream",
     "text": [
      "\r",
      " 67%|██████████████████████████████████████████████████                         | 897/1345 [3:32:09<1:43:55, 13.92s/it]"
     ]
    },
    {
     "name": "stdout",
     "output_type": "stream",
     "text": [
      "Dreamcoin https://www.reddit.com/r/CryptoCurrency/comments/25jeb0/dreamcoins_mining_phase_is_over_multipool/\n"
     ]
    },
    {
     "name": "stderr",
     "output_type": "stream",
     "text": [
      "\r",
      " 67%|██████████████████████████████████████████████████                         | 898/1345 [3:32:19<1:35:43, 12.85s/it]"
     ]
    },
    {
     "name": "stdout",
     "output_type": "stream",
     "text": [
      "Tattoocoin (Standard Edition) https://www.reddit.com/r/CryptoCurrency/comments/6vzyiy/just_name_some_coins/\n"
     ]
    },
    {
     "name": "stderr",
     "output_type": "stream",
     "text": [
      "\r",
      " 67%|██████████████████████████████████████████████████▏                        | 899/1345 [3:32:30<1:30:39, 12.20s/it]"
     ]
    },
    {
     "name": "stdout",
     "output_type": "stream",
     "text": [
      "BoostCoin https://www.reddit.com/r/Boostcoin/comments/271mbu/boostcoin_bost_cryptoshowcase_market/\n"
     ]
    },
    {
     "name": "stderr",
     "output_type": "stream",
     "text": [
      "\r",
      " 67%|██████████████████████████████████████████████████▏                        | 900/1345 [3:32:45<1:37:17, 13.12s/it]"
     ]
    },
    {
     "name": "stdout",
     "output_type": "stream",
     "text": [
      "GameUnits https://www.reddit.com/r/GameCreditsCrypto/\n"
     ]
    },
    {
     "name": "stderr",
     "output_type": "stream",
     "text": [
      "\r",
      " 67%|██████████████████████████████████████████████████▏                        | 901/1345 [3:32:58<1:35:54, 12.96s/it]"
     ]
    },
    {
     "name": "stdout",
     "output_type": "stream",
     "text": [
      "Bitz https://www.reddit.com/r/CryptoCurrency/comments/7bm3jf/bitz_exchange_to_list_ark_arkio/\n"
     ]
    },
    {
     "name": "stderr",
     "output_type": "stream",
     "text": [
      "\r",
      " 67%|██████████████████████████████████████████████████▎                        | 902/1345 [3:33:11<1:36:03, 13.01s/it]"
     ]
    },
    {
     "name": "stdout",
     "output_type": "stream",
     "text": [
      "Sling https://www.reddit.com/r/slingtv/\n"
     ]
    },
    {
     "name": "stderr",
     "output_type": "stream",
     "text": [
      "\r",
      " 67%|██████████████████████████████████████████████████▎                        | 903/1345 [3:33:25<1:39:01, 13.44s/it]"
     ]
    },
    {
     "name": "stdout",
     "output_type": "stream",
     "text": [
      "Ammo Rewards https://www.reddit.com/r/ammorewards/\n"
     ]
    },
    {
     "name": "stderr",
     "output_type": "stream",
     "text": [
      "\r",
      " 67%|██████████████████████████████████████████████████▍                        | 904/1345 [3:33:40<1:41:27, 13.80s/it]"
     ]
    },
    {
     "name": "stdout",
     "output_type": "stream",
     "text": [
      "SixEleven https://www.reddit.com/r/CryptoCurrency/\n"
     ]
    },
    {
     "name": "stderr",
     "output_type": "stream",
     "text": [
      "\r",
      " 67%|██████████████████████████████████████████████████▍                        | 905/1345 [3:33:51<1:35:59, 13.09s/it]"
     ]
    },
    {
     "name": "stdout",
     "output_type": "stream",
     "text": [
      "GanjaCoin https://www.reddit.com/r/CryptoCurrency/\n"
     ]
    },
    {
     "name": "stderr",
     "output_type": "stream",
     "text": [
      "\r",
      " 67%|██████████████████████████████████████████████████▌                        | 906/1345 [3:34:03<1:32:56, 12.70s/it]"
     ]
    },
    {
     "name": "stdout",
     "output_type": "stream",
     "text": [
      "Printerium https://www.reddit.com/r/CryptoCurrency/\n"
     ]
    },
    {
     "name": "stderr",
     "output_type": "stream",
     "text": [
      "\r",
      " 67%|██████████████████████████████████████████████████▌                        | 907/1345 [3:34:14<1:30:07, 12.35s/it]"
     ]
    },
    {
     "name": "stdout",
     "output_type": "stream",
     "text": [
      "CageCoin https://www.reddit.com/r/Cagecoin/\n"
     ]
    },
    {
     "name": "stderr",
     "output_type": "stream",
     "text": [
      "\r",
      " 68%|██████████████████████████████████████████████████▋                        | 908/1345 [3:34:29<1:34:37, 12.99s/it]"
     ]
    },
    {
     "name": "stdout",
     "output_type": "stream",
     "text": [
      "Allion https://www.reddit.com/r/crypto/\n"
     ]
    },
    {
     "name": "stderr",
     "output_type": "stream",
     "text": [
      "\r",
      " 68%|██████████████████████████████████████████████████▋                        | 909/1345 [3:34:40<1:31:07, 12.54s/it]"
     ]
    },
    {
     "name": "stdout",
     "output_type": "stream",
     "text": [
      "AmberCoin https://www.reddit.com/r/Crypto_Currency_News/comments/72qbx5/ambercoin_the_initial_cryptocurrency/\n"
     ]
    },
    {
     "name": "stderr",
     "output_type": "stream",
     "text": [
      "\r",
      " 68%|██████████████████████████████████████████████████▋                        | 910/1345 [3:34:53<1:31:09, 12.57s/it]"
     ]
    },
    {
     "name": "stdout",
     "output_type": "stream",
     "text": [
      "Jin Coin https://www.reddit.com/r/CryptoCurrency/\n"
     ]
    },
    {
     "name": "stderr",
     "output_type": "stream",
     "text": [
      "\r",
      " 68%|██████████████████████████████████████████████████▊                        | 911/1345 [3:35:05<1:30:16, 12.48s/it]"
     ]
    },
    {
     "name": "stdout",
     "output_type": "stream",
     "text": [
      "EMoneyPower https://www.reddit.com/r/CryptoCurrency/\n"
     ]
    },
    {
     "name": "stderr",
     "output_type": "stream",
     "text": [
      "\r",
      " 68%|██████████████████████████████████████████████████▊                        | 912/1345 [3:35:17<1:28:07, 12.21s/it]"
     ]
    },
    {
     "name": "stdout",
     "output_type": "stream",
     "text": [
      "Slimcoin https://www.reddit.com/r/slimcoin/comments/2oh68i/hello_im_completely_new_to_cryptocurrencies_and/\n"
     ]
    },
    {
     "name": "stderr",
     "output_type": "stream",
     "text": [
      "\r",
      " 68%|██████████████████████████████████████████████████▉                        | 913/1345 [3:36:28<3:34:41, 29.82s/it]"
     ]
    },
    {
     "name": "stdout",
     "output_type": "stream",
     "text": [
      "MustangCoin https://www.reddit.com/r/CryptoCurrency/\n"
     ]
    },
    {
     "name": "stderr",
     "output_type": "stream",
     "text": [
      "\r",
      " 68%|██████████████████████████████████████████████████▉                        | 914/1345 [3:36:39<2:53:18, 24.13s/it]"
     ]
    },
    {
     "name": "stdout",
     "output_type": "stream",
     "text": [
      "SecretCoin https://www.reddit.com/r/CryptoCurrency/comments/7i75zk/post_your_secret_underdog_coin/\n"
     ]
    },
    {
     "name": "stderr",
     "output_type": "stream",
     "text": [
      "\r",
      " 68%|███████████████████████████████████████████████████                        | 915/1345 [3:36:50<2:26:00, 20.37s/it]"
     ]
    },
    {
     "name": "stdout",
     "output_type": "stream",
     "text": [
      "Uro https://www.reddit.com/r/CryptoCurrency/\n"
     ]
    },
    {
     "name": "stderr",
     "output_type": "stream",
     "text": [
      "\r",
      " 68%|███████████████████████████████████████████████████                        | 916/1345 [3:37:04<2:10:38, 18.27s/it]"
     ]
    },
    {
     "name": "stdout",
     "output_type": "stream",
     "text": [
      "VectorAI https://www.reddit.com/r/crypto/\n"
     ]
    },
    {
     "name": "stderr",
     "output_type": "stream",
     "text": [
      "\r",
      " 68%|███████████████████████████████████████████████████▏                       | 917/1345 [3:37:14<1:53:18, 15.88s/it]"
     ]
    },
    {
     "name": "stdout",
     "output_type": "stream",
     "text": [
      "Californium https://www.reddit.com/r/CryptoCurrency/\n"
     ]
    },
    {
     "name": "stderr",
     "output_type": "stream",
     "text": [
      "\r",
      " 68%|███████████████████████████████████████████████████▏                       | 918/1345 [3:37:28<1:48:56, 15.31s/it]"
     ]
    },
    {
     "name": "stdout",
     "output_type": "stream",
     "text": [
      "RonPaulCoin https://www.reddit.com/r/Bitcoin/comments/1vbbxn/ron_paul_comments_on_bitcoin_ronpaulcoin_and/\n"
     ]
    },
    {
     "name": "stderr",
     "output_type": "stream",
     "text": [
      "\r",
      " 68%|███████████████████████████████████████████████████▏                       | 919/1345 [3:37:42<1:45:35, 14.87s/it]"
     ]
    },
    {
     "name": "stdout",
     "output_type": "stream",
     "text": [
      "BitAsean https://www.reddit.com/r/CryptoMarkets/comments/6v4wy6/thoughts_on_bitasean_bas_low_supply/\n"
     ]
    },
    {
     "name": "stderr",
     "output_type": "stream",
     "text": [
      "\r",
      " 68%|███████████████████████████████████████████████████▎                       | 920/1345 [3:37:54<1:40:02, 14.12s/it]"
     ]
    },
    {
     "name": "stdout",
     "output_type": "stream",
     "text": [
      "ARbit https://www.reddit.com/r/CryptoCurrency/\n"
     ]
    },
    {
     "name": "stderr",
     "output_type": "stream",
     "text": [
      "\r",
      " 68%|███████████████████████████████████████████████████▎                       | 921/1345 [3:38:06<1:34:09, 13.32s/it]"
     ]
    },
    {
     "name": "stdout",
     "output_type": "stream",
     "text": [
      "GuccioneCoin https://www.reddit.com/r/CryptoCurrency/comments/3h5yq8/ann_nicholas_guccione_son_of_penthouse_magazine/\n"
     ]
    },
    {
     "name": "stderr",
     "output_type": "stream",
     "text": [
      "\r",
      " 69%|███████████████████████████████████████████████████▍                       | 922/1345 [3:38:17<1:29:51, 12.75s/it]"
     ]
    },
    {
     "name": "stdout",
     "output_type": "stream",
     "text": [
      "Blackstar https://www.reddit.com/r/Bitcoin/comments/5nitsp/bowie_blackstarbitcoin/\n"
     ]
    },
    {
     "name": "stderr",
     "output_type": "stream",
     "text": [
      "\r",
      " 69%|███████████████████████████████████████████████████▍                       | 923/1345 [3:38:28<1:24:51, 12.06s/it]"
     ]
    },
    {
     "name": "stdout",
     "output_type": "stream",
     "text": [
      "ICOBID https://www.reddit.com/r/Unobtanium/\n"
     ]
    },
    {
     "name": "stderr",
     "output_type": "stream",
     "text": [
      "\r",
      " 69%|███████████████████████████████████████████████████▌                       | 924/1345 [3:38:41<1:27:20, 12.45s/it]"
     ]
    },
    {
     "name": "stdout",
     "output_type": "stream",
     "text": [
      "IslaCoin https://www.reddit.com/r/CryptoCurrency/\n"
     ]
    },
    {
     "name": "stderr",
     "output_type": "stream",
     "text": [
      "\r",
      " 69%|███████████████████████████████████████████████████▌                       | 925/1345 [3:38:52<1:24:55, 12.13s/it]"
     ]
    },
    {
     "name": "stdout",
     "output_type": "stream",
     "text": [
      "QuazarCoin https://www.reddit.com/r/QuazarCoin/\n"
     ]
    },
    {
     "name": "stderr",
     "output_type": "stream",
     "text": [
      "\r",
      " 69%|███████████████████████████████████████████████████▋                       | 926/1345 [3:39:02<1:19:22, 11.37s/it]"
     ]
    },
    {
     "name": "stdout",
     "output_type": "stream",
     "text": [
      "MindCoin https://www.reddit.com/r/CryptoCurrency/\n"
     ]
    },
    {
     "name": "stderr",
     "output_type": "stream",
     "text": [
      "\r",
      " 69%|███████████████████████████████████████████████████▋                       | 927/1345 [3:39:15<1:23:27, 11.98s/it]"
     ]
    },
    {
     "name": "stdout",
     "output_type": "stream",
     "text": [
      "Spots https://www.reddit.com/r/CryptoCurrency/\n"
     ]
    },
    {
     "name": "stderr",
     "output_type": "stream",
     "text": [
      "\r",
      " 69%|███████████████████████████████████████████████████▋                       | 928/1345 [3:39:29<1:26:50, 12.49s/it]"
     ]
    },
    {
     "name": "stdout",
     "output_type": "stream",
     "text": [
      "WARP https://www.reddit.com/r/CryptoCurrency/comments/6ky5bj/i_made_ripplewarpwallet_a_version_of_warpwallet/\n"
     ]
    },
    {
     "name": "stderr",
     "output_type": "stream",
     "text": [
      "\r",
      " 69%|███████████████████████████████████████████████████▊                       | 929/1345 [3:39:39<1:22:06, 11.84s/it]"
     ]
    },
    {
     "name": "stdout",
     "output_type": "stream",
     "text": [
      "Asiadigicoin https://www.reddit.com/r/Asiadigicoin/\n"
     ]
    },
    {
     "name": "stderr",
     "output_type": "stream",
     "text": [
      "\r",
      " 69%|███████████████████████████████████████████████████▊                       | 930/1345 [3:39:53<1:25:36, 12.38s/it]"
     ]
    },
    {
     "name": "stdout",
     "output_type": "stream",
     "text": [
      "BeaverCoin https://www.reddit.com/r/crypto/\n"
     ]
    },
    {
     "name": "stderr",
     "output_type": "stream",
     "text": [
      "\r",
      " 69%|███████████████████████████████████████████████████▉                       | 931/1345 [3:40:05<1:25:35, 12.40s/it]"
     ]
    },
    {
     "name": "stdout",
     "output_type": "stream",
     "text": [
      "PIECoin https://www.reddit.com/r/vertcoin/\n"
     ]
    },
    {
     "name": "stderr",
     "output_type": "stream",
     "text": [
      "\r",
      " 69%|███████████████████████████████████████████████████▉                       | 932/1345 [3:40:18<1:25:57, 12.49s/it]"
     ]
    },
    {
     "name": "stdout",
     "output_type": "stream",
     "text": [
      "BitQuark https://www.reddit.com/r/BitQuark/\n"
     ]
    },
    {
     "name": "stderr",
     "output_type": "stream",
     "text": [
      "\r",
      " 69%|████████████████████████████████████████████████████                       | 933/1345 [3:40:31<1:26:29, 12.60s/it]"
     ]
    },
    {
     "name": "stdout",
     "output_type": "stream",
     "text": [
      "Gold Pressed Latinum https://www.reddit.com/r/greatestgen/comments/79cqh1/gold_pressed_latinum/\n"
     ]
    },
    {
     "name": "stderr",
     "output_type": "stream",
     "text": [
      "\r",
      " 69%|████████████████████████████████████████████████████                       | 934/1345 [3:40:41<1:20:05, 11.69s/it]"
     ]
    },
    {
     "name": "stdout",
     "output_type": "stream",
     "text": [
      "BillaryCoin https://www.reddit.com/r/CryptoCurrency/comments/4r2uqs/billarycoin_the_future_of_voting/\n"
     ]
    },
    {
     "name": "stderr",
     "output_type": "stream",
     "text": [
      "\r",
      " 70%|████████████████████████████████████████████████████▏                      | 935/1345 [3:40:57<1:28:53, 13.01s/it]"
     ]
    },
    {
     "name": "stdout",
     "output_type": "stream",
     "text": [
      "Theresa May Coin https://www.reddit.com/r/CryptoCurrency/comments/6vzyiy/just_name_some_coins/\n"
     ]
    },
    {
     "name": "stderr",
     "output_type": "stream",
     "text": [
      "\r",
      " 70%|████████████████████████████████████████████████████▏                      | 936/1345 [3:41:07<1:23:31, 12.25s/it]"
     ]
    },
    {
     "name": "stdout",
     "output_type": "stream",
     "text": [
      "Digital Rupees https://www.reddit.com/r/CryptoCurrency/\n"
     ]
    },
    {
     "name": "stderr",
     "output_type": "stream",
     "text": [
      "\r",
      " 70%|████████████████████████████████████████████████████▏                      | 937/1345 [3:41:18<1:19:46, 11.73s/it]"
     ]
    },
    {
     "name": "stdout",
     "output_type": "stream",
     "text": [
      "300 Token https://www.reddit.com/r/CryptoCurrency/comments/6qg0gy/300_token_prepare_for_glory/\n"
     ]
    },
    {
     "name": "stderr",
     "output_type": "stream",
     "text": [
      "\r",
      " 70%|████████████████████████████████████████████████████▎                      | 938/1345 [3:41:28<1:16:59, 11.35s/it]"
     ]
    },
    {
     "name": "stdout",
     "output_type": "stream",
     "text": [
      "BenjiRolls https://www.reddit.com/r/CryptoCurrency/\n"
     ]
    },
    {
     "name": "stderr",
     "output_type": "stream",
     "text": [
      "\r",
      " 70%|████████████████████████████████████████████████████▎                      | 939/1345 [3:41:43<1:23:47, 12.38s/it]"
     ]
    },
    {
     "name": "stdout",
     "output_type": "stream",
     "text": [
      "Metal Music Coin https://www.reddit.com/r/CryptoCurrency/\n"
     ]
    },
    {
     "name": "stderr",
     "output_type": "stream",
     "text": [
      "\r",
      " 70%|████████████████████████████████████████████████████▍                      | 940/1345 [3:41:58<1:28:38, 13.13s/it]"
     ]
    },
    {
     "name": "stdout",
     "output_type": "stream",
     "text": [
      "Jewels https://www.reddit.com/r/crypto/\n"
     ]
    },
    {
     "name": "stderr",
     "output_type": "stream",
     "text": [
      "\r",
      " 70%|████████████████████████████████████████████████████▍                      | 941/1345 [3:43:05<3:18:29, 29.48s/it]"
     ]
    },
    {
     "name": "stdout",
     "output_type": "stream",
     "text": [
      "VoteCoin https://www.reddit.com/r/Bitcoin/comments/1gtv7j/votecoin_a_cryptography_based_voting_system_that/\n"
     ]
    },
    {
     "name": "stderr",
     "output_type": "stream",
     "text": [
      "\r",
      " 70%|████████████████████████████████████████████████████▌                      | 942/1345 [3:43:19<2:45:38, 24.66s/it]"
     ]
    },
    {
     "name": "stdout",
     "output_type": "stream",
     "text": [
      "Orlycoin https://www.reddit.com/r/CryptoCurrency/\n"
     ]
    },
    {
     "name": "stderr",
     "output_type": "stream",
     "text": [
      "\r",
      " 70%|████████████████████████████████████████████████████▌                      | 943/1345 [3:43:29<2:16:42, 20.41s/it]"
     ]
    },
    {
     "name": "stdout",
     "output_type": "stream",
     "text": [
      "Coinonat https://www.reddit.com/r/CryptoCurrency/\n"
     ]
    },
    {
     "name": "stderr",
     "output_type": "stream",
     "text": [
      "\r",
      " 70%|████████████████████████████████████████████████████▋                      | 944/1345 [3:43:44<2:04:25, 18.62s/it]"
     ]
    },
    {
     "name": "stdout",
     "output_type": "stream",
     "text": [
      "Artex Coin https://www.reddit.com/r/CryptoCurrency/\n"
     ]
    },
    {
     "name": "stderr",
     "output_type": "stream",
     "text": [
      "\r",
      " 70%|████████████████████████████████████████████████████▋                      | 945/1345 [3:43:53<1:45:43, 15.86s/it]"
     ]
    },
    {
     "name": "stdout",
     "output_type": "stream",
     "text": [
      "Flaxscript https://www.reddit.com/r/flaxscript/\n"
     ]
    },
    {
     "name": "stderr",
     "output_type": "stream",
     "text": [
      "\r",
      " 70%|████████████████████████████████████████████████████▊                      | 946/1345 [3:44:05<1:38:25, 14.80s/it]"
     ]
    },
    {
     "name": "stdout",
     "output_type": "stream",
     "text": [
      "MACRON https://www.reddit.com/r/LateStageCapitalism/comments/7g5hb5/macron_tells_a_refugee_you_have_to_go_back_to/\n"
     ]
    },
    {
     "name": "stderr",
     "output_type": "stream",
     "text": [
      "\r",
      " 70%|████████████████████████████████████████████████████▊                      | 947/1345 [3:44:19<1:35:47, 14.44s/it]"
     ]
    },
    {
     "name": "stdout",
     "output_type": "stream",
     "text": [
      "BowsCoin https://www.reddit.com/r/CryptoCurrency/\n"
     ]
    },
    {
     "name": "stderr",
     "output_type": "stream",
     "text": [
      "\r",
      " 70%|████████████████████████████████████████████████████▊                      | 948/1345 [3:44:33<1:34:35, 14.29s/it]"
     ]
    },
    {
     "name": "stdout",
     "output_type": "stream",
     "text": [
      "CRTCoin https://www.reddit.com/r/crypto/\n"
     ]
    },
    {
     "name": "stderr",
     "output_type": "stream",
     "text": [
      "\r",
      " 71%|████████████████████████████████████████████████████▉                      | 949/1345 [3:44:42<1:24:12, 12.76s/it]"
     ]
    },
    {
     "name": "stdout",
     "output_type": "stream",
     "text": [
      "Rimbit https://www.reddit.com/r/CryptoCurrency/\n"
     ]
    },
    {
     "name": "stderr",
     "output_type": "stream",
     "text": [
      "\r",
      " 71%|████████████████████████████████████████████████████▉                      | 950/1345 [3:44:57<1:27:17, 13.26s/it]"
     ]
    },
    {
     "name": "stdout",
     "output_type": "stream",
     "text": [
      "Iconic https://www.reddit.com/r/CryptoCurrency/comments/71r3rx/i_believe_iconic_icon_is_a_scam_heres_why/\n"
     ]
    },
    {
     "name": "stderr",
     "output_type": "stream",
     "text": [
      "\r",
      " 71%|█████████████████████████████████████████████████████                      | 951/1345 [3:45:07<1:21:30, 12.41s/it]"
     ]
    },
    {
     "name": "stdout",
     "output_type": "stream",
     "text": [
      "Torcoin https://www.reddit.com/r/CryptoCurrency/comments/66f41c/torcoin_new_x11_with_tor_integration/\n"
     ]
    },
    {
     "name": "stderr",
     "output_type": "stream",
     "text": [
      "\r",
      " 71%|█████████████████████████████████████████████████████                      | 952/1345 [3:45:20<1:21:55, 12.51s/it]"
     ]
    },
    {
     "name": "stdout",
     "output_type": "stream",
     "text": [
      "OsmiumCoin https://www.reddit.com/r/CryptoCurrency/\n"
     ]
    },
    {
     "name": "stderr",
     "output_type": "stream",
     "text": [
      "\r",
      " 71%|█████████████████████████████████████████████████████▏                     | 953/1345 [3:45:34<1:25:02, 13.02s/it]"
     ]
    },
    {
     "name": "stdout",
     "output_type": "stream",
     "text": [
      "KibiCoin https://www.reddit.com/r/KibiCoin/\n"
     ]
    },
    {
     "name": "stderr",
     "output_type": "stream",
     "text": [
      "\r",
      " 71%|█████████████████████████████████████████████████████▏                     | 954/1345 [3:45:48<1:27:12, 13.38s/it]"
     ]
    },
    {
     "name": "stdout",
     "output_type": "stream",
     "text": [
      "Cthulhu Offerings https://www.reddit.com/r/CryptoCurrency/\n"
     ]
    },
    {
     "name": "stderr",
     "output_type": "stream",
     "text": [
      "\r",
      " 71%|█████████████████████████████████████████████████████▎                     | 955/1345 [3:46:01<1:25:15, 13.12s/it]"
     ]
    },
    {
     "name": "stdout",
     "output_type": "stream",
     "text": [
      "TAGRcoin https://www.reddit.com/r/CryptoCurrency/\n"
     ]
    },
    {
     "name": "stderr",
     "output_type": "stream",
     "text": [
      "\r",
      " 71%|█████████████████████████████████████████████████████▎                     | 956/1345 [3:46:13<1:23:40, 12.91s/it]"
     ]
    },
    {
     "name": "stdout",
     "output_type": "stream",
     "text": [
      "HealthyWormCoin https://www.reddit.com/r/CryptoTrade/comments/6kxa1l/wtb_healthywormcoin_10_paypal35k_worm/\n"
     ]
    },
    {
     "name": "stderr",
     "output_type": "stream",
     "text": [
      "\r",
      " 71%|█████████████████████████████████████████████████████▎                     | 957/1345 [3:46:26<1:22:37, 12.78s/it]"
     ]
    },
    {
     "name": "stdout",
     "output_type": "stream",
     "text": [
      "VIP Tokens https://www.reddit.com/r/CryptoCurrency/\n"
     ]
    },
    {
     "name": "stderr",
     "output_type": "stream",
     "text": [
      "\r",
      " 71%|█████████████████████████████████████████████████████▍                     | 958/1345 [3:46:35<1:15:59, 11.78s/it]"
     ]
    },
    {
     "name": "stdout",
     "output_type": "stream",
     "text": [
      "SongCoin https://www.reddit.com/r/CryptoCurrency/comments/2h60f9/will_songcoin_revolutionize_the_music_industry/\n"
     ]
    },
    {
     "name": "stderr",
     "output_type": "stream",
     "text": [
      "\r",
      " 71%|█████████████████████████████████████████████████████▍                     | 959/1345 [3:46:50<1:22:40, 12.85s/it]"
     ]
    },
    {
     "name": "stdout",
     "output_type": "stream",
     "text": [
      "ImpulseCoin https://www.reddit.com/r/litecoin/\n"
     ]
    },
    {
     "name": "stderr",
     "output_type": "stream",
     "text": [
      "\r",
      " 71%|█████████████████████████████████████████████████████▌                     | 960/1345 [3:47:02<1:19:56, 12.46s/it]"
     ]
    },
    {
     "name": "stdout",
     "output_type": "stream",
     "text": [
      "Pulse https://www.reddit.com/r/CryptoCurrency/comments/7isqzv/red_pulse_is_partnering_with_bloomberg_and_18/\n"
     ]
    },
    {
     "name": "stderr",
     "output_type": "stream",
     "text": [
      "\r",
      " 71%|█████████████████████████████████████████████████████▌                     | 961/1345 [3:47:11<1:14:06, 11.58s/it]"
     ]
    },
    {
     "name": "stdout",
     "output_type": "stream",
     "text": [
      "eREAL https://www.reddit.com/r/CryptoCurrency/\n"
     ]
    },
    {
     "name": "stderr",
     "output_type": "stream",
     "text": [
      "\r",
      " 72%|█████████████████████████████████████████████████████▋                     | 962/1345 [3:47:26<1:19:59, 12.53s/it]"
     ]
    },
    {
     "name": "stdout",
     "output_type": "stream",
     "text": [
      "FuzzBalls https://www.reddit.com/r/CryptoCurrency/\n"
     ]
    },
    {
     "name": "stderr",
     "output_type": "stream",
     "text": [
      "\r",
      " 72%|█████████████████████████████████████████████████████▋                     | 963/1345 [3:47:40<1:21:47, 12.85s/it]"
     ]
    },
    {
     "name": "stdout",
     "output_type": "stream",
     "text": [
      "CryptoWorldX Token https://www.reddit.com/r/CryptoCurrency/\n"
     ]
    },
    {
     "name": "stderr",
     "output_type": "stream",
     "text": [
      "\r",
      " 72%|█████████████████████████████████████████████████████▊                     | 964/1345 [3:47:51<1:18:49, 12.41s/it]"
     ]
    },
    {
     "name": "stdout",
     "output_type": "stream",
     "text": [
      "PonziCoin https://www.reddit.com/r/CryptoCurrency/comments/6mmxgl/we_should_talk_about_ponzicoin_its_in_the_name/\n"
     ]
    },
    {
     "name": "stderr",
     "output_type": "stream",
     "text": [
      "\r",
      " 72%|█████████████████████████████████████████████████████▊                     | 965/1345 [3:48:02<1:14:54, 11.83s/it]"
     ]
    },
    {
     "name": "stdout",
     "output_type": "stream",
     "text": [
      "CryptoEscudo https://www.reddit.com/r/cryptoescudo/\n"
     ]
    },
    {
     "name": "stderr",
     "output_type": "stream",
     "text": [
      "\r",
      " 72%|█████████████████████████████████████████████████████▊                     | 966/1345 [3:48:15<1:17:31, 12.27s/it]"
     ]
    },
    {
     "name": "stdout",
     "output_type": "stream",
     "text": [
      "CoExistCoin https://www.reddit.com/r/CryptoCurrency/comments/4k4h9r/coexist_coin_coxst_powpos_the_fight_to_help_the/\n"
     ]
    },
    {
     "name": "stderr",
     "output_type": "stream",
     "text": [
      "\r",
      " 72%|█████████████████████████████████████████████████████▉                     | 967/1345 [3:48:30<1:21:45, 12.98s/it]"
     ]
    },
    {
     "name": "stdout",
     "output_type": "stream",
     "text": [
      "G3N https://www.reddit.com/r/CryptoCurrency/\n"
     ]
    },
    {
     "name": "stderr",
     "output_type": "stream",
     "text": [
      "\r",
      " 72%|█████████████████████████████████████████████████████▉                     | 968/1345 [3:48:40<1:16:49, 12.23s/it]"
     ]
    },
    {
     "name": "stdout",
     "output_type": "stream",
     "text": [
      "Zayedcoin https://www.reddit.com/r/CryptoCurrency/comments/5247hm/another_great_coin_from_dubai_zayedcoin_digital/\n"
     ]
    },
    {
     "name": "stderr",
     "output_type": "stream",
     "text": [
      "\r",
      " 72%|██████████████████████████████████████████████████████                     | 969/1345 [3:48:52<1:15:41, 12.08s/it]"
     ]
    },
    {
     "name": "stdout",
     "output_type": "stream",
     "text": [
      "BOAT https://www.reddit.com/r/CryptoCurrency/comments/6i5ulb/have_i_missed_the_boat/\n"
     ]
    },
    {
     "name": "stderr",
     "output_type": "stream",
     "text": [
      " 74%|███████████████████████████████████████████████████████▎                   | 992/1345 [4:11:56<1:04:19, 10.93s/it]"
     ]
    },
    {
     "name": "stdout",
     "output_type": "stream",
     "text": [
      "Corethum https://www.reddit.com/r/CryptoCurrency/\n"
     ]
    },
    {
     "name": "stderr",
     "output_type": "stream",
     "text": [
      "\r",
      " 74%|███████████████████████████████████████████████████████▎                   | 993/1345 [4:12:22<1:30:48, 15.48s/it]"
     ]
    },
    {
     "name": "stdout",
     "output_type": "stream",
     "text": [
      "CHNCoin https://www.reddit.com/r/CHNCoin/\n"
     ]
    },
    {
     "name": "stderr",
     "output_type": "stream",
     "text": [
      "\r",
      " 74%|███████████████████████████████████████████████████████▍                   | 994/1345 [4:12:34<1:23:48, 14.33s/it]"
     ]
    },
    {
     "name": "stdout",
     "output_type": "stream",
     "text": [
      "BRAT https://www.reddit.com/r/CryptoCurrency/comments/7e3gqt/a_bunch_of_spoiled_brats/\n"
     ]
    },
    {
     "name": "stderr",
     "output_type": "stream",
     "text": [
      "\r",
      " 74%|███████████████████████████████████████████████████████▍                   | 995/1345 [4:12:43<1:15:28, 12.94s/it]"
     ]
    },
    {
     "name": "stdout",
     "output_type": "stream",
     "text": [
      "Xonecoin https://www.reddit.com/r/CryptoCurrency/\n"
     ]
    },
    {
     "name": "stderr",
     "output_type": "stream",
     "text": [
      "\r",
      " 74%|███████████████████████████████████████████████████████▌                   | 996/1345 [4:12:57<1:16:10, 13.10s/it]"
     ]
    },
    {
     "name": "stdout",
     "output_type": "stream",
     "text": [
      "PLNcoin https://www.reddit.com/r/CryptoCurrency/\n"
     ]
    },
    {
     "name": "stderr",
     "output_type": "stream",
     "text": [
      "\r",
      " 74%|███████████████████████████████████████████████████████▌                   | 997/1345 [4:13:10<1:15:32, 13.02s/it]"
     ]
    },
    {
     "name": "stdout",
     "output_type": "stream",
     "text": [
      "Grimcoin https://www.reddit.com/r/CryptoCurrency/\n"
     ]
    },
    {
     "name": "stderr",
     "output_type": "stream",
     "text": [
      "\r",
      " 74%|███████████████████████████████████████████████████████▋                   | 998/1345 [4:13:23<1:16:44, 13.27s/it]"
     ]
    },
    {
     "name": "stdout",
     "output_type": "stream",
     "text": [
      "Zonecoin https://www.reddit.com/r/zonecoin/\n"
     ]
    },
    {
     "name": "stderr",
     "output_type": "stream",
     "text": [
      "\r",
      " 74%|███████████████████████████████████████████████████████▋                   | 999/1345 [4:13:35<1:14:09, 12.86s/it]"
     ]
    },
    {
     "name": "stdout",
     "output_type": "stream",
     "text": [
      "JavaScript Token https://www.reddit.com/r/CryptoMarkets/\n"
     ]
    },
    {
     "name": "stderr",
     "output_type": "stream",
     "text": [
      "\r",
      " 74%|███████████████████████████████████████████████████████                   | 1000/1345 [4:13:49<1:15:22, 13.11s/it]"
     ]
    },
    {
     "name": "stdout",
     "output_type": "stream",
     "text": [
      "Destiny https://www.reddit.com/r/DestinyTheGame/comments/54uogf/spoiler_datto_just_solved_the_monitor_puzzle/\n"
     ]
    },
    {
     "name": "stderr",
     "output_type": "stream",
     "text": [
      "\r",
      " 74%|███████████████████████████████████████████████████████                   | 1001/1345 [4:14:03<1:16:06, 13.27s/it]"
     ]
    },
    {
     "name": "stdout",
     "output_type": "stream",
     "text": [
      "Wild Beast Block https://www.reddit.com/r/CryptoCurrency/comments/6vzyiy/just_name_some_coins/\n"
     ]
    },
    {
     "name": "stderr",
     "output_type": "stream",
     "text": [
      "\r",
      " 74%|███████████████████████████████████████████████████████▏                  | 1002/1345 [4:14:17<1:17:53, 13.63s/it]"
     ]
    },
    {
     "name": "stdout",
     "output_type": "stream",
     "text": [
      "Antilitecoin https://www.reddit.com/r/crypto/\n"
     ]
    },
    {
     "name": "stderr",
     "output_type": "stream",
     "text": [
      "\r",
      " 75%|███████████████████████████████████████████████████████▏                  | 1003/1345 [4:15:05<2:16:37, 23.97s/it]"
     ]
    },
    {
     "name": "stdout",
     "output_type": "stream",
     "text": [
      "Dollar Online https://www.reddit.com/r/CryptoCurrency/\n"
     ]
    },
    {
     "name": "stderr",
     "output_type": "stream",
     "text": [
      "\r",
      " 75%|███████████████████████████████████████████████████████▏                  | 1004/1345 [4:16:01<3:10:18, 33.49s/it]"
     ]
    },
    {
     "name": "stdout",
     "output_type": "stream",
     "text": [
      "Dix Asset https://www.reddit.com/r/CryptoCurrency/\n"
     ]
    },
    {
     "name": "stderr",
     "output_type": "stream",
     "text": [
      "\r",
      " 75%|███████████████████████████████████████████████████████▎                  | 1005/1345 [4:16:13<2:33:21, 27.06s/it]"
     ]
    },
    {
     "name": "stdout",
     "output_type": "stream",
     "text": [
      "Qibuck Asset https://www.reddit.com/r/CryptoCurrency/comments/6vzyiy/just_name_some_coins/\n"
     ]
    },
    {
     "name": "stderr",
     "output_type": "stream",
     "text": [
      "\r",
      " 75%|███████████████████████████████████████████████████████▎                  | 1006/1345 [4:16:27<2:11:02, 23.19s/it]"
     ]
    },
    {
     "name": "stdout",
     "output_type": "stream",
     "text": [
      "RSGPcoin https://www.reddit.com/r/crypto/\n"
     ]
    },
    {
     "name": "stderr",
     "output_type": "stream",
     "text": [
      "\r",
      " 75%|███████████████████████████████████████████████████████▍                  | 1007/1345 [4:16:41<1:54:36, 20.34s/it]"
     ]
    },
    {
     "name": "stdout",
     "output_type": "stream",
     "text": [
      "Selfiecoin https://www.reddit.com/r/CryptoCurrency/\n"
     ]
    },
    {
     "name": "stderr",
     "output_type": "stream",
     "text": [
      "\r",
      " 75%|███████████████████████████████████████████████████████▍                  | 1008/1345 [4:17:00<1:51:51, 19.92s/it]"
     ]
    },
    {
     "name": "stdout",
     "output_type": "stream",
     "text": [
      "JobsCoin https://www.reddit.com/r/CryptoCurrency/\n"
     ]
    },
    {
     "name": "stderr",
     "output_type": "stream",
     "text": [
      "\r",
      " 75%|███████████████████████████████████████████████████████▌                  | 1009/1345 [4:17:20<1:51:32, 19.92s/it]"
     ]
    },
    {
     "name": "stdout",
     "output_type": "stream",
     "text": [
      "P7Coin https://www.reddit.com/r/CryptoCurrency/\n"
     ]
    },
    {
     "name": "stderr",
     "output_type": "stream",
     "text": [
      "\r",
      " 75%|███████████████████████████████████████████████████████▌                  | 1010/1345 [4:17:33<1:39:29, 17.82s/it]"
     ]
    },
    {
     "name": "stdout",
     "output_type": "stream",
     "text": [
      "Cabbage https://www.reddit.com/r/CryptoCurrency/\n"
     ]
    },
    {
     "name": "stderr",
     "output_type": "stream",
     "text": [
      "\r",
      " 75%|███████████████████████████████████████████████████████▌                  | 1011/1345 [4:17:48<1:34:34, 16.99s/it]"
     ]
    },
    {
     "name": "stdout",
     "output_type": "stream",
     "text": [
      "GBCGoldCoin https://www.reddit.com/r/crypto/\n"
     ]
    },
    {
     "name": "stderr",
     "output_type": "stream",
     "text": [
      "\r",
      " 75%|███████████████████████████████████████████████████████▋                  | 1012/1345 [4:17:57<1:22:11, 14.81s/it]"
     ]
    },
    {
     "name": "stdout",
     "output_type": "stream",
     "text": [
      "BioBar https://www.reddit.com/r/crypto/\n"
     ]
    },
    {
     "name": "stderr",
     "output_type": "stream",
     "text": [
      "\r",
      " 75%|███████████████████████████████████████████████████████▋                  | 1013/1345 [4:18:09<1:16:49, 13.88s/it]"
     ]
    },
    {
     "name": "stdout",
     "output_type": "stream",
     "text": [
      "Braincoin https://www.reddit.com/r/CryptoCurrency/\n"
     ]
    },
    {
     "name": "stderr",
     "output_type": "stream",
     "text": [
      "\r",
      " 75%|███████████████████████████████████████████████████████▊                  | 1014/1345 [4:18:21<1:13:09, 13.26s/it]"
     ]
    },
    {
     "name": "stdout",
     "output_type": "stream",
     "text": [
      "GeertCoin https://www.reddit.com/r/CryptoCurrency/\n"
     ]
    },
    {
     "name": "stderr",
     "output_type": "stream",
     "text": [
      "\r",
      " 75%|███████████████████████████████████████████████████████▊                  | 1015/1345 [4:18:33<1:11:45, 13.05s/it]"
     ]
    },
    {
     "name": "stdout",
     "output_type": "stream",
     "text": [
      "SocialCoin https://www.reddit.com/r/socialcoin/\n"
     ]
    },
    {
     "name": "stderr",
     "output_type": "stream",
     "text": [
      "\r",
      " 76%|███████████████████████████████████████████████████████▉                  | 1016/1345 [4:18:47<1:12:02, 13.14s/it]"
     ]
    },
    {
     "name": "stdout",
     "output_type": "stream",
     "text": [
      "Elysium https://www.reddit.com/r/ElysiumProject/\n"
     ]
    },
    {
     "name": "stderr",
     "output_type": "stream",
     "text": [
      "\r",
      " 76%|███████████████████████████████████████████████████████▉                  | 1017/1345 [4:18:56<1:05:49, 12.04s/it]"
     ]
    },
    {
     "name": "stdout",
     "output_type": "stream",
     "text": [
      "iBank https://www.reddit.com/r/CryptoCurrency/\n"
     ]
    },
    {
     "name": "stderr",
     "output_type": "stream",
     "text": [
      "\r",
      " 76%|████████████████████████████████████████████████████████                  | 1018/1345 [4:19:09<1:06:43, 12.24s/it]"
     ]
    },
    {
     "name": "stdout",
     "output_type": "stream",
     "text": [
      "DAS https://www.reddit.com/r/crypto/\n"
     ]
    },
    {
     "name": "stderr",
     "output_type": "stream",
     "text": [
      "\r",
      " 76%|████████████████████████████████████████████████████████                  | 1019/1345 [4:19:26<1:13:33, 13.54s/it]"
     ]
    },
    {
     "name": "stdout",
     "output_type": "stream",
     "text": [
      "CCMiner https://www.reddit.com/r/CudaManager/\n"
     ]
    },
    {
     "name": "stderr",
     "output_type": "stream",
     "text": [
      "\r",
      " 76%|████████████████████████████████████████████████████████                  | 1020/1345 [4:19:36<1:08:46, 12.70s/it]"
     ]
    },
    {
     "name": "stdout",
     "output_type": "stream",
     "text": [
      "Coimatic 2.0 https://www.reddit.com/r/CryptoCurrency/comments/6vzyiy/just_name_some_coins/\n"
     ]
    },
    {
     "name": "stderr",
     "output_type": "stream",
     "text": [
      "\r",
      " 76%|████████████████████████████████████████████████████████▏                 | 1021/1345 [4:19:48<1:07:21, 12.47s/it]"
     ]
    },
    {
     "name": "stdout",
     "output_type": "stream",
     "text": [
      "MiloCoin https://www.reddit.com/r/CryptoCurrency/comments/622cj1/introducing_milocoin/\n"
     ]
    },
    {
     "name": "stderr",
     "output_type": "stream",
     "text": [
      "\r",
      " 76%|████████████████████████████████████████████████████████▏                 | 1022/1345 [4:19:59<1:04:19, 11.95s/it]"
     ]
    },
    {
     "name": "stdout",
     "output_type": "stream",
     "text": [
      "Save and Gain https://www.reddit.com/r/CryptoCurrency/comments/3paxoq/save_and_gain_forked/\n"
     ]
    },
    {
     "name": "stderr",
     "output_type": "stream",
     "text": [
      "\r",
      " 76%|████████████████████████████████████████████████████████▎                 | 1023/1345 [4:20:12<1:05:20, 12.17s/it]"
     ]
    },
    {
     "name": "stdout",
     "output_type": "stream",
     "text": [
      "Frazcoin https://www.reddit.com/r/CryptoCurrency/\n"
     ]
    },
    {
     "name": "stderr",
     "output_type": "stream",
     "text": [
      "\r",
      " 76%|████████████████████████████████████████████████████████▎                 | 1024/1345 [4:20:22<1:02:40, 11.71s/it]"
     ]
    },
    {
     "name": "stdout",
     "output_type": "stream",
     "text": [
      "MorningStar https://www.reddit.com/r/crypto/\n"
     ]
    },
    {
     "name": "stderr",
     "output_type": "stream",
     "text": [
      "\r",
      " 76%|████████████████████████████████████████████████████████▍                 | 1025/1345 [4:20:35<1:04:19, 12.06s/it]"
     ]
    },
    {
     "name": "stdout",
     "output_type": "stream",
     "text": [
      "BurstOcean https://www.reddit.com/r/CryptoCurrency/\n"
     ]
    },
    {
     "name": "stderr",
     "output_type": "stream",
     "text": [
      "\r",
      " 76%|████████████████████████████████████████████████████████▍                 | 1026/1345 [4:20:47<1:03:39, 11.97s/it]"
     ]
    },
    {
     "name": "stdout",
     "output_type": "stream",
     "text": [
      "NodeCoin https://www.reddit.com/r/CryptoCurrency/comments/2nf62w/after_2_weeks_of_testing_nodecoins_proof_of/\n"
     ]
    },
    {
     "name": "stderr",
     "output_type": "stream",
     "text": [
      "\r",
      " 76%|████████████████████████████████████████████████████████▌                 | 1027/1345 [4:20:58<1:01:11, 11.54s/it]"
     ]
    },
    {
     "name": "stdout",
     "output_type": "stream",
     "text": [
      "Concoin https://www.reddit.com/r/CryptoCurrency/comments/6hw7qs/concoin_the_most_dangerous_cryptocurrency_in_the/\n"
     ]
    },
    {
     "name": "stderr",
     "output_type": "stream",
     "text": [
      "\r",
      " 76%|██████████████████████████████████████████████████████████                  | 1028/1345 [4:21:07<57:53, 10.96s/it]"
     ]
    },
    {
     "name": "stdout",
     "output_type": "stream",
     "text": [
      "Tradecoin https://www.reddit.com/r/CryptoMarkets/\n"
     ]
    },
    {
     "name": "stderr",
     "output_type": "stream",
     "text": [
      "\r",
      " 77%|██████████████████████████████████████████████████████████▏                 | 1029/1345 [4:21:18<57:38, 10.95s/it]"
     ]
    },
    {
     "name": "stdout",
     "output_type": "stream",
     "text": [
      "WalletBuildersCoin https://www.reddit.com/r/Bitcoin/comments/2ygr68/create_your_own_altcoin_walletbuilders/\n"
     ]
    },
    {
     "name": "stderr",
     "output_type": "stream",
     "text": [
      "\r",
      " 77%|████████████████████████████████████████████████████████▋                 | 1030/1345 [4:22:33<2:37:34, 30.02s/it]"
     ]
    },
    {
     "name": "stdout",
     "output_type": "stream",
     "text": [
      "Tristar Coin https://www.reddit.com/r/CryptoCurrency/\n"
     ]
    },
    {
     "name": "stderr",
     "output_type": "stream",
     "text": [
      "\r",
      " 77%|████████████████████████████████████████████████████████▋                 | 1031/1345 [4:22:45<2:09:55, 24.83s/it]"
     ]
    },
    {
     "name": "stdout",
     "output_type": "stream",
     "text": [
      "Ulatech https://www.reddit.com/r/crypto/\n"
     ]
    },
    {
     "name": "stderr",
     "output_type": "stream",
     "text": [
      "\r",
      " 77%|████████████████████████████████████████████████████████▊                 | 1032/1345 [4:22:58<1:50:44, 21.23s/it]"
     ]
    },
    {
     "name": "stdout",
     "output_type": "stream",
     "text": [
      "PizzaCoin https://www.reddit.com/r/CryptoCurrency/\n"
     ]
    },
    {
     "name": "stderr",
     "output_type": "stream",
     "text": [
      "\r",
      " 77%|████████████████████████████████████████████████████████▊                 | 1033/1345 [4:23:14<1:41:19, 19.49s/it]"
     ]
    },
    {
     "name": "stdout",
     "output_type": "stream",
     "text": [
      "Enigma https://www.reddit.com/r/enigmacatalyst/\n"
     ]
    },
    {
     "name": "stderr",
     "output_type": "stream",
     "text": [
      "\r",
      " 77%|████████████████████████████████████████████████████████▉                 | 1034/1345 [4:23:24<1:26:42, 16.73s/it]"
     ]
    },
    {
     "name": "stdout",
     "output_type": "stream",
     "text": [
      "Magnum https://www.reddit.com/r/CryptoCurrency/\n"
     ]
    },
    {
     "name": "stderr",
     "output_type": "stream",
     "text": [
      "\r",
      " 77%|████████████████████████████████████████████████████████▉                 | 1035/1345 [4:23:36<1:18:49, 15.26s/it]"
     ]
    },
    {
     "name": "stdout",
     "output_type": "stream",
     "text": [
      "Lex4All https://www.reddit.com/r/CryptoCurrency/\n"
     ]
    },
    {
     "name": "stderr",
     "output_type": "stream",
     "text": [
      "\r",
      " 77%|████████████████████████████████████████████████████████▉                 | 1036/1345 [4:23:51<1:18:01, 15.15s/it]"
     ]
    },
    {
     "name": "stdout",
     "output_type": "stream",
     "text": [
      "Project-X https://www.reddit.com/r/CryptoCurrency/comments/5xugki/metagold_crowdfunding_indie_games_using_ethereum/\n"
     ]
    },
    {
     "name": "stderr",
     "output_type": "stream",
     "text": [
      "\r",
      " 77%|█████████████████████████████████████████████████████████                 | 1037/1345 [4:24:02<1:12:08, 14.05s/it]"
     ]
    },
    {
     "name": "stdout",
     "output_type": "stream",
     "text": [
      "SwapToken https://www.reddit.com/r/CryptoCurrency/\n"
     ]
    },
    {
     "name": "stderr",
     "output_type": "stream",
     "text": [
      "\r",
      " 77%|█████████████████████████████████████████████████████████                 | 1038/1345 [4:24:13<1:06:31, 13.00s/it]"
     ]
    },
    {
     "name": "stdout",
     "output_type": "stream",
     "text": [
      "Digital Credits https://www.reddit.com/r/CryptoCurrency/\n"
     ]
    },
    {
     "name": "stderr",
     "output_type": "stream",
     "text": [
      "\r",
      " 77%|█████████████████████████████████████████████████████████▏                | 1039/1345 [4:24:27<1:08:29, 13.43s/it]"
     ]
    },
    {
     "name": "stdout",
     "output_type": "stream",
     "text": [
      "Sojourn https://www.reddit.com/r/crypto/\n"
     ]
    },
    {
     "name": "stderr",
     "output_type": "stream",
     "text": [
      "\r",
      " 77%|█████████████████████████████████████████████████████████▏                | 1040/1345 [4:24:38<1:05:18, 12.85s/it]"
     ]
    },
    {
     "name": "stdout",
     "output_type": "stream",
     "text": [
      "Abncoin https://www.reddit.com/r/CryptoCurrency/\n"
     ]
    },
    {
     "name": "stderr",
     "output_type": "stream",
     "text": [
      "\r",
      " 77%|█████████████████████████████████████████████████████████▎                | 1041/1345 [4:24:51<1:04:44, 12.78s/it]"
     ]
    },
    {
     "name": "stdout",
     "output_type": "stream",
     "text": [
      "Ebittree Coin https://www.reddit.com/r/CryptoCurrency/\n"
     ]
    },
    {
     "name": "stderr",
     "output_type": "stream",
     "text": [
      "\r",
      " 77%|█████████████████████████████████████████████████████████▎                | 1042/1345 [4:25:06<1:07:29, 13.36s/it]"
     ]
    },
    {
     "name": "stdout",
     "output_type": "stream",
     "text": [
      "MantraCoin https://www.reddit.com/r/CryptoCurrency/\n"
     ]
    },
    {
     "name": "stderr",
     "output_type": "stream",
     "text": [
      "\r",
      " 78%|█████████████████████████████████████████████████████████▍                | 1043/1345 [4:25:16<1:02:53, 12.49s/it]"
     ]
    },
    {
     "name": "stdout",
     "output_type": "stream",
     "text": [
      "Environ https://www.reddit.com/r/CryptoCurrency/\n"
     ]
    },
    {
     "name": "stderr",
     "output_type": "stream",
     "text": [
      "\r",
      " 78%|█████████████████████████████████████████████████████████▍                | 1044/1345 [4:25:28<1:01:23, 12.24s/it]"
     ]
    },
    {
     "name": "stdout",
     "output_type": "stream",
     "text": [
      "Digital Money Bits https://www.reddit.com/r/CryptoCurrency/\n"
     ]
    },
    {
     "name": "stderr",
     "output_type": "stream",
     "text": [
      "\r",
      " 78%|█████████████████████████████████████████████████████████▍                | 1045/1345 [4:25:41<1:01:42, 12.34s/it]"
     ]
    },
    {
     "name": "stdout",
     "output_type": "stream",
     "text": [
      "CaliphCoin https://www.reddit.com/r/CryptoCurrency/\n"
     ]
    },
    {
     "name": "stderr",
     "output_type": "stream",
     "text": [
      "\r",
      " 78%|█████████████████████████████████████████████████████████▌                | 1046/1345 [4:25:52<1:00:29, 12.14s/it]"
     ]
    },
    {
     "name": "stdout",
     "output_type": "stream",
     "text": [
      "Falcoin https://www.reddit.com/r/Bitcoin/comments/4n5qel/falcon_a_new_relay_network_for_bitcoin_blocks/\n"
     ]
    },
    {
     "name": "stderr",
     "output_type": "stream",
     "text": [
      "\r",
      " 78%|███████████████████████████████████████████████████████████▏                | 1047/1345 [4:26:03<57:53, 11.66s/it]"
     ]
    },
    {
     "name": "stdout",
     "output_type": "stream",
     "text": [
      "Future Digital Currency https://www.reddit.com/r/Crypto_Currency_News/comments/798af9/the_future_of_digital_currency/\n"
     ]
    },
    {
     "name": "stderr",
     "output_type": "stream",
     "text": [
      "\r",
      " 78%|███████████████████████████████████████████████████████████▏                | 1048/1345 [4:26:14<56:38, 11.44s/it]"
     ]
    },
    {
     "name": "stdout",
     "output_type": "stream",
     "text": [
      "AppleCoin https://www.reddit.com/r/Ripple/\n"
     ]
    },
    {
     "name": "stderr",
     "output_type": "stream",
     "text": [
      "\r",
      " 78%|███████████████████████████████████████████████████████████▎                | 1049/1345 [4:26:25<56:00, 11.35s/it]"
     ]
    },
    {
     "name": "stdout",
     "output_type": "stream",
     "text": [
      "ATMCoin https://www.reddit.com/r/Bitcoin/\n"
     ]
    },
    {
     "name": "stderr",
     "output_type": "stream",
     "text": [
      "\r",
      " 78%|███████████████████████████████████████████████████████████▎                | 1050/1345 [4:26:38<58:56, 11.99s/it]"
     ]
    },
    {
     "name": "stdout",
     "output_type": "stream",
     "text": [
      "WaBi https://www.reddit.com/r/CryptoCurrency/comments/7jbuo2/introduction_of_the_wabi_walami_rfid_label/\n"
     ]
    },
    {
     "name": "stderr",
     "output_type": "stream",
     "text": [
      "\r",
      " 78%|█████████████████████████████████████████████████████████▊                | 1051/1345 [4:26:52<1:01:20, 12.52s/it]"
     ]
    },
    {
     "name": "stdout",
     "output_type": "stream",
     "text": [
      "CyberMiles https://www.reddit.com/r/CryptoCurrency/comments/7bnm1q/cybermiles_bounty_program/\n"
     ]
    },
    {
     "name": "stderr",
     "output_type": "stream",
     "text": [
      "\r",
      " 78%|███████████████████████████████████████████████████████████▍                | 1052/1345 [4:27:02<57:13, 11.72s/it]"
     ]
    },
    {
     "name": "stdout",
     "output_type": "stream",
     "text": [
      "Bitcoin Diamond [Futures] https://www.reddit.com/r/CryptoeconomyES/comments/7hpso1/bitcoindiamond_s%C3%B3lo_una_nueva_bifurcaci%C3%B3n_de/\n"
     ]
    },
    {
     "name": "stderr",
     "output_type": "stream",
     "text": [
      "\r",
      " 78%|███████████████████████████████████████████████████████████▌                | 1053/1345 [4:27:13<55:36, 11.43s/it]"
     ]
    },
    {
     "name": "stdout",
     "output_type": "stream",
     "text": [
      "Electroneum https://www.reddit.com/r/Electroneum/comments/7jkwe9/crypto_for_the_people/\n"
     ]
    },
    {
     "name": "stderr",
     "output_type": "stream",
     "text": [
      "\r",
      " 78%|███████████████████████████████████████████████████████████▌                | 1054/1345 [4:27:23<54:22, 11.21s/it]"
     ]
    },
    {
     "name": "stdout",
     "output_type": "stream",
     "text": [
      "IoT Chain https://www.reddit.com/r/CryptoCurrency/comments/7641hh/waltonchain_rfid_chips_iot_and_blockchain/\n"
     ]
    },
    {
     "name": "stderr",
     "output_type": "stream",
     "text": [
      "\r",
      " 78%|███████████████████████████████████████████████████████████▌                | 1055/1345 [4:27:33<51:53, 10.74s/it]"
     ]
    },
    {
     "name": "stdout",
     "output_type": "stream",
     "text": [
      "POLY AI https://www.reddit.com/r/CryptoCurrency/duplicates/78ughf/pr_poly_ai_artificial_intelligence_base_on/\n"
     ]
    },
    {
     "name": "stderr",
     "output_type": "stream",
     "text": [
      "\r",
      " 79%|███████████████████████████████████████████████████████████▋                | 1056/1345 [4:27:48<57:39, 11.97s/it]"
     ]
    },
    {
     "name": "stdout",
     "output_type": "stream",
     "text": [
      "Eroscoin https://www.reddit.com/r/CryptoCurrency/comments/6xzqgi/blockchain_revolution_eroscoin_foundation/\n"
     ]
    },
    {
     "name": "stderr",
     "output_type": "stream",
     "text": [
      "\r",
      " 79%|███████████████████████████████████████████████████████████▋                | 1057/1345 [4:28:00<57:05, 11.89s/it]"
     ]
    },
    {
     "name": "stdout",
     "output_type": "stream",
     "text": [
      "Nuls https://www.reddit.com/r/CryptoCurrency/comments/7bqhty/nuls_nulls_is_nothing_nuls_is_everything/\n"
     ]
    },
    {
     "name": "stderr",
     "output_type": "stream",
     "text": [
      "\r",
      " 79%|███████████████████████████████████████████████████████████▊                | 1058/1345 [4:28:13<58:25, 12.21s/it]"
     ]
    },
    {
     "name": "stdout",
     "output_type": "stream",
     "text": [
      "Ormeus Coin https://www.reddit.com/r/CryptoCurrency/\n"
     ]
    },
    {
     "name": "stderr",
     "output_type": "stream",
     "text": [
      "\r",
      " 79%|██████████████████████████████████████████████████████████▎               | 1059/1345 [4:29:28<2:29:22, 31.34s/it]"
     ]
    },
    {
     "name": "stdout",
     "output_type": "stream",
     "text": [
      "GOLD Reward Token https://www.reddit.com/r/CryptoCurrency/comments/7b0h16/home_block_coin_gold_reward_token_poly_network_ai/\n"
     ]
    },
    {
     "name": "stderr",
     "output_type": "stream",
     "text": [
      "\r",
      " 79%|██████████████████████████████████████████████████████████▎               | 1060/1345 [4:29:40<2:01:00, 25.48s/it]"
     ]
    },
    {
     "name": "stdout",
     "output_type": "stream",
     "text": [
      "Fargocoin https://www.reddit.com/r/CryptoCurrency/comments/647one/wells_fargo_sued_for_suspending_bitfinex_wire/\n"
     ]
    },
    {
     "name": "stderr",
     "output_type": "stream",
     "text": [
      "\r",
      " 79%|██████████████████████████████████████████████████████████▎               | 1061/1345 [4:29:52<1:41:12, 21.38s/it]"
     ]
    },
    {
     "name": "stdout",
     "output_type": "stream",
     "text": [
      "BitSerial https://www.reddit.com/r/crypto/\n"
     ]
    },
    {
     "name": "stderr",
     "output_type": "stream",
     "text": [
      "\r",
      " 79%|██████████████████████████████████████████████████████████▍               | 1062/1345 [4:30:07<1:32:06, 19.53s/it]"
     ]
    },
    {
     "name": "stdout",
     "output_type": "stream",
     "text": [
      "Regalcoin https://www.reddit.com/r/CryptoCurrency/comments/79l04q/regalcoin_rec_did_they_scam_everyone_out_of/\n"
     ]
    },
    {
     "name": "stderr",
     "output_type": "stream",
     "text": [
      "\r",
      " 79%|██████████████████████████████████████████████████████████▍               | 1063/1345 [4:30:17<1:17:59, 16.59s/it]"
     ]
    },
    {
     "name": "stdout",
     "output_type": "stream",
     "text": [
      "ClubCoin https://www.reddit.com/r/CryptoCurrency/\n"
     ]
    },
    {
     "name": "stderr",
     "output_type": "stream",
     "text": [
      "\r",
      " 79%|██████████████████████████████████████████████████████████▌               | 1064/1345 [4:30:28<1:09:10, 14.77s/it]"
     ]
    },
    {
     "name": "stdout",
     "output_type": "stream",
     "text": [
      "Energo https://www.reddit.com/r/CryptoCurrency/\n"
     ]
    },
    {
     "name": "stderr",
     "output_type": "stream",
     "text": [
      "\r",
      " 79%|██████████████████████████████████████████████████████████▌               | 1065/1345 [4:30:41<1:07:07, 14.38s/it]"
     ]
    },
    {
     "name": "stdout",
     "output_type": "stream",
     "text": [
      "FirstCoin https://www.reddit.com/r/CryptoCurrency/\n"
     ]
    },
    {
     "name": "stderr",
     "output_type": "stream",
     "text": [
      "\r",
      " 79%|██████████████████████████████████████████████████████████▋               | 1066/1345 [4:30:53<1:02:53, 13.52s/it]"
     ]
    },
    {
     "name": "stdout",
     "output_type": "stream",
     "text": [
      "Tezos (Pre-Launch) https://www.reddit.com/r/tezos/\n"
     ]
    },
    {
     "name": "stderr",
     "output_type": "stream",
     "text": [
      "\r",
      " 79%|██████████████████████████████████████████████████████████▋               | 1067/1345 [4:31:07<1:04:01, 13.82s/it]"
     ]
    },
    {
     "name": "stdout",
     "output_type": "stream",
     "text": [
      "Santa Coin https://www.reddit.com/r/CryptoCurrency/\n"
     ]
    },
    {
     "name": "stderr",
     "output_type": "stream",
     "text": [
      "\r",
      " 79%|████████████████████████████████████████████████████████████▎               | 1068/1345 [4:31:17<59:06, 12.80s/it]"
     ]
    },
    {
     "name": "stdout",
     "output_type": "stream",
     "text": [
      "WINCOIN https://www.reddit.com/r/CryptoCurrency/\n"
     ]
    },
    {
     "name": "stderr",
     "output_type": "stream",
     "text": [
      "\r",
      " 79%|████████████████████████████████████████████████████████████▍               | 1069/1345 [4:31:31<59:43, 12.98s/it]"
     ]
    },
    {
     "name": "stdout",
     "output_type": "stream",
     "text": [
      "SegWit2x [Futures] https://www.reddit.com/r/CryptoMarkets/comments/7btep9/segwit2x_my_take_on_this_bitcoin2x_ponzi_scheme/\n"
     ]
    },
    {
     "name": "stderr",
     "output_type": "stream",
     "text": [
      "\r",
      " 80%|██████████████████████████████████████████████████████████▊               | 1070/1345 [4:31:45<1:01:38, 13.45s/it]"
     ]
    },
    {
     "name": "stdout",
     "output_type": "stream",
     "text": [
      "BitSoar https://www.reddit.com/r/CryptoCurrency/\n"
     ]
    },
    {
     "name": "stderr",
     "output_type": "stream",
     "text": [
      "\r",
      " 80%|████████████████████████████████████████████████████████████▌               | 1071/1345 [4:31:57<58:50, 12.89s/it]"
     ]
    },
    {
     "name": "stdout",
     "output_type": "stream",
     "text": [
      "Infinity Economics https://www.reddit.com/r/cryptoeconomics/\n"
     ]
    },
    {
     "name": "stderr",
     "output_type": "stream",
     "text": [
      "\r",
      " 80%|██████████████████████████████████████████████████████████▉               | 1072/1345 [4:32:11<1:00:40, 13.33s/it]"
     ]
    },
    {
     "name": "stdout",
     "output_type": "stream",
     "text": [
      "LLToken https://www.reddit.com/r/CryptoCurrency/\n"
     ]
    },
    {
     "name": "stderr",
     "output_type": "stream",
     "text": [
      "\r",
      " 80%|████████████████████████████████████████████████████████████▋               | 1073/1345 [4:32:22<56:29, 12.46s/it]"
     ]
    },
    {
     "name": "stdout",
     "output_type": "stream",
     "text": [
      "ANRYZE https://www.reddit.com/r/CryptoMarkets/\n"
     ]
    },
    {
     "name": "stderr",
     "output_type": "stream",
     "text": [
      "\r",
      " 80%|████████████████████████████████████████████████████████████▋               | 1074/1345 [4:32:33<54:59, 12.18s/it]"
     ]
    },
    {
     "name": "stdout",
     "output_type": "stream",
     "text": [
      "InfChain https://www.reddit.com/r/CryptoCurrency/\n"
     ]
    },
    {
     "name": "stderr",
     "output_type": "stream",
     "text": [
      "\r",
      " 80%|████████████████████████████████████████████████████████████▋               | 1075/1345 [4:32:46<55:40, 12.37s/it]"
     ]
    },
    {
     "name": "stdout",
     "output_type": "stream",
     "text": [
      "UG Token https://www.reddit.com/r/CryptoCurrency/\n"
     ]
    },
    {
     "name": "stderr",
     "output_type": "stream",
     "text": [
      "\r",
      " 80%|████████████████████████████████████████████████████████████▊               | 1076/1345 [4:32:58<54:09, 12.08s/it]"
     ]
    },
    {
     "name": "stdout",
     "output_type": "stream",
     "text": [
      "Sphre AIR  https://www.reddit.com/r/SphreCo/\n"
     ]
    },
    {
     "name": "stderr",
     "output_type": "stream",
     "text": [
      "\r",
      " 80%|████████████████████████████████████████████████████████████▊               | 1077/1345 [4:33:10<54:21, 12.17s/it]"
     ]
    },
    {
     "name": "stdout",
     "output_type": "stream",
     "text": [
      "Viuly https://www.reddit.com/r/CryptoCurrency/\n"
     ]
    },
    {
     "name": "stderr",
     "output_type": "stream",
     "text": [
      "\r",
      " 80%|████████████████████████████████████████████████████████████▉               | 1078/1345 [4:33:22<53:38, 12.05s/it]"
     ]
    },
    {
     "name": "stdout",
     "output_type": "stream",
     "text": [
      "BT2 [CST] https://www.reddit.com/r/CryptoCurrency/comments/7938sr/invest_in_bitcoin_now_or_wait_until_after_segwit2x/\n"
     ]
    },
    {
     "name": "stderr",
     "output_type": "stream",
     "text": [
      "\r",
      " 80%|████████████████████████████████████████████████████████████▉               | 1079/1345 [4:33:33<52:50, 11.92s/it]"
     ]
    },
    {
     "name": "stdout",
     "output_type": "stream",
     "text": [
      "TechShares https://www.reddit.com/r/CryptoCurrency/\n"
     ]
    },
    {
     "name": "stderr",
     "output_type": "stream",
     "text": [
      "\r",
      " 80%|█████████████████████████████████████████████████████████████               | 1080/1345 [4:33:45<52:13, 11.82s/it]"
     ]
    },
    {
     "name": "stdout",
     "output_type": "stream",
     "text": [
      "ICON https://www.reddit.com/r/icocrypto/\n"
     ]
    },
    {
     "name": "stderr",
     "output_type": "stream",
     "text": [
      "\r",
      " 80%|█████████████████████████████████████████████████████████████               | 1081/1345 [4:33:56<51:40, 11.75s/it]"
     ]
    },
    {
     "name": "stdout",
     "output_type": "stream",
     "text": [
      "Bitcoin Unlimited (Futures) https://www.reddit.com/r/CryptoCurrency/comments/7gx4mn/cftc_bitcoin_futures/\n"
     ]
    },
    {
     "name": "stderr",
     "output_type": "stream",
     "text": [
      "\r",
      " 80%|███████████████████████████████████████████████████████████▌              | 1082/1345 [4:34:56<1:54:49, 26.19s/it]"
     ]
    },
    {
     "name": "stdout",
     "output_type": "stream",
     "text": [
      "Cappasity https://www.reddit.com/r/CryptoCurrencyTrading/comments/7i2l6r/in_case_you_need_a_place_to_staycappasity_capp/\n"
     ]
    },
    {
     "name": "stderr",
     "output_type": "stream",
     "text": [
      "\r",
      " 81%|███████████████████████████████████████████████████████████▌              | 1083/1345 [4:35:07<1:34:25, 21.63s/it]"
     ]
    },
    {
     "name": "stdout",
     "output_type": "stream",
     "text": [
      "ZenGold https://www.reddit.com/r/CryptoCurrency/comments/6ekffn/zengold/\n"
     ]
    },
    {
     "name": "stderr",
     "output_type": "stream",
     "text": [
      "\r",
      " 81%|███████████████████████████████████████████████████████████▋              | 1084/1345 [4:35:18<1:19:51, 18.36s/it]"
     ]
    },
    {
     "name": "stdout",
     "output_type": "stream",
     "text": [
      "Golos Gold https://www.reddit.com/r/Crypto_General/comments/7ja47j/100_profit_in_golos_join_bitcoin_trading_club_and/\n"
     ]
    },
    {
     "name": "stderr",
     "output_type": "stream",
     "text": [
      "\r",
      " 81%|███████████████████████████████████████████████████████████▋              | 1085/1345 [4:35:33<1:14:47, 17.26s/it]"
     ]
    },
    {
     "name": "stdout",
     "output_type": "stream",
     "text": [
      "StrikeBitClub https://www.reddit.com/r/CryptoCurrency/\n"
     ]
    },
    {
     "name": "stderr",
     "output_type": "stream",
     "text": [
      "\r",
      " 81%|███████████████████████████████████████████████████████████▊              | 1086/1345 [4:35:45<1:07:47, 15.70s/it]"
     ]
    },
    {
     "name": "stdout",
     "output_type": "stream",
     "text": [
      "Qbao https://www.reddit.com/r/CryptoCurrency/\n"
     ]
    },
    {
     "name": "stderr",
     "output_type": "stream",
     "text": [
      "\r",
      " 81%|███████████████████████████████████████████████████████████▊              | 1087/1345 [4:35:56<1:01:03, 14.20s/it]"
     ]
    },
    {
     "name": "stdout",
     "output_type": "stream",
     "text": [
      "Desire https://www.reddit.com/r/CryptoCurrency/\n"
     ]
    },
    {
     "name": "stderr",
     "output_type": "stream",
     "text": [
      "\r",
      " 81%|███████████████████████████████████████████████████████████▊              | 1088/1345 [4:36:10<1:00:31, 14.13s/it]"
     ]
    },
    {
     "name": "stdout",
     "output_type": "stream",
     "text": [
      "Pioneer Coin https://www.reddit.com/r/CryptoCurrency/\n"
     ]
    },
    {
     "name": "stderr",
     "output_type": "stream",
     "text": [
      "\r",
      " 81%|█████████████████████████████████████████████████████████████▌              | 1089/1345 [4:36:23<58:53, 13.80s/it]"
     ]
    },
    {
     "name": "stdout",
     "output_type": "stream",
     "text": [
      "Aidos Kuneen https://www.reddit.com/r/CryptoCurrency/comments/6fan75/whats_the_altcoin_with_the_lowest_transaction_fees/\n"
     ]
    },
    {
     "name": "stderr",
     "output_type": "stream",
     "text": [
      "\r",
      " 81%|█████████████████████████████████████████████████████████████▌              | 1090/1345 [4:36:35<57:27, 13.52s/it]"
     ]
    },
    {
     "name": "stdout",
     "output_type": "stream",
     "text": [
      "Akuya Coin https://www.reddit.com/r/CryptoCurrency/\n"
     ]
    },
    {
     "name": "stderr",
     "output_type": "stream",
     "text": [
      "\r",
      " 81%|█████████████████████████████████████████████████████████████▋              | 1091/1345 [4:36:46<54:03, 12.77s/it]"
     ]
    },
    {
     "name": "stdout",
     "output_type": "stream",
     "text": [
      "VPNCoin https://www.reddit.com/r/CryptoCurrency/comments/430hjy/vpncoin_black_magic_or_total_scam/\n"
     ]
    },
    {
     "name": "stderr",
     "output_type": "stream",
     "text": [
      "\r",
      " 81%|█████████████████████████████████████████████████████████████▋              | 1092/1345 [4:36:59<53:50, 12.77s/it]"
     ]
    },
    {
     "name": "stdout",
     "output_type": "stream",
     "text": [
      "Maker https://www.reddit.com/r/CryptoMarkets/\n"
     ]
    },
    {
     "name": "stderr",
     "output_type": "stream",
     "text": [
      "\r",
      " 81%|█████████████████████████████████████████████████████████████▊              | 1093/1345 [4:37:09<49:39, 11.82s/it]"
     ]
    },
    {
     "name": "stdout",
     "output_type": "stream",
     "text": [
      "Suretly https://www.reddit.com/r/CryptoCurrency/comments/6g87b8/suretly_a_crowdvouching_alternative_to_peer2peer/\n"
     ]
    },
    {
     "name": "stderr",
     "output_type": "stream",
     "text": [
      "\r",
      " 81%|█████████████████████████████████████████████████████████████▊              | 1094/1345 [4:37:19<47:50, 11.44s/it]"
     ]
    },
    {
     "name": "stdout",
     "output_type": "stream",
     "text": [
      "B3Coin https://www.reddit.com/r/CryptoCurrency/comments/721n05/b3_coin_pos_staking_coin_diversification_option/\n"
     ]
    },
    {
     "name": "stderr",
     "output_type": "stream",
     "text": [
      "\r",
      " 81%|█████████████████████████████████████████████████████████████▊              | 1095/1345 [4:37:35<52:54, 12.70s/it]"
     ]
    },
    {
     "name": "stdout",
     "output_type": "stream",
     "text": [
      "Kubera Coin https://www.reddit.com/r/CryptoCurrency/\n"
     ]
    },
    {
     "name": "stderr",
     "output_type": "stream",
     "text": [
      "\r",
      " 81%|█████████████████████████████████████████████████████████████▉              | 1096/1345 [4:37:45<49:57, 12.04s/it]"
     ]
    },
    {
     "name": "stdout",
     "output_type": "stream",
     "text": [
      "Ergo https://www.reddit.com/r/CryptoCurrency/\n"
     ]
    },
    {
     "name": "stderr",
     "output_type": "stream",
     "text": [
      "\r",
      " 82%|█████████████████████████████████████████████████████████████▉              | 1097/1345 [4:37:58<50:55, 12.32s/it]"
     ]
    },
    {
     "name": "stdout",
     "output_type": "stream",
     "text": [
      "Tokugawa https://www.reddit.com/r/CryptoCurrency/\n"
     ]
    },
    {
     "name": "stderr",
     "output_type": "stream",
     "text": [
      "\r",
      " 82%|██████████████████████████████████████████████████████████████              | 1098/1345 [4:38:10<49:33, 12.04s/it]"
     ]
    },
    {
     "name": "stdout",
     "output_type": "stream",
     "text": [
      "BTCMoon https://www.reddit.com/r/CryptoMarkets/\n"
     ]
    },
    {
     "name": "stderr",
     "output_type": "stream",
     "text": [
      "\r",
      " 82%|██████████████████████████████████████████████████████████████              | 1099/1345 [4:38:21<48:36, 11.86s/it]"
     ]
    },
    {
     "name": "stdout",
     "output_type": "stream",
     "text": [
      "BT1 [CST] https://www.reddit.com/r/CryptoCurrency/comments/7938sr/invest_in_bitcoin_now_or_wait_until_after_segwit2x/\n"
     ]
    },
    {
     "name": "stderr",
     "output_type": "stream",
     "text": [
      "\r",
      " 82%|██████████████████████████████████████████████████████████████▏             | 1100/1345 [4:38:34<49:25, 12.10s/it]"
     ]
    },
    {
     "name": "stdout",
     "output_type": "stream",
     "text": [
      "MSD https://www.reddit.com/r/Bitcoin/comments/74211e/what_is_crypto_msd/\n"
     ]
    },
    {
     "name": "stderr",
     "output_type": "stream",
     "text": [
      "\r",
      " 82%|██████████████████████████████████████████████████████████████▏             | 1101/1345 [4:38:45<48:24, 11.90s/it]"
     ]
    },
    {
     "name": "stdout",
     "output_type": "stream",
     "text": [
      "Snovio https://www.reddit.com/r/CryptoCurrency/comments/6y06hy/snovio_lead_generation_and_sourcing_platform_has/\n"
     ]
    },
    {
     "name": "stderr",
     "output_type": "stream",
     "text": [
      "\r",
      " 82%|██████████████████████████████████████████████████████████████▎             | 1102/1345 [4:38:57<47:52, 11.82s/it]"
     ]
    },
    {
     "name": "stdout",
     "output_type": "stream",
     "text": [
      "Everus https://www.reddit.com/r/everus/comments/78svcq/everus_moves_to_humanize_cryptocurrency/\n"
     ]
    },
    {
     "name": "stderr",
     "output_type": "stream",
     "text": [
      "\r",
      " 82%|██████████████████████████████████████████████████████████████▎             | 1103/1345 [4:39:12<50:53, 12.62s/it]"
     ]
    },
    {
     "name": "stdout",
     "output_type": "stream",
     "text": [
      "Social Send https://www.reddit.com/r/CryptoCurrency/\n"
     ]
    },
    {
     "name": "stderr",
     "output_type": "stream",
     "text": [
      "\r",
      " 82%|██████████████████████████████████████████████████████████████▍             | 1104/1345 [4:39:22<48:20, 12.04s/it]"
     ]
    },
    {
     "name": "stdout",
     "output_type": "stream",
     "text": [
      "Compcoin https://www.reddit.com/r/compcoin/\n"
     ]
    },
    {
     "name": "stderr",
     "output_type": "stream",
     "text": [
      "\r",
      " 82%|██████████████████████████████████████████████████████████████▍             | 1105/1345 [4:39:33<46:21, 11.59s/it]"
     ]
    },
    {
     "name": "stdout",
     "output_type": "stream",
     "text": [
      "Farad https://www.reddit.com/r/icocrypto/comments/6v1fte/farad_cryptoken_ico_backed_by_real_business/\n"
     ]
    },
    {
     "name": "stderr",
     "output_type": "stream",
     "text": [
      "\r",
      " 82%|██████████████████████████████████████████████████████████████▍             | 1106/1345 [4:39:44<46:07, 11.58s/it]"
     ]
    },
    {
     "name": "stdout",
     "output_type": "stream",
     "text": [
      "BlockCDN https://www.reddit.com/r/icocrypto/comments/5c8u25/blockcdn/\n"
     ]
    },
    {
     "name": "stderr",
     "output_type": "stream",
     "text": [
      "\r",
      " 82%|██████████████████████████████████████████████████████████████▌             | 1107/1345 [4:39:55<44:36, 11.24s/it]"
     ]
    },
    {
     "name": "stdout",
     "output_type": "stream",
     "text": [
      "International Diamond https://www.reddit.com/r/CryptoCurrency/comments/7b5f2a/the_future_of_ecommerce_trading_with/\n"
     ]
    },
    {
     "name": "stderr",
     "output_type": "stream",
     "text": [
      "\r",
      " 82%|██████████████████████████████████████████████████████████████▌             | 1108/1345 [4:40:09<48:19, 12.24s/it]"
     ]
    },
    {
     "name": "stdout",
     "output_type": "stream",
     "text": [
      "TerraNova https://www.reddit.com/r/CryptoCurrency/comments/6ni3hq/terranova_whats_the_deal/\n"
     ]
    },
    {
     "name": "stderr",
     "output_type": "stream",
     "text": [
      "\r",
      " 82%|██████████████████████████████████████████████████████████████▋             | 1109/1345 [4:40:22<48:25, 12.31s/it]"
     ]
    },
    {
     "name": "stdout",
     "output_type": "stream",
     "text": [
      "SIGMAcoin https://www.reddit.com/r/CryptoCurrency/\n"
     ]
    },
    {
     "name": "stderr",
     "output_type": "stream",
     "text": [
      "\r",
      " 83%|█████████████████████████████████████████████████████████████             | 1110/1345 [4:41:36<2:01:22, 30.99s/it]"
     ]
    },
    {
     "name": "stdout",
     "output_type": "stream",
     "text": [
      "GulfCoin https://www.reddit.com/r/CryptoCurrency/\n"
     ]
    },
    {
     "name": "stderr",
     "output_type": "stream",
     "text": [
      "\r",
      " 83%|█████████████████████████████████████████████████████████████▏            | 1111/1345 [4:41:47<1:37:04, 24.89s/it]"
     ]
    },
    {
     "name": "stdout",
     "output_type": "stream",
     "text": [
      "ZSEcoin https://www.reddit.com/r/CryptoCurrency/\n"
     ]
    },
    {
     "name": "stderr",
     "output_type": "stream",
     "text": [
      "\r",
      " 83%|█████████████████████████████████████████████████████████████▏            | 1112/1345 [4:41:58<1:20:06, 20.63s/it]"
     ]
    },
    {
     "name": "stdout",
     "output_type": "stream",
     "text": [
      "Wild Crypto https://www.reddit.com/r/crypto/\n"
     ]
    },
    {
     "name": "stderr",
     "output_type": "stream",
     "text": [
      "\r",
      " 83%|█████████████████████████████████████████████████████████████▏            | 1113/1345 [4:42:10<1:10:30, 18.23s/it]"
     ]
    },
    {
     "name": "stdout",
     "output_type": "stream",
     "text": [
      "bitJob https://www.reddit.com/r/icocrypto/comments/6ts0jp/new_ico_bitjob_presale/\n"
     ]
    },
    {
     "name": "stderr",
     "output_type": "stream",
     "text": [
      "\r",
      " 83%|█████████████████████████████████████████████████████████████▎            | 1114/1345 [4:42:21<1:01:22, 15.94s/it]"
     ]
    },
    {
     "name": "stdout",
     "output_type": "stream",
     "text": [
      "FORCE https://www.reddit.com/r/AirForce/wiki/index\n"
     ]
    },
    {
     "name": "stderr",
     "output_type": "stream",
     "text": [
      "\r",
      " 83%|███████████████████████████████████████████████████████████████             | 1115/1345 [4:42:33<56:38, 14.78s/it]"
     ]
    },
    {
     "name": "stdout",
     "output_type": "stream",
     "text": [
      "UAHPay https://www.reddit.com/r/CryptoCurrency/\n"
     ]
    },
    {
     "name": "stderr",
     "output_type": "stream",
     "text": [
      "\r",
      " 83%|███████████████████████████████████████████████████████████████             | 1116/1345 [4:42:45<52:41, 13.81s/it]"
     ]
    },
    {
     "name": "stdout",
     "output_type": "stream",
     "text": [
      "Macro https://www.reddit.com/r/CryptoCurrency/comments/7ap87f/rise_updates_2_macro_tasks/\n"
     ]
    },
    {
     "name": "stderr",
     "output_type": "stream",
     "text": [
      "\r",
      " 83%|███████████████████████████████████████████████████████████████             | 1117/1345 [4:42:57<50:27, 13.28s/it]"
     ]
    },
    {
     "ename": "WebDriverException",
     "evalue": "Message: unknown error: failed to write prefs file\n  (Driver info: chromedriver=2.29.461591 (62ebf098771772160f391d75e589dc567915b233),platform=Windows NT 10.0.16299 x86_64)\n",
     "output_type": "error",
     "traceback": [
      "\u001b[1;31m---------------------------------------------------------------------------\u001b[0m",
      "\u001b[1;31mWebDriverException\u001b[0m                        Traceback (most recent call last)",
      "\u001b[1;32m<ipython-input-77-a49fdf503cb5>\u001b[0m in \u001b[0;36m<module>\u001b[1;34m()\u001b[0m\n\u001b[0;32m      7\u001b[0m     \u001b[0msearch_url\u001b[0m \u001b[1;33m=\u001b[0m \u001b[1;34m'https://duckduckgo.com/html/?q={}'\u001b[0m\u001b[1;33m.\u001b[0m\u001b[0mformat\u001b[0m\u001b[1;33m(\u001b[0m\u001b[0msearch_str\u001b[0m\u001b[1;33m)\u001b[0m\u001b[1;33m\u001b[0m\u001b[0m\n\u001b[0;32m      8\u001b[0m \u001b[1;33m\u001b[0m\u001b[0m\n\u001b[1;32m----> 9\u001b[1;33m     \u001b[0mbrowser\u001b[0m \u001b[1;33m=\u001b[0m \u001b[0mwebdriver\u001b[0m\u001b[1;33m.\u001b[0m\u001b[0mChrome\u001b[0m\u001b[1;33m(\u001b[0m\u001b[0mchromedriver\u001b[0m\u001b[1;33m)\u001b[0m\u001b[1;33m\u001b[0m\u001b[0m\n\u001b[0m\u001b[0;32m     10\u001b[0m     \u001b[0mbrowser\u001b[0m\u001b[1;33m.\u001b[0m\u001b[0mget\u001b[0m\u001b[1;33m(\u001b[0m\u001b[0msearch_url\u001b[0m\u001b[1;33m)\u001b[0m\u001b[1;33m\u001b[0m\u001b[0m\n\u001b[0;32m     11\u001b[0m \u001b[1;33m\u001b[0m\u001b[0m\n",
      "\u001b[1;32mC:\\Users\\vales\\Anaconda3\\lib\\site-packages\\selenium\\webdriver\\chrome\\webdriver.py\u001b[0m in \u001b[0;36m__init__\u001b[1;34m(self, executable_path, port, chrome_options, service_args, desired_capabilities, service_log_path)\u001b[0m\n\u001b[0;32m     67\u001b[0m                 command_executor=ChromeRemoteConnection(\n\u001b[0;32m     68\u001b[0m                     remote_server_addr=self.service.service_url),\n\u001b[1;32m---> 69\u001b[1;33m                 desired_capabilities=desired_capabilities)\n\u001b[0m\u001b[0;32m     70\u001b[0m         \u001b[1;32mexcept\u001b[0m \u001b[0mException\u001b[0m\u001b[1;33m:\u001b[0m\u001b[1;33m\u001b[0m\u001b[0m\n\u001b[0;32m     71\u001b[0m             \u001b[0mself\u001b[0m\u001b[1;33m.\u001b[0m\u001b[0mquit\u001b[0m\u001b[1;33m(\u001b[0m\u001b[1;33m)\u001b[0m\u001b[1;33m\u001b[0m\u001b[0m\n",
      "\u001b[1;32mC:\\Users\\vales\\Anaconda3\\lib\\site-packages\\selenium\\webdriver\\remote\\webdriver.py\u001b[0m in \u001b[0;36m__init__\u001b[1;34m(self, command_executor, desired_capabilities, browser_profile, proxy, keep_alive, file_detector)\u001b[0m\n\u001b[0;32m     96\u001b[0m             warnings.warn(\"Please use FirefoxOptions to set browser profile\",\n\u001b[0;32m     97\u001b[0m                           DeprecationWarning)\n\u001b[1;32m---> 98\u001b[1;33m         \u001b[0mself\u001b[0m\u001b[1;33m.\u001b[0m\u001b[0mstart_session\u001b[0m\u001b[1;33m(\u001b[0m\u001b[0mdesired_capabilities\u001b[0m\u001b[1;33m,\u001b[0m \u001b[0mbrowser_profile\u001b[0m\u001b[1;33m)\u001b[0m\u001b[1;33m\u001b[0m\u001b[0m\n\u001b[0m\u001b[0;32m     99\u001b[0m         \u001b[0mself\u001b[0m\u001b[1;33m.\u001b[0m\u001b[0m_switch_to\u001b[0m \u001b[1;33m=\u001b[0m \u001b[0mSwitchTo\u001b[0m\u001b[1;33m(\u001b[0m\u001b[0mself\u001b[0m\u001b[1;33m)\u001b[0m\u001b[1;33m\u001b[0m\u001b[0m\n\u001b[0;32m    100\u001b[0m         \u001b[0mself\u001b[0m\u001b[1;33m.\u001b[0m\u001b[0m_mobile\u001b[0m \u001b[1;33m=\u001b[0m \u001b[0mMobile\u001b[0m\u001b[1;33m(\u001b[0m\u001b[0mself\u001b[0m\u001b[1;33m)\u001b[0m\u001b[1;33m\u001b[0m\u001b[0m\n",
      "\u001b[1;32mC:\\Users\\vales\\Anaconda3\\lib\\site-packages\\selenium\\webdriver\\remote\\webdriver.py\u001b[0m in \u001b[0;36mstart_session\u001b[1;34m(self, capabilities, browser_profile)\u001b[0m\n\u001b[0;32m    183\u001b[0m         parameters = {\"capabilities\": w3c_caps,\n\u001b[0;32m    184\u001b[0m                       \"desiredCapabilities\": capabilities}\n\u001b[1;32m--> 185\u001b[1;33m         \u001b[0mresponse\u001b[0m \u001b[1;33m=\u001b[0m \u001b[0mself\u001b[0m\u001b[1;33m.\u001b[0m\u001b[0mexecute\u001b[0m\u001b[1;33m(\u001b[0m\u001b[0mCommand\u001b[0m\u001b[1;33m.\u001b[0m\u001b[0mNEW_SESSION\u001b[0m\u001b[1;33m,\u001b[0m \u001b[0mparameters\u001b[0m\u001b[1;33m)\u001b[0m\u001b[1;33m\u001b[0m\u001b[0m\n\u001b[0m\u001b[0;32m    186\u001b[0m         \u001b[1;32mif\u001b[0m \u001b[1;34m'sessionId'\u001b[0m \u001b[1;32mnot\u001b[0m \u001b[1;32min\u001b[0m \u001b[0mresponse\u001b[0m\u001b[1;33m:\u001b[0m\u001b[1;33m\u001b[0m\u001b[0m\n\u001b[0;32m    187\u001b[0m             \u001b[0mresponse\u001b[0m \u001b[1;33m=\u001b[0m \u001b[0mresponse\u001b[0m\u001b[1;33m[\u001b[0m\u001b[1;34m'value'\u001b[0m\u001b[1;33m]\u001b[0m\u001b[1;33m\u001b[0m\u001b[0m\n",
      "\u001b[1;32mC:\\Users\\vales\\Anaconda3\\lib\\site-packages\\selenium\\webdriver\\remote\\webdriver.py\u001b[0m in \u001b[0;36mexecute\u001b[1;34m(self, driver_command, params)\u001b[0m\n\u001b[0;32m    247\u001b[0m         \u001b[0mresponse\u001b[0m \u001b[1;33m=\u001b[0m \u001b[0mself\u001b[0m\u001b[1;33m.\u001b[0m\u001b[0mcommand_executor\u001b[0m\u001b[1;33m.\u001b[0m\u001b[0mexecute\u001b[0m\u001b[1;33m(\u001b[0m\u001b[0mdriver_command\u001b[0m\u001b[1;33m,\u001b[0m \u001b[0mparams\u001b[0m\u001b[1;33m)\u001b[0m\u001b[1;33m\u001b[0m\u001b[0m\n\u001b[0;32m    248\u001b[0m         \u001b[1;32mif\u001b[0m \u001b[0mresponse\u001b[0m\u001b[1;33m:\u001b[0m\u001b[1;33m\u001b[0m\u001b[0m\n\u001b[1;32m--> 249\u001b[1;33m             \u001b[0mself\u001b[0m\u001b[1;33m.\u001b[0m\u001b[0merror_handler\u001b[0m\u001b[1;33m.\u001b[0m\u001b[0mcheck_response\u001b[0m\u001b[1;33m(\u001b[0m\u001b[0mresponse\u001b[0m\u001b[1;33m)\u001b[0m\u001b[1;33m\u001b[0m\u001b[0m\n\u001b[0m\u001b[0;32m    250\u001b[0m             response['value'] = self._unwrap_value(\n\u001b[0;32m    251\u001b[0m                 response.get('value', None))\n",
      "\u001b[1;32mC:\\Users\\vales\\Anaconda3\\lib\\site-packages\\selenium\\webdriver\\remote\\errorhandler.py\u001b[0m in \u001b[0;36mcheck_response\u001b[1;34m(self, response)\u001b[0m\n\u001b[0;32m    192\u001b[0m         \u001b[1;32melif\u001b[0m \u001b[0mexception_class\u001b[0m \u001b[1;33m==\u001b[0m \u001b[0mUnexpectedAlertPresentException\u001b[0m \u001b[1;32mand\u001b[0m \u001b[1;34m'alert'\u001b[0m \u001b[1;32min\u001b[0m \u001b[0mvalue\u001b[0m\u001b[1;33m:\u001b[0m\u001b[1;33m\u001b[0m\u001b[0m\n\u001b[0;32m    193\u001b[0m             \u001b[1;32mraise\u001b[0m \u001b[0mexception_class\u001b[0m\u001b[1;33m(\u001b[0m\u001b[0mmessage\u001b[0m\u001b[1;33m,\u001b[0m \u001b[0mscreen\u001b[0m\u001b[1;33m,\u001b[0m \u001b[0mstacktrace\u001b[0m\u001b[1;33m,\u001b[0m \u001b[0mvalue\u001b[0m\u001b[1;33m[\u001b[0m\u001b[1;34m'alert'\u001b[0m\u001b[1;33m]\u001b[0m\u001b[1;33m.\u001b[0m\u001b[0mget\u001b[0m\u001b[1;33m(\u001b[0m\u001b[1;34m'text'\u001b[0m\u001b[1;33m)\u001b[0m\u001b[1;33m)\u001b[0m\u001b[1;33m\u001b[0m\u001b[0m\n\u001b[1;32m--> 194\u001b[1;33m         \u001b[1;32mraise\u001b[0m \u001b[0mexception_class\u001b[0m\u001b[1;33m(\u001b[0m\u001b[0mmessage\u001b[0m\u001b[1;33m,\u001b[0m \u001b[0mscreen\u001b[0m\u001b[1;33m,\u001b[0m \u001b[0mstacktrace\u001b[0m\u001b[1;33m)\u001b[0m\u001b[1;33m\u001b[0m\u001b[0m\n\u001b[0m\u001b[0;32m    195\u001b[0m \u001b[1;33m\u001b[0m\u001b[0m\n\u001b[0;32m    196\u001b[0m     \u001b[1;32mdef\u001b[0m \u001b[0m_value_or_default\u001b[0m\u001b[1;33m(\u001b[0m\u001b[0mself\u001b[0m\u001b[1;33m,\u001b[0m \u001b[0mobj\u001b[0m\u001b[1;33m,\u001b[0m \u001b[0mkey\u001b[0m\u001b[1;33m,\u001b[0m \u001b[0mdefault\u001b[0m\u001b[1;33m)\u001b[0m\u001b[1;33m:\u001b[0m\u001b[1;33m\u001b[0m\u001b[0m\n",
      "\u001b[1;31mWebDriverException\u001b[0m: Message: unknown error: failed to write prefs file\n  (Driver info: chromedriver=2.29.461591 (62ebf098771772160f391d75e589dc567915b233),platform=Windows NT 10.0.16299 x86_64)\n"
     ]
    }
   ],
   "source": [
    "coin_df = pd.DataFrame(columns = ['coin_name', 'coin_symbol', 'reddit_url'])\n",
    "#count = 0\n",
    "for coin in tqdm(coin_json):\n",
    "    coin_name = coin['name']\n",
    "    coin_symbol = coin['symbol']\n",
    "    search_str = '{}+reddit+crypto'.format(coin_name)\n",
    "    search_url = 'https://duckduckgo.com/html/?q={}'.format(search_str)\n",
    "\n",
    "    browser = webdriver.Chrome(chromedriver)\n",
    "    browser.get(search_url)\n",
    "    \n",
    "    time.sleep(randint(1,2))\n",
    "    \n",
    "    \n",
    "    results = browser.find_elements_by_xpath('//div[@class=\"result results_links results_links_deep web-result \"]')\n",
    "    #results = soup.findAll('div', class_ = 'result results_links results_links_deep web-result ')\n",
    "    \n",
    "    subreddit = 'null'\n",
    "    \n",
    "    for result in results:\n",
    "        hrefs = result.find_elements_by_xpath('//a[@href]')\n",
    "        \n",
    "        for href in hrefs:\n",
    "            href_text = href.get_attribute('href')\n",
    "            #href_text = href_text.replace('%2F', '/')\n",
    "            #href_text = href_text.replace('%3A', ':')\n",
    "            #href_text = href_text.split('=')[2]\n",
    "            \n",
    "            if 'reddit.com/r' in href_text:\n",
    "                subreddit = href_text\n",
    "                print(coin_name, subreddit)\n",
    "                break\n",
    "        else:\n",
    "            continue\n",
    "        break\n",
    "                \n",
    "    coin_df.loc[count] = [coin_name, coin_symbol, subreddit]\n",
    "    count += 1\n",
    "    \n",
    "    time.sleep(randint(3,5))\n",
    "    \n",
    "    browser.close()"
   ]
  },
  {
   "cell_type": "code",
   "execution_count": 16,
   "metadata": {},
   "outputs": [],
   "source": [
    "os.chdir('D:/data/crypto/')\n",
    "#coin_df.to_csv('subreddit_list.csv')\n",
    "\n",
    "coin_df = pd.read_csv('subreddit_list.csv')\n",
    "valid_df = pd.read_csv('subreddit_valid_list.csv')\n",
    "coin_df = coin_df[['coin_name', 'coin_symbol', 'reddit_url']]\n",
    "\n"
   ]
  },
  {
   "cell_type": "code",
   "execution_count": 27,
   "metadata": {},
   "outputs": [
    {
     "data": {
      "text/plain": [
       "[{'index': 27,\n",
       "  'url': 'https://www.reddit.com/r/CryptoCurrency/comments/6wjz3l/what_the_f_is_hshare/'},\n",
       " {'index': 32,\n",
       "  'url': 'https://www.reddit.com/r/CryptoCurrency/comments/6ql8u0/veritaseum/'},\n",
       " {'index': 53, 'url': 'https://www.reddit.com/r/icocrypto/'},\n",
       " {'index': 54, 'url': 'https://www.reddit.com/r/CryptoCurrency/'},\n",
       " {'index': 56,\n",
       "  'url': 'https://www.reddit.com/r/icocrypto/comments/6mr791/power_ledger_token_sale_powr/'},\n",
       " {'index': 77,\n",
       "  'url': 'https://www.reddit.com/r/CryptoCurrency/comments/7dq6mp/pura_is_a_ponzi_scam_mlm/'},\n",
       " {'index': 86, 'url': 'https://www.reddit.com/r/crypto/'},\n",
       " {'index': 88,\n",
       "  'url': 'https://www.reddit.com/r/CryptoCurrency/comments/6xy9ua/gxshares_on_binance_is_getting_bot_votes_upvote/'},\n",
       " {'index': 89,\n",
       "  'url': 'https://www.reddit.com/r/icocrypto/comments/725zba/has_anyone_heard_of_dragonchain_and_is_it_legit/'},\n",
       " {'index': 91,\n",
       "  'url': 'https://www.reddit.com/r/CryptoCurrency/comments/79x2cj/revain_building_a_trustless_consumer_review/'}]"
      ]
     },
     "execution_count": 27,
     "metadata": {},
     "output_type": "execute_result"
    }
   ],
   "source": [
    "urls = coin_df['reddit_url'].values\n",
    "\n",
    "verify_ls = []\n",
    "subreddit_ls = ['CryptoCurrency', 'ethtrader', 'icocrypto', 'CryptoMarkets', 'crypto']\n",
    "\n",
    "for u, url in enumerate(urls):\n",
    "    temp_url = url.replace('https://www.reddit.com/r/', '')\n",
    "    split_url = temp_url.split('/')\n",
    "    if len(split_url) > 2 or split_url[0] in subreddit_ls:\n",
    "        verify_ls.append({'index': u, 'url': url})\n",
    "        \n",
    "verify_ls[:10]"
   ]
  },
  {
   "cell_type": "code",
   "execution_count": 50,
   "metadata": {},
   "outputs": [
    {
     "name": "stdout",
     "output_type": "stream",
     "text": [
      "165 Pillar\n",
      "168 EncryptoTel [WAVES]\n",
      "171 Bitcore\n",
      "172 SaluS\n",
      "174 Tierion\n",
      "176 FirstBlood\n",
      "177 Global Currency Reserve\n",
      "179 bitqy\n",
      "180 Time New Bank\n",
      "181 Numeraire\n",
      "182 Moeda Loyalty Points\n",
      "183 Bitzeny\n",
      "184 Delphy\n",
      "185 Presearch\n",
      "186 Modum\n",
      "187 MonetaryUnit\n",
      "188 Safe Exchange Coin\n",
      "189 Russian Miner Coin\n",
      "191 Ambrosus\n",
      "192 Cindicator\n"
     ]
    }
   ],
   "source": [
    "for x in verify_ls[40:60]:\n",
    "    print(x['index'], coin_df['coin_name'].iloc[x['index']])"
   ]
  },
  {
   "cell_type": "code",
   "execution_count": 55,
   "metadata": {},
   "outputs": [
    {
     "data": {
      "text/plain": [
       "coin_name                              Time New Bank\n",
       "coin_symbol                                      TNB\n",
       "reddit_url     https://www.reddit.com/r/TimeNewBank/\n",
       "Name: 180, dtype: object"
      ]
     },
     "execution_count": 55,
     "metadata": {},
     "output_type": "execute_result"
    }
   ],
   "source": [
    "index_num = 180\n",
    "subreddit = 'TimeNewBank'\n",
    "coin_df['reddit_url'].iloc[index_num] = 'https://www.reddit.com/r/{}/'.format(subreddit)\n",
    "coin_df.iloc[index_num]"
   ]
  },
  {
   "cell_type": "code",
   "execution_count": 49,
   "metadata": {
    "scrolled": true
   },
   "outputs": [
    {
     "data": {
      "text/html": [
       "<div>\n",
       "<table border=\"1\" class=\"dataframe\">\n",
       "  <thead>\n",
       "    <tr style=\"text-align: right;\">\n",
       "      <th></th>\n",
       "      <th>coin_name</th>\n",
       "      <th>coin_symbol</th>\n",
       "      <th>reddit_url</th>\n",
       "      <th>valid</th>\n",
       "    </tr>\n",
       "  </thead>\n",
       "  <tbody>\n",
       "    <tr>\n",
       "      <th>0</th>\n",
       "      <td>Bitcoin</td>\n",
       "      <td>BTC</td>\n",
       "      <td>https://www.reddit.com/r/Bitcoin/</td>\n",
       "      <td>1</td>\n",
       "    </tr>\n",
       "    <tr>\n",
       "      <th>1</th>\n",
       "      <td>Ethereum</td>\n",
       "      <td>ETH</td>\n",
       "      <td>https://www.reddit.com/r/ethereum/</td>\n",
       "      <td>1</td>\n",
       "    </tr>\n",
       "    <tr>\n",
       "      <th>2</th>\n",
       "      <td>Bitcoin Cash</td>\n",
       "      <td>BCH</td>\n",
       "      <td>https://www.reddit.com/r/Bitcoincash/</td>\n",
       "      <td>1</td>\n",
       "    </tr>\n",
       "    <tr>\n",
       "      <th>3</th>\n",
       "      <td>Litecoin</td>\n",
       "      <td>LTC</td>\n",
       "      <td>https://www.reddit.com/r/litecoin/</td>\n",
       "      <td>1</td>\n",
       "    </tr>\n",
       "    <tr>\n",
       "      <th>4</th>\n",
       "      <td>IOTA</td>\n",
       "      <td>MIOTA</td>\n",
       "      <td>https://www.reddit.com/r/Iota/</td>\n",
       "      <td>1</td>\n",
       "    </tr>\n",
       "    <tr>\n",
       "      <th>5</th>\n",
       "      <td>Ripple</td>\n",
       "      <td>XRP</td>\n",
       "      <td>https://www.reddit.com/r/Ripple/</td>\n",
       "      <td>1</td>\n",
       "    </tr>\n",
       "    <tr>\n",
       "      <th>6</th>\n",
       "      <td>Dash</td>\n",
       "      <td>DASH</td>\n",
       "      <td>https://www.reddit.com/r/dashpay/</td>\n",
       "      <td>1</td>\n",
       "    </tr>\n",
       "    <tr>\n",
       "      <th>7</th>\n",
       "      <td>NEM</td>\n",
       "      <td>XEM</td>\n",
       "      <td>https://www.reddit.com/r/nem/</td>\n",
       "      <td>1</td>\n",
       "    </tr>\n",
       "    <tr>\n",
       "      <th>8</th>\n",
       "      <td>Monero</td>\n",
       "      <td>XMR</td>\n",
       "      <td>https://www.reddit.com/r/Monero/</td>\n",
       "      <td>1</td>\n",
       "    </tr>\n",
       "    <tr>\n",
       "      <th>9</th>\n",
       "      <td>Bitcoin Gold</td>\n",
       "      <td>BTG</td>\n",
       "      <td>https://www.reddit.com/r/BitcoinGoldHQ/</td>\n",
       "      <td>1</td>\n",
       "    </tr>\n",
       "    <tr>\n",
       "      <th>10</th>\n",
       "      <td>Cardano</td>\n",
       "      <td>ADA</td>\n",
       "      <td>https://www.reddit.com/r/cardano/</td>\n",
       "      <td>1</td>\n",
       "    </tr>\n",
       "    <tr>\n",
       "      <th>11</th>\n",
       "      <td>EOS</td>\n",
       "      <td>EOS</td>\n",
       "      <td>https://www.reddit.com/r/eos/</td>\n",
       "      <td>1</td>\n",
       "    </tr>\n",
       "    <tr>\n",
       "      <th>12</th>\n",
       "      <td>Ethereum Classic</td>\n",
       "      <td>ETC</td>\n",
       "      <td>https://www.reddit.com/r/EthereumClassic/</td>\n",
       "      <td>1</td>\n",
       "    </tr>\n",
       "    <tr>\n",
       "      <th>13</th>\n",
       "      <td>Stellar Lumens</td>\n",
       "      <td>XLM</td>\n",
       "      <td>https://www.reddit.com/r/Stellar/</td>\n",
       "      <td>1</td>\n",
       "    </tr>\n",
       "    <tr>\n",
       "      <th>14</th>\n",
       "      <td>NEO</td>\n",
       "      <td>NEO</td>\n",
       "      <td>https://www.reddit.com/r/NEO/</td>\n",
       "      <td>1</td>\n",
       "    </tr>\n",
       "    <tr>\n",
       "      <th>15</th>\n",
       "      <td>BitConnect</td>\n",
       "      <td>BCC</td>\n",
       "      <td>https://www.reddit.com/r/Bitconnect/</td>\n",
       "      <td>1</td>\n",
       "    </tr>\n",
       "    <tr>\n",
       "      <th>16</th>\n",
       "      <td>Populous</td>\n",
       "      <td>PPT</td>\n",
       "      <td>https://www.reddit.com/r/populous_platform/</td>\n",
       "      <td>1</td>\n",
       "    </tr>\n",
       "    <tr>\n",
       "      <th>17</th>\n",
       "      <td>Waves</td>\n",
       "      <td>WAVES</td>\n",
       "      <td>https://www.reddit.com/r/Wavesplatform/</td>\n",
       "      <td>1</td>\n",
       "    </tr>\n",
       "    <tr>\n",
       "      <th>18</th>\n",
       "      <td>OmiseGO</td>\n",
       "      <td>OMG</td>\n",
       "      <td>https://www.reddit.com/r/omise_go/</td>\n",
       "      <td>1</td>\n",
       "    </tr>\n",
       "    <tr>\n",
       "      <th>19</th>\n",
       "      <td>Lisk</td>\n",
       "      <td>LSK</td>\n",
       "      <td>https://www.reddit.com/r/Lisk/</td>\n",
       "      <td>1</td>\n",
       "    </tr>\n",
       "    <tr>\n",
       "      <th>20</th>\n",
       "      <td>Qtum</td>\n",
       "      <td>QTUM</td>\n",
       "      <td>https://www.reddit.com/r/Qtum/</td>\n",
       "      <td>1</td>\n",
       "    </tr>\n",
       "    <tr>\n",
       "      <th>21</th>\n",
       "      <td>Zcash</td>\n",
       "      <td>ZEC</td>\n",
       "      <td>https://www.reddit.com/r/zec/</td>\n",
       "      <td>1</td>\n",
       "    </tr>\n",
       "    <tr>\n",
       "      <th>22</th>\n",
       "      <td>Stratis</td>\n",
       "      <td>STRAT</td>\n",
       "      <td>https://www.reddit.com/r/stratisplatform/</td>\n",
       "      <td>1</td>\n",
       "    </tr>\n",
       "    <tr>\n",
       "      <th>23</th>\n",
       "      <td>Ardor</td>\n",
       "      <td>ARDR</td>\n",
       "      <td>https://www.reddit.com/r/NXT/</td>\n",
       "      <td>1</td>\n",
       "    </tr>\n",
       "    <tr>\n",
       "      <th>24</th>\n",
       "      <td>Tether</td>\n",
       "      <td>USDT</td>\n",
       "      <td>https://www.reddit.com/r/Tether/</td>\n",
       "      <td>1</td>\n",
       "    </tr>\n",
       "    <tr>\n",
       "      <th>25</th>\n",
       "      <td>MonaCoin</td>\n",
       "      <td>MONA</td>\n",
       "      <td>https://www.reddit.com/r/monacoin/</td>\n",
       "      <td>1</td>\n",
       "    </tr>\n",
       "    <tr>\n",
       "      <th>26</th>\n",
       "      <td>Nxt</td>\n",
       "      <td>NXT</td>\n",
       "      <td>https://www.reddit.com/r/NXT/</td>\n",
       "      <td>1</td>\n",
       "    </tr>\n",
       "    <tr>\n",
       "      <th>27</th>\n",
       "      <td>Hshare</td>\n",
       "      <td>HSR</td>\n",
       "      <td>https://www.reddit.com/r/CryptoCurrency/commen...</td>\n",
       "      <td>0</td>\n",
       "    </tr>\n",
       "    <tr>\n",
       "      <th>28</th>\n",
       "      <td>BitShares</td>\n",
       "      <td>BTS</td>\n",
       "      <td>https://www.reddit.com/r/BitShares/</td>\n",
       "      <td>1</td>\n",
       "    </tr>\n",
       "    <tr>\n",
       "      <th>29</th>\n",
       "      <td>Bytecoin</td>\n",
       "      <td>BCN</td>\n",
       "      <td>https://www.reddit.com/r/BytecoinBCN/</td>\n",
       "      <td>1</td>\n",
       "    </tr>\n",
       "    <tr>\n",
       "      <th>...</th>\n",
       "      <td>...</td>\n",
       "      <td>...</td>\n",
       "      <td>...</td>\n",
       "      <td>...</td>\n",
       "    </tr>\n",
       "    <tr>\n",
       "      <th>1087</th>\n",
       "      <td>Desire</td>\n",
       "      <td>DSR</td>\n",
       "      <td>https://www.reddit.com/r/CryptoCurrency/</td>\n",
       "      <td>0</td>\n",
       "    </tr>\n",
       "    <tr>\n",
       "      <th>1088</th>\n",
       "      <td>Pioneer Coin</td>\n",
       "      <td>PCOIN</td>\n",
       "      <td>https://www.reddit.com/r/CryptoCurrency/</td>\n",
       "      <td>0</td>\n",
       "    </tr>\n",
       "    <tr>\n",
       "      <th>1089</th>\n",
       "      <td>Aidos Kuneen</td>\n",
       "      <td>ADK</td>\n",
       "      <td>https://www.reddit.com/r/CryptoCurrency/commen...</td>\n",
       "      <td>0</td>\n",
       "    </tr>\n",
       "    <tr>\n",
       "      <th>1090</th>\n",
       "      <td>Akuya Coin</td>\n",
       "      <td>AKY</td>\n",
       "      <td>https://www.reddit.com/r/CryptoCurrency/</td>\n",
       "      <td>0</td>\n",
       "    </tr>\n",
       "    <tr>\n",
       "      <th>1091</th>\n",
       "      <td>VPNCoin</td>\n",
       "      <td>VASH</td>\n",
       "      <td>https://www.reddit.com/r/CryptoCurrency/commen...</td>\n",
       "      <td>0</td>\n",
       "    </tr>\n",
       "    <tr>\n",
       "      <th>1092</th>\n",
       "      <td>Maker</td>\n",
       "      <td>MKR</td>\n",
       "      <td>https://www.reddit.com/r/CryptoMarkets/</td>\n",
       "      <td>1</td>\n",
       "    </tr>\n",
       "    <tr>\n",
       "      <th>1093</th>\n",
       "      <td>Suretly</td>\n",
       "      <td>SUR</td>\n",
       "      <td>https://www.reddit.com/r/CryptoCurrency/commen...</td>\n",
       "      <td>0</td>\n",
       "    </tr>\n",
       "    <tr>\n",
       "      <th>1094</th>\n",
       "      <td>B3Coin</td>\n",
       "      <td>B3</td>\n",
       "      <td>https://www.reddit.com/r/CryptoCurrency/commen...</td>\n",
       "      <td>0</td>\n",
       "    </tr>\n",
       "    <tr>\n",
       "      <th>1095</th>\n",
       "      <td>Kubera Coin</td>\n",
       "      <td>KBR</td>\n",
       "      <td>https://www.reddit.com/r/CryptoCurrency/</td>\n",
       "      <td>0</td>\n",
       "    </tr>\n",
       "    <tr>\n",
       "      <th>1096</th>\n",
       "      <td>Ergo</td>\n",
       "      <td>EFYT</td>\n",
       "      <td>https://www.reddit.com/r/CryptoCurrency/</td>\n",
       "      <td>0</td>\n",
       "    </tr>\n",
       "    <tr>\n",
       "      <th>1097</th>\n",
       "      <td>Tokugawa</td>\n",
       "      <td>TOK</td>\n",
       "      <td>https://www.reddit.com/r/CryptoCurrency/</td>\n",
       "      <td>0</td>\n",
       "    </tr>\n",
       "    <tr>\n",
       "      <th>1098</th>\n",
       "      <td>BTCMoon</td>\n",
       "      <td>BTCM</td>\n",
       "      <td>https://www.reddit.com/r/CryptoMarkets/</td>\n",
       "      <td>1</td>\n",
       "    </tr>\n",
       "    <tr>\n",
       "      <th>1099</th>\n",
       "      <td>BT1 [CST]</td>\n",
       "      <td>BT1</td>\n",
       "      <td>https://www.reddit.com/r/CryptoCurrency/commen...</td>\n",
       "      <td>0</td>\n",
       "    </tr>\n",
       "    <tr>\n",
       "      <th>1100</th>\n",
       "      <td>MSD</td>\n",
       "      <td>MSD</td>\n",
       "      <td>https://www.reddit.com/r/Bitcoin/comments/7421...</td>\n",
       "      <td>0</td>\n",
       "    </tr>\n",
       "    <tr>\n",
       "      <th>1101</th>\n",
       "      <td>Snovio</td>\n",
       "      <td>SNOV</td>\n",
       "      <td>https://www.reddit.com/r/CryptoCurrency/commen...</td>\n",
       "      <td>0</td>\n",
       "    </tr>\n",
       "    <tr>\n",
       "      <th>1102</th>\n",
       "      <td>Everus</td>\n",
       "      <td>EVR</td>\n",
       "      <td>https://www.reddit.com/r/everus/comments/78svc...</td>\n",
       "      <td>0</td>\n",
       "    </tr>\n",
       "    <tr>\n",
       "      <th>1103</th>\n",
       "      <td>Social Send</td>\n",
       "      <td>SEND</td>\n",
       "      <td>https://www.reddit.com/r/CryptoCurrency/</td>\n",
       "      <td>0</td>\n",
       "    </tr>\n",
       "    <tr>\n",
       "      <th>1104</th>\n",
       "      <td>Compcoin</td>\n",
       "      <td>CMP</td>\n",
       "      <td>https://www.reddit.com/r/compcoin/</td>\n",
       "      <td>1</td>\n",
       "    </tr>\n",
       "    <tr>\n",
       "      <th>1105</th>\n",
       "      <td>Farad</td>\n",
       "      <td>FRD</td>\n",
       "      <td>https://www.reddit.com/r/icocrypto/comments/6v...</td>\n",
       "      <td>0</td>\n",
       "    </tr>\n",
       "    <tr>\n",
       "      <th>1106</th>\n",
       "      <td>BlockCDN</td>\n",
       "      <td>BCDN</td>\n",
       "      <td>https://www.reddit.com/r/icocrypto/comments/5c...</td>\n",
       "      <td>0</td>\n",
       "    </tr>\n",
       "    <tr>\n",
       "      <th>1107</th>\n",
       "      <td>International Diamond</td>\n",
       "      <td>XID</td>\n",
       "      <td>https://www.reddit.com/r/CryptoCurrency/commen...</td>\n",
       "      <td>0</td>\n",
       "    </tr>\n",
       "    <tr>\n",
       "      <th>1108</th>\n",
       "      <td>TerraNova</td>\n",
       "      <td>TER</td>\n",
       "      <td>https://www.reddit.com/r/CryptoCurrency/commen...</td>\n",
       "      <td>0</td>\n",
       "    </tr>\n",
       "    <tr>\n",
       "      <th>1109</th>\n",
       "      <td>SIGMAcoin</td>\n",
       "      <td>SIGMA</td>\n",
       "      <td>https://www.reddit.com/r/CryptoCurrency/</td>\n",
       "      <td>0</td>\n",
       "    </tr>\n",
       "    <tr>\n",
       "      <th>1110</th>\n",
       "      <td>GulfCoin</td>\n",
       "      <td>MGC</td>\n",
       "      <td>https://www.reddit.com/r/CryptoCurrency/</td>\n",
       "      <td>0</td>\n",
       "    </tr>\n",
       "    <tr>\n",
       "      <th>1111</th>\n",
       "      <td>ZSEcoin</td>\n",
       "      <td>ZSE</td>\n",
       "      <td>https://www.reddit.com/r/CryptoCurrency/</td>\n",
       "      <td>0</td>\n",
       "    </tr>\n",
       "    <tr>\n",
       "      <th>1112</th>\n",
       "      <td>Wild Crypto</td>\n",
       "      <td>WILD</td>\n",
       "      <td>https://www.reddit.com/r/crypto/</td>\n",
       "      <td>1</td>\n",
       "    </tr>\n",
       "    <tr>\n",
       "      <th>1113</th>\n",
       "      <td>bitJob</td>\n",
       "      <td>STU</td>\n",
       "      <td>https://www.reddit.com/r/icocrypto/comments/6t...</td>\n",
       "      <td>0</td>\n",
       "    </tr>\n",
       "    <tr>\n",
       "      <th>1114</th>\n",
       "      <td>FORCE</td>\n",
       "      <td>FOR</td>\n",
       "      <td>https://www.reddit.com/r/AirForce/wiki/index</td>\n",
       "      <td>0</td>\n",
       "    </tr>\n",
       "    <tr>\n",
       "      <th>1115</th>\n",
       "      <td>UAHPay</td>\n",
       "      <td>UAHPAY</td>\n",
       "      <td>https://www.reddit.com/r/CryptoCurrency/</td>\n",
       "      <td>0</td>\n",
       "    </tr>\n",
       "    <tr>\n",
       "      <th>1116</th>\n",
       "      <td>Macro</td>\n",
       "      <td>MCR</td>\n",
       "      <td>https://www.reddit.com/r/CryptoCurrency/commen...</td>\n",
       "      <td>0</td>\n",
       "    </tr>\n",
       "  </tbody>\n",
       "</table>\n",
       "<p>1117 rows × 4 columns</p>\n",
       "</div>"
      ],
      "text/plain": [
       "                  coin_name coin_symbol  \\\n",
       "0                   Bitcoin         BTC   \n",
       "1                  Ethereum         ETH   \n",
       "2              Bitcoin Cash         BCH   \n",
       "3                  Litecoin         LTC   \n",
       "4                      IOTA       MIOTA   \n",
       "5                    Ripple         XRP   \n",
       "6                      Dash        DASH   \n",
       "7                       NEM         XEM   \n",
       "8                    Monero         XMR   \n",
       "9              Bitcoin Gold         BTG   \n",
       "10                  Cardano         ADA   \n",
       "11                      EOS         EOS   \n",
       "12         Ethereum Classic         ETC   \n",
       "13           Stellar Lumens         XLM   \n",
       "14                      NEO         NEO   \n",
       "15               BitConnect         BCC   \n",
       "16                 Populous         PPT   \n",
       "17                    Waves       WAVES   \n",
       "18                  OmiseGO         OMG   \n",
       "19                     Lisk         LSK   \n",
       "20                     Qtum        QTUM   \n",
       "21                    Zcash         ZEC   \n",
       "22                  Stratis       STRAT   \n",
       "23                    Ardor        ARDR   \n",
       "24                   Tether        USDT   \n",
       "25                 MonaCoin        MONA   \n",
       "26                      Nxt         NXT   \n",
       "27                   Hshare         HSR   \n",
       "28                BitShares         BTS   \n",
       "29                 Bytecoin         BCN   \n",
       "...                     ...         ...   \n",
       "1087                 Desire         DSR   \n",
       "1088           Pioneer Coin       PCOIN   \n",
       "1089           Aidos Kuneen         ADK   \n",
       "1090             Akuya Coin         AKY   \n",
       "1091                VPNCoin        VASH   \n",
       "1092                  Maker         MKR   \n",
       "1093                Suretly         SUR   \n",
       "1094                 B3Coin          B3   \n",
       "1095            Kubera Coin         KBR   \n",
       "1096                   Ergo        EFYT   \n",
       "1097               Tokugawa         TOK   \n",
       "1098                BTCMoon        BTCM   \n",
       "1099              BT1 [CST]         BT1   \n",
       "1100                    MSD         MSD   \n",
       "1101                 Snovio        SNOV   \n",
       "1102                 Everus         EVR   \n",
       "1103            Social Send        SEND   \n",
       "1104               Compcoin         CMP   \n",
       "1105                  Farad         FRD   \n",
       "1106               BlockCDN        BCDN   \n",
       "1107  International Diamond         XID   \n",
       "1108              TerraNova         TER   \n",
       "1109              SIGMAcoin       SIGMA   \n",
       "1110               GulfCoin         MGC   \n",
       "1111                ZSEcoin         ZSE   \n",
       "1112            Wild Crypto        WILD   \n",
       "1113                 bitJob         STU   \n",
       "1114                  FORCE         FOR   \n",
       "1115                 UAHPay      UAHPAY   \n",
       "1116                  Macro         MCR   \n",
       "\n",
       "                                             reddit_url  valid  \n",
       "0                     https://www.reddit.com/r/Bitcoin/      1  \n",
       "1                    https://www.reddit.com/r/ethereum/      1  \n",
       "2                 https://www.reddit.com/r/Bitcoincash/      1  \n",
       "3                    https://www.reddit.com/r/litecoin/      1  \n",
       "4                        https://www.reddit.com/r/Iota/      1  \n",
       "5                      https://www.reddit.com/r/Ripple/      1  \n",
       "6                     https://www.reddit.com/r/dashpay/      1  \n",
       "7                         https://www.reddit.com/r/nem/      1  \n",
       "8                      https://www.reddit.com/r/Monero/      1  \n",
       "9               https://www.reddit.com/r/BitcoinGoldHQ/      1  \n",
       "10                    https://www.reddit.com/r/cardano/      1  \n",
       "11                        https://www.reddit.com/r/eos/      1  \n",
       "12            https://www.reddit.com/r/EthereumClassic/      1  \n",
       "13                    https://www.reddit.com/r/Stellar/      1  \n",
       "14                        https://www.reddit.com/r/NEO/      1  \n",
       "15                 https://www.reddit.com/r/Bitconnect/      1  \n",
       "16          https://www.reddit.com/r/populous_platform/      1  \n",
       "17              https://www.reddit.com/r/Wavesplatform/      1  \n",
       "18                   https://www.reddit.com/r/omise_go/      1  \n",
       "19                       https://www.reddit.com/r/Lisk/      1  \n",
       "20                       https://www.reddit.com/r/Qtum/      1  \n",
       "21                        https://www.reddit.com/r/zec/      1  \n",
       "22            https://www.reddit.com/r/stratisplatform/      1  \n",
       "23                        https://www.reddit.com/r/NXT/      1  \n",
       "24                     https://www.reddit.com/r/Tether/      1  \n",
       "25                   https://www.reddit.com/r/monacoin/      1  \n",
       "26                        https://www.reddit.com/r/NXT/      1  \n",
       "27    https://www.reddit.com/r/CryptoCurrency/commen...      0  \n",
       "28                  https://www.reddit.com/r/BitShares/      1  \n",
       "29                https://www.reddit.com/r/BytecoinBCN/      1  \n",
       "...                                                 ...    ...  \n",
       "1087           https://www.reddit.com/r/CryptoCurrency/      0  \n",
       "1088           https://www.reddit.com/r/CryptoCurrency/      0  \n",
       "1089  https://www.reddit.com/r/CryptoCurrency/commen...      0  \n",
       "1090           https://www.reddit.com/r/CryptoCurrency/      0  \n",
       "1091  https://www.reddit.com/r/CryptoCurrency/commen...      0  \n",
       "1092            https://www.reddit.com/r/CryptoMarkets/      1  \n",
       "1093  https://www.reddit.com/r/CryptoCurrency/commen...      0  \n",
       "1094  https://www.reddit.com/r/CryptoCurrency/commen...      0  \n",
       "1095           https://www.reddit.com/r/CryptoCurrency/      0  \n",
       "1096           https://www.reddit.com/r/CryptoCurrency/      0  \n",
       "1097           https://www.reddit.com/r/CryptoCurrency/      0  \n",
       "1098            https://www.reddit.com/r/CryptoMarkets/      1  \n",
       "1099  https://www.reddit.com/r/CryptoCurrency/commen...      0  \n",
       "1100  https://www.reddit.com/r/Bitcoin/comments/7421...      0  \n",
       "1101  https://www.reddit.com/r/CryptoCurrency/commen...      0  \n",
       "1102  https://www.reddit.com/r/everus/comments/78svc...      0  \n",
       "1103           https://www.reddit.com/r/CryptoCurrency/      0  \n",
       "1104                 https://www.reddit.com/r/compcoin/      1  \n",
       "1105  https://www.reddit.com/r/icocrypto/comments/6v...      0  \n",
       "1106  https://www.reddit.com/r/icocrypto/comments/5c...      0  \n",
       "1107  https://www.reddit.com/r/CryptoCurrency/commen...      0  \n",
       "1108  https://www.reddit.com/r/CryptoCurrency/commen...      0  \n",
       "1109           https://www.reddit.com/r/CryptoCurrency/      0  \n",
       "1110           https://www.reddit.com/r/CryptoCurrency/      0  \n",
       "1111           https://www.reddit.com/r/CryptoCurrency/      0  \n",
       "1112                   https://www.reddit.com/r/crypto/      1  \n",
       "1113  https://www.reddit.com/r/icocrypto/comments/6t...      0  \n",
       "1114       https://www.reddit.com/r/AirForce/wiki/index      0  \n",
       "1115           https://www.reddit.com/r/CryptoCurrency/      0  \n",
       "1116  https://www.reddit.com/r/CryptoCurrency/commen...      0  \n",
       "\n",
       "[1117 rows x 4 columns]"
      ]
     },
     "execution_count": 49,
     "metadata": {},
     "output_type": "execute_result"
    }
   ],
   "source": [
    "def valid_subreddit(url):\n",
    "    temp_url = url.replace('https://www.reddit.com/r/', '')\n",
    "    split_url = temp_url.split('/')\n",
    "    if len(split_url) > 2 or split_url[0] == 'CryptoCurrency':\n",
    "        return 0\n",
    "    else:\n",
    "        return 1\n",
    "    \n",
    "coin_df['valid'] = coin_df['reddit_url'].apply(lambda x: valid_subreddit(x))\n",
    "coin_df"
   ]
  },
  {
   "cell_type": "code",
   "execution_count": 50,
   "metadata": {
    "collapsed": true
   },
   "outputs": [],
   "source": [
    "valid_df = coin_df.loc[coin_df['valid'] == 1]\n",
    "valid_df.to_csv('subreddit_valid_list.csv', index = False)"
   ]
  },
  {
   "cell_type": "code",
   "execution_count": 94,
   "metadata": {
    "collapsed": true
   },
   "outputs": [
    {
     "ename": "NoSectionError",
     "evalue": "No section: 'cryptoscan'\nYou provided the name of a praw.ini configuration which does not exist.\n\nFor help with creating a Reddit instance, visit\nhttps://praw.readthedocs.io/en/latest/code_overview/reddit_instance.html\n\nFor help on configuring PRAW, visit\nhttps://praw.readthedocs.io/en/latest/getting_started/configuration.html",
     "output_type": "error",
     "traceback": [
      "\u001b[1;31m---------------------------------------------------------------------------\u001b[0m",
      "\u001b[1;31mKeyError\u001b[0m                                  Traceback (most recent call last)",
      "\u001b[1;32mC:\\Users\\vales\\Anaconda3\\lib\\configparser.py\u001b[0m in \u001b[0;36mitems\u001b[1;34m(self, section, raw, vars)\u001b[0m\n\u001b[0;32m    843\u001b[0m         \u001b[1;32mtry\u001b[0m\u001b[1;33m:\u001b[0m\u001b[1;33m\u001b[0m\u001b[0m\n\u001b[1;32m--> 844\u001b[1;33m             \u001b[0md\u001b[0m\u001b[1;33m.\u001b[0m\u001b[0mupdate\u001b[0m\u001b[1;33m(\u001b[0m\u001b[0mself\u001b[0m\u001b[1;33m.\u001b[0m\u001b[0m_sections\u001b[0m\u001b[1;33m[\u001b[0m\u001b[0msection\u001b[0m\u001b[1;33m]\u001b[0m\u001b[1;33m)\u001b[0m\u001b[1;33m\u001b[0m\u001b[0m\n\u001b[0m\u001b[0;32m    845\u001b[0m         \u001b[1;32mexcept\u001b[0m \u001b[0mKeyError\u001b[0m\u001b[1;33m:\u001b[0m\u001b[1;33m\u001b[0m\u001b[0m\n",
      "\u001b[1;31mKeyError\u001b[0m: 'cryptoscan'",
      "\nDuring handling of the above exception, another exception occurred:\n",
      "\u001b[1;31mNoSectionError\u001b[0m                            Traceback (most recent call last)",
      "\u001b[1;32m<ipython-input-94-62cdefaef66c>\u001b[0m in \u001b[0;36m<module>\u001b[1;34m()\u001b[0m\n\u001b[1;32m----> 1\u001b[1;33m \u001b[0mreddit\u001b[0m \u001b[1;33m=\u001b[0m \u001b[0mpraw\u001b[0m\u001b[1;33m.\u001b[0m\u001b[0mReddit\u001b[0m\u001b[1;33m(\u001b[0m\u001b[1;34m'cryptoscan'\u001b[0m\u001b[1;33m)\u001b[0m\u001b[1;33m\u001b[0m\u001b[0m\n\u001b[0m\u001b[0;32m      2\u001b[0m \u001b[0msubreddit\u001b[0m \u001b[1;33m=\u001b[0m \u001b[0mreddit\u001b[0m\u001b[1;33m.\u001b[0m\u001b[0msubreddit\u001b[0m\u001b[1;33m(\u001b[0m\u001b[1;34m'Bitcoin'\u001b[0m\u001b[1;33m)\u001b[0m\u001b[1;33m\u001b[0m\u001b[0m\n",
      "\u001b[1;32mC:\\Users\\vales\\Anaconda3\\lib\\site-packages\\praw\\reddit.py\u001b[0m in \u001b[0;36m__init__\u001b[1;34m(self, site_name, requestor_class, requestor_kwargs, **config_settings)\u001b[0m\n\u001b[0;32m    127\u001b[0m         \u001b[1;32mtry\u001b[0m\u001b[1;33m:\u001b[0m\u001b[1;33m\u001b[0m\u001b[0m\n\u001b[0;32m    128\u001b[0m             \u001b[0mconfig_section\u001b[0m \u001b[1;33m=\u001b[0m \u001b[0msite_name\u001b[0m \u001b[1;32mor\u001b[0m \u001b[0mos\u001b[0m\u001b[1;33m.\u001b[0m\u001b[0mgetenv\u001b[0m\u001b[1;33m(\u001b[0m\u001b[1;34m'praw_site'\u001b[0m\u001b[1;33m)\u001b[0m \u001b[1;32mor\u001b[0m \u001b[1;34m'DEFAULT'\u001b[0m\u001b[1;33m\u001b[0m\u001b[0m\n\u001b[1;32m--> 129\u001b[1;33m             \u001b[0mself\u001b[0m\u001b[1;33m.\u001b[0m\u001b[0mconfig\u001b[0m \u001b[1;33m=\u001b[0m \u001b[0mConfig\u001b[0m\u001b[1;33m(\u001b[0m\u001b[0mconfig_section\u001b[0m\u001b[1;33m,\u001b[0m \u001b[1;33m**\u001b[0m\u001b[0mconfig_settings\u001b[0m\u001b[1;33m)\u001b[0m\u001b[1;33m\u001b[0m\u001b[0m\n\u001b[0m\u001b[0;32m    130\u001b[0m         \u001b[1;32mexcept\u001b[0m \u001b[0mconfigparser\u001b[0m\u001b[1;33m.\u001b[0m\u001b[0mNoSectionError\u001b[0m \u001b[1;32mas\u001b[0m \u001b[0mexc\u001b[0m\u001b[1;33m:\u001b[0m\u001b[1;33m\u001b[0m\u001b[0m\n\u001b[0;32m    131\u001b[0m             help_message = ('You provided the name of a praw.ini '\n",
      "\u001b[1;32mC:\\Users\\vales\\Anaconda3\\lib\\site-packages\\praw\\config.py\u001b[0m in \u001b[0;36m__init__\u001b[1;34m(self, site_name, **settings)\u001b[0m\n\u001b[0;32m     64\u001b[0m \u001b[1;33m\u001b[0m\u001b[0m\n\u001b[0;32m     65\u001b[0m         \u001b[0mself\u001b[0m\u001b[1;33m.\u001b[0m\u001b[0m_settings\u001b[0m \u001b[1;33m=\u001b[0m \u001b[0msettings\u001b[0m\u001b[1;33m\u001b[0m\u001b[0m\n\u001b[1;32m---> 66\u001b[1;33m         \u001b[0mself\u001b[0m\u001b[1;33m.\u001b[0m\u001b[0mcustom\u001b[0m \u001b[1;33m=\u001b[0m \u001b[0mdict\u001b[0m\u001b[1;33m(\u001b[0m\u001b[0mConfig\u001b[0m\u001b[1;33m.\u001b[0m\u001b[0mCONFIG\u001b[0m\u001b[1;33m.\u001b[0m\u001b[0mitems\u001b[0m\u001b[1;33m(\u001b[0m\u001b[0msite_name\u001b[0m\u001b[1;33m)\u001b[0m\u001b[1;33m,\u001b[0m \u001b[1;33m**\u001b[0m\u001b[0msettings\u001b[0m\u001b[1;33m)\u001b[0m\u001b[1;33m\u001b[0m\u001b[0m\n\u001b[0m\u001b[0;32m     67\u001b[0m \u001b[1;33m\u001b[0m\u001b[0m\n\u001b[0;32m     68\u001b[0m         \u001b[0mself\u001b[0m\u001b[1;33m.\u001b[0m\u001b[0mclient_id\u001b[0m \u001b[1;33m=\u001b[0m \u001b[0mself\u001b[0m\u001b[1;33m.\u001b[0m\u001b[0mclient_secret\u001b[0m \u001b[1;33m=\u001b[0m \u001b[0mself\u001b[0m\u001b[1;33m.\u001b[0m\u001b[0moauth_url\u001b[0m \u001b[1;33m=\u001b[0m \u001b[1;32mNone\u001b[0m\u001b[1;33m\u001b[0m\u001b[0m\n",
      "\u001b[1;32mC:\\Users\\vales\\Anaconda3\\lib\\configparser.py\u001b[0m in \u001b[0;36mitems\u001b[1;34m(self, section, raw, vars)\u001b[0m\n\u001b[0;32m    845\u001b[0m         \u001b[1;32mexcept\u001b[0m \u001b[0mKeyError\u001b[0m\u001b[1;33m:\u001b[0m\u001b[1;33m\u001b[0m\u001b[0m\n\u001b[0;32m    846\u001b[0m             \u001b[1;32mif\u001b[0m \u001b[0msection\u001b[0m \u001b[1;33m!=\u001b[0m \u001b[0mself\u001b[0m\u001b[1;33m.\u001b[0m\u001b[0mdefault_section\u001b[0m\u001b[1;33m:\u001b[0m\u001b[1;33m\u001b[0m\u001b[0m\n\u001b[1;32m--> 847\u001b[1;33m                 \u001b[1;32mraise\u001b[0m \u001b[0mNoSectionError\u001b[0m\u001b[1;33m(\u001b[0m\u001b[0msection\u001b[0m\u001b[1;33m)\u001b[0m\u001b[1;33m\u001b[0m\u001b[0m\n\u001b[0m\u001b[0;32m    848\u001b[0m         \u001b[1;31m# Update with the entry specific variables\u001b[0m\u001b[1;33m\u001b[0m\u001b[1;33m\u001b[0m\u001b[0m\n\u001b[0;32m    849\u001b[0m         \u001b[1;32mif\u001b[0m \u001b[0mvars\u001b[0m\u001b[1;33m:\u001b[0m\u001b[1;33m\u001b[0m\u001b[0m\n",
      "\u001b[1;31mNoSectionError\u001b[0m: No section: 'cryptoscan'\nYou provided the name of a praw.ini configuration which does not exist.\n\nFor help with creating a Reddit instance, visit\nhttps://praw.readthedocs.io/en/latest/code_overview/reddit_instance.html\n\nFor help on configuring PRAW, visit\nhttps://praw.readthedocs.io/en/latest/getting_started/configuration.html"
     ]
    }
   ],
   "source": [
    "\n",
    "\n",
    "reddit = praw.Reddit('cryptoscan')\n",
    "subreddit = reddit.subreddit('Bitcoin')"
   ]
  },
  {
   "cell_type": "code",
   "execution_count": 25,
   "metadata": {},
   "outputs": [
    {
     "data": {
      "text/html": [
       "<div>\n",
       "<table border=\"1\" class=\"dataframe\">\n",
       "  <thead>\n",
       "    <tr style=\"text-align: right;\">\n",
       "      <th></th>\n",
       "      <th>coin_name</th>\n",
       "      <th>coin_symbol</th>\n",
       "      <th>reddit_url</th>\n",
       "    </tr>\n",
       "  </thead>\n",
       "  <tbody>\n",
       "    <tr>\n",
       "      <th>0</th>\n",
       "      <td>Bitcoin</td>\n",
       "      <td>BTC</td>\n",
       "      <td>https://www.reddit.com/r/Bitcoin/</td>\n",
       "    </tr>\n",
       "    <tr>\n",
       "      <th>1</th>\n",
       "      <td>Ethereum</td>\n",
       "      <td>ETH</td>\n",
       "      <td>https://www.reddit.com/r/ethereum/</td>\n",
       "    </tr>\n",
       "    <tr>\n",
       "      <th>2</th>\n",
       "      <td>Bitcoin Cash</td>\n",
       "      <td>BCH</td>\n",
       "      <td>https://www.reddit.com/r/Bitcoincash/</td>\n",
       "    </tr>\n",
       "    <tr>\n",
       "      <th>3</th>\n",
       "      <td>Litecoin</td>\n",
       "      <td>LTC</td>\n",
       "      <td>https://www.reddit.com/r/litecoin/</td>\n",
       "    </tr>\n",
       "    <tr>\n",
       "      <th>4</th>\n",
       "      <td>IOTA</td>\n",
       "      <td>MIOTA</td>\n",
       "      <td>https://www.reddit.com/r/Iota/</td>\n",
       "    </tr>\n",
       "  </tbody>\n",
       "</table>\n",
       "</div>"
      ],
      "text/plain": [
       "      coin_name coin_symbol                             reddit_url\n",
       "0       Bitcoin         BTC      https://www.reddit.com/r/Bitcoin/\n",
       "1      Ethereum         ETH     https://www.reddit.com/r/ethereum/\n",
       "2  Bitcoin Cash         BCH  https://www.reddit.com/r/Bitcoincash/\n",
       "3      Litecoin         LTC     https://www.reddit.com/r/litecoin/\n",
       "4          IOTA       MIOTA         https://www.reddit.com/r/Iota/"
      ]
     },
     "execution_count": 25,
     "metadata": {},
     "output_type": "execute_result"
    }
   ],
   "source": [
    "for index, row in coin_df.iterrows():\n",
    "    try:\n",
    "        if row['reddit_url'] != valid_df['reddit_url'].loc[valid_df['coin_name'] == row['coin_name']].values[0]:\n",
    "            coin_df['reddit_url'].loc[index] = valid_df['reddit_url'].loc[valid_df['coin_name'] == row['coin_name']].values[0]\n",
    "    except:\n",
    "        pass\n",
    "coin_df.head()"
   ]
  },
  {
   "cell_type": "code",
   "execution_count": 26,
   "metadata": {},
   "outputs": [
    {
     "data": {
      "text/html": [
       "<div>\n",
       "<table border=\"1\" class=\"dataframe\">\n",
       "  <thead>\n",
       "    <tr style=\"text-align: right;\">\n",
       "      <th></th>\n",
       "      <th>coin_name</th>\n",
       "      <th>coin_symbol</th>\n",
       "      <th>reddit_url</th>\n",
       "    </tr>\n",
       "  </thead>\n",
       "  <tbody>\n",
       "    <tr>\n",
       "      <th>95</th>\n",
       "      <td>BitBay</td>\n",
       "      <td>BAY</td>\n",
       "      <td>https://www.reddit.com/r/BitBay/</td>\n",
       "    </tr>\n",
       "    <tr>\n",
       "      <th>96</th>\n",
       "      <td>ChainLink</td>\n",
       "      <td>LINK</td>\n",
       "      <td>https://www.reddit.com/r/Chainlink/</td>\n",
       "    </tr>\n",
       "    <tr>\n",
       "      <th>97</th>\n",
       "      <td>Skycoin</td>\n",
       "      <td>SKY</td>\n",
       "      <td>https://www.reddit.com/r/SkycoinProject/</td>\n",
       "    </tr>\n",
       "    <tr>\n",
       "      <th>98</th>\n",
       "      <td>Peercoin</td>\n",
       "      <td>PPC</td>\n",
       "      <td>https://www.reddit.com/r/peercoin/</td>\n",
       "    </tr>\n",
       "    <tr>\n",
       "      <th>99</th>\n",
       "      <td>MinexCoin</td>\n",
       "      <td>MNX</td>\n",
       "      <td>https://www.reddit.com/r/CryptoCurrencies/comm...</td>\n",
       "    </tr>\n",
       "    <tr>\n",
       "      <th>100</th>\n",
       "      <td>Ubiq</td>\n",
       "      <td>UBQ</td>\n",
       "      <td>https://www.reddit.com/r/Ubiq/</td>\n",
       "    </tr>\n",
       "    <tr>\n",
       "      <th>101</th>\n",
       "      <td>Feathercoin</td>\n",
       "      <td>FTC</td>\n",
       "      <td>https://www.reddit.com/r/FeatherCOin/</td>\n",
       "    </tr>\n",
       "    <tr>\n",
       "      <th>102</th>\n",
       "      <td>Aragon</td>\n",
       "      <td>ANT</td>\n",
       "      <td>https://www.reddit.com/r/aragonproject/</td>\n",
       "    </tr>\n",
       "    <tr>\n",
       "      <th>103</th>\n",
       "      <td>ATMChain</td>\n",
       "      <td>ATM</td>\n",
       "      <td>https://www.reddit.com/r/CryptoCurrency/commen...</td>\n",
       "    </tr>\n",
       "    <tr>\n",
       "      <th>104</th>\n",
       "      <td>Groestlcoin</td>\n",
       "      <td>GRS</td>\n",
       "      <td>https://www.reddit.com/r/GameCreditsCrypto/</td>\n",
       "    </tr>\n",
       "  </tbody>\n",
       "</table>\n",
       "</div>"
      ],
      "text/plain": [
       "       coin_name coin_symbol  \\\n",
       "95        BitBay         BAY   \n",
       "96     ChainLink        LINK   \n",
       "97       Skycoin         SKY   \n",
       "98      Peercoin         PPC   \n",
       "99     MinexCoin         MNX   \n",
       "100         Ubiq         UBQ   \n",
       "101  Feathercoin         FTC   \n",
       "102       Aragon         ANT   \n",
       "103     ATMChain         ATM   \n",
       "104  Groestlcoin         GRS   \n",
       "\n",
       "                                            reddit_url  \n",
       "95                    https://www.reddit.com/r/BitBay/  \n",
       "96                 https://www.reddit.com/r/Chainlink/  \n",
       "97            https://www.reddit.com/r/SkycoinProject/  \n",
       "98                  https://www.reddit.com/r/peercoin/  \n",
       "99   https://www.reddit.com/r/CryptoCurrencies/comm...  \n",
       "100                     https://www.reddit.com/r/Ubiq/  \n",
       "101              https://www.reddit.com/r/FeatherCOin/  \n",
       "102            https://www.reddit.com/r/aragonproject/  \n",
       "103  https://www.reddit.com/r/CryptoCurrency/commen...  \n",
       "104        https://www.reddit.com/r/GameCreditsCrypto/  "
      ]
     },
     "execution_count": 26,
     "metadata": {},
     "output_type": "execute_result"
    }
   ],
   "source": [
    "coin_df.iloc[95:105]"
   ]
  },
  {
   "cell_type": "code",
   "execution_count": null,
   "metadata": {
    "collapsed": true
   },
   "outputs": [],
   "source": []
  }
 ],
 "metadata": {
  "kernelspec": {
   "display_name": "Python 3",
   "language": "python",
   "name": "python3"
  },
  "language_info": {
   "codemirror_mode": {
    "name": "ipython",
    "version": 3
   },
   "file_extension": ".py",
   "mimetype": "text/x-python",
   "name": "python",
   "nbconvert_exporter": "python",
   "pygments_lexer": "ipython3",
   "version": "3.5.0"
  }
 },
 "nbformat": 4,
 "nbformat_minor": 2
}
