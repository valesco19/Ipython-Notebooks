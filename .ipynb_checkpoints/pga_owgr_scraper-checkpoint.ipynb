{
 "cells": [
  {
   "cell_type": "code",
   "execution_count": 6,
   "metadata": {
    "collapsed": false,
    "deletable": true,
    "editable": true
   },
   "outputs": [],
   "source": [
    "import time\n",
    "from datetime import datetime\n",
    "import os\n",
    "import requests\n",
    "from bs4 import BeautifulSoup as bs\n",
    "from bs4 import SoupStrainer as ss\n",
    "from glob import glob\n",
    "import httplib2"
   ]
  },
  {
   "cell_type": "code",
   "execution_count": 17,
   "metadata": {
    "collapsed": false
   },
   "outputs": [
    {
     "data": {
      "text/plain": [
       "13"
      ]
     },
     "execution_count": 17,
     "metadata": {},
     "output_type": "execute_result"
    }
   ],
   "source": [
    "os.chdir('/home/valesco/Datasets/PGA_Data/pga_owgr/')\n",
    "\n",
    "files = glob('*')\n",
    "\n",
    "year = str(datetime.now().year)\n",
    "\n",
    "max_week = 0\n",
    "\n",
    "for file in files:\n",
    "    if 'results' not in file and year in file:\n",
    "        file = file.replace('.pdf','')\n",
    "        week = int(file.split('week_')[1])\n",
    "        \n",
    "        if week > max_week:\n",
    "            max_week = week\n",
    "\n",
    "week_to_start = max_week + 1\n",
    "    \n",
    "week_to_start"
   ]
  },
  {
   "cell_type": "code",
   "execution_count": 28,
   "metadata": {
    "collapsed": false,
    "deletable": true,
    "editable": true
   },
   "outputs": [],
   "source": [
    "url = 'http://www.owgr.com/about?tabID={BBE32113-EBCB-4AD1-82AA-E3FE9741E2D9}&year=2017'\n",
    "\n",
    "http = httplib2.Http()\n",
    "status, response = http.request(url)\n",
    "\n",
    "soup = bs(response, 'html.parser')\n",
    "tags = soup('a')\n",
    "\n",
    "owgr_ls = []\n",
    "result_ls = []\n",
    "\n",
    "for tag in tags:\n",
    "    if '/owgr/doc/content/archive/{}/owgr'.format(year) in tag.get('href'):\n",
    "        owgr_ls.append(tag.get('href'))\n",
    "    if '/owgr/doc/content/archive/{}/Week'.format(year) in tag.get('href'):\n",
    "        result_ls.append(tag.get('href'))\n",
    "        \n"
   ]
  },
  {
   "cell_type": "code",
   "execution_count": 37,
   "metadata": {
    "collapsed": false,
    "deletable": true,
    "editable": true
   },
   "outputs": [],
   "source": [
    "link_ls = []\n",
    "for owgr in owgr_ls:\n",
    "    temp_url = owgr.replace('f{}.pdf'.format(year), '')\n",
    "    temp_week = temp_url[-2:]\n",
    "    if int(temp_week) >= week_to_start:\n",
    "        link_ls.append(owgr)"
   ]
  },
  {
   "cell_type": "code",
   "execution_count": 40,
   "metadata": {
    "collapsed": true,
    "deletable": true,
    "editable": true
   },
   "outputs": [],
   "source": [
    "for l, link in enumerate(link_ls):\n",
    "    response = requests.get(link)\n",
    "    \n",
    "    temp_url = link.replace('f{}.pdf'.format(year), '')\n",
    "    temp_week = int(temp_url[-2:])\n",
    "    \n",
    "    file_name = '{}_week_{}.pdf'.format(year, temp_week)\n",
    "    \n",
    "    with open('/home/valesco/Datasets/PGA_Data/pga_owgr/' + file_name, 'wb') as f:\n",
    "        f.write(response.content)\n",
    "\n",
    "    time.sleep(1)"
   ]
  },
  {
   "cell_type": "code",
   "execution_count": 39,
   "metadata": {
    "collapsed": false,
    "deletable": true,
    "editable": true
   },
   "outputs": [
    {
     "name": "stdout",
     "output_type": "stream",
     "text": [
      "2017_week_13.pdf\n",
      "2017_week_14.pdf\n",
      "2017_week_15.pdf\n",
      "2017_week_16.pdf\n",
      "2017_week_17.pdf\n",
      "2017_week_18.pdf\n",
      "2017_week_19.pdf\n",
      "2017_week_20.pdf\n",
      "2017_week_21.pdf\n",
      "2017_week_22.pdf\n"
     ]
    }
   ],
   "source": [
    "for link in link_ls:\n",
    "    temp_url = link.replace('f{}.pdf'.format(year), '')\n",
    "    temp_week = int(temp_url[-2:])\n",
    "    file_name = '{}_week_{}.pdf'.format(year, temp_week)\n",
    "    print(file_name)"
   ]
  },
  {
   "cell_type": "code",
   "execution_count": null,
   "metadata": {
    "collapsed": true,
    "deletable": true,
    "editable": true
   },
   "outputs": [],
   "source": []
  }
 ],
 "metadata": {
  "kernelspec": {
   "display_name": "Python 3",
   "language": "python",
   "name": "python3"
  },
  "language_info": {
   "codemirror_mode": {
    "name": "ipython",
    "version": 3
   },
   "file_extension": ".py",
   "mimetype": "text/x-python",
   "name": "python",
   "nbconvert_exporter": "python",
   "pygments_lexer": "ipython3",
   "version": "3.5.0"
  }
 },
 "nbformat": 4,
 "nbformat_minor": 0
}
