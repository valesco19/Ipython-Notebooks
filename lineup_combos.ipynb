{
 "cells": [
  {
   "cell_type": "code",
   "execution_count": 1,
   "metadata": {
    "collapsed": true,
    "deletable": true,
    "editable": true
   },
   "outputs": [],
   "source": [
    "import numpy as np\n",
    "import pandas as pd\n",
    "import os\n",
    "import sys\n",
    "from itertools import combinations, product\n",
    "from datetime import datetime\n",
    "import numpy_indexed as npi\n",
    "from scipy.stats import mode\n",
    "from tqdm import tqdm"
   ]
  },
  {
   "cell_type": "code",
   "execution_count": 2,
   "metadata": {
    "collapsed": true,
    "deletable": true,
    "editable": true
   },
   "outputs": [],
   "source": [
    "#pid_ls = np.arange(150).reshape(150,1).astype(np.int32)\n",
    "\n",
    "pid_ls = []\n",
    "for i in range(150):\n",
    "    pid_ls.append(i)"
   ]
  },
  {
   "cell_type": "code",
   "execution_count": 2,
   "metadata": {
    "collapsed": false,
    "deletable": true,
    "editable": true
   },
   "outputs": [
    {
     "name": "stdout",
     "output_type": "stream",
     "text": [
      "0:00:00.000041\n"
     ]
    }
   ],
   "source": [
    "start = datetime.now()\n",
    "#prod_array = np.array(pid_ls)[np.rollaxis(\n",
    "#    np.indices((len(pid_ls),) * 5), 0, 5 + 1)\n",
    "#    .reshape(-1, 5)]\n",
    "\n",
    "#print(len(prod_array))\n",
    "\n",
    "print(datetime.now() - start)"
   ]
  },
  {
   "cell_type": "code",
   "execution_count": 8,
   "metadata": {
    "collapsed": true,
    "deletable": true,
    "editable": true
   },
   "outputs": [],
   "source": [
    "def cartesian2(arrays):\n",
    "    arrays = [np.asarray(a).astype(np.int16) for a in arrays]\n",
    "    shape = (len(x) for x in arrays)\n",
    "\n",
    "    ix = np.indices(shape, dtype = np.int16)\n",
    "    ix = ix.reshape(len(arrays), -1).T\n",
    "\n",
    "    for n, arr in enumerate(arrays):\n",
    "        ix[:, n] = arrays[n][ix[:, n]]\n",
    "\n",
    "    return ix"
   ]
  },
  {
   "cell_type": "code",
   "execution_count": 9,
   "metadata": {
    "collapsed": false,
    "deletable": true,
    "editable": true
   },
   "outputs": [
    {
     "name": "stdout",
     "output_type": "stream",
     "text": [
      "506250000\n",
      "0:00:03.627050\n"
     ]
    }
   ],
   "source": [
    "start = datetime.now()\n",
    "\n",
    "cart_array = cartesian2([pid_ls, pid_ls, pid_ls, pid_ls])\n",
    "print(len(cart_array))\n",
    "\n",
    "print(datetime.now() - start)"
   ]
  },
  {
   "cell_type": "code",
   "execution_count": 6,
   "metadata": {
    "collapsed": false,
    "deletable": true,
    "editable": true
   },
   "outputs": [
    {
     "name": "stdout",
     "output_type": "stream",
     "text": [
      "3375000\n",
      "0:00:00.137049\n"
     ]
    }
   ],
   "source": [
    "start = datetime.now()\n",
    "cart_array.sort(axis = 1)\n",
    "print(len(cart_array))\n",
    "print(datetime.now() - start)"
   ]
  },
  {
   "cell_type": "code",
   "execution_count": 7,
   "metadata": {
    "collapsed": false,
    "deletable": true,
    "editable": true
   },
   "outputs": [
    {
     "name": "stdout",
     "output_type": "stream",
     "text": [
      "573800\n",
      "0:00:02.526249\n"
     ]
    }
   ],
   "source": [
    "start = datetime.now()\n",
    "cart_array = npi.unique(cart_array)\n",
    "print(len(cart_array))\n",
    "print(datetime.now() - start)"
   ]
  },
  {
   "cell_type": "code",
   "execution_count": 11,
   "metadata": {
    "collapsed": false,
    "deletable": true,
    "editable": true
   },
   "outputs": [
    {
     "name": "stdout",
     "output_type": "stream",
     "text": [
      "0:00:03.287214\n"
     ]
    }
   ],
   "source": [
    "start = datetime.now()\n",
    "\n",
    "vals, counts = mode(cart_array, axis = 1)\n",
    "\n",
    "print(datetime.now() - start)"
   ]
  },
  {
   "cell_type": "code",
   "execution_count": 12,
   "metadata": {
    "collapsed": false,
    "deletable": true,
    "editable": true
   },
   "outputs": [
    {
     "data": {
      "text/plain": [
       "array([1])"
      ]
     },
     "execution_count": 12,
     "metadata": {},
     "output_type": "execute_result"
    }
   ],
   "source": [
    "counts[15789]"
   ]
  },
  {
   "cell_type": "code",
   "execution_count": 13,
   "metadata": {
    "collapsed": false,
    "deletable": true,
    "editable": true
   },
   "outputs": [
    {
     "data": {
      "text/plain": [
       "array([  1,  34, 109])"
      ]
     },
     "execution_count": 13,
     "metadata": {},
     "output_type": "execute_result"
    }
   ],
   "source": [
    "cart_array[15789]"
   ]
  },
  {
   "cell_type": "code",
   "execution_count": 14,
   "metadata": {
    "collapsed": true,
    "deletable": true,
    "editable": true
   },
   "outputs": [],
   "source": [
    "counted_array = np.hstack((cart_array, counts))"
   ]
  },
  {
   "cell_type": "code",
   "execution_count": 15,
   "metadata": {
    "collapsed": false,
    "deletable": true,
    "editable": true
   },
   "outputs": [
    {
     "data": {
      "text/plain": [
       "573800"
      ]
     },
     "execution_count": 15,
     "metadata": {},
     "output_type": "execute_result"
    }
   ],
   "source": [
    "len(counted_array)"
   ]
  },
  {
   "cell_type": "code",
   "execution_count": 29,
   "metadata": {
    "collapsed": false,
    "deletable": true,
    "editable": true
   },
   "outputs": [
    {
     "data": {
      "text/plain": [
       "551300"
      ]
     },
     "execution_count": 29,
     "metadata": {},
     "output_type": "execute_result"
    }
   ],
   "source": [
    "counted_array = counted_array[counted_array[:,3] == 1]\n",
    "len(counted_array)"
   ]
  },
  {
   "cell_type": "code",
   "execution_count": 19,
   "metadata": {
    "collapsed": true,
    "deletable": true,
    "editable": true
   },
   "outputs": [
    {
     "data": {
      "text/plain": [
       "array([[  0,   1,   2,   1],\n",
       "       [  0,   1,   3,   1],\n",
       "       [  0,   1,   4,   1],\n",
       "       ..., \n",
       "       [  0,   6, 118,   1],\n",
       "       [  0,   6, 119,   1],\n",
       "       [  0,   6, 120,   1]])"
      ]
     },
     "execution_count": 19,
     "metadata": {},
     "output_type": "execute_result"
    }
   ],
   "source": [
    "test = counted_array[:1000]\n",
    "test[test[:,3] == 1]"
   ]
  },
  {
   "cell_type": "code",
   "execution_count": 48,
   "metadata": {},
   "outputs": [
    {
     "name": "stdout",
     "output_type": "stream",
     "text": [
      "0:00:43.450452\n"
     ]
    }
   ],
   "source": [
    "start = datetime.now()\n",
    "\n",
    "combo_4 = np.zeros(shape = (1,5))\n",
    "for pid in pid_ls:\n",
    "    temp = np.hstack((np.full((len(counted_array), 1), pid), counted_array))\n",
    "    combo_4 = np.vstack((temp, combo_4))\n",
    "    \n",
    "print(datetime.now() - start)"
   ]
  },
  {
   "cell_type": "code",
   "execution_count": 49,
   "metadata": {},
   "outputs": [],
   "source": [
    "combo_4 = combo_4[:, :4]"
   ]
  },
  {
   "cell_type": "code",
   "execution_count": 51,
   "metadata": {},
   "outputs": [
    {
     "name": "stdout",
     "output_type": "stream",
     "text": [
      "82695001\n",
      "0:00:01.102648\n"
     ]
    },
    {
     "data": {
      "text/plain": [
       "array([[   0.,    1.,    2.,  149.],\n",
       "       [   0.,    1.,    3.,  149.],\n",
       "       [   0.,    1.,    4.,  149.],\n",
       "       [   0.,    1.,    5.,  149.],\n",
       "       [   0.,    1.,    6.,  149.],\n",
       "       [   0.,    1.,    7.,  149.],\n",
       "       [   0.,    1.,    8.,  149.],\n",
       "       [   0.,    1.,    9.,  149.],\n",
       "       [   0.,    1.,   10.,  149.],\n",
       "       [   0.,    1.,   11.,  149.],\n",
       "       [   0.,    1.,   12.,  149.],\n",
       "       [   0.,    1.,   13.,  149.],\n",
       "       [   0.,    1.,   14.,  149.],\n",
       "       [   0.,    1.,   15.,  149.],\n",
       "       [   0.,    1.,   16.,  149.]])"
      ]
     },
     "execution_count": 51,
     "metadata": {},
     "output_type": "execute_result"
    }
   ],
   "source": [
    "start = datetime.now()\n",
    "combo_4.sort(axis = 1)\n",
    "print(len(combo_4))\n",
    "print(datetime.now() - start)\n",
    "combo_4[:15]"
   ]
  },
  {
   "cell_type": "code",
   "execution_count": 52,
   "metadata": {},
   "outputs": [
    {
     "name": "stdout",
     "output_type": "stream",
     "text": [
      "21914176\n",
      "0:01:22.529362\n"
     ]
    }
   ],
   "source": [
    "start = datetime.now()\n",
    "combo_4 = npi.unique(combo_4)\n",
    "print(len(combo_4))\n",
    "print(datetime.now() - start)"
   ]
  },
  {
   "cell_type": "code",
   "execution_count": 53,
   "metadata": {},
   "outputs": [
    {
     "name": "stdout",
     "output_type": "stream",
     "text": [
      "0:01:07.237537\n"
     ]
    }
   ],
   "source": [
    "start = datetime.now()\n",
    "\n",
    "vals, counts = mode(combo_4, axis = 1)\n",
    "\n",
    "print(datetime.now() - start)"
   ]
  },
  {
   "cell_type": "code",
   "execution_count": 54,
   "metadata": {},
   "outputs": [],
   "source": [
    "counted_array = np.hstack((combo_4, counts))"
   ]
  },
  {
   "cell_type": "code",
   "execution_count": 55,
   "metadata": {},
   "outputs": [
    {
     "data": {
      "text/plain": [
       "20260275"
      ]
     },
     "execution_count": 55,
     "metadata": {},
     "output_type": "execute_result"
    }
   ],
   "source": [
    "counted_array = counted_array[counted_array[:,4] == 1]\n",
    "len(counted_array)"
   ]
  },
  {
   "cell_type": "code",
   "execution_count": 73,
   "metadata": {},
   "outputs": [
    {
     "name": "stdout",
     "output_type": "stream",
     "text": [
      "0:00:00.417665\n"
     ]
    }
   ],
   "source": [
    "start = datetime.now()\n",
    "\n",
    "#test = np.any(np.equal(counted_array, [0,1,2,3,1]).all(1))\n",
    "test = np.where(np.all(counted_array == [1,2,3,5,1], axis = 1))\n",
    "\n",
    "print(datetime.now() - start)"
   ]
  },
  {
   "cell_type": "code",
   "execution_count": 96,
   "metadata": {},
   "outputs": [
    {
     "name": "stderr",
     "output_type": "stream",
     "text": [
      "\n",
      "\r",
      "  0%|          | 0/5 [00:00<?, ?it/s]\u001b[A\n",
      "\r",
      " 20%|██        | 1/5 [01:47<07:10, 107.73s/it]\r",
      " 40%|████      | 2/5 [03:25<05:14, 104.81s/it]\r",
      " 60%|██████    | 3/5 [04:54<03:19, 99.87s/it] \r",
      " 80%|████████  | 4/5 [06:28<01:38, 98.14s/it]\r",
      "100%|██████████| 5/5 [08:10<00:00, 99.29s/it]"
     ]
    },
    {
     "name": "stdout",
     "output_type": "stream",
     "text": [
      "0:08:12.769195\n"
     ]
    },
    {
     "name": "stderr",
     "output_type": "stream",
     "text": [
      "\n"
     ]
    }
   ],
   "source": [
    "start = datetime.now()\n",
    "\n",
    "combo_5 = np.zeros(shape = (1,6))\n",
    "for pid in tqdm(pid_ls[:5]):\n",
    "    temp = np.hstack((np.full((len(counted_array), 1), pid), counted_array[:,:-1]))\n",
    "    \n",
    "    temp.sort(axis = 1)\n",
    "    vals, counts = mode(temp, axis = 1)\n",
    "    \n",
    "    temp_array = np.hstack((temp, counts))\n",
    "    temp_array = temp_array[temp_array[:,5] == 1]\n",
    "    \n",
    "    combo_5 = np.vstack((combo_5, temp_array))\n",
    "    \n",
    "    temp = []\n",
    "    temp_array = []\n",
    "    \n",
    "print(datetime.now() - start)"
   ]
  },
  {
   "cell_type": "code",
   "execution_count": 97,
   "metadata": {},
   "outputs": [
    {
     "name": "stdout",
     "output_type": "stream",
     "text": [
      "98600006\n"
     ]
    },
    {
     "data": {
      "text/plain": [
       "array([[  0.,   0.,   0.,   0.,   0.,   0.],\n",
       "       [  0.,   2.,   3.,   4.,   5.,   1.],\n",
       "       [  0.,   2.,   3.,   4.,   6.,   1.],\n",
       "       [  0.,   2.,   3.,   4.,   7.,   1.],\n",
       "       [  0.,   2.,   3.,   4.,   8.,   1.],\n",
       "       [  0.,   2.,   3.,   4.,   9.,   1.],\n",
       "       [  0.,   2.,   3.,   4.,  10.,   1.],\n",
       "       [  0.,   2.,   3.,   4.,  11.,   1.],\n",
       "       [  0.,   2.,   3.,   4.,  12.,   1.],\n",
       "       [  0.,   2.,   3.,   4.,  13.,   1.],\n",
       "       [  0.,   2.,   3.,   4.,  14.,   1.],\n",
       "       [  0.,   2.,   3.,   4.,  15.,   1.],\n",
       "       [  0.,   2.,   3.,   4.,  16.,   1.],\n",
       "       [  0.,   2.,   3.,   4.,  17.,   1.],\n",
       "       [  0.,   2.,   3.,   4.,  18.,   1.],\n",
       "       [  0.,   2.,   3.,   4.,  19.,   1.],\n",
       "       [  0.,   2.,   3.,   4.,  20.,   1.],\n",
       "       [  0.,   2.,   3.,   4.,  21.,   1.],\n",
       "       [  0.,   2.,   3.,   4.,  22.,   1.],\n",
       "       [  0.,   2.,   3.,   4.,  23.,   1.],\n",
       "       [  0.,   2.,   3.,   4.,  24.,   1.],\n",
       "       [  0.,   2.,   3.,   4.,  25.,   1.],\n",
       "       [  0.,   2.,   3.,   4.,  26.,   1.]])"
      ]
     },
     "execution_count": 97,
     "metadata": {},
     "output_type": "execute_result"
    }
   ],
   "source": [
    "print(len(combo_5))\n",
    "combo_5[:23]"
   ]
  },
  {
   "cell_type": "code",
   "execution_count": 5,
   "metadata": {},
   "outputs": [],
   "source": [
    "cart_array = []"
   ]
  },
  {
   "cell_type": "code",
   "execution_count": null,
   "metadata": {},
   "outputs": [],
   "source": []
  }
 ],
 "metadata": {
  "kernelspec": {
   "display_name": "Python 3",
   "language": "python",
   "name": "python3"
  },
  "language_info": {
   "codemirror_mode": {
    "name": "ipython",
    "version": 3
   },
   "file_extension": ".py",
   "mimetype": "text/x-python",
   "name": "python",
   "nbconvert_exporter": "python",
   "pygments_lexer": "ipython3",
   "version": "3.5.0"
  }
 },
 "nbformat": 4,
 "nbformat_minor": 2
}
