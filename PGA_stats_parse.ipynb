{
 "cells": [
  {
   "cell_type": "code",
   "execution_count": 1,
   "metadata": {
    "collapsed": true,
    "deletable": true,
    "editable": true
   },
   "outputs": [],
   "source": [
    "import pandas as pd\n",
    "import numpy as np\n",
    "import os\n",
    "import json\n",
    "from glob import glob\n",
    "from tqdm import tqdm"
   ]
  },
  {
   "cell_type": "code",
   "execution_count": 2,
   "metadata": {
    "collapsed": false,
    "deletable": true,
    "editable": true
   },
   "outputs": [
    {
     "name": "stderr",
     "output_type": "stream",
     "text": [
      "  0%|          | 0/1 [00:00<?, ?it/s]\n"
     ]
    },
    {
     "ename": "KeyError",
     "evalue": "'tours'",
     "output_type": "error",
     "traceback": [
      "\u001b[0;31m---------------------------------------------------------------------------\u001b[0m",
      "\u001b[0;31mKeyError\u001b[0m                                  Traceback (most recent call last)",
      "\u001b[0;32m<ipython-input-2-dd5947a6cf23>\u001b[0m in \u001b[0;36m<module>\u001b[0;34m()\u001b[0m\n\u001b[1;32m     21\u001b[0m \u001b[0;34m\u001b[0m\u001b[0m\n\u001b[1;32m     22\u001b[0m         \u001b[0myear\u001b[0m \u001b[0;34m=\u001b[0m \u001b[0myear_num\u001b[0m\u001b[0;34m\u001b[0m\u001b[0m\n\u001b[0;32m---> 23\u001b[0;31m         \u001b[0mstat_id\u001b[0m \u001b[0;34m=\u001b[0m \u001b[0mstat_data\u001b[0m\u001b[0;34m[\u001b[0m\u001b[0;34m'tours'\u001b[0m\u001b[0;34m]\u001b[0m\u001b[0;34m[\u001b[0m\u001b[0;36m0\u001b[0m\u001b[0;34m]\u001b[0m\u001b[0;34m[\u001b[0m\u001b[0;34m'years'\u001b[0m\u001b[0;34m]\u001b[0m\u001b[0;34m[\u001b[0m\u001b[0;36m0\u001b[0m\u001b[0;34m]\u001b[0m\u001b[0;34m[\u001b[0m\u001b[0;34m'stats'\u001b[0m\u001b[0;34m]\u001b[0m\u001b[0;34m[\u001b[0m\u001b[0;36m0\u001b[0m\u001b[0;34m]\u001b[0m\u001b[0;34m[\u001b[0m\u001b[0;34m'statID'\u001b[0m\u001b[0;34m]\u001b[0m\u001b[0;34m\u001b[0m\u001b[0m\n\u001b[0m\u001b[1;32m     24\u001b[0m         \u001b[0mcategory\u001b[0m \u001b[0;34m=\u001b[0m \u001b[0mstat_data\u001b[0m\u001b[0;34m[\u001b[0m\u001b[0;34m'tours'\u001b[0m\u001b[0;34m]\u001b[0m\u001b[0;34m[\u001b[0m\u001b[0;36m0\u001b[0m\u001b[0;34m]\u001b[0m\u001b[0;34m[\u001b[0m\u001b[0;34m'years'\u001b[0m\u001b[0;34m]\u001b[0m\u001b[0;34m[\u001b[0m\u001b[0;36m0\u001b[0m\u001b[0;34m]\u001b[0m\u001b[0;34m[\u001b[0m\u001b[0;34m'stats'\u001b[0m\u001b[0;34m]\u001b[0m\u001b[0;34m[\u001b[0m\u001b[0;36m0\u001b[0m\u001b[0;34m]\u001b[0m\u001b[0;34m[\u001b[0m\u001b[0;34m'cat'\u001b[0m\u001b[0;34m]\u001b[0m\u001b[0;34m\u001b[0m\u001b[0m\n\u001b[1;32m     25\u001b[0m         \u001b[0mstat_name\u001b[0m \u001b[0;34m=\u001b[0m \u001b[0mstat_data\u001b[0m\u001b[0;34m[\u001b[0m\u001b[0;34m'tours'\u001b[0m\u001b[0;34m]\u001b[0m\u001b[0;34m[\u001b[0m\u001b[0;36m0\u001b[0m\u001b[0;34m]\u001b[0m\u001b[0;34m[\u001b[0m\u001b[0;34m'years'\u001b[0m\u001b[0;34m]\u001b[0m\u001b[0;34m[\u001b[0m\u001b[0;36m0\u001b[0m\u001b[0;34m]\u001b[0m\u001b[0;34m[\u001b[0m\u001b[0;34m'stats'\u001b[0m\u001b[0;34m]\u001b[0m\u001b[0;34m[\u001b[0m\u001b[0;36m0\u001b[0m\u001b[0;34m]\u001b[0m\u001b[0;34m[\u001b[0m\u001b[0;34m'statName'\u001b[0m\u001b[0;34m]\u001b[0m\u001b[0;34m\u001b[0m\u001b[0m\n",
      "\u001b[0;31mKeyError\u001b[0m: 'tours'"
     ]
    }
   ],
   "source": [
    "for year_num in ['2017']:\n",
    "    \n",
    "    stat_df = pd.DataFrame(columns = ['player_id', 'player_name', 'first_name', 'last_name', 'year', 'date', 'stat_id', \n",
    "                'stat_name', 'stat_explanation', 'stat_cat', 'tour_avg', 'stat_avg', 'stat_value_1', \n",
    "                'stat_value_2', 'stat_value_3', 'stat_value_4', 'stat_value_5'])\n",
    "    count = 0\n",
    "    \n",
    "    os.chdir('/home/valesco/Datasets/PGA_Data/PGA_Stats/' + year_num)\n",
    "    stat_ls = glob('*')\n",
    "    #stat_ls.remove('complete_2016_stats.json')\n",
    "    #stat_ls.remove('final_2016_stats.json')\n",
    "\n",
    "    for file in tqdm(stat_ls[:1]):\n",
    "        temp_df = pd.DataFrame(columns = ['player_id', 'player_name', 'first_name', 'last_name', 'year', 'date', 'stat_id', \n",
    "                'stat_name', 'stat_explanation', 'stat_cat', 'tour_avg', 'stat_avg', 'stat_value_1', \n",
    "                'stat_value_2', 'stat_value_3', 'stat_value_4', 'stat_value_5'])\n",
    "        temp_count = 0\n",
    "        \n",
    "        stat = open(file)\n",
    "        stat_data = json.load(stat)\n",
    "\n",
    "        year = year_num\n",
    "        stat_id = stat_data['tours'][0]['years'][0]['stats'][0]['statID']\n",
    "        category = stat_data['tours'][0]['years'][0]['stats'][0]['cat']\n",
    "        stat_name = stat_data['tours'][0]['years'][0]['stats'][0]['statName']\n",
    "        tour_avg = stat_data['tours'][0]['years'][0]['stats'][0]['tourAvg']\n",
    "        stat_explanation = stat_data['tours'][0]['years'][0]['stats'][0]['explanation']\n",
    "        stat_date = pd.to_datetime(stat_data['tours'][0]['years'][0]['lastTrnProc']['endDate'])\n",
    "\n",
    "        for player in stat_data['tours'][0]['years'][0]['stats'][0]['details']:\n",
    "            player_id = player['plrNum']\n",
    "            stat_rank = player['curRank']\n",
    "            first_name = player['plrName']['first']\n",
    "            last_name = player['plrName']['last']\n",
    "            full_name = first_name + ' ' + last_name\n",
    "\n",
    "            for i in range(5):\n",
    "                globals()['stat_value_' + str(i + 1)] = player['statValues']['statValue' + str(i + 1)]\n",
    "\n",
    "            temp_df.loc[temp_count] = [player_id, full_name, last_name, first_name, year, stat_date, stat_id, stat_name, \n",
    "                                 stat_explanation, category, tour_avg, stat_rank, stat_value_1, stat_value_2, stat_value_3,\n",
    "                                 stat_value_4, stat_value_5]\n",
    "            temp_count += 1\n",
    "        \n",
    "        stat_df = stat_df.append(temp_df, ignore_index = True)\n",
    "        \n",
    "    print(year_num + ' completed!!!')    \n",
    "    csv_name = '/home/valesco/Datasets/PGA_Data/pga_master_files/stats_final_' + year_num + '.csv'\n",
    "    #stat_df.to_csv(csv_name, sep = ';', index = False)"
   ]
  },
  {
   "cell_type": "code",
   "execution_count": 6,
   "metadata": {
    "collapsed": false,
    "deletable": true,
    "editable": true
   },
   "outputs": [
    {
     "data": {
      "text/plain": [
       "dict_keys(['245', '02433', '391', '434', '171', '276', '421', '211', '380', '236', '406', '430', '369', '247', '186', '363', '02567', '256', '02394', '02423', '309', '02330', '02361', '02327', '02386', '464', '02427', '02415', '442', '02325', '02426', '02417', '330', '347', '339', '253', '297', '216', '428', '220', '304', '222', '02368', '02671', '413', '080', '02389', '248', '412', '02568', '306', '02375', '02677', '257', '424', '367', '459', '02370', '154', '02334', '441', '135', '158', '243', '431', '110', '130', '340', '076', '461', '226', '481', '147', '02340', '02332', '138', '303', '02359', '02339', '02411', '02385', '02084', '476', '445', '02377', '187', '02369', '498', '387', '444', '375', '401', '451', '266', '02342', '102', '104', '246', '02407', '030', '115', '263', '360', '113', '109', '150', '294', '214', '484', '432', '02384', '361', '446', '02667', '230', '194', '02437', '153', '02388', '242', '454', '385', '366', '373', '02438', '199', '02366', '436', '393', '02381', '227', '014', '455', '02401', '02675', '02429', '02382', '156', '02439', '370', '02387', '02404', '470', '225', '443', '338', '122', '02673', '362', '390', '389', '143', '460', '240', '119', '114', '071', '371', '02416', '232', '02390', '407', '270', '120', '209', '468', '02367', '241', '408', '02357', '02412', '02072', '480', '219', '472', '377', '02421', '02360', '117', '078', '02393', '358', '273', '029', '132', '450', '148', '172', '208', '02335', '495', '337', '469', '028', '402', '160', '420', '02422', '02085', '127', '149', '02435', '02403', '081', '02379', '357', '02414', '305', '351', '02432', '106', '02376', '292', '435', '155', '02060', '299', '02672', '329', '223', '02338', '112', '426', '073', '085', '02447', '261', '02383', '376', '453', '404', '466', '173', '456', '349', '159', '02562', '262', '070', '087', '02409', '221', '239', '272', '327', '479', '207', '264', '072', '02419', '02434', '482', '429', '02347', '251', '350', '02398', '295', '116', '483', '101', '478', '308', '250', '02362', '382', '311', '438', '342', '190', '075', '449', '300', '02408', '452', '01008', '447', '364', '417', '425', '02331', '384', '02356', '103', '139', '215', '346', '271', '02569', '02391', '416', '331', '317', '419', '02405', '02343', '356', '336', '474', '02352', '02341', '118', '409', '02348', '372', '259', '02373', '244', '02406', '02440', '410', '145', '260', '069', '068', '02420', '399', '433', '02428', '486', '108', '348', '326', '439', '129', '02354', '258', '02380', '238', '02355', '345', '485', '02371', '02358', '02346', '467', '394', '265', '274', '411', '352', '392', '02431', '328', '210', '228', '344', '02392', '267', '285', '218', '111', '152', '212', '02372', '02448', '086', '144', '386', '255', '233', '296', '249', '234', '302', '379', '231', '229', '02564', '105', '02350', '298', '423', '475', '437', '307', '499', '388', '02442', '269', '275', '02410', '02374', '02337', '395', '254', '146', '02336', '341', '405', '365', '400', '137', '02363', '224', '368', '140', '142', '02674', '252', '381', '02430', '213', '359', '077', '301', '268', '02061', '471', '422', '457', '415', '088', '217', '02333', '02365', '235', '398', '448', '374', '293', '02328', '237', '02351', '02349', '02378', '310', '496', '079', '473', '074', '02364', '414', '477', '403', '378', '02353', '02402', '465', '427', '396', '107', '458', '02073', '343', '02329', '383'])"
      ]
     },
     "execution_count": 6,
     "metadata": {},
     "output_type": "execute_result"
    }
   ],
   "source": [
    "stat_data.keys()"
   ]
  },
  {
   "cell_type": "code",
   "execution_count": 5,
   "metadata": {
    "collapsed": false,
    "deletable": true,
    "editable": true
   },
   "outputs": [
    {
     "name": "stderr",
     "output_type": "stream",
     "text": [
      "/home/valesco/anaconda3/lib/python3.5/site-packages/IPython/core/interactiveshell.py:2717: DtypeWarning: Columns (9) have mixed types. Specify dtype option on import or set low_memory=False.\n",
      "  interactivity=interactivity, compiler=compiler, result=result)\n"
     ]
    }
   ],
   "source": [
    "stats_2013 = pd.read_csv('/home/valesco/Datasets/PGA_Data/pga_master_files/stats_final_2014.csv',\n",
    "                        sep = ';')"
   ]
  },
  {
   "cell_type": "code",
   "execution_count": 2,
   "metadata": {
    "collapsed": false,
    "deletable": true,
    "editable": true
   },
   "outputs": [],
   "source": [
    "stat = open('/home/valesco/Datasets/PGA_Data/PGA_Stats/2010/078.json')\n",
    "stat_data = json.load(stat)"
   ]
  },
  {
   "cell_type": "code",
   "execution_count": 5,
   "metadata": {
    "collapsed": false,
    "deletable": true,
    "editable": true
   },
   "outputs": [
    {
     "data": {
      "text/plain": [
       "{'curRank': '1',\n",
       " 'curRankTied': '',\n",
       " 'plrName': {'first': 'Garth', 'last': 'Mulroy', 'middle': '', 'nickname': ''},\n",
       " 'plrNum': '27302',\n",
       " 'prevRank': '1',\n",
       " 'prevRankTied': '',\n",
       " 'statValues': {'rndEvents': '53',\n",
       "  'statValue1': '92.11',\n",
       "  'statValue2': '35',\n",
       "  'statValue3': '38',\n",
       "  'statValue4': '',\n",
       "  'statValue5': '-0.46'}}"
      ]
     },
     "execution_count": 5,
     "metadata": {},
     "output_type": "execute_result"
    }
   ],
   "source": [
    "stat_data['tours'][0]['years'][0]['stats'][0]['details'][0]"
   ]
  },
  {
   "cell_type": "code",
   "execution_count": null,
   "metadata": {
    "collapsed": false,
    "deletable": true,
    "editable": true
   },
   "outputs": [],
   "source": []
  },
  {
   "cell_type": "code",
   "execution_count": null,
   "metadata": {
    "collapsed": true,
    "deletable": true,
    "editable": true
   },
   "outputs": [],
   "source": []
  }
 ],
 "metadata": {
  "kernelspec": {
   "display_name": "Python 3",
   "language": "python",
   "name": "python3"
  },
  "language_info": {
   "codemirror_mode": {
    "name": "ipython",
    "version": 3
   },
   "file_extension": ".py",
   "mimetype": "text/x-python",
   "name": "python",
   "nbconvert_exporter": "python",
   "pygments_lexer": "ipython3",
   "version": "3.5.0"
  }
 },
 "nbformat": 4,
 "nbformat_minor": 2
}
