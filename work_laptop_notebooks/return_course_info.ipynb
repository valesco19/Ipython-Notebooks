{
 "cells": [
  {
   "cell_type": "code",
   "execution_count": 85,
   "metadata": {
    "collapsed": true
   },
   "outputs": [],
   "source": [
    "from selenium import webdriver\n",
    "from selenium.webdriver.common.keys import Keys\n",
    "import pandas as pd\n",
    "import os\n",
    "from random import randint\n",
    "import time\n",
    "from geopy.geocoders import Nominatim\n",
    "from pygeocoder import Geocoder\n",
    "from tzwhere import tzwhere\n",
    "\n",
    "geolocator = Nominatim()\n",
    "chromedriver = 'C:/Users/vales/Anaconda3/Lib/ChromeDriver/chromedriver.exe'\n",
    "os.environ['webdriver.chrome.driver'] = chromedriver"
   ]
  },
  {
   "cell_type": "code",
   "execution_count": 73,
   "metadata": {},
   "outputs": [],
   "source": [
    "tournament = 'Pebble Beach Pro AM' + ' PGA'\n",
    "\n",
    "def find_tournament_page(tournament):\n",
    "    url = 'https://www.wikipedia.com'\n",
    "    browser = webdriver.Chrome()\n",
    "    browser.get(url)\n",
    "\n",
    "    search_box = browser.find_element_by_xpath('//*[@id=\"searchInput\"]')\n",
    "    search_box.send_keys(tournament)\n",
    "\n",
    "    search_btn = browser.find_element_by_xpath('//button[@class=\"pure-button pure-button-primary-progressive\"]')\n",
    "    search_btn.click()\n",
    "\n",
    "    time.sleep(2)\n",
    "\n",
    "    for i in range(5):\n",
    "        search_results = browser.find_elements_by_xpath('//div[@class=\"mw-search-result-heading\"]/a')\n",
    "        time.sleep(1)\n",
    "        search_results[i].click()    \n",
    "        try:\n",
    "            course_heading = browser.find_element_by_xpath('//th[@scope=\"row\" and contains(text(), \"Course(s)\")]')\n",
    "            courses = course_heading.find_element_by_xpath('..').text.split('\\n')\n",
    "            courses[0] = courses[0].replace('Course(s) ', '')\n",
    "            links = []\n",
    "            for course in courses:\n",
    "                try:\n",
    "                    course_link = browser.find_element_by_xpath('//a[contains(text(), \"' + course + '\")]').get_attribute('href')\n",
    "                    links.append({course: course_link})\n",
    "                except Exception as e:\n",
    "                    links.append({course: 'nan'})\n",
    "            browser.close()\n",
    "            return links\n",
    "        except Exception as e:\n",
    "            browser.back()\n",
    "       \n",
    "\n",
    "    print('tournament page not found')\n",
    "    \n",
    "def parse_links(tournament):\n",
    "    links = find_tournament_page(tournament)\n",
    "    browser = webdriver.Chrome()\n",
    "    \n",
    "    for link in links:\n",
    "        course = list(link.keys())[0]\n",
    "        url = link[course]\n",
    "        \n",
    "        course_dict = []\n",
    "        if url != 'nan':\n",
    "            browser.get(url)\n",
    "\n",
    "            lat_lon_link = browser.find_element_by_xpath('//span[@class=\"geo-dec\"]')\n",
    "            lat_lon_link.click()\n",
    "\n",
    "            time.sleep(1)\n",
    "\n",
    "            lat = float(browser.find_element_by_xpath('//span[@class=\"latitude\"]').text)\n",
    "            lon = float(browser.find_element_by_xpath('//span[@class=\"longitude\"]').text)\n",
    "\n",
    "            location = Geocoder.reverse_geocode(lat, lon)\n",
    "            city = location.city\n",
    "            state = location.state\n",
    "            country = location.country\n",
    "\n",
    "            tzwhere = tzwhere.tzwhere()\n",
    "            timezone = tzwhere.tzNameAt(lat, lon)\n",
    "            \n",
    "            temp_dict = {'name': course, 'latitude': lat, 'longitude': lon, 'city': city, 'state': state, \n",
    "                          'country': country, 'timezone': timezone}\n",
    "            \n",
    "            course_dict.append(temp_dict) \n",
    "            \n",
    "    return course_dict"
   ]
  },
  {
   "cell_type": "code",
   "execution_count": 74,
   "metadata": {},
   "outputs": [
    {
     "name": "stdout",
     "output_type": "stream",
     "text": [
      "36.56 -121.95\n",
      "36.582 -121.957\n",
      "36.601431 -121.948457\n"
     ]
    }
   ],
   "source": [
    "parse_links(tournament)"
   ]
  },
  {
   "cell_type": "code",
   "execution_count": 80,
   "metadata": {},
   "outputs": [],
   "source": [
    "lat = 36.601431\n",
    "lon = -121.948457\n",
    "\n",
    "location = Geocoder.reverse_geocode(lat, lon)\n",
    "\n"
   ]
  },
  {
   "cell_type": "code",
   "execution_count": 86,
   "metadata": {},
   "outputs": [
    {
     "data": {
      "text/plain": [
       "'America/Los_Angeles'"
      ]
     },
     "execution_count": 86,
     "metadata": {},
     "output_type": "execute_result"
    }
   ],
   "source": [
    "tzwhere = tzwhere.tzwhere()\n",
    "timezone = tzwhere.tzNameAt(lat, lon)\n",
    "\n",
    "timezone"
   ]
  },
  {
   "cell_type": "code",
   "execution_count": null,
   "metadata": {
    "collapsed": true
   },
   "outputs": [],
   "source": []
  }
 ],
 "metadata": {
  "kernelspec": {
   "display_name": "Python 3",
   "language": "python",
   "name": "python3"
  },
  "language_info": {
   "codemirror_mode": {
    "name": "ipython",
    "version": 3
   },
   "file_extension": ".py",
   "mimetype": "text/x-python",
   "name": "python",
   "nbconvert_exporter": "python",
   "pygments_lexer": "ipython3",
   "version": "3.5.0"
  }
 },
 "nbformat": 4,
 "nbformat_minor": 2
}
