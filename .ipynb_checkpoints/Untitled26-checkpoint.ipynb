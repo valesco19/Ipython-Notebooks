{
 "cells": [
  {
   "cell_type": "code",
   "execution_count": 99,
   "metadata": {
    "collapsed": false,
    "deletable": true,
    "editable": true
   },
   "outputs": [
    {
     "name": "stdout",
     "output_type": "stream",
     "text": [
      "The Cython extension is already loaded. To reload it, use:\n",
      "  %reload_ext Cython\n",
      "The cythonmagic extension is already loaded. To reload it, use:\n",
      "  %reload_ext cythonmagic\n"
     ]
    }
   ],
   "source": [
    "%load_ext Cython\n",
    "#%load_ext cythonmagic\n",
    "import numpy as np\n",
    "from itertools import combinations, chain\n",
    "from scipy.misc import comb\n",
    "from datetime import datetime\n",
    "import pandas as pd\n",
    "import cython\n",
    "from fuzzywuzzy import process\n",
    "import os"
   ]
  },
  {
   "cell_type": "code",
   "execution_count": 68,
   "metadata": {
    "collapsed": false,
    "deletable": true,
    "editable": true
   },
   "outputs": [],
   "source": [
    "os.chdir('/home/valesco/Datasets/PGA_Data/pga_temp')\n",
    "sals = pd.read_csv('rbc_heritage_salaries.csv', sep = ';')\n",
    "sals = sals[['player_name', 'salary']]\n",
    "pid_df = pd.read_csv('/home/valesco/Datasets/PGA_Data/pga_master_files/player_ids.csv',\n",
    "                    sep = ';')"
   ]
  },
  {
   "cell_type": "code",
   "execution_count": 69,
   "metadata": {
    "collapsed": false,
    "deletable": true,
    "editable": true
   },
   "outputs": [
    {
     "data": {
      "text/html": [
       "<div>\n",
       "<table border=\"1\" class=\"dataframe\">\n",
       "  <thead>\n",
       "    <tr style=\"text-align: right;\">\n",
       "      <th></th>\n",
       "      <th>player_name</th>\n",
       "      <th>salary</th>\n",
       "      <th>player_id</th>\n",
       "    </tr>\n",
       "  </thead>\n",
       "  <tbody>\n",
       "    <tr>\n",
       "      <th>0</th>\n",
       "      <td>Matt Kuchar</td>\n",
       "      <td>11500</td>\n",
       "      <td>23108</td>\n",
       "    </tr>\n",
       "    <tr>\n",
       "      <th>1</th>\n",
       "      <td>Russell Henley</td>\n",
       "      <td>10700</td>\n",
       "      <td>34098</td>\n",
       "    </tr>\n",
       "    <tr>\n",
       "      <th>2</th>\n",
       "      <td>Brandt Snedeker</td>\n",
       "      <td>10500</td>\n",
       "      <td>27649</td>\n",
       "    </tr>\n",
       "    <tr>\n",
       "      <th>3</th>\n",
       "      <td>Branden Grace</td>\n",
       "      <td>10000</td>\n",
       "      <td>29974</td>\n",
       "    </tr>\n",
       "    <tr>\n",
       "      <th>4</th>\n",
       "      <td>Kevin Kisner</td>\n",
       "      <td>9700</td>\n",
       "      <td>29478</td>\n",
       "    </tr>\n",
       "  </tbody>\n",
       "</table>\n",
       "</div>"
      ],
      "text/plain": [
       "       player_name  salary  player_id\n",
       "0      Matt Kuchar   11500      23108\n",
       "1   Russell Henley   10700      34098\n",
       "2  Brandt Snedeker   10500      27649\n",
       "3    Branden Grace   10000      29974\n",
       "4     Kevin Kisner    9700      29478"
      ]
     },
     "execution_count": 69,
     "metadata": {},
     "output_type": "execute_result"
    }
   ],
   "source": [
    "def fuzz_match(x):\n",
    "    matched = process.extractOne(x, player_names)\n",
    "    if matched[1] > 89:\n",
    "        return int(pid_df['player_id'].loc[pid_df['player_name'] == matched[0]].values[0])\n",
    "    else:\n",
    "        print(x)\n",
    "        return \"NAN\"\n",
    "    \n",
    "player_names = pid_df['player_name'].unique()\n",
    "\n",
    "sals['player_id'] = sals['player_name'].apply(lambda x: fuzz_match(x))\n",
    "\n",
    "sals.head()"
   ]
  },
  {
   "cell_type": "code",
   "execution_count": 79,
   "metadata": {
    "collapsed": false,
    "deletable": true,
    "editable": true
   },
   "outputs": [
    {
     "data": {
      "text/plain": [
       "dtype('int16')"
      ]
     },
     "execution_count": 79,
     "metadata": {},
     "output_type": "execute_result"
    }
   ],
   "source": [
    "pid_ls = sals['player_id'].values\n",
    "pid_ls = pid_ls.astype(np.int32)\n",
    "sal_ls = sals['salary'].values\n",
    "sal_ls = sal_ls.astype(np.int16)\n",
    "sal_ls[0].dtype"
   ]
  },
  {
   "cell_type": "code",
   "execution_count": 82,
   "metadata": {
    "collapsed": false
   },
   "outputs": [
    {
     "data": {
      "text/plain": [
       "132"
      ]
     },
     "execution_count": 82,
     "metadata": {},
     "output_type": "execute_result"
    }
   ],
   "source": [
    "pid_ls.shape[0]"
   ]
  },
  {
   "cell_type": "code",
   "execution_count": 102,
   "metadata": {
    "collapsed": false
   },
   "outputs": [],
   "source": [
    "%%cython\n",
    "cimport numpy as np\n",
    "\n",
    "def create_combos(sal_array, pid_array):\n",
    "    cdef int pid_num = pid_array.shape[0]\n",
    "    cdef int sal_num = sal_array.shape[0]\n",
    "    cdef np.ndarray combo = np.zeros([1,2], dtype = np.int32)\n",
    "    \n",
    "    for p1 in range(pid_num):\n",
    "        for p2 in range(pid_num):\n",
    "            if pid_array[p1] != pid_array[p2]:\n",
    "                combo = np.vstack((combo, (pid_array[p1], pid_array[p2])))\n",
    "                            \n",
    "                    \n",
    "    return combo"
   ]
  },
  {
   "cell_type": "code",
   "execution_count": 101,
   "metadata": {
    "collapsed": false
   },
   "outputs": [
    {
     "ename": "NameError",
     "evalue": "name 'np' is not defined",
     "output_type": "error",
     "traceback": [
      "\u001b[0;31m---------------------------------------------------------------------------\u001b[0m",
      "\u001b[0;31mNameError\u001b[0m                                 Traceback (most recent call last)",
      "\u001b[0;32m<ipython-input-101-c4dd1b2fae28>\u001b[0m in \u001b[0;36m<module>\u001b[0;34m()\u001b[0m\n\u001b[0;32m----> 1\u001b[0;31m \u001b[0mcreate_combos\u001b[0m\u001b[0;34m(\u001b[0m\u001b[0msal_ls\u001b[0m\u001b[0;34m,\u001b[0m \u001b[0mpid_ls\u001b[0m\u001b[0;34m)\u001b[0m\u001b[0;34m\u001b[0m\u001b[0m\n\u001b[0m",
      "\u001b[0;32m_cython_magic_239941f34691f84a95019e5a2fcc3d5f.pyx\u001b[0m in \u001b[0;36m_cython_magic_239941f34691f84a95019e5a2fcc3d5f.create_combos (/home/valesco/.cache/ipython/cython/_cython_magic_239941f34691f84a95019e5a2fcc3d5f.c:1565)\u001b[0;34m()\u001b[0m\n",
      "\u001b[0;31mNameError\u001b[0m: name 'np' is not defined"
     ]
    }
   ],
   "source": [
    "create_combos(sal_ls, pid_ls)"
   ]
  },
  {
   "cell_type": "code",
   "execution_count": null,
   "metadata": {
    "collapsed": true
   },
   "outputs": [],
   "source": []
  }
 ],
 "metadata": {
  "kernelspec": {
   "display_name": "Python 3",
   "language": "python",
   "name": "python3"
  },
  "language_info": {
   "codemirror_mode": {
    "name": "ipython",
    "version": 3
   },
   "file_extension": ".py",
   "mimetype": "text/x-python",
   "name": "python",
   "nbconvert_exporter": "python",
   "pygments_lexer": "ipython3",
   "version": "3.5.0"
  }
 },
 "nbformat": 4,
 "nbformat_minor": 2
}
