{
 "cells": [
  {
   "cell_type": "code",
   "execution_count": 12,
   "metadata": {
    "collapsed": true,
    "deletable": true,
    "editable": true
   },
   "outputs": [],
   "source": [
    "from selenium import webdriver\n",
    "from selenium.webdriver.common.keys import Keys\n",
    "import pandas as pd\n",
    "import os\n",
    "import time\n",
    "from pygeocoder import Geocoder\n",
    "from tzwhere import tzwhere\n",
    "from fuzzywuzzy import process\n",
    "\n",
    "tzwhere = tzwhere.tzwhere()\n",
    "\n",
    "def find_tournament_page(tournament):\n",
    "    #try:\n",
    "        url = 'https://www.wikipedia.com'\n",
    "        browser = webdriver.Chrome()\n",
    "        browser.get(url)\n",
    "        #try:\n",
    "        search_box = browser.find_element_by_xpath('//*[@id=\"searchInput\"]')\n",
    "        search_box.send_keys(tournament)\n",
    "\n",
    "        search_btn = browser.find_element_by_xpath('//button[@class=\"pure-button pure-button-primary-progressive\"]')\n",
    "        search_btn.click()\n",
    "\n",
    "        time.sleep(2)\n",
    "\n",
    "        for i in range(8):\n",
    "            search_results = browser.find_elements_by_xpath('//div[@class=\"mw-search-result-heading\"]/a')\n",
    "            time.sleep(1)\n",
    "            search_results[i].click()\n",
    "            #try:\n",
    "            course_heading = browser.find_element_by_xpath('//th[@scope=\"row\" and contains(text(), \"Course(s)\")]')\n",
    "            courses = course_heading.find_element_by_xpath('..').text.split('\\n')\n",
    "            courses[0] = courses[0].replace('Course(s) ', '')\n",
    "            links = {}\n",
    "            for course in courses:\n",
    "                try:\n",
    "                    course = 'TPC Potomac'\n",
    "                    course_link = browser.find_element_by_xpath('//a[contains(text(), \"' + course + '\")]').get_attribute('href')\n",
    "                    links[course] = course_link\n",
    "                except Exception as e:\n",
    "                    links[course] = 'nan'\n",
    "            browser.close()\n",
    "\n",
    "            return links\n",
    "            #except Exception as e:\n",
    "               # browser.back()\n",
    "        \"\"\"\n",
    "        except:\n",
    "            course_heading = browser.find_element_by_xpath('//th[@scope=\"row\" and contains(text(), \"Course(s)\")]')\n",
    "            courses = course_heading.find_element_by_xpath('..').text.split('\\n')\n",
    "            courses[0] = courses[0].replace('Course(s) ', '')\n",
    "            links = {}\n",
    "            for course in courses:\n",
    "                try:\n",
    "                    course_link = browser.find_element_by_xpath('//a[contains(text(), \"' + course + '\")]').get_attribute('href')\n",
    "                    links[course] = course_link\n",
    "                except Exception as e:\n",
    "                    links[course] = 'nan'\n",
    "            browser.close()\n",
    "            return links\"\"\"\n",
    "        \n",
    "        #except:\n",
    "        #'Print Error finding Tournament Page'\n",
    "\n",
    "\n",
    "    #print('{} tournament page not found'.format(tournament))\n",
    "\n",
    "def parse_links(tournament, course_name, course_num):\n",
    "    links = find_tournament_page(tournament)\n",
    "\n",
    "    if len(links.keys()) == 0:\n",
    "        return 'Tournament Not Found'\n",
    "    course_ls = list(links.keys())\n",
    "\n",
    "    matched = process.extractOne(course_name, course_ls)\n",
    "\n",
    "    if matched[1] > 50:\n",
    "        course = matched[0]\n",
    "    else:\n",
    "        return '{} course not found'.format(course_name)\n",
    "\n",
    "    browser = webdriver.Chrome()\n",
    "\n",
    "    url = links[course]\n",
    "\n",
    "    if url != 'nan':\n",
    "        browser.get(url)\n",
    "\n",
    "        lat_lon_link = browser.find_element_by_xpath('//span[@class=\"geo-default\"]')\n",
    "        lat_lon_link.click()\n",
    "\n",
    "        time.sleep(1)\n",
    "\n",
    "        lat = float(browser.find_element_by_xpath('//span[@class=\"latitude\"]').text)\n",
    "        lon = float(browser.find_element_by_xpath('//span[@class=\"longitude\"]').text)\n",
    "\n",
    "        location = Geocoder.reverse_geocode(lat, lon)\n",
    "        city = location.city\n",
    "        state = location.state\n",
    "        country = location.country\n",
    "\n",
    "        #tzwhere = tzwhere.tzwhere()\n",
    "        timezone = tzwhere.tzNameAt(lat, lon)\n",
    "\n",
    "        course_dict = {'name': course, 'latitude': lat, 'longitude': lon, 'city': city, 'state': state,\n",
    "                      'country': country, 'timezone': timezone, 'courseNum': course_num}\n",
    "\n",
    "        browser.close()\n",
    "        return course_dict\n",
    "    else:\n",
    "        pass\n",
    "\n"
   ]
  },
  {
   "cell_type": "code",
   "execution_count": 13,
   "metadata": {
    "collapsed": false,
    "deletable": true,
    "editable": true
   },
   "outputs": [],
   "source": [
    "tournament = 'PGA Quicken Loans'\n",
    "course_name = 'TPC Potomac'\n",
    "course_num = 237\n",
    "\n",
    "if __name__ == '__main__':\n",
    "    course_info = parse_links(tournament, course_name, course_num)\n",
    "    course_info"
   ]
  },
  {
   "cell_type": "code",
   "execution_count": 14,
   "metadata": {
    "collapsed": false
   },
   "outputs": [
    {
     "data": {
      "text/plain": [
       "{'city': 'Potomac',\n",
       " 'country': 'United States',\n",
       " 'courseNum': 237,\n",
       " 'latitude': 38.989,\n",
       " 'longitude': -77.202,\n",
       " 'name': 'TPC Potomac',\n",
       " 'state': 'Maryland',\n",
       " 'timezone': 'America/New_York'}"
      ]
     },
     "execution_count": 14,
     "metadata": {},
     "output_type": "execute_result"
    }
   ],
   "source": [
    "course_info"
   ]
  },
  {
   "cell_type": "code",
   "execution_count": null,
   "metadata": {
    "collapsed": true
   },
   "outputs": [],
   "source": []
  }
 ],
 "metadata": {
  "kernelspec": {
   "display_name": "Python 3",
   "language": "python",
   "name": "python3"
  },
  "language_info": {
   "codemirror_mode": {
    "name": "ipython",
    "version": 3
   },
   "file_extension": ".py",
   "mimetype": "text/x-python",
   "name": "python",
   "nbconvert_exporter": "python",
   "pygments_lexer": "ipython3",
   "version": "3.5.0"
  }
 },
 "nbformat": 4,
 "nbformat_minor": 2
}
