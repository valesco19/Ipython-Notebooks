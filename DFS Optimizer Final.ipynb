{
 "cells": [
  {
   "cell_type": "code",
   "execution_count": 1,
   "metadata": {
    "collapsed": true,
    "deletable": true,
    "editable": true
   },
   "outputs": [],
   "source": [
    "from pulp import *\n",
    "import csv\n",
    "import numpy as np\n",
    "import pandas as pd\n",
    "import os\n",
    "import time\n",
    "os.chdir('/home/valesco/Documents/')"
   ]
  },
  {
   "cell_type": "code",
   "execution_count": 5,
   "metadata": {
    "collapsed": false,
    "deletable": true,
    "editable": true
   },
   "outputs": [
    {
     "ename": "SyntaxError",
     "evalue": "invalid syntax (<ipython-input-5-501bfb7fdc81>, line 8)",
     "output_type": "error",
     "traceback": [
      "\u001b[1;36m  File \u001b[1;32m\"<ipython-input-5-501bfb7fdc81>\"\u001b[1;36m, line \u001b[1;32m8\u001b[0m\n\u001b[1;33m    custom_ops = [['odds', <, 15], ['odds', <, 30]]\u001b[0m\n\u001b[1;37m                           ^\u001b[0m\n\u001b[1;31mSyntaxError\u001b[0m\u001b[1;31m:\u001b[0m invalid syntax\n"
     ]
    }
   ],
   "source": [
    "players_to_include = []\n",
    "players_to_exclude = [] \n",
    "players_per_team = []\n",
    "pos_per_team = []\n",
    "column_to_opt = []\n",
    "max_salary = 50000\n",
    "num_lineups = 10\n",
    "custom_ops = [['odds', <, 15], ['odds', <, 30]]\n",
    "\n",
    "def optimize_col(x):\n",
    "    \n",
    "    "
   ]
  },
  {
   "cell_type": "code",
   "execution_count": null,
   "metadata": {
    "collapsed": true,
    "deletable": true,
    "editable": true
   },
   "outputs": [],
   "source": [
    "in_file = \"British.csv\"\n",
    "reader = csv.DictReader(open(in_file, 'r'))\n",
    "player_dict = []\n",
    "for i , row in enumerate(reader):\n",
    "    team = {k: v for k, v in row.items()}\n",
    "    team['id'] = i\n",
    "    player_dict.append(team)\n",
    "\n",
    "#Create number of lineups and create player list\n",
    "teams = [i for i in range(num_lineups)]\n",
    "players = [player['id'] for player in player_dict]\n",
    "\n",
    "#create LP problem\n",
    "optimize = LpProblem('Optimize Lineup', LpMinimize)\n",
    "\n",
    "#create possible assignments\n",
    "possible_assignments = LpVariable('possible', (teams, players), 0, 1, LpBinary)\n",
    "\n",
    "#Create objective\n",
    "#Set players per lineup\n",
    "optimize += lpSum([possible_assignments[team][player['id']] for player in player_dict]) == players_per_team, \\\n",
    "            'Players per Team: ' + str(players_per_team) + '_' + str(team)\n",
    "    \n",
    "#Set maximum salary per lineup\n",
    "optimize += lpSum([float(player['salary']) * possible_assignments[team][player['id']] for player in player_dict]) <= max_salry, \\\n",
    "            'Maximum Salary: ' + str(max_salary) + '_' + str(team)\n",
    "    \n",
    "#Create custom operations\n",
    "for cust in custom_ops:\n",
    "    col = player_dict[cust[0]]\n",
    "    oper = player_dict[cust[1]]\n",
    "    val = player_dict[cust[2]]\n",
    "    \n",
    "    optimize += lpSum(possible_assignments[team][player['id']] for player in player_dict if float(player['odds']) < val) >= 1, \\\n",
    "                'Custom operatinons: ' + col + '_' + oper + '_' + val\n",
    "\n",
    "        "
   ]
  },
  {
   "cell_type": "code",
   "execution_count": 2,
   "metadata": {
    "collapsed": false,
    "deletable": true,
    "editable": true
   },
   "outputs": [],
   "source": [
    "in_file = \"DK_PGAChamp_Salaries.csv\"\n",
    "reader = csv.DictReader(open(in_file, 'r'))\n",
    "player_dict = []\n",
    "for i , row in enumerate(reader):\n",
    "    team = {k: v for k, v in row.items()}\n",
    "    team['id'] = i\n",
    "    player_dict.append(team)"
   ]
  },
  {
   "cell_type": "code",
   "execution_count": 6,
   "metadata": {
    "collapsed": false,
    "deletable": true,
    "editable": true
   },
   "outputs": [
    {
     "ename": "TypeError",
     "evalue": "unorderable types: LpAffineExpression() > int()",
     "output_type": "error",
     "traceback": [
      "\u001b[1;31m---------------------------------------------------------------------------\u001b[0m",
      "\u001b[1;31mTypeError\u001b[0m                                 Traceback (most recent call last)",
      "\u001b[1;32m<ipython-input-6-4853290256f3>\u001b[0m in \u001b[0;36m<module>\u001b[1;34m()\u001b[0m\n\u001b[0;32m     14\u001b[0m     \u001b[0mgolf\u001b[0m \u001b[1;33m+=\u001b[0m \u001b[0mlpSum\u001b[0m\u001b[1;33m(\u001b[0m\u001b[1;33m[\u001b[0m\u001b[0mpossible_assignments\u001b[0m\u001b[1;33m[\u001b[0m\u001b[0mteam\u001b[0m\u001b[1;33m]\u001b[0m\u001b[1;33m[\u001b[0m\u001b[0mplayer\u001b[0m\u001b[1;33m[\u001b[0m\u001b[1;34m'id'\u001b[0m\u001b[1;33m]\u001b[0m\u001b[1;33m]\u001b[0m \u001b[1;32mfor\u001b[0m \u001b[0mplayer\u001b[0m \u001b[1;32min\u001b[0m \u001b[0mplayer_dict\u001b[0m\u001b[1;33m]\u001b[0m\u001b[1;33m)\u001b[0m \u001b[1;33m==\u001b[0m \u001b[1;36m6\u001b[0m\u001b[1;33m,\u001b[0m \u001b[1;34m'6 players per team '\u001b[0m\u001b[1;33m+\u001b[0m\u001b[0mstr\u001b[0m\u001b[1;33m(\u001b[0m\u001b[0mteam\u001b[0m\u001b[1;33m)\u001b[0m\u001b[1;33m\u001b[0m\u001b[0m\n\u001b[0;32m     15\u001b[0m     \u001b[0mgolf\u001b[0m \u001b[1;33m+=\u001b[0m \u001b[0mlpSum\u001b[0m\u001b[1;33m(\u001b[0m\u001b[1;33m[\u001b[0m\u001b[0mfloat\u001b[0m\u001b[1;33m(\u001b[0m\u001b[0mplayer\u001b[0m\u001b[1;33m[\u001b[0m\u001b[1;34m'salary'\u001b[0m\u001b[1;33m]\u001b[0m\u001b[1;33m)\u001b[0m \u001b[1;33m*\u001b[0m \u001b[0mpossible_assignments\u001b[0m\u001b[1;33m[\u001b[0m\u001b[0mteam\u001b[0m\u001b[1;33m]\u001b[0m\u001b[1;33m[\u001b[0m\u001b[0mplayer\u001b[0m\u001b[1;33m[\u001b[0m\u001b[1;34m'id'\u001b[0m\u001b[1;33m]\u001b[0m\u001b[1;33m]\u001b[0m \u001b[1;32mfor\u001b[0m \u001b[0mplayer\u001b[0m \u001b[1;32min\u001b[0m \u001b[0mplayer_dict\u001b[0m\u001b[1;33m]\u001b[0m\u001b[1;33m)\u001b[0m \u001b[1;33m<=\u001b[0m \u001b[1;36m50000\u001b[0m\u001b[1;33m\u001b[0m\u001b[0m\n\u001b[1;32m---> 16\u001b[1;33m     \u001b[0mgolf\u001b[0m \u001b[1;33m+=\u001b[0m \u001b[0mlpSum\u001b[0m\u001b[1;33m(\u001b[0m\u001b[1;33m[\u001b[0m\u001b[0mfloat\u001b[0m\u001b[1;33m(\u001b[0m\u001b[0mplayer\u001b[0m\u001b[1;33m[\u001b[0m\u001b[1;34m'odds'\u001b[0m\u001b[1;33m]\u001b[0m\u001b[1;33m)\u001b[0m \u001b[1;33m*\u001b[0m \u001b[0mpossible_assignments\u001b[0m\u001b[1;33m[\u001b[0m\u001b[0mteam\u001b[0m\u001b[1;33m]\u001b[0m\u001b[1;33m[\u001b[0m\u001b[0mplayer\u001b[0m\u001b[1;33m[\u001b[0m\u001b[1;34m'id'\u001b[0m\u001b[1;33m]\u001b[0m\u001b[1;33m]\u001b[0m \u001b[1;32mfor\u001b[0m \u001b[0mplayer\u001b[0m \u001b[1;32min\u001b[0m \u001b[0mplayer_dict\u001b[0m\u001b[1;33m]\u001b[0m\u001b[1;33m)\u001b[0m\u001b[1;33m/\u001b[0m\u001b[1;36m6\u001b[0m \u001b[1;33m>\u001b[0m \u001b[1;36m70\u001b[0m\u001b[1;33m\u001b[0m\u001b[0m\n\u001b[0m\u001b[0;32m     17\u001b[0m     \u001b[1;31m#golf += lpSum([possible_assignments[team][player['id']] for player in player_dict if float(player['odds']) < 15]) >= 1\u001b[0m\u001b[1;33m\u001b[0m\u001b[1;33m\u001b[0m\u001b[0m\n\u001b[0;32m     18\u001b[0m     \u001b[1;31m#golf += lpSum([possible_assignments[team][player['id']] for player in player_dict if float(player['salary']) > 11000]) >= 1\u001b[0m\u001b[1;33m\u001b[0m\u001b[1;33m\u001b[0m\u001b[0m\n",
      "\u001b[1;31mTypeError\u001b[0m: unorderable types: LpAffineExpression() > int()"
     ]
    }
   ],
   "source": [
    "teams = [0]\n",
    "players = [player['id'] for player in player_dict]\n",
    "\n",
    "\n",
    "golf = LpProblem('US Open', LpMinimize)\n",
    "\n",
    "possible_assignments = LpVariable.dicts(\"possible\", (teams, players), 0, 1, LpBinary)\n",
    "\n",
    "#objective\n",
    "golf += sum([float(player['odds']) * possible_assignments[team][player['id']] for player in player_dict for team in teams])\n",
    "\n",
    "\n",
    "for team in teams:\n",
    "    golf += lpSum([possible_assignments[team][player['id']] for player in player_dict]) == 6, '6 players per team '+str(team)\n",
    "    golf += lpSum([float(player['salary']) * possible_assignments[team][player['id']] for player in player_dict]) <= 50000\n",
    "    #golf += lpSum([possible_assignments[team][player['id']] for player in player_dict if float(player['odds']) < 15]) >= 1\n",
    "    #golf += lpSum([possible_assignments[team][player['id']] for player in player_dict if float(player['salary']) > 11000]) >= 1\n",
    "    #golf += lpSum([possible_assignments[team][player['id']] for player in player_dict if player['player'] == 'Rory McIlroy']) == 1\n",
    "    #golf += lpSum([possible_assignments[team][player['id']] for player in player_dict if player['name'] == 'Bubba Watson']) == 0\n",
    "    #golf += lpSum([possible_assignments[team][player['id']] for player in player_dict if player['name'] == 'Jon Rahm']) == 1\n",
    "    #golf += lpSum([possible_assignments[team][player['id']] for player in player_dict if player['player'] == t1]) == 0, 'player1'\n",
    "\n",
    "\n",
    "golf.writeLP('masters_optimization.lp')\n",
    "golf.solve()\n",
    "print('Status: ', LpStatus[golf.status])\n",
    "# Print out some results\n",
    "print(\"The optimal team is: \")\n",
    "\n",
    "opt_salary = []\n",
    "opt_odds = []\n",
    "opt_avg_pts = []\n",
    "selected = []\n",
    "for player in player_dict:\n",
    "    if possible_assignments[0][player['id']].value() == 1.0:\n",
    "        print(player['player'] + ' salary: ' + player['salary'] + ' proj: ' + player['odds'])\n",
    "        #opt_odds.append(float(player['odds']))\n",
    "        opt_salary.append(int(player['salary']))\n",
    "        opt_avg_pts.append(float(player['odds']))\n",
    "        selected.append(player['id'])\n",
    "\n",
    "\n",
    "print('Total Salary - %i, Tot Proj Points - %i' % (sum(opt_salary), sum(opt_avg_pts)))"
   ]
  },
  {
   "cell_type": "code",
   "execution_count": 6,
   "metadata": {
    "collapsed": false,
    "deletable": true,
    "editable": true
   },
   "outputs": [
    {
     "name": "stdout",
     "output_type": "stream",
     "text": [
      "Status:  Optimal\n",
      "The players chosen for team 0 are:\n",
      "Branden Grace salary: 8000 proj: 50\n",
      "Brandt Snedeker salary: 7500 proj: 55\n",
      "Charl Schwartzel salary: 7300 proj: 60\n",
      "Jim Furyk salary: 7600 proj: 60\n",
      "Phil Mickelson salary: 10200 proj: 18\n",
      "Sergio Garcia salary: 9400 proj: 25\n",
      "Total Salary - 50000, Tot Proj Points - 268\n",
      "\n",
      "\n",
      "Status:  Optimal\n",
      "The players chosen for team 1 are:\n",
      "Branden Grace salary: 8000 proj: 50\n",
      "Brandt Snedeker salary: 7500 proj: 55\n",
      "Bubba Watson salary: 9000 proj: 35\n",
      "Charl Schwartzel salary: 7300 proj: 60\n",
      "Patrick Reed salary: 8100 proj: 45\n",
      "Sergio Garcia salary: 9400 proj: 25\n",
      "Total Salary - 49300, Tot Proj Points - 270\n",
      "\n",
      "\n",
      "Status:  Optimal\n",
      "The players chosen for team 2 are:\n",
      "Adam Scott salary: 9600 proj: 35\n",
      "Branden Grace salary: 8000 proj: 50\n",
      "Brandt Snedeker salary: 7500 proj: 55\n",
      "Charl Schwartzel salary: 7300 proj: 60\n",
      "Patrick Reed salary: 8100 proj: 45\n",
      "Sergio Garcia salary: 9400 proj: 25\n",
      "Total Salary - 49900, Tot Proj Points - 270\n",
      "\n",
      "\n",
      "Status:  Optimal\n",
      "The players chosen for team 3 are:\n",
      "Branden Grace salary: 8000 proj: 50\n",
      "Brandt Snedeker salary: 7500 proj: 55\n",
      "Bubba Watson salary: 9000 proj: 35\n",
      "Jim Furyk salary: 7600 proj: 60\n",
      "Patrick Reed salary: 8100 proj: 45\n",
      "Sergio Garcia salary: 9400 proj: 25\n",
      "Total Salary - 49600, Tot Proj Points - 270\n",
      "\n",
      "\n",
      "Status:  Optimal\n",
      "The players chosen for team 4 are:\n",
      "Branden Grace salary: 8000 proj: 50\n",
      "Brandt Snedeker salary: 7500 proj: 55\n",
      "Brooks Koepka salary: 7800 proj: 60\n",
      "Bubba Watson salary: 9000 proj: 35\n",
      "Patrick Reed salary: 8100 proj: 45\n",
      "Sergio Garcia salary: 9400 proj: 25\n",
      "Total Salary - 49800, Tot Proj Points - 270\n",
      "\n",
      "\n",
      "Status:  Optimal\n",
      "The players chosen for team 5 are:\n",
      "Branden Grace salary: 8000 proj: 50\n",
      "Brandt Snedeker salary: 7500 proj: 55\n",
      "Bubba Watson salary: 9000 proj: 35\n",
      "Martin Kaymer salary: 7900 proj: 60\n",
      "Patrick Reed salary: 8100 proj: 45\n",
      "Sergio Garcia salary: 9400 proj: 25\n",
      "Total Salary - 49900, Tot Proj Points - 270\n",
      "\n",
      "\n",
      "Status:  Optimal\n",
      "The players chosen for team 6 are:\n",
      "Bubba Watson salary: 9000 proj: 35\n",
      "Charl Schwartzel salary: 7300 proj: 60\n",
      "Jim Furyk salary: 7600 proj: 60\n",
      "Matt Kuchar salary: 8600 proj: 45\n",
      "Patrick Reed salary: 8100 proj: 45\n",
      "Sergio Garcia salary: 9400 proj: 25\n",
      "Total Salary - 50000, Tot Proj Points - 270\n",
      "\n",
      "\n",
      "Status:  Optimal\n",
      "The players chosen for team 7 are:\n",
      "Branden Grace salary: 8000 proj: 50\n",
      "Brandt Snedeker salary: 7500 proj: 55\n",
      "Bubba Watson salary: 9000 proj: 35\n",
      "Charl Schwartzel salary: 7300 proj: 60\n",
      "Matt Kuchar salary: 8600 proj: 45\n",
      "Sergio Garcia salary: 9400 proj: 25\n",
      "Total Salary - 49800, Tot Proj Points - 270\n",
      "\n",
      "\n",
      "Status:  Optimal\n",
      "The players chosen for team 8 are:\n",
      "Branden Grace salary: 8000 proj: 50\n",
      "Brandt Snedeker salary: 7500 proj: 55\n",
      "Charl Schwartzel salary: 7300 proj: 60\n",
      "Henrik Stenson salary: 10500 proj: 16\n",
      "Matt Kuchar salary: 8600 proj: 45\n",
      "Patrick Reed salary: 8100 proj: 45\n",
      "Total Salary - 50000, Tot Proj Points - 271\n",
      "\n",
      "\n",
      "Status:  Optimal\n",
      "The players chosen for team 9 are:\n",
      "Brandt Snedeker salary: 7500 proj: 55\n",
      "Bubba Watson salary: 9000 proj: 35\n",
      "Charl Schwartzel salary: 7300 proj: 60\n",
      "Henrik Stenson salary: 10500 proj: 16\n",
      "Jim Furyk salary: 7600 proj: 60\n",
      "Patrick Reed salary: 8100 proj: 45\n",
      "Total Salary - 50000, Tot Proj Points - 271\n",
      "\n",
      "\n"
     ]
    }
   ],
   "source": [
    "for i, t1 in enumerate(range(10)):\n",
    "    teams = [0]\n",
    "    players = [player['id'] for player in player_dict]\n",
    "\n",
    "\n",
    "    golf = LpProblem('US Open', LpMinimize)\n",
    "\n",
    "    possible_assignments = LpVariable.dicts(\"possible\", (teams, players), 0, 1, LpBinary)\n",
    "\n",
    "    #objective\n",
    "    golf += sum([float(player['odds']) * possible_assignments[team][player['id']] for player in player_dict for team in teams])\n",
    "    \n",
    "    c = 0\n",
    "    for s in range(int(len(selected)/6)):\n",
    "        golf += lpSum(possible_assignments[0][selected[c]] + possible_assignments[0][selected[c+1]] +\n",
    "                      possible_assignments[0][selected[c+2]] + possible_assignments[0][selected[c+3]] +\n",
    "                      possible_assignments[0][selected[c+4]] + possible_assignments[0][selected[c+5]]) <= 5, 'selected' + str(s)\n",
    "        c += 6\n",
    "\n",
    "\n",
    "    golf += lpSum([possible_assignments[team][player['id']] for player in player_dict]) == 6, '6 players per team '+str(team)\n",
    "    golf += lpSum([float(player['salary']) * possible_assignments[team][player['id']] for player in player_dict]) <= 50000\n",
    "    #golf += lpSum([possible_assignments[team][player['id']] for player in player_dict if float(player['odds']) < 15]) >= 1\n",
    "    #golf += lpSum([possible_assignments[team][player['id']] for player in player_dict if float(player['salary']) > 11000]) >= 1\n",
    "    #golf += lpSum([possible_assignments[team][player['id']] for player in player_dict if player['player'] == 'Rory McIlroy']) == 1\n",
    "    #golf += lpSum([possible_assignments[team][player['id']] for player in player_dict if player['name'] == 'Bubba Watson']) == 0\n",
    "    #golf += lpSum([possible_assignments[team][player['id']] for player in player_dict if player['name'] == 'Jon Rahm']) == 1\n",
    "    #golf += lpSum([possible_assignments[team][player['id']] for player in player_dict if player['player'] == t1]) == 0, 'player1'\n",
    "    \n",
    "    \n",
    "    golf.writeLP('masters_optimization.lp')\n",
    "    golf.solve()\n",
    "    print('Status: ', LpStatus[golf.status])\n",
    "    # Print out some results\n",
    "    print(\"The players chosen for team \" + str(i) + \" are:\")\n",
    "\n",
    "    opt_salary = []\n",
    "    opt_odds = []\n",
    "    opt_avg_pts = []\n",
    "\n",
    "    for player in player_dict:\n",
    "        if possible_assignments[0][player['id']].value() == 1.0:\n",
    "            print(player['player'] + ' salary: ' + player['salary'] + ' proj: ' + player['odds'])\n",
    "            #opt_odds.append(float(player['odds']))\n",
    "            opt_salary.append(int(player['salary']))\n",
    "            opt_avg_pts.append(float(player['odds']))\n",
    "            selected.append(player['id'])\n",
    "\n",
    "\n",
    "    print('Total Salary - %i, Tot Proj Points - %i' % (sum(opt_salary), sum(opt_avg_pts)))\n",
    "    print('\\n')\n",
    "    \n"
   ]
  },
  {
   "cell_type": "code",
   "execution_count": 67,
   "metadata": {
    "collapsed": false,
    "deletable": true,
    "editable": true
   },
   "outputs": [
    {
     "data": {
      "text/plain": [
       "1.0"
      ]
     },
     "execution_count": 67,
     "metadata": {},
     "output_type": "execute_result"
    }
   ],
   "source": [
    "len(selected)/6"
   ]
  },
  {
   "cell_type": "code",
   "execution_count": null,
   "metadata": {
    "collapsed": true,
    "deletable": true,
    "editable": true
   },
   "outputs": [],
   "source": []
  }
 ],
 "metadata": {
  "kernelspec": {
   "display_name": "Python 3",
   "language": "python",
   "name": "python3"
  },
  "language_info": {
   "codemirror_mode": {
    "name": "ipython",
    "version": 3
   },
   "file_extension": ".py",
   "mimetype": "text/x-python",
   "name": "python",
   "nbconvert_exporter": "python",
   "pygments_lexer": "ipython3",
   "version": "3.5.0"
  }
 },
 "nbformat": 4,
 "nbformat_minor": 0
}
