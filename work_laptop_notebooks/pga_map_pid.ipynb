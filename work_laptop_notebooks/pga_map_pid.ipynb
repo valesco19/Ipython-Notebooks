{
 "cells": [
  {
   "cell_type": "code",
   "execution_count": 87,
   "metadata": {},
   "outputs": [],
   "source": [
    "import numpy as np\n",
    "import pandas as pd\n",
    "import os\n",
    "from fuzzywuzzy import process\n",
    "import json\n",
    "import requests\n",
    "from bs4 import BeautifulSoup as bs\n",
    "from selenium import webdriver\n",
    "from pga.return_pid import return_pid\n",
    "bing_api = 'd9e26b8f1aa043a996f285744134a7d3'"
   ]
  },
  {
   "cell_type": "code",
   "execution_count": 85,
   "metadata": {},
   "outputs": [],
   "source": [
    "pids = pd.read_csv('D:/data/player_ids.csv', sep = ';')\n",
    "player_ls = pids['player_name'].unique()\n",
    "masters_sal = pd.read_csv('D:/data/master_salaries.csv')"
   ]
  },
  {
   "cell_type": "code",
   "execution_count": 8,
   "metadata": {},
   "outputs": [
    {
     "name": "stdout",
     "output_type": "stream",
     "text": [
      "Alexander Noren\n",
      "Jeunghun Wang\n",
      "Curtis Luck\n",
      "Scott Gregory\n",
      "Stewart Hagestad\n",
      "Toto Gana\n"
     ]
    }
   ],
   "source": [
    "def fuzz_match(x):\n",
    "    matched = process.extractOne(x, player_ls)\n",
    "    if matched[1] > 89:\n",
    "        return pids['player_id'].loc[pids['player_name'] == matched[0]].values[0]\n",
    "    else:\n",
    "        print(x)\n",
    "        return np.nan\n",
    "    \n",
    "masters_sal['player_id'] = masters_sal['player_name'].apply(lambda x: fuzz_match(x))"
   ]
  },
  {
   "cell_type": "code",
   "execution_count": 17,
   "metadata": {},
   "outputs": [],
   "source": [
    "missing_players = ['Alexander Noren', 'Jeunghun Wang', 'Curtis Luck', 'Scott Gregory', 'Stewart Hagestad', 'Toto Gana']\n",
    "\n",
    "for player in missing_players[:1]:\n",
    "    query = '!pgatour.com alexander noren pga player id'\n",
    "    url = 'https://duckduckgo.com/?q=!pgatour.com+alexander+noren+pga+player+id&t=h_&ia=web'\n",
    "    \n",
    "    data = requests.get(url)"
   ]
  },
  {
   "cell_type": "code",
   "execution_count": 29,
   "metadata": {},
   "outputs": [],
   "source": [
    "#bing_url = 'https://api.datamarket.azure.com/Bing/Search/v1/CompositeSources=%27image%27&$top=50&$format=json&Query=%27{}%27'\n",
    "\n",
    "def bing_search(query):\n",
    "    full_url = 'https://api.cognitive.microsoft.com/bing/v5.0/search'\n",
    "    payload = {'q': query}\n",
    "    headers = {'Ocp-Apim-Subscription-Key': bing_api}\n",
    "\n",
    "    response = requests.get(full_url, params = payload, headers = headers)\n",
    "    data = response.json()\n",
    "    \n",
    "    return data\n",
    "\n",
    "def return_pid(player_name):\n",
    "    query = player_name + ' pgatour.com'.replace(' ', '+')\n",
    "    \n",
    "    data = bing_search(query)\n",
    "    \n",
    "    pid = np.nan\n",
    "    for result in data['webPages']['value']:\n",
    "        temp_url = result['displayUrl']\n",
    "        if 'pgatour.com/players/player' in temp_url:\n",
    "            temp_url = temp_url.replace('www.pgatour.com/players/player.','')\n",
    "            pid = temp_url.split('.')[0]\n",
    "        \n",
    "    return pid\n",
    "            \n",
    "if __name__ == '__main__':\n",
    "    return_pid():"
   ]
  },
  {
   "cell_type": "code",
   "execution_count": 30,
   "metadata": {},
   "outputs": [
    {
     "data": {
      "text/plain": [
       "{'Alexander Noren': '27349',\n",
       " 'Curtis Luck': '37380',\n",
       " 'Jeunghun Wang': '39958',\n",
       " 'Scott Gregory': '50735',\n",
       " 'Stewart Hagestad': nan,\n",
       " 'Toto Gana': nan}"
      ]
     },
     "execution_count": 30,
     "metadata": {},
     "output_type": "execute_result"
    }
   ],
   "source": [
    "missing_players = ['Alexander Noren', 'Jeunghun Wang', 'Curtis Luck', 'Scott Gregory', 'Stewart Hagestad', 'Toto Gana']\n",
    "\n",
    "pid_dict = {}\n",
    "for player in missing_players:\n",
    "    pid_dict[player] = return_pid(player)\n",
    "    \n",
    "pid_dict"
   ]
  },
  {
   "cell_type": "code",
   "execution_count": 31,
   "metadata": {},
   "outputs": [
    {
     "name": "stdout",
     "output_type": "stream",
     "text": [
      "27349\n",
      "39958\n",
      "37380\n",
      "50735\n"
     ]
    }
   ],
   "source": [
    "for key, value in pid_dict.items():\n",
    "    if value is not np.nan:\n",
    "        full_name = player_name\n",
    "        first_name = player_name.split(' ')[0]\n",
    "        last_name = player_name.split(' ')[1]\n",
    "        \n",
    "        df_len = pid_df.shape[0]\n",
    "        pid_df.loc[df_len + 1] = [pid, full_name, first_name, last_name]\n",
    "       "
   ]
  },
  {
   "cell_type": "code",
   "execution_count": 48,
   "metadata": {},
   "outputs": [],
   "source": [
    "df_len = pids.shape[0]\n",
    "pids.loc[df_len + 1] = ['37380', 'Curtis Luck', 'Curtis', 'Luck']"
   ]
  },
  {
   "cell_type": "code",
   "execution_count": 49,
   "metadata": {},
   "outputs": [
    {
     "data": {
      "text/html": [
       "<div>\n",
       "<table border=\"1\" class=\"dataframe\">\n",
       "  <thead>\n",
       "    <tr style=\"text-align: right;\">\n",
       "      <th></th>\n",
       "      <th>player_id</th>\n",
       "      <th>player_name</th>\n",
       "      <th>first_name</th>\n",
       "      <th>last_name</th>\n",
       "    </tr>\n",
       "  </thead>\n",
       "  <tbody>\n",
       "    <tr>\n",
       "      <th>1065</th>\n",
       "      <td>48084</td>\n",
       "      <td>Wesley Bryan</td>\n",
       "      <td>Wesley</td>\n",
       "      <td>Bryan</td>\n",
       "    </tr>\n",
       "    <tr>\n",
       "      <th>1066</th>\n",
       "      <td>40009</td>\n",
       "      <td>Dominic Bozzelli</td>\n",
       "      <td>Dominic</td>\n",
       "      <td>Bozzelli</td>\n",
       "    </tr>\n",
       "    <tr>\n",
       "      <th>1067</th>\n",
       "      <td>51827</td>\n",
       "      <td>Brooks Blackburn</td>\n",
       "      <td>Brooks</td>\n",
       "      <td>Blackburn</td>\n",
       "    </tr>\n",
       "    <tr>\n",
       "      <th>1069</th>\n",
       "      <td>37380</td>\n",
       "      <td>Curtis Luck</td>\n",
       "      <td>Curtis</td>\n",
       "      <td>Luck</td>\n",
       "    </tr>\n",
       "    <tr>\n",
       "      <th>1070</th>\n",
       "      <td>37380</td>\n",
       "      <td>Curtis Luck</td>\n",
       "      <td>Curtis</td>\n",
       "      <td>Luck</td>\n",
       "    </tr>\n",
       "  </tbody>\n",
       "</table>\n",
       "</div>"
      ],
      "text/plain": [
       "     player_id       player_name first_name  last_name\n",
       "1065     48084      Wesley Bryan     Wesley      Bryan\n",
       "1066     40009  Dominic Bozzelli    Dominic   Bozzelli\n",
       "1067     51827  Brooks Blackburn     Brooks  Blackburn\n",
       "1069     37380       Curtis Luck     Curtis       Luck\n",
       "1070     37380       Curtis Luck     Curtis       Luck"
      ]
     },
     "execution_count": 49,
     "metadata": {},
     "output_type": "execute_result"
    }
   ],
   "source": []
  },
  {
   "cell_type": "code",
   "execution_count": null,
   "metadata": {},
   "outputs": [],
   "source": []
  },
  {
   "cell_type": "code",
   "execution_count": null,
   "metadata": {},
   "outputs": [],
   "source": []
  },
  {
   "cell_type": "code",
   "execution_count": null,
   "metadata": {},
   "outputs": [],
   "source": []
  },
  {
   "cell_type": "code",
   "execution_count": null,
   "metadata": {},
   "outputs": [],
   "source": []
  },
  {
   "cell_type": "code",
   "execution_count": null,
   "metadata": {},
   "outputs": [],
   "source": []
  }
 ],
 "metadata": {
  "kernelspec": {
   "display_name": "Python 3",
   "language": "python",
   "name": "python3"
  },
  "language_info": {
   "codemirror_mode": {
    "name": "ipython",
    "version": 3
   },
   "file_extension": ".py",
   "mimetype": "text/x-python",
   "name": "python",
   "nbconvert_exporter": "python",
   "pygments_lexer": "ipython3",
   "version": "3.6.0"
  }
 },
 "nbformat": 4,
 "nbformat_minor": 2
}
