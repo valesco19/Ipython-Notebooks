{
 "cells": [
  {
   "cell_type": "code",
   "execution_count": 1,
   "metadata": {
    "collapsed": true,
    "deletable": true,
    "editable": true
   },
   "outputs": [],
   "source": [
    "import h5py\n",
    "import pandas as pd\n",
    "import numpy as np\n",
    "from scipy import stats\n",
    "import os\n",
    "import json\n",
    "from glob import glob\n",
    "import zipfile\n",
    "from collections import OrderedDict\n",
    "from operator import itemgetter\n",
    "from pga.return_pid import return_pid\n",
    "from datetime import datetime\n",
    "import numpy_indexed as npi\n",
    "from tqdm import tqdm"
   ]
  },
  {
   "cell_type": "code",
   "execution_count": 49,
   "metadata": {
    "collapsed": false,
    "deletable": true,
    "editable": true
   },
   "outputs": [],
   "source": [
    "os.chdir('/home/valesco/Datasets/PGA_Data/lineup_combos')\n",
    "file = h5py.File('pga_5_team_combos.h5', 'r')\n",
    "\n",
    "file_keys = file.keys()\n",
    "\n",
    "combos = np.array(file['batch1_0'])\n",
    "#combos = combos[1:,:5]"
   ]
  },
  {
   "cell_type": "code",
   "execution_count": 50,
   "metadata": {
    "collapsed": false,
    "deletable": true,
    "editable": true
   },
   "outputs": [
    {
     "data": {
      "text/plain": [
       "(175310, 5)"
      ]
     },
     "execution_count": 50,
     "metadata": {},
     "output_type": "execute_result"
    }
   ],
   "source": [
    "combos = combos[np.where((combos < 30).all(axis = 1))]\n",
    "combos.shape"
   ]
  },
  {
   "cell_type": "code",
   "execution_count": 4,
   "metadata": {
    "collapsed": false,
    "deletable": true,
    "editable": true
   },
   "outputs": [
    {
     "data": {
      "text/html": [
       "<div>\n",
       "<table border=\"1\" class=\"dataframe\">\n",
       "  <thead>\n",
       "    <tr style=\"text-align: right;\">\n",
       "      <th></th>\n",
       "      <th>pos</th>\n",
       "      <th>name_id</th>\n",
       "      <th>player_name</th>\n",
       "      <th>id</th>\n",
       "      <th>salary</th>\n",
       "      <th>tournament</th>\n",
       "      <th>team</th>\n",
       "    </tr>\n",
       "  </thead>\n",
       "  <tbody>\n",
       "    <tr>\n",
       "      <th>0</th>\n",
       "      <td>G</td>\n",
       "      <td>Dustin Johnson (9048882)</td>\n",
       "      <td>Dustin Johnson</td>\n",
       "      <td>9048882</td>\n",
       "      <td>12000</td>\n",
       "      <td>The Open Championship</td>\n",
       "      <td>Golf</td>\n",
       "    </tr>\n",
       "    <tr>\n",
       "      <th>1</th>\n",
       "      <td>G</td>\n",
       "      <td>Jordan Spieth (9048883)</td>\n",
       "      <td>Jordan Spieth</td>\n",
       "      <td>9048883</td>\n",
       "      <td>11600</td>\n",
       "      <td>The Open Championship</td>\n",
       "      <td>Golf</td>\n",
       "    </tr>\n",
       "    <tr>\n",
       "      <th>2</th>\n",
       "      <td>G</td>\n",
       "      <td>Jon Rahm (9048884)</td>\n",
       "      <td>Jon Rahm</td>\n",
       "      <td>9048884</td>\n",
       "      <td>11400</td>\n",
       "      <td>The Open Championship</td>\n",
       "      <td>Golf</td>\n",
       "    </tr>\n",
       "    <tr>\n",
       "      <th>3</th>\n",
       "      <td>G</td>\n",
       "      <td>Rory McIlroy (9048885)</td>\n",
       "      <td>Rory McIlroy</td>\n",
       "      <td>9048885</td>\n",
       "      <td>11000</td>\n",
       "      <td>The Open Championship</td>\n",
       "      <td>Golf</td>\n",
       "    </tr>\n",
       "    <tr>\n",
       "      <th>4</th>\n",
       "      <td>G</td>\n",
       "      <td>Sergio Garcia (9048886)</td>\n",
       "      <td>Sergio Garcia</td>\n",
       "      <td>9048886</td>\n",
       "      <td>10600</td>\n",
       "      <td>The Open Championship</td>\n",
       "      <td>Golf</td>\n",
       "    </tr>\n",
       "  </tbody>\n",
       "</table>\n",
       "</div>"
      ],
      "text/plain": [
       "  pos                   name_id     player_name       id  salary  \\\n",
       "0   G  Dustin Johnson (9048882)  Dustin Johnson  9048882   12000   \n",
       "1   G   Jordan Spieth (9048883)   Jordan Spieth  9048883   11600   \n",
       "2   G        Jon Rahm (9048884)        Jon Rahm  9048884   11400   \n",
       "3   G    Rory McIlroy (9048885)    Rory McIlroy  9048885   11000   \n",
       "4   G   Sergio Garcia (9048886)   Sergio Garcia  9048886   10600   \n",
       "\n",
       "              tournament  team  \n",
       "0  The Open Championship  Golf  \n",
       "1  The Open Championship  Golf  \n",
       "2  The Open Championship  Golf  \n",
       "3  The Open Championship  Golf  \n",
       "4  The Open Championship  Golf  "
      ]
     },
     "execution_count": 4,
     "metadata": {},
     "output_type": "execute_result"
    }
   ],
   "source": [
    "os.chdir('/home/valesco/Documents/')\n",
    "\n",
    "sal_df = pd.read_csv('DKSalaries (52).csv', skiprows = 7, usecols = range(7,14))\n",
    "sal_df.reset_index(inplace = True, drop = True)\n",
    "sal_df.columns = ['pos', 'name_id', 'player_name', 'id', 'salary', 'tournament', 'team']\n",
    "sal_df.head()\n",
    "#sal_df = sal_df.loc[sal_df['player_name'] != 'Stewart Hagestad']\n",
    "#sal_df = sal_df.loc[sal_df['player_name'] != 'Toto Gana']"
   ]
  },
  {
   "cell_type": "code",
   "execution_count": 6,
   "metadata": {
    "collapsed": false,
    "deletable": true,
    "editable": true
   },
   "outputs": [
    {
     "name": "stdout",
     "output_type": "stream",
     "text": [
      "Connor Syme nan\n",
      "Harry Ellis nan\n",
      "Joe Dean nan\n",
      "Alfie Plant nan\n",
      "Adam Hodkinson nan\n",
      "Nick McCarthy nan\n"
     ]
    }
   ],
   "source": [
    "pid_ls = []\n",
    "for player in sal_df['player_name'].unique():\n",
    "    pid = return_pid(player)\n",
    "    \n",
    "    if pid is not np.nan:\n",
    "        pid_ls.append(pid)\n",
    "    else:\n",
    "        pid_ls.append(-999)\n",
    "        print(player, pid)\n",
    "        \n",
    "sal_df['pid'] = pid_ls   \n",
    "sal_df = sal_df[sal_df['pid'] > 0]"
   ]
  },
  {
   "cell_type": "code",
   "execution_count": 7,
   "metadata": {
    "collapsed": false,
    "deletable": true,
    "editable": true
   },
   "outputs": [
    {
     "data": {
      "text/html": [
       "<div>\n",
       "<table border=\"1\" class=\"dataframe\">\n",
       "  <thead>\n",
       "    <tr style=\"text-align: right;\">\n",
       "      <th></th>\n",
       "      <th>pos</th>\n",
       "      <th>name_id</th>\n",
       "      <th>player_name</th>\n",
       "      <th>id</th>\n",
       "      <th>salary</th>\n",
       "      <th>tournament</th>\n",
       "      <th>team</th>\n",
       "      <th>pid</th>\n",
       "      <th>temp_pid</th>\n",
       "      <th>sal/100</th>\n",
       "      <th>sal_rank</th>\n",
       "    </tr>\n",
       "  </thead>\n",
       "  <tbody>\n",
       "    <tr>\n",
       "      <th>125</th>\n",
       "      <td>G</td>\n",
       "      <td>John Daly (9049007)</td>\n",
       "      <td>John Daly</td>\n",
       "      <td>9049007</td>\n",
       "      <td>6100</td>\n",
       "      <td>The Open Championship</td>\n",
       "      <td>Golf</td>\n",
       "      <td>1249</td>\n",
       "      <td>0</td>\n",
       "      <td>61</td>\n",
       "      <td>129</td>\n",
       "    </tr>\n",
       "    <tr>\n",
       "      <th>145</th>\n",
       "      <td>G</td>\n",
       "      <td>Todd Hamilton (9049027)</td>\n",
       "      <td>Todd Hamilton</td>\n",
       "      <td>9049027</td>\n",
       "      <td>6000</td>\n",
       "      <td>The Open Championship</td>\n",
       "      <td>Golf</td>\n",
       "      <td>1473</td>\n",
       "      <td>1</td>\n",
       "      <td>60</td>\n",
       "      <td>141</td>\n",
       "    </tr>\n",
       "    <tr>\n",
       "      <th>132</th>\n",
       "      <td>G</td>\n",
       "      <td>Tom Lehman (9049014)</td>\n",
       "      <td>Tom Lehman</td>\n",
       "      <td>9049014</td>\n",
       "      <td>6100</td>\n",
       "      <td>The Open Championship</td>\n",
       "      <td>Golf</td>\n",
       "      <td>1677</td>\n",
       "      <td>2</td>\n",
       "      <td>61</td>\n",
       "      <td>129</td>\n",
       "    </tr>\n",
       "    <tr>\n",
       "      <th>147</th>\n",
       "      <td>G</td>\n",
       "      <td>Sandy Lyle (9049029)</td>\n",
       "      <td>Sandy Lyle</td>\n",
       "      <td>9049029</td>\n",
       "      <td>6000</td>\n",
       "      <td>The Open Championship</td>\n",
       "      <td>Golf</td>\n",
       "      <td>1717</td>\n",
       "      <td>3</td>\n",
       "      <td>60</td>\n",
       "      <td>141</td>\n",
       "    </tr>\n",
       "    <tr>\n",
       "      <th>12</th>\n",
       "      <td>G</td>\n",
       "      <td>Phil Mickelson (9048894)</td>\n",
       "      <td>Phil Mickelson</td>\n",
       "      <td>9048894</td>\n",
       "      <td>8700</td>\n",
       "      <td>The Open Championship</td>\n",
       "      <td>Golf</td>\n",
       "      <td>1810</td>\n",
       "      <td>4</td>\n",
       "      <td>87</td>\n",
       "      <td>13</td>\n",
       "    </tr>\n",
       "  </tbody>\n",
       "</table>\n",
       "</div>"
      ],
      "text/plain": [
       "    pos                   name_id     player_name       id  salary  \\\n",
       "125   G       John Daly (9049007)       John Daly  9049007    6100   \n",
       "145   G   Todd Hamilton (9049027)   Todd Hamilton  9049027    6000   \n",
       "132   G      Tom Lehman (9049014)      Tom Lehman  9049014    6100   \n",
       "147   G      Sandy Lyle (9049029)      Sandy Lyle  9049029    6000   \n",
       "12    G  Phil Mickelson (9048894)  Phil Mickelson  9048894    8700   \n",
       "\n",
       "                tournament  team   pid  temp_pid  sal/100  sal_rank  \n",
       "125  The Open Championship  Golf  1249         0       61       129  \n",
       "145  The Open Championship  Golf  1473         1       60       141  \n",
       "132  The Open Championship  Golf  1677         2       61       129  \n",
       "147  The Open Championship  Golf  1717         3       60       141  \n",
       "12   The Open Championship  Golf  1810         4       87        13  "
      ]
     },
     "execution_count": 7,
     "metadata": {},
     "output_type": "execute_result"
    }
   ],
   "source": [
    "sal_df['pid'] = sal_df['pid'].apply(lambda x: int(x))\n",
    "sal_df.sort_values(by = 'pid', inplace = True)\n",
    "sal_df['temp_pid'] = sal_df['pid'].rank(ascending = True)\n",
    "sal_df['temp_pid'] = sal_df['temp_pid'].apply(lambda x: int(x - 1))\n",
    "sal_df['sal/100'] = sal_df['salary'] / 100\n",
    "sal_df['sal/100'] = sal_df['sal/100'].apply(lambda x: int(x))\n",
    "sal_df['sal_rank'] = sal_df['salary'].rank(ascending = False)\n",
    "sal_df['sal_rank'] = sal_df['sal_rank'].apply(lambda x: int(x))\n",
    "sal_df.head()"
   ]
  },
  {
   "cell_type": "code",
   "execution_count": 40,
   "metadata": {
    "collapsed": false,
    "deletable": true,
    "editable": true
   },
   "outputs": [],
   "source": [
    "sal_dict = dict(zip(np.array(sal_df['temp_pid'].values).astype(np.int16), \n",
    "                    np.array(sal_df['sal/100'].values).astype(np.int16)))\n",
    "\n",
    "top_df = sal_df.loc[sal_df['sal_rank'] <= 10]\n",
    "rank_dict = dict(zip(np.array(top_df['temp_pid'].values).astype(np.int16),\n",
    "                     np.array(top_df['sal/100'].values).astype(np.int16)))"
   ]
  },
  {
   "cell_type": "code",
   "execution_count": 45,
   "metadata": {
    "collapsed": false,
    "deletable": true,
    "editable": true
   },
   "outputs": [
    {
     "name": "stdout",
     "output_type": "stream",
     "text": [
      "0:00:01.167091\n"
     ]
    },
    {
     "data": {
      "text/plain": [
       "array([[ 61,  60,  61,  60,  87],\n",
       "       [ 61,  60,  61,  60,  60],\n",
       "       [ 61,  60,  61,  60,  65],\n",
       "       ..., \n",
       "       [ 77, 103,  60,  63,  72],\n",
       "       [ 77, 103,  69,  63,  72],\n",
       "       [ 77,  60,  69,  63,  72]], dtype=int16)"
      ]
     },
     "execution_count": 45,
     "metadata": {},
     "output_type": "execute_result"
    }
   ],
   "source": [
    "#test_combos = npi.unique(combos[:-2999])\n",
    "start = datetime.now()\n",
    "\n",
    "#combos = combos[1:,:5]\n",
    "#combos = npi.unique(combos)\n",
    "#combos = combos[np.where((combos < 30).all(axis = 1))]\n",
    "\n",
    "sal_array = np.vectorize(sal_dict.__getitem__)(combos)\n",
    "\n",
    "print(datetime.now() - start)\n",
    "\n",
    "#test_combos[np.where((test_combos == (1,2,3,4,5,1)).all(axis = 1))]\n",
    "sal_array"
   ]
  },
  {
   "cell_type": "code",
   "execution_count": 46,
   "metadata": {
    "collapsed": false,
    "deletable": true,
    "editable": true
   },
   "outputs": [
    {
     "name": "stderr",
     "output_type": "stream",
     "text": [
      "100%|██████████| 10/10 [00:00<00:00, 14.35it/s]\n"
     ]
    }
   ],
   "source": [
    "final_array = np.zeros(shape = (1,6)).astype(np.int16)\n",
    "\n",
    "for pid, salary in tqdm(rank_dict.items()):\n",
    "    \n",
    "    temp_sal = np.full((len(sal_array), 1), salary)\n",
    "\n",
    "    sal_array = np.hstack((temp_sal, sal_array))\n",
    "    indices = np.where((sal_array.sum(axis = 1) < 501) & (sal_array.sum(axis = 1) > 450))\n",
    "\n",
    "    sal_array = sal_array[:,1:]\n",
    "\n",
    "    temp_combo = combos[indices]\n",
    "    temp_pid = np.full((len(temp_combo), 1), pid, np.int16)\n",
    "    temp_combo = np.hstack((temp_pid, temp_combo))\n",
    "\n",
    "    vals, counts = stats.mode(temp_combo, axis = 1)\n",
    "\n",
    "    temp_array = np.hstack((temp_combo, counts)).astype(np.int16)\n",
    "    temp_array = temp_array[temp_array[:,6] == 1]\n",
    "    temp_array = temp_array[:,:-1]\n",
    "\n",
    "    final_array = np.vstack((final_array, temp_array))"
   ]
  },
  {
   "cell_type": "code",
   "execution_count": 47,
   "metadata": {
    "collapsed": false,
    "deletable": true,
    "editable": true
   },
   "outputs": [
    {
     "data": {
      "text/plain": [
       "array([[ 61,  87, 106,  96, 103],\n",
       "       [ 60,  87, 106,  96, 103],\n",
       "       [ 61,  87, 106,  96, 103],\n",
       "       [ 60,  87, 106,  96, 103],\n",
       "       [ 87,  60, 106,  96, 103],\n",
       "       [ 87,  65, 106,  96, 103],\n",
       "       [ 87,  69, 106,  96, 103],\n",
       "       [ 87,  61, 106,  96, 103],\n",
       "       [ 87,  60, 106,  96, 103],\n",
       "       [ 87,  67, 106,  96, 103],\n",
       "       [ 87,  60, 106,  96, 103],\n",
       "       [ 87,  63, 106,  96, 103],\n",
       "       [ 87,  63, 106,  96, 103],\n",
       "       [ 87,  77, 106,  96, 103],\n",
       "       [ 87,  62, 106,  96, 103],\n",
       "       [ 87,  72, 106,  96, 103],\n",
       "       [ 87, 106,  67,  96, 103],\n",
       "       [ 87, 106,  96,  66, 103],\n",
       "       [ 87, 106,  96,  68, 103],\n",
       "       [ 87, 106,  96,  62, 103],\n",
       "       [ 87, 106,  96,  62, 103],\n",
       "       [ 87, 106,  96,  62, 103],\n",
       "       [ 87, 106,  96, 103,  60],\n",
       "       [ 87, 106,  96, 103,  69],\n",
       "       [ 87, 106,  96, 103,  63],\n",
       "       [ 87, 106,  96, 103,  72],\n",
       "       [ 87,  67, 106,  96, 103],\n",
       "       [ 87,  60, 106,  96, 103],\n",
       "       [ 87,  63, 106,  96, 103],\n",
       "       [ 87,  63, 106,  96, 103],\n",
       "       [ 87,  77, 106,  96, 103],\n",
       "       [ 69,  77, 106,  96, 103],\n",
       "       [ 77,  72, 106,  96, 103],\n",
       "       [ 77, 106,  96, 103,  69],\n",
       "       [ 77, 106,  96, 103,  72]], dtype=int16)"
      ]
     },
     "execution_count": 47,
     "metadata": {},
     "output_type": "execute_result"
    }
   ],
   "source": [
    "sal_array[np.where((sal_array.sum(axis = 1) < 501) & (sal_array.sum(axis = 1) > 450))]"
   ]
  },
  {
   "cell_type": "code",
   "execution_count": 133,
   "metadata": {
    "collapsed": false,
    "deletable": true,
    "editable": true
   },
   "outputs": [
    {
     "data": {
      "text/plain": [
       "(65311001, 6)"
      ]
     },
     "execution_count": 133,
     "metadata": {},
     "output_type": "execute_result"
    }
   ],
   "source": [
    "final_array.shape"
   ]
  },
  {
   "cell_type": "code",
   "execution_count": 134,
   "metadata": {
    "collapsed": false,
    "deletable": true,
    "editable": true
   },
   "outputs": [
    {
     "name": "stdout",
     "output_type": "stream",
     "text": [
      "0:09:40.980470\n"
     ]
    }
   ],
   "source": [
    "start = datetime.now()\n",
    "test_sal_array = np.vectorize(sal_dict.__getitem__)(final_array[1:])\n",
    "print(datetime.now() - start)"
   ]
  },
  {
   "cell_type": "code",
   "execution_count": 143,
   "metadata": {
    "collapsed": false,
    "deletable": true,
    "editable": true
   },
   "outputs": [
    {
     "data": {
      "text/plain": [
       "array([[ 95,  63,  64, ...,  87,  83, 452],\n",
       "       [ 95,  63,  64, ...,  87,  92, 461],\n",
       "       [ 95,  63,  64, ...,  87,  88, 457],\n",
       "       ..., \n",
       "       [115,  60,  73, ...,  86,  62, 470],\n",
       "       [115,  60,  73, ...,  62,  62, 458],\n",
       "       [115,  60,  74, ...,  62,  62, 459]])"
      ]
     },
     "execution_count": 143,
     "metadata": {},
     "output_type": "execute_result"
    }
   ],
   "source": [
    "sal_sum = test_sal_array.sum(axis = 1).reshape(len(test_sal_array), 1)\n",
    "np.hstack((test_sal_array, sal_sum))"
   ]
  },
  {
   "cell_type": "code",
   "execution_count": 136,
   "metadata": {
    "collapsed": false,
    "deletable": true,
    "editable": true
   },
   "outputs": [
    {
     "data": {
      "text/plain": [
       "(65311000,)"
      ]
     },
     "execution_count": 136,
     "metadata": {},
     "output_type": "execute_result"
    }
   ],
   "source": [
    "sal_sum.shape"
   ]
  },
  {
   "cell_type": "code",
   "execution_count": 137,
   "metadata": {
    "collapsed": false,
    "deletable": true,
    "editable": true
   },
   "outputs": [
    {
     "data": {
      "text/plain": [
       "(65311000, 6)"
      ]
     },
     "execution_count": 137,
     "metadata": {},
     "output_type": "execute_result"
    }
   ],
   "source": [
    "test_sal_array.shape"
   ]
  },
  {
   "cell_type": "code",
   "execution_count": 142,
   "metadata": {
    "collapsed": false,
    "deletable": true,
    "editable": true
   },
   "outputs": [
    {
     "data": {
      "text/plain": [
       "array([451, 451, 451, ..., 500, 500, 500])"
      ]
     },
     "execution_count": 142,
     "metadata": {},
     "output_type": "execute_result"
    }
   ],
   "source": [
    "sal_sum"
   ]
  },
  {
   "cell_type": "code",
   "execution_count": 141,
   "metadata": {
    "collapsed": false,
    "deletable": true,
    "editable": true
   },
   "outputs": [
    {
     "data": {
      "text/plain": [
       "array([[451],\n",
       "       [451],\n",
       "       [451],\n",
       "       ..., \n",
       "       [500],\n",
       "       [500],\n",
       "       [500]])"
      ]
     },
     "execution_count": 141,
     "metadata": {},
     "output_type": "execute_result"
    }
   ],
   "source": [
    "sal_sum.reshape(len(test_sal_array), 1)"
   ]
  },
  {
   "cell_type": "code",
   "execution_count": null,
   "metadata": {
    "collapsed": true,
    "deletable": true,
    "editable": true
   },
   "outputs": [],
   "source": []
  }
 ],
 "metadata": {
  "kernelspec": {
   "display_name": "Python 3",
   "language": "python",
   "name": "python3"
  },
  "language_info": {
   "codemirror_mode": {
    "name": "ipython",
    "version": 3
   },
   "file_extension": ".py",
   "mimetype": "text/x-python",
   "name": "python",
   "nbconvert_exporter": "python",
   "pygments_lexer": "ipython3",
   "version": "3.5.0"
  }
 },
 "nbformat": 4,
 "nbformat_minor": 2
}
