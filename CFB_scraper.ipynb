{
 "cells": [
  {
   "cell_type": "code",
   "execution_count": 1,
   "metadata": {
    "collapsed": true
   },
   "outputs": [],
   "source": [
    "from selenium import webdriver\n",
    "import os\n",
    "import time\n",
    "from datetime import datetime\n",
    "from datetime import timedelta\n",
    "import json\n",
    "import sys\n"
   ]
  },
  {
   "cell_type": "code",
   "execution_count": null,
   "metadata": {
    "collapsed": false
   },
   "outputs": [
    {
     "name": "stdout",
     "output_type": "stream",
     "text": [
      "Scrape 2016_10_04_21_45 has finished\n"
     ]
    }
   ],
   "source": [
    "while True:\n",
    "    os.chdir('/home/valesco/Datasets/CFB_odds')\n",
    "    \n",
    "    time_now = datetime.now()\n",
    "    directory = time_now.strftime('%Y_%m_%d')\n",
    "    \n",
    "    if not os.path.exists(directory):\n",
    "        os.makedirs(directory)\n",
    "        \n",
    "    hour_dir = time_now.strftime('%H_%M')\n",
    "    \n",
    "    os.chdir('/home/valesco/Datasets/CFB_odds/' + directory)\n",
    "    os.makedirs(hour_dir)\n",
    "    os.chdir('/home/valesco/Datasets/CFB_odds/' + directory + '/' + hour_dir)\n",
    "    \n",
    "    url_bovada = 'https://sports.bovada.lv/football/college'\n",
    "\n",
    "    bov_browser = webdriver.Chrome()\n",
    "    bov_browser.get(url_bovada)\n",
    "\n",
    "    time.sleep(3)\n",
    "\n",
    "    for i in range(30):\n",
    "        bov_browser.execute_script(\"window.scrollTo(0, document.body.scrollHeight);\")\n",
    "        time.sleep(.5)\n",
    "\n",
    "    table = bov_browser.find_elements_by_xpath(\"//*[@id='spaNavigationComponents_content_center']/div[2]/section/div/div/div/article\")\n",
    "\n",
    "    link_ls = []\n",
    "    for i, t in enumerate(table):\n",
    "\n",
    "        if i <  1:\n",
    "            time.sleep(2)\n",
    "            bov_browser.execute_script(\"return arguments[0].scrollIntoView();\", t)\n",
    "\n",
    "            aside = t.find_element_by_xpath(\".//aside\")\n",
    "            links = aside.find_elements_by_xpath(\"//*[@href]\")\n",
    "\n",
    "            for link in links:\n",
    "                temp = link.get_attribute('href')\n",
    "                if 'football/college/' in temp:\n",
    "                    link_ls.append(temp)\n",
    "     \n",
    "    bov_browser.close()\n",
    "    \n",
    "    for url in link_ls:\n",
    "        try:\n",
    "            bov_browser = webdriver.Chrome()\n",
    "            bov_browser.get(url)\n",
    "\n",
    "            time.sleep(1)\n",
    "\n",
    "            for i in range(20):\n",
    "                bov_browser.execute_script(\"window.scrollTo(0, document.body.scrollHeight);\")\n",
    "                time.sleep(.5)\n",
    "\n",
    "            name = url.split('college/')[1]\n",
    "\n",
    "            body = bov_browser.find_elements_by_class_name('ng-isolate-scope')\n",
    "            body_text = []\n",
    "            for b in body:\n",
    "                body_text.append(b.text)\n",
    "\n",
    "            time_now = datetime.now()\n",
    "            time_now = time_now.strftime('%Y_%m_%d_%H_%M')\n",
    "\n",
    "            file_name = 'Bovada_' + name + '_' + time_now + '.txt'\n",
    "\n",
    "            with open(file_name, mode = 'wt', encoding = 'utf-8') as myfile:\n",
    "                for b in body:\n",
    "                    myfile.write(b.text)\n",
    "                myfile.close\n",
    "\n",
    "            time.sleep(2)\n",
    "            bov_browser.close()\n",
    "        except:\n",
    "            print('ERROR retrieving ' + url)\n",
    "            bov_browser.close()\n",
    "            \n",
    "    time_now = datetime.now()\n",
    "    print('Scrape ' + time_now.strftime('%Y_%m_%d_%H_%M') + ' has finished')\n",
    "    time.sleep(3600)\n"
   ]
  },
  {
   "cell_type": "code",
   "execution_count": null,
   "metadata": {
    "collapsed": true
   },
   "outputs": [],
   "source": []
  }
 ],
 "metadata": {
  "anaconda-cloud": {},
  "kernelspec": {
   "display_name": "Python [default]",
   "language": "python",
   "name": "python3"
  },
  "language_info": {
   "codemirror_mode": {
    "name": "ipython",
    "version": 3
   },
   "file_extension": ".py",
   "mimetype": "text/x-python",
   "name": "python",
   "nbconvert_exporter": "python",
   "pygments_lexer": "ipython3",
   "version": "3.5.2"
  }
 },
 "nbformat": 4,
 "nbformat_minor": 0
}
