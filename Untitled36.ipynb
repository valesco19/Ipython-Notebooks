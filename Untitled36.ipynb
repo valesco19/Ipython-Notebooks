{
 "cells": [
  {
   "cell_type": "code",
   "execution_count": 1,
   "metadata": {
    "collapsed": true
   },
   "outputs": [],
   "source": [
    "import json\n",
    "import os\n",
    "import pandas as pd"
   ]
  },
  {
   "cell_type": "code",
   "execution_count": 6,
   "metadata": {
    "collapsed": true
   },
   "outputs": [],
   "source": [
    "os.chdir('/home/valesco/Datasets/PGA_Data/PGA/002_2017/')"
   ]
  },
  {
   "cell_type": "code",
   "execution_count": 10,
   "metadata": {
    "collapsed": false
   },
   "outputs": [],
   "source": [
    "with open('002_2017_setup.json', 'r') as outfile:\n",
    "    data = json.load(outfile)"
   ]
  },
  {
   "cell_type": "code",
   "execution_count": 11,
   "metadata": {
    "collapsed": false
   },
   "outputs": [
    {
     "data": {
      "text/plain": [
       "dict_keys(['trn', 'header'])"
      ]
     },
     "execution_count": 11,
     "metadata": {},
     "output_type": "execute_result"
    }
   ],
   "source": [
    "data.keys()"
   ]
  },
  {
   "cell_type": "code",
   "execution_count": 19,
   "metadata": {
    "collapsed": false
   },
   "outputs": [
    {
     "data": {
      "text/plain": [
       "[{'code': 'SC',\n",
       "  'host': 'y',\n",
       "  'id': '704',\n",
       "  'name': 'Stadium Course',\n",
       "  'parBack': '36',\n",
       "  'parFront': '36',\n",
       "  'parTotal': '72',\n",
       "  'record': '0',\n",
       "  'sigHole': '00'},\n",
       " {'code': 'LQ',\n",
       "  'host': 'n',\n",
       "  'id': '202',\n",
       "  'name': 'La Quinta Country Club',\n",
       "  'parBack': '36',\n",
       "  'parFront': '36',\n",
       "  'parTotal': '72',\n",
       "  'record': '0'},\n",
       " {'code': 'NT',\n",
       "  'host': 'n',\n",
       "  'id': '233',\n",
       "  'name': 'Nicklaus Tournament Course',\n",
       "  'parBack': '36',\n",
       "  'parFront': '36',\n",
       "  'parTotal': '72',\n",
       "  'record': '0'}]"
      ]
     },
     "execution_count": 19,
     "metadata": {},
     "output_type": "execute_result"
    }
   ],
   "source": [
    "data['trn']['courseInfos']"
   ]
  },
  {
   "cell_type": "code",
   "execution_count": 23,
   "metadata": {
    "collapsed": true
   },
   "outputs": [],
   "source": [
    "os.chdir('/home/valesco/Datasets/PGA_Data/PGA/002_2017/')"
   ]
  },
  {
   "cell_type": "code",
   "execution_count": 29,
   "metadata": {
    "collapsed": false
   },
   "outputs": [
    {
     "data": {
      "text/plain": [
       "'704'"
      ]
     },
     "execution_count": 29,
     "metadata": {},
     "output_type": "execute_result"
    }
   ],
   "source": [
    "with open('002_2017_course.json', 'r') as outfile:\n",
    "    data1 = json.load(outfile)\n",
    "    \n",
    "data1['courses'][0]['number']"
   ]
  },
  {
   "cell_type": "code",
   "execution_count": null,
   "metadata": {
    "collapsed": true
   },
   "outputs": [],
   "source": []
  }
 ],
 "metadata": {
  "kernelspec": {
   "display_name": "Python 3",
   "language": "python",
   "name": "python3"
  },
  "language_info": {
   "codemirror_mode": {
    "name": "ipython",
    "version": 3
   },
   "file_extension": ".py",
   "mimetype": "text/x-python",
   "name": "python",
   "nbconvert_exporter": "python",
   "pygments_lexer": "ipython3",
   "version": "3.5.0"
  }
 },
 "nbformat": 4,
 "nbformat_minor": 2
}
