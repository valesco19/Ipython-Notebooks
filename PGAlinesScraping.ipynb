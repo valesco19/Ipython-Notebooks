{
 "cells": [
  {
   "cell_type": "code",
   "execution_count": 61,
   "metadata": {
    "collapsed": false
   },
   "outputs": [],
   "source": [
    "from selenium import webdriver\n",
    "import pandas as pd\n",
    "import os\n",
    "import time\n",
    "import requests\n",
    "import numpy as np\n",
    "from bs4 import BeautifulSoup\n",
    "from lxml import etree\n",
    "import urllib\n",
    "from datetime import datetime\n",
    "from datetime import timedelta\n",
    "import sys\n",
    "import json\n",
    "os.chdir('/home/valesco/Datasets/PGA_Data/pga_odds')"
   ]
  },
  {
   "cell_type": "code",
   "execution_count": 484,
   "metadata": {
    "collapsed": false,
    "scrolled": true
   },
   "outputs": [
    {
     "name": "stdout",
     "output_type": "stream",
     "text": [
      "2\n",
      "3\n"
     ]
    }
   ],
   "source": [
    "url = 'https://www.pinnaclesports.com/'\n",
    "\n",
    "\n",
    "\n",
    "\n",
    "browser = webdriver.Firefox()\n",
    "browser.get(url)\n",
    "sidebar_ls = []\n",
    "count = 0\n",
    "for i in range(1,4):\n",
    "    string = ('//*[@id=\"sidebar\"]/div/ul/li['+ str(i) +']/ul/li')\n",
    "    side_bar = browser.find_elements_by_xpath(string)\n",
    "    sidebar_ls.append(side_bar)\n",
    "    for side in side_bar:\n",
    "        if 'Golf' in side.text:\n",
    "            side.click()\n",
    "            print(str(i))\n",
    "           \n",
    "                    \n",
    "                \n"
   ]
  },
  {
   "cell_type": "code",
   "execution_count": 365,
   "metadata": {
    "collapsed": false
   },
   "outputs": [
    {
     "ename": "ValueError",
     "evalue": "arrays must all be same length",
     "output_type": "error",
     "traceback": [
      "\u001b[1;31m---------------------------------------------------------------------------\u001b[0m",
      "\u001b[1;31mValueError\u001b[0m                                Traceback (most recent call last)",
      "\u001b[1;32m<ipython-input-365-379785b3c1ee>\u001b[0m in \u001b[0;36m<module>\u001b[1;34m()\u001b[0m\n\u001b[0;32m      9\u001b[0m \u001b[1;33m\u001b[0m\u001b[0m\n\u001b[0;32m     10\u001b[0m     rd_matchup = pd.DataFrame({'time': rd_time, 'player_one': rd_pl1, 'player_one_odds': rd_odds1, \n\u001b[1;32m---> 11\u001b[1;33m                               'player_two': rd_pl2, 'player_two_odds': rd_odds2})\n\u001b[0m\u001b[0;32m     12\u001b[0m \u001b[1;33m\u001b[0m\u001b[0m\n\u001b[0;32m     13\u001b[0m     \u001b[1;32mfor\u001b[0m \u001b[0mcol\u001b[0m \u001b[1;32min\u001b[0m \u001b[0mrd_matchup\u001b[0m\u001b[1;33m.\u001b[0m\u001b[0mcolumns\u001b[0m\u001b[1;33m:\u001b[0m\u001b[1;33m\u001b[0m\u001b[0m\n",
      "\u001b[1;32m/home/valesco/anaconda3/lib/python3.5/site-packages/pandas/core/frame.py\u001b[0m in \u001b[0;36m__init__\u001b[1;34m(self, data, index, columns, dtype, copy)\u001b[0m\n\u001b[0;32m    221\u001b[0m                                  dtype=dtype, copy=copy)\n\u001b[0;32m    222\u001b[0m         \u001b[1;32melif\u001b[0m \u001b[0misinstance\u001b[0m\u001b[1;33m(\u001b[0m\u001b[0mdata\u001b[0m\u001b[1;33m,\u001b[0m \u001b[0mdict\u001b[0m\u001b[1;33m)\u001b[0m\u001b[1;33m:\u001b[0m\u001b[1;33m\u001b[0m\u001b[0m\n\u001b[1;32m--> 223\u001b[1;33m             \u001b[0mmgr\u001b[0m \u001b[1;33m=\u001b[0m \u001b[0mself\u001b[0m\u001b[1;33m.\u001b[0m\u001b[0m_init_dict\u001b[0m\u001b[1;33m(\u001b[0m\u001b[0mdata\u001b[0m\u001b[1;33m,\u001b[0m \u001b[0mindex\u001b[0m\u001b[1;33m,\u001b[0m \u001b[0mcolumns\u001b[0m\u001b[1;33m,\u001b[0m \u001b[0mdtype\u001b[0m\u001b[1;33m=\u001b[0m\u001b[0mdtype\u001b[0m\u001b[1;33m)\u001b[0m\u001b[1;33m\u001b[0m\u001b[0m\n\u001b[0m\u001b[0;32m    224\u001b[0m         \u001b[1;32melif\u001b[0m \u001b[0misinstance\u001b[0m\u001b[1;33m(\u001b[0m\u001b[0mdata\u001b[0m\u001b[1;33m,\u001b[0m \u001b[0mma\u001b[0m\u001b[1;33m.\u001b[0m\u001b[0mMaskedArray\u001b[0m\u001b[1;33m)\u001b[0m\u001b[1;33m:\u001b[0m\u001b[1;33m\u001b[0m\u001b[0m\n\u001b[0;32m    225\u001b[0m             \u001b[1;32mimport\u001b[0m \u001b[0mnumpy\u001b[0m\u001b[1;33m.\u001b[0m\u001b[0mma\u001b[0m\u001b[1;33m.\u001b[0m\u001b[0mmrecords\u001b[0m \u001b[1;32mas\u001b[0m \u001b[0mmrecords\u001b[0m\u001b[1;33m\u001b[0m\u001b[0m\n",
      "\u001b[1;32m/home/valesco/anaconda3/lib/python3.5/site-packages/pandas/core/frame.py\u001b[0m in \u001b[0;36m_init_dict\u001b[1;34m(self, data, index, columns, dtype)\u001b[0m\n\u001b[0;32m    357\u001b[0m             \u001b[0marrays\u001b[0m \u001b[1;33m=\u001b[0m \u001b[1;33m[\u001b[0m\u001b[0mdata\u001b[0m\u001b[1;33m[\u001b[0m\u001b[0mk\u001b[0m\u001b[1;33m]\u001b[0m \u001b[1;32mfor\u001b[0m \u001b[0mk\u001b[0m \u001b[1;32min\u001b[0m \u001b[0mkeys\u001b[0m\u001b[1;33m]\u001b[0m\u001b[1;33m\u001b[0m\u001b[0m\n\u001b[0;32m    358\u001b[0m \u001b[1;33m\u001b[0m\u001b[0m\n\u001b[1;32m--> 359\u001b[1;33m         \u001b[1;32mreturn\u001b[0m \u001b[0m_arrays_to_mgr\u001b[0m\u001b[1;33m(\u001b[0m\u001b[0marrays\u001b[0m\u001b[1;33m,\u001b[0m \u001b[0mdata_names\u001b[0m\u001b[1;33m,\u001b[0m \u001b[0mindex\u001b[0m\u001b[1;33m,\u001b[0m \u001b[0mcolumns\u001b[0m\u001b[1;33m,\u001b[0m \u001b[0mdtype\u001b[0m\u001b[1;33m=\u001b[0m\u001b[0mdtype\u001b[0m\u001b[1;33m)\u001b[0m\u001b[1;33m\u001b[0m\u001b[0m\n\u001b[0m\u001b[0;32m    360\u001b[0m \u001b[1;33m\u001b[0m\u001b[0m\n\u001b[0;32m    361\u001b[0m     \u001b[1;32mdef\u001b[0m \u001b[0m_init_ndarray\u001b[0m\u001b[1;33m(\u001b[0m\u001b[0mself\u001b[0m\u001b[1;33m,\u001b[0m \u001b[0mvalues\u001b[0m\u001b[1;33m,\u001b[0m \u001b[0mindex\u001b[0m\u001b[1;33m,\u001b[0m \u001b[0mcolumns\u001b[0m\u001b[1;33m,\u001b[0m \u001b[0mdtype\u001b[0m\u001b[1;33m=\u001b[0m\u001b[1;32mNone\u001b[0m\u001b[1;33m,\u001b[0m \u001b[0mcopy\u001b[0m\u001b[1;33m=\u001b[0m\u001b[1;32mFalse\u001b[0m\u001b[1;33m)\u001b[0m\u001b[1;33m:\u001b[0m\u001b[1;33m\u001b[0m\u001b[0m\n",
      "\u001b[1;32m/home/valesco/anaconda3/lib/python3.5/site-packages/pandas/core/frame.py\u001b[0m in \u001b[0;36m_arrays_to_mgr\u001b[1;34m(arrays, arr_names, index, columns, dtype)\u001b[0m\n\u001b[0;32m   5238\u001b[0m     \u001b[1;31m# figure out the index, if necessary\u001b[0m\u001b[1;33m\u001b[0m\u001b[1;33m\u001b[0m\u001b[0m\n\u001b[0;32m   5239\u001b[0m     \u001b[1;32mif\u001b[0m \u001b[0mindex\u001b[0m \u001b[1;32mis\u001b[0m \u001b[1;32mNone\u001b[0m\u001b[1;33m:\u001b[0m\u001b[1;33m\u001b[0m\u001b[0m\n\u001b[1;32m-> 5240\u001b[1;33m         \u001b[0mindex\u001b[0m \u001b[1;33m=\u001b[0m \u001b[0mextract_index\u001b[0m\u001b[1;33m(\u001b[0m\u001b[0marrays\u001b[0m\u001b[1;33m)\u001b[0m\u001b[1;33m\u001b[0m\u001b[0m\n\u001b[0m\u001b[0;32m   5241\u001b[0m     \u001b[1;32melse\u001b[0m\u001b[1;33m:\u001b[0m\u001b[1;33m\u001b[0m\u001b[0m\n\u001b[0;32m   5242\u001b[0m         \u001b[0mindex\u001b[0m \u001b[1;33m=\u001b[0m \u001b[0m_ensure_index\u001b[0m\u001b[1;33m(\u001b[0m\u001b[0mindex\u001b[0m\u001b[1;33m)\u001b[0m\u001b[1;33m\u001b[0m\u001b[0m\n",
      "\u001b[1;32m/home/valesco/anaconda3/lib/python3.5/site-packages/pandas/core/frame.py\u001b[0m in \u001b[0;36mextract_index\u001b[1;34m(data)\u001b[0m\n\u001b[0;32m   5286\u001b[0m             \u001b[0mlengths\u001b[0m \u001b[1;33m=\u001b[0m \u001b[0mlist\u001b[0m\u001b[1;33m(\u001b[0m\u001b[0mset\u001b[0m\u001b[1;33m(\u001b[0m\u001b[0mraw_lengths\u001b[0m\u001b[1;33m)\u001b[0m\u001b[1;33m)\u001b[0m\u001b[1;33m\u001b[0m\u001b[0m\n\u001b[0;32m   5287\u001b[0m             \u001b[1;32mif\u001b[0m \u001b[0mlen\u001b[0m\u001b[1;33m(\u001b[0m\u001b[0mlengths\u001b[0m\u001b[1;33m)\u001b[0m \u001b[1;33m>\u001b[0m \u001b[1;36m1\u001b[0m\u001b[1;33m:\u001b[0m\u001b[1;33m\u001b[0m\u001b[0m\n\u001b[1;32m-> 5288\u001b[1;33m                 \u001b[1;32mraise\u001b[0m \u001b[0mValueError\u001b[0m\u001b[1;33m(\u001b[0m\u001b[1;34m'arrays must all be same length'\u001b[0m\u001b[1;33m)\u001b[0m\u001b[1;33m\u001b[0m\u001b[0m\n\u001b[0m\u001b[0;32m   5289\u001b[0m \u001b[1;33m\u001b[0m\u001b[0m\n\u001b[0;32m   5290\u001b[0m             \u001b[1;32mif\u001b[0m \u001b[0mhave_dicts\u001b[0m\u001b[1;33m:\u001b[0m\u001b[1;33m\u001b[0m\u001b[0m\n",
      "\u001b[1;31mValueError\u001b[0m: arrays must all be same length"
     ]
    }
   ],
   "source": [
    "for t in todays_odds_list.keys():\n",
    "    odds_string = str(todays_odds_list[t]).split('\\\\n')\n",
    "\n",
    "    rd_time = odds_string[1::5]\n",
    "    rd_pl1 = odds_string[2::5]\n",
    "    rd_odds1 = odds_string[3::5]\n",
    "    rd_pl2 = odds_string[4::5]\n",
    "    rd_odds2 = odds_string[5::5]\n",
    "\n",
    "    rd_matchup = pd.DataFrame({'time': rd_time, 'player_one': rd_pl1, 'player_one_odds': rd_odds1, \n",
    "                              'player_two': rd_pl2, 'player_two_odds': rd_odds2})\n",
    "\n",
    "    for col in rd_matchup.columns:\n",
    "        rd_matchup[col] = rd_matchup[col].apply(lambda x: x.replace(',',''))\n",
    "        rd_matchup[col] = rd_matchup[col].apply(lambda x: x.replace(']',''))\n",
    "        ls = ['player_one_odds', 'player_two_odds']\n",
    "        if col in ls:\n",
    "            try:\n",
    "                rd_matchup[col] = rd_matchup[col].apply(lambda x: float(x))\n",
    "            except:\n",
    "                pass\n",
    "    string_save = 'DeanDeluca_fourth_rd_' + str(t)\n",
    "    rd_matchup.to_csv(string_save)\n"
   ]
  },
  {
   "cell_type": "code",
   "execution_count": 3,
   "metadata": {
    "collapsed": false
   },
   "outputs": [],
   "source": [
    "\n",
    "\n",
    "url_bovada = 'https://sports.bovada.lv/golf/pga-tour'\n",
    "\n",
    "bov_browser = webdriver.Firefox()\n",
    "bov_browser.get(url_bovada)\n",
    "\n",
    "tourny_button = bov_browser.find_element_by_class_name('ng-binding')\n",
    "tourny_name = tourny_button.text\n",
    "\n",
    "show_more_btn = bov_browser.find_element_by_xpath('//*[@id=\"spaNavigationComponents_content_center\"]/div/section/div/div/footer/button')\n",
    "show_more_btn.click()\n",
    "\n",
    "body = bov_browser.find_elements_by_class_name('ng-isolate-scope')\n",
    "body_text = []\n",
    "for b in body:\n",
    "    body_text.append(b.text)\n",
    "\n",
    "time_now = datetime.now()\n",
    "time_now = time_now.strftime('%Y_%m_%d_%H_%M')\n",
    "\n",
    "file_name = 'Bovada_' + tourny_name + '_' + time_now + '.txt'\n",
    "\n",
    "with open(file_name, mode = 'wt', encoding = 'utf-8') as myfile:\n",
    "    for b in body:\n",
    "        myfile.write(b.text)\n",
    "    myfile.close\n",
    "\n",
    "bov_browser.close()"
   ]
  },
  {
   "cell_type": "code",
   "execution_count": 17,
   "metadata": {
    "collapsed": false
   },
   "outputs": [],
   "source": [
    "url = 'http://www.pinnacle.com/'\n",
    "\n",
    "\n",
    "browser = webdriver.Firefox()\n",
    "browser.get(url)\n",
    "\n",
    "odds_data = browser.find_element_by_class_name('ng-scope')\n",
    "pinny = odds_data.text\n",
    "\n",
    "odds_string = pinny.split('\\\\n')\n",
    "\n",
    "time_now = datetime.now()\n",
    "time_now = time_now.strftime('%Y_%m_%d_%H_%M')\n",
    "tounry_name = 'StJude'\n",
    "\n",
    "file_name = 'Pinny_' + tourny_name + '_' + time_now + '.txt'\n",
    "\n",
    "with open(file_name, mode = 'wt', encoding = 'utf-8') as myfile:\n",
    "    for odds in odds_string:\n",
    "        myfile.write(odds)\n",
    "    myfile.close\n",
    "    \n",
    "browser.close()   "
   ]
  },
  {
   "cell_type": "code",
   "execution_count": 64,
   "metadata": {
    "collapsed": false
   },
   "outputs": [],
   "source": [
    "url = 'http://www.pinnacle.com/'\n",
    "\n",
    "browser = webdriver.Firefox()\n",
    "browser.get(url)\n",
    "\n",
    "sidebar_ls = []\n",
    "for i in range(1,4):\n",
    "    string = ('//*[@id=\"sidebar\"]/div/ul/li['+ str(i) +']/ul/li')\n",
    "    side_bar = browser.find_elements_by_xpath(string)\n",
    "    for side in side_bar:\n",
    "        if 'Golf' in side.text:\n",
    "            side.click()\n",
    "            sidebar_ls.append(side)\n",
    "            \n",
    "for i in range(1,4):\n",
    "    string = ('//*[@id=\"sidebar\"]/div/ul/li['+ str(i) +']/ul/li')\n",
    "    side_bar = browser.find_element_by_xpath('//*[@title=\"PGA Tour\"]')\n",
    "    side_bar.click()\n",
    "\n",
    "\n",
    "golf = browser.find_elements_by_css_selector('a[href*=\"golf\"]')\n",
    "\n",
    "golf_url = []\n",
    "for g in golf:\n",
    "    golf_url.append(g.get_attribute('href'))\n",
    "    \n",
    "\n",
    "odds_text = {}\n",
    "for g in golf_url:\n",
    "    if '/pga' in g:\n",
    "        pga_browser = webdriver.Firefox()\n",
    "        pga_browser.get(g)\n",
    "        \n",
    "        header = pga_browser.find_element_by_class_name('toolbar')\n",
    "        key = header.text\n",
    "        \n",
    "        odds_data = pga_browser.find_element_by_class_name('odds-data')\n",
    "        pinny = odds_data.text\n",
    "\n",
    "        odds_string = pinny.split('\\\\n')\n",
    "        \n",
    "        temp_ls = []\n",
    "        for odds in odds_string:\n",
    "            temp_ls.append(odds)\n",
    "        \n",
    "        odds_text[key] = temp_ls\n",
    "            \n",
    "        pga_browser.close()\n",
    "        \n",
    "time_now = datetime.now()\n",
    "time_now = time_now.strftime('%Y_%m_%d_%H_%M')\n",
    "        \n",
    "json_name = 'Pinny_' + time_now + '.json'\n",
    "    \n",
    "with open(json_name, 'w') as outfile:\n",
    "    json.dump(odds_text, outfile)\n",
    "        "
   ]
  },
  {
   "cell_type": "code",
   "execution_count": 62,
   "metadata": {
    "collapsed": false
   },
   "outputs": [],
   "source": []
  },
  {
   "cell_type": "code",
   "execution_count": 63,
   "metadata": {
    "collapsed": false
   },
   "outputs": [],
   "source": []
  },
  {
   "cell_type": "code",
   "execution_count": null,
   "metadata": {
    "collapsed": true
   },
   "outputs": [],
   "source": []
  },
  {
   "cell_type": "code",
   "execution_count": null,
   "metadata": {
    "collapsed": true
   },
   "outputs": [],
   "source": []
  },
  {
   "cell_type": "code",
   "execution_count": null,
   "metadata": {
    "collapsed": true
   },
   "outputs": [],
   "source": []
  },
  {
   "cell_type": "code",
   "execution_count": null,
   "metadata": {
    "collapsed": true
   },
   "outputs": [],
   "source": []
  },
  {
   "cell_type": "code",
   "execution_count": null,
   "metadata": {
    "collapsed": true
   },
   "outputs": [],
   "source": []
  }
 ],
 "metadata": {
  "kernelspec": {
   "display_name": "Python 3",
   "language": "python",
   "name": "python3"
  },
  "language_info": {
   "codemirror_mode": {
    "name": "ipython",
    "version": 3
   },
   "file_extension": ".py",
   "mimetype": "text/x-python",
   "name": "python",
   "nbconvert_exporter": "python",
   "pygments_lexer": "ipython3",
   "version": "3.5.1"
  }
 },
 "nbformat": 4,
 "nbformat_minor": 0
}
