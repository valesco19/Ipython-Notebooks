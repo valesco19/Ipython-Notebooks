{
 "cells": [
  {
   "cell_type": "code",
   "execution_count": 6,
   "metadata": {
    "collapsed": true,
    "deletable": true,
    "editable": true
   },
   "outputs": [],
   "source": [
    "import h5py\n",
    "import pandas as pd\n",
    "import numpy as np\n",
    "from scipy import stats\n",
    "import os\n",
    "import zipfile\n",
    "from operator import itemgetter\n",
    "from pga.return_pid import return_pid\n",
    "from datetime import datetime\n",
    "import numpy_indexed as npi\n",
    "from tqdm import tqdm"
   ]
  },
  {
   "cell_type": "code",
   "execution_count": 7,
   "metadata": {
    "collapsed": false,
    "deletable": true,
    "editable": true
   },
   "outputs": [],
   "source": [
    "def parse_salary_csv(df, top_players):\n",
    "    pid_ls = []\n",
    "    for player in sal_df['player_name'].unique():\n",
    "        pid = return_pid(player)\n",
    "\n",
    "        if pid is not np.nan:\n",
    "            pid_ls.append(pid)\n",
    "        else:\n",
    "            print(player, 'player id not found, skipped!!')\n",
    "            \n",
    "    df['pid'] = pid_ls\n",
    "    df['pid'] = df['pid'].apply(lambda x: int(x))\n",
    "    df.sort_values(by = 'pid', inplace = True)\n",
    "    df['temp_pid'] = df['pid'].rank(ascending = True)\n",
    "    df['temp_pid'] = df['temp_pid'].apply(lambda x: int(x - 1))\n",
    "    df['sal/100'] = df['salary'] / 100\n",
    "    df['sal/100'] = df['sal/100'].apply(lambda x: int(x))\n",
    "    df['sal_rank'] = df['salary'].rank(ascending = False)\n",
    "    df['sal_rank'] = df['sal_rank'].apply(lambda x: int(x))\n",
    "    \n",
    "    salary_dict = dict(zip(np.array(df['temp_pid'].values).astype(np.int16), \n",
    "                    np.array(df['sal/100'].values).astype(np.int16)))\n",
    "    pid_mapped_dict = dict(zip(np.array(df['temp_pid'].values).astype(np.int16),\n",
    "                    np.array(df['pid'].values).astype(np.int16)))\n",
    "    \n",
    "    top_df = df.loc[df['sal_rank'] <= top_players]\n",
    "    top_players_dict = dict(zip(np.array(top_df['temp_pid'].values).astype(np.int16),\n",
    "                     np.array(top_df['sal/100'].values).astype(np.int16)))\n",
    "    \n",
    "    return salary_dict, pid_mapped_dict, top_players_dict\n",
    "\n",
    "def map_pids_to_array(salary_dict, pid_mapped_dict, top_players_dict, hdf5_filepath, hdf5_savepath):\n",
    "    os.chdir('/home/valesco/Datasets/PGA_Data/lineup_combos/')\n",
    "    #Open 5 combo's hdf5 file\n",
    "    h5_file = h5py.File(hdf5_filepath, 'r')\n",
    "    h5_keys = list(h5_file.keys())\n",
    "    \n",
    "    #Create new hdf5 file for outputs\n",
    "    new_h5_file = h5py.File(hdf5_savepath, 'w')\n",
    "    \n",
    "    #set player cutoff for combos\n",
    "    player_cutoff = len(salary_dict.keys())\n",
    "    \n",
    "    for k, key in enumerate(h5_keys):\n",
    "        print('batch {} starting'.format(k))\n",
    "        \n",
    "        #iterate through top players to create 6 combo teams\n",
    "        complete_array = np.zeros(shape = (1,12)).astype(np.int16)\n",
    "        for top_pid, salary in tqdm(top_players_dict.items()):\n",
    "            \n",
    "            #read h5 dataset\n",
    "            combos = np.array(h5_file[key]).astype(np.int16)\n",
    "            print('combos', combos.shape)\n",
    "            \n",
    "            #limit players to max players in field\n",
    "            combos = combos[np.where((combos < player_cutoff).all(axis = 1))]\n",
    "            \n",
    "            print('combos', combos.shape)\n",
    "            pid_col = np.full((len(combos), 1), top_pid, np.int16)\n",
    "            \n",
    "            #add 6th player id\n",
    "            combos = np.hstack((pid_col, combos))\n",
    "            print('combos', combos.shape)\n",
    "            \n",
    "            #drop teams with duplicate players\n",
    "            vals, counts = stats.mode(combos, axis = 1)\n",
    "            combos = np.hstack((combos, counts)).astype(np.int16)\n",
    "            combos = combos[combos[:,6] == 1]\n",
    "            combos = combos[:,:6]\n",
    "            print('combos', combos.shape)\n",
    "            \n",
    "            #map temp_pids to array with player salaries\n",
    "            salary_array = np.vectorize(salary_dict.__getitem__)(combos).astype(np.int16)\n",
    "            print('salary_array', salary_array.shape)\n",
    "            \n",
    "            #retreive lineup indices that meet salary constraints\n",
    "            indices = np.where((salary_array.sum(axis = 1) < 501) & (salary_array.sum(axis = 1) > 450))\n",
    "            \n",
    "            #combine combo and salary arrays\n",
    "            salary_array = np.hstack((combos[indices], salary_array[indices]))\n",
    "            print('salary_array', salary_array.shape)\n",
    "            \n",
    "            #append salary array to complete array\n",
    "            complete_array = np.vstack((complete_array, salary_array))\n",
    "            print('complete_array', complete_array.shape)\n",
    "            \n",
    "        #write complete array to h5\n",
    "        new_h5_file.create_dataset('batch' + str(k), data = complete_array[1:])\n",
    "    \n",
    "    print('Process complete hdf5 file {} saved'.format(hdf_savepath))"
   ]
  },
  {
   "cell_type": "code",
   "execution_count": 8,
   "metadata": {
    "collapsed": false,
    "deletable": true,
    "editable": true
   },
   "outputs": [
    {
     "data": {
      "text/html": [
       "<div>\n",
       "<table border=\"1\" class=\"dataframe\">\n",
       "  <thead>\n",
       "    <tr style=\"text-align: right;\">\n",
       "      <th></th>\n",
       "      <th>pos</th>\n",
       "      <th>name_id</th>\n",
       "      <th>player_name</th>\n",
       "      <th>id</th>\n",
       "      <th>salary</th>\n",
       "      <th>tournament</th>\n",
       "      <th>team</th>\n",
       "    </tr>\n",
       "  </thead>\n",
       "  <tbody>\n",
       "    <tr>\n",
       "      <th>0</th>\n",
       "      <td>G</td>\n",
       "      <td>Jordan Spieth (8422900)</td>\n",
       "      <td>Jordan Spieth</td>\n",
       "      <td>8422900</td>\n",
       "      <td>11500</td>\n",
       "      <td>Masters Tournament</td>\n",
       "      <td>Golf</td>\n",
       "    </tr>\n",
       "    <tr>\n",
       "      <th>1</th>\n",
       "      <td>G</td>\n",
       "      <td>Dustin Johnson (8422944)</td>\n",
       "      <td>Dustin Johnson</td>\n",
       "      <td>8422944</td>\n",
       "      <td>11300</td>\n",
       "      <td>Masters Tournament</td>\n",
       "      <td>Golf</td>\n",
       "    </tr>\n",
       "    <tr>\n",
       "      <th>2</th>\n",
       "      <td>G</td>\n",
       "      <td>Rory McIlroy (8422908)</td>\n",
       "      <td>Rory McIlroy</td>\n",
       "      <td>8422908</td>\n",
       "      <td>10600</td>\n",
       "      <td>Masters Tournament</td>\n",
       "      <td>Golf</td>\n",
       "    </tr>\n",
       "    <tr>\n",
       "      <th>3</th>\n",
       "      <td>G</td>\n",
       "      <td>Jason Day (8422926)</td>\n",
       "      <td>Jason Day</td>\n",
       "      <td>8422926</td>\n",
       "      <td>10200</td>\n",
       "      <td>Masters Tournament</td>\n",
       "      <td>Golf</td>\n",
       "    </tr>\n",
       "    <tr>\n",
       "      <th>4</th>\n",
       "      <td>G</td>\n",
       "      <td>Hideki Matsuyama (8422978)</td>\n",
       "      <td>Hideki Matsuyama</td>\n",
       "      <td>8422978</td>\n",
       "      <td>9900</td>\n",
       "      <td>Masters Tournament</td>\n",
       "      <td>Golf</td>\n",
       "    </tr>\n",
       "  </tbody>\n",
       "</table>\n",
       "</div>"
      ],
      "text/plain": [
       "  pos                     name_id       player_name       id  salary  \\\n",
       "0   G     Jordan Spieth (8422900)     Jordan Spieth  8422900   11500   \n",
       "1   G    Dustin Johnson (8422944)    Dustin Johnson  8422944   11300   \n",
       "2   G      Rory McIlroy (8422908)      Rory McIlroy  8422908   10600   \n",
       "3   G         Jason Day (8422926)         Jason Day  8422926   10200   \n",
       "4   G  Hideki Matsuyama (8422978)  Hideki Matsuyama  8422978    9900   \n",
       "\n",
       "           tournament  team  \n",
       "0  Masters Tournament  Golf  \n",
       "1  Masters Tournament  Golf  \n",
       "2  Masters Tournament  Golf  \n",
       "3  Masters Tournament  Golf  \n",
       "4  Masters Tournament  Golf  "
      ]
     },
     "execution_count": 8,
     "metadata": {},
     "output_type": "execute_result"
    }
   ],
   "source": [
    "os.chdir('/home/valesco/Datasets/dk_downloads/')\n",
    "\n",
    "sal_df = pd.read_csv('DKSalaries (36).csv', skiprows = 7, usecols = range(7,14))\n",
    "sal_df.reset_index(inplace = True, drop = True)\n",
    "sal_df.columns = ['pos', 'name_id', 'player_name', 'id', 'salary', 'tournament', 'team']\n",
    "sal_df = sal_df.loc[sal_df['player_name'] != 'Stewart Hagestad']\n",
    "sal_df = sal_df.loc[sal_df['player_name'] != 'Toto Gana']\n",
    "sal_df.head()"
   ]
  },
  {
   "cell_type": "code",
   "execution_count": 9,
   "metadata": {
    "collapsed": false,
    "deletable": true,
    "editable": true
   },
   "outputs": [
    {
     "name": "stderr",
     "output_type": "stream",
     "text": [
      "\r",
      "  0%|          | 0/20 [00:00<?, ?it/s]"
     ]
    },
    {
     "name": "stdout",
     "output_type": "stream",
     "text": [
      "batch 0 starting\n",
      "combos (311375421, 5)\n",
      "combos (25591062, 5)\n"
     ]
    },
    {
     "ename": "KeyboardInterrupt",
     "evalue": "",
     "output_type": "error",
     "traceback": [
      "\u001b[0;31m---------------------------------------------------------------------------\u001b[0m",
      "\u001b[0;31mKeyboardInterrupt\u001b[0m                         Traceback (most recent call last)",
      "\u001b[0;32m<ipython-input-9-681545d29350>\u001b[0m in \u001b[0;36m<module>\u001b[0;34m()\u001b[0m\n\u001b[1;32m      3\u001b[0m \u001b[0msalary_dict\u001b[0m\u001b[0;34m,\u001b[0m \u001b[0mpid_mapped_dict\u001b[0m\u001b[0;34m,\u001b[0m \u001b[0mtop_players_dict\u001b[0m \u001b[0;34m=\u001b[0m \u001b[0mparse_salary_csv\u001b[0m\u001b[0;34m(\u001b[0m\u001b[0msal_df\u001b[0m\u001b[0;34m,\u001b[0m \u001b[0;36m20\u001b[0m\u001b[0;34m)\u001b[0m\u001b[0;34m\u001b[0m\u001b[0m\n\u001b[1;32m      4\u001b[0m \u001b[0;34m\u001b[0m\u001b[0m\n\u001b[0;32m----> 5\u001b[0;31m \u001b[0mmap_pids_to_array\u001b[0m\u001b[0;34m(\u001b[0m\u001b[0msalary_dict\u001b[0m\u001b[0;34m,\u001b[0m \u001b[0mpid_mapped_dict\u001b[0m\u001b[0;34m,\u001b[0m \u001b[0mtop_players_dict\u001b[0m\u001b[0;34m,\u001b[0m \u001b[0;34m'pga_5_team_combos.h5'\u001b[0m\u001b[0;34m,\u001b[0m \u001b[0;34m'masters_lineups.h5'\u001b[0m\u001b[0;34m)\u001b[0m\u001b[0;34m\u001b[0m\u001b[0m\n\u001b[0m",
      "\u001b[0;32m<ipython-input-7-4ca6bb5e3810>\u001b[0m in \u001b[0;36mmap_pids_to_array\u001b[0;34m(salary_dict, pid_mapped_dict, top_players_dict, hdf5_filepath, hdf5_savepath)\u001b[0m\n\u001b[1;32m     60\u001b[0m \u001b[0;34m\u001b[0m\u001b[0m\n\u001b[1;32m     61\u001b[0m             \u001b[0;31m#add 6th player id\u001b[0m\u001b[0;34m\u001b[0m\u001b[0;34m\u001b[0m\u001b[0m\n\u001b[0;32m---> 62\u001b[0;31m             \u001b[0mcombos\u001b[0m \u001b[0;34m=\u001b[0m \u001b[0mnp\u001b[0m\u001b[0;34m.\u001b[0m\u001b[0mhstack\u001b[0m\u001b[0;34m(\u001b[0m\u001b[0;34m(\u001b[0m\u001b[0mpid_col\u001b[0m\u001b[0;34m,\u001b[0m \u001b[0mcombos\u001b[0m\u001b[0;34m)\u001b[0m\u001b[0;34m)\u001b[0m\u001b[0;34m\u001b[0m\u001b[0m\n\u001b[0m\u001b[1;32m     63\u001b[0m             \u001b[0mprint\u001b[0m\u001b[0;34m(\u001b[0m\u001b[0;34m'combos'\u001b[0m\u001b[0;34m,\u001b[0m \u001b[0mcombos\u001b[0m\u001b[0;34m.\u001b[0m\u001b[0mshape\u001b[0m\u001b[0;34m)\u001b[0m\u001b[0;34m\u001b[0m\u001b[0m\n\u001b[1;32m     64\u001b[0m \u001b[0;34m\u001b[0m\u001b[0m\n",
      "\u001b[0;32m/home/valesco/anaconda3/lib/python3.5/site-packages/numpy/core/shape_base.py\u001b[0m in \u001b[0;36mhstack\u001b[0;34m(tup)\u001b[0m\n\u001b[1;32m    286\u001b[0m         \u001b[0;32mreturn\u001b[0m \u001b[0m_nx\u001b[0m\u001b[0;34m.\u001b[0m\u001b[0mconcatenate\u001b[0m\u001b[0;34m(\u001b[0m\u001b[0marrs\u001b[0m\u001b[0;34m,\u001b[0m \u001b[0;36m0\u001b[0m\u001b[0;34m)\u001b[0m\u001b[0;34m\u001b[0m\u001b[0m\n\u001b[1;32m    287\u001b[0m     \u001b[0;32melse\u001b[0m\u001b[0;34m:\u001b[0m\u001b[0;34m\u001b[0m\u001b[0m\n\u001b[0;32m--> 288\u001b[0;31m         \u001b[0;32mreturn\u001b[0m \u001b[0m_nx\u001b[0m\u001b[0;34m.\u001b[0m\u001b[0mconcatenate\u001b[0m\u001b[0;34m(\u001b[0m\u001b[0marrs\u001b[0m\u001b[0;34m,\u001b[0m \u001b[0;36m1\u001b[0m\u001b[0;34m)\u001b[0m\u001b[0;34m\u001b[0m\u001b[0m\n\u001b[0m\u001b[1;32m    289\u001b[0m \u001b[0;34m\u001b[0m\u001b[0m\n\u001b[1;32m    290\u001b[0m \u001b[0;32mdef\u001b[0m \u001b[0mstack\u001b[0m\u001b[0;34m(\u001b[0m\u001b[0marrays\u001b[0m\u001b[0;34m,\u001b[0m \u001b[0maxis\u001b[0m\u001b[0;34m=\u001b[0m\u001b[0;36m0\u001b[0m\u001b[0;34m)\u001b[0m\u001b[0;34m:\u001b[0m\u001b[0;34m\u001b[0m\u001b[0m\n",
      "\u001b[0;31mKeyboardInterrupt\u001b[0m: "
     ]
    }
   ],
   "source": [
    "os.chdir('/home/valesco/Datasets/PGA_Data/lineup_combos/')\n",
    "\n",
    "salary_dict, pid_mapped_dict, top_players_dict = parse_salary_csv(sal_df, 20)\n",
    "\n",
    "map_pids_to_array(salary_dict, pid_mapped_dict, top_players_dict, 'pga_5_team_combos.h5', 'masters_lineups.h5')"
   ]
  },
  {
   "cell_type": "code",
   "execution_count": null,
   "metadata": {
    "collapsed": true,
    "deletable": true,
    "editable": true
   },
   "outputs": [],
   "source": []
  }
 ],
 "metadata": {
  "kernelspec": {
   "display_name": "Python 3",
   "language": "python",
   "name": "python3"
  },
  "language_info": {
   "codemirror_mode": {
    "name": "ipython",
    "version": 3
   },
   "file_extension": ".py",
   "mimetype": "text/x-python",
   "name": "python",
   "nbconvert_exporter": "python",
   "pygments_lexer": "ipython3",
   "version": "3.5.0"
  }
 },
 "nbformat": 4,
 "nbformat_minor": 2
}
