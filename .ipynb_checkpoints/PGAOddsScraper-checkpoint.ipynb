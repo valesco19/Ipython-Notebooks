{
 "cells": [
  {
   "cell_type": "code",
   "execution_count": 1,
   "metadata": {
    "collapsed": true
   },
   "outputs": [],
   "source": [
    "from selenium import webdriver\n",
    "import os\n",
    "import time\n",
    "from datetime import datetime\n",
    "from datetime import timedelta\n",
    "import json\n",
    "import sys\n",
    "os.chdir('/home/valesco/Datasets/PGA_Data/pga_odds')"
   ]
  },
  {
   "cell_type": "code",
   "execution_count": null,
   "metadata": {
    "collapsed": false
   },
   "outputs": [
    {
     "name": "stdout",
     "output_type": "stream",
     "text": [
      "scrape success!!!\n"
     ]
    }
   ],
   "source": [
    "\n",
    "while True:\n",
    "    \n",
    "    try:\n",
    "        url_bovada = 'https://sports.bovada.lv/golf/pga-tour'\n",
    "\n",
    "        bov_browser = webdriver.Chrome()\n",
    "        bov_browser.get(url_bovada)\n",
    "\n",
    "        tourny_button = bov_browser.find_element_by_class_name('ng-binding')\n",
    "        tourny_name = tourny_button.text\n",
    "        try:\n",
    "            show_more_btn = bov_browser.find_element_by_xpath('//*[@id=\"spaNavigationComponents_content_center\"]/div/section/div/div/footer/button')\n",
    "            show_more_btn.click()\n",
    "        except:\n",
    "            pass\n",
    "        \n",
    "        body = bov_browser.find_elements_by_class_name('ng-isolate-scope')\n",
    "        body_text = []\n",
    "        for b in body:\n",
    "            body_text.append(b.text)\n",
    "\n",
    "        time_now = datetime.now()\n",
    "        time_now = time_now.strftime('%Y_%m_%d_%H_%M')\n",
    "\n",
    "        file_name = 'Bovada_' + tourny_name + '_' + time_now + '.txt'\n",
    "\n",
    "        with open(file_name, mode = 'wt', encoding = 'utf-8') as myfile:\n",
    "            for b in body:\n",
    "                myfile.write(b.text)\n",
    "            myfile.close\n",
    "\n",
    "        bov_browser.close()\n",
    "\n",
    "\n",
    "        url = 'http://www.pinnacle.com/'\n",
    "\n",
    "        browser = webdriver.Chrome()\n",
    "        browser.get(url)\n",
    "\n",
    "        sidebar_ls = []\n",
    "        for i in range(1,4):\n",
    "            string = ('//*[@id=\"sidebar\"]/div/ul/li['+ str(i) +']/ul/li')\n",
    "            side_bar = browser.find_elements_by_xpath(string)\n",
    "            for side in side_bar:\n",
    "                if 'Golf' in side.text:\n",
    "                    side.click()\n",
    "                    sidebar_ls.append(side)\n",
    "        try:\n",
    "            for i in range(1,4):\n",
    "                string = ('//*[@id=\"sidebar\"]/div/ul/li['+ str(i) +']/ul/li')\n",
    "                side_bar = browser.find_element_by_xpath('//*[@title=\"PGA Tour\"]')\n",
    "                side_bar.click()\n",
    "        except:\n",
    "            pass\n",
    "\n",
    "        golf = browser.find_elements_by_css_selector('a[href*=\"golf\"]')\n",
    "        \n",
    "        golf_url = []\n",
    "        for g in golf:\n",
    "            golf_url.append(g.get_attribute('href'))\n",
    "\n",
    "\n",
    "        odds_text = {}\n",
    "        for g in golf_url:\n",
    "            try:\n",
    "                if '/pga' in g:\n",
    "                    pga_browser = webdriver.Chrome()\n",
    "                    pga_browser.get(g)\n",
    "\n",
    "                    header = pga_browser.find_element_by_class_name('toolbar')\n",
    "                    key = header.text\n",
    "\n",
    "                    odds_data = pga_browser.find_element_by_class_name('odds-data')\n",
    "                    pinny = odds_data.text\n",
    "\n",
    "                    odds_string = pinny.split('\\\\n')\n",
    "\n",
    "                    temp_ls = []\n",
    "                    for odds in odds_string:\n",
    "                        temp_ls.append(odds)\n",
    "\n",
    "                    odds_text[key] = temp_ls\n",
    "\n",
    "                    pga_browser.close()\n",
    "            except:\n",
    "                pga_browser.close()\n",
    "                pass\n",
    "                \n",
    "        time_now = datetime.now()\n",
    "        time_now = time_now.strftime('%Y_%m_%d_%H_%M')\n",
    "\n",
    "        json_name = 'Pinny_' + time_now + '.json'\n",
    "\n",
    "        with open(json_name, 'w') as outfile:\n",
    "            json.dump(odds_text, outfile)\n",
    "            \n",
    "        browser.close()   \n",
    "        print('scrape success!!!')\n",
    "        time.sleep(9000)\n",
    "    except:\n",
    "        print('scrape failed')\n",
    "        time.sleep(1000)\n",
    "    \n"
   ]
  },
  {
   "cell_type": "code",
   "execution_count": null,
   "metadata": {
    "collapsed": false
   },
   "outputs": [],
   "source": [
    "print('Scraping Finished')"
   ]
  },
  {
   "cell_type": "code",
   "execution_count": null,
   "metadata": {
    "collapsed": false
   },
   "outputs": [],
   "source": [
    "\n",
    "\n"
   ]
  },
  {
   "cell_type": "code",
   "execution_count": null,
   "metadata": {
    "collapsed": true
   },
   "outputs": [],
   "source": []
  }
 ],
 "metadata": {
  "kernelspec": {
   "display_name": "Python 3",
   "language": "python",
   "name": "python3"
  },
  "language_info": {
   "codemirror_mode": {
    "name": "ipython",
    "version": 3
   },
   "file_extension": ".py",
   "mimetype": "text/x-python",
   "name": "python",
   "nbconvert_exporter": "python",
   "pygments_lexer": "ipython3",
   "version": "3.5.1"
  }
 },
 "nbformat": 4,
 "nbformat_minor": 0
}
