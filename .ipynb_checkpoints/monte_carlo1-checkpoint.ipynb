{
 "cells": [
  {
   "cell_type": "code",
   "execution_count": 12,
   "metadata": {
    "collapsed": false,
    "deletable": true,
    "editable": true
   },
   "outputs": [
    {
     "ename": "ImportError",
     "evalue": "No module named 'pga.parse_dk_contest'",
     "output_type": "error",
     "traceback": [
      "\u001b[0;31m---------------------------------------------------------------------------\u001b[0m",
      "\u001b[0;31mImportError\u001b[0m                               Traceback (most recent call last)",
      "\u001b[0;32m<ipython-input-12-7ae65bbfcac3>\u001b[0m in \u001b[0;36m<module>\u001b[0;34m()\u001b[0m\n\u001b[1;32m      7\u001b[0m \u001b[0;32mfrom\u001b[0m \u001b[0moperator\u001b[0m \u001b[0;32mimport\u001b[0m \u001b[0mitemgetter\u001b[0m\u001b[0;34m\u001b[0m\u001b[0m\n\u001b[1;32m      8\u001b[0m \u001b[0;32mfrom\u001b[0m \u001b[0mpga\u001b[0m\u001b[0;34m.\u001b[0m\u001b[0mreturn_pid\u001b[0m \u001b[0;32mimport\u001b[0m \u001b[0mreturn_pid\u001b[0m\u001b[0;34m\u001b[0m\u001b[0m\n\u001b[0;32m----> 9\u001b[0;31m \u001b[0;32mfrom\u001b[0m \u001b[0mpga\u001b[0m\u001b[0;34m.\u001b[0m\u001b[0mparse_dk_contest\u001b[0m \u001b[0;32mimport\u001b[0m \u001b[0mreturn_contest_array\u001b[0m\u001b[0;34m\u001b[0m\u001b[0m\n\u001b[0m\u001b[1;32m     10\u001b[0m \u001b[0;32mfrom\u001b[0m \u001b[0mdatetime\u001b[0m \u001b[0;32mimport\u001b[0m \u001b[0mdatetime\u001b[0m\u001b[0;34m\u001b[0m\u001b[0m\n\u001b[1;32m     11\u001b[0m \u001b[0;32mimport\u001b[0m \u001b[0mnumpy_indexed\u001b[0m \u001b[0;32mas\u001b[0m \u001b[0mnpi\u001b[0m\u001b[0;34m\u001b[0m\u001b[0m\n",
      "\u001b[0;31mImportError\u001b[0m: No module named 'pga.parse_dk_contest'"
     ]
    }
   ],
   "source": [
    "import h5py\n",
    "import pandas as pd\n",
    "import numpy as np\n",
    "from scipy import stats\n",
    "import os\n",
    "import zipfile\n",
    "from operator import itemgetter\n",
    "from pga.return_pid import return_pid\n",
    "from pga.parse_dk_contest import return_contest_array\n",
    "from datetime import datetime\n",
    "import numpy_indexed as npi\n",
    "from tqdm import tqdm"
   ]
  },
  {
   "cell_type": "code",
   "execution_count": 2,
   "metadata": {
    "collapsed": true,
    "deletable": true,
    "editable": true
   },
   "outputs": [],
   "source": [
    "def parse_salary_csv(df, top_players):\n",
    "    pid_ls = []\n",
    "    for player in sal_df['player_name'].unique():\n",
    "        pid = return_pid(player)\n",
    "\n",
    "        if pid is not np.nan:\n",
    "            pid_ls.append(pid)\n",
    "        else:\n",
    "            print(player, 'player id not found, skipped!!')\n",
    "            \n",
    "    df['pid'] = pid_ls\n",
    "    df['pid'] = df['pid'].apply(lambda x: int(x))\n",
    "    df.sort_values(by = 'pid', inplace = True)\n",
    "    df['temp_pid'] = df['pid'].rank(ascending = True)\n",
    "    df['temp_pid'] = df['temp_pid'].apply(lambda x: int(x - 1))\n",
    "    df['sal/100'] = df['salary'] / 100\n",
    "    df['sal/100'] = df['sal/100'].apply(lambda x: int(x))\n",
    "    df['sal_rank'] = df['salary'].rank(ascending = False)\n",
    "    df['sal_rank'] = df['sal_rank'].apply(lambda x: int(x))\n",
    "    \n",
    "    salary_dict = dict(zip(np.array(df['temp_pid'].values).astype(np.int16), \n",
    "                    np.array(df['sal/100'].values).astype(np.int16)))\n",
    "    pid_mapped_dict = dict(zip(np.array(df['temp_pid'].values).astype(np.int16),\n",
    "                    np.array(df['pid'].values).astype(np.int16)))\n",
    "    \n",
    "    top_df = df.loc[df['sal_rank'] <= top_players]\n",
    "    top_players_dict = dict(zip(np.array(top_df['temp_pid'].values).astype(np.int16),\n",
    "                     np.array(top_df['sal/100'].values).astype(np.int16)))\n",
    "    \n",
    "    return df\n",
    "    #return salary_dict, pid_mapped_dict, top_players_dict"
   ]
  },
  {
   "cell_type": "code",
   "execution_count": 4,
   "metadata": {
    "collapsed": false,
    "deletable": true,
    "editable": true
   },
   "outputs": [
    {
     "data": {
      "text/html": [
       "<div>\n",
       "<table border=\"1\" class=\"dataframe\">\n",
       "  <thead>\n",
       "    <tr style=\"text-align: right;\">\n",
       "      <th></th>\n",
       "      <th>pos</th>\n",
       "      <th>name_id</th>\n",
       "      <th>player_name</th>\n",
       "      <th>id</th>\n",
       "      <th>salary</th>\n",
       "      <th>tournament</th>\n",
       "      <th>team</th>\n",
       "      <th>proj_points</th>\n",
       "    </tr>\n",
       "  </thead>\n",
       "  <tbody>\n",
       "    <tr>\n",
       "      <th>0</th>\n",
       "      <td>G</td>\n",
       "      <td>Jordan Spieth (8422900)</td>\n",
       "      <td>Jordan Spieth</td>\n",
       "      <td>8422900</td>\n",
       "      <td>11500</td>\n",
       "      <td>Masters Tournament</td>\n",
       "      <td>Golf</td>\n",
       "      <td>105</td>\n",
       "    </tr>\n",
       "    <tr>\n",
       "      <th>1</th>\n",
       "      <td>G</td>\n",
       "      <td>Dustin Johnson (8422944)</td>\n",
       "      <td>Dustin Johnson</td>\n",
       "      <td>8422944</td>\n",
       "      <td>11300</td>\n",
       "      <td>Masters Tournament</td>\n",
       "      <td>Golf</td>\n",
       "      <td>108</td>\n",
       "    </tr>\n",
       "    <tr>\n",
       "      <th>2</th>\n",
       "      <td>G</td>\n",
       "      <td>Rory McIlroy (8422908)</td>\n",
       "      <td>Rory McIlroy</td>\n",
       "      <td>8422908</td>\n",
       "      <td>10600</td>\n",
       "      <td>Masters Tournament</td>\n",
       "      <td>Golf</td>\n",
       "      <td>103</td>\n",
       "    </tr>\n",
       "    <tr>\n",
       "      <th>3</th>\n",
       "      <td>G</td>\n",
       "      <td>Jason Day (8422926)</td>\n",
       "      <td>Jason Day</td>\n",
       "      <td>8422926</td>\n",
       "      <td>10200</td>\n",
       "      <td>Masters Tournament</td>\n",
       "      <td>Golf</td>\n",
       "      <td>97</td>\n",
       "    </tr>\n",
       "    <tr>\n",
       "      <th>4</th>\n",
       "      <td>G</td>\n",
       "      <td>Hideki Matsuyama (8422978)</td>\n",
       "      <td>Hideki Matsuyama</td>\n",
       "      <td>8422978</td>\n",
       "      <td>9900</td>\n",
       "      <td>Masters Tournament</td>\n",
       "      <td>Golf</td>\n",
       "      <td>96</td>\n",
       "    </tr>\n",
       "  </tbody>\n",
       "</table>\n",
       "</div>"
      ],
      "text/plain": [
       "  pos                     name_id       player_name       id  salary  \\\n",
       "0   G     Jordan Spieth (8422900)     Jordan Spieth  8422900   11500   \n",
       "1   G    Dustin Johnson (8422944)    Dustin Johnson  8422944   11300   \n",
       "2   G      Rory McIlroy (8422908)      Rory McIlroy  8422908   10600   \n",
       "3   G         Jason Day (8422926)         Jason Day  8422926   10200   \n",
       "4   G  Hideki Matsuyama (8422978)  Hideki Matsuyama  8422978    9900   \n",
       "\n",
       "           tournament  team  proj_points  \n",
       "0  Masters Tournament  Golf          105  \n",
       "1  Masters Tournament  Golf          108  \n",
       "2  Masters Tournament  Golf          103  \n",
       "3  Masters Tournament  Golf           97  \n",
       "4  Masters Tournament  Golf           96  "
      ]
     },
     "execution_count": 4,
     "metadata": {},
     "output_type": "execute_result"
    }
   ],
   "source": [
    "os.chdir('/home/valesco/Datasets/dk_downloads/')\n",
    "\n",
    "sal_df = pd.read_csv('DKSalaries (36).csv', skiprows = 7, usecols = range(7,15))\n",
    "sal_df.reset_index(inplace = True, drop = True)\n",
    "sal_df.columns = ['pos', 'name_id', 'player_name', 'id', 'salary', 'tournament', 'team', 'proj_points']\n",
    "sal_df = sal_df.loc[sal_df['player_name'] != 'Stewart Hagestad']\n",
    "sal_df = sal_df.loc[sal_df['player_name'] != 'Toto Gana']\n",
    "sal_df.head()"
   ]
  },
  {
   "cell_type": "code",
   "execution_count": 5,
   "metadata": {
    "collapsed": false,
    "deletable": true,
    "editable": true
   },
   "outputs": [
    {
     "data": {
      "text/html": [
       "<div>\n",
       "<table border=\"1\" class=\"dataframe\">\n",
       "  <thead>\n",
       "    <tr style=\"text-align: right;\">\n",
       "      <th></th>\n",
       "      <th>pos</th>\n",
       "      <th>name_id</th>\n",
       "      <th>player_name</th>\n",
       "      <th>id</th>\n",
       "      <th>salary</th>\n",
       "      <th>tournament</th>\n",
       "      <th>team</th>\n",
       "      <th>proj_points</th>\n",
       "      <th>pid</th>\n",
       "      <th>temp_pid</th>\n",
       "      <th>sal/100</th>\n",
       "      <th>sal_rank</th>\n",
       "    </tr>\n",
       "  </thead>\n",
       "  <tbody>\n",
       "    <tr>\n",
       "      <th>88</th>\n",
       "      <td>G</td>\n",
       "      <td>Daniel Berger (8422974)</td>\n",
       "      <td>Daniel Berger</td>\n",
       "      <td>8422974</td>\n",
       "      <td>7300</td>\n",
       "      <td>Masters Tournament</td>\n",
       "      <td>Golf</td>\n",
       "      <td>80</td>\n",
       "      <td>40026</td>\n",
       "      <td>88</td>\n",
       "      <td>73</td>\n",
       "      <td>33</td>\n",
       "    </tr>\n",
       "    <tr>\n",
       "      <th>89</th>\n",
       "      <td>G</td>\n",
       "      <td>Matthew Fitzpatrick (8422939)</td>\n",
       "      <td>Matthew Fitzpatrick</td>\n",
       "      <td>8422939</td>\n",
       "      <td>7400</td>\n",
       "      <td>Masters Tournament</td>\n",
       "      <td>Golf</td>\n",
       "      <td>80</td>\n",
       "      <td>40098</td>\n",
       "      <td>89</td>\n",
       "      <td>74</td>\n",
       "      <td>30</td>\n",
       "    </tr>\n",
       "    <tr>\n",
       "      <th>90</th>\n",
       "      <td>G</td>\n",
       "      <td>Jon Rahm (8422920)</td>\n",
       "      <td>Jon Rahm</td>\n",
       "      <td>8422920</td>\n",
       "      <td>8600</td>\n",
       "      <td>Masters Tournament</td>\n",
       "      <td>Golf</td>\n",
       "      <td>95</td>\n",
       "      <td>46970</td>\n",
       "      <td>90</td>\n",
       "      <td>86</td>\n",
       "      <td>12</td>\n",
       "    </tr>\n",
       "    <tr>\n",
       "      <th>91</th>\n",
       "      <td>G</td>\n",
       "      <td>Brad Dalke (8422980)</td>\n",
       "      <td>Brad Dalke</td>\n",
       "      <td>8422980</td>\n",
       "      <td>6200</td>\n",
       "      <td>Masters Tournament</td>\n",
       "      <td>Golf</td>\n",
       "      <td>47</td>\n",
       "      <td>49826</td>\n",
       "      <td>91</td>\n",
       "      <td>62</td>\n",
       "      <td>86</td>\n",
       "    </tr>\n",
       "    <tr>\n",
       "      <th>92</th>\n",
       "      <td>G</td>\n",
       "      <td>Scott Gregory (8422987)</td>\n",
       "      <td>Scott Gregory</td>\n",
       "      <td>8422987</td>\n",
       "      <td>6200</td>\n",
       "      <td>Masters Tournament</td>\n",
       "      <td>Golf</td>\n",
       "      <td>47</td>\n",
       "      <td>50735</td>\n",
       "      <td>92</td>\n",
       "      <td>62</td>\n",
       "      <td>86</td>\n",
       "    </tr>\n",
       "  </tbody>\n",
       "</table>\n",
       "</div>"
      ],
      "text/plain": [
       "   pos                        name_id          player_name       id  salary  \\\n",
       "88   G        Daniel Berger (8422974)        Daniel Berger  8422974    7300   \n",
       "89   G  Matthew Fitzpatrick (8422939)  Matthew Fitzpatrick  8422939    7400   \n",
       "90   G             Jon Rahm (8422920)             Jon Rahm  8422920    8600   \n",
       "91   G           Brad Dalke (8422980)           Brad Dalke  8422980    6200   \n",
       "92   G        Scott Gregory (8422987)        Scott Gregory  8422987    6200   \n",
       "\n",
       "            tournament  team  proj_points    pid  temp_pid  sal/100  sal_rank  \n",
       "88  Masters Tournament  Golf           80  40026        88       73        33  \n",
       "89  Masters Tournament  Golf           80  40098        89       74        30  \n",
       "90  Masters Tournament  Golf           95  46970        90       86        12  \n",
       "91  Masters Tournament  Golf           47  49826        91       62        86  \n",
       "92  Masters Tournament  Golf           47  50735        92       62        86  "
      ]
     },
     "execution_count": 5,
     "metadata": {},
     "output_type": "execute_result"
    }
   ],
   "source": [
    "sal_df = parse_salary_csv(sal_df, 20)\n",
    "sal_df.reset_index(inplace = True, drop = True)\n",
    "sal_df.tail()"
   ]
  },
  {
   "cell_type": "code",
   "execution_count": 9,
   "metadata": {
    "collapsed": false,
    "deletable": true,
    "editable": true
   },
   "outputs": [
    {
     "data": {
      "text/plain": [
       "array([[  0,  83,  43, ...,  82,  63,  92],\n",
       "       [  1,  64,  36, ...,  35,  48,  49],\n",
       "       [  2,   2,  12, ...,  33, -18,  43],\n",
       "       ..., \n",
       "       [ 90,  95, 113, ...,  97,  82,  82],\n",
       "       [ 91,  89,  44, ...,  61,  53,  81],\n",
       "       [ 92,  29,  45, ...,  60,  65,  58]], dtype=int16)"
      ]
     },
     "execution_count": 9,
     "metadata": {},
     "output_type": "execute_result"
    }
   ],
   "source": [
    "def create_points_array(df, num_sims):\n",
    "    proj_array = np.zeros((len(df), num_sims + 1)).astype(np.int16)\n",
    "\n",
    "    for index, row in df.iterrows():\n",
    "        temp_pid = np.array(row['temp_pid']).astype(np.int16).reshape((1,1))\n",
    "        proj_points = row['proj_points']\n",
    "        std = 20\n",
    "\n",
    "        point_sims = np.random.normal(proj_points, std, num_sims)\n",
    "        flat_sim = np.round(point_sims.reshape((1, num_sims)), decimals = 0)\n",
    "\n",
    "        flat_sim = np.hstack((temp_pid, flat_sim))\n",
    "\n",
    "        proj_array[index] = flat_sim\n",
    "\n",
    "\n",
    "    return proj_array\n",
    "\n",
    "proj_array = create_points_array(sal_df, 1000)\n",
    "proj_array"
   ]
  },
  {
   "cell_type": "code",
   "execution_count": 11,
   "metadata": {
    "collapsed": false,
    "deletable": true,
    "editable": true
   },
   "outputs": [
    {
     "data": {
      "text/plain": [
       "array(['Fred Couples', 'Bernhard Langer', 'Sandy Lyle', 'Phil Mickelson',\n",
       "       'Larry Mize', \"Mark O'Meara\", 'Ian Woosnam', 'Jose Maria Olazabal',\n",
       "       'Ernie Els', 'Steve Stricker', 'Vijay Singh', 'Tiger Woods',\n",
       "       'Mike Weir', 'Jim Furyk', 'Charley Hoffman', 'Lee Westwood',\n",
       "       'Rod Pampling', 'Angel Cabrera', 'Sergio Garcia', 'Hideto Tanihara',\n",
       "       'Henrik Stenson', 'Chris Wood', 'Trevor Immelman', 'Justin Rose',\n",
       "       'Soren Kjeldsen', 'Matt Kuchar', 'Zach Johnson', \"Sean O'Hair\",\n",
       "       'Pat Perez', 'Adam Scott', 'Bill Haas', 'Francesco Molinari',\n",
       "       'Paul Casey', 'Kevin Na', 'Jimmy Walker', 'Jason Dufner',\n",
       "       'Bubba Watson', 'Scott Piercy', 'Daniel Summerhays',\n",
       "       'Louis Oosthuizen', 'Charl Schwartzel', 'Rafael Cabrera-Bello',\n",
       "       'Ryan Moore', 'Marc Leishman', 'Yuta Ikeda', 'Jhonattan Vegas',\n",
       "       'J.B. Holmes', 'Alexander Noren', 'Martin Kaymer',\n",
       "       'Brandt Snedeker', 'Ross Fisher', 'Jason Day', 'Rory McIlroy',\n",
       "       'Webb Simpson', 'Billy Hurley', 'Bernd Wiesberger', 'Kevin Kisner',\n",
       "       'Brendan Steele', 'Branden Grace', 'Tommy Fleetwood',\n",
       "       'Dustin Johnson', 'William McGirt', 'Gary Woodland', 'Brian Stuard',\n",
       "       'Emiliano Grillo', 'Rickie Fowler', 'Danny Willett',\n",
       "       'Roberto Castro', 'Kevin Chappell', 'James Hahn',\n",
       "       'Hideki Matsuyama', 'Russell Knox', 'Shane Lowry', 'Thomas Pieters',\n",
       "       'Adam Hadwin', 'Justin Thomas', 'Byeong-Hun An', 'Jordan Spieth',\n",
       "       'Russell Henley', 'Hudson Swafford', 'Patrick Reed',\n",
       "       'Tyrrell Hatton', 'Andy Sullivan', 'Mackenzie Hughes',\n",
       "       'Brooks Koepka', 'Curtis Luck', 'Si Woo Kim', 'Jeunghun Wang',\n",
       "       'Daniel Berger', 'Matthew Fitzpatrick', 'Jon Rahm', 'Brad Dalke',\n",
       "       'Scott Gregory'], dtype=object)"
      ]
     },
     "execution_count": 11,
     "metadata": {},
     "output_type": "execute_result"
    }
   ],
   "source": [
    "sal_df['player_name'].unique()"
   ]
  },
  {
   "cell_type": "code",
   "execution_count": null,
   "metadata": {
    "collapsed": true,
    "deletable": true,
    "editable": true
   },
   "outputs": [],
   "source": []
  }
 ],
 "metadata": {
  "kernelspec": {
   "display_name": "Python 3",
   "language": "python",
   "name": "python3"
  },
  "language_info": {
   "codemirror_mode": {
    "name": "ipython",
    "version": 3
   },
   "file_extension": ".py",
   "mimetype": "text/x-python",
   "name": "python",
   "nbconvert_exporter": "python",
   "pygments_lexer": "ipython3",
   "version": "3.5.0"
  }
 },
 "nbformat": 4,
 "nbformat_minor": 2
}
