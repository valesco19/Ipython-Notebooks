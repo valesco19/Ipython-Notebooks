{
 "cells": [
  {
   "cell_type": "code",
   "execution_count": 1,
   "metadata": {
    "collapsed": true
   },
   "outputs": [],
   "source": [
    "from selenium import webdriver\n",
    "from selenium.webdriver.common.keys import Keys\n",
    "from selenium.webdriver.support.ui import Select\n",
    "import time\n",
    "import os\n",
    "from bs4 import BeautifulSoup\n",
    "chromedriver = 'C:/Users/Medcomp/Anaconda3/selenium/webdriver/Chrome/chromedriver'\n",
    "os.environ['webdriver.chrome.driver'] = chromedriver"
   ]
  },
  {
   "cell_type": "code",
   "execution_count": 2,
   "metadata": {
    "collapsed": false
   },
   "outputs": [
    {
     "ename": "AttributeError",
     "evalue": "'list' object has no attribute 'text'",
     "output_type": "error",
     "traceback": [
      "\u001b[1;31m---------------------------------------------------------------------------\u001b[0m",
      "\u001b[1;31mAttributeError\u001b[0m                            Traceback (most recent call last)",
      "\u001b[1;32m<ipython-input-2-2900a33d40eb>\u001b[0m in \u001b[0;36m<module>\u001b[1;34m()\u001b[0m\n\u001b[0;32m     57\u001b[0m \u001b[1;32mfor\u001b[0m \u001b[0murl\u001b[0m \u001b[1;32min\u001b[0m \u001b[0mcomplete_urls\u001b[0m\u001b[1;33m:\u001b[0m\u001b[1;33m\u001b[0m\u001b[0m\n\u001b[0;32m     58\u001b[0m     \u001b[1;32mfor\u001b[0m \u001b[0mu\u001b[0m \u001b[1;32min\u001b[0m \u001b[0murl\u001b[0m\u001b[1;33m:\u001b[0m\u001b[1;33m\u001b[0m\u001b[0m\n\u001b[1;32m---> 59\u001b[1;33m         \u001b[1;32mif\u001b[0m \u001b[0mlen\u001b[0m\u001b[1;33m(\u001b[0m\u001b[0mu\u001b[0m\u001b[1;33m.\u001b[0m\u001b[0mtext\u001b[0m\u001b[1;33m)\u001b[0m \u001b[1;33m>\u001b[0m \u001b[1;36m10\u001b[0m\u001b[1;33m:\u001b[0m\u001b[1;33m\u001b[0m\u001b[0m\n\u001b[0m\u001b[0;32m     60\u001b[0m             \u001b[0mprint\u001b[0m\u001b[1;33m(\u001b[0m\u001b[0mu\u001b[0m\u001b[1;33m.\u001b[0m\u001b[0mtext\u001b[0m\u001b[1;33m)\u001b[0m\u001b[1;33m\u001b[0m\u001b[0m\n\u001b[0;32m     61\u001b[0m             \u001b[0mprint\u001b[0m\u001b[1;33m(\u001b[0m\u001b[0mu\u001b[0m\u001b[1;33m.\u001b[0m\u001b[0mget_attribute\u001b[0m\u001b[1;33m(\u001b[0m\u001b[1;34m'href'\u001b[0m\u001b[1;33m)\u001b[0m\u001b[1;33m)\u001b[0m\u001b[1;33m\u001b[0m\u001b[0m\n",
      "\u001b[1;31mAttributeError\u001b[0m: 'list' object has no attribute 'text'"
     ]
    }
   ],
   "source": [
    "url = 'https://www.google.com'\n",
    "keyword = 'next gold rush'\n",
    "\n",
    "\n",
    "\n",
    "def google(url, keyword):\n",
    "    browser = webdriver.Chrome()\n",
    "    browser.get(url)\n",
    "    #Search for terms and narrow search\n",
    "    search_box = browser.find_element_by_xpath('//*[@id=\"lst-ib\"]')\n",
    "    search_box.send_keys(keyword + Keys.ENTER)\n",
    "    time.sleep(3)\n",
    "    \n",
    "    search_tools = browser.find_element_by_xpath('//*[@id=\"hdtb-tls\"]')\n",
    "    search_tools.click()\n",
    "    time.sleep(3)\n",
    "    \n",
    "    any_time_dd = browser.find_element_by_xpath('//*[@id=\"hdtbMenus\"]/div/div[2]/div')\n",
    "    any_time_dd.click()\n",
    "    \n",
    "    past_week = browser.find_element_by_xpath('//*[@id=\"qdr_w\"]')\n",
    "    past_week.click()\n",
    "    \n",
    "    time.sleep(3)\n",
    "    \n",
    "    return browser\n",
    "\n",
    "def retrieve_urls(browser):\n",
    "    \n",
    "    results = browser.find_elements_by_xpath('//*[@id=\"rso\"]/div')\n",
    "    urls = []\n",
    "    for result in results:\n",
    "        temp = result.find_elements_by_xpath('//a')\n",
    "        urls.append(temp)\n",
    "    time.sleep(5)\n",
    "    #next_btn = browser.find_element_by_xpath('//*[@id=\"pnnext\"]')\n",
    "    #next_btn.click()\n",
    "    return browser, urls\n",
    "\n",
    "\n",
    "    \n",
    "\n",
    "\n",
    "goog_browser = google(url, keyword)  \n",
    "\n",
    "complete_urls = []\n",
    "\n",
    "for r in range(4):\n",
    "    goog_browser, temp_urls = retrieve_urls(goog_browser)\n",
    "    next_btn = goog_browser.find_element_by_xpath('//*[@id=\"pnnext\"]/span[2]')\n",
    "    next_btn.click()\n",
    "    complete_urls.append(temp_urls)\n",
    "\n",
    "\n",
    "\n",
    "\n",
    "for url in complete_urls:\n",
    "    for u in url:\n",
    "        \n",
    "        if len(u.text) > 10:\n",
    "            print(u.text)\n",
    "            print(u.get_attribute('href'))\n",
    "    \n",
    "    \n",
    "\n"
   ]
  },
  {
   "cell_type": "code",
   "execution_count": null,
   "metadata": {
    "collapsed": true
   },
   "outputs": [],
   "source": []
  }
 ],
 "metadata": {
  "kernelspec": {
   "display_name": "Python 3",
   "language": "python",
   "name": "python3"
  },
  "language_info": {
   "codemirror_mode": {
    "name": "ipython",
    "version": 3
   },
   "file_extension": ".py",
   "mimetype": "text/x-python",
   "name": "python",
   "nbconvert_exporter": "python",
   "pygments_lexer": "ipython3",
   "version": "3.5.1"
  }
 },
 "nbformat": 4,
 "nbformat_minor": 0
}
