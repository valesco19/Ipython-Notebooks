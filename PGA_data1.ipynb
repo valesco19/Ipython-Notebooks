{
 "cells": [
  {
   "cell_type": "code",
   "execution_count": 1,
   "metadata": {
    "collapsed": true,
    "deletable": true,
    "editable": true
   },
   "outputs": [],
   "source": [
    "import urllib\n",
    "from bs4 import BeautifulSoup\n",
    "import requests\n",
    "import os\n",
    "import time\n",
    "import pandas as pd\n",
    "import json\n",
    "from datetime import datetime\n",
    "from glob import glob\n",
    "os.chdir('/home/valesco/Datasets/PGA_Data/PGA/')"
   ]
  },
  {
   "cell_type": "code",
   "execution_count": 2,
   "metadata": {
    "collapsed": false,
    "deletable": true,
    "editable": true
   },
   "outputs": [
    {
     "name": "stderr",
     "output_type": "stream",
     "text": [
      "/home/valesco/anaconda3/lib/python3.5/site-packages/bs4/__init__.py:181: UserWarning: No parser was explicitly specified, so I'm using the best available HTML parser for this system (\"lxml\"). This usually isn't a problem, but if you run this code on another system, or in a different virtual environment, it may use a different parser and behave differently.\n",
      "\n",
      "The code that caused this warning is on line 184 of the file /home/valesco/anaconda3/lib/python3.5/runpy.py. To get rid of this warning, change code that looks like this:\n",
      "\n",
      " BeautifulSoup([your markup])\n",
      "\n",
      "to this:\n",
      "\n",
      " BeautifulSoup([your markup], \"lxml\")\n",
      "\n",
      "  markup_type=markup_type))\n"
     ]
    }
   ],
   "source": [
    "base_url = 'http://pgatour.com/data/r/'\n",
    "\n",
    "def find_tourny_list(base_url):\n",
    "    soup = BeautifulSoup(requests.get(base_url, 'lxml').text)\n",
    "    tourny_list = []\n",
    "    for a in soup.find_all('a'):\n",
    "        temp = a.text\n",
    "        temp = temp.replace('/', '')\n",
    "        try:\n",
    "            if int(temp) < 800:\n",
    "                tourny_list.append(temp)\n",
    "        except:\n",
    "            pass\n",
    "    \n",
    "    return(tourny_list)\n",
    "\n",
    "tourny_list = find_tourny_list(base_url)"
   ]
  },
  {
   "cell_type": "code",
   "execution_count": 5,
   "metadata": {
    "collapsed": false,
    "deletable": true,
    "editable": true
   },
   "outputs": [
    {
     "name": "stderr",
     "output_type": "stream",
     "text": [
      "/home/valesco/anaconda3/lib/python3.5/site-packages/bs4/__init__.py:181: UserWarning: No parser was explicitly specified, so I'm using the best available HTML parser for this system (\"lxml\"). This usually isn't a problem, but if you run this code on another system, or in a different virtual environment, it may use a different parser and behave differently.\n",
      "\n",
      "The code that caused this warning is on line 184 of the file /home/valesco/anaconda3/lib/python3.5/runpy.py. To get rid of this warning, change code that looks like this:\n",
      "\n",
      " BeautifulSoup([your markup])\n",
      "\n",
      "to this:\n",
      "\n",
      " BeautifulSoup([your markup], \"lxml\")\n",
      "\n",
      "  markup_type=markup_type))\n"
     ]
    }
   ],
   "source": [
    "tourny_with_stats = []\n",
    "for tourny in tourny_list:\n",
    "    count = 0\n",
    "    tourny_url = base_url + tourny + '/'\n",
    "    soup = BeautifulSoup(requests.get(tourny_url, 'lxml').text)\n",
    "    temp_tourny = []\n",
    "    for a in soup.find_all('a'):\n",
    "        temp = a.text\n",
    "        temp = temp.replace('/', '')\n",
    "        temp_tourny.append(temp)\n",
    "            \n",
    "    year_list = ['2014','2015','2016']\n",
    "    for year in year_list:\n",
    "        if any(year in t for t in temp_tourny):\n",
    "            count = 1\n",
    "            \n",
    "    if count == 1:\n",
    "        tourny_with_stats.append(tourny)"
   ]
  },
  {
   "cell_type": "code",
   "execution_count": 30,
   "metadata": {
    "collapsed": false,
    "deletable": true,
    "editable": true
   },
   "outputs": [
    {
     "data": {
      "text/plain": [
       "('014', 'Masters Tournament')"
      ]
     },
     "execution_count": 30,
     "metadata": {},
     "output_type": "execute_result"
    }
   ],
   "source": [
    "#schedule = requests.get('http://www.pgatour.com/data/r/current/schedule-v2.json').json()\n",
    "\n",
    "last_week = str(int(schedule['thisWeek']['weekNumber']) - 1)\n",
    "for tournament in schedule['years'][0]['tours'][0]['trns']:\n",
    "    if tournament['date']['weekNumber'] == last_week:\n",
    "        tournament_perm_num = tournament['permNum']\n",
    "        tournament_name = tournament['trnName']['official']\n",
    "\n",
    "tournament_perm_num, tournament_name     "
   ]
  },
  {
   "cell_type": "code",
   "execution_count": 15,
   "metadata": {
    "collapsed": false,
    "deletable": true,
    "editable": true
   },
   "outputs": [],
   "source": [
    "now = datetime.now()\n",
    "\n",
    "os.chdir('/home/valesco/Datasets/PGA_Data/PGA/')\n",
    "folders = glob('*')\n",
    "folders\n",
    "\n",
    "tourny_ls = []\n",
    "\n",
    "for tourny in sched_data['years'][0]['tours'][0]['trns']:\n",
    "    start = pd.to_datetime(tourny['date']['end'])\n",
    "    year = start.year\n",
    "    tourny_num = tourny['permNum']\n",
    "    tourny_id = tourny_num + '_' + str(year)\n",
    "    if start < now:\n",
    "        tourny_ls.append(tourny_id)\n",
    "                            \n",
    "for tourny in tourny_ls:\n",
    "    if tourny in folders:\n",
    "        tourny_ls.remove(tourny)\n",
    "        \n",
    "tourny_ls = tourny_ls[5:]"
   ]
  },
  {
   "cell_type": "code",
   "execution_count": 31,
   "metadata": {
    "collapsed": false,
    "deletable": true,
    "editable": true
   },
   "outputs": [
    {
     "data": {
      "text/plain": [
       "'27064'"
      ]
     },
     "execution_count": 31,
     "metadata": {},
     "output_type": "execute_result"
    }
   ],
   "source": [
    "tournsum_file = open('/home/valesco/Datasets/PGA_Data/PGA/032_2016/032_2016_tournsum.json')\n",
    "tournsum_data = json.load(tournsum_file)\n",
    "tournsum_data['years'][0]['tours'][0]['trns'][0]['plrs'][0]['plrNum']"
   ]
  },
  {
   "cell_type": "code",
   "execution_count": 3,
   "metadata": {
    "collapsed": false,
    "deletable": true,
    "editable": true
   },
   "outputs": [
    {
     "name": "stdout",
     "output_type": "stream",
     "text": [
      "Directory Created: /home/valesco/Datasets/PGA_Data/PGA/028_2017\n"
     ]
    },
    {
     "ename": "HTTPError",
     "evalue": "HTTP Error 404: Not Found",
     "output_type": "error",
     "traceback": [
      "\u001b[0;31m---------------------------------------------------------------------------\u001b[0m",
      "\u001b[0;31mHTTPError\u001b[0m                                 Traceback (most recent call last)",
      "\u001b[0;32m<ipython-input-3-99d5964b7864>\u001b[0m in \u001b[0;36m<module>\u001b[0;34m()\u001b[0m\n\u001b[1;32m     33\u001b[0m         \u001b[0mcourse_url\u001b[0m \u001b[0;34m=\u001b[0m \u001b[0mcomplete_url\u001b[0m \u001b[0;34m+\u001b[0m \u001b[0;34m'course.json'\u001b[0m\u001b[0;34m\u001b[0m\u001b[0m\n\u001b[1;32m     34\u001b[0m         \u001b[0mcourse_filename\u001b[0m \u001b[0;34m=\u001b[0m \u001b[0mtournament\u001b[0m \u001b[0;34m+\u001b[0m \u001b[0;34m'_'\u001b[0m \u001b[0;34m+\u001b[0m \u001b[0myear\u001b[0m \u001b[0;34m+\u001b[0m \u001b[0;34m'_'\u001b[0m \u001b[0;34m+\u001b[0m \u001b[0;34m'course.json'\u001b[0m\u001b[0;34m\u001b[0m\u001b[0m\n\u001b[0;32m---> 35\u001b[0;31m         \u001b[0murllib\u001b[0m\u001b[0;34m.\u001b[0m\u001b[0mrequest\u001b[0m\u001b[0;34m.\u001b[0m\u001b[0murlretrieve\u001b[0m\u001b[0;34m(\u001b[0m\u001b[0mcourse_url\u001b[0m\u001b[0;34m,\u001b[0m \u001b[0mcourse_filename\u001b[0m\u001b[0;34m)\u001b[0m\u001b[0;34m\u001b[0m\u001b[0m\n\u001b[0m\u001b[1;32m     36\u001b[0m \u001b[0;34m\u001b[0m\u001b[0m\n\u001b[1;32m     37\u001b[0m         \u001b[0mtime\u001b[0m\u001b[0;34m.\u001b[0m\u001b[0msleep\u001b[0m\u001b[0;34m(\u001b[0m\u001b[0;36m.5\u001b[0m\u001b[0;34m)\u001b[0m\u001b[0;34m\u001b[0m\u001b[0m\n",
      "\u001b[0;32m/home/valesco/anaconda3/lib/python3.5/urllib/request.py\u001b[0m in \u001b[0;36murlretrieve\u001b[0;34m(url, filename, reporthook, data)\u001b[0m\n\u001b[1;32m    185\u001b[0m     \u001b[0murl_type\u001b[0m\u001b[0;34m,\u001b[0m \u001b[0mpath\u001b[0m \u001b[0;34m=\u001b[0m \u001b[0msplittype\u001b[0m\u001b[0;34m(\u001b[0m\u001b[0murl\u001b[0m\u001b[0;34m)\u001b[0m\u001b[0;34m\u001b[0m\u001b[0m\n\u001b[1;32m    186\u001b[0m \u001b[0;34m\u001b[0m\u001b[0m\n\u001b[0;32m--> 187\u001b[0;31m     \u001b[0;32mwith\u001b[0m \u001b[0mcontextlib\u001b[0m\u001b[0;34m.\u001b[0m\u001b[0mclosing\u001b[0m\u001b[0;34m(\u001b[0m\u001b[0murlopen\u001b[0m\u001b[0;34m(\u001b[0m\u001b[0murl\u001b[0m\u001b[0;34m,\u001b[0m \u001b[0mdata\u001b[0m\u001b[0;34m)\u001b[0m\u001b[0;34m)\u001b[0m \u001b[0;32mas\u001b[0m \u001b[0mfp\u001b[0m\u001b[0;34m:\u001b[0m\u001b[0;34m\u001b[0m\u001b[0m\n\u001b[0m\u001b[1;32m    188\u001b[0m         \u001b[0mheaders\u001b[0m \u001b[0;34m=\u001b[0m \u001b[0mfp\u001b[0m\u001b[0;34m.\u001b[0m\u001b[0minfo\u001b[0m\u001b[0;34m(\u001b[0m\u001b[0;34m)\u001b[0m\u001b[0;34m\u001b[0m\u001b[0m\n\u001b[1;32m    189\u001b[0m \u001b[0;34m\u001b[0m\u001b[0m\n",
      "\u001b[0;32m/home/valesco/anaconda3/lib/python3.5/urllib/request.py\u001b[0m in \u001b[0;36murlopen\u001b[0;34m(url, data, timeout, cafile, capath, cadefault, context)\u001b[0m\n\u001b[1;32m    160\u001b[0m     \u001b[0;32melse\u001b[0m\u001b[0;34m:\u001b[0m\u001b[0;34m\u001b[0m\u001b[0m\n\u001b[1;32m    161\u001b[0m         \u001b[0mopener\u001b[0m \u001b[0;34m=\u001b[0m \u001b[0m_opener\u001b[0m\u001b[0;34m\u001b[0m\u001b[0m\n\u001b[0;32m--> 162\u001b[0;31m     \u001b[0;32mreturn\u001b[0m \u001b[0mopener\u001b[0m\u001b[0;34m.\u001b[0m\u001b[0mopen\u001b[0m\u001b[0;34m(\u001b[0m\u001b[0murl\u001b[0m\u001b[0;34m,\u001b[0m \u001b[0mdata\u001b[0m\u001b[0;34m,\u001b[0m \u001b[0mtimeout\u001b[0m\u001b[0;34m)\u001b[0m\u001b[0;34m\u001b[0m\u001b[0m\n\u001b[0m\u001b[1;32m    163\u001b[0m \u001b[0;34m\u001b[0m\u001b[0m\n\u001b[1;32m    164\u001b[0m \u001b[0;32mdef\u001b[0m \u001b[0minstall_opener\u001b[0m\u001b[0;34m(\u001b[0m\u001b[0mopener\u001b[0m\u001b[0;34m)\u001b[0m\u001b[0;34m:\u001b[0m\u001b[0;34m\u001b[0m\u001b[0m\n",
      "\u001b[0;32m/home/valesco/anaconda3/lib/python3.5/urllib/request.py\u001b[0m in \u001b[0;36mopen\u001b[0;34m(self, fullurl, data, timeout)\u001b[0m\n\u001b[1;32m    469\u001b[0m         \u001b[0;32mfor\u001b[0m \u001b[0mprocessor\u001b[0m \u001b[0;32min\u001b[0m \u001b[0mself\u001b[0m\u001b[0;34m.\u001b[0m\u001b[0mprocess_response\u001b[0m\u001b[0;34m.\u001b[0m\u001b[0mget\u001b[0m\u001b[0;34m(\u001b[0m\u001b[0mprotocol\u001b[0m\u001b[0;34m,\u001b[0m \u001b[0;34m[\u001b[0m\u001b[0;34m]\u001b[0m\u001b[0;34m)\u001b[0m\u001b[0;34m:\u001b[0m\u001b[0;34m\u001b[0m\u001b[0m\n\u001b[1;32m    470\u001b[0m             \u001b[0mmeth\u001b[0m \u001b[0;34m=\u001b[0m \u001b[0mgetattr\u001b[0m\u001b[0;34m(\u001b[0m\u001b[0mprocessor\u001b[0m\u001b[0;34m,\u001b[0m \u001b[0mmeth_name\u001b[0m\u001b[0;34m)\u001b[0m\u001b[0;34m\u001b[0m\u001b[0m\n\u001b[0;32m--> 471\u001b[0;31m             \u001b[0mresponse\u001b[0m \u001b[0;34m=\u001b[0m \u001b[0mmeth\u001b[0m\u001b[0;34m(\u001b[0m\u001b[0mreq\u001b[0m\u001b[0;34m,\u001b[0m \u001b[0mresponse\u001b[0m\u001b[0;34m)\u001b[0m\u001b[0;34m\u001b[0m\u001b[0m\n\u001b[0m\u001b[1;32m    472\u001b[0m \u001b[0;34m\u001b[0m\u001b[0m\n\u001b[1;32m    473\u001b[0m         \u001b[0;32mreturn\u001b[0m \u001b[0mresponse\u001b[0m\u001b[0;34m\u001b[0m\u001b[0m\n",
      "\u001b[0;32m/home/valesco/anaconda3/lib/python3.5/urllib/request.py\u001b[0m in \u001b[0;36mhttp_response\u001b[0;34m(self, request, response)\u001b[0m\n\u001b[1;32m    579\u001b[0m         \u001b[0;32mif\u001b[0m \u001b[0;32mnot\u001b[0m \u001b[0;34m(\u001b[0m\u001b[0;36m200\u001b[0m \u001b[0;34m<=\u001b[0m \u001b[0mcode\u001b[0m \u001b[0;34m<\u001b[0m \u001b[0;36m300\u001b[0m\u001b[0;34m)\u001b[0m\u001b[0;34m:\u001b[0m\u001b[0;34m\u001b[0m\u001b[0m\n\u001b[1;32m    580\u001b[0m             response = self.parent.error(\n\u001b[0;32m--> 581\u001b[0;31m                 'http', request, response, code, msg, hdrs)\n\u001b[0m\u001b[1;32m    582\u001b[0m \u001b[0;34m\u001b[0m\u001b[0m\n\u001b[1;32m    583\u001b[0m         \u001b[0;32mreturn\u001b[0m \u001b[0mresponse\u001b[0m\u001b[0;34m\u001b[0m\u001b[0m\n",
      "\u001b[0;32m/home/valesco/anaconda3/lib/python3.5/urllib/request.py\u001b[0m in \u001b[0;36merror\u001b[0;34m(self, proto, *args)\u001b[0m\n\u001b[1;32m    501\u001b[0m             \u001b[0mhttp_err\u001b[0m \u001b[0;34m=\u001b[0m \u001b[0;36m0\u001b[0m\u001b[0;34m\u001b[0m\u001b[0m\n\u001b[1;32m    502\u001b[0m         \u001b[0margs\u001b[0m \u001b[0;34m=\u001b[0m \u001b[0;34m(\u001b[0m\u001b[0mdict\u001b[0m\u001b[0;34m,\u001b[0m \u001b[0mproto\u001b[0m\u001b[0;34m,\u001b[0m \u001b[0mmeth_name\u001b[0m\u001b[0;34m)\u001b[0m \u001b[0;34m+\u001b[0m \u001b[0margs\u001b[0m\u001b[0;34m\u001b[0m\u001b[0m\n\u001b[0;32m--> 503\u001b[0;31m         \u001b[0mresult\u001b[0m \u001b[0;34m=\u001b[0m \u001b[0mself\u001b[0m\u001b[0;34m.\u001b[0m\u001b[0m_call_chain\u001b[0m\u001b[0;34m(\u001b[0m\u001b[0;34m*\u001b[0m\u001b[0margs\u001b[0m\u001b[0;34m)\u001b[0m\u001b[0;34m\u001b[0m\u001b[0m\n\u001b[0m\u001b[1;32m    504\u001b[0m         \u001b[0;32mif\u001b[0m \u001b[0mresult\u001b[0m\u001b[0;34m:\u001b[0m\u001b[0;34m\u001b[0m\u001b[0m\n\u001b[1;32m    505\u001b[0m             \u001b[0;32mreturn\u001b[0m \u001b[0mresult\u001b[0m\u001b[0;34m\u001b[0m\u001b[0m\n",
      "\u001b[0;32m/home/valesco/anaconda3/lib/python3.5/urllib/request.py\u001b[0m in \u001b[0;36m_call_chain\u001b[0;34m(self, chain, kind, meth_name, *args)\u001b[0m\n\u001b[1;32m    441\u001b[0m         \u001b[0;32mfor\u001b[0m \u001b[0mhandler\u001b[0m \u001b[0;32min\u001b[0m \u001b[0mhandlers\u001b[0m\u001b[0;34m:\u001b[0m\u001b[0;34m\u001b[0m\u001b[0m\n\u001b[1;32m    442\u001b[0m             \u001b[0mfunc\u001b[0m \u001b[0;34m=\u001b[0m \u001b[0mgetattr\u001b[0m\u001b[0;34m(\u001b[0m\u001b[0mhandler\u001b[0m\u001b[0;34m,\u001b[0m \u001b[0mmeth_name\u001b[0m\u001b[0;34m)\u001b[0m\u001b[0;34m\u001b[0m\u001b[0m\n\u001b[0;32m--> 443\u001b[0;31m             \u001b[0mresult\u001b[0m \u001b[0;34m=\u001b[0m \u001b[0mfunc\u001b[0m\u001b[0;34m(\u001b[0m\u001b[0;34m*\u001b[0m\u001b[0margs\u001b[0m\u001b[0;34m)\u001b[0m\u001b[0;34m\u001b[0m\u001b[0m\n\u001b[0m\u001b[1;32m    444\u001b[0m             \u001b[0;32mif\u001b[0m \u001b[0mresult\u001b[0m \u001b[0;32mis\u001b[0m \u001b[0;32mnot\u001b[0m \u001b[0;32mNone\u001b[0m\u001b[0;34m:\u001b[0m\u001b[0;34m\u001b[0m\u001b[0m\n\u001b[1;32m    445\u001b[0m                 \u001b[0;32mreturn\u001b[0m \u001b[0mresult\u001b[0m\u001b[0;34m\u001b[0m\u001b[0m\n",
      "\u001b[0;32m/home/valesco/anaconda3/lib/python3.5/urllib/request.py\u001b[0m in \u001b[0;36mhttp_error_302\u001b[0;34m(self, req, fp, code, msg, headers)\u001b[0m\n\u001b[1;32m    684\u001b[0m         \u001b[0mfp\u001b[0m\u001b[0;34m.\u001b[0m\u001b[0mclose\u001b[0m\u001b[0;34m(\u001b[0m\u001b[0;34m)\u001b[0m\u001b[0;34m\u001b[0m\u001b[0m\n\u001b[1;32m    685\u001b[0m \u001b[0;34m\u001b[0m\u001b[0m\n\u001b[0;32m--> 686\u001b[0;31m         \u001b[0;32mreturn\u001b[0m \u001b[0mself\u001b[0m\u001b[0;34m.\u001b[0m\u001b[0mparent\u001b[0m\u001b[0;34m.\u001b[0m\u001b[0mopen\u001b[0m\u001b[0;34m(\u001b[0m\u001b[0mnew\u001b[0m\u001b[0;34m,\u001b[0m \u001b[0mtimeout\u001b[0m\u001b[0;34m=\u001b[0m\u001b[0mreq\u001b[0m\u001b[0;34m.\u001b[0m\u001b[0mtimeout\u001b[0m\u001b[0;34m)\u001b[0m\u001b[0;34m\u001b[0m\u001b[0m\n\u001b[0m\u001b[1;32m    687\u001b[0m \u001b[0;34m\u001b[0m\u001b[0m\n\u001b[1;32m    688\u001b[0m     \u001b[0mhttp_error_301\u001b[0m \u001b[0;34m=\u001b[0m \u001b[0mhttp_error_303\u001b[0m \u001b[0;34m=\u001b[0m \u001b[0mhttp_error_307\u001b[0m \u001b[0;34m=\u001b[0m \u001b[0mhttp_error_302\u001b[0m\u001b[0;34m\u001b[0m\u001b[0m\n",
      "\u001b[0;32m/home/valesco/anaconda3/lib/python3.5/urllib/request.py\u001b[0m in \u001b[0;36mopen\u001b[0;34m(self, fullurl, data, timeout)\u001b[0m\n\u001b[1;32m    469\u001b[0m         \u001b[0;32mfor\u001b[0m \u001b[0mprocessor\u001b[0m \u001b[0;32min\u001b[0m \u001b[0mself\u001b[0m\u001b[0;34m.\u001b[0m\u001b[0mprocess_response\u001b[0m\u001b[0;34m.\u001b[0m\u001b[0mget\u001b[0m\u001b[0;34m(\u001b[0m\u001b[0mprotocol\u001b[0m\u001b[0;34m,\u001b[0m \u001b[0;34m[\u001b[0m\u001b[0;34m]\u001b[0m\u001b[0;34m)\u001b[0m\u001b[0;34m:\u001b[0m\u001b[0;34m\u001b[0m\u001b[0m\n\u001b[1;32m    470\u001b[0m             \u001b[0mmeth\u001b[0m \u001b[0;34m=\u001b[0m \u001b[0mgetattr\u001b[0m\u001b[0;34m(\u001b[0m\u001b[0mprocessor\u001b[0m\u001b[0;34m,\u001b[0m \u001b[0mmeth_name\u001b[0m\u001b[0;34m)\u001b[0m\u001b[0;34m\u001b[0m\u001b[0m\n\u001b[0;32m--> 471\u001b[0;31m             \u001b[0mresponse\u001b[0m \u001b[0;34m=\u001b[0m \u001b[0mmeth\u001b[0m\u001b[0;34m(\u001b[0m\u001b[0mreq\u001b[0m\u001b[0;34m,\u001b[0m \u001b[0mresponse\u001b[0m\u001b[0;34m)\u001b[0m\u001b[0;34m\u001b[0m\u001b[0m\n\u001b[0m\u001b[1;32m    472\u001b[0m \u001b[0;34m\u001b[0m\u001b[0m\n\u001b[1;32m    473\u001b[0m         \u001b[0;32mreturn\u001b[0m \u001b[0mresponse\u001b[0m\u001b[0;34m\u001b[0m\u001b[0m\n",
      "\u001b[0;32m/home/valesco/anaconda3/lib/python3.5/urllib/request.py\u001b[0m in \u001b[0;36mhttp_response\u001b[0;34m(self, request, response)\u001b[0m\n\u001b[1;32m    579\u001b[0m         \u001b[0;32mif\u001b[0m \u001b[0;32mnot\u001b[0m \u001b[0;34m(\u001b[0m\u001b[0;36m200\u001b[0m \u001b[0;34m<=\u001b[0m \u001b[0mcode\u001b[0m \u001b[0;34m<\u001b[0m \u001b[0;36m300\u001b[0m\u001b[0;34m)\u001b[0m\u001b[0;34m:\u001b[0m\u001b[0;34m\u001b[0m\u001b[0m\n\u001b[1;32m    580\u001b[0m             response = self.parent.error(\n\u001b[0;32m--> 581\u001b[0;31m                 'http', request, response, code, msg, hdrs)\n\u001b[0m\u001b[1;32m    582\u001b[0m \u001b[0;34m\u001b[0m\u001b[0m\n\u001b[1;32m    583\u001b[0m         \u001b[0;32mreturn\u001b[0m \u001b[0mresponse\u001b[0m\u001b[0;34m\u001b[0m\u001b[0m\n",
      "\u001b[0;32m/home/valesco/anaconda3/lib/python3.5/urllib/request.py\u001b[0m in \u001b[0;36merror\u001b[0;34m(self, proto, *args)\u001b[0m\n\u001b[1;32m    507\u001b[0m         \u001b[0;32mif\u001b[0m \u001b[0mhttp_err\u001b[0m\u001b[0;34m:\u001b[0m\u001b[0;34m\u001b[0m\u001b[0m\n\u001b[1;32m    508\u001b[0m             \u001b[0margs\u001b[0m \u001b[0;34m=\u001b[0m \u001b[0;34m(\u001b[0m\u001b[0mdict\u001b[0m\u001b[0;34m,\u001b[0m \u001b[0;34m'default'\u001b[0m\u001b[0;34m,\u001b[0m \u001b[0;34m'http_error_default'\u001b[0m\u001b[0;34m)\u001b[0m \u001b[0;34m+\u001b[0m \u001b[0morig_args\u001b[0m\u001b[0;34m\u001b[0m\u001b[0m\n\u001b[0;32m--> 509\u001b[0;31m             \u001b[0;32mreturn\u001b[0m \u001b[0mself\u001b[0m\u001b[0;34m.\u001b[0m\u001b[0m_call_chain\u001b[0m\u001b[0;34m(\u001b[0m\u001b[0;34m*\u001b[0m\u001b[0margs\u001b[0m\u001b[0;34m)\u001b[0m\u001b[0;34m\u001b[0m\u001b[0m\n\u001b[0m\u001b[1;32m    510\u001b[0m \u001b[0;34m\u001b[0m\u001b[0m\n\u001b[1;32m    511\u001b[0m \u001b[0;31m# XXX probably also want an abstract factory that knows when it makes\u001b[0m\u001b[0;34m\u001b[0m\u001b[0;34m\u001b[0m\u001b[0m\n",
      "\u001b[0;32m/home/valesco/anaconda3/lib/python3.5/urllib/request.py\u001b[0m in \u001b[0;36m_call_chain\u001b[0;34m(self, chain, kind, meth_name, *args)\u001b[0m\n\u001b[1;32m    441\u001b[0m         \u001b[0;32mfor\u001b[0m \u001b[0mhandler\u001b[0m \u001b[0;32min\u001b[0m \u001b[0mhandlers\u001b[0m\u001b[0;34m:\u001b[0m\u001b[0;34m\u001b[0m\u001b[0m\n\u001b[1;32m    442\u001b[0m             \u001b[0mfunc\u001b[0m \u001b[0;34m=\u001b[0m \u001b[0mgetattr\u001b[0m\u001b[0;34m(\u001b[0m\u001b[0mhandler\u001b[0m\u001b[0;34m,\u001b[0m \u001b[0mmeth_name\u001b[0m\u001b[0;34m)\u001b[0m\u001b[0;34m\u001b[0m\u001b[0m\n\u001b[0;32m--> 443\u001b[0;31m             \u001b[0mresult\u001b[0m \u001b[0;34m=\u001b[0m \u001b[0mfunc\u001b[0m\u001b[0;34m(\u001b[0m\u001b[0;34m*\u001b[0m\u001b[0margs\u001b[0m\u001b[0;34m)\u001b[0m\u001b[0;34m\u001b[0m\u001b[0m\n\u001b[0m\u001b[1;32m    444\u001b[0m             \u001b[0;32mif\u001b[0m \u001b[0mresult\u001b[0m \u001b[0;32mis\u001b[0m \u001b[0;32mnot\u001b[0m \u001b[0;32mNone\u001b[0m\u001b[0;34m:\u001b[0m\u001b[0;34m\u001b[0m\u001b[0m\n\u001b[1;32m    445\u001b[0m                 \u001b[0;32mreturn\u001b[0m \u001b[0mresult\u001b[0m\u001b[0;34m\u001b[0m\u001b[0m\n",
      "\u001b[0;32m/home/valesco/anaconda3/lib/python3.5/urllib/request.py\u001b[0m in \u001b[0;36mhttp_error_default\u001b[0;34m(self, req, fp, code, msg, hdrs)\u001b[0m\n\u001b[1;32m    587\u001b[0m \u001b[0;32mclass\u001b[0m \u001b[0mHTTPDefaultErrorHandler\u001b[0m\u001b[0;34m(\u001b[0m\u001b[0mBaseHandler\u001b[0m\u001b[0;34m)\u001b[0m\u001b[0;34m:\u001b[0m\u001b[0;34m\u001b[0m\u001b[0m\n\u001b[1;32m    588\u001b[0m     \u001b[0;32mdef\u001b[0m \u001b[0mhttp_error_default\u001b[0m\u001b[0;34m(\u001b[0m\u001b[0mself\u001b[0m\u001b[0;34m,\u001b[0m \u001b[0mreq\u001b[0m\u001b[0;34m,\u001b[0m \u001b[0mfp\u001b[0m\u001b[0;34m,\u001b[0m \u001b[0mcode\u001b[0m\u001b[0;34m,\u001b[0m \u001b[0mmsg\u001b[0m\u001b[0;34m,\u001b[0m \u001b[0mhdrs\u001b[0m\u001b[0;34m)\u001b[0m\u001b[0;34m:\u001b[0m\u001b[0;34m\u001b[0m\u001b[0m\n\u001b[0;32m--> 589\u001b[0;31m         \u001b[0;32mraise\u001b[0m \u001b[0mHTTPError\u001b[0m\u001b[0;34m(\u001b[0m\u001b[0mreq\u001b[0m\u001b[0;34m.\u001b[0m\u001b[0mfull_url\u001b[0m\u001b[0;34m,\u001b[0m \u001b[0mcode\u001b[0m\u001b[0;34m,\u001b[0m \u001b[0mmsg\u001b[0m\u001b[0;34m,\u001b[0m \u001b[0mhdrs\u001b[0m\u001b[0;34m,\u001b[0m \u001b[0mfp\u001b[0m\u001b[0;34m)\u001b[0m\u001b[0;34m\u001b[0m\u001b[0m\n\u001b[0m\u001b[1;32m    590\u001b[0m \u001b[0;34m\u001b[0m\u001b[0m\n\u001b[1;32m    591\u001b[0m \u001b[0;32mclass\u001b[0m \u001b[0mHTTPRedirectHandler\u001b[0m\u001b[0;34m(\u001b[0m\u001b[0mBaseHandler\u001b[0m\u001b[0;34m)\u001b[0m\u001b[0;34m:\u001b[0m\u001b[0;34m\u001b[0m\u001b[0m\n",
      "\u001b[0;31mHTTPError\u001b[0m: HTTP Error 404: Not Found"
     ]
    }
   ],
   "source": [
    "os.chdir('/home/valesco/Datasets/PGA_Data/PGA/')\n",
    "\n",
    "base_url = 'http://pgatour.com/data/r/'\n",
    "#tournament_ls = [tournament_perm_num + '_2017']\n",
    "tournament_ls = ['028_2017']\n",
    "\n",
    "\n",
    "for tournament_id in tournament_ls:\n",
    "    time.sleep(1)        \n",
    "    exists = 0\n",
    "    tournament = tournament_id.split('_')[0]\n",
    "    year = tournament_id.split('_')[1]\n",
    "    base_url = 'https://statdata.pgatour.com/r/'\n",
    "    complete_url = base_url + tournament + '/' + year + '/'\n",
    "    request = requests.get(complete_url)\n",
    "\n",
    "    #try:\n",
    "    #create base path\n",
    "    path = '/home/valesco/Datasets/PGA_Data/PGA/' + tournament + '_' + year\n",
    "\n",
    "    #check to see if data has already been downloaded\n",
    "    if os.path.isdir(path) is True:\n",
    "        print(tournament + '_' + year + ' already exists')\n",
    "        pass\n",
    "\n",
    "    else:                \n",
    "        #make and change directory\n",
    "        os.mkdir(path)\n",
    "        os.chdir(path)\n",
    "        print('Directory Created: ' + path)\n",
    "\n",
    "        #download course.json file\n",
    "        course_url = complete_url + 'course.json'\n",
    "        course_filename = tournament + '_' + year + '_' + 'course.json'\n",
    "        urllib.request.urlretrieve(course_url, course_filename)\n",
    "\n",
    "        time.sleep(.5)\n",
    "        #download leaderboard.json file\n",
    "        leaderboard_url = complete_url + 'leaderboard-v2.json'\n",
    "        leaderboard_filename = tournament + '_' + year + '_' + 'leaderboard-v2.json'\n",
    "        urllib.request.urlretrieve(leaderboard_url, leaderboard_filename)\n",
    "\n",
    "        time.sleep(.5)\n",
    "        #download player_stats.json file\n",
    "        stats_url = complete_url + 'player_stats.json'\n",
    "        stats_filename = tournament + '_' + year + '_' + 'player_stats.json'\n",
    "        urllib.request.urlretrieve(stats_url, stats_filename)\n",
    "\n",
    "        time.sleep(.5)\n",
    "        #download teetimes.json file\n",
    "        teetimes_url = complete_url + 'teetimes.json'\n",
    "        teetimes_filename = tournament + '_' + year + '_' + 'teetimes.json'\n",
    "        urllib.request.urlretrieve(teetimes_url, teetimes_filename)\n",
    "\n",
    "        time.sleep(.5)\n",
    "        #download tourny summary json file\n",
    "        tournsum_url = complete_url + 'tournsum.json'\n",
    "        tournsum_filename = tournament + '_' + year + '_' + 'tournsum.json'\n",
    "        urllib.request.urlretrieve(tournsum_url, tournsum_filename)\n",
    "\n",
    "        time.sleep(.5)\n",
    "        money_url = complete_url + 'money.json'\n",
    "        money_filename = tournament + '_' + year + '_' + 'money.json'\n",
    "        urllib.request.urlretrieve(money_url, money_filename)\n",
    "\n",
    "        time.sleep(.5)\n",
    "        playoff_url = complete_url + 'playoff_info.json'\n",
    "        playoff_filename = tournament + '_' + year + '_' + 'playoff_info.json'\n",
    "        urllib.request.urlretrieve(playoff_url, playoff_filename)\n",
    "\n",
    "        time.sleep(.5)\n",
    "        tournsum_url = complete_url + 'tournsum.json'\n",
    "        tournsum_filename = tournament + '_' + year + '_' + 'tournsum.json'\n",
    "        urllib.request.urlretrieve(tournsum_url, tournsum_filename)\n",
    "\n",
    "\n",
    "        time.sleep(.5)\n",
    "        json_setup_url = complete_url + 'setup.json'\n",
    "        json_setup_filename = tournament + '_' + year + '_' + 'setup.json'\n",
    "        urllib.request.urlretrieve(json_setup_url, json_setup_filename)\n",
    "\n",
    "        time.sleep(.5)\n",
    "        xml_setup_url = complete_url + 'setup.xml'\n",
    "        xml_setup_filename = tournament + '_' + year + '_' + 'setup.xml'\n",
    "        urllib.request.urlretrieve(xml_setup_url, xml_setup_filename)\n",
    "\n",
    "        time.sleep(.5)\n",
    "        course_stat_url = complete_url + 'coursestat.json'\n",
    "        course_stat_filename = tournament + '_' + year + '_' + 'coursestat.json'\n",
    "        urllib.request.urlretrieve(course_stat_url, course_stat_filename)\n",
    "\n",
    "        tournsum_file = open(tournsum_filename)\n",
    "        tournsum_data = json.load(tournsum_file)\n",
    "\n",
    "        player_ls = []\n",
    "        for player in tournsum_data['years'][0]['tours'][0]['trns'][0]['plrs']:\n",
    "            player_ls.append(player['plrNum'])\n",
    "\n",
    "        #create and change to directory to store player summaries\n",
    "        new_path = path + '/PlayerScoreCards/'\n",
    "        os.mkdir(new_path)\n",
    "        os.chdir(new_path)\n",
    "\n",
    "        #iterate through player href's\n",
    "        for player in player_ls:\n",
    "            time.sleep(.5)\n",
    "            player_path = complete_url + 'scorecards/' + player + '.json'\n",
    "            player_filename = player + '.json'\n",
    "            urllib.request.urlretrieve(player_path, player_filename)\n",
    "\n",
    "        print('Players JSON Files Saved')\n",
    "    #except:\n",
    "        #print(\"Exception for \" + complete_url)"
   ]
  },
  {
   "cell_type": "code",
   "execution_count": 37,
   "metadata": {
    "collapsed": false,
    "deletable": true,
    "editable": true
   },
   "outputs": [
    {
     "data": {
      "text/plain": [
       "['013',\n",
       " '021',\n",
       " '483',\n",
       " '020',\n",
       " '060',\n",
       " '034',\n",
       " '026',\n",
       " '100',\n",
       " '010',\n",
       " '023',\n",
       " '471',\n",
       " '464',\n",
       " '493',\n",
       " '027',\n",
       " '476',\n",
       " '028',\n",
       " '030',\n",
       " '505',\n",
       " '007',\n",
       " '472',\n",
       " '518',\n",
       " '473',\n",
       " '475',\n",
       " '006',\n",
       " '457',\n",
       " '490',\n",
       " '018',\n",
       " '041',\n",
       " '002',\n",
       " '011',\n",
       " '478',\n",
       " '494',\n",
       " '014',\n",
       " '016',\n",
       " '019',\n",
       " '032',\n",
       " '480',\n",
       " '005',\n",
       " '003',\n",
       " '047',\n",
       " '519',\n",
       " '025',\n",
       " '033',\n",
       " '012',\n",
       " '054',\n",
       " '009',\n",
       " 'Old',\n",
       " '004',\n",
       " '489',\n",
       " '500']"
      ]
     },
     "execution_count": 37,
     "metadata": {},
     "output_type": "execute_result"
    }
   ],
   "source": [
    "base_url = 'http://pgatour.com/data/r/'\n",
    "\n",
    "os.chdir('/home/valesco/Datasets/PGA_Data/PGA/')\n",
    "\n",
    "folders = os.walk(os.getcwd())\n",
    "folder_dirs = []\n",
    "for f in folders:\n",
    "    if 'PlayerScoreCards' in f[0]:\n",
    "        folder_dirs.append(f[0])\n",
    "        \n",
    "tourny_names = []\n",
    "for z in folder_dirs:\n",
    "    z = z.replace('/PlayerScoreCards', '')\n",
    "    z = z.replace('/home/valesco/Datasets/PGA_Data/PGA/','')\n",
    "    z = z.split('_')[0]\n",
    "    if z not in tourny_names:\n",
    "        tourny_names.append(z)\n",
    "tourny_names"
   ]
  },
  {
   "cell_type": "code",
   "execution_count": 38,
   "metadata": {
    "collapsed": false,
    "deletable": true,
    "editable": true
   },
   "outputs": [
    {
     "name": "stdout",
     "output_type": "stream",
     "text": [
      "files saved for:  http://www.pgatour.com/data/r/013/2016/\n",
      "files saved for:  http://www.pgatour.com/data/r/021/2016/\n",
      "files saved for:  http://www.pgatour.com/data/r/483/2016/\n",
      "files saved for:  http://www.pgatour.com/data/r/020/2016/\n",
      "files saved for:  http://www.pgatour.com/data/r/060/2016/\n",
      "files saved for:  http://www.pgatour.com/data/r/034/2016/\n",
      "Exception for http://www.pgatour.com/data/r/026/2016/\n",
      "files saved for:  http://www.pgatour.com/data/r/100/2016/\n",
      "files saved for:  http://www.pgatour.com/data/r/010/2016/\n",
      "files saved for:  http://www.pgatour.com/data/r/023/2016/\n",
      "files saved for:  http://www.pgatour.com/data/r/471/2016/\n",
      "files saved for:  http://www.pgatour.com/data/r/464/2016/\n",
      "files saved for:  http://www.pgatour.com/data/r/493/2016/\n",
      "files saved for:  http://www.pgatour.com/data/r/027/2016/\n",
      "files saved for:  http://www.pgatour.com/data/r/476/2016/\n",
      "files saved for:  http://www.pgatour.com/data/r/028/2016/\n",
      "files saved for:  http://www.pgatour.com/data/r/030/2016/\n",
      "files saved for:  http://www.pgatour.com/data/r/505/2016/\n",
      "files saved for:  http://www.pgatour.com/data/r/007/2016/\n",
      "files saved for:  http://www.pgatour.com/data/r/472/2016/\n",
      "files saved for:  http://www.pgatour.com/data/r/518/2016/\n",
      "files saved for:  http://www.pgatour.com/data/r/473/2016/\n",
      "files saved for:  http://www.pgatour.com/data/r/475/2016/\n",
      "files saved for:  http://www.pgatour.com/data/r/006/2016/\n",
      "files saved for:  http://www.pgatour.com/data/r/457/2016/\n",
      "files saved for:  http://www.pgatour.com/data/r/018/2016/\n",
      "files saved for:  http://www.pgatour.com/data/r/041/2016/\n",
      "files saved for:  http://www.pgatour.com/data/r/002/2016/\n",
      "files saved for:  http://www.pgatour.com/data/r/011/2016/\n",
      "files saved for:  http://www.pgatour.com/data/r/478/2016/\n",
      "files saved for:  http://www.pgatour.com/data/r/494/2016/\n",
      "files saved for:  http://www.pgatour.com/data/r/014/2016/\n",
      "files saved for:  http://www.pgatour.com/data/r/016/2016/\n",
      "files saved for:  http://www.pgatour.com/data/r/019/2016/\n",
      "files saved for:  http://www.pgatour.com/data/r/032/2016/\n",
      "files saved for:  http://www.pgatour.com/data/r/480/2016/\n",
      "files saved for:  http://www.pgatour.com/data/r/005/2016/\n",
      "files saved for:  http://www.pgatour.com/data/r/003/2016/\n",
      "files saved for:  http://www.pgatour.com/data/r/047/2016/\n",
      "files saved for:  http://www.pgatour.com/data/r/519/2016/\n",
      "files saved for:  http://www.pgatour.com/data/r/025/2016/\n",
      "files saved for:  http://www.pgatour.com/data/r/033/2016/\n",
      "files saved for:  http://www.pgatour.com/data/r/012/2016/\n",
      "files saved for:  http://www.pgatour.com/data/r/054/2016/\n",
      "files saved for:  http://www.pgatour.com/data/r/009/2016/\n",
      "files saved for:  http://www.pgatour.com/data/r/004/2016/\n",
      "files saved for:  http://www.pgatour.com/data/r/489/2016/\n"
     ]
    }
   ],
   "source": [
    "year_list = ['2016']\n",
    "\n",
    "for tournament in tourny_names:\n",
    "    for year in year_list:\n",
    "        exists = 0\n",
    "        base_url = 'http://www.pgatour.com/data/r/'\n",
    "        complete_url = base_url + tournament + '/' + year + '/'\n",
    "        request = requests.get(complete_url)\n",
    "        if request.status_code == 200:\n",
    "            exists = 1\n",
    "        if exists == 1:\n",
    "            try:\n",
    "                pga_dir ='/home/valesco/Datasets/PGA_Data/PGA/'+ tournament + '_' + year\n",
    "                os.chdir(pga_dir)\n",
    "\n",
    "                money_url = complete_url + 'money.json'\n",
    "                money_filename = tournament + '_' + year + '_' + 'money.json'\n",
    "                urllib.request.urlretrieve(money_url, money_filename)\n",
    "\n",
    "                playoff_url = complete_url + 'playoff_info.json'\n",
    "                playoff_filename = tournament + '_' + year + '_' + 'playoff_info.json'\n",
    "                urllib.request.urlretrieve(playoff_url, playoff_filename)\n",
    "                \n",
    "                tournsum_url = complete_url + 'tournsum.json'\n",
    "                tournsum_filename = tournament + '_' + year + '_' + 'tournsum.json'\n",
    "                urllib.request.urlretrieve(tournsum_url, tournsum_filename)\n",
    "                \n",
    "                json_setup_url = complete_url + 'setup.json'\n",
    "                json_setup_filename = tournament + '_' + year + '_' + 'setup.json'\n",
    "                urllib.request.urlretrieve(json_setup_url, json_setup_filename)\n",
    "                \n",
    "                xml_setup_url = complete_url + 'setup.xml'\n",
    "                xml_setup_filename = tournament + '_' + year + '_' + 'setup.xml'\n",
    "                urllib.request.urlretrieve(xml_setup_url, xml_setup_filename)\n",
    "                \n",
    "                course_stat_url = complete_url + 'coursestat.json'\n",
    "                course_stat_filename = tournament + '_' + year + '_' + 'coursestat.json'\n",
    "                urllib.request.urlretrieve(course_stat_url, course_stat_filename)\n",
    "                                             \n",
    "                print('files saved for: ', complete_url)\n",
    "            except:\n",
    "                print(\"Exception for \" + complete_url)"
   ]
  },
  {
   "cell_type": "code",
   "execution_count": 19,
   "metadata": {
    "collapsed": false,
    "deletable": true,
    "editable": true
   },
   "outputs": [
    {
     "data": {
      "text/plain": [
       "'32839'"
      ]
     },
     "execution_count": 19,
     "metadata": {},
     "output_type": "execute_result"
    }
   ],
   "source": [
    "player"
   ]
  },
  {
   "cell_type": "code",
   "execution_count": 23,
   "metadata": {
    "collapsed": false,
    "deletable": true,
    "editable": true
   },
   "outputs": [
    {
     "data": {
      "text/plain": [
       "['016_2017',\n",
       " '002_2017',\n",
       " '004_2017',\n",
       " '003_2017',\n",
       " '005_2017',\n",
       " '007_2017',\n",
       " '010_2017',\n",
       " '473_2017',\n",
       " '475_2017',\n",
       " '009_2017',\n",
       " '483_2017',\n",
       " '470_2017',\n",
       " '020_2017']"
      ]
     },
     "execution_count": 23,
     "metadata": {},
     "output_type": "execute_result"
    }
   ],
   "source": [
    "tourny_ls"
   ]
  },
  {
   "cell_type": "code",
   "execution_count": null,
   "metadata": {
    "collapsed": true,
    "deletable": true,
    "editable": true
   },
   "outputs": [],
   "source": []
  }
 ],
 "metadata": {
  "anaconda-cloud": {},
  "kernelspec": {
   "display_name": "Python 3",
   "language": "python",
   "name": "python3"
  },
  "language_info": {
   "codemirror_mode": {
    "name": "ipython",
    "version": 3
   },
   "file_extension": ".py",
   "mimetype": "text/x-python",
   "name": "python",
   "nbconvert_exporter": "python",
   "pygments_lexer": "ipython3",
   "version": "3.5.0"
  }
 },
 "nbformat": 4,
 "nbformat_minor": 0
}
