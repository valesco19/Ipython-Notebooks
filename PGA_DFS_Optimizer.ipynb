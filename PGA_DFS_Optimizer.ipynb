{
 "cells": [
  {
   "cell_type": "code",
   "execution_count": 1,
   "metadata": {
    "collapsed": false,
    "deletable": true,
    "editable": true
   },
   "outputs": [],
   "source": [
    "from pulp import *\n",
    "import csv\n",
    "import numpy as np\n",
    "import pandas as pd\n",
    "import os\n",
    "import cvxopt\n",
    "os.chdir('/home/valesco/Documents/')"
   ]
  },
  {
   "cell_type": "code",
   "execution_count": 2,
   "metadata": {
    "collapsed": false,
    "deletable": true,
    "editable": true
   },
   "outputs": [],
   "source": [
    "in_file = \"wyndham_weekend_points.csv\"\n",
    "reader = csv.DictReader(open(in_file, 'r'))\n",
    "player_dict = []\n",
    "for i , row in enumerate(reader):\n",
    "    team = {k: v for k, v in row.items()}\n",
    "    team['id'] = i\n",
    "    player_dict.append(team)\n",
    "  "
   ]
  },
  {
   "cell_type": "code",
   "execution_count": 3,
   "metadata": {
    "collapsed": false,
    "deletable": true,
    "editable": true
   },
   "outputs": [],
   "source": [
    "teams = [0]\n",
    "players = [player['id'] for player in player_dict]\n",
    "\n",
    "\n",
    "golf = LpProblem('weekend', LpMaximize)\n",
    "\n",
    "possible_assignments = LpVariable.dicts(\"possible\", (teams, players), 0, 1, LpBinary)\n",
    "\n",
    "#objective\n",
    "golf += sum([float(player['avg_points']) * possible_assignments[team][player['id']] for player in player_dict for team in teams])\n",
    "\n",
    "\n",
    "for team in teams:\n",
    "    golf += lpSum([possible_assignments[team][player['id']] for player in player_dict]) == 6, '6 players per team '+str(team)\n",
    "    golf += lpSum([float(player['salary']) * possible_assignments[team][player['id']] for player in player_dict]) <= 50000\n",
    "    #golf += lpSum([possible_assignments[team][player['id']] for player in player_dict if float(player['odds']) < 15]) >= 1\n",
    "    #golf += lpSum([possible_assignments[team][player['id']] for player in player_dict if float(player['salary']) > 11000]) >= 1\n",
    "    golf += lpSum([possible_assignments[team][player['id']] for player in player_dict if player['name'] == 'Webb Simpson']) == 1\n",
    "    #golf += lpSum([possible_assignments[team][player['id']] for player in player_dict if player['name'] == 'Bubba Watson']) == 0\n",
    "    #golf += lpSum([possible_assignments[team][player['id']] for player in player_dict if player['name'] == 'Jon Rahm']) == 1\n",
    "    #golf += lpSum([possible_assignments[team][player['id']] for player in player_dict if player['name'] == 'Phil Mickelson']) == 0\n",
    "    "
   ]
  },
  {
   "cell_type": "code",
   "execution_count": 4,
   "metadata": {
    "collapsed": false,
    "deletable": true,
    "editable": true
   },
   "outputs": [
    {
     "name": "stdout",
     "output_type": "stream",
     "text": [
      "Status:  Optimal\n",
      "The players chosen for team 1 are:\n",
      "Webb Simpson salary: 9900 proj: 38.7997750587798\n",
      "Kevin Kisner salary: 9000 proj: 39.2441052105245\n",
      "Shane Lowry salary: 8000 proj: 38.482164457238\n",
      "Robert Streb salary: 7700 proj: 39.7772464202122\n",
      "Cameron Smith salary: 7700 proj: 38.8051813639273\n",
      "Seamus Power salary: 7700 proj: 37.5291229862998\n",
      "Total Salary - 50000, Tot Proj Points - 232\n"
     ]
    }
   ],
   "source": [
    "golf.writeLP('masters_optimization.lp')\n",
    "golf.solve()\n",
    "print('Status: ', LpStatus[golf.status])\n",
    "# Print out some results\n",
    "print(\"The players chosen for team 1 are:\")\n",
    "\n",
    "opt_salary = []\n",
    "opt_odds = []\n",
    "opt_avg_pts = []\n",
    "team1 = []\n",
    "for player in player_dict:\n",
    "    if possible_assignments[0][player['id']].value() == 1.0:\n",
    "        print(player['name'] + ' salary: ' + player['salary'] + ' proj: ' + player['avg_points'])\n",
    "        #opt_odds.append(float(player['odds']))\n",
    "        opt_salary.append(int(player['salary']))\n",
    "        opt_avg_pts.append(float(player['avg_points']))\n",
    "        team1.append(player['name'])\n",
    "\n",
    "print('Total Salary - %i, Tot Proj Points - %i' % (sum(opt_salary), sum(opt_avg_pts)))\n",
    "        "
   ]
  },
  {
   "cell_type": "code",
   "execution_count": 5,
   "metadata": {
    "collapsed": false,
    "deletable": true,
    "editable": true,
    "scrolled": true
   },
   "outputs": [
    {
     "name": "stdout",
     "output_type": "stream",
     "text": [
      "Status:  Optimal\n",
      "Team:  0\n",
      "Webb Simpson salary: 9900 proj: 38.7997750587798\n",
      "Kevin Kisner salary: 9000 proj: 39.2441052105245\n",
      "Shane Lowry salary: 8000 proj: 38.482164457238\n",
      "Robert Streb salary: 7700 proj: 39.7772464202122\n",
      "Cameron Smith salary: 7700 proj: 38.8051813639273\n",
      "Seamus Power salary: 7700 proj: 37.5291229862998\n",
      "Status:  Optimal\n",
      "Team:  1\n",
      "Webb Simpson salary: 9900 proj: 38.7997750587798\n",
      "Kevin Kisner salary: 9000 proj: 39.2441052105245\n",
      "Shane Lowry salary: 8000 proj: 38.482164457238\n",
      "Robert Streb salary: 7700 proj: 39.7772464202122\n",
      "Cameron Smith salary: 7700 proj: 38.8051813639273\n",
      "Seamus Power salary: 7700 proj: 37.5291229862998\n",
      "Status:  Optimal\n",
      "Team:  2\n",
      "Webb Simpson salary: 9900 proj: 38.7997750587798\n",
      "Kevin Kisner salary: 9000 proj: 39.2441052105245\n",
      "Shane Lowry salary: 8000 proj: 38.482164457238\n",
      "Robert Streb salary: 7700 proj: 39.7772464202122\n",
      "Cameron Smith salary: 7700 proj: 38.8051813639273\n",
      "Seamus Power salary: 7700 proj: 37.5291229862998\n",
      "Status:  Optimal\n",
      "Team:  3\n",
      "Webb Simpson salary: 9900 proj: 38.7997750587798\n",
      "Kevin Kisner salary: 9000 proj: 39.2441052105245\n",
      "Shane Lowry salary: 8000 proj: 38.482164457238\n",
      "Robert Streb salary: 7700 proj: 39.7772464202122\n",
      "Cameron Smith salary: 7700 proj: 38.8051813639273\n",
      "Seamus Power salary: 7700 proj: 37.5291229862998\n",
      "Status:  Optimal\n",
      "Team:  4\n",
      "Webb Simpson salary: 9900 proj: 38.7997750587798\n",
      "Kevin Kisner salary: 9000 proj: 39.2441052105245\n",
      "Shane Lowry salary: 8000 proj: 38.482164457238\n",
      "Robert Streb salary: 7700 proj: 39.7772464202122\n",
      "Cameron Smith salary: 7700 proj: 38.8051813639273\n",
      "Seamus Power salary: 7700 proj: 37.5291229862998\n",
      "Status:  Optimal\n",
      "Team:  5\n",
      "Webb Simpson salary: 9900 proj: 38.7997750587798\n",
      "Kevin Kisner salary: 9000 proj: 39.2441052105245\n",
      "Shane Lowry salary: 8000 proj: 38.482164457238\n",
      "Robert Streb salary: 7700 proj: 39.7772464202122\n",
      "Cameron Smith salary: 7700 proj: 38.8051813639273\n",
      "Seamus Power salary: 7700 proj: 37.5291229862998\n"
     ]
    }
   ],
   "source": [
    "for i, player in enumerate(team1):\n",
    "    golf += lpSum([possible_assignments[team][player['id']] for player in player_dict if player['name'] == player]) == 0, 'name'\n",
    "    golf.solve()\n",
    "    print('Status: ', LpStatus[golf.status])\n",
    "    print('Team: ', str(i))\n",
    "    for player in player_dict:\n",
    "        if possible_assignments[0][player['id']].value() == 1.0:\n",
    "            print(player['name'] + ' salary: ' + player['salary'] + ' proj: ' + player['avg_points'])\n",
    "            #opt_odds.append(float(player['odds']))\n",
    "            opt_salary.append(int(player['salary']))\n",
    "            opt_avg_pts.append(float(player['avg_points']))\n",
    "    del golf.constraints['name']\n",
    "    "
   ]
  },
  {
   "cell_type": "code",
   "execution_count": 5,
   "metadata": {
    "collapsed": false,
    "deletable": true,
    "editable": true
   },
   "outputs": [
    {
     "ename": "NameError",
     "evalue": "name 'team1' is not defined",
     "output_type": "error",
     "traceback": [
      "\u001b[1;31m---------------------------------------------------------------------------\u001b[0m",
      "\u001b[1;31mNameError\u001b[0m                                 Traceback (most recent call last)",
      "\u001b[1;32m<ipython-input-5-f24568a79785>\u001b[0m in \u001b[0;36m<module>\u001b[1;34m()\u001b[0m\n\u001b[1;32m----> 1\u001b[1;33m \u001b[0mteam1\u001b[0m\u001b[1;33m\u001b[0m\u001b[0m\n\u001b[0m",
      "\u001b[1;31mNameError\u001b[0m: name 'team1' is not defined"
     ]
    }
   ],
   "source": [
    "team1"
   ]
  },
  {
   "cell_type": "code",
   "execution_count": 6,
   "metadata": {
    "collapsed": false,
    "deletable": true,
    "editable": true
   },
   "outputs": [
    {
     "ename": "NameError",
     "evalue": "name 'f_proj' is not defined",
     "output_type": "error",
     "traceback": [
      "\u001b[1;31m---------------------------------------------------------------------------\u001b[0m",
      "\u001b[1;31mNameError\u001b[0m                                 Traceback (most recent call last)",
      "\u001b[1;32m<ipython-input-6-02b0c04d05de>\u001b[0m in \u001b[0;36m<module>\u001b[1;34m()\u001b[0m\n\u001b[0;32m     13\u001b[0m         \u001b[1;32mreturn\u001b[0m \u001b[1;36m5\u001b[0m\u001b[1;33m\u001b[0m\u001b[0m\n\u001b[0;32m     14\u001b[0m \u001b[1;33m\u001b[0m\u001b[0m\n\u001b[1;32m---> 15\u001b[1;33m \u001b[0mf_proj\u001b[0m\u001b[1;33m[\u001b[0m\u001b[1;34m'pos'\u001b[0m\u001b[1;33m]\u001b[0m \u001b[1;33m=\u001b[0m \u001b[0mf_proj\u001b[0m\u001b[1;33m[\u001b[0m\u001b[1;34m'pos'\u001b[0m\u001b[1;33m]\u001b[0m\u001b[1;33m.\u001b[0m\u001b[0mapply\u001b[0m\u001b[1;33m(\u001b[0m\u001b[1;32mlambda\u001b[0m \u001b[0mx\u001b[0m\u001b[1;33m:\u001b[0m \u001b[0mpos_dummy\u001b[0m\u001b[1;33m(\u001b[0m\u001b[0mx\u001b[0m\u001b[1;33m)\u001b[0m\u001b[1;33m)\u001b[0m\u001b[1;33m\u001b[0m\u001b[0m\n\u001b[0m\u001b[0;32m     16\u001b[0m \u001b[0mf_proj\u001b[0m\u001b[1;33m.\u001b[0m\u001b[0mto_csv\u001b[0m\u001b[1;33m(\u001b[0m\u001b[1;34m'f_proj.csv'\u001b[0m\u001b[1;33m)\u001b[0m\u001b[1;33m\u001b[0m\u001b[0m\n",
      "\u001b[1;31mNameError\u001b[0m: name 'f_proj' is not defined"
     ]
    }
   ],
   "source": [
    "def pos_dummy(x):\n",
    "    if x == 'QB':\n",
    "        return 0\n",
    "    if x == 'RB':\n",
    "        return 1\n",
    "    if x == 'WR':\n",
    "        return 2\n",
    "    if x == 'TE':\n",
    "        return 3\n",
    "    if x == 'K':\n",
    "        return 4\n",
    "    if x == 'DEF':\n",
    "        return 5\n",
    "    \n",
    "f_proj['pos'] = f_proj['pos'].apply(lambda x: pos_dummy(x))\n",
    "f_proj.to_csv('f_proj.csv')"
   ]
  },
  {
   "cell_type": "code",
   "execution_count": 56,
   "metadata": {
    "collapsed": true,
    "deletable": true,
    "editable": true
   },
   "outputs": [],
   "source": [
    "in_file = \"f_proj.csv\"\n",
    "reader = csv.DictReader(open(in_file, 'r'))\n",
    "player_dict = []\n",
    "for i , row in enumerate(reader):\n",
    "    team = {k: v for k, v in row.items()}\n",
    "    team['id'] = i\n",
    "    player_dict.append(team)"
   ]
  },
  {
   "cell_type": "code",
   "execution_count": 55,
   "metadata": {
    "collapsed": false,
    "deletable": true,
    "editable": true
   },
   "outputs": [
    {
     "ename": "KeyError",
     "evalue": "'odds'",
     "output_type": "error",
     "traceback": [
      "\u001b[1;31m---------------------------------------------------------------------------\u001b[0m",
      "\u001b[1;31mKeyError\u001b[0m                                  Traceback (most recent call last)",
      "\u001b[1;32m<ipython-input-55-25d2139b32f0>\u001b[0m in \u001b[0;36m<module>\u001b[1;34m()\u001b[0m\n\u001b[0;32m      7\u001b[0m \u001b[1;33m\u001b[0m\u001b[0m\n\u001b[0;32m      8\u001b[0m \u001b[1;31m#objective\u001b[0m\u001b[1;33m\u001b[0m\u001b[1;33m\u001b[0m\u001b[0m\n\u001b[1;32m----> 9\u001b[1;33m \u001b[0mfant\u001b[0m \u001b[1;33m+=\u001b[0m \u001b[0msum\u001b[0m\u001b[1;33m(\u001b[0m\u001b[1;33m[\u001b[0m\u001b[0mfloat\u001b[0m\u001b[1;33m(\u001b[0m\u001b[0mplayer\u001b[0m\u001b[1;33m[\u001b[0m\u001b[1;34m'odds'\u001b[0m\u001b[1;33m]\u001b[0m\u001b[1;33m)\u001b[0m \u001b[1;33m*\u001b[0m \u001b[0mpossible_assignments\u001b[0m\u001b[1;33m[\u001b[0m\u001b[0mteam\u001b[0m\u001b[1;33m]\u001b[0m\u001b[1;33m[\u001b[0m\u001b[0mplayer\u001b[0m\u001b[1;33m[\u001b[0m\u001b[1;34m'id'\u001b[0m\u001b[1;33m]\u001b[0m\u001b[1;33m]\u001b[0m \u001b[1;32mfor\u001b[0m \u001b[0mplayer\u001b[0m \u001b[1;32min\u001b[0m \u001b[0mplayer_dict\u001b[0m \u001b[1;32mfor\u001b[0m \u001b[0mteam\u001b[0m \u001b[1;32min\u001b[0m \u001b[0mteams\u001b[0m\u001b[1;33m]\u001b[0m\u001b[1;33m)\u001b[0m\u001b[1;33m\u001b[0m\u001b[0m\n\u001b[0m\u001b[0;32m     10\u001b[0m \u001b[1;33m\u001b[0m\u001b[0m\n\u001b[0;32m     11\u001b[0m \u001b[1;33m\u001b[0m\u001b[0m\n",
      "\u001b[1;32m<ipython-input-55-25d2139b32f0>\u001b[0m in \u001b[0;36m<listcomp>\u001b[1;34m(.0)\u001b[0m\n\u001b[0;32m      7\u001b[0m \u001b[1;33m\u001b[0m\u001b[0m\n\u001b[0;32m      8\u001b[0m \u001b[1;31m#objective\u001b[0m\u001b[1;33m\u001b[0m\u001b[1;33m\u001b[0m\u001b[0m\n\u001b[1;32m----> 9\u001b[1;33m \u001b[0mfant\u001b[0m \u001b[1;33m+=\u001b[0m \u001b[0msum\u001b[0m\u001b[1;33m(\u001b[0m\u001b[1;33m[\u001b[0m\u001b[0mfloat\u001b[0m\u001b[1;33m(\u001b[0m\u001b[0mplayer\u001b[0m\u001b[1;33m[\u001b[0m\u001b[1;34m'odds'\u001b[0m\u001b[1;33m]\u001b[0m\u001b[1;33m)\u001b[0m \u001b[1;33m*\u001b[0m \u001b[0mpossible_assignments\u001b[0m\u001b[1;33m[\u001b[0m\u001b[0mteam\u001b[0m\u001b[1;33m]\u001b[0m\u001b[1;33m[\u001b[0m\u001b[0mplayer\u001b[0m\u001b[1;33m[\u001b[0m\u001b[1;34m'id'\u001b[0m\u001b[1;33m]\u001b[0m\u001b[1;33m]\u001b[0m \u001b[1;32mfor\u001b[0m \u001b[0mplayer\u001b[0m \u001b[1;32min\u001b[0m \u001b[0mplayer_dict\u001b[0m \u001b[1;32mfor\u001b[0m \u001b[0mteam\u001b[0m \u001b[1;32min\u001b[0m \u001b[0mteams\u001b[0m\u001b[1;33m]\u001b[0m\u001b[1;33m)\u001b[0m\u001b[1;33m\u001b[0m\u001b[0m\n\u001b[0m\u001b[0;32m     10\u001b[0m \u001b[1;33m\u001b[0m\u001b[0m\n\u001b[0;32m     11\u001b[0m \u001b[1;33m\u001b[0m\u001b[0m\n",
      "\u001b[1;31mKeyError\u001b[0m: 'odds'"
     ]
    }
   ],
   "source": [
    "teams = [i for i in range(10)]\n",
    "players = [player['id'] for player in player_dict]\n",
    "\n",
    "fant = LpProblem('Fantasy Yearly', LpMaximize)\n",
    "\n",
    "possible_assignments = LpVariable.dicts(\"possible\", (teams, players), 0, 1, LpBinary)\n",
    "\n",
    "#objective\n",
    "fant += sum([float(player['odds']) * possible_assignments[team][player['id']] for player in player_dict for team in teams])\n",
    "\n",
    "\n",
    "for team in teams:\n",
    "    fant += lpSum([possible_assignments[team][player['id']] for player in player_dict]) == 9, '9 players per team '+str(team)\n",
    "    #golf += sum([float(player['salary']) * possible_assignments[team][player['id']] for player in player_dict]) <= 50000\n",
    "    golf += lpSum([possible_assignments[team][player['id']] for player in player_dict if float(player['odds']) < 15]) >= 1\n",
    "    #golf += lpSum([possible_assignments[team][player['id']] for player in player_dict if float(player['Odds']) < 20]) >= 2\n",
    "    golf += lpSum([possible_assignments[team][player['id']] for player in player_dict if player['name'] == 'Zach Johnson']) == 0\n",
    "    golf += lpSum([possible_assignments[team][player['id']] for player in player_dict if player['name'] == 'Bubba Watson']) == 0\n",
    "    golf += lpSum([possible_assignments[team][player['id']] for player in player_dict if player['name'] == 'Jon Rahm']) == 1\n",
    "    golf += lpSum([possible_assignments[team][player['id']] for player in player_dict if player['name'] == 'Phil Mickelson']) == 0\n",
    "    \n",
    "    \n",
    "    \n",
    "    IP += lpSum([possible_assignments[t][p['id']] for p in d if p['Pos'] == 'C']) >= 1, 'at least one C per team '+str(t)\n",
    "    IP += lpSum([possible_assignments[t][p['id']] for p in d if p['Pos'] == 'SG']) >= 1, 'at least one SG per team '+str(t)\n",
    "    IP += lpSum([possible_assignments[t][p['id']] for p in d if p['Pos'] == 'SF']) >= 1, 'at least one SF per team '+str(t)\n",
    "    IP += lpSum([possible_assignments[t][p['id']] for p in d if p['Pos'] == 'PF']) >= 1, 'at least one PF per team '+str(t)\n",
    "    IP += lpSum([possible_assignments[t][p['id']] for p in d if p['Pos'] == 'PG']) >= 1, 'at least one PG per team '+str(t)\n",
    "    IP += lpSum([possible_assignments[t][p['id']] for p in d if p['Pos'] in ('PG', 'SG')]) >= 1, 'at least one G per team '+str(t)\n",
    "    IP += lpSum([possible_assignments[t][p['id']] for p in d if p['Pos'] in ('PF', 'SF')]) >= 1, 'at least one F per team '+str(t)\n",
    "    IP += lpSum([possible_assignments[t][p['id']] for p in d if p['Pos'] in ('PF', 'SF', 'C','SG','PG')]) >= 1, \\"
   ]
  },
  {
   "cell_type": "code",
   "execution_count": 58,
   "metadata": {
    "collapsed": false,
    "deletable": true,
    "editable": true
   },
   "outputs": [],
   "source": [
    "teams = [i for i in range(10)]\n",
    "players = [player['id'] for player in player_dict]\n",
    "\n",
    "fantasy = LpProblem('Fantasy Yearly', LpMaximize)\n",
    "\n",
    "#5th pick\n",
    "\n",
    "possible_assignments_1 = LpVariable.dicts(\"possible\", (teams, players), 0, 1, LpBinary)\n",
    "\n",
    "# Objective\n",
    "fantasy += sum([float(player['fpts']) * possible_assignments[team][player['id']] for player in player_dict for team in teams])\n",
    "\n",
    "\n",
    "for t in teams:\n",
    "    fantasy += lpSum([possible_assignments[t][player['id']] for player in player_dict]) == 9 #9 players a team\n",
    "    fantasy += lpSum([possible_assignments[t][player['id']] for player in player_dict if player['pos'] == 0]) == 1 #1 QB\n",
    "    fantasy += lpSum([possible_assignments[t][player['id']] for player in player_dict if player['pos'] == 1]) >= 2 #2 RB\n",
    "    fantasy += lpSum([possible_assignments[t][player['id']] for player in player_dict if player['pos'] == 2]) >= 2 #2 WR\n",
    "    fantasy += lpSum([possible_assignments[t][player['id']] for player in player_dict if player['pos'] == 3]) >= 1 #1 TE\n",
    "    fantasy += lpSum([possible_assignments[t][player['id']] for player in player_dict if player['pos'] == 4]) == 1 #1 K\n",
    "    fantasy += lpSum([possible_assignments[t][player['id']] for player in player_dict if player['pos'] == 5]) == 1 #1 DEF\n",
    "    fantasy += lpSum([possible_assignments[t][player['id']] for player in player_dict if player['pos'] in (1,2)]) >= 1 #Util\n",
    "    fantasy += lpSum([possible_assignments[t][player['id']] for player in player_dict if player['id'] in player]) == 1 #1 ppt\n",
    "\n",
    "\n"
   ]
  },
  {
   "cell_type": "code",
   "execution_count": 59,
   "metadata": {
    "collapsed": false,
    "deletable": true,
    "editable": true
   },
   "outputs": [
    {
     "name": "stdout",
     "output_type": "stream",
     "text": [
      "Status:  Infeasible\n"
     ]
    }
   ],
   "source": [
    "fantasy.writeLP('yearly_optimization.lp')\n",
    "fantasy.solve()\n",
    "print('Status: ', LpStatus[fantasy.status])"
   ]
  },
  {
   "cell_type": "code",
   "execution_count": null,
   "metadata": {
    "collapsed": false,
    "deletable": true,
    "editable": true
   },
   "outputs": [],
   "source": [
    "possible_players = [tuple(c) for c in pulp.allcombinations(player_dict,10)]"
   ]
  },
  {
   "cell_type": "code",
   "execution_count": null,
   "metadata": {
    "collapsed": true,
    "deletable": true,
    "editable": true
   },
   "outputs": [],
   "source": []
  }
 ],
 "metadata": {
  "kernelspec": {
   "display_name": "Python 3",
   "language": "python",
   "name": "python3"
  },
  "language_info": {
   "codemirror_mode": {
    "name": "ipython",
    "version": 3
   },
   "file_extension": ".py",
   "mimetype": "text/x-python",
   "name": "python",
   "nbconvert_exporter": "python",
   "pygments_lexer": "ipython3",
   "version": "3.5.0"
  }
 },
 "nbformat": 4,
 "nbformat_minor": 0
}
