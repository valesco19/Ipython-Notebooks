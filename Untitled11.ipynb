{
 "cells": [
  {
   "cell_type": "code",
   "execution_count": 1,
   "metadata": {
    "collapsed": true
   },
   "outputs": [],
   "source": [
    "import wikipedia"
   ]
  },
  {
   "cell_type": "code",
   "execution_count": 2,
   "metadata": {
    "collapsed": false
   },
   "outputs": [
    {
     "name": "stdout",
     "output_type": "stream",
     "text": [
      "Wikipedia (/ˌwɪkᵻˈpiːdiə/ or /ˌwɪkiˈpiːdiə/ WIK-i-PEE-dee-ə) is a free Internet encyclopedia that allows its users to edit almost any article accessible. Wikipedia is the largest and most popular general reference work on the Internet and is ranked among the ten most popular websites. Wikipedia is owned by the nonprofit organization Wikimedia Foundation.\n",
      "Wikipedia was launched on January 15, 2001, by Jimmy Wales and Larry Sanger. Sanger coined its name, a portmanteau of wiki and encyclopedia. It was only in the English language initially, but it quickly developed similar versions in other languages which differ in content and in editing practices. With 5,219,615 articles, English Wikipedia is the largest out of more than 290 versions of encyclopedias on Wikipedia. Overall, Wikipedia consists of more than 40 million articles in more than 250 different languages and as of February 2014, it had 18 billion page views and nearly 500 million unique visitors each month.\n",
      "In 2005, Nature published a peer review comparing 42 science articles from Encyclopædia Britannica and Wikipedia, and found that Wikipedia's level of accuracy approached Encyclopædia Britannica's. Criticism of Wikipedia includes claims that it exhibits systemic bias, presents a mixture of \"truths, half truths, and some falsehoods\", and that in controversial topics, it is subject to manipulation and spin.\n"
     ]
    }
   ],
   "source": [
    "print(wikipedia.summary('Wikipedia'))"
   ]
  },
  {
   "cell_type": "code",
   "execution_count": 3,
   "metadata": {
    "collapsed": false
   },
   "outputs": [
    {
     "data": {
      "text/plain": [
       "['BRCA1',\n",
       " 'BARD1',\n",
       " 'BRIP1',\n",
       " 'ZNF350',\n",
       " 'BRCA2',\n",
       " 'BRCT domain',\n",
       " 'BRE (gene)',\n",
       " 'Myriad Genetics',\n",
       " 'BRCA mutation',\n",
       " 'UBE2D1']"
      ]
     },
     "execution_count": 3,
     "metadata": {},
     "output_type": "execute_result"
    }
   ],
   "source": [
    "wikipedia.search('brca1')"
   ]
  },
  {
   "cell_type": "code",
   "execution_count": 4,
   "metadata": {
    "collapsed": true
   },
   "outputs": [],
   "source": [
    "brca1 = wikipedia.page('brca1')"
   ]
  },
  {
   "cell_type": "code",
   "execution_count": 6,
   "metadata": {
    "collapsed": false
   },
   "outputs": [
    {
     "data": {
      "text/plain": [
       "'BRCA1 and BRCA1 (/ˌbrækəˈwʌn/) are a human gene and its protein product, respectively. The official symbol (BRCA1, italic for the gene, nonitalic for the protein) and the official name (breast cancer 1) are maintained by the HGNC. Orthologs, styled Brca1 and Brca1, are common in other mammal species. BRCA1 is a human tumor suppressor gene (to be specific, a caretaker gene), found in all humans; its protein, also called by the synonym breast cancer type 1 susceptibility protein, is responsible for repairing DNA.\\nBRCA1 and BRCA2 are normally expressed in the cells of breast and other tissue, where they help repair damaged DNA, or destroy cells if DNA cannot be repaired. They are involved in the repair of chromosomal damage with an important role in the error-free repair of DNA double-strand breaks. If BRCA1 or BRCA2 itself is damaged by a BRCA mutation, damaged DNA is not repaired properly, and this increases the risk for breast cancer. Thus, although the terms \"breast cancer susceptibility gene\" and \"breast cancer susceptibility protein\" describe a proto-oncogene (a normal gene that could become an oncogene due to mutations or increased expression), BRCA1 and BRCA2 are normal; it is their mutation that is abnormal. Proto-oncogenes code for proteins that help to regulate cell growth and differentiation.\\nBRCA1 combines with other tumor suppressors, DNA damage sensors and signal transducers to form a large multi-subunit protein complex known as the BRCA1-associated genome surveillance complex (BASC). The BRCA1 protein associates with RNA polymerase II, and through the C-terminal domain, also interacts with histone deacetylase complexes. Thus, this protein plays a role in transcription, DNA repair of double-strand breaks ubiquitination, transcriptional regulation as well as other functions.\\nMethods to test for the likelihood of a patient with mutations in BRCA1 and BRCA2 developing cancer were covered by patents owned or controlled by Myriad Genetics. Myriad\\'s business model of offering the diagnostic test exclusively led from Myriad being a startup in 1994 to being a publicly traded company with 1200 employees and about $500M in annual revenue in 2012; it also led to controversy over high prices and the inability to obtain second opinions from other diagnostic labs, which in turn led to the landmark Association for Molecular Pathology v. Myriad Genetics lawsuit.'"
      ]
     },
     "execution_count": 6,
     "metadata": {},
     "output_type": "execute_result"
    }
   ],
   "source": [
    "brca1.summary"
   ]
  },
  {
   "cell_type": "code",
   "execution_count": 21,
   "metadata": {
    "collapsed": false
   },
   "outputs": [],
   "source": [
    "cpt = wikipedia.page('PDGFRA')"
   ]
  },
  {
   "cell_type": "code",
   "execution_count": 23,
   "metadata": {
    "collapsed": false
   },
   "outputs": [
    {
     "data": {
      "text/plain": [
       "'Platelet-derived growth factor receptor, alpha polypeptide is a protein that in humans is encoded by the PDGFRA gene.\\n\\n\\n== Function ==\\nThis gene encodes a cell surface tyrosine kinase receptor for members of the platelet-derived growth factor family. These growth factors are mitogens for cells of mesenchymal origin. The identity of the growth factor bound to a receptor monomer determines whether the functional receptor is a homodimer or a heterodimer, composed of both platelet-derived growth factor receptor alpha and beta polypeptides. Studies in knockout mice, where homozygosity is lethal, indicate that the alpha form of the platelet-derived growth factor receptor is particularly important for kidney development since mice heterozygous for the receptor exhibit defective kidney phenotypes.\\n\\n\\n== Interactions ==\\nPDGFRA has been shown to interact with:\\n\\n\\n== Monoclonal Antibody ==\\nLilly has developed Olaratumab, (LY3012207) a human IgG1 monoclonal antibody designed to bind to human PDGFRα with high affinity and block PDGF-AA, PDGF-BB, and PDGF-CC ligands from binding to the receptor and is conducting clinical trials (2016) in patients with soft-tissue sarcoma.\\n\\n\\n== See also ==\\nPlatelet-derived growth factor receptor\\n\\n\\n== References ==\\n\\n\\n== Further reading ==\\n\\nThis article incorporates text from the United States National Library of Medicine, which is in the public domain.'"
      ]
     },
     "execution_count": 23,
     "metadata": {},
     "output_type": "execute_result"
    }
   ],
   "source": [
    "cpt.content"
   ]
  },
  {
   "cell_type": "code",
   "execution_count": null,
   "metadata": {
    "collapsed": true
   },
   "outputs": [],
   "source": []
  }
 ],
 "metadata": {
  "kernelspec": {
   "display_name": "Python 3",
   "language": "python",
   "name": "python3"
  },
  "language_info": {
   "codemirror_mode": {
    "name": "ipython",
    "version": 3
   },
   "file_extension": ".py",
   "mimetype": "text/x-python",
   "name": "python",
   "nbconvert_exporter": "python",
   "pygments_lexer": "ipython3",
   "version": "3.5.1"
  }
 },
 "nbformat": 4,
 "nbformat_minor": 0
}
