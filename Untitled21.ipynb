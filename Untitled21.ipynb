{
 "cells": [
  {
   "cell_type": "code",
   "execution_count": 102,
   "metadata": {
    "collapsed": false
   },
   "outputs": [
    {
     "data": {
      "text/plain": [
       "0.5"
      ]
     },
     "execution_count": 102,
     "metadata": {},
     "output_type": "execute_result"
    }
   ],
   "source": [
    "def fact(x):\n",
    "    if x in [0,1]: \n",
    "        return 1\n",
    "    r = 1\n",
    "    for a in range(1, (x + 1)):\n",
    "        r = r * a\n",
    "        \n",
    "    return r\n",
    "\n",
    "def ch(a,b):\n",
    "    return fact(a) / (fact(b) * fact(a - b))\n",
    "\n",
    "#def match_general(e, v = 0, w = 0, s = 3):\n",
    "e = 0.5\n",
    "v = 12\n",
    "w = 12\n",
    "s = 27\n",
    "\n",
    "to_win = int((s + 1) / 2)\n",
    "remain = s - v - w\n",
    "left = to_win  - v\n",
    "\n",
    "if left == 0:\n",
    "    print(1)\n",
    "\n",
    "if left > remain:\n",
    "    print(0)\n",
    "\n",
    "win = 0\n",
    "\n",
    "for i in range(left, (remain + 1)):\n",
    "    add = ch((i - 1), (left - 1)) * (e ** (left - 1)) * ((1 - e) ** (i - left)) * e\n",
    "    win += add\n",
    "\n",
    "win"
   ]
  },
  {
   "cell_type": "code",
   "execution_count": 100,
   "metadata": {
    "collapsed": false
   },
   "outputs": [
    {
     "data": {
      "text/plain": [
       "4.0"
      ]
     },
     "execution_count": 100,
     "metadata": {},
     "output_type": "execute_result"
    }
   ],
   "source": [
    "remain"
   ]
  },
  {
   "cell_type": "code",
   "execution_count": null,
   "metadata": {
    "collapsed": false
   },
   "outputs": [],
   "source": []
  },
  {
   "cell_type": "code",
   "execution_count": null,
   "metadata": {
    "collapsed": true
   },
   "outputs": [],
   "source": []
  }
 ],
 "metadata": {
  "kernelspec": {
   "display_name": "Python 3",
   "language": "python",
   "name": "python3"
  },
  "language_info": {
   "codemirror_mode": {
    "name": "ipython",
    "version": 3
   },
   "file_extension": ".py",
   "mimetype": "text/x-python",
   "name": "python",
   "nbconvert_exporter": "python",
   "pygments_lexer": "ipython3",
   "version": "3.6.0"
  }
 },
 "nbformat": 4,
 "nbformat_minor": 2
}
