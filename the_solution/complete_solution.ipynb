{
 "cells": [
  {
   "cell_type": "code",
   "execution_count": 124,
   "metadata": {
    "collapsed": true,
    "deletable": true,
    "editable": true
   },
   "outputs": [],
   "source": [
    "##Create lineups libraries\n",
    "import pandas as pd\n",
    "import numpy as np\n",
    "from itertools import combinations\n",
    "import random\n",
    "import os\n",
    "import time\n",
    "from tqdm import tqdm\n",
    "import datetime\n",
    "\n",
    "##Create imitation distributions libraries\n",
    "from random import triangular\n",
    "import random\n",
    "import numpy as np\n",
    "\n",
    "##Create random sample point array from player distribution libraries\n",
    "import scipy.interpolate as interpolate\n",
    "from pga.return_pid import return_pid\n",
    "from pga.fuzz_match import return_tid\n",
    "from scipy import stats\n",
    "\n",
    "##Simulate Annealing libraries\n",
    "from collections import Counter\n",
    "import itertools"
   ]
  },
  {
   "cell_type": "code",
   "execution_count": 126,
   "metadata": {
    "collapsed": false,
    "deletable": true,
    "editable": true
   },
   "outputs": [
    {
     "name": "stderr",
     "output_type": "stream",
     "text": [
      "\n",
      "  0%|          | 0/6 [00:00<?, ?it/s]\u001b[A\n",
      "\n",
      "0it [00:00, ?it/s]\u001b[A\u001b[A\n",
      "\n",
      "1it [00:07,  7.01s/it]\u001b[A\u001b[A\n",
      "\n",
      "3it [00:13,  5.88s/it]\u001b[A\n",
      "4it [00:13,  4.15s/it]\u001b[A\n",
      "6it [00:20,  3.87s/it]\u001b[A\n",
      "7it [00:26,  4.53s/it]\u001b[A\n",
      "8it [00:32,  4.96s/it]\u001b[A\n",
      "9it [00:43,  7.06s/it]\u001b[A\n",
      "11it [00:44,  4.96s/it]\u001b[A\n",
      "13it [00:50,  4.44s/it]\u001b[A\n",
      "14it [00:56,  4.93s/it]\u001b[A\n",
      "17it [01:02,  4.05s/it]\u001b[A\n",
      "18it [01:08,  4.61s/it]\u001b[A\n",
      "19it [01:14,  4.98s/it]\u001b[A\n",
      "21it [01:20,  4.37s/it]\u001b[A\n",
      "23it [01:26,  3.94s/it]\u001b[A\n",
      "25it [01:32,  3.64s/it]\u001b[A\n",
      "26it [01:37,  4.31s/it]\u001b[A\n",
      "27it [01:43,  4.77s/it]\u001b[A\n",
      "30it [01:49,  3.93s/it]\u001b[A\n",
      "32it [01:55,  3.63s/it]\u001b[A\n",
      "33it [02:01,  4.31s/it]\u001b[A\n",
      "34it [02:07,  4.78s/it]\u001b[A\n",
      "35it [02:13,  5.11s/it]\u001b[A\n",
      "36it [02:18,  5.29s/it]\u001b[A\n",
      "37it [02:24,  5.44s/it]\u001b[A\n",
      "38it [02:24,  3.84s/it]\u001b[A\n",
      "39it [02:30,  4.42s/it]\u001b[A\n",
      "41it [02:30,  3.12s/it]\u001b[A\n",
      "42it [02:36,  3.94s/it]\u001b[A\n",
      "43it [02:42,  4.50s/it]\u001b[A\n",
      "44it [02:48,  4.87s/it]\u001b[A\n",
      "45it [02:53,  5.18s/it]\u001b[A\n",
      "46it [02:59,  5.39s/it]\u001b[A\n",
      "47it [03:05,  5.55s/it]\u001b[A\n",
      "48it [03:11,  5.63s/it]\u001b[A\n",
      "49it [03:17,  5.69s/it]\u001b[A\n",
      "51it [03:17,  4.00s/it]\u001b[A\n",
      "52it [03:23,  4.55s/it]\u001b[A\n",
      "53it [03:29,  4.92s/it]\u001b[A\n",
      "54it [03:34,  5.19s/it]\u001b[A\n",
      "55it [03:40,  5.37s/it]\u001b[A\n",
      "57it [03:46,  4.64s/it]\u001b[A\n",
      "58it [03:52,  4.97s/it]\u001b[A\n",
      "59it [03:58,  5.25s/it]\u001b[A\n",
      "61it [04:04,  4.56s/it]\u001b[A\n",
      "62it [04:09,  4.93s/it]\u001b[A\n",
      "63it [04:15,  5.19s/it]\u001b[A\n",
      "64it [04:21,  5.38s/it]\u001b[A\n",
      "65it [04:27,  5.50s/it]\u001b[A\n",
      "66it [04:33,  5.59s/it]\u001b[A\n",
      "67it [04:38,  5.64s/it]\u001b[A\n",
      "68it [04:44,  5.68s/it]\u001b[A\n",
      "69it [04:50,  5.73s/it]\u001b[A\n",
      "70it [04:56,  5.76s/it]\u001b[A\n",
      "71it [05:02,  5.83s/it]\u001b[A\n",
      "72it [05:02,  4.12s/it]\u001b[A\n",
      "75it [05:08,  3.48s/it]\u001b[A\n",
      "76it [05:14,  4.19s/it]\u001b[A\n",
      "77it [05:20,  4.67s/it]\u001b[A\n",
      "78it [05:25,  4.99s/it]\u001b[A\n",
      "80it [05:31,  4.37s/it]\u001b[A\n",
      "81it [05:37,  4.81s/it]\u001b[A\n",
      "82it [05:43,  5.10s/it]\u001b[A\n",
      "84it [05:49,  4.46s/it]\u001b[A\n",
      "85it [05:55,  4.87s/it]\u001b[A\n",
      "86it [06:00,  5.16s/it]\u001b[A\n",
      "87it [06:06,  5.35s/it]\u001b[A\n",
      "88it [06:12,  5.48s/it]\u001b[A\n",
      "89it [06:18,  5.56s/it]\u001b[A\n",
      "90it [06:24,  5.66s/it]\u001b[A\n",
      "91it [06:29,  5.72s/it]\u001b[A\n",
      "92it [06:35,  5.76s/it]\u001b[A\n",
      "93it [06:41,  5.78s/it]\u001b[A\n",
      "94it [06:47,  5.81s/it]\u001b[A\n",
      "95it [06:53,  5.83s/it]\u001b[A\n",
      "97it [06:59,  4.96s/it]\u001b[A\n",
      "98it [07:05,  5.22s/it]\u001b[A\n",
      "99it [07:10,  5.41s/it]\u001b[A\n",
      "100it [07:16,  5.55s/it]\u001b[A\n",
      "101it [07:22,  5.65s/it]\u001b[A\n",
      "102it [07:28,  5.69s/it]\u001b[A\n",
      "103it [07:34,  5.74s/it]\u001b[A\n",
      "104it [07:40,  5.73s/it]\u001b[A\n",
      "105it [07:45,  5.75s/it]\u001b[A\n",
      "106it [07:51,  5.76s/it]\u001b[A\n",
      "107it [07:57,  5.77s/it]\u001b[A\n",
      "108it [08:03,  5.77s/it]\u001b[A\n",
      "109it [08:08,  5.77s/it]\u001b[A\n",
      "110it [08:14,  5.78s/it]\u001b[A\n",
      "111it [08:20,  5.79s/it]\u001b[A\n",
      " 17%|█▋        | 1/6 [08:20<41:42, 500.58s/it]\n",
      "0it [00:00, ?it/s]\u001b[A\n",
      "2it [00:00,  8.91it/s]\u001b[A\n",
      "4it [00:00,  9.11it/s]\u001b[A\n",
      "7it [00:00, 11.47it/s]\u001b[A\n",
      "9it [00:00,  8.03it/s]\u001b[A\n",
      "10it [00:06,  1.82s/it]\u001b[A\n",
      "12it [00:12,  2.17s/it]\u001b[A\n",
      "14it [00:12,  1.53s/it]\u001b[A\n",
      "16it [00:18,  1.97s/it]\u001b[A\n",
      "17it [00:24,  3.16s/it]\u001b[A\n",
      "18it [00:30,  3.95s/it]\u001b[A\n",
      "19it [00:36,  4.49s/it]\u001b[A\n",
      "20it [00:42,  4.88s/it]\u001b[A\n",
      "22it [00:47,  4.31s/it]\u001b[A\n",
      "24it [00:53,  3.89s/it]\u001b[A\n",
      "25it [00:59,  4.46s/it]\u001b[A\n",
      "26it [01:05,  4.88s/it]\u001b[A\n",
      "29it [01:11,  4.01s/it]\u001b[A\n",
      "30it [01:17,  4.59s/it]\u001b[A\n",
      "32it [01:23,  4.10s/it]\u001b[A\n",
      "33it [01:29,  4.61s/it]\u001b[A\n",
      "34it [01:34,  4.96s/it]\u001b[A\n",
      "35it [01:40,  5.26s/it]\u001b[A\n",
      "36it [01:46,  5.47s/it]\u001b[A\n",
      "38it [01:52,  4.72s/it]\u001b[A\n",
      "40it [01:58,  4.20s/it]\u001b[A\n",
      "42it [02:04,  3.83s/it]\u001b[A\n",
      "43it [02:10,  4.50s/it]\u001b[A\n",
      "44it [02:16,  4.93s/it]\u001b[A\n",
      "45it [02:22,  5.21s/it]\u001b[A\n",
      "46it [02:28,  5.41s/it]\u001b[A\n",
      "47it [02:34,  5.57s/it]\u001b[A\n",
      "48it [02:40,  5.68s/it]\u001b[A\n",
      "51it [02:40,  3.99s/it]\u001b[A\n",
      "52it [02:46,  4.61s/it]\u001b[A\n",
      "53it [02:52,  4.99s/it]\u001b[A\n",
      "54it [02:58,  5.30s/it]\u001b[A\n",
      "55it [03:04,  5.48s/it]\u001b[A\n",
      "57it [03:10,  4.73s/it]\u001b[A\n",
      "58it [03:16,  5.09s/it]\u001b[A\n",
      "59it [03:22,  5.35s/it]\u001b[A\n",
      "60it [03:27,  5.51s/it]\u001b[A\n",
      "61it [03:33,  5.64s/it]\u001b[A\n",
      "62it [03:39,  5.75s/it]\u001b[A\n",
      "63it [03:45,  5.82s/it]\u001b[A\n",
      "64it [03:51,  5.85s/it]\u001b[A\n",
      "65it [03:57,  5.88s/it]\u001b[A\n",
      "66it [04:03,  5.88s/it]\u001b[A\n",
      "68it [04:09,  5.02s/it]\u001b[A\n",
      "69it [04:15,  5.32s/it]\u001b[A\n",
      "70it [04:21,  5.50s/it]\u001b[A\n",
      "71it [04:27,  5.65s/it]\u001b[A\n",
      "73it [04:33,  4.86s/it]\u001b[A\n",
      "74it [04:39,  5.20s/it]\u001b[A\n",
      "75it [04:45,  5.43s/it]\u001b[A\n",
      "76it [04:51,  5.58s/it]\u001b[A\n",
      "77it [04:57,  5.69s/it]\u001b[A\n",
      "78it [05:03,  5.75s/it]\u001b[A\n",
      "79it [05:09,  5.79s/it]\u001b[A\n",
      "80it [05:15,  5.83s/it]\u001b[A\n",
      "81it [05:21,  5.86s/it]\u001b[A\n",
      "82it [05:27,  5.88s/it]\u001b[A\n",
      "83it [05:33,  5.95s/it]\u001b[A\n",
      "84it [05:38,  5.93s/it]\u001b[A\n",
      "85it [05:44,  5.94s/it]\u001b[A\n",
      "86it [05:50,  5.97s/it]\u001b[A\n",
      "87it [05:56,  5.98s/it]\u001b[A\n",
      "89it [06:02,  5.07s/it]\u001b[A\n",
      "90it [06:08,  5.37s/it]\u001b[A\n",
      "91it [06:14,  5.56s/it]\u001b[A\n",
      "92it [06:20,  5.69s/it]\u001b[A\n",
      "93it [06:26,  5.77s/it]\u001b[A\n",
      "94it [06:32,  5.83s/it]\u001b[A\n",
      "95it [06:38,  5.90s/it]\u001b[A\n",
      "97it [06:45,  5.04s/it]\u001b[A\n",
      "99it [06:51,  4.42s/it]\u001b[A\n",
      "100it [06:57,  4.91s/it]\u001b[A\n",
      "101it [07:03,  5.24s/it]\u001b[A\n",
      "102it [07:08,  5.44s/it]\u001b[A\n",
      "103it [07:14,  5.58s/it]\u001b[A\n",
      "104it [07:20,  5.68s/it]\u001b[A\n",
      "105it [07:26,  5.80s/it]\u001b[A\n",
      "106it [07:32,  5.85s/it]\u001b[A\n",
      "107it [07:38,  5.87s/it]\u001b[A\n",
      "108it [07:44,  5.91s/it]\u001b[A\n",
      "109it [07:50,  5.96s/it]\u001b[A\n",
      "110it [07:56,  6.00s/it]\u001b[A\n",
      "111it [08:02,  6.02s/it]\u001b[A\n",
      " 33%|███▎      | 2/6 [16:23<33:01, 495.31s/it]\n",
      "0it [00:00, ?it/s]\u001b[A\n",
      "2it [00:00,  6.60it/s]\u001b[A\n",
      "4it [00:00,  7.38it/s]\u001b[A\n",
      "7it [00:00,  9.41it/s]\u001b[A\n",
      "9it [00:01,  7.42it/s]\u001b[A\n",
      "10it [00:07,  1.89s/it]\u001b[A\n",
      "11it [00:13,  3.15s/it]\u001b[A\n",
      "12it [00:19,  4.04s/it]\u001b[A\n",
      "13it [00:19,  2.86s/it]\u001b[A\n",
      "15it [00:25,  2.91s/it]\u001b[A\n",
      "16it [00:31,  3.88s/it]\u001b[A\n",
      "19it [00:31,  2.73s/it]\u001b[A\n",
      "20it [00:37,  3.70s/it]\u001b[A\n",
      "21it [00:43,  4.41s/it]\u001b[A\n",
      "23it [00:49,  4.00s/it]\u001b[A\n",
      "25it [00:55,  3.69s/it]\u001b[A\n",
      "26it [01:01,  4.35s/it]\u001b[A\n",
      "28it [01:07,  3.95s/it]\u001b[A\n",
      "30it [01:13,  3.65s/it]\u001b[A\n",
      "32it [01:19,  3.47s/it]\u001b[A\n",
      "33it [01:25,  4.20s/it]\u001b[A\n",
      "34it [01:31,  4.76s/it]\u001b[A\n",
      "35it [01:37,  5.12s/it]\u001b[A\n",
      "36it [01:43,  5.36s/it]\u001b[A\n",
      "37it [01:49,  5.55s/it]\u001b[A\n",
      "39it [01:55,  4.78s/it]\u001b[A\n",
      "42it [02:01,  3.95s/it]\u001b[A\n",
      "43it [02:07,  4.55s/it]\u001b[A\n",
      "44it [02:13,  4.93s/it]\u001b[A\n",
      "45it [02:19,  5.22s/it]\u001b[A\n",
      "46it [02:24,  5.41s/it]\u001b[A\n",
      "47it [02:30,  5.59s/it]\u001b[A\n",
      "48it [02:36,  5.70s/it]\u001b[A\n",
      "52it [02:42,  4.44s/it]\u001b[A\n",
      "53it [02:48,  4.90s/it]\u001b[A\n",
      "54it [02:54,  5.24s/it]\u001b[A\n",
      "55it [03:01,  5.49s/it]\u001b[A\n",
      "56it [03:06,  5.61s/it]\u001b[A\n",
      "57it [03:12,  5.75s/it]\u001b[A\n",
      "58it [03:18,  5.79s/it]\u001b[A\n",
      "59it [03:24,  5.85s/it]\u001b[A\n",
      "61it [03:30,  4.99s/it]\u001b[A\n",
      "62it [03:36,  5.26s/it]\u001b[A\n",
      "63it [03:42,  5.48s/it]\u001b[A\n",
      "64it [03:48,  5.61s/it]\u001b[A\n",
      "65it [03:54,  5.73s/it]\u001b[A\n",
      "66it [04:00,  5.79s/it]\u001b[A\n",
      "67it [04:06,  5.81s/it]\u001b[A\n",
      "68it [04:12,  5.86s/it]\u001b[A\n",
      "69it [04:18,  5.92s/it]\u001b[A\n",
      "70it [04:24,  5.95s/it]\u001b[A\n",
      "71it [04:30,  5.95s/it]\u001b[A\n",
      "73it [04:36,  5.06s/it]\u001b[A\n",
      "74it [04:42,  5.34s/it]\u001b[A\n",
      "75it [04:48,  5.51s/it]\u001b[A\n",
      "76it [04:54,  5.63s/it]\u001b[A\n",
      "77it [05:00,  5.71s/it]\u001b[A\n",
      "78it [05:05,  5.76s/it]\u001b[A\n",
      "79it [05:12,  5.85s/it]\u001b[A\n",
      "80it [05:18,  5.89s/it]\u001b[A\n",
      "81it [05:23,  5.90s/it]\u001b[A\n",
      "82it [05:29,  5.91s/it]\u001b[A\n",
      "83it [05:35,  5.91s/it]\u001b[A\n",
      "84it [05:41,  5.90s/it]\u001b[A\n",
      "85it [05:47,  5.89s/it]\u001b[A\n",
      "86it [05:53,  5.92s/it]\u001b[A\n",
      "87it [05:59,  5.95s/it]\u001b[A\n",
      "88it [06:05,  5.97s/it]\u001b[A\n",
      "89it [06:11,  5.96s/it]\u001b[A\n",
      "90it [06:17,  5.98s/it]\u001b[A\n",
      "91it [06:23,  5.99s/it]\u001b[A\n",
      "92it [06:29,  6.00s/it]\u001b[A\n",
      "93it [06:35,  5.96s/it]\u001b[A\n",
      "94it [06:41,  5.96s/it]\u001b[A\n",
      "95it [06:47,  5.97s/it]\u001b[A\n",
      "96it [06:53,  6.00s/it]\u001b[A\n",
      "97it [06:59,  6.01s/it]\u001b[A\n",
      "98it [07:05,  6.00s/it]\u001b[A\n",
      "99it [07:11,  5.99s/it]\u001b[A\n",
      "100it [07:17,  5.98s/it]\u001b[A\n",
      "101it [07:23,  5.96s/it]\u001b[A\n",
      "102it [07:29,  5.95s/it]\u001b[A\n",
      "103it [07:35,  5.96s/it]\u001b[A\n",
      "104it [07:41,  5.93s/it]\u001b[A\n",
      "105it [07:47,  5.96s/it]\u001b[A\n",
      "106it [07:53,  5.97s/it]\u001b[A\n",
      "107it [07:59,  5.97s/it]\u001b[A\n",
      "108it [08:05,  6.03s/it]\u001b[A\n",
      "109it [08:11,  6.02s/it]\u001b[A\n",
      "110it [08:17,  6.05s/it]\u001b[A\n",
      "111it [08:23,  6.05s/it]\u001b[A\n",
      " 50%|█████     | 3/6 [24:47<24:53, 497.76s/it]\n",
      "0it [00:00, ?it/s]\u001b[A\n",
      "2it [00:00,  7.56it/s]\u001b[A\n",
      "4it [00:00,  7.96it/s]\u001b[A\n",
      "7it [00:00, 10.13it/s]\u001b[A\n",
      "9it [00:00,  8.67it/s]\u001b[A\n",
      "12it [00:07,  1.45it/s]\u001b[A\n",
      "13it [00:07,  1.93it/s]\u001b[A\n",
      "15it [00:13,  1.27s/it]\u001b[A\n",
      "18it [00:19,  1.50s/it]\u001b[A\n",
      "19it [00:25,  2.83s/it]\u001b[A\n",
      "21it [00:31,  2.87s/it]\u001b[A\n",
      "22it [00:36,  3.76s/it]\u001b[A\n",
      "24it [00:42,  3.53s/it]\u001b[A\n",
      "25it [00:48,  4.24s/it]\u001b[A\n",
      "27it [00:54,  3.87s/it]\u001b[A\n",
      "30it [01:00,  3.32s/it]\u001b[A\n",
      "31it [01:06,  4.10s/it]\u001b[A\n",
      "32it [01:12,  4.69s/it]\u001b[A\n",
      "33it [01:18,  5.05s/it]\u001b[A\n",
      "34it [01:24,  5.31s/it]\u001b[A\n",
      "35it [01:30,  5.51s/it]\u001b[A\n",
      "36it [01:36,  5.61s/it]\u001b[A\n",
      "37it [01:42,  5.68s/it]\u001b[A\n",
      "39it [01:48,  4.86s/it]\u001b[A\n",
      "40it [01:54,  5.14s/it]\u001b[A\n",
      "41it [01:59,  5.31s/it]\u001b[A\n",
      "42it [02:05,  5.43s/it]\u001b[A\n",
      "43it [02:11,  5.52s/it]\u001b[A\n",
      "44it [02:17,  5.59s/it]\u001b[A\n",
      "45it [02:22,  5.67s/it]\u001b[A\n",
      "46it [02:28,  5.70s/it]\u001b[A\n",
      "47it [02:34,  5.73s/it]\u001b[A\n",
      "48it [02:40,  5.74s/it]\u001b[A\n",
      "51it [02:46,  4.60s/it]\u001b[A\n",
      "52it [02:51,  4.97s/it]\u001b[A\n",
      "53it [02:57,  5.23s/it]\u001b[A\n",
      "54it [03:03,  5.40s/it]\u001b[A\n",
      "55it [03:09,  5.53s/it]\u001b[A\n",
      "57it [03:15,  4.74s/it]\u001b[A\n",
      "58it [03:20,  5.02s/it]\u001b[A\n",
      "59it [03:26,  5.25s/it]\u001b[A\n",
      "61it [03:32,  4.54s/it]\u001b[A\n",
      "62it [03:38,  4.91s/it]\u001b[A\n",
      "63it [03:43,  5.16s/it]\u001b[A\n",
      "64it [03:49,  5.35s/it]\u001b[A\n",
      "65it [03:55,  5.50s/it]\u001b[A\n",
      "66it [04:01,  5.59s/it]\u001b[A\n",
      "67it [04:07,  5.65s/it]\u001b[A\n",
      "68it [04:12,  5.70s/it]\u001b[A\n",
      "69it [04:18,  5.71s/it]\u001b[A\n",
      "70it [04:24,  5.73s/it]\u001b[A\n",
      "71it [04:30,  5.77s/it]\u001b[A\n",
      "73it [04:36,  4.89s/it]\u001b[A\n",
      "74it [04:41,  5.17s/it]\u001b[A\n",
      "75it [04:47,  5.38s/it]\u001b[A\n",
      "76it [04:53,  5.51s/it]\u001b[A\n",
      "77it [04:59,  5.59s/it]\u001b[A\n",
      "78it [05:05,  5.63s/it]\u001b[A\n",
      "79it [05:10,  5.67s/it]\u001b[A\n",
      "80it [05:16,  5.70s/it]\u001b[A\n",
      "81it [05:22,  5.73s/it]\u001b[A\n",
      "82it [05:28,  5.74s/it]\u001b[A\n",
      "83it [05:33,  5.76s/it]\u001b[A\n",
      "84it [05:39,  5.76s/it]\u001b[A\n",
      "85it [05:45,  5.78s/it]\u001b[A\n",
      "86it [05:51,  5.80s/it]\u001b[A\n",
      "87it [05:57,  5.79s/it]\u001b[A\n",
      "88it [06:02,  5.80s/it]\u001b[A\n",
      "89it [06:08,  5.78s/it]\u001b[A\n",
      "90it [06:14,  5.80s/it]\u001b[A\n",
      "91it [06:20,  5.81s/it]\u001b[A\n",
      "92it [06:26,  5.82s/it]\u001b[A\n",
      "93it [06:31,  5.81s/it]\u001b[A\n",
      "94it [06:37,  5.85s/it]\u001b[A\n",
      "95it [06:43,  5.88s/it]\u001b[A\n",
      "96it [06:49,  5.84s/it]\u001b[A\n",
      "97it [06:55,  5.85s/it]\u001b[A\n",
      "99it [07:01,  4.96s/it]\u001b[A\n",
      "100it [07:07,  5.20s/it]\u001b[A\n",
      "101it [07:12,  5.34s/it]\u001b[A\n",
      "102it [07:18,  5.46s/it]\u001b[A\n",
      "103it [07:24,  5.54s/it]\u001b[A\n",
      "104it [07:29,  5.62s/it]\u001b[A\n",
      "105it [07:35,  5.71s/it]\u001b[A\n",
      "106it [07:41,  5.76s/it]\u001b[A\n",
      "107it [07:47,  5.78s/it]\u001b[A\n",
      "108it [07:53,  5.80s/it]\u001b[A\n",
      "109it [07:59,  5.92s/it]\u001b[A\n",
      "110it [08:05,  5.90s/it]\u001b[A\n",
      "111it [08:11,  5.85s/it]\u001b[A\n",
      "112it [08:16,  5.79s/it]\u001b[A\n",
      " 67%|██████▋   | 4/6 [33:03<16:34, 497.49s/it]\n",
      "0it [00:00, ?it/s]\u001b[A\n",
      "2it [00:00,  7.95it/s]\u001b[A\n",
      "4it [00:00,  8.62it/s]\u001b[A\n",
      "7it [00:00, 10.89it/s]\u001b[A\n",
      "9it [00:00,  8.49it/s]\u001b[A\n",
      "10it [00:06,  1.78s/it]\u001b[A\n",
      "12it [00:12,  2.10s/it]\u001b[A\n",
      "13it [00:12,  1.51s/it]\u001b[A\n",
      "15it [00:18,  1.92s/it]\u001b[A\n",
      "16it [00:23,  3.05s/it]\u001b[A\n",
      "19it [00:29,  2.70s/it]\u001b[A\n",
      "21it [00:35,  2.74s/it]\u001b[A\n",
      "22it [00:40,  3.61s/it]\u001b[A\n",
      "24it [00:46,  3.37s/it]\u001b[A\n",
      "25it [00:52,  4.04s/it]\u001b[A\n",
      "26it [00:57,  4.54s/it]\u001b[A\n",
      "27it [01:03,  4.88s/it]\u001b[A\n",
      "28it [01:09,  5.14s/it]\u001b[A\n",
      "30it [01:14,  4.46s/it]\u001b[A\n",
      "32it [01:20,  3.98s/it]\u001b[A\n",
      "33it [01:26,  4.47s/it]\u001b[A\n",
      "34it [01:32,  4.85s/it]\u001b[A\n",
      "35it [01:37,  5.13s/it]\u001b[A\n",
      "36it [01:43,  5.27s/it]\u001b[A\n",
      "37it [01:49,  5.39s/it]\u001b[A\n",
      "39it [01:54,  4.63s/it]\u001b[A\n",
      "42it [02:00,  3.81s/it]\u001b[A\n",
      "43it [02:06,  4.37s/it]\u001b[A\n",
      "44it [02:11,  4.74s/it]\u001b[A\n",
      "45it [02:17,  5.00s/it]\u001b[A\n",
      "46it [02:23,  5.19s/it]\u001b[A\n",
      "47it [02:28,  5.34s/it]\u001b[A\n",
      "48it [02:34,  5.43s/it]\u001b[A\n",
      "49it [02:40,  5.53s/it]\u001b[A\n",
      "52it [02:46,  4.46s/it]\u001b[A\n",
      "53it [02:51,  4.84s/it]\u001b[A\n",
      "54it [02:57,  5.09s/it]\u001b[A\n",
      "55it [03:03,  5.26s/it]\u001b[A\n",
      "57it [03:08,  4.53s/it]\u001b[A\n",
      "58it [03:14,  4.83s/it]\u001b[A\n",
      "59it [03:19,  5.08s/it]\u001b[A\n",
      "60it [03:25,  5.28s/it]\u001b[A\n",
      "61it [03:31,  5.39s/it]\u001b[A\n",
      "62it [03:36,  5.46s/it]\u001b[A\n",
      "63it [03:42,  5.52s/it]\u001b[A\n",
      "64it [03:48,  5.56s/it]\u001b[A\n",
      "65it [03:53,  5.56s/it]\u001b[A\n",
      "66it [03:59,  5.58s/it]\u001b[A\n",
      "68it [04:05,  4.74s/it]\u001b[A\n",
      "69it [04:10,  5.01s/it]\u001b[A\n",
      "70it [04:16,  5.19s/it]\u001b[A\n",
      "71it [04:21,  5.32s/it]\u001b[A\n",
      "73it [04:27,  4.57s/it]\u001b[A\n",
      "74it [04:33,  4.86s/it]\u001b[A\n",
      "75it [04:38,  5.10s/it]\u001b[A\n",
      "76it [04:44,  5.24s/it]\u001b[A\n",
      "77it [04:49,  5.34s/it]\u001b[A\n",
      "78it [04:55,  5.43s/it]\u001b[A\n",
      "79it [05:01,  5.50s/it]\u001b[A\n",
      "80it [05:06,  5.54s/it]\u001b[A\n",
      "81it [05:12,  5.56s/it]\u001b[A\n",
      "82it [05:18,  5.60s/it]\u001b[A\n",
      "83it [05:23,  5.64s/it]\u001b[A\n",
      "84it [05:29,  5.63s/it]\u001b[A\n",
      "85it [05:35,  5.68s/it]\u001b[A\n",
      "86it [05:40,  5.64s/it]\u001b[A\n",
      "87it [05:46,  5.66s/it]\u001b[A\n",
      "88it [05:52,  5.66s/it]\u001b[A\n",
      "89it [05:57,  5.66s/it]\u001b[A\n",
      "90it [06:03,  5.67s/it]\u001b[A\n",
      "91it [06:09,  5.68s/it]\u001b[A\n",
      "92it [06:14,  5.69s/it]\u001b[A\n",
      "93it [06:20,  5.67s/it]\u001b[A\n",
      "94it [06:26,  5.65s/it]\u001b[A\n",
      "95it [06:31,  5.66s/it]\u001b[A\n",
      "96it [06:37,  5.65s/it]\u001b[A\n",
      "97it [06:43,  5.66s/it]\u001b[A\n",
      "99it [06:48,  4.82s/it]\u001b[A\n",
      "100it [06:54,  5.08s/it]\u001b[A\n",
      "101it [07:00,  5.27s/it]\u001b[A\n",
      "102it [07:06,  5.42s/it]\u001b[A\n",
      "103it [07:11,  5.53s/it]\u001b[A\n",
      "104it [07:17,  5.56s/it]\u001b[A\n",
      "105it [07:23,  5.59s/it]\u001b[A\n",
      "106it [07:28,  5.60s/it]\u001b[A\n",
      "107it [07:34,  5.60s/it]\u001b[A\n",
      "108it [07:39,  5.62s/it]\u001b[A\n",
      "109it [07:45,  5.63s/it]\u001b[A\n",
      "110it [07:51,  5.65s/it]\u001b[A\n",
      "111it [07:57,  5.68s/it]\u001b[A\n",
      " 83%|████████▎ | 5/6 [41:01<08:11, 491.37s/it]\n",
      "0it [00:00, ?it/s]\u001b[A\n",
      "2it [00:00,  9.29it/s]\u001b[A\n",
      "4it [00:00,  9.14it/s]\u001b[A\n",
      "7it [00:00, 11.27it/s]\u001b[A\n",
      "9it [00:00,  9.70it/s]\u001b[A\n",
      "12it [00:00, 12.05it/s]\u001b[A\n",
      "14it [00:01, 11.80it/s]\u001b[A\n",
      "18it [00:01, 14.73it/s]\u001b[A\n",
      "21it [00:06,  1.62it/s]\u001b[A\n",
      "25it [00:12,  1.17it/s]\u001b[A\n",
      "27it [00:23,  2.31s/it]\u001b[A\n",
      "29it [00:29,  2.46s/it]\u001b[A\n",
      "30it [00:35,  3.40s/it]\u001b[A\n",
      "31it [00:40,  4.07s/it]\u001b[A\n",
      "32it [00:46,  4.54s/it]\u001b[A\n",
      "33it [00:52,  4.88s/it]\u001b[A\n",
      "34it [00:57,  5.11s/it]\u001b[A\n",
      "35it [01:03,  5.28s/it]\u001b[A\n",
      "36it [01:09,  5.38s/it]\u001b[A\n",
      "37it [01:14,  5.46s/it]\u001b[A\n",
      "39it [01:20,  4.68s/it]\u001b[A\n",
      "42it [01:26,  3.84s/it]\u001b[A\n",
      "43it [01:31,  4.42s/it]\u001b[A\n",
      "44it [01:37,  4.76s/it]\u001b[A\n",
      "45it [01:43,  5.02s/it]\u001b[A\n",
      "46it [01:48,  5.23s/it]\u001b[A\n",
      "47it [01:54,  5.38s/it]\u001b[A\n",
      "48it [02:00,  5.46s/it]\u001b[A\n",
      "49it [02:05,  5.51s/it]\u001b[A\n",
      "52it [02:11,  4.43s/it]\u001b[A\n",
      "53it [02:17,  4.83s/it]\u001b[A\n",
      "54it [02:22,  5.08s/it]\u001b[A\n",
      "55it [02:28,  5.26s/it]\u001b[A\n",
      "57it [02:34,  4.52s/it]\u001b[A\n",
      "58it [02:39,  4.82s/it]\u001b[A\n",
      "59it [02:45,  5.05s/it]\u001b[A\n",
      "60it [02:51,  5.25s/it]\u001b[A\n",
      "61it [02:56,  5.37s/it]\u001b[A\n",
      "62it [03:02,  5.43s/it]\u001b[A\n",
      "63it [03:07,  5.50s/it]\u001b[A\n",
      "64it [03:13,  5.55s/it]\u001b[A\n",
      "65it [03:19,  5.59s/it]\u001b[A\n",
      "66it [03:24,  5.62s/it]\u001b[A\n",
      "67it [03:30,  5.64s/it]\u001b[A\n",
      "68it [03:36,  5.66s/it]\u001b[A\n",
      "69it [03:42,  5.69s/it]\u001b[A\n",
      "70it [03:47,  5.69s/it]\u001b[A\n",
      "71it [03:53,  5.66s/it]\u001b[A\n",
      "73it [03:59,  4.81s/it]\u001b[A\n",
      "74it [04:04,  5.07s/it]\u001b[A\n",
      "75it [04:10,  5.22s/it]\u001b[A\n",
      "76it [04:15,  5.33s/it]\u001b[A\n",
      "77it [04:21,  5.41s/it]\u001b[A\n",
      "78it [04:26,  5.45s/it]\u001b[A\n",
      "79it [04:32,  5.50s/it]\u001b[A\n",
      "80it [04:38,  5.53s/it]\u001b[A\n",
      "81it [04:43,  5.57s/it]\u001b[A\n",
      "82it [04:49,  5.61s/it]\u001b[A\n",
      "83it [04:55,  5.63s/it]\u001b[A\n",
      "84it [05:00,  5.60s/it]\u001b[A\n",
      "85it [05:06,  5.62s/it]\u001b[A\n",
      "86it [05:12,  5.65s/it]\u001b[A\n",
      "87it [05:17,  5.67s/it]\u001b[A\n",
      "88it [05:23,  5.68s/it]\u001b[A\n",
      "89it [05:29,  5.69s/it]\u001b[A\n",
      "90it [05:35,  5.70s/it]\u001b[A\n",
      "91it [05:40,  5.69s/it]\u001b[A\n",
      "92it [05:46,  5.71s/it]\u001b[A\n",
      "93it [05:52,  5.71s/it]\u001b[A\n",
      "94it [05:57,  5.74s/it]\u001b[A\n",
      "95it [06:03,  5.74s/it]\u001b[A\n",
      "97it [06:09,  4.89s/it]\u001b[A\n",
      "98it [06:15,  5.10s/it]\u001b[A\n",
      "99it [06:20,  5.26s/it]\u001b[A\n",
      "100it [06:26,  5.36s/it]\u001b[A\n",
      "101it [06:31,  5.41s/it]\u001b[A\n",
      "102it [06:37,  5.47s/it]\u001b[A\n",
      "103it [06:43,  5.51s/it]\u001b[A\n",
      "104it [06:48,  5.52s/it]\u001b[A\n",
      "105it [06:54,  5.53s/it]\u001b[A\n",
      "106it [06:59,  5.55s/it]\u001b[A\n",
      "107it [07:05,  5.56s/it]\u001b[A\n",
      "108it [07:10,  5.57s/it]\u001b[A\n",
      "109it [07:16,  5.61s/it]\u001b[A\n",
      "110it [07:22,  5.59s/it]\u001b[A\n",
      "111it [07:27,  5.59s/it]\u001b[A\n",
      "100%|██████████| 6/6 [48:28<00:00, 478.30s/it]"
     ]
    },
    {
     "name": "stdout",
     "output_type": "stream",
     "text": [
      "0:48:42.468791\n"
     ]
    },
    {
     "name": "stderr",
     "output_type": "stream",
     "text": [
      "\n"
     ]
    }
   ],
   "source": [
    "##Create Lineups\n",
    "\n",
    "##User defined variables\n",
    "#num lineups in tournament\n",
    "num_lineups = 36700\n",
    "\n",
    "#cumulative ownership for the field\n",
    "cum_per_owned = 6\n",
    "\n",
    "#Read salaries and ownership\n",
    "player_df = pd.read_csv('/home/valesco/Datasets/PGA_Data/salary_folder/pga_champ_salaries.csv')\n",
    "\n",
    "start = datetime.datetime.now()\n",
    "\n",
    "######### Find a way to randomize lineup creation to avoid having biases in combinations between the players\n",
    "######### due to location in the dictionary\n",
    "\n",
    "#Functions\n",
    "def random_combination(iterable, r, player): \n",
    "    #Random selection from combinations\n",
    "    iter_count = 0 \n",
    "    combo_salary = 0\n",
    "    salary_ls = []\n",
    "    while combo_salary < 48800 or combo_salary > 50000:\n",
    "        iter_count += 1\n",
    "        if iter_count > 60000:\n",
    "            if player == 'placeholder':\n",
    "                print('placeholder error')\n",
    "                \n",
    "            else:\n",
    "                print('combination impossible')\n",
    "                \n",
    "            return salary_ls\n",
    "        \n",
    "        if r == 5:\n",
    "            combo_salary = salary_dict[player]\n",
    "        else:\n",
    "            combo_salary = 0\n",
    "        \n",
    "        pool = tuple(iterable)\n",
    "        n = len(pool)\n",
    "        indices = sorted(random.sample(range(n), r))\n",
    "        team = tuple(pool[i] for i in indices)\n",
    "        \n",
    "        for t in team:\n",
    "            combo_salary += salary_dict[t]\n",
    "        \n",
    "        salary_ls.append(tuple((team, combo_salary)))\n",
    "        \n",
    "    return tuple(pool[i] for i in indices)\n",
    "\n",
    "\n",
    "def random_lineup_generator(iterable, r, lineups_to_create, player):\n",
    "    temp_ls = []\n",
    "    for i in range(lineups_to_create):\n",
    "        \n",
    "        temp_ls.append(random_combination(iterable, r, player))\n",
    "    \n",
    "    return temp_ls\n",
    "\n",
    "\n",
    "def lineup_difference (p, player):\n",
    "    curr_df_len = len(lineup_df)\n",
    "\n",
    "    adjust_df_len = num_lineups - curr_df_len\n",
    "\n",
    "    target_own = pid_dict[p]['own']\n",
    "    target_lus = round(target_own * num_lineups) + adjust_df_len\n",
    "\n",
    "    actual_lus = count_df['count'].loc[count_df['name'] == player].values[0]\n",
    "\n",
    "    lu_diff = int(target_lus - actual_lus)\n",
    "    \n",
    "    return lu_diff\n",
    "\n",
    "##Create return_ownership\n",
    "\n",
    "def return_ownership(player):\n",
    "    for key, value in pid_dict.items():\n",
    "        if value['name'] == player:\n",
    "            return value['own']\n",
    "\n",
    "\n",
    "player_df = player_df[player_df['owned'] > 0]\n",
    "player_df['temp_pid'] = player_df['salary'].rank(ascending = False, method = 'first') - 1\n",
    "player_df['temp_pid'] = player_df['temp_pid'].map(lambda x: int(x))\n",
    "player_df.reset_index(inplace = True, drop = True)\n",
    "\n",
    "players = list(player_df['name'].values)\n",
    "salary_dict = dict(zip(player_df['name'], player_df['salary']))\n",
    "\n",
    "pid_dict = {}\n",
    "\n",
    "for p, player in enumerate(players):\n",
    "    salary = player_df['salary'].loc[player_df['name'] == player].values[0]\n",
    "    own = player_df['owned'].loc[player_df['name'] == player].values[0]\n",
    "    pid_dict[p] = {'name': player, 'salary': salary, 'own': own, 'lineup_diff': 0}\n",
    "\n",
    "pids = list(pid_dict.keys())\n",
    "\n",
    "#generate random num lineups for tournament\n",
    "random_lineups = random_lineup_generator(players, 6, num_lineups, 'player')\n",
    "\n",
    "lineup_df = pd.DataFrame(random_lineups)\n",
    "\n",
    "#Count players in lineups\n",
    "count_df = lineup_df.apply(pd.Series.value_counts)\n",
    "\n",
    "#Turn counts into percent\n",
    "count_df['count'] = count_df.sum(axis = 1)\n",
    "count_df.reset_index(inplace = True)\n",
    "count_df.rename(columns = {'index': 'name'}, inplace = True)\n",
    "count_df['owned'] = count_df['name'].apply(lambda x: return_ownership(x))\n",
    "count_df['target_lus'] = count_df['owned'] * num_lineups\n",
    "count_df['lu_diff'] = 0\n",
    "\n",
    "\n",
    "\n",
    "\n",
    "for iteration in tqdm(range(6)):\n",
    "    for p, player in tqdm(enumerate(players)):\n",
    "        \n",
    "        lu_diff = lineup_difference(p, player)\n",
    "\n",
    "        if lu_diff > 0:\n",
    "            \n",
    "            #Create list teams of 5 players without current player\n",
    "            if p < 1:\n",
    "                temp_player_ls = list(player_df['name'].unique())\n",
    "                temp_player_ls.remove(player)\n",
    "                \n",
    "                if len(temp_player_ls) < 5:\n",
    "                    print('error')\n",
    "            else:\n",
    "                temp_player_ls = list(count_df['name'].loc[count_df['lu_diff'] > 0].unique())\n",
    "                temp_player_ls.remove(player)\n",
    "                \n",
    "            temp_5_man_lus = random_lineup_generator(temp_player_ls, 5, lu_diff, player)   \n",
    "\n",
    "            #Add player to 5 man combos\n",
    "            temp_lus = []\n",
    "            for t, lu in enumerate(temp_5_man_lus):\n",
    "                temp_lus.append(lu + (player,))\n",
    "\n",
    "            temp_df = pd.DataFrame(temp_lus)\n",
    "\n",
    "            #replace teams in lineup_df\n",
    "\n",
    "            #select random indexs len num of lineups to replace\n",
    "            removal_index = sorted(random.sample(range(num_lineups), lu_diff))\n",
    "\n",
    "            new_df = lineup_df.loc[~lineup_df.index.isin(removal_index)]\n",
    "\n",
    "            lineup_df = pd.concat([new_df, temp_df])\n",
    "            lineup_df.reset_index(inplace = True, drop = True)\n",
    "\n",
    "\n",
    "        if lu_diff < 0:\n",
    "            lu_diff = abs(lu_diff)\n",
    "\n",
    "            # Create 6 man teams to replace teams with player\n",
    "            if p < 1:\n",
    "                temp_player_ls = list(player_df['name'].unique())\n",
    "                temp_player_ls.remove(player)\n",
    "                \n",
    "                if len(temp_player_ls) < 6:\n",
    "                    print('error')\n",
    "\n",
    "            else:\n",
    "                temp_player_ls = list(count_df['name'].loc[count_df['lu_diff'] > -200].unique())\n",
    "                #temp_player_ls.remove(player)\n",
    "\n",
    "            temp_6_man_lus = random_lineup_generator(temp_player_ls, 6, lu_diff, 'placeholder')\n",
    "            temp_df = pd.DataFrame(temp_6_man_lus)\n",
    "\n",
    "            #Remove existing lineups with player in them\n",
    "            removal_index = lineup_df[lineup_df.apply(lambda x: x.str.contains(player, case = False).any(),\n",
    "                                                      axis = 1)].sample(frac=1).head(lu_diff).index\n",
    "\n",
    "            new_df = lineup_df.loc[~lineup_df.index.isin(removal_index)]\n",
    "\n",
    "            lineup_df = pd.concat([new_df, temp_df])\n",
    "            lineup_df.reset_index(inplace = True, drop = True)\n",
    "            \n",
    "            \n",
    "\n",
    "        count_df = lineup_df.apply(pd.Series.value_counts)\n",
    "\n",
    "        #Turn counts into percent\n",
    "        count_df['count'] = count_df.sum(axis = 1)\n",
    "        count_df.reset_index(inplace = True)\n",
    "        count_df.rename(columns = {'index': 'name'}, inplace = True)\n",
    "        count_df['owned'] = count_df['name'].apply(lambda x: return_ownership(x))\n",
    "        count_df['target_lus'] = count_df['owned'] * num_lineups\n",
    "        count_df['lu_diff'] = count_df['target_lus'] - count_df['count']\n",
    "        \n",
    "print(datetime.datetime.now() - start)"
   ]
  },
  {
   "cell_type": "code",
   "execution_count": 127,
   "metadata": {
    "collapsed": false,
    "deletable": true,
    "editable": true
   },
   "outputs": [],
   "source": [
    "### Create imitation playerdistributions\n",
    "\n",
    "def bimodal(low1, high1, mode1, low2, high2, mode2, cutoff, num_samples):\n",
    "    toss = random.randint(0, 100)\n",
    "    \n",
    "    if toss >= cutoff:\n",
    "        return triangular(low1, high1, mode1)\n",
    "    \n",
    "    else:\n",
    "        return triangular(low2, high2, mode2)\n",
    "    \n",
    "def create_distro(cutmade_ceiling, cutmissed_ceiling, cutmade_percent, num_samples):\n",
    "    distro = []\n",
    "    \n",
    "    cutmade_mode = (cutmade_ceiling - cutmissed_ceiling) / 2 + cutmissed_ceiling\n",
    "    cutmissed_mode = cutmissed_ceiling / 2\n",
    "    \n",
    "    for i in range(num_samples):\n",
    "        distro.append(round(bimodal(0, cutmissed_ceiling, cutmissed_mode, cutmissed_ceiling, cutmade_ceiling,\n",
    "                                    cutmade_mode, cutmade_percent, num_samples)))\n",
    "    return distro\n",
    "\n",
    "def create_arrays(best_madecut_ceiling, best_missedcut_ceiling, best_cutmade_percent, num_players):\n",
    "    madecut_ceiling_array = np.linspace(best_madecut_ceiling, best_madecut_ceiling - 30, num_players)\n",
    "    missedcut_ceiling_array = np.linspace(best_missedcut_ceiling, best_missedcut_ceiling - 15, num_players)\n",
    "    cutmade_percent_array = np.linspace(best_cutmade_percent, 10, num_players)\n",
    "    \n",
    "    return madecut_ceiling_array, missedcut_ceiling_array, cutmade_percent_array\n",
    "\n",
    "def create_all_player_distros(madecut_ceiling_array, missedcut_ceiling_array, cutmade_percent_array, player_ls,\n",
    "                             num_samples):\n",
    "    player_dict = {}\n",
    "    \n",
    "    for i, player in enumerate(player_ls):\n",
    "        temp_distro = []\n",
    "        \n",
    "        jostle = random.uniform(.93, 1.07)\n",
    "        cutmade_ceiling = madecut_ceiling_array[i] * jostle\n",
    "        cutmissed_ceiling = missedcut_ceiling_array[i] * jostle\n",
    "        cutmade_percent = cutmade_percent_array[i] * jostle\n",
    "        temp_distro.append(create_distro(cutmade_ceiling, cutmissed_ceiling, cutmade_percent, num_samples))\n",
    "        player_dict[player] = temp_distro\n",
    "\n",
    "    return player_dict\n",
    "\n",
    "##User defined values\n",
    "best_madecut_ceiling = 100\n",
    "best_missedcut_ceiling = 40\n",
    "best_cutmade_percent = 90\n",
    "num_samples = 200\n",
    "sal_player_ls = list(player_df['name'].values)\n",
    "\n",
    "\n",
    "\n",
    "#Create the ceiling arrays\n",
    "madecut_ceiling_array, missedcut_ceiling_array, cutmade_percent_array = create_arrays(best_madecut_ceiling,\n",
    "                                                        best_missedcut_ceiling, best_cutmade_percent, 125)\n",
    "\n",
    "player_distro_dict = create_all_player_distros(madecut_ceiling_array, missedcut_ceiling_array, cutmade_percent_array,\n",
    "                                    sal_player_ls, num_samples)"
   ]
  },
  {
   "cell_type": "code",
   "execution_count": 178,
   "metadata": {
    "collapsed": false,
    "deletable": true,
    "editable": true
   },
   "outputs": [],
   "source": [
    "## Create sample simulation point array\n",
    "def myround(x, base):\n",
    "    return (int(base * round(float(x) / base)))\n",
    "\n",
    "def inverse_transform_sampling(data, n_bins, n_samples):\n",
    "    hist, bin_edges = np.histogram(data, bins=n_bins, density=True)\n",
    "    cum_values = np.zeros(bin_edges.shape)\n",
    "    cum_values[1:] = np.cumsum(hist*np.diff(bin_edges))\n",
    "    inv_cdf = interpolate.interp1d(cum_values, bin_edges)\n",
    "    r = np.random.rand(n_samples)\n",
    "    \n",
    "    return inv_cdf(r)\n",
    "\n",
    "\n",
    "def create_points_array(player_df, num_sims):  ##tourny_avg, tourny_std):\n",
    "    proj_array = np.zeros((len(player_df), num_sims + 1)).astype(np.int16)\n",
    "\n",
    "    for index, row in player_df.iterrows():\n",
    "        ##Start point distribution with temp_pid\n",
    "        temp_pid = np.array(row['temp_pid']).reshape(1,1)\n",
    "        player_name = row['name']\n",
    "        \n",
    "\n",
    "        point_array = player_distro_dict[player_name]\n",
    "        rand_array = inverse_transform_sampling(point_array, 50, num_sims)\n",
    "        \n",
    "        #Not including normalized points in this initial run\n",
    "        #point_sims = rand_array * tourny_std + tourny_avg\n",
    "        #flat_sim = np.round(point_sims.reshape((1, num_sims)), decimals = 0)\n",
    "        flat_sim = np.round(rand_array.reshape((1, num_sims)), decimals = 0)\n",
    "\n",
    "        flat_sim = np.hstack((temp_pid, flat_sim))\n",
    "\n",
    "        proj_array[index] = flat_sim\n",
    "\n",
    "\n",
    "    return proj_array\n",
    "\n",
    "proj_array = create_points_array(player_df, 1000)\n"
   ]
  },
  {
   "cell_type": "code",
   "execution_count": 129,
   "metadata": {
    "collapsed": false,
    "deletable": true,
    "editable": true
   },
   "outputs": [
    {
     "data": {
      "text/plain": [
       "array([[  0,  10,  15,  35,  45,  97],\n",
       "       [  6,   8,   9,  28,  47,  61],\n",
       "       [  1,   4,  35,  57,  71,  75],\n",
       "       ..., \n",
       "       [  9,  95,  12,   1,  71, 111],\n",
       "       [ 57,   4,  78,   1,  71, 111],\n",
       "       [  9,  57,   4,  59,   8, 111]])"
      ]
     },
     "execution_count": 129,
     "metadata": {},
     "output_type": "execute_result"
    }
   ],
   "source": [
    "## Map temp pid to lineup array to create contest array\n",
    "\n",
    "temp_pid_dict = dict(zip(player_df['name'].values, player_df['temp_pid']))\n",
    "\n",
    "pid_lineups = pd.DataFrame()\n",
    "\n",
    "pid_lineups[0] = lineup_df[0].map(lambda x: temp_pid_dict[x])\n",
    "pid_lineups[1] = lineup_df[1].map(lambda x: temp_pid_dict[x])\n",
    "pid_lineups[2] = lineup_df[2].map(lambda x: temp_pid_dict[x])\n",
    "pid_lineups[3] = lineup_df[3].map(lambda x: temp_pid_dict[x])\n",
    "pid_lineups[4] = lineup_df[4].map(lambda x: temp_pid_dict[x])\n",
    "pid_lineups[5] = lineup_df[5].map(lambda x: temp_pid_dict[x])\n",
    "\n",
    "contest_array = pid_lineups.as_matrix()\n",
    "contest_array"
   ]
  },
  {
   "cell_type": "code",
   "execution_count": 130,
   "metadata": {
    "collapsed": false,
    "deletable": true,
    "editable": true,
    "scrolled": true
   },
   "outputs": [
    {
     "data": {
      "text/plain": [
       "array([[24992],\n",
       "       [14992],\n",
       "       [ 9992],\n",
       "       ..., \n",
       "       [   -8],\n",
       "       [   -8],\n",
       "       [   -8]])"
      ]
     },
     "execution_count": 130,
     "metadata": {},
     "output_type": "execute_result"
    }
   ],
   "source": [
    "###Create Payout Array\n",
    "def create_payout_array(num_lineups, buyin):\n",
    "    payout_ls = []\n",
    "    for i in range(num_lineups):\n",
    "        if i == 0:\n",
    "            payout_ls.append(25000 - buyin)\n",
    "        elif i == 1:\n",
    "            payout_ls.append(15000 - buyin)\n",
    "        elif i == 2:\n",
    "            payout_ls.append(10000 - buyin)\n",
    "        elif i == 3: \n",
    "            payout_ls.append(5000 - buyin)\n",
    "        elif i == 4: \n",
    "            payout_ls.append(4000 - buyin) #.145\n",
    "        elif i == 5:\n",
    "            payout_ls.append(3000 - buyin) #.145 + .06 = .205\n",
    "        elif i == 6: \n",
    "            payout_ls.append(2000 - buyin) # .205 + .064 = .269\n",
    "        elif i == 7:\n",
    "            payout_ls.append(1500 - buyin) # .269 + .10 = .369\n",
    "        elif i == 8 or i == 9: \n",
    "            payout_ls.append(1000 - buyin) # .369 + .16 = .549\n",
    "        elif i == 10 or i == 11:\n",
    "            payout_ls.append(700 - buyin) \n",
    "        elif i == 12 or i == 13:\n",
    "            payout_ls.append(600 - buyin)\n",
    "        elif i == 14 or i == 15 or i == 16:\n",
    "            payout_ls.append(500 - buyin)\n",
    "        elif i == 17 or i == 18 or i == 19:\n",
    "            payout_ls.append(400 - buyin)\n",
    "        elif i > 19 and i <= 29:\n",
    "            payout_ls.append(300 - buyin)\n",
    "        elif i > 29 and i <= 39:\n",
    "            payout_ls.append(250 - buyin)\n",
    "        elif i > 39 and i <= 54:\n",
    "            payout_ls.append(200 - buyin)\n",
    "        elif i > 54 and i <= 69:\n",
    "            payout_ls.append(150 - buyin)\n",
    "        elif i > 69 and i <= 109:\n",
    "            payout_ls.append(100 - buyin)\n",
    "        elif i > 109 and i <= 159:\n",
    "            payout_ls.append(70 - buyin)\n",
    "        elif i > 159 and i <= 259:\n",
    "            payout_ls.append(60 - buyin)\n",
    "        elif i > 259 and i <= 359:\n",
    "            payout_ls.append(50 - buyin)\n",
    "        elif i > 359 and i <= 459:\n",
    "            payout_ls.append(40 - buyin)\n",
    "        elif i > 459 and i <= 659:\n",
    "            payout_ls.append(35 - buyin)\n",
    "        elif i > 659 and i <= 959:\n",
    "            payout_ls.append(30 - buyin)\n",
    "        elif i > 959 and i <= 1609:\n",
    "            payout_ls.append(25 - buyin)\n",
    "        elif i > 1609 and i <= 2619:\n",
    "            payout_ls.append(20 - buyin)\n",
    "        elif i > 2619 and i <= 5119:\n",
    "            payout_ls.append(15 - buyin)\n",
    "        elif i > 5119 and i <= 9619:\n",
    "            payout_ls.append(12 - buyin)\n",
    "        else:\n",
    "            payout_ls.append(-1 * buyin)\n",
    "            \n",
    "    return payout_ls\n",
    "            \n",
    "payout_array = create_payout_array(36700, 8)\n",
    "payout_array = np.array(payout_array).reshape(-1 , 1)\n",
    "payout_array"
   ]
  },
  {
   "cell_type": "code",
   "execution_count": null,
   "metadata": {
    "collapsed": false
   },
   "outputs": [],
   "source": [
    "payout_array[9619]"
   ]
  },
  {
   "cell_type": "code",
   "execution_count": 179,
   "metadata": {
    "collapsed": false,
    "deletable": true,
    "editable": true,
    "scrolled": true
   },
   "outputs": [
    {
     "name": "stderr",
     "output_type": "stream",
     "text": [
      "\n",
      "  0%|          | 0/300 [00:00<?, ?it/s]\u001b[A\n",
      "  0%|          | 1/300 [04:47<23:52:28, 287.45s/it]"
     ]
    },
    {
     "name": "stdout",
     "output_type": "stream",
     "text": [
      "['Rory McIlroy', 'Byeong-Hun An', 'Bud Cauley', 'Grayson Murray', 'Henrik Stenson', 'Danny Lee'] -7.668 ['Rory McIlroy', 'Byeong-Hun An', 'Lee Westwood', 'Grayson Murray', 'Henrik Stenson', 'Danny Lee'] -7.152\n",
      "worse team taken\n"
     ]
    },
    {
     "name": "stderr",
     "output_type": "stream",
     "text": [
      "\r",
      "  1%|          | 2/300 [09:30<23:41:31, 286.21s/it]"
     ]
    },
    {
     "name": "stdout",
     "output_type": "stream",
     "text": [
      "['Rory McIlroy', 'Byeong-Hun An', 'Bud Cauley', 'Graeme McDowell', 'Henrik Stenson', 'Danny Lee'] -7.057 ['Rory McIlroy', 'Byeong-Hun An', 'Bud Cauley', 'Grayson Murray', 'Henrik Stenson', 'Danny Lee'] -7.668\n"
     ]
    },
    {
     "name": "stderr",
     "output_type": "stream",
     "text": [
      "\r",
      "  1%|          | 3/300 [14:13<23:32:02, 285.26s/it]"
     ]
    },
    {
     "name": "stdout",
     "output_type": "stream",
     "text": [
      "['Rory McIlroy', 'Matthew Fitzpatrick', 'Bud Cauley', 'Graeme McDowell', 'Henrik Stenson', 'Danny Lee'] -5.672 ['Rory McIlroy', 'Byeong-Hun An', 'Bud Cauley', 'Graeme McDowell', 'Henrik Stenson', 'Danny Lee'] -7.057\n"
     ]
    },
    {
     "name": "stderr",
     "output_type": "stream",
     "text": [
      "\r",
      "  1%|▏         | 4/300 [18:56<23:23:19, 284.46s/it]"
     ]
    },
    {
     "name": "stdout",
     "output_type": "stream",
     "text": [
      "['Rory McIlroy', 'Patrick Reed', 'Bud Cauley', 'Graeme McDowell', 'Henrik Stenson', 'Danny Lee'] -5.814 ['Rory McIlroy', 'Matthew Fitzpatrick', 'Bud Cauley', 'Graeme McDowell', 'Henrik Stenson', 'Danny Lee'] -5.672\n",
      "worse team taken\n"
     ]
    },
    {
     "name": "stderr",
     "output_type": "stream",
     "text": [
      "\r",
      "  2%|▏         | 5/300 [23:39<23:16:38, 284.06s/it]"
     ]
    },
    {
     "name": "stdout",
     "output_type": "stream",
     "text": [
      "['Rory McIlroy', 'Patrick Reed', 'Bud Cauley', 'Graeme McDowell', 'Henrik Stenson', 'Byeong-Hun An'] -4.129 ['Rory McIlroy', 'Patrick Reed', 'Bud Cauley', 'Graeme McDowell', 'Henrik Stenson', 'Danny Lee'] -5.814\n"
     ]
    },
    {
     "name": "stderr",
     "output_type": "stream",
     "text": [
      "\r",
      "  2%|▏         | 6/300 [28:23<23:12:04, 284.10s/it]"
     ]
    },
    {
     "name": "stdout",
     "output_type": "stream",
     "text": [
      "['Rory McIlroy', 'Patrick Reed', 'Bud Cauley', 'Graeme McDowell', 'Henrik Stenson', 'Charl Schwartzel'] -2.898 ['Rory McIlroy', 'Patrick Reed', 'Bud Cauley', 'Graeme McDowell', 'Henrik Stenson', 'Byeong-Hun An'] -4.129\n"
     ]
    },
    {
     "name": "stderr",
     "output_type": "stream",
     "text": [
      "\r",
      "  2%|▏         | 7/300 [33:05<23:03:25, 283.29s/it]"
     ]
    },
    {
     "name": "stdout",
     "output_type": "stream",
     "text": [
      "['Rory McIlroy', 'Patrick Reed', 'Bud Cauley', 'Graeme McDowell', 'Henrik Stenson', 'Rafael Cabrera-Bello'] -2.283 ['Rory McIlroy', 'Patrick Reed', 'Bud Cauley', 'Graeme McDowell', 'Henrik Stenson', 'Charl Schwartzel'] -2.898\n"
     ]
    },
    {
     "name": "stderr",
     "output_type": "stream",
     "text": [
      "\r",
      "  3%|▎         | 8/300 [37:48<22:58:58, 283.35s/it]"
     ]
    },
    {
     "name": "stdout",
     "output_type": "stream",
     "text": [
      "['Rory McIlroy', 'Patrick Reed', 'Bud Cauley', 'Peter Uihlein', 'Henrik Stenson', 'Rafael Cabrera-Bello'] 0.485 ['Rory McIlroy', 'Patrick Reed', 'Bud Cauley', 'Graeme McDowell', 'Henrik Stenson', 'Rafael Cabrera-Bello'] -2.283\n"
     ]
    },
    {
     "name": "stderr",
     "output_type": "stream",
     "text": [
      "\r",
      "  3%|▎         | 9/300 [42:30<22:52:16, 282.94s/it]"
     ]
    },
    {
     "name": "stdout",
     "output_type": "stream",
     "text": [
      "['Rory McIlroy', 'Patrick Reed', 'Bud Cauley', 'Jordan L. Smith', 'Henrik Stenson', 'Rafael Cabrera-Bello'] -6.251 ['Rory McIlroy', 'Patrick Reed', 'Bud Cauley', 'Peter Uihlein', 'Henrik Stenson', 'Rafael Cabrera-Bello'] 0.485\n",
      "worse team taken\n"
     ]
    },
    {
     "name": "stderr",
     "output_type": "stream",
     "text": [
      "\r",
      "  3%|▎         | 10/300 [47:16<22:52:25, 283.95s/it]"
     ]
    },
    {
     "name": "stdout",
     "output_type": "stream",
     "text": [
      "['Rory McIlroy', 'Patrick Reed', 'Jason Dufner', 'Jordan L. Smith', 'Henrik Stenson', 'Rafael Cabrera-Bello'] -5.015 ['Rory McIlroy', 'Patrick Reed', 'Bud Cauley', 'Jordan L. Smith', 'Henrik Stenson', 'Rafael Cabrera-Bello'] -6.251\n"
     ]
    },
    {
     "name": "stderr",
     "output_type": "stream",
     "text": [
      "\r",
      "  4%|▎         | 11/300 [52:05<22:53:55, 285.25s/it]"
     ]
    },
    {
     "name": "stdout",
     "output_type": "stream",
     "text": [
      "['Rory McIlroy', 'Patrick Reed', 'Jason Dufner', 'Danny Lee', 'Henrik Stenson', 'Rafael Cabrera-Bello'] -4.117 ['Rory McIlroy', 'Patrick Reed', 'Jason Dufner', 'Jordan L. Smith', 'Henrik Stenson', 'Rafael Cabrera-Bello'] -5.015\n"
     ]
    },
    {
     "name": "stderr",
     "output_type": "stream",
     "text": [
      "\r",
      "  4%|▍         | 12/300 [56:53<22:54:15, 286.30s/it]"
     ]
    },
    {
     "name": "stdout",
     "output_type": "stream",
     "text": [
      "['Rory McIlroy', 'Patrick Reed', 'Jason Dufner', 'Lee Westwood', 'Henrik Stenson', 'Rafael Cabrera-Bello'] -2.762 ['Rory McIlroy', 'Patrick Reed', 'Jason Dufner', 'Danny Lee', 'Henrik Stenson', 'Rafael Cabrera-Bello'] -4.117\n"
     ]
    },
    {
     "name": "stderr",
     "output_type": "stream",
     "text": [
      "\r",
      "  4%|▍         | 13/300 [1:01:40<22:49:07, 286.23s/it]"
     ]
    },
    {
     "name": "stdout",
     "output_type": "stream",
     "text": [
      "['Rory McIlroy', 'Patrick Reed', 'Jason Dufner', 'Andrew Johnston', 'Henrik Stenson', 'Rafael Cabrera-Bello'] 2.324 ['Rory McIlroy', 'Patrick Reed', 'Jason Dufner', 'Lee Westwood', 'Henrik Stenson', 'Rafael Cabrera-Bello'] -2.762\n"
     ]
    },
    {
     "name": "stderr",
     "output_type": "stream",
     "text": [
      "\r",
      "  5%|▍         | 14/300 [1:06:26<22:44:57, 286.35s/it]"
     ]
    },
    {
     "name": "stdout",
     "output_type": "stream",
     "text": [
      "['Rory McIlroy', 'Patrick Reed', 'Jason Dufner', 'Bud Cauley', 'Henrik Stenson', 'Rafael Cabrera-Bello'] -5.605 ['Rory McIlroy', 'Patrick Reed', 'Jason Dufner', 'Andrew Johnston', 'Henrik Stenson', 'Rafael Cabrera-Bello'] 2.324\n",
      "worse team taken\n"
     ]
    },
    {
     "name": "stderr",
     "output_type": "stream",
     "text": [
      "\r",
      "  5%|▌         | 15/300 [1:11:11<22:38:36, 286.02s/it]"
     ]
    },
    {
     "name": "stdout",
     "output_type": "stream",
     "text": [
      "['Rory McIlroy', 'Patrick Reed', 'Jimmy Walker', 'Bud Cauley', 'Henrik Stenson', 'Rafael Cabrera-Bello'] -4.291 ['Rory McIlroy', 'Patrick Reed', 'Jason Dufner', 'Bud Cauley', 'Henrik Stenson', 'Rafael Cabrera-Bello'] -5.605\n"
     ]
    },
    {
     "name": "stderr",
     "output_type": "stream",
     "text": [
      "\r",
      "  5%|▌         | 16/300 [1:15:58<22:34:17, 286.12s/it]"
     ]
    },
    {
     "name": "stdout",
     "output_type": "stream",
     "text": [
      "['Rory McIlroy', 'Patrick Reed', 'Jimmy Walker', 'Bud Cauley', 'Henrik Stenson', 'Robert Streb'] -5.589 ['Rory McIlroy', 'Patrick Reed', 'Jimmy Walker', 'Bud Cauley', 'Henrik Stenson', 'Rafael Cabrera-Bello'] -4.291\n",
      "worse team taken\n"
     ]
    },
    {
     "name": "stderr",
     "output_type": "stream",
     "text": [
      "\r",
      "  6%|▌         | 17/300 [1:20:44<22:29:15, 286.06s/it]"
     ]
    },
    {
     "name": "stdout",
     "output_type": "stream",
     "text": [
      "['Rory McIlroy', 'Patrick Reed', 'Jimmy Walker', 'Hideto Tanihara', 'Henrik Stenson', 'Robert Streb'] -4.859 ['Rory McIlroy', 'Patrick Reed', 'Jimmy Walker', 'Bud Cauley', 'Henrik Stenson', 'Robert Streb'] -5.589\n"
     ]
    },
    {
     "name": "stderr",
     "output_type": "stream",
     "text": [
      "\r",
      "  6%|▌         | 18/300 [1:25:30<22:24:44, 286.11s/it]"
     ]
    },
    {
     "name": "stdout",
     "output_type": "stream",
     "text": [
      "['Rory McIlroy', 'Ryan Fox', 'Jimmy Walker', 'Hideto Tanihara', 'Henrik Stenson', 'Robert Streb'] -7.061 ['Rory McIlroy', 'Patrick Reed', 'Jimmy Walker', 'Hideto Tanihara', 'Henrik Stenson', 'Robert Streb'] -4.859\n",
      "worse team taken\n"
     ]
    },
    {
     "name": "stderr",
     "output_type": "stream",
     "text": [
      "\r",
      "  6%|▋         | 19/300 [1:30:16<22:20:04, 286.14s/it]"
     ]
    },
    {
     "name": "stdout",
     "output_type": "stream",
     "text": [
      "['Rory McIlroy', 'Brendan Steele', 'Jimmy Walker', 'Hideto Tanihara', 'Henrik Stenson', 'Robert Streb'] -5.035 ['Rory McIlroy', 'Ryan Fox', 'Jimmy Walker', 'Hideto Tanihara', 'Henrik Stenson', 'Robert Streb'] -7.061\n"
     ]
    },
    {
     "name": "stderr",
     "output_type": "stream",
     "text": [
      "\r",
      "  7%|▋         | 20/300 [1:35:02<22:14:50, 286.04s/it]"
     ]
    },
    {
     "name": "stdout",
     "output_type": "stream",
     "text": [
      "['Rory McIlroy', 'Soren Kjeldsen', 'Jimmy Walker', 'Hideto Tanihara', 'Henrik Stenson', 'Robert Streb'] -6.401 ['Rory McIlroy', 'Brendan Steele', 'Jimmy Walker', 'Hideto Tanihara', 'Henrik Stenson', 'Robert Streb'] -5.035\n",
      "worse team taken\n"
     ]
    },
    {
     "name": "stderr",
     "output_type": "stream",
     "text": [
      "\r",
      "  7%|▋         | 21/300 [1:39:48<22:10:12, 286.07s/it]"
     ]
    },
    {
     "name": "stdout",
     "output_type": "stream",
     "text": [
      "['Rory McIlroy', 'Soren Kjeldsen', 'Jimmy Walker', 'Hideto Tanihara', 'Henrik Stenson', 'Brandon Stone'] -6.682 ['Rory McIlroy', 'Soren Kjeldsen', 'Jimmy Walker', 'Hideto Tanihara', 'Henrik Stenson', 'Robert Streb'] -6.401\n"
     ]
    },
    {
     "name": "stderr",
     "output_type": "stream",
     "text": [
      "\r",
      "  7%|▋         | 22/300 [1:44:35<22:06:04, 286.20s/it]"
     ]
    },
    {
     "name": "stdout",
     "output_type": "stream",
     "text": [
      "['Rory McIlroy', 'Soren Kjeldsen', 'Jimmy Walker', 'William McGirt', 'Henrik Stenson', 'Robert Streb'] -5.314 ['Rory McIlroy', 'Soren Kjeldsen', 'Jimmy Walker', 'Hideto Tanihara', 'Henrik Stenson', 'Robert Streb'] -6.401\n"
     ]
    },
    {
     "name": "stderr",
     "output_type": "stream",
     "text": [
      "\r",
      "  8%|▊         | 23/300 [1:49:20<21:59:47, 285.88s/it]"
     ]
    },
    {
     "name": "stdout",
     "output_type": "stream",
     "text": [
      "['Rory McIlroy', 'Soren Kjeldsen', 'Anirban Lahiri', 'William McGirt', 'Henrik Stenson', 'Robert Streb'] -5.785 ['Rory McIlroy', 'Soren Kjeldsen', 'Jimmy Walker', 'William McGirt', 'Henrik Stenson', 'Robert Streb'] -5.314\n",
      "worse team taken\n"
     ]
    },
    {
     "name": "stderr",
     "output_type": "stream",
     "text": [
      "\r",
      "  8%|▊         | 24/300 [1:54:06<21:55:19, 285.94s/it]"
     ]
    },
    {
     "name": "stdout",
     "output_type": "stream",
     "text": [
      "['Rory McIlroy', 'Soren Kjeldsen', 'Mackenzie Hughes', 'William McGirt', 'Henrik Stenson', 'Robert Streb'] -6.496 ['Rory McIlroy', 'Soren Kjeldsen', 'Anirban Lahiri', 'William McGirt', 'Henrik Stenson', 'Robert Streb'] -5.785\n",
      "worse team taken\n"
     ]
    },
    {
     "name": "stderr",
     "output_type": "stream",
     "text": [
      "\r",
      "  8%|▊         | 25/300 [1:58:52<21:50:44, 285.98s/it]"
     ]
    },
    {
     "name": "stdout",
     "output_type": "stream",
     "text": [
      "['Rory McIlroy', 'Soren Kjeldsen', 'Luke Donald', 'William McGirt', 'Henrik Stenson', 'Robert Streb'] -6.215 ['Rory McIlroy', 'Soren Kjeldsen', 'Mackenzie Hughes', 'William McGirt', 'Henrik Stenson', 'Robert Streb'] -6.496\n"
     ]
    },
    {
     "name": "stderr",
     "output_type": "stream",
     "text": [
      "\r",
      "  9%|▊         | 26/300 [2:03:38<21:45:38, 285.91s/it]"
     ]
    },
    {
     "name": "stdout",
     "output_type": "stream",
     "text": [
      "['Rory McIlroy', 'Soren Kjeldsen', 'Steve Stricker', 'William McGirt', 'Henrik Stenson', 'Robert Streb'] -5.538 ['Rory McIlroy', 'Soren Kjeldsen', 'Luke Donald', 'William McGirt', 'Henrik Stenson', 'Robert Streb'] -6.215\n"
     ]
    },
    {
     "name": "stderr",
     "output_type": "stream",
     "text": [
      "\r",
      "  9%|▉         | 27/300 [2:08:24<21:41:18, 286.00s/it]"
     ]
    },
    {
     "name": "stdout",
     "output_type": "stream",
     "text": [
      "['Rory McIlroy', 'Kevin Chappell', 'Steve Stricker', 'William McGirt', 'Henrik Stenson', 'Robert Streb'] -3.963 ['Rory McIlroy', 'Soren Kjeldsen', 'Steve Stricker', 'William McGirt', 'Henrik Stenson', 'Robert Streb'] -5.538\n"
     ]
    },
    {
     "name": "stderr",
     "output_type": "stream",
     "text": [
      "\r",
      "  9%|▉         | 28/300 [2:13:09<21:35:56, 285.87s/it]"
     ]
    },
    {
     "name": "stdout",
     "output_type": "stream",
     "text": [
      "['Rory McIlroy', 'Kevin Chappell', 'David Lingmerth', 'William McGirt', 'Henrik Stenson', 'Robert Streb'] -5.334 ['Rory McIlroy', 'Kevin Chappell', 'Steve Stricker', 'William McGirt', 'Henrik Stenson', 'Robert Streb'] -3.963\n",
      "worse team taken\n"
     ]
    },
    {
     "name": "stderr",
     "output_type": "stream",
     "text": [
      "\r",
      " 10%|▉         | 29/300 [2:17:56<21:32:05, 286.07s/it]"
     ]
    },
    {
     "name": "stdout",
     "output_type": "stream",
     "text": [
      "['Rory McIlroy', 'Kevin Chappell', 'David Lingmerth', 'Ryan Moore', 'Henrik Stenson', 'Robert Streb'] -4.321 ['Rory McIlroy', 'Kevin Chappell', 'David Lingmerth', 'William McGirt', 'Henrik Stenson', 'Robert Streb'] -5.334\n"
     ]
    },
    {
     "name": "stderr",
     "output_type": "stream",
     "text": [
      "\r",
      " 10%|█         | 30/300 [2:22:42<21:27:47, 286.17s/it]"
     ]
    },
    {
     "name": "stdout",
     "output_type": "stream",
     "text": [
      "['Rory McIlroy', 'Kevin Chappell', 'David Lingmerth', 'Ryan Moore', 'Henrik Stenson', 'Steve Stricker'] -5.21 ['Rory McIlroy', 'Kevin Chappell', 'David Lingmerth', 'Ryan Moore', 'Henrik Stenson', 'Robert Streb'] -4.321\n"
     ]
    },
    {
     "name": "stderr",
     "output_type": "stream",
     "text": [
      "\r",
      " 10%|█         | 31/300 [2:27:29<21:23:50, 286.36s/it]"
     ]
    },
    {
     "name": "stdout",
     "output_type": "stream",
     "text": [
      "['Rory McIlroy', 'Kevin Chappell', 'David Lingmerth', 'Ryan Moore', 'Henrik Stenson', 'Louis Oosthuizen'] -3.444 ['Rory McIlroy', 'Kevin Chappell', 'David Lingmerth', 'Ryan Moore', 'Henrik Stenson', 'Robert Streb'] -4.321\n"
     ]
    },
    {
     "name": "stderr",
     "output_type": "stream",
     "text": [
      "\r",
      " 11%|█         | 32/300 [2:32:15<21:18:37, 286.26s/it]"
     ]
    },
    {
     "name": "stdout",
     "output_type": "stream",
     "text": [
      "['Rory McIlroy', 'Kevin Chappell', 'David Lingmerth', 'Ryan Moore', 'Henrik Stenson', 'Bryson DeChambeau'] -4.608 ['Rory McIlroy', 'Kevin Chappell', 'David Lingmerth', 'Ryan Moore', 'Henrik Stenson', 'Louis Oosthuizen'] -3.444\n",
      "worse team taken\n"
     ]
    },
    {
     "name": "stderr",
     "output_type": "stream",
     "text": [
      "\r",
      " 11%|█         | 33/300 [2:37:01<21:13:49, 286.25s/it]"
     ]
    },
    {
     "name": "stdout",
     "output_type": "stream",
     "text": [
      "['Rory McIlroy', 'Padraig Harrington', 'David Lingmerth', 'Ryan Moore', 'Henrik Stenson', 'Bryson DeChambeau'] -3.967 ['Rory McIlroy', 'Kevin Chappell', 'David Lingmerth', 'Ryan Moore', 'Henrik Stenson', 'Bryson DeChambeau'] -4.608\n"
     ]
    },
    {
     "name": "stderr",
     "output_type": "stream",
     "text": [
      "\r",
      " 11%|█▏        | 34/300 [2:41:47<21:08:26, 286.11s/it]"
     ]
    },
    {
     "name": "stdout",
     "output_type": "stream",
     "text": [
      "['Rory McIlroy', 'Padraig Harrington', 'David Lingmerth', 'Graham DeLaet', 'Henrik Stenson', 'Bryson DeChambeau'] -5.745 ['Rory McIlroy', 'Padraig Harrington', 'David Lingmerth', 'Ryan Moore', 'Henrik Stenson', 'Bryson DeChambeau'] -3.967\n",
      "worse team taken\n"
     ]
    },
    {
     "name": "stderr",
     "output_type": "stream",
     "text": [
      "\r",
      " 12%|█▏        | 35/300 [2:46:34<21:04:01, 286.19s/it]"
     ]
    },
    {
     "name": "stdout",
     "output_type": "stream",
     "text": [
      "['Rory McIlroy', 'Kyle Stanley', 'David Lingmerth', 'Graham DeLaet', 'Henrik Stenson', 'Bryson DeChambeau'] -5.002 ['Rory McIlroy', 'Padraig Harrington', 'David Lingmerth', 'Graham DeLaet', 'Henrik Stenson', 'Bryson DeChambeau'] -5.745\n"
     ]
    },
    {
     "name": "stderr",
     "output_type": "stream",
     "text": [
      "\r",
      " 12%|█▏        | 36/300 [2:51:20<20:59:52, 286.34s/it]"
     ]
    },
    {
     "name": "stdout",
     "output_type": "stream",
     "text": [
      "['Rory McIlroy', 'Kyle Stanley', 'Cody Gribble', 'Graham DeLaet', 'Henrik Stenson', 'Bryson DeChambeau'] -4.972 ['Rory McIlroy', 'Kyle Stanley', 'David Lingmerth', 'Graham DeLaet', 'Henrik Stenson', 'Bryson DeChambeau'] -5.002\n"
     ]
    },
    {
     "name": "stderr",
     "output_type": "stream",
     "text": [
      "\r",
      " 12%|█▏        | 37/300 [2:56:05<20:53:19, 285.93s/it]"
     ]
    },
    {
     "name": "stdout",
     "output_type": "stream",
     "text": [
      "['Rory McIlroy', 'Kyle Stanley', 'Cody Gribble', 'Graham DeLaet', 'Henrik Stenson', 'Bryson DeChambeau'] -5.263 ['Rory McIlroy', 'Kyle Stanley', 'Cody Gribble', 'Graham DeLaet', 'Henrik Stenson', 'Bryson DeChambeau'] -4.972\n",
      "worse team taken\n"
     ]
    },
    {
     "name": "stderr",
     "output_type": "stream",
     "text": [
      "\r",
      " 13%|█▎        | 38/300 [3:00:52<20:49:43, 286.20s/it]"
     ]
    },
    {
     "name": "stdout",
     "output_type": "stream",
     "text": [
      "['Rory McIlroy', 'Kyle Stanley', 'Cody Gribble', 'Padraig Harrington', 'Henrik Stenson', 'Bryson DeChambeau'] -3.405 ['Rory McIlroy', 'Kyle Stanley', 'Cody Gribble', 'Graham DeLaet', 'Henrik Stenson', 'Bryson DeChambeau'] -5.263\n"
     ]
    },
    {
     "name": "stderr",
     "output_type": "stream",
     "text": [
      "\r",
      " 13%|█▎        | 39/300 [3:05:39<20:45:25, 286.31s/it]"
     ]
    },
    {
     "name": "stdout",
     "output_type": "stream",
     "text": [
      "['Rory McIlroy', 'Kyle Stanley', 'Cody Gribble', 'Chez Reavie', 'Henrik Stenson', 'Bryson DeChambeau'] -6.764 ['Rory McIlroy', 'Kyle Stanley', 'Cody Gribble', 'Padraig Harrington', 'Henrik Stenson', 'Bryson DeChambeau'] -3.405\n",
      "worse team taken\n"
     ]
    },
    {
     "name": "stderr",
     "output_type": "stream",
     "text": [
      "\r",
      " 13%|█▎        | 40/300 [3:10:24<20:39:18, 285.99s/it]"
     ]
    },
    {
     "name": "stdout",
     "output_type": "stream",
     "text": [
      "['Rory McIlroy', 'Kyle Stanley', 'Cody Gribble', 'Chez Reavie', 'Henrik Stenson', 'Anirban Lahiri'] -7.008 ['Rory McIlroy', 'Kyle Stanley', 'Cody Gribble', 'Chez Reavie', 'Henrik Stenson', 'Bryson DeChambeau'] -6.764\n",
      "worse team taken\n"
     ]
    },
    {
     "name": "stderr",
     "output_type": "stream",
     "text": [
      "\r",
      " 14%|█▎        | 41/300 [3:15:10<20:34:18, 285.94s/it]"
     ]
    },
    {
     "name": "stdout",
     "output_type": "stream",
     "text": [
      "['Rory McIlroy', 'Kyle Stanley', 'Graeme McDowell', 'Chez Reavie', 'Henrik Stenson', 'Anirban Lahiri'] -5.058 ['Rory McIlroy', 'Kyle Stanley', 'Cody Gribble', 'Chez Reavie', 'Henrik Stenson', 'Anirban Lahiri'] -7.008\n"
     ]
    },
    {
     "name": "stderr",
     "output_type": "stream",
     "text": [
      "\r",
      " 14%|█▍        | 42/300 [3:19:56<20:30:21, 286.13s/it]"
     ]
    },
    {
     "name": "stdout",
     "output_type": "stream",
     "text": [
      "['Rory McIlroy', 'Patrick Cantlay', 'Graeme McDowell', 'Chez Reavie', 'Henrik Stenson', 'Anirban Lahiri'] -6.689 ['Rory McIlroy', 'Kyle Stanley', 'Graeme McDowell', 'Chez Reavie', 'Henrik Stenson', 'Anirban Lahiri'] -5.058\n",
      "worse team taken\n"
     ]
    },
    {
     "name": "stderr",
     "output_type": "stream",
     "text": [
      "\r",
      " 14%|█▍        | 43/300 [3:24:42<20:24:54, 285.97s/it]"
     ]
    },
    {
     "name": "stdout",
     "output_type": "stream",
     "text": [
      "['Rory McIlroy', 'Patrick Cantlay', 'Graeme McDowell', 'Chez Reavie', 'Henrik Stenson', 'Tyrrell Hatton'] -6.712 ['Rory McIlroy', 'Patrick Cantlay', 'Graeme McDowell', 'Chez Reavie', 'Henrik Stenson', 'Anirban Lahiri'] -6.689\n",
      "worse team taken\n"
     ]
    },
    {
     "name": "stderr",
     "output_type": "stream",
     "text": [
      "\r",
      " 15%|█▍        | 44/300 [3:29:28<20:20:39, 286.09s/it]"
     ]
    },
    {
     "name": "stdout",
     "output_type": "stream",
     "text": [
      "['Rory McIlroy', 'Patrick Cantlay', 'Graeme McDowell', 'Chez Reavie', 'Henrik Stenson', 'Tyrrell Hatton'] -6.74 ['Rory McIlroy', 'Patrick Cantlay', 'Graeme McDowell', 'Chez Reavie', 'Henrik Stenson', 'Tyrrell Hatton'] -6.712\n",
      "worse team taken\n"
     ]
    },
    {
     "name": "stderr",
     "output_type": "stream",
     "text": [
      "\r",
      " 15%|█▌        | 45/300 [3:34:14<20:16:05, 286.14s/it]"
     ]
    },
    {
     "name": "stdout",
     "output_type": "stream",
     "text": [
      "['Rory McIlroy', 'Patrick Cantlay', 'Younghan Song', 'Chez Reavie', 'Henrik Stenson', 'Tyrrell Hatton'] -7.728 ['Rory McIlroy', 'Patrick Cantlay', 'Graeme McDowell', 'Chez Reavie', 'Henrik Stenson', 'Tyrrell Hatton'] -6.74\n",
      "worse team taken\n"
     ]
    },
    {
     "name": "stderr",
     "output_type": "stream",
     "text": [
      "\r",
      " 15%|█▌        | 46/300 [3:39:01<20:12:03, 286.31s/it]"
     ]
    },
    {
     "name": "stdout",
     "output_type": "stream",
     "text": [
      "['Rory McIlroy', 'Patrick Cantlay', 'Younghan Song', 'Branden Grace', 'Henrik Stenson', 'Tyrrell Hatton'] -5.82 ['Rory McIlroy', 'Patrick Cantlay', 'Younghan Song', 'Chez Reavie', 'Henrik Stenson', 'Tyrrell Hatton'] -7.728\n"
     ]
    },
    {
     "name": "stderr",
     "output_type": "stream",
     "text": [
      "\r",
      " 16%|█▌        | 47/300 [3:43:48<20:08:05, 286.51s/it]"
     ]
    },
    {
     "name": "stdout",
     "output_type": "stream",
     "text": [
      "['Rory McIlroy', 'Patrick Cantlay', 'Younghan Song', 'Danny Lee', 'Henrik Stenson', 'Tyrrell Hatton'] -7.48 ['Rory McIlroy', 'Patrick Cantlay', 'Younghan Song', 'Branden Grace', 'Henrik Stenson', 'Tyrrell Hatton'] -5.82\n",
      "worse team taken\n"
     ]
    },
    {
     "name": "stderr",
     "output_type": "stream",
     "text": [
      "\r",
      " 16%|█▌        | 48/300 [3:48:34<20:03:09, 286.47s/it]"
     ]
    },
    {
     "name": "stdout",
     "output_type": "stream",
     "text": [
      "['Rory McIlroy', 'Patrick Cantlay', 'Younghan Song', 'Danny Lee', 'Henrik Stenson', 'Louis Oosthuizen'] -6.471 ['Rory McIlroy', 'Patrick Cantlay', 'Younghan Song', 'Danny Lee', 'Henrik Stenson', 'Tyrrell Hatton'] -7.48\n"
     ]
    },
    {
     "name": "stderr",
     "output_type": "stream",
     "text": [
      "\r",
      " 16%|█▋        | 49/300 [3:53:21<19:58:04, 286.39s/it]"
     ]
    },
    {
     "name": "stdout",
     "output_type": "stream",
     "text": [
      "['Rory McIlroy', 'Patrick Cantlay', 'Younghan Song', 'Anirban Lahiri', 'Henrik Stenson', 'Louis Oosthuizen'] -6.198 ['Rory McIlroy', 'Patrick Cantlay', 'Younghan Song', 'Danny Lee', 'Henrik Stenson', 'Louis Oosthuizen'] -6.471\n"
     ]
    },
    {
     "name": "stderr",
     "output_type": "stream",
     "text": [
      "\r",
      " 17%|█▋        | 50/300 [3:58:08<19:54:04, 286.58s/it]"
     ]
    },
    {
     "name": "stdout",
     "output_type": "stream",
     "text": [
      "['Rory McIlroy', 'Patrick Cantlay', 'Brian Harman', 'Anirban Lahiri', 'Henrik Stenson', 'Louis Oosthuizen'] -2.246 ['Rory McIlroy', 'Patrick Cantlay', 'Younghan Song', 'Anirban Lahiri', 'Henrik Stenson', 'Louis Oosthuizen'] -6.198\n"
     ]
    },
    {
     "name": "stderr",
     "output_type": "stream",
     "text": [
      "\r",
      " 17%|█▋        | 51/300 [4:02:54<19:49:04, 286.52s/it]"
     ]
    },
    {
     "name": "stdout",
     "output_type": "stream",
     "text": [
      "['Rory McIlroy', 'Patrick Cantlay', 'Brian Harman', 'Bud Cauley', 'Henrik Stenson', 'Louis Oosthuizen'] -4.107 ['Rory McIlroy', 'Patrick Cantlay', 'Brian Harman', 'Anirban Lahiri', 'Henrik Stenson', 'Louis Oosthuizen'] -2.246\n",
      "worse team taken\n"
     ]
    },
    {
     "name": "stderr",
     "output_type": "stream",
     "text": [
      "\r",
      " 17%|█▋        | 52/300 [4:07:39<19:42:42, 286.14s/it]"
     ]
    },
    {
     "name": "stdout",
     "output_type": "stream",
     "text": [
      "['Rory McIlroy', 'Patrick Cantlay', 'Brian Harman', 'Jim Furyk', 'Henrik Stenson', 'Louis Oosthuizen'] -4.938 ['Rory McIlroy', 'Patrick Cantlay', 'Brian Harman', 'Bud Cauley', 'Henrik Stenson', 'Louis Oosthuizen'] -4.107\n"
     ]
    },
    {
     "name": "stderr",
     "output_type": "stream",
     "text": [
      "\r",
      " 18%|█▊        | 53/300 [4:12:26<19:38:21, 286.24s/it]"
     ]
    },
    {
     "name": "stdout",
     "output_type": "stream",
     "text": [
      "['Rory McIlroy', 'Patrick Cantlay', 'Brian Harman', 'Tony Finau', 'Henrik Stenson', 'Louis Oosthuizen'] 0.988 ['Rory McIlroy', 'Patrick Cantlay', 'Brian Harman', 'Bud Cauley', 'Henrik Stenson', 'Louis Oosthuizen'] -4.107\n"
     ]
    },
    {
     "name": "stderr",
     "output_type": "stream",
     "text": [
      "\r",
      " 18%|█▊        | 54/300 [4:17:12<19:33:04, 286.12s/it]"
     ]
    },
    {
     "name": "stdout",
     "output_type": "stream",
     "text": [
      "['Rory McIlroy', 'Patrick Cantlay', 'Brian Harman', 'Tony Finau', 'Henrik Stenson', 'Kelly Kraft'] -2.883 ['Rory McIlroy', 'Patrick Cantlay', 'Brian Harman', 'Tony Finau', 'Henrik Stenson', 'Louis Oosthuizen'] 0.988\n"
     ]
    },
    {
     "name": "stderr",
     "output_type": "stream",
     "text": [
      "\r",
      " 18%|█▊        | 55/300 [4:21:57<19:26:58, 285.79s/it]"
     ]
    },
    {
     "name": "stdout",
     "output_type": "stream",
     "text": [
      "['Rory McIlroy', 'Patrick Cantlay', 'Brian Harman', 'Tony Finau', 'Henrik Stenson', 'Steve Stricker'] -2.71 ['Rory McIlroy', 'Patrick Cantlay', 'Brian Harman', 'Tony Finau', 'Henrik Stenson', 'Louis Oosthuizen'] 0.988\n",
      "worse team taken\n"
     ]
    },
    {
     "name": "stderr",
     "output_type": "stream",
     "text": [
      "\r",
      " 19%|█▊        | 56/300 [4:26:43<19:23:02, 286.00s/it]"
     ]
    },
    {
     "name": "stdout",
     "output_type": "stream",
     "text": [
      "['Rory McIlroy', 'Patrick Cantlay', 'Brian Harman', 'Tony Finau', 'Justin Rose', 'Steve Stricker'] -0.746 ['Rory McIlroy', 'Patrick Cantlay', 'Brian Harman', 'Tony Finau', 'Henrik Stenson', 'Steve Stricker'] -2.71\n"
     ]
    },
    {
     "name": "stderr",
     "output_type": "stream",
     "text": [
      "\r",
      " 19%|█▉        | 57/300 [4:31:29<19:18:36, 286.08s/it]"
     ]
    },
    {
     "name": "stdout",
     "output_type": "stream",
     "text": [
      "['Rory McIlroy', 'Patrick Cantlay', 'Brian Harman', 'Tony Finau', 'Sergio Garcia', 'Steve Stricker'] 0.409 ['Rory McIlroy', 'Patrick Cantlay', 'Brian Harman', 'Tony Finau', 'Justin Rose', 'Steve Stricker'] -0.746\n"
     ]
    },
    {
     "name": "stderr",
     "output_type": "stream",
     "text": [
      "\r",
      " 19%|█▉        | 58/300 [4:36:16<19:14:18, 286.19s/it]"
     ]
    },
    {
     "name": "stdout",
     "output_type": "stream",
     "text": [
      "['Rory McIlroy', 'Patrick Cantlay', 'Alexander Noren', 'Tony Finau', 'Sergio Garcia', 'Steve Stricker'] 2.274 ['Rory McIlroy', 'Patrick Cantlay', 'Brian Harman', 'Tony Finau', 'Sergio Garcia', 'Steve Stricker'] 0.409\n"
     ]
    },
    {
     "name": "stderr",
     "output_type": "stream",
     "text": [
      "\r",
      " 20%|█▉        | 59/300 [4:41:02<19:09:17, 286.13s/it]"
     ]
    },
    {
     "name": "stdout",
     "output_type": "stream",
     "text": [
      "['Rory McIlroy', 'Patrick Cantlay', 'Alexander Noren', 'Tony Finau', 'Phil Mickelson', 'Steve Stricker'] -0.569 ['Rory McIlroy', 'Patrick Cantlay', 'Alexander Noren', 'Tony Finau', 'Sergio Garcia', 'Steve Stricker'] 2.274\n",
      "worse team taken\n"
     ]
    },
    {
     "name": "stderr",
     "output_type": "stream",
     "text": [
      "\r",
      " 20%|██        | 60/300 [4:45:48<19:04:33, 286.14s/it]"
     ]
    },
    {
     "name": "stdout",
     "output_type": "stream",
     "text": [
      "['Rory McIlroy', 'Patrick Cantlay', 'Tommy Fleetwood', 'Tony Finau', 'Phil Mickelson', 'Steve Stricker'] 8.443 ['Rory McIlroy', 'Patrick Cantlay', 'Alexander Noren', 'Tony Finau', 'Phil Mickelson', 'Steve Stricker'] -0.569\n"
     ]
    },
    {
     "name": "stderr",
     "output_type": "stream",
     "text": [
      "\r",
      " 20%|██        | 61/300 [4:50:34<18:59:46, 286.14s/it]"
     ]
    },
    {
     "name": "stdout",
     "output_type": "stream",
     "text": [
      "['Rory McIlroy', 'Patrick Cantlay', 'Tommy Fleetwood', 'Tony Finau', 'Phil Mickelson', 'Ernie Els'] -3.229 ['Rory McIlroy', 'Patrick Cantlay', 'Tommy Fleetwood', 'Tony Finau', 'Phil Mickelson', 'Steve Stricker'] 8.443\n",
      "worse team taken\n"
     ]
    },
    {
     "name": "stderr",
     "output_type": "stream",
     "text": [
      "\r",
      " 21%|██        | 62/300 [4:55:20<18:55:05, 286.16s/it]"
     ]
    },
    {
     "name": "stdout",
     "output_type": "stream",
     "text": [
      "['Rory McIlroy', 'Patrick Cantlay', 'Tommy Fleetwood', 'Luke Donald', 'Phil Mickelson', 'Ernie Els'] -5.756 ['Rory McIlroy', 'Patrick Cantlay', 'Tommy Fleetwood', 'Tony Finau', 'Phil Mickelson', 'Ernie Els'] -3.229\n",
      "worse team taken\n"
     ]
    },
    {
     "name": "stderr",
     "output_type": "stream",
     "text": [
      "\r",
      " 21%|██        | 63/300 [5:00:06<18:50:02, 286.09s/it]"
     ]
    },
    {
     "name": "stdout",
     "output_type": "stream",
     "text": [
      "['Rory McIlroy', 'Patrick Cantlay', 'Tommy Fleetwood', 'Luke Donald', 'Phil Mickelson', 'Ernie Els'] -5.885 ['Rory McIlroy', 'Patrick Cantlay', 'Tommy Fleetwood', 'Luke Donald', 'Phil Mickelson', 'Ernie Els'] -5.756\n"
     ]
    },
    {
     "name": "stderr",
     "output_type": "stream",
     "text": [
      "\r",
      " 21%|██▏       | 64/300 [5:04:53<18:45:24, 286.12s/it]"
     ]
    },
    {
     "name": "stdout",
     "output_type": "stream",
     "text": [
      "['Rory McIlroy', 'Patrick Cantlay', 'Tommy Fleetwood', 'Luke Donald', 'Phil Mickelson', 'Webb Simpson'] -4.732 ['Rory McIlroy', 'Patrick Cantlay', 'Tommy Fleetwood', 'Luke Donald', 'Phil Mickelson', 'Ernie Els'] -5.756\n"
     ]
    },
    {
     "name": "stderr",
     "output_type": "stream",
     "text": [
      "\r",
      " 22%|██▏       | 65/300 [5:09:39<18:41:01, 286.22s/it]"
     ]
    },
    {
     "name": "stdout",
     "output_type": "stream",
     "text": [
      "['Rory McIlroy', 'Marc Leishman', 'Tommy Fleetwood', 'Luke Donald', 'Phil Mickelson', 'Webb Simpson'] -2.617 ['Rory McIlroy', 'Patrick Cantlay', 'Tommy Fleetwood', 'Luke Donald', 'Phil Mickelson', 'Webb Simpson'] -4.732\n"
     ]
    },
    {
     "name": "stderr",
     "output_type": "stream",
     "text": [
      "\r",
      " 22%|██▏       | 66/300 [5:14:25<18:35:41, 286.08s/it]"
     ]
    },
    {
     "name": "stdout",
     "output_type": "stream",
     "text": [
      "['Rory McIlroy', 'Bernd Wiesberger', 'Tommy Fleetwood', 'Luke Donald', 'Phil Mickelson', 'Webb Simpson'] -4.11 ['Rory McIlroy', 'Marc Leishman', 'Tommy Fleetwood', 'Luke Donald', 'Phil Mickelson', 'Webb Simpson'] -2.617\n",
      "worse team taken\n"
     ]
    },
    {
     "name": "stderr",
     "output_type": "stream",
     "text": [
      "\r",
      " 22%|██▏       | 67/300 [5:19:10<18:30:35, 285.99s/it]"
     ]
    },
    {
     "name": "stdout",
     "output_type": "stream",
     "text": [
      "['Rory McIlroy', 'Bernd Wiesberger', 'Tommy Fleetwood', 'Kyle Stanley', 'Phil Mickelson', 'Webb Simpson'] 7.331 ['Rory McIlroy', 'Bernd Wiesberger', 'Tommy Fleetwood', 'Luke Donald', 'Phil Mickelson', 'Webb Simpson'] -4.11\n"
     ]
    },
    {
     "name": "stderr",
     "output_type": "stream",
     "text": [
      "\r",
      " 23%|██▎       | 68/300 [5:23:56<18:25:11, 285.82s/it]"
     ]
    },
    {
     "name": "stdout",
     "output_type": "stream",
     "text": [
      "['Rory McIlroy', 'Bernd Wiesberger', 'Byeong-Hun An', 'Kyle Stanley', 'Phil Mickelson', 'Webb Simpson'] 3.449 ['Rory McIlroy', 'Bernd Wiesberger', 'Tommy Fleetwood', 'Kyle Stanley', 'Phil Mickelson', 'Webb Simpson'] 7.331\n",
      "worse team taken\n"
     ]
    },
    {
     "name": "stderr",
     "output_type": "stream",
     "text": [
      "\r",
      " 23%|██▎       | 69/300 [5:28:42<18:20:32, 285.85s/it]"
     ]
    },
    {
     "name": "stdout",
     "output_type": "stream",
     "text": [
      "['Rory McIlroy', 'Patrick Cantlay', 'Byeong-Hun An', 'Kyle Stanley', 'Phil Mickelson', 'Webb Simpson'] -2.965 ['Rory McIlroy', 'Bernd Wiesberger', 'Byeong-Hun An', 'Kyle Stanley', 'Phil Mickelson', 'Webb Simpson'] 3.449\n",
      "worse team taken\n"
     ]
    },
    {
     "name": "stderr",
     "output_type": "stream",
     "text": [
      "\r",
      " 23%|██▎       | 70/300 [5:33:28<18:15:46, 285.86s/it]"
     ]
    },
    {
     "name": "stdout",
     "output_type": "stream",
     "text": [
      "['Rory McIlroy', 'Ian Poulter', 'Byeong-Hun An', 'Kyle Stanley', 'Phil Mickelson', 'Webb Simpson'] -1.178 ['Rory McIlroy', 'Patrick Cantlay', 'Byeong-Hun An', 'Kyle Stanley', 'Phil Mickelson', 'Webb Simpson'] -2.965\n"
     ]
    },
    {
     "name": "stderr",
     "output_type": "stream",
     "text": [
      "\r",
      " 24%|██▎       | 71/300 [5:38:13<18:10:53, 285.82s/it]"
     ]
    },
    {
     "name": "stdout",
     "output_type": "stream",
     "text": [
      "['Rory McIlroy', 'Ian Poulter', 'Byeong-Hun An', 'Kyle Stanley', 'Phil Mickelson', 'Charl Schwartzel'] 8.891 ['Rory McIlroy', 'Ian Poulter', 'Byeong-Hun An', 'Kyle Stanley', 'Phil Mickelson', 'Webb Simpson'] -1.178\n"
     ]
    },
    {
     "name": "stderr",
     "output_type": "stream",
     "text": [
      "\r",
      " 24%|██▍       | 72/300 [5:42:59<18:05:30, 285.66s/it]"
     ]
    },
    {
     "name": "stdout",
     "output_type": "stream",
     "text": [
      "['Rory McIlroy', 'Ian Poulter', 'Byeong-Hun An', 'Kyle Stanley', 'Adam Scott', 'Charl Schwartzel'] 17.256 ['Rory McIlroy', 'Ian Poulter', 'Byeong-Hun An', 'Kyle Stanley', 'Phil Mickelson', 'Charl Schwartzel'] 8.891\n"
     ]
    },
    {
     "name": "stderr",
     "output_type": "stream",
     "text": [
      "\r",
      " 24%|██▍       | 73/300 [5:47:44<18:00:42, 285.65s/it]"
     ]
    },
    {
     "name": "stdout",
     "output_type": "stream",
     "text": [
      "['Rory McIlroy', 'Ian Poulter', 'Charley Hoffman', 'Kyle Stanley', 'Adam Scott', 'Charl Schwartzel'] 31.091 ['Rory McIlroy', 'Ian Poulter', 'Byeong-Hun An', 'Kyle Stanley', 'Adam Scott', 'Charl Schwartzel'] 17.256\n"
     ]
    },
    {
     "name": "stderr",
     "output_type": "stream",
     "text": [
      "\r",
      " 25%|██▍       | 74/300 [5:52:30<17:56:06, 285.69s/it]"
     ]
    },
    {
     "name": "stdout",
     "output_type": "stream",
     "text": [
      "['Rory McIlroy', 'Ian Poulter', 'Charley Hoffman', 'Ernie Els', 'Adam Scott', 'Charl Schwartzel'] -0.739 ['Rory McIlroy', 'Ian Poulter', 'Charley Hoffman', 'Kyle Stanley', 'Adam Scott', 'Charl Schwartzel'] 31.091\n",
      "worse team taken\n"
     ]
    },
    {
     "name": "stderr",
     "output_type": "stream",
     "text": [
      "\r",
      " 25%|██▌       | 75/300 [5:57:16<17:51:25, 285.72s/it]"
     ]
    },
    {
     "name": "stdout",
     "output_type": "stream",
     "text": [
      "['Rory McIlroy', 'Ian Poulter', 'Charley Hoffman', 'Billy Horschel', 'Adam Scott', 'Charl Schwartzel'] 3.996 ['Rory McIlroy', 'Ian Poulter', 'Charley Hoffman', 'Ernie Els', 'Adam Scott', 'Charl Schwartzel'] -0.739\n"
     ]
    },
    {
     "name": "stderr",
     "output_type": "stream",
     "text": [
      "\r",
      " 25%|██▌       | 76/300 [6:02:03<17:47:58, 286.07s/it]"
     ]
    },
    {
     "name": "stdout",
     "output_type": "stream",
     "text": [
      "['Rory McIlroy', 'Ian Poulter', 'Charley Hoffman', 'Padraig Harrington', 'Adam Scott', 'Charl Schwartzel'] 4.645 ['Rory McIlroy', 'Ian Poulter', 'Charley Hoffman', 'Billy Horschel', 'Adam Scott', 'Charl Schwartzel'] 3.996\n"
     ]
    },
    {
     "name": "stderr",
     "output_type": "stream",
     "text": [
      "\r",
      " 26%|██▌       | 77/300 [6:06:48<17:42:01, 285.75s/it]"
     ]
    },
    {
     "name": "stdout",
     "output_type": "stream",
     "text": [
      "['Rory McIlroy', 'Luke Donald', 'Charley Hoffman', 'Padraig Harrington', 'Adam Scott', 'Charl Schwartzel'] -0.912 ['Rory McIlroy', 'Ian Poulter', 'Charley Hoffman', 'Padraig Harrington', 'Adam Scott', 'Charl Schwartzel'] 4.645\n",
      "worse team taken\n"
     ]
    },
    {
     "name": "stderr",
     "output_type": "stream",
     "text": [
      "\r",
      " 26%|██▌       | 78/300 [6:11:34<17:37:30, 285.81s/it]"
     ]
    },
    {
     "name": "stdout",
     "output_type": "stream",
     "text": [
      "['Rory McIlroy', 'Luke Donald', 'Bud Cauley', 'Padraig Harrington', 'Adam Scott', 'Charl Schwartzel'] -6.476 ['Rory McIlroy', 'Luke Donald', 'Charley Hoffman', 'Padraig Harrington', 'Adam Scott', 'Charl Schwartzel'] -0.912\n",
      "worse team taken\n"
     ]
    },
    {
     "name": "stderr",
     "output_type": "stream",
     "text": [
      "\r",
      " 26%|██▋       | 79/300 [6:16:19<17:32:15, 285.68s/it]"
     ]
    },
    {
     "name": "stdout",
     "output_type": "stream",
     "text": [
      "['Rory McIlroy', 'Luke Donald', 'Bud Cauley', 'Emiliano Grillo', 'Adam Scott', 'Charl Schwartzel'] -5.583 ['Rory McIlroy', 'Luke Donald', 'Bud Cauley', 'Padraig Harrington', 'Adam Scott', 'Charl Schwartzel'] -6.476\n"
     ]
    },
    {
     "name": "stderr",
     "output_type": "stream",
     "text": [
      "\r",
      " 27%|██▋       | 80/300 [6:21:05<17:28:05, 285.84s/it]"
     ]
    },
    {
     "name": "stdout",
     "output_type": "stream",
     "text": [
      "['Rory McIlroy', 'Luke Donald', 'Younghan Song', 'Emiliano Grillo', 'Adam Scott', 'Charl Schwartzel'] -5.586 ['Rory McIlroy', 'Luke Donald', 'Bud Cauley', 'Emiliano Grillo', 'Adam Scott', 'Charl Schwartzel'] -5.583\n"
     ]
    },
    {
     "name": "stderr",
     "output_type": "stream",
     "text": [
      "\r",
      " 27%|██▋       | 81/300 [6:25:51<17:23:01, 285.76s/it]"
     ]
    },
    {
     "name": "stdout",
     "output_type": "stream",
     "text": [
      "['Rory McIlroy', 'Luke Donald', 'Paul Casey', 'Emiliano Grillo', 'Adam Scott', 'Charl Schwartzel'] 1.664 ['Rory McIlroy', 'Luke Donald', 'Bud Cauley', 'Emiliano Grillo', 'Adam Scott', 'Charl Schwartzel'] -5.583\n"
     ]
    },
    {
     "name": "stderr",
     "output_type": "stream",
     "text": [
      "\r",
      " 27%|██▋       | 82/300 [6:30:37<17:18:11, 285.74s/it]"
     ]
    },
    {
     "name": "stdout",
     "output_type": "stream",
     "text": [
      "['Rory McIlroy', 'Luke Donald', 'Paul Casey', 'Scott Brown', 'Adam Scott', 'Charl Schwartzel'] -5.567 ['Rory McIlroy', 'Luke Donald', 'Paul Casey', 'Emiliano Grillo', 'Adam Scott', 'Charl Schwartzel'] 1.664\n"
     ]
    },
    {
     "name": "stderr",
     "output_type": "stream",
     "text": [
      "\r",
      " 28%|██▊       | 83/300 [6:35:23<17:13:51, 285.86s/it]"
     ]
    },
    {
     "name": "stdout",
     "output_type": "stream",
     "text": [
      "['Rory McIlroy', 'Luke Donald', 'Paul Casey', 'Emiliano Grillo', 'Adam Scott', 'J.B. Holmes'] 1.444 ['Rory McIlroy', 'Luke Donald', 'Paul Casey', 'Emiliano Grillo', 'Adam Scott', 'Charl Schwartzel'] 1.664\n"
     ]
    },
    {
     "name": "stderr",
     "output_type": "stream",
     "text": [
      "\r",
      " 28%|██▊       | 84/300 [6:40:09<17:08:59, 285.83s/it]"
     ]
    },
    {
     "name": "stdout",
     "output_type": "stream",
     "text": [
      "['Rory McIlroy', 'Luke Donald', 'Paul Casey', 'Emiliano Grillo', 'Adam Scott', 'Hudson Swafford'] 1.243 ['Rory McIlroy', 'Luke Donald', 'Paul Casey', 'Emiliano Grillo', 'Adam Scott', 'Charl Schwartzel'] 1.664\n",
      "worse team taken\n"
     ]
    },
    {
     "name": "stderr",
     "output_type": "stream",
     "text": [
      "\r",
      " 28%|██▊       | 85/300 [6:44:55<17:04:27, 285.90s/it]"
     ]
    },
    {
     "name": "stdout",
     "output_type": "stream",
     "text": [
      "['Rory McIlroy', 'Luke Donald', 'Paul Casey', 'Jim Furyk', 'Adam Scott', 'Hudson Swafford'] -6.09 ['Rory McIlroy', 'Luke Donald', 'Paul Casey', 'Emiliano Grillo', 'Adam Scott', 'Hudson Swafford'] 1.243\n"
     ]
    },
    {
     "name": "stderr",
     "output_type": "stream",
     "text": [
      "\r",
      " 29%|██▊       | 86/300 [6:49:39<16:58:20, 285.52s/it]"
     ]
    },
    {
     "name": "stdout",
     "output_type": "stream",
     "text": [
      "['Rory McIlroy', 'Luke Donald', 'Paul Casey', 'Brendan Steele', 'Adam Scott', 'Hudson Swafford'] 0.843 ['Rory McIlroy', 'Luke Donald', 'Paul Casey', 'Emiliano Grillo', 'Adam Scott', 'Hudson Swafford'] 1.243\n",
      "worse team taken\n"
     ]
    },
    {
     "name": "stderr",
     "output_type": "stream",
     "text": [
      "\r",
      " 29%|██▉       | 87/300 [6:54:25<16:53:41, 285.55s/it]"
     ]
    },
    {
     "name": "stdout",
     "output_type": "stream",
     "text": [
      "['Rory McIlroy', 'Luke Donald', 'Paul Casey', 'Charl Schwartzel', 'Adam Scott', 'Hudson Swafford'] -1.302 ['Rory McIlroy', 'Luke Donald', 'Paul Casey', 'Brendan Steele', 'Adam Scott', 'Hudson Swafford'] 0.843\n"
     ]
    },
    {
     "name": "stderr",
     "output_type": "stream",
     "text": [
      "\r",
      " 29%|██▉       | 88/300 [6:59:11<16:49:13, 285.63s/it]"
     ]
    },
    {
     "name": "stdout",
     "output_type": "stream",
     "text": [
      "['Rory McIlroy', 'Luke Donald', 'Paul Casey', 'Brendan Steele', 'Adam Scott', 'Bill Haas'] -3.393 ['Rory McIlroy', 'Luke Donald', 'Paul Casey', 'Brendan Steele', 'Adam Scott', 'Hudson Swafford'] 0.843\n",
      "worse team taken\n"
     ]
    },
    {
     "name": "stderr",
     "output_type": "stream",
     "text": [
      "\r",
      " 30%|██▉       | 89/300 [7:03:57<16:45:00, 285.78s/it]"
     ]
    },
    {
     "name": "stdout",
     "output_type": "stream",
     "text": [
      "['Rory McIlroy', 'Luke Donald', 'Paul Casey', 'Brendan Steele', 'Adam Scott', 'Hideto Tanihara'] -4.57 ['Rory McIlroy', 'Luke Donald', 'Paul Casey', 'Brendan Steele', 'Adam Scott', 'Bill Haas'] -3.393\n"
     ]
    },
    {
     "name": "stderr",
     "output_type": "stream",
     "text": [
      "\r",
      " 30%|███       | 90/300 [7:08:42<16:40:04, 285.73s/it]"
     ]
    },
    {
     "name": "stdout",
     "output_type": "stream",
     "text": [
      "['Rory McIlroy', 'Luke Donald', 'Paul Casey', 'Thorbjorn Olesen', 'Adam Scott', 'Bill Haas'] -4.253 ['Rory McIlroy', 'Luke Donald', 'Paul Casey', 'Brendan Steele', 'Adam Scott', 'Bill Haas'] -3.393\n",
      "worse team taken\n"
     ]
    },
    {
     "name": "stderr",
     "output_type": "stream",
     "text": [
      "\r",
      " 30%|███       | 91/300 [7:13:29<16:36:11, 285.99s/it]"
     ]
    },
    {
     "name": "stdout",
     "output_type": "stream",
     "text": [
      "['Rory McIlroy', 'Cody Gribble', 'Paul Casey', 'Thorbjorn Olesen', 'Adam Scott', 'Bill Haas'] -3.265 ['Rory McIlroy', 'Luke Donald', 'Paul Casey', 'Thorbjorn Olesen', 'Adam Scott', 'Bill Haas'] -4.253\n"
     ]
    },
    {
     "name": "stderr",
     "output_type": "stream",
     "text": [
      "\r",
      " 31%|███       | 92/300 [7:18:15<16:31:50, 286.11s/it]"
     ]
    },
    {
     "name": "stdout",
     "output_type": "stream",
     "text": [
      "['Rory McIlroy', 'Cody Gribble', 'Paul Casey', 'Thorbjorn Olesen', 'Adam Scott', 'Kevin Chappell'] -1.835 ['Rory McIlroy', 'Cody Gribble', 'Paul Casey', 'Thorbjorn Olesen', 'Adam Scott', 'Bill Haas'] -3.265\n"
     ]
    },
    {
     "name": "stderr",
     "output_type": "stream",
     "text": [
      "\r",
      " 31%|███       | 93/300 [7:23:02<16:27:26, 286.21s/it]"
     ]
    },
    {
     "name": "stdout",
     "output_type": "stream",
     "text": [
      "['Rory McIlroy', 'Jason Dufner', 'Paul Casey', 'Thorbjorn Olesen', 'Adam Scott', 'Kevin Chappell'] -0.405 ['Rory McIlroy', 'Cody Gribble', 'Paul Casey', 'Thorbjorn Olesen', 'Adam Scott', 'Kevin Chappell'] -1.835\n"
     ]
    },
    {
     "name": "stderr",
     "output_type": "stream",
     "text": [
      "\r",
      " 31%|███▏      | 94/300 [7:27:48<16:22:43, 286.23s/it]"
     ]
    },
    {
     "name": "stdout",
     "output_type": "stream",
     "text": [
      "['Rory McIlroy', 'Jamie Lovemark', 'Paul Casey', 'Thorbjorn Olesen', 'Adam Scott', 'Kevin Chappell'] 5.474 ['Rory McIlroy', 'Jason Dufner', 'Paul Casey', 'Thorbjorn Olesen', 'Adam Scott', 'Kevin Chappell'] -0.405\n"
     ]
    },
    {
     "name": "stderr",
     "output_type": "stream",
     "text": [
      "\r",
      " 32%|███▏      | 95/300 [7:32:33<16:16:54, 285.92s/it]"
     ]
    },
    {
     "name": "stdout",
     "output_type": "stream",
     "text": [
      "['Rory McIlroy', 'Tyrrell Hatton', 'Paul Casey', 'Thorbjorn Olesen', 'Adam Scott', 'Kevin Chappell'] -2.0 ['Rory McIlroy', 'Jamie Lovemark', 'Paul Casey', 'Thorbjorn Olesen', 'Adam Scott', 'Kevin Chappell'] 5.474\n",
      "worse team taken\n"
     ]
    },
    {
     "name": "stderr",
     "output_type": "stream",
     "text": [
      "\r",
      " 32%|███▏      | 96/300 [7:37:20<16:12:40, 286.08s/it]"
     ]
    },
    {
     "name": "stdout",
     "output_type": "stream",
     "text": [
      "['Rory McIlroy', 'Tyrrell Hatton', 'Paul Casey', 'Thorbjorn Olesen', 'Adam Scott', 'Jason Kokrak'] 0.995 ['Rory McIlroy', 'Tyrrell Hatton', 'Paul Casey', 'Thorbjorn Olesen', 'Adam Scott', 'Kevin Chappell'] -2.0\n"
     ]
    },
    {
     "name": "stderr",
     "output_type": "stream",
     "text": [
      "\r",
      " 32%|███▏      | 97/300 [7:42:06<16:07:37, 286.00s/it]"
     ]
    },
    {
     "name": "stdout",
     "output_type": "stream",
     "text": [
      "['Rory McIlroy', 'Tyrrell Hatton', 'Paul Casey', 'Thorbjorn Olesen', 'Adam Scott', 'Jim Herman'] -5.494 ['Rory McIlroy', 'Tyrrell Hatton', 'Paul Casey', 'Thorbjorn Olesen', 'Adam Scott', 'Jason Kokrak'] 0.995\n"
     ]
    },
    {
     "name": "stderr",
     "output_type": "stream",
     "text": [
      "\r",
      " 33%|███▎      | 98/300 [7:46:52<16:03:38, 286.23s/it]"
     ]
    },
    {
     "name": "stdout",
     "output_type": "stream",
     "text": [
      "['Rory McIlroy', 'Tyrrell Hatton', 'Paul Casey', 'Thorbjorn Olesen', 'Adam Scott', 'Daniel Summerhays'] -5.089 ['Rory McIlroy', 'Tyrrell Hatton', 'Paul Casey', 'Thorbjorn Olesen', 'Adam Scott', 'Jason Kokrak'] 0.995\n",
      "worse team taken\n"
     ]
    },
    {
     "name": "stderr",
     "output_type": "stream",
     "text": [
      "\r",
      " 33%|███▎      | 99/300 [7:51:39<15:58:50, 286.22s/it]"
     ]
    },
    {
     "name": "stdout",
     "output_type": "stream",
     "text": [
      "['Rory McIlroy', 'Tyrrell Hatton', 'Paul Casey', 'Thorbjorn Olesen', 'Adam Scott', 'Marc Leishman'] 0.732 ['Rory McIlroy', 'Tyrrell Hatton', 'Paul Casey', 'Thorbjorn Olesen', 'Adam Scott', 'Daniel Summerhays'] -5.089\n"
     ]
    },
    {
     "name": "stderr",
     "output_type": "stream",
     "text": [
      "\r",
      " 33%|███▎      | 100/300 [7:56:25<15:54:14, 286.27s/it]"
     ]
    },
    {
     "name": "stdout",
     "output_type": "stream",
     "text": [
      "['Rory McIlroy', 'Tyrrell Hatton', 'Paul Casey', 'Bryson DeChambeau', 'Adam Scott', 'Marc Leishman'] -0.808 ['Rory McIlroy', 'Tyrrell Hatton', 'Paul Casey', 'Thorbjorn Olesen', 'Adam Scott', 'Marc Leishman'] 0.732\n",
      "worse team taken\n"
     ]
    },
    {
     "name": "stderr",
     "output_type": "stream",
     "text": [
      "\r",
      " 34%|███▎      | 101/300 [8:01:11<15:49:12, 286.19s/it]"
     ]
    },
    {
     "name": "stdout",
     "output_type": "stream",
     "text": [
      "['Dustin Johnson', 'Tyrrell Hatton', 'Paul Casey', 'Bryson DeChambeau', 'Adam Scott', 'Marc Leishman'] 0.681 ['Rory McIlroy', 'Tyrrell Hatton', 'Paul Casey', 'Bryson DeChambeau', 'Adam Scott', 'Marc Leishman'] -0.808\n"
     ]
    },
    {
     "name": "stderr",
     "output_type": "stream",
     "text": [
      "\r",
      " 34%|███▍      | 102/300 [8:05:57<15:44:26, 286.19s/it]"
     ]
    },
    {
     "name": "stdout",
     "output_type": "stream",
     "text": [
      "['Dustin Johnson', 'Tyrrell Hatton', 'Paul Casey', 'Bryson DeChambeau', 'Adam Scott', 'Daniel Berger'] 1.632 ['Dustin Johnson', 'Tyrrell Hatton', 'Paul Casey', 'Bryson DeChambeau', 'Adam Scott', 'Marc Leishman'] 0.681\n"
     ]
    },
    {
     "name": "stderr",
     "output_type": "stream",
     "text": [
      "\r",
      " 34%|███▍      | 103/300 [8:10:43<15:39:49, 286.24s/it]"
     ]
    },
    {
     "name": "stdout",
     "output_type": "stream",
     "text": [
      "['Dustin Johnson', 'Tyrrell Hatton', 'Branden Grace', 'Bryson DeChambeau', 'Adam Scott', 'Daniel Berger'] -0.53 ['Dustin Johnson', 'Tyrrell Hatton', 'Paul Casey', 'Bryson DeChambeau', 'Adam Scott', 'Daniel Berger'] 1.632\n"
     ]
    },
    {
     "name": "stderr",
     "output_type": "stream",
     "text": [
      "\r",
      " 35%|███▍      | 104/300 [8:15:30<15:34:59, 286.22s/it]"
     ]
    },
    {
     "name": "stdout",
     "output_type": "stream",
     "text": [
      "['Dustin Johnson', 'Tyrrell Hatton', 'Matthew Fitzpatrick', 'Bryson DeChambeau', 'Adam Scott', 'Daniel Berger'] 0.346 ['Dustin Johnson', 'Tyrrell Hatton', 'Paul Casey', 'Bryson DeChambeau', 'Adam Scott', 'Daniel Berger'] 1.632\n"
     ]
    },
    {
     "name": "stderr",
     "output_type": "stream",
     "text": [
      "\r",
      " 35%|███▌      | 105/300 [8:20:16<15:30:36, 286.34s/it]"
     ]
    },
    {
     "name": "stdout",
     "output_type": "stream",
     "text": [
      "['Dustin Johnson', 'Tyrrell Hatton', 'Thomas Pieters', 'Bryson DeChambeau', 'Adam Scott', 'Daniel Berger'] 6.26 ['Dustin Johnson', 'Tyrrell Hatton', 'Paul Casey', 'Bryson DeChambeau', 'Adam Scott', 'Daniel Berger'] 1.632\n"
     ]
    },
    {
     "name": "stderr",
     "output_type": "stream",
     "text": [
      "\r",
      " 35%|███▌      | 106/300 [8:25:02<15:25:23, 286.21s/it]"
     ]
    },
    {
     "name": "stdout",
     "output_type": "stream",
     "text": [
      "['Rory McIlroy', 'Tyrrell Hatton', 'Thomas Pieters', 'Bryson DeChambeau', 'Adam Scott', 'Daniel Berger'] -1.645 ['Dustin Johnson', 'Tyrrell Hatton', 'Thomas Pieters', 'Bryson DeChambeau', 'Adam Scott', 'Daniel Berger'] 6.26\n"
     ]
    },
    {
     "name": "stderr",
     "output_type": "stream",
     "text": [
      "\r",
      " 36%|███▌      | 107/300 [8:29:48<15:20:30, 286.17s/it]"
     ]
    },
    {
     "name": "stdout",
     "output_type": "stream",
     "text": [
      "['Dustin Johnson', 'Tyrrell Hatton', 'Francesco Molinari', 'Bryson DeChambeau', 'Adam Scott', 'Daniel Berger'] -5.579 ['Dustin Johnson', 'Tyrrell Hatton', 'Thomas Pieters', 'Bryson DeChambeau', 'Adam Scott', 'Daniel Berger'] 6.26\n"
     ]
    },
    {
     "name": "stderr",
     "output_type": "stream",
     "text": [
      "\r",
      " 36%|███▌      | 108/300 [8:34:34<15:15:24, 286.07s/it]"
     ]
    },
    {
     "name": "stdout",
     "output_type": "stream",
     "text": [
      "['Dustin Johnson', 'Ryan Moore', 'Thomas Pieters', 'Bryson DeChambeau', 'Adam Scott', 'Daniel Berger'] 9.06 ['Dustin Johnson', 'Tyrrell Hatton', 'Thomas Pieters', 'Bryson DeChambeau', 'Adam Scott', 'Daniel Berger'] 6.26\n"
     ]
    },
    {
     "name": "stderr",
     "output_type": "stream",
     "text": [
      "\r",
      " 36%|███▋      | 109/300 [8:39:20<15:10:24, 285.99s/it]"
     ]
    },
    {
     "name": "stdout",
     "output_type": "stream",
     "text": [
      "['Dustin Johnson', 'Ryan Moore', 'Thomas Pieters', 'Bryson DeChambeau', 'Adam Scott', 'Younghan Song'] -3.87 ['Dustin Johnson', 'Ryan Moore', 'Thomas Pieters', 'Bryson DeChambeau', 'Adam Scott', 'Daniel Berger'] 9.06\n",
      "worse team taken\n"
     ]
    },
    {
     "name": "stderr",
     "output_type": "stream",
     "text": [
      "\r",
      " 37%|███▋      | 110/300 [8:44:06<15:06:03, 286.12s/it]"
     ]
    },
    {
     "name": "stdout",
     "output_type": "stream",
     "text": [
      "['Dustin Johnson', 'Ryan Moore', 'Thomas Pieters', 'Kevin Chappell', 'Adam Scott', 'Younghan Song'] -2.306 ['Dustin Johnson', 'Ryan Moore', 'Thomas Pieters', 'Bryson DeChambeau', 'Adam Scott', 'Younghan Song'] -3.87\n"
     ]
    },
    {
     "name": "stderr",
     "output_type": "stream",
     "text": [
      "\r",
      " 37%|███▋      | 111/300 [8:48:53<15:01:41, 286.25s/it]"
     ]
    },
    {
     "name": "stdout",
     "output_type": "stream",
     "text": [
      "['Dustin Johnson', 'Ryan Moore', 'Thomas Pieters', 'Anirban Lahiri', 'Adam Scott', 'Younghan Song'] -4.721 ['Dustin Johnson', 'Ryan Moore', 'Thomas Pieters', 'Kevin Chappell', 'Adam Scott', 'Younghan Song'] -2.306\n",
      "worse team taken\n"
     ]
    },
    {
     "name": "stderr",
     "output_type": "stream",
     "text": [
      "\r",
      " 37%|███▋      | 112/300 [8:53:39<14:56:45, 286.20s/it]"
     ]
    },
    {
     "name": "stdout",
     "output_type": "stream",
     "text": [
      "['Dustin Johnson', 'Ryan Moore', 'Thomas Pieters', 'Anirban Lahiri', 'Adam Scott', 'Steve Stricker'] -2.917 ['Dustin Johnson', 'Ryan Moore', 'Thomas Pieters', 'Anirban Lahiri', 'Adam Scott', 'Younghan Song'] -4.721\n"
     ]
    },
    {
     "name": "stderr",
     "output_type": "stream",
     "text": [
      "\r",
      " 38%|███▊      | 113/300 [8:58:25<14:51:46, 286.13s/it]"
     ]
    },
    {
     "name": "stdout",
     "output_type": "stream",
     "text": [
      "['Dustin Johnson', 'Ryan Moore', 'Thomas Pieters', 'Anirban Lahiri', 'Adam Scott', 'Scott Brown'] -5.009 ['Dustin Johnson', 'Ryan Moore', 'Thomas Pieters', 'Anirban Lahiri', 'Adam Scott', 'Steve Stricker'] -2.917\n",
      "worse team taken\n"
     ]
    },
    {
     "name": "stderr",
     "output_type": "stream",
     "text": [
      "\r",
      " 38%|███▊      | 114/300 [9:03:11<14:46:54, 286.10s/it]"
     ]
    },
    {
     "name": "stdout",
     "output_type": "stream",
     "text": [
      "['Dustin Johnson', 'Ryan Moore', 'Thomas Pieters', 'Anirban Lahiri', 'Adam Scott', 'Hudson Swafford'] 0.987 ['Dustin Johnson', 'Ryan Moore', 'Thomas Pieters', 'Anirban Lahiri', 'Adam Scott', 'Scott Brown'] -5.009\n"
     ]
    },
    {
     "name": "stderr",
     "output_type": "stream",
     "text": [
      "\r",
      " 38%|███▊      | 115/300 [9:07:56<14:41:05, 285.76s/it]"
     ]
    },
    {
     "name": "stdout",
     "output_type": "stream",
     "text": [
      "['Dustin Johnson', 'Patrick Cantlay', 'Thomas Pieters', 'Anirban Lahiri', 'Adam Scott', 'Hudson Swafford'] -1.975 ['Dustin Johnson', 'Ryan Moore', 'Thomas Pieters', 'Anirban Lahiri', 'Adam Scott', 'Hudson Swafford'] 0.987\n",
      "worse team taken\n"
     ]
    },
    {
     "name": "stderr",
     "output_type": "stream",
     "text": [
      "\r",
      " 39%|███▊      | 116/300 [9:12:42<14:36:16, 285.74s/it]"
     ]
    },
    {
     "name": "stdout",
     "output_type": "stream",
     "text": [
      "['Dustin Johnson', 'Patrick Cantlay', 'Thomas Pieters', 'Anirban Lahiri', 'Adam Scott', 'Kevin Na'] -4.794 ['Dustin Johnson', 'Patrick Cantlay', 'Thomas Pieters', 'Anirban Lahiri', 'Adam Scott', 'Hudson Swafford'] -1.975\n"
     ]
    },
    {
     "name": "stderr",
     "output_type": "stream",
     "text": [
      "\r",
      " 39%|███▉      | 117/300 [9:17:27<14:31:17, 285.67s/it]"
     ]
    },
    {
     "name": "stdout",
     "output_type": "stream",
     "text": [
      "['Dustin Johnson', 'Patrick Cantlay', 'Thomas Pieters', 'Anirban Lahiri', 'Adam Scott', 'Kevin Kisner'] -1.965 ['Dustin Johnson', 'Patrick Cantlay', 'Thomas Pieters', 'Anirban Lahiri', 'Adam Scott', 'Hudson Swafford'] -1.975\n"
     ]
    },
    {
     "name": "stderr",
     "output_type": "stream",
     "text": [
      "\r",
      " 39%|███▉      | 118/300 [9:22:13<14:26:40, 285.72s/it]"
     ]
    },
    {
     "name": "stdout",
     "output_type": "stream",
     "text": [
      "['Dustin Johnson', 'Patrick Cantlay', 'Thomas Pieters', 'Anirban Lahiri', 'Matt Kuchar', 'Kevin Kisner'] 2.264 ['Dustin Johnson', 'Patrick Cantlay', 'Thomas Pieters', 'Anirban Lahiri', 'Adam Scott', 'Kevin Kisner'] -1.965\n"
     ]
    },
    {
     "name": "stderr",
     "output_type": "stream",
     "text": [
      "\r",
      " 40%|███▉      | 119/300 [9:26:58<14:20:51, 285.37s/it]"
     ]
    },
    {
     "name": "stdout",
     "output_type": "stream",
     "text": [
      "['Dustin Johnson', 'Patrick Cantlay', 'Thomas Pieters', 'Anirban Lahiri', 'Matt Kuchar', 'Hideto Tanihara'] -3.6 ['Dustin Johnson', 'Patrick Cantlay', 'Thomas Pieters', 'Anirban Lahiri', 'Matt Kuchar', 'Kevin Kisner'] 2.264\n",
      "worse team taken\n"
     ]
    },
    {
     "name": "stderr",
     "output_type": "stream",
     "text": [
      "\r",
      " 40%|████      | 120/300 [9:31:44<14:17:00, 285.67s/it]"
     ]
    },
    {
     "name": "stdout",
     "output_type": "stream",
     "text": [
      "['Dustin Johnson', 'Patrick Cantlay', 'Branden Grace', 'Anirban Lahiri', 'Matt Kuchar', 'Hideto Tanihara'] -3.736 ['Dustin Johnson', 'Patrick Cantlay', 'Thomas Pieters', 'Anirban Lahiri', 'Matt Kuchar', 'Hideto Tanihara'] -3.6\n",
      "worse team taken\n"
     ]
    },
    {
     "name": "stderr",
     "output_type": "stream",
     "text": [
      "\r",
      " 40%|████      | 121/300 [9:36:30<14:12:24, 285.72s/it]"
     ]
    },
    {
     "name": "stdout",
     "output_type": "stream",
     "text": [
      "['Dustin Johnson', 'Patrick Cantlay', 'Branden Grace', 'Anirban Lahiri', 'Matt Kuchar', 'Charl Schwartzel'] 2.348 ['Dustin Johnson', 'Patrick Cantlay', 'Branden Grace', 'Anirban Lahiri', 'Matt Kuchar', 'Hideto Tanihara'] -3.736\n"
     ]
    },
    {
     "name": "stderr",
     "output_type": "stream",
     "text": [
      "\r",
      " 41%|████      | 122/300 [9:41:15<14:06:55, 285.48s/it]"
     ]
    },
    {
     "name": "stdout",
     "output_type": "stream",
     "text": [
      "['Dustin Johnson', 'Patrick Cantlay', 'Branden Grace', 'Anirban Lahiri', 'Matt Kuchar', 'Jonas Blixt'] -4.839 ['Dustin Johnson', 'Patrick Cantlay', 'Branden Grace', 'Anirban Lahiri', 'Matt Kuchar', 'Charl Schwartzel'] 2.348\n"
     ]
    },
    {
     "name": "stderr",
     "output_type": "stream",
     "text": [
      "\r",
      " 41%|████      | 123/300 [9:46:01<14:02:33, 285.61s/it]"
     ]
    },
    {
     "name": "stdout",
     "output_type": "stream",
     "text": [
      "['Dustin Johnson', 'Patrick Cantlay', 'Branden Grace', 'Anirban Lahiri', 'Matt Kuchar', 'Wesley Bryan'] -2.74 ['Dustin Johnson', 'Patrick Cantlay', 'Branden Grace', 'Anirban Lahiri', 'Matt Kuchar', 'Charl Schwartzel'] 2.348\n"
     ]
    },
    {
     "name": "stderr",
     "output_type": "stream",
     "text": [
      "\r",
      " 41%|████▏     | 124/300 [9:50:46<13:58:02, 285.70s/it]"
     ]
    },
    {
     "name": "stdout",
     "output_type": "stream",
     "text": [
      "['Dustin Johnson', 'Patrick Cantlay', 'Branden Grace', 'Jason Kokrak', 'Matt Kuchar', 'Charl Schwartzel'] 27.29 ['Dustin Johnson', 'Patrick Cantlay', 'Branden Grace', 'Anirban Lahiri', 'Matt Kuchar', 'Charl Schwartzel'] 2.348\n"
     ]
    },
    {
     "name": "stderr",
     "output_type": "stream",
     "text": [
      "\r",
      " 42%|████▏     | 125/300 [9:55:33<13:54:05, 285.98s/it]"
     ]
    },
    {
     "name": "stdout",
     "output_type": "stream",
     "text": [
      "['Dustin Johnson', 'Patrick Cantlay', 'Branden Grace', 'Jason Kokrak', 'Matt Kuchar', 'Jordan L. Smith'] -4.891 ['Dustin Johnson', 'Patrick Cantlay', 'Branden Grace', 'Jason Kokrak', 'Matt Kuchar', 'Charl Schwartzel'] 27.29\n"
     ]
    },
    {
     "name": "stderr",
     "output_type": "stream",
     "text": [
      "\r",
      " 42%|████▏     | 126/300 [10:00:19<13:49:12, 285.94s/it]"
     ]
    },
    {
     "name": "stdout",
     "output_type": "stream",
     "text": [
      "['Dustin Johnson', 'Patrick Cantlay', 'Branden Grace', 'Jason Kokrak', 'Matt Kuchar', 'Graham DeLaet'] -1.966 ['Dustin Johnson', 'Patrick Cantlay', 'Branden Grace', 'Jason Kokrak', 'Matt Kuchar', 'Charl Schwartzel'] 27.29\n"
     ]
    },
    {
     "name": "stderr",
     "output_type": "stream",
     "text": [
      "\r",
      " 42%|████▏     | 127/300 [10:05:07<13:46:15, 286.56s/it]"
     ]
    },
    {
     "name": "stdout",
     "output_type": "stream",
     "text": [
      "['Dustin Johnson', 'Tony Finau', 'Branden Grace', 'Jason Kokrak', 'Matt Kuchar', 'Charl Schwartzel'] 4.47 ['Dustin Johnson', 'Patrick Cantlay', 'Branden Grace', 'Jason Kokrak', 'Matt Kuchar', 'Charl Schwartzel'] 27.29\n",
      "worse team taken\n"
     ]
    },
    {
     "name": "stderr",
     "output_type": "stream",
     "text": [
      "\r",
      " 43%|████▎     | 128/300 [10:09:52<13:40:32, 286.24s/it]"
     ]
    },
    {
     "name": "stdout",
     "output_type": "stream",
     "text": [
      "['Dustin Johnson', 'Tony Finau', 'Branden Grace', 'Gary Woodland', 'Matt Kuchar', 'Charl Schwartzel'] 4.832 ['Dustin Johnson', 'Tony Finau', 'Branden Grace', 'Jason Kokrak', 'Matt Kuchar', 'Charl Schwartzel'] 4.47\n"
     ]
    },
    {
     "name": "stderr",
     "output_type": "stream",
     "text": [
      "\r",
      " 43%|████▎     | 129/300 [10:14:33<13:30:42, 284.46s/it]"
     ]
    },
    {
     "name": "stdout",
     "output_type": "stream",
     "text": [
      "['Dustin Johnson', 'Tony Finau', 'Branden Grace', 'David Toms', 'Matt Kuchar', 'Charl Schwartzel'] -1.268 ['Dustin Johnson', 'Tony Finau', 'Branden Grace', 'Gary Woodland', 'Matt Kuchar', 'Charl Schwartzel'] 4.832\n"
     ]
    },
    {
     "name": "stderr",
     "output_type": "stream",
     "text": [
      "\r",
      " 43%|████▎     | 130/300 [10:19:14<13:23:17, 283.52s/it]"
     ]
    },
    {
     "name": "stdout",
     "output_type": "stream",
     "text": [
      "['Dustin Johnson', 'Tony Finau', 'Branden Grace', 'Gary Woodland', 'Matt Kuchar', 'Jason Dufner'] -2.462 ['Dustin Johnson', 'Tony Finau', 'Branden Grace', 'Gary Woodland', 'Matt Kuchar', 'Charl Schwartzel'] 4.832\n",
      "worse team taken\n"
     ]
    },
    {
     "name": "stderr",
     "output_type": "stream",
     "text": [
      "\r",
      " 44%|████▎     | 131/300 [10:23:56<13:16:51, 282.91s/it]"
     ]
    },
    {
     "name": "stdout",
     "output_type": "stream",
     "text": [
      "['Dustin Johnson', 'Tony Finau', 'Branden Grace', 'David Lingmerth', 'Matt Kuchar', 'Jason Dufner'] -4.052 ['Dustin Johnson', 'Tony Finau', 'Branden Grace', 'Gary Woodland', 'Matt Kuchar', 'Jason Dufner'] -2.462\n",
      "worse team taken\n"
     ]
    },
    {
     "name": "stderr",
     "output_type": "stream",
     "text": [
      "\r",
      " 44%|████▍     | 132/300 [10:28:37<13:10:33, 282.34s/it]"
     ]
    },
    {
     "name": "stdout",
     "output_type": "stream",
     "text": [
      "['Dustin Johnson', 'Bryson DeChambeau', 'Branden Grace', 'David Lingmerth', 'Matt Kuchar', 'Jason Dufner'] -5.293 ['Dustin Johnson', 'Tony Finau', 'Branden Grace', 'David Lingmerth', 'Matt Kuchar', 'Jason Dufner'] -4.052\n",
      "worse team taken\n"
     ]
    },
    {
     "name": "stderr",
     "output_type": "stream",
     "text": [
      "\r",
      " 44%|████▍     | 133/300 [10:33:16<13:03:45, 281.59s/it]"
     ]
    },
    {
     "name": "stdout",
     "output_type": "stream",
     "text": [
      "['Dustin Johnson', 'Bryson DeChambeau', 'Branden Grace', 'David Lingmerth', 'Matt Kuchar', 'Jim Herman'] -5.398 ['Dustin Johnson', 'Bryson DeChambeau', 'Branden Grace', 'David Lingmerth', 'Matt Kuchar', 'Jason Dufner'] -5.293\n",
      "worse team taken\n"
     ]
    },
    {
     "name": "stderr",
     "output_type": "stream",
     "text": [
      "\r",
      " 45%|████▍     | 134/300 [10:37:58<12:58:48, 281.50s/it]"
     ]
    },
    {
     "name": "stdout",
     "output_type": "stream",
     "text": [
      "['Dustin Johnson', 'Bryson DeChambeau', 'Phil Mickelson', 'David Lingmerth', 'Matt Kuchar', 'Jim Herman'] -5.555 ['Dustin Johnson', 'Bryson DeChambeau', 'Branden Grace', 'David Lingmerth', 'Matt Kuchar', 'Jim Herman'] -5.398\n",
      "worse team taken\n"
     ]
    },
    {
     "name": "stderr",
     "output_type": "stream",
     "text": [
      "\r",
      " 45%|████▌     | 135/300 [10:42:39<12:54:04, 281.48s/it]"
     ]
    },
    {
     "name": "stdout",
     "output_type": "stream",
     "text": [
      "['Dustin Johnson', 'Bryson DeChambeau', 'Phil Mickelson', 'David Lingmerth', 'Matt Kuchar', 'D.A. Points'] -5.029 ['Dustin Johnson', 'Bryson DeChambeau', 'Phil Mickelson', 'David Lingmerth', 'Matt Kuchar', 'Jim Herman'] -5.555\n"
     ]
    },
    {
     "name": "stderr",
     "output_type": "stream",
     "text": [
      "\r",
      " 45%|████▌     | 136/300 [10:47:21<12:49:44, 281.62s/it]"
     ]
    },
    {
     "name": "stdout",
     "output_type": "stream",
     "text": [
      "['Dustin Johnson', 'Bryson DeChambeau', 'Phil Mickelson', 'David Lingmerth', 'Matt Kuchar', 'Ryan Moore'] -1.9 ['Dustin Johnson', 'Bryson DeChambeau', 'Phil Mickelson', 'David Lingmerth', 'Matt Kuchar', 'D.A. Points'] -5.029\n"
     ]
    },
    {
     "name": "stderr",
     "output_type": "stream",
     "text": [
      "\r",
      " 46%|████▌     | 137/300 [10:52:03<12:44:54, 281.56s/it]"
     ]
    },
    {
     "name": "stdout",
     "output_type": "stream",
     "text": [
      "['Dustin Johnson', 'Brandon Stone', 'Phil Mickelson', 'David Lingmerth', 'Matt Kuchar', 'Ryan Moore'] -1.969 ['Dustin Johnson', 'Bryson DeChambeau', 'Phil Mickelson', 'David Lingmerth', 'Matt Kuchar', 'Ryan Moore'] -1.9\n",
      "worse team taken\n"
     ]
    },
    {
     "name": "stderr",
     "output_type": "stream",
     "text": [
      "\r",
      " 46%|████▌     | 138/300 [10:56:44<12:39:57, 281.47s/it]"
     ]
    },
    {
     "name": "stdout",
     "output_type": "stream",
     "text": [
      "['Dustin Johnson', 'Brandon Stone', 'Phil Mickelson', 'Cody Gribble', 'Matt Kuchar', 'Ryan Moore'] -3.017 ['Dustin Johnson', 'Brandon Stone', 'Phil Mickelson', 'David Lingmerth', 'Matt Kuchar', 'Ryan Moore'] -1.969\n",
      "worse team taken\n"
     ]
    },
    {
     "name": "stderr",
     "output_type": "stream",
     "text": [
      "\r",
      " 46%|████▋     | 139/300 [11:01:25<12:35:05, 281.40s/it]"
     ]
    },
    {
     "name": "stdout",
     "output_type": "stream",
     "text": [
      "['Dustin Johnson', 'Brandon Stone', 'Phil Mickelson', 'Cody Gribble', 'Matt Kuchar', 'Thorbjorn Olesen'] -3.553 ['Dustin Johnson', 'Brandon Stone', 'Phil Mickelson', 'Cody Gribble', 'Matt Kuchar', 'Ryan Moore'] -3.017\n",
      "worse team taken\n"
     ]
    },
    {
     "name": "stderr",
     "output_type": "stream",
     "text": [
      "\r",
      " 47%|████▋     | 140/300 [11:06:06<12:29:45, 281.16s/it]"
     ]
    },
    {
     "name": "stdout",
     "output_type": "stream",
     "text": [
      "['Dustin Johnson', 'David Lingmerth', 'Phil Mickelson', 'Cody Gribble', 'Matt Kuchar', 'Thorbjorn Olesen'] -5.088 ['Dustin Johnson', 'Brandon Stone', 'Phil Mickelson', 'Cody Gribble', 'Matt Kuchar', 'Thorbjorn Olesen'] -3.553\n"
     ]
    },
    {
     "name": "stderr",
     "output_type": "stream",
     "text": [
      "\r",
      " 47%|████▋     | 141/300 [11:10:47<12:25:08, 281.19s/it]"
     ]
    },
    {
     "name": "stdout",
     "output_type": "stream",
     "text": [
      "['Dustin Johnson', 'Brandon Stone', 'Phil Mickelson', 'Pat Perez', 'Matt Kuchar', 'Thorbjorn Olesen'] -1.775 ['Dustin Johnson', 'Brandon Stone', 'Phil Mickelson', 'Cody Gribble', 'Matt Kuchar', 'Thorbjorn Olesen'] -3.553\n"
     ]
    },
    {
     "name": "stderr",
     "output_type": "stream",
     "text": [
      "\r",
      " 47%|████▋     | 142/300 [11:15:28<12:20:17, 281.12s/it]"
     ]
    },
    {
     "name": "stdout",
     "output_type": "stream",
     "text": [
      "['Dustin Johnson', 'Nicolas Colsaerts', 'Phil Mickelson', 'Pat Perez', 'Matt Kuchar', 'Thorbjorn Olesen'] 25.472 ['Dustin Johnson', 'Brandon Stone', 'Phil Mickelson', 'Pat Perez', 'Matt Kuchar', 'Thorbjorn Olesen'] -1.775\n"
     ]
    },
    {
     "name": "stderr",
     "output_type": "stream",
     "text": [
      "\r",
      " 48%|████▊     | 143/300 [11:20:09<12:15:30, 281.08s/it]"
     ]
    },
    {
     "name": "stdout",
     "output_type": "stream",
     "text": [
      "['Dustin Johnson', 'Nicolas Colsaerts', 'Justin Thomas', 'Pat Perez', 'Matt Kuchar', 'Thorbjorn Olesen'] -3.665 ['Dustin Johnson', 'Nicolas Colsaerts', 'Phil Mickelson', 'Pat Perez', 'Matt Kuchar', 'Thorbjorn Olesen'] 25.472\n",
      "worse team taken\n"
     ]
    },
    {
     "name": "stderr",
     "output_type": "stream",
     "text": [
      "\r",
      " 48%|████▊     | 144/300 [11:24:49<12:10:14, 280.86s/it]"
     ]
    },
    {
     "name": "stdout",
     "output_type": "stream",
     "text": [
      "['Dustin Johnson', 'Nicolas Colsaerts', 'Brooks Koepka', 'Pat Perez', 'Matt Kuchar', 'Thorbjorn Olesen'] 1.288 ['Dustin Johnson', 'Nicolas Colsaerts', 'Justin Thomas', 'Pat Perez', 'Matt Kuchar', 'Thorbjorn Olesen'] -3.665\n"
     ]
    },
    {
     "name": "stderr",
     "output_type": "stream",
     "text": [
      "\r",
      " 48%|████▊     | 145/300 [11:29:31<12:06:16, 281.14s/it]"
     ]
    },
    {
     "name": "stdout",
     "output_type": "stream",
     "text": [
      "['Dustin Johnson', 'D.A. Points', 'Brooks Koepka', 'Pat Perez', 'Matt Kuchar', 'Thorbjorn Olesen'] 0.34 ['Dustin Johnson', 'Nicolas Colsaerts', 'Brooks Koepka', 'Pat Perez', 'Matt Kuchar', 'Thorbjorn Olesen'] 1.288\n"
     ]
    },
    {
     "name": "stderr",
     "output_type": "stream",
     "text": [
      "\r",
      " 49%|████▊     | 146/300 [11:34:12<12:01:48, 281.22s/it]"
     ]
    },
    {
     "name": "stdout",
     "output_type": "stream",
     "text": [
      "['Dustin Johnson', 'Nicolas Colsaerts', 'Brooks Koepka', \"Sean O'Hair\", 'Matt Kuchar', 'Thorbjorn Olesen'] -3.111 ['Dustin Johnson', 'Nicolas Colsaerts', 'Brooks Koepka', 'Pat Perez', 'Matt Kuchar', 'Thorbjorn Olesen'] 1.288\n",
      "worse team taken\n"
     ]
    },
    {
     "name": "stderr",
     "output_type": "stream",
     "text": [
      "\r",
      " 49%|████▉     | 147/300 [11:38:54<11:57:15, 281.28s/it]"
     ]
    },
    {
     "name": "stdout",
     "output_type": "stream",
     "text": [
      "['Dustin Johnson', 'Nicolas Colsaerts', 'Brooks Koepka', 'Rafael Cabrera-Bello', 'Matt Kuchar', 'Thorbjorn Olesen'] 30.289 ['Dustin Johnson', 'Nicolas Colsaerts', 'Brooks Koepka', \"Sean O'Hair\", 'Matt Kuchar', 'Thorbjorn Olesen'] -3.111\n"
     ]
    },
    {
     "name": "stderr",
     "output_type": "stream",
     "text": [
      "\r",
      " 49%|████▉     | 148/300 [11:43:35<11:52:11, 281.13s/it]"
     ]
    },
    {
     "name": "stdout",
     "output_type": "stream",
     "text": [
      "['Dustin Johnson', 'Nicolas Colsaerts', 'Brooks Koepka', 'Rafael Cabrera-Bello', 'Jimmy Walker', 'Thorbjorn Olesen'] -4.1 ['Dustin Johnson', 'Nicolas Colsaerts', 'Brooks Koepka', 'Rafael Cabrera-Bello', 'Matt Kuchar', 'Thorbjorn Olesen'] 30.289\n",
      "worse team taken\n"
     ]
    },
    {
     "name": "stderr",
     "output_type": "stream",
     "text": [
      "\r",
      " 50%|████▉     | 149/300 [11:48:17<11:48:19, 281.46s/it]"
     ]
    },
    {
     "name": "stdout",
     "output_type": "stream",
     "text": [
      "['Dustin Johnson', 'Nicolas Colsaerts', 'Brooks Koepka', 'Kyle Stanley', 'Jimmy Walker', 'Thorbjorn Olesen'] -1.829 ['Dustin Johnson', 'Nicolas Colsaerts', 'Brooks Koepka', 'Rafael Cabrera-Bello', 'Jimmy Walker', 'Thorbjorn Olesen'] -4.1\n"
     ]
    },
    {
     "name": "stderr",
     "output_type": "stream",
     "text": [
      "\r",
      " 50%|█████     | 150/300 [11:52:57<11:42:52, 281.15s/it]"
     ]
    },
    {
     "name": "stdout",
     "output_type": "stream",
     "text": [
      "['Dustin Johnson', 'Nicolas Colsaerts', 'Brooks Koepka', 'Kyle Stanley', 'Jimmy Walker', 'Thorbjorn Olesen'] -4.076 ['Dustin Johnson', 'Nicolas Colsaerts', 'Brooks Koepka', 'Kyle Stanley', 'Jimmy Walker', 'Thorbjorn Olesen'] -1.829\n"
     ]
    },
    {
     "name": "stderr",
     "output_type": "stream",
     "text": [
      "\r",
      " 50%|█████     | 151/300 [11:57:40<11:39:09, 281.54s/it]"
     ]
    },
    {
     "name": "stdout",
     "output_type": "stream",
     "text": [
      "['Dustin Johnson', 'Nicolas Colsaerts', 'Brooks Koepka', 'Kyle Stanley', 'Jimmy Walker', 'Ian Poulter'] -2.473 ['Dustin Johnson', 'Nicolas Colsaerts', 'Brooks Koepka', 'Kyle Stanley', 'Jimmy Walker', 'Thorbjorn Olesen'] -1.829\n",
      "worse team taken\n"
     ]
    },
    {
     "name": "stderr",
     "output_type": "stream",
     "text": [
      "\r",
      " 51%|█████     | 152/300 [12:02:21<11:34:35, 281.59s/it]"
     ]
    },
    {
     "name": "stdout",
     "output_type": "stream",
     "text": [
      "['Dustin Johnson', 'Charley Hoffman', 'Brooks Koepka', 'Kyle Stanley', 'Jimmy Walker', 'Ian Poulter'] 36.884 ['Dustin Johnson', 'Nicolas Colsaerts', 'Brooks Koepka', 'Kyle Stanley', 'Jimmy Walker', 'Ian Poulter'] -2.473\n"
     ]
    },
    {
     "name": "stderr",
     "output_type": "stream",
     "text": [
      "\r",
      " 51%|█████     | 153/300 [12:07:02<11:29:24, 281.39s/it]"
     ]
    },
    {
     "name": "stdout",
     "output_type": "stream",
     "text": [
      "['Dustin Johnson', 'Charley Hoffman', 'Brooks Koepka', 'Kyle Stanley', 'Luke Donald', 'Ian Poulter'] 5.437 ['Dustin Johnson', 'Charley Hoffman', 'Brooks Koepka', 'Kyle Stanley', 'Jimmy Walker', 'Ian Poulter'] 36.884\n"
     ]
    },
    {
     "name": "stderr",
     "output_type": "stream",
     "text": [
      "\r",
      " 51%|█████▏    | 154/300 [12:11:44<11:24:37, 281.35s/it]"
     ]
    },
    {
     "name": "stdout",
     "output_type": "stream",
     "text": [
      "['Dustin Johnson', 'Chris Wood', 'Brooks Koepka', 'Kyle Stanley', 'Jimmy Walker', 'Ian Poulter'] -1.804 ['Dustin Johnson', 'Charley Hoffman', 'Brooks Koepka', 'Kyle Stanley', 'Jimmy Walker', 'Ian Poulter'] 36.884\n"
     ]
    },
    {
     "name": "stderr",
     "output_type": "stream",
     "text": [
      "\r",
      " 52%|█████▏    | 155/300 [12:16:24<11:19:34, 281.20s/it]"
     ]
    },
    {
     "name": "stdout",
     "output_type": "stream",
     "text": [
      "['Dustin Johnson', 'Charley Hoffman', 'Brooks Koepka', 'Kyle Stanley', 'Graeme McDowell', 'Ian Poulter'] 70.164 ['Dustin Johnson', 'Charley Hoffman', 'Brooks Koepka', 'Kyle Stanley', 'Jimmy Walker', 'Ian Poulter'] 36.884\n"
     ]
    },
    {
     "name": "stderr",
     "output_type": "stream",
     "text": [
      "\r",
      " 52%|█████▏    | 156/300 [12:21:06<11:15:23, 281.41s/it]"
     ]
    },
    {
     "name": "stdout",
     "output_type": "stream",
     "text": [
      "['Dustin Johnson', 'Nicolas Colsaerts', 'Brooks Koepka', 'Kyle Stanley', 'Graeme McDowell', 'Ian Poulter'] -2.83 ['Dustin Johnson', 'Charley Hoffman', 'Brooks Koepka', 'Kyle Stanley', 'Graeme McDowell', 'Ian Poulter'] 70.164\n"
     ]
    },
    {
     "name": "stderr",
     "output_type": "stream",
     "text": [
      "\r",
      " 52%|█████▏    | 157/300 [12:25:48<11:10:50, 281.47s/it]"
     ]
    },
    {
     "name": "stdout",
     "output_type": "stream",
     "text": [
      "['Dustin Johnson', 'Charley Hoffman', 'Brooks Koepka', 'Thorbjorn Olesen', 'Graeme McDowell', 'Ian Poulter'] 4.442 ['Dustin Johnson', 'Charley Hoffman', 'Brooks Koepka', 'Kyle Stanley', 'Graeme McDowell', 'Ian Poulter'] 70.164\n",
      "worse team taken\n"
     ]
    },
    {
     "name": "stderr",
     "output_type": "stream",
     "text": [
      "\r",
      " 53%|█████▎    | 158/300 [12:30:29<11:06:06, 281.45s/it]"
     ]
    },
    {
     "name": "stdout",
     "output_type": "stream",
     "text": [
      "['Dustin Johnson', 'Charley Hoffman', 'Brooks Koepka', 'Bud Cauley', 'Graeme McDowell', 'Ian Poulter'] 1.176 ['Dustin Johnson', 'Charley Hoffman', 'Brooks Koepka', 'Thorbjorn Olesen', 'Graeme McDowell', 'Ian Poulter'] 4.442\n",
      "worse team taken\n"
     ]
    },
    {
     "name": "stderr",
     "output_type": "stream",
     "text": [
      "\r",
      " 53%|█████▎    | 159/300 [12:35:11<11:01:29, 281.49s/it]"
     ]
    },
    {
     "name": "stdout",
     "output_type": "stream",
     "text": [
      "['Dustin Johnson', 'Charley Hoffman', 'Brooks Koepka', 'Bud Cauley', 'Zach Johnson', 'Ian Poulter'] -3.591 ['Dustin Johnson', 'Charley Hoffman', 'Brooks Koepka', 'Bud Cauley', 'Graeme McDowell', 'Ian Poulter'] 1.176\n",
      "worse team taken\n"
     ]
    },
    {
     "name": "stderr",
     "output_type": "stream",
     "text": [
      "\r",
      " 53%|█████▎    | 160/300 [12:39:51<10:55:57, 281.13s/it]"
     ]
    },
    {
     "name": "stdout",
     "output_type": "stream",
     "text": [
      "['Dustin Johnson', 'Charley Hoffman', 'Brooks Koepka', 'Bud Cauley', 'Zach Johnson', 'Bernd Wiesberger'] -3.36 ['Dustin Johnson', 'Charley Hoffman', 'Brooks Koepka', 'Bud Cauley', 'Zach Johnson', 'Ian Poulter'] -3.591\n"
     ]
    },
    {
     "name": "stderr",
     "output_type": "stream",
     "text": [
      "\r",
      " 54%|█████▎    | 161/300 [12:44:33<10:51:40, 281.30s/it]"
     ]
    },
    {
     "name": "stdout",
     "output_type": "stream",
     "text": [
      "['Dustin Johnson', 'Charley Hoffman', 'Brooks Koepka', 'Cody Gribble', 'Zach Johnson', 'Bernd Wiesberger'] -4.021 ['Dustin Johnson', 'Charley Hoffman', 'Brooks Koepka', 'Bud Cauley', 'Zach Johnson', 'Bernd Wiesberger'] -3.36\n"
     ]
    },
    {
     "name": "stderr",
     "output_type": "stream",
     "text": [
      "\r",
      " 54%|█████▍    | 162/300 [12:49:15<10:47:22, 281.46s/it]"
     ]
    },
    {
     "name": "stdout",
     "output_type": "stream",
     "text": [
      "['Dustin Johnson', 'Charley Hoffman', 'Brooks Koepka', 'Bud Cauley', 'Alexander Noren', 'Bernd Wiesberger'] 0.787 ['Dustin Johnson', 'Charley Hoffman', 'Brooks Koepka', 'Bud Cauley', 'Zach Johnson', 'Bernd Wiesberger'] -3.36\n"
     ]
    },
    {
     "name": "stderr",
     "output_type": "stream",
     "text": [
      "\r",
      " 54%|█████▍    | 163/300 [12:53:56<10:42:17, 281.30s/it]"
     ]
    },
    {
     "name": "stdout",
     "output_type": "stream",
     "text": [
      "['Dustin Johnson', 'Chris Stroud', 'Brooks Koepka', 'Bud Cauley', 'Alexander Noren', 'Bernd Wiesberger'] -6.482 ['Dustin Johnson', 'Charley Hoffman', 'Brooks Koepka', 'Bud Cauley', 'Alexander Noren', 'Bernd Wiesberger'] 0.787\n"
     ]
    },
    {
     "name": "stderr",
     "output_type": "stream",
     "text": [
      "\r",
      " 55%|█████▍    | 164/300 [12:58:37<10:37:53, 281.42s/it]"
     ]
    },
    {
     "name": "stdout",
     "output_type": "stream",
     "text": [
      "['Dustin Johnson', 'Charley Hoffman', 'Brooks Koepka', 'Bud Cauley', 'Hudson Swafford', 'Bernd Wiesberger'] 1.876 ['Dustin Johnson', 'Charley Hoffman', 'Brooks Koepka', 'Bud Cauley', 'Alexander Noren', 'Bernd Wiesberger'] 0.787\n"
     ]
    },
    {
     "name": "stderr",
     "output_type": "stream",
     "text": [
      "\r",
      " 55%|█████▌    | 165/300 [13:03:18<10:32:54, 281.29s/it]"
     ]
    },
    {
     "name": "stdout",
     "output_type": "stream",
     "text": [
      "['Dustin Johnson', 'Charley Hoffman', 'Brooks Koepka', 'Bud Cauley', 'Hudson Swafford', 'Kevin Na'] -2.992 ['Dustin Johnson', 'Charley Hoffman', 'Brooks Koepka', 'Bud Cauley', 'Hudson Swafford', 'Bernd Wiesberger'] 1.876\n",
      "worse team taken\n"
     ]
    },
    {
     "name": "stderr",
     "output_type": "stream",
     "text": [
      "\r",
      " 55%|█████▌    | 166/300 [13:08:00<10:28:17, 281.33s/it]"
     ]
    },
    {
     "name": "stdout",
     "output_type": "stream",
     "text": [
      "['Dustin Johnson', 'Charley Hoffman', 'Brooks Koepka', 'Bud Cauley', 'Hudson Swafford', 'J.B. Holmes'] 2.485 ['Dustin Johnson', 'Charley Hoffman', 'Brooks Koepka', 'Bud Cauley', 'Hudson Swafford', 'Kevin Na'] -2.992\n"
     ]
    },
    {
     "name": "stderr",
     "output_type": "stream",
     "text": [
      "\r",
      " 56%|█████▌    | 167/300 [13:12:40<10:22:55, 281.02s/it]"
     ]
    },
    {
     "name": "stdout",
     "output_type": "stream",
     "text": [
      "['Dustin Johnson', 'Charley Hoffman', 'Matt Kuchar', 'Bud Cauley', 'Hudson Swafford', 'J.B. Holmes'] 14.272 ['Dustin Johnson', 'Charley Hoffman', 'Brooks Koepka', 'Bud Cauley', 'Hudson Swafford', 'J.B. Holmes'] 2.485\n"
     ]
    },
    {
     "name": "stderr",
     "output_type": "stream",
     "text": [
      "\r",
      " 56%|█████▌    | 168/300 [13:17:21<10:18:12, 281.01s/it]"
     ]
    },
    {
     "name": "stdout",
     "output_type": "stream",
     "text": [
      "['Dustin Johnson', 'Charley Hoffman', 'Matt Kuchar', 'Bud Cauley', 'Hudson Swafford', 'Thorbjorn Olesen'] -3.013 ['Dustin Johnson', 'Charley Hoffman', 'Matt Kuchar', 'Bud Cauley', 'Hudson Swafford', 'J.B. Holmes'] 14.272\n"
     ]
    },
    {
     "name": "stderr",
     "output_type": "stream",
     "text": [
      "\r",
      " 56%|█████▋    | 169/300 [13:22:02<10:13:15, 280.88s/it]"
     ]
    },
    {
     "name": "stdout",
     "output_type": "stream",
     "text": [
      "['Dustin Johnson', 'Phil Mickelson', 'Matt Kuchar', 'Bud Cauley', 'Hudson Swafford', 'J.B. Holmes'] -2.427 ['Dustin Johnson', 'Charley Hoffman', 'Matt Kuchar', 'Bud Cauley', 'Hudson Swafford', 'J.B. Holmes'] 14.272\n"
     ]
    },
    {
     "name": "stderr",
     "output_type": "stream",
     "text": [
      "\r",
      " 57%|█████▋    | 170/300 [13:26:42<10:08:20, 280.77s/it]"
     ]
    },
    {
     "name": "stdout",
     "output_type": "stream",
     "text": [
      "['Dustin Johnson', 'Charley Hoffman', 'Matt Kuchar', 'Pat Perez', 'Hudson Swafford', 'J.B. Holmes'] 4.732 ['Dustin Johnson', 'Charley Hoffman', 'Matt Kuchar', 'Bud Cauley', 'Hudson Swafford', 'J.B. Holmes'] 14.272\n"
     ]
    },
    {
     "name": "stderr",
     "output_type": "stream",
     "text": [
      "\r",
      " 57%|█████▋    | 171/300 [13:31:23<10:04:02, 280.95s/it]"
     ]
    },
    {
     "name": "stdout",
     "output_type": "stream",
     "text": [
      "['Dustin Johnson', 'Charley Hoffman', 'Matt Kuchar', 'Ryan Fox', 'Hudson Swafford', 'J.B. Holmes'] -0.109 ['Dustin Johnson', 'Charley Hoffman', 'Matt Kuchar', 'Bud Cauley', 'Hudson Swafford', 'J.B. Holmes'] 14.272\n",
      "worse team taken\n"
     ]
    },
    {
     "name": "stderr",
     "output_type": "stream",
     "text": [
      "\r",
      " 57%|█████▋    | 172/300 [13:36:05<9:59:30, 281.02s/it] "
     ]
    },
    {
     "name": "stdout",
     "output_type": "stream",
     "text": [
      "['Dustin Johnson', 'Charley Hoffman', 'Matt Kuchar', 'Ryan Fox', 'Steve Stricker', 'J.B. Holmes'] -3.651 ['Dustin Johnson', 'Charley Hoffman', 'Matt Kuchar', 'Ryan Fox', 'Hudson Swafford', 'J.B. Holmes'] -0.109\n",
      "worse team taken\n"
     ]
    },
    {
     "name": "stderr",
     "output_type": "stream",
     "text": [
      "\r",
      " 58%|█████▊    | 173/300 [13:40:45<9:54:12, 280.73s/it]"
     ]
    },
    {
     "name": "stdout",
     "output_type": "stream",
     "text": [
      "['Dustin Johnson', 'Charley Hoffman', 'Matt Kuchar', 'Ryan Fox', 'Grayson Murray', 'J.B. Holmes'] -5.845 ['Dustin Johnson', 'Charley Hoffman', 'Matt Kuchar', 'Ryan Fox', 'Steve Stricker', 'J.B. Holmes'] -3.651\n"
     ]
    },
    {
     "name": "stderr",
     "output_type": "stream",
     "text": [
      "\r",
      " 58%|█████▊    | 174/300 [13:45:26<9:49:48, 280.86s/it]"
     ]
    },
    {
     "name": "stdout",
     "output_type": "stream",
     "text": [
      "['Dustin Johnson', 'Charley Hoffman', 'Matt Kuchar', 'Ryan Fox', 'Jason Dufner', 'J.B. Holmes'] -4.884 ['Dustin Johnson', 'Charley Hoffman', 'Matt Kuchar', 'Ryan Fox', 'Steve Stricker', 'J.B. Holmes'] -3.651\n",
      "worse team taken\n"
     ]
    },
    {
     "name": "stderr",
     "output_type": "stream",
     "text": [
      "\r",
      " 58%|█████▊    | 175/300 [13:50:07<9:45:11, 280.89s/it]"
     ]
    },
    {
     "name": "stdout",
     "output_type": "stream",
     "text": [
      "['Dustin Johnson', 'Charley Hoffman', 'Matt Kuchar', 'Ryan Fox', 'Jason Dufner', 'Justin Thomas'] -3.272 ['Dustin Johnson', 'Charley Hoffman', 'Matt Kuchar', 'Ryan Fox', 'Jason Dufner', 'J.B. Holmes'] -4.884\n"
     ]
    },
    {
     "name": "stderr",
     "output_type": "stream",
     "text": [
      "\r",
      " 59%|█████▊    | 176/300 [13:54:48<9:40:48, 281.04s/it]"
     ]
    },
    {
     "name": "stdout",
     "output_type": "stream",
     "text": [
      "['Dustin Johnson', 'Thorbjorn Olesen', 'Matt Kuchar', 'Ryan Fox', 'Jason Dufner', 'Justin Thomas'] -5.391 ['Dustin Johnson', 'Charley Hoffman', 'Matt Kuchar', 'Ryan Fox', 'Jason Dufner', 'Justin Thomas'] -3.272\n"
     ]
    },
    {
     "name": "stderr",
     "output_type": "stream",
     "text": [
      "\r",
      " 59%|█████▉    | 177/300 [13:59:30<9:36:28, 281.21s/it]"
     ]
    },
    {
     "name": "stdout",
     "output_type": "stream",
     "text": [
      "['Dustin Johnson', 'Charley Hoffman', 'Matt Kuchar', 'Jim Furyk', 'Jason Dufner', 'Justin Thomas'] -4.243 ['Dustin Johnson', 'Charley Hoffman', 'Matt Kuchar', 'Ryan Fox', 'Jason Dufner', 'Justin Thomas'] -3.272\n"
     ]
    },
    {
     "name": "stderr",
     "output_type": "stream",
     "text": [
      "\r",
      " 59%|█████▉    | 178/300 [14:04:11<9:31:47, 281.21s/it]"
     ]
    },
    {
     "name": "stdout",
     "output_type": "stream",
     "text": [
      "['Dustin Johnson', 'Charley Hoffman', 'Matt Kuchar', 'Ryan Fox', 'Mackenzie Hughes', 'Justin Thomas'] -4.929 ['Dustin Johnson', 'Charley Hoffman', 'Matt Kuchar', 'Ryan Fox', 'Jason Dufner', 'Justin Thomas'] -3.272\n"
     ]
    },
    {
     "name": "stderr",
     "output_type": "stream",
     "text": [
      "\r",
      " 60%|█████▉    | 179/300 [14:08:53<9:27:16, 281.29s/it]"
     ]
    },
    {
     "name": "stdout",
     "output_type": "stream",
     "text": [
      "['Dustin Johnson', 'Charley Hoffman', 'Matt Kuchar', 'Ryan Fox', 'Nicolas Colsaerts', 'Justin Thomas'] -5.374 ['Dustin Johnson', 'Charley Hoffman', 'Matt Kuchar', 'Ryan Fox', 'Jason Dufner', 'Justin Thomas'] -3.272\n",
      "worse team taken\n"
     ]
    },
    {
     "name": "stderr",
     "output_type": "stream",
     "text": [
      "\r",
      " 60%|██████    | 180/300 [14:13:34<9:22:33, 281.28s/it]"
     ]
    },
    {
     "name": "stdout",
     "output_type": "stream",
     "text": [
      "['Dustin Johnson', 'Brian Harman', 'Matt Kuchar', 'Ryan Fox', 'Nicolas Colsaerts', 'Justin Thomas'] -5.45 ['Dustin Johnson', 'Charley Hoffman', 'Matt Kuchar', 'Ryan Fox', 'Nicolas Colsaerts', 'Justin Thomas'] -5.374\n",
      "worse team taken\n"
     ]
    },
    {
     "name": "stderr",
     "output_type": "stream",
     "text": [
      "\r",
      " 60%|██████    | 181/300 [14:18:15<9:17:48, 281.24s/it]"
     ]
    },
    {
     "name": "stdout",
     "output_type": "stream",
     "text": [
      "['Dustin Johnson', 'Brian Harman', 'Matt Kuchar', 'Ryan Fox', 'Lucas Glover', 'Justin Thomas'] 4.18 ['Dustin Johnson', 'Brian Harman', 'Matt Kuchar', 'Ryan Fox', 'Nicolas Colsaerts', 'Justin Thomas'] -5.45\n"
     ]
    },
    {
     "name": "stderr",
     "output_type": "stream",
     "text": [
      "\r",
      " 61%|██████    | 182/300 [14:22:57<9:13:20, 281.36s/it]"
     ]
    },
    {
     "name": "stdout",
     "output_type": "stream",
     "text": [
      "['Rory McIlroy', 'Brian Harman', 'Matt Kuchar', 'Ryan Fox', 'Lucas Glover', 'Justin Thomas'] 1.927 ['Dustin Johnson', 'Brian Harman', 'Matt Kuchar', 'Ryan Fox', 'Lucas Glover', 'Justin Thomas'] 4.18\n"
     ]
    },
    {
     "name": "stderr",
     "output_type": "stream",
     "text": [
      "\r",
      " 61%|██████    | 183/300 [14:27:38<9:08:38, 281.35s/it]"
     ]
    },
    {
     "name": "stdout",
     "output_type": "stream",
     "text": [
      "['Jon Rahm', 'Brian Harman', 'Matt Kuchar', 'Ryan Fox', 'Lucas Glover', 'Justin Thomas'] -2.157 ['Dustin Johnson', 'Brian Harman', 'Matt Kuchar', 'Ryan Fox', 'Lucas Glover', 'Justin Thomas'] 4.18\n",
      "worse team taken\n"
     ]
    },
    {
     "name": "stderr",
     "output_type": "stream",
     "text": [
      "\r",
      " 61%|██████▏   | 184/300 [14:32:20<9:04:05, 281.43s/it]"
     ]
    },
    {
     "name": "stdout",
     "output_type": "stream",
     "text": [
      "['Jon Rahm', 'Brian Harman', 'Matt Kuchar', 'Ryan Fox', 'Kevin Na', 'Justin Thomas'] -3.297 ['Jon Rahm', 'Brian Harman', 'Matt Kuchar', 'Ryan Fox', 'Lucas Glover', 'Justin Thomas'] -2.157\n",
      "worse team taken\n"
     ]
    },
    {
     "name": "stderr",
     "output_type": "stream",
     "text": [
      "\r",
      " 62%|██████▏   | 185/300 [14:37:01<8:59:16, 281.36s/it]"
     ]
    },
    {
     "name": "stdout",
     "output_type": "stream",
     "text": [
      "['Jon Rahm', 'Brian Harman', 'Matt Kuchar', 'Ryan Fox', 'Wesley Bryan', 'Justin Thomas'] -1.351 ['Jon Rahm', 'Brian Harman', 'Matt Kuchar', 'Ryan Fox', 'Kevin Na', 'Justin Thomas'] -3.297\n"
     ]
    },
    {
     "name": "stderr",
     "output_type": "stream",
     "text": [
      "\r",
      " 62%|██████▏   | 186/300 [14:41:42<8:54:38, 281.39s/it]"
     ]
    },
    {
     "name": "stdout",
     "output_type": "stream",
     "text": [
      "['Jon Rahm', 'Brian Harman', 'Matt Kuchar', 'Jordan L. Smith', 'Wesley Bryan', 'Justin Thomas'] 6.894 ['Jon Rahm', 'Brian Harman', 'Matt Kuchar', 'Ryan Fox', 'Wesley Bryan', 'Justin Thomas'] -1.351\n"
     ]
    },
    {
     "name": "stderr",
     "output_type": "stream",
     "text": [
      "\r",
      " 62%|██████▏   | 187/300 [14:46:23<8:49:39, 281.23s/it]"
     ]
    },
    {
     "name": "stdout",
     "output_type": "stream",
     "text": [
      "['Jon Rahm', 'Brian Harman', 'Matt Kuchar', 'Soren Kjeldsen', 'Wesley Bryan', 'Justin Thomas'] 24.685 ['Jon Rahm', 'Brian Harman', 'Matt Kuchar', 'Jordan L. Smith', 'Wesley Bryan', 'Justin Thomas'] 6.894\n"
     ]
    },
    {
     "name": "stderr",
     "output_type": "stream",
     "text": [
      "\r",
      " 63%|██████▎   | 188/300 [14:51:04<8:44:47, 281.13s/it]"
     ]
    },
    {
     "name": "stdout",
     "output_type": "stream",
     "text": [
      "['Jon Rahm', 'Brian Harman', 'Matt Kuchar', 'Soren Kjeldsen', 'Graham DeLaet', 'Justin Thomas'] -3.049 ['Jon Rahm', 'Brian Harman', 'Matt Kuchar', 'Soren Kjeldsen', 'Wesley Bryan', 'Justin Thomas'] 24.685\n"
     ]
    },
    {
     "name": "stderr",
     "output_type": "stream",
     "text": [
      "\r",
      " 63%|██████▎   | 189/300 [14:55:45<8:39:48, 280.98s/it]"
     ]
    },
    {
     "name": "stdout",
     "output_type": "stream",
     "text": [
      "['Jon Rahm', 'Brian Harman', 'Matt Kuchar', 'Soren Kjeldsen', 'James Hahn', 'Justin Thomas'] -2.053 ['Jon Rahm', 'Brian Harman', 'Matt Kuchar', 'Soren Kjeldsen', 'Wesley Bryan', 'Justin Thomas'] 24.685\n",
      "worse team taken\n"
     ]
    },
    {
     "name": "stderr",
     "output_type": "stream",
     "text": [
      "\r",
      " 63%|██████▎   | 190/300 [15:00:26<8:35:23, 281.12s/it]"
     ]
    },
    {
     "name": "stdout",
     "output_type": "stream",
     "text": [
      "['Jon Rahm', 'Brian Harman', 'Sergio Garcia', 'Soren Kjeldsen', 'James Hahn', 'Justin Thomas'] -1.839 ['Jon Rahm', 'Brian Harman', 'Matt Kuchar', 'Soren Kjeldsen', 'James Hahn', 'Justin Thomas'] -2.053\n"
     ]
    },
    {
     "name": "stderr",
     "output_type": "stream",
     "text": [
      "\r",
      " 64%|██████▎   | 191/300 [15:05:07<8:30:36, 281.07s/it]"
     ]
    },
    {
     "name": "stdout",
     "output_type": "stream",
     "text": [
      "['Jon Rahm', 'Tommy Fleetwood', 'Sergio Garcia', 'Soren Kjeldsen', 'James Hahn', 'Justin Thomas'] 3.355 ['Jon Rahm', 'Brian Harman', 'Sergio Garcia', 'Soren Kjeldsen', 'James Hahn', 'Justin Thomas'] -1.839\n"
     ]
    },
    {
     "name": "stderr",
     "output_type": "stream",
     "text": [
      "\r",
      " 64%|██████▍   | 192/300 [15:09:48<8:26:01, 281.13s/it]"
     ]
    },
    {
     "name": "stdout",
     "output_type": "stream",
     "text": [
      "['Jon Rahm', 'Scott Brown', 'Sergio Garcia', 'Soren Kjeldsen', 'James Hahn', 'Justin Thomas'] -6.337 ['Jon Rahm', 'Tommy Fleetwood', 'Sergio Garcia', 'Soren Kjeldsen', 'James Hahn', 'Justin Thomas'] 3.355\n",
      "worse team taken\n"
     ]
    },
    {
     "name": "stderr",
     "output_type": "stream",
     "text": [
      "\r",
      " 64%|██████▍   | 193/300 [15:14:29<8:21:10, 281.03s/it]"
     ]
    },
    {
     "name": "stdout",
     "output_type": "stream",
     "text": [
      "['Jon Rahm', 'Zach Johnson', 'Sergio Garcia', 'Soren Kjeldsen', 'James Hahn', 'Justin Thomas'] -4.839 ['Jon Rahm', 'Scott Brown', 'Sergio Garcia', 'Soren Kjeldsen', 'James Hahn', 'Justin Thomas'] -6.337\n"
     ]
    },
    {
     "name": "stderr",
     "output_type": "stream",
     "text": [
      "\r",
      " 65%|██████▍   | 194/300 [15:19:11<8:17:01, 281.33s/it]"
     ]
    },
    {
     "name": "stdout",
     "output_type": "stream",
     "text": [
      "['Jon Rahm', 'Kyle Stanley', 'Sergio Garcia', 'Soren Kjeldsen', 'James Hahn', 'Justin Thomas'] -1.444 ['Jon Rahm', 'Zach Johnson', 'Sergio Garcia', 'Soren Kjeldsen', 'James Hahn', 'Justin Thomas'] -4.839\n"
     ]
    },
    {
     "name": "stderr",
     "output_type": "stream",
     "text": [
      "\r",
      " 65%|██████▌   | 195/300 [15:23:52<8:12:10, 281.24s/it]"
     ]
    },
    {
     "name": "stdout",
     "output_type": "stream",
     "text": [
      "['Jon Rahm', 'Kyle Stanley', 'Sergio Garcia', 'David Lingmerth', 'James Hahn', 'Justin Thomas'] -3.082 ['Jon Rahm', 'Kyle Stanley', 'Sergio Garcia', 'Soren Kjeldsen', 'James Hahn', 'Justin Thomas'] -1.444\n",
      "worse team taken\n"
     ]
    },
    {
     "name": "stderr",
     "output_type": "stream",
     "text": [
      "\r",
      " 65%|██████▌   | 196/300 [15:28:34<8:07:48, 281.43s/it]"
     ]
    },
    {
     "name": "stdout",
     "output_type": "stream",
     "text": [
      "['Jon Rahm', 'Kyle Stanley', 'Sergio Garcia', 'David Lingmerth', 'Brian Harman', 'Justin Thomas'] 1.879 ['Jon Rahm', 'Kyle Stanley', 'Sergio Garcia', 'David Lingmerth', 'James Hahn', 'Justin Thomas'] -3.082\n"
     ]
    },
    {
     "name": "stderr",
     "output_type": "stream",
     "text": [
      "\r",
      " 66%|██████▌   | 197/300 [15:33:15<8:03:07, 281.43s/it]"
     ]
    },
    {
     "name": "stdout",
     "output_type": "stream",
     "text": [
      "['Jon Rahm', 'Kyle Stanley', 'Sergio Garcia', 'David Lingmerth', 'Tyrrell Hatton', 'Justin Thomas'] -4.907 ['Jon Rahm', 'Kyle Stanley', 'Sergio Garcia', 'David Lingmerth', 'Brian Harman', 'Justin Thomas'] 1.879\n",
      "worse team taken\n"
     ]
    },
    {
     "name": "stderr",
     "output_type": "stream",
     "text": [
      "\r",
      " 66%|██████▌   | 198/300 [15:37:57<7:58:26, 281.43s/it]"
     ]
    },
    {
     "name": "stdout",
     "output_type": "stream",
     "text": [
      "['Jon Rahm', 'Emiliano Grillo', 'Sergio Garcia', 'David Lingmerth', 'Tyrrell Hatton', 'Justin Thomas'] -4.742 ['Jon Rahm', 'Kyle Stanley', 'Sergio Garcia', 'David Lingmerth', 'Tyrrell Hatton', 'Justin Thomas'] -4.907\n"
     ]
    },
    {
     "name": "stderr",
     "output_type": "stream",
     "text": [
      "\r",
      " 66%|██████▋   | 199/300 [15:42:38<7:53:41, 281.40s/it]"
     ]
    },
    {
     "name": "stdout",
     "output_type": "stream",
     "text": [
      "['Jon Rahm', 'Ernie Els', 'Sergio Garcia', 'David Lingmerth', 'Tyrrell Hatton', 'Justin Thomas'] -7.352 ['Jon Rahm', 'Emiliano Grillo', 'Sergio Garcia', 'David Lingmerth', 'Tyrrell Hatton', 'Justin Thomas'] -4.742\n"
     ]
    },
    {
     "name": "stderr",
     "output_type": "stream",
     "text": [
      "\r",
      " 67%|██████▋   | 200/300 [15:47:19<7:48:49, 281.29s/it]"
     ]
    },
    {
     "name": "stdout",
     "output_type": "stream",
     "text": [
      "['Jon Rahm', 'Emiliano Grillo', 'Sergio Garcia', 'David Lingmerth', 'Tyrrell Hatton', 'Justin Thomas'] -5.205 ['Jon Rahm', 'Emiliano Grillo', 'Sergio Garcia', 'David Lingmerth', 'Tyrrell Hatton', 'Justin Thomas'] -4.742\n",
      "worse team taken\n"
     ]
    },
    {
     "name": "stderr",
     "output_type": "stream",
     "text": [
      "\r",
      " 67%|██████▋   | 201/300 [15:52:00<7:44:03, 281.25s/it]"
     ]
    },
    {
     "name": "stdout",
     "output_type": "stream",
     "text": [
      "['Jon Rahm', 'Younghan Song', 'Sergio Garcia', 'David Lingmerth', 'Tyrrell Hatton', 'Justin Thomas'] -7.444 ['Jon Rahm', 'Emiliano Grillo', 'Sergio Garcia', 'David Lingmerth', 'Tyrrell Hatton', 'Justin Thomas'] -5.205\n"
     ]
    },
    {
     "name": "stderr",
     "output_type": "stream",
     "text": [
      "\r",
      " 67%|██████▋   | 202/300 [15:56:42<7:39:22, 281.25s/it]"
     ]
    },
    {
     "name": "stdout",
     "output_type": "stream",
     "text": [
      "['Jon Rahm', 'Anirban Lahiri', 'Sergio Garcia', 'David Lingmerth', 'Tyrrell Hatton', 'Justin Thomas'] -7.086 ['Jon Rahm', 'Emiliano Grillo', 'Sergio Garcia', 'David Lingmerth', 'Tyrrell Hatton', 'Justin Thomas'] -5.205\n",
      "worse team taken\n"
     ]
    },
    {
     "name": "stderr",
     "output_type": "stream",
     "text": [
      "\r",
      " 68%|██████▊   | 203/300 [16:01:22<7:34:27, 281.10s/it]"
     ]
    },
    {
     "name": "stdout",
     "output_type": "stream",
     "text": [
      "['Jon Rahm', 'Anirban Lahiri', 'Sergio Garcia', 'David Lingmerth', 'Daniel Berger', 'Justin Thomas'] -4.68 ['Jon Rahm', 'Anirban Lahiri', 'Sergio Garcia', 'David Lingmerth', 'Tyrrell Hatton', 'Justin Thomas'] -7.086\n"
     ]
    },
    {
     "name": "stderr",
     "output_type": "stream",
     "text": [
      "\r",
      " 68%|██████▊   | 204/300 [16:06:04<7:29:53, 281.19s/it]"
     ]
    },
    {
     "name": "stdout",
     "output_type": "stream",
     "text": [
      "['Jon Rahm', 'Brendan Steele', 'Sergio Garcia', 'David Lingmerth', 'Daniel Berger', 'Justin Thomas'] 0.948 ['Jon Rahm', 'Anirban Lahiri', 'Sergio Garcia', 'David Lingmerth', 'Daniel Berger', 'Justin Thomas'] -4.68\n"
     ]
    },
    {
     "name": "stderr",
     "output_type": "stream",
     "text": [
      "\r",
      " 68%|██████▊   | 205/300 [16:10:46<7:25:31, 281.38s/it]"
     ]
    },
    {
     "name": "stdout",
     "output_type": "stream",
     "text": [
      "['Jon Rahm', 'Brendan Steele', 'Adam Scott', 'David Lingmerth', 'Daniel Berger', 'Justin Thomas'] -2.245 ['Jon Rahm', 'Brendan Steele', 'Sergio Garcia', 'David Lingmerth', 'Daniel Berger', 'Justin Thomas'] 0.948\n"
     ]
    },
    {
     "name": "stderr",
     "output_type": "stream",
     "text": [
      "\r",
      " 69%|██████▊   | 206/300 [16:15:27<7:20:59, 281.49s/it]"
     ]
    },
    {
     "name": "stdout",
     "output_type": "stream",
     "text": [
      "['Jon Rahm', 'Lee Westwood', 'Sergio Garcia', 'David Lingmerth', 'Daniel Berger', 'Justin Thomas'] -3.046 ['Jon Rahm', 'Brendan Steele', 'Sergio Garcia', 'David Lingmerth', 'Daniel Berger', 'Justin Thomas'] 0.948\n"
     ]
    },
    {
     "name": "stderr",
     "output_type": "stream",
     "text": [
      "\r",
      " 69%|██████▉   | 207/300 [16:20:09<7:16:10, 281.40s/it]"
     ]
    },
    {
     "name": "stdout",
     "output_type": "stream",
     "text": [
      "['Jon Rahm', 'Brendan Steele', 'Sergio Garcia', 'David Lingmerth', 'Mackenzie Hughes', 'Justin Thomas'] -6.339 ['Jon Rahm', 'Brendan Steele', 'Sergio Garcia', 'David Lingmerth', 'Daniel Berger', 'Justin Thomas'] 0.948\n"
     ]
    },
    {
     "name": "stderr",
     "output_type": "stream",
     "text": [
      "\r",
      " 69%|██████▉   | 208/300 [16:24:50<7:11:28, 281.40s/it]"
     ]
    },
    {
     "name": "stdout",
     "output_type": "stream",
     "text": [
      "['Jon Rahm', 'Brendan Steele', 'Sergio Garcia', 'David Lingmerth', 'Daniel Berger', 'Jimmy Walker'] -3.152 ['Jon Rahm', 'Brendan Steele', 'Sergio Garcia', 'David Lingmerth', 'Daniel Berger', 'Justin Thomas'] 0.948\n",
      "worse team taken\n"
     ]
    },
    {
     "name": "stderr",
     "output_type": "stream",
     "text": [
      "\r",
      " 70%|██████▉   | 209/300 [16:29:32<7:06:53, 281.46s/it]"
     ]
    },
    {
     "name": "stdout",
     "output_type": "stream",
     "text": [
      "['Jon Rahm', 'Brendan Steele', 'Sergio Garcia', 'Chris Wood', 'Daniel Berger', 'Jimmy Walker'] -0.268 ['Jon Rahm', 'Brendan Steele', 'Sergio Garcia', 'David Lingmerth', 'Daniel Berger', 'Jimmy Walker'] -3.152\n"
     ]
    },
    {
     "name": "stderr",
     "output_type": "stream",
     "text": [
      "\r",
      " 70%|███████   | 210/300 [16:34:13<7:02:19, 281.55s/it]"
     ]
    },
    {
     "name": "stdout",
     "output_type": "stream",
     "text": [
      "['Jon Rahm', 'Brendan Steele', 'Sergio Garcia', 'Adam Hadwin', 'Daniel Berger', 'Jimmy Walker'] -1.532 ['Jon Rahm', 'Brendan Steele', 'Sergio Garcia', 'Chris Wood', 'Daniel Berger', 'Jimmy Walker'] -0.268\n",
      "worse team taken\n"
     ]
    },
    {
     "name": "stderr",
     "output_type": "stream",
     "text": [
      "\r",
      " 70%|███████   | 211/300 [16:38:55<6:57:52, 281.71s/it]"
     ]
    },
    {
     "name": "stdout",
     "output_type": "stream",
     "text": [
      "['Jon Rahm', 'Marc Leishman', 'Sergio Garcia', 'Adam Hadwin', 'Daniel Berger', 'Jimmy Walker'] -1.246 ['Jon Rahm', 'Brendan Steele', 'Sergio Garcia', 'Adam Hadwin', 'Daniel Berger', 'Jimmy Walker'] -1.532\n"
     ]
    },
    {
     "name": "stderr",
     "output_type": "stream",
     "text": [
      "\r",
      " 71%|███████   | 212/300 [16:43:37<6:52:56, 281.56s/it]"
     ]
    },
    {
     "name": "stdout",
     "output_type": "stream",
     "text": [
      "['Jon Rahm', 'Marc Leishman', 'Sergio Garcia', 'Adam Hadwin', 'Phil Mickelson', 'Jimmy Walker'] -1.064 ['Jon Rahm', 'Marc Leishman', 'Sergio Garcia', 'Adam Hadwin', 'Daniel Berger', 'Jimmy Walker'] -1.246\n"
     ]
    },
    {
     "name": "stderr",
     "output_type": "stream",
     "text": [
      "\r",
      " 71%|███████   | 213/300 [16:48:18<6:48:10, 281.49s/it]"
     ]
    },
    {
     "name": "stdout",
     "output_type": "stream",
     "text": [
      "['Jon Rahm', 'Kevin Na', 'Sergio Garcia', 'Adam Hadwin', 'Phil Mickelson', 'Jimmy Walker'] -4.706 ['Jon Rahm', 'Marc Leishman', 'Sergio Garcia', 'Adam Hadwin', 'Phil Mickelson', 'Jimmy Walker'] -1.064\n",
      "worse team taken\n"
     ]
    },
    {
     "name": "stderr",
     "output_type": "stream",
     "text": [
      "\r",
      " 71%|███████▏  | 214/300 [16:52:59<6:43:19, 281.39s/it]"
     ]
    },
    {
     "name": "stdout",
     "output_type": "stream",
     "text": [
      "['Jon Rahm', 'Kevin Na', 'Sergio Garcia', 'Tyrrell Hatton', 'Phil Mickelson', 'Jimmy Walker'] -5.825 ['Jon Rahm', 'Kevin Na', 'Sergio Garcia', 'Adam Hadwin', 'Phil Mickelson', 'Jimmy Walker'] -4.706\n",
      "worse team taken\n"
     ]
    },
    {
     "name": "stderr",
     "output_type": "stream",
     "text": [
      "\r",
      " 72%|███████▏  | 215/300 [16:57:40<6:38:30, 281.30s/it]"
     ]
    },
    {
     "name": "stdout",
     "output_type": "stream",
     "text": [
      "['Jon Rahm', 'Kevin Na', 'Sergio Garcia', 'Anirban Lahiri', 'Phil Mickelson', 'Jimmy Walker'] -5.382 ['Jon Rahm', 'Kevin Na', 'Sergio Garcia', 'Tyrrell Hatton', 'Phil Mickelson', 'Jimmy Walker'] -5.825\n"
     ]
    },
    {
     "name": "stderr",
     "output_type": "stream",
     "text": [
      "\r",
      " 72%|███████▏  | 216/300 [17:02:21<6:33:45, 281.26s/it]"
     ]
    },
    {
     "name": "stdout",
     "output_type": "stream",
     "text": [
      "['Jon Rahm', 'Kevin Na', 'Sergio Garcia', 'Anirban Lahiri', 'Phil Mickelson', 'Daniel Berger'] -0.488 ['Jon Rahm', 'Kevin Na', 'Sergio Garcia', 'Anirban Lahiri', 'Phil Mickelson', 'Jimmy Walker'] -5.382\n"
     ]
    },
    {
     "name": "stderr",
     "output_type": "stream",
     "text": [
      "\r",
      " 72%|███████▏  | 217/300 [17:07:02<6:28:54, 281.14s/it]"
     ]
    },
    {
     "name": "stdout",
     "output_type": "stream",
     "text": [
      "['Jon Rahm', 'Kevin Na', 'Sergio Garcia', 'Anirban Lahiri', 'Phil Mickelson', 'Lee Westwood'] -5.372 ['Jon Rahm', 'Kevin Na', 'Sergio Garcia', 'Anirban Lahiri', 'Phil Mickelson', 'Daniel Berger'] -0.488\n",
      "worse team taken\n"
     ]
    },
    {
     "name": "stderr",
     "output_type": "stream",
     "text": [
      "\r",
      " 73%|███████▎  | 218/300 [17:11:44<6:24:18, 281.20s/it]"
     ]
    },
    {
     "name": "stdout",
     "output_type": "stream",
     "text": [
      "['Jon Rahm', 'Jordan L. Smith', 'Sergio Garcia', 'Anirban Lahiri', 'Phil Mickelson', 'Lee Westwood'] -6.539 ['Jon Rahm', 'Kevin Na', 'Sergio Garcia', 'Anirban Lahiri', 'Phil Mickelson', 'Lee Westwood'] -5.372\n"
     ]
    },
    {
     "name": "stderr",
     "output_type": "stream",
     "text": [
      "\r",
      " 73%|███████▎  | 219/300 [17:16:25<6:19:36, 281.19s/it]"
     ]
    },
    {
     "name": "stdout",
     "output_type": "stream",
     "text": [
      "['Jon Rahm', 'Kevin Na', 'Sergio Garcia', 'Alexander Noren', 'Phil Mickelson', 'Lee Westwood'] -0.038 ['Jon Rahm', 'Kevin Na', 'Sergio Garcia', 'Anirban Lahiri', 'Phil Mickelson', 'Lee Westwood'] -5.372\n"
     ]
    },
    {
     "name": "stderr",
     "output_type": "stream",
     "text": [
      "\r",
      " 73%|███████▎  | 220/300 [17:21:06<6:14:59, 281.25s/it]"
     ]
    },
    {
     "name": "stdout",
     "output_type": "stream",
     "text": [
      "['Jon Rahm', 'Kevin Na', 'Sergio Garcia', 'Nicolas Colsaerts', 'Phil Mickelson', 'Lee Westwood'] -5.907 ['Jon Rahm', 'Kevin Na', 'Sergio Garcia', 'Alexander Noren', 'Phil Mickelson', 'Lee Westwood'] -0.038\n",
      "worse team taken\n"
     ]
    },
    {
     "name": "stderr",
     "output_type": "stream",
     "text": [
      "\r",
      " 74%|███████▎  | 221/300 [17:25:47<6:10:16, 281.23s/it]"
     ]
    },
    {
     "name": "stdout",
     "output_type": "stream",
     "text": [
      "['Jon Rahm', 'Kevin Na', 'Sergio Garcia', 'Matthew Fitzpatrick', 'Phil Mickelson', 'Lee Westwood'] 0.718 ['Jon Rahm', 'Kevin Na', 'Sergio Garcia', 'Nicolas Colsaerts', 'Phil Mickelson', 'Lee Westwood'] -5.907\n"
     ]
    },
    {
     "name": "stderr",
     "output_type": "stream",
     "text": [
      "\r",
      " 74%|███████▍  | 222/300 [17:30:29<6:05:45, 281.35s/it]"
     ]
    },
    {
     "name": "stdout",
     "output_type": "stream",
     "text": [
      "['Jon Rahm', 'Kevin Na', 'Sergio Garcia', 'Matthew Fitzpatrick', 'Ryan Moore', 'Lee Westwood'] -1.308 ['Jon Rahm', 'Kevin Na', 'Sergio Garcia', 'Matthew Fitzpatrick', 'Phil Mickelson', 'Lee Westwood'] 0.718\n"
     ]
    },
    {
     "name": "stderr",
     "output_type": "stream",
     "text": [
      "\r",
      " 74%|███████▍  | 223/300 [17:35:10<6:01:07, 281.40s/it]"
     ]
    },
    {
     "name": "stdout",
     "output_type": "stream",
     "text": [
      "['Jon Rahm', 'David Toms', 'Sergio Garcia', 'Matthew Fitzpatrick', 'Phil Mickelson', 'Lee Westwood'] -2.82 ['Jon Rahm', 'Kevin Na', 'Sergio Garcia', 'Matthew Fitzpatrick', 'Phil Mickelson', 'Lee Westwood'] 0.718\n",
      "worse team taken\n"
     ]
    },
    {
     "name": "stderr",
     "output_type": "stream",
     "text": [
      "\r",
      " 75%|███████▍  | 224/300 [17:39:52<5:56:24, 281.38s/it]"
     ]
    },
    {
     "name": "stdout",
     "output_type": "stream",
     "text": [
      "['Jon Rahm', 'David Toms', 'Sergio Garcia', 'Matthew Fitzpatrick', 'Phil Mickelson', 'Cameron Smith'] -0.06 ['Jon Rahm', 'David Toms', 'Sergio Garcia', 'Matthew Fitzpatrick', 'Phil Mickelson', 'Lee Westwood'] -2.82\n"
     ]
    },
    {
     "name": "stderr",
     "output_type": "stream",
     "text": [
      "\r",
      " 75%|███████▌  | 225/300 [17:44:34<5:51:52, 281.50s/it]"
     ]
    },
    {
     "name": "stdout",
     "output_type": "stream",
     "text": [
      "['Jon Rahm', 'David Toms', 'Sergio Garcia', 'Matthew Fitzpatrick', 'Phil Mickelson', 'Jason Dufner'] -4.739 ['Jon Rahm', 'David Toms', 'Sergio Garcia', 'Matthew Fitzpatrick', 'Phil Mickelson', 'Cameron Smith'] -0.06\n"
     ]
    },
    {
     "name": "stderr",
     "output_type": "stream",
     "text": [
      "\r",
      " 75%|███████▌  | 226/300 [17:49:15<5:47:08, 281.46s/it]"
     ]
    },
    {
     "name": "stdout",
     "output_type": "stream",
     "text": [
      "['Jon Rahm', 'Louis Oosthuizen', 'Sergio Garcia', 'Matthew Fitzpatrick', 'Phil Mickelson', 'Cameron Smith'] 13.294 ['Jon Rahm', 'David Toms', 'Sergio Garcia', 'Matthew Fitzpatrick', 'Phil Mickelson', 'Cameron Smith'] -0.06\n"
     ]
    },
    {
     "name": "stderr",
     "output_type": "stream",
     "text": [
      "\r",
      " 76%|███████▌  | 227/300 [17:53:56<5:42:15, 281.31s/it]"
     ]
    },
    {
     "name": "stdout",
     "output_type": "stream",
     "text": [
      "['Jon Rahm', 'Jason Dufner', 'Sergio Garcia', 'Matthew Fitzpatrick', 'Phil Mickelson', 'Cameron Smith'] -1.75 ['Jon Rahm', 'Louis Oosthuizen', 'Sergio Garcia', 'Matthew Fitzpatrick', 'Phil Mickelson', 'Cameron Smith'] 13.294\n",
      "worse team taken\n"
     ]
    },
    {
     "name": "stderr",
     "output_type": "stream",
     "text": [
      "\r",
      " 76%|███████▌  | 228/300 [17:58:37<5:37:31, 281.28s/it]"
     ]
    },
    {
     "name": "stdout",
     "output_type": "stream",
     "text": [
      "['Jon Rahm', 'Jason Dufner', 'Sergio Garcia', 'Matthew Fitzpatrick', 'Phil Mickelson', 'Tyrrell Hatton'] -3.825 ['Jon Rahm', 'Jason Dufner', 'Sergio Garcia', 'Matthew Fitzpatrick', 'Phil Mickelson', 'Cameron Smith'] -1.75\n"
     ]
    },
    {
     "name": "stderr",
     "output_type": "stream",
     "text": [
      "\r",
      " 76%|███████▋  | 229/300 [18:03:19<5:33:06, 281.50s/it]"
     ]
    },
    {
     "name": "stdout",
     "output_type": "stream",
     "text": [
      "['Jon Rahm', 'Thomas Pieters', 'Sergio Garcia', 'Matthew Fitzpatrick', 'Phil Mickelson', 'Cameron Smith'] 15.879 ['Jon Rahm', 'Jason Dufner', 'Sergio Garcia', 'Matthew Fitzpatrick', 'Phil Mickelson', 'Cameron Smith'] -1.75\n"
     ]
    },
    {
     "name": "stderr",
     "output_type": "stream",
     "text": [
      "\r",
      " 77%|███████▋  | 230/300 [18:08:00<5:28:22, 281.46s/it]"
     ]
    },
    {
     "name": "stdout",
     "output_type": "stream",
     "text": [
      "['Jon Rahm', 'Thomas Pieters', 'Sergio Garcia', 'Matthew Fitzpatrick', 'Peter Uihlein', 'Cameron Smith'] 4.738 ['Jon Rahm', 'Thomas Pieters', 'Sergio Garcia', 'Matthew Fitzpatrick', 'Phil Mickelson', 'Cameron Smith'] 15.879\n"
     ]
    },
    {
     "name": "stderr",
     "output_type": "stream",
     "text": [
      "\r",
      " 77%|███████▋  | 231/300 [18:12:41<5:23:26, 281.26s/it]"
     ]
    },
    {
     "name": "stdout",
     "output_type": "stream",
     "text": [
      "['Jon Rahm', 'Thomas Pieters', 'Sergio Garcia', 'Soren Kjeldsen', 'Phil Mickelson', 'Cameron Smith'] -1.45 ['Jon Rahm', 'Thomas Pieters', 'Sergio Garcia', 'Matthew Fitzpatrick', 'Phil Mickelson', 'Cameron Smith'] 15.879\n"
     ]
    },
    {
     "name": "stderr",
     "output_type": "stream",
     "text": [
      "\r",
      " 77%|███████▋  | 232/300 [18:17:23<5:18:49, 281.32s/it]"
     ]
    },
    {
     "name": "stdout",
     "output_type": "stream",
     "text": [
      "['Jon Rahm', 'Jamie Lovemark', 'Sergio Garcia', 'Matthew Fitzpatrick', 'Phil Mickelson', 'Cameron Smith'] 50.929 ['Jon Rahm', 'Thomas Pieters', 'Sergio Garcia', 'Matthew Fitzpatrick', 'Phil Mickelson', 'Cameron Smith'] 15.879\n"
     ]
    },
    {
     "name": "stderr",
     "output_type": "stream",
     "text": [
      "\r",
      " 78%|███████▊  | 233/300 [18:22:05<5:14:25, 281.57s/it]"
     ]
    },
    {
     "name": "stdout",
     "output_type": "stream",
     "text": [
      "['Jon Rahm', 'Jamie Lovemark', 'Sergio Garcia', 'Cody Gribble', 'Phil Mickelson', 'Cameron Smith'] -5.658 ['Jon Rahm', 'Jamie Lovemark', 'Sergio Garcia', 'Matthew Fitzpatrick', 'Phil Mickelson', 'Cameron Smith'] 50.929\n"
     ]
    },
    {
     "name": "stderr",
     "output_type": "stream",
     "text": [
      "\r",
      " 78%|███████▊  | 234/300 [18:26:46<5:09:43, 281.56s/it]"
     ]
    },
    {
     "name": "stdout",
     "output_type": "stream",
     "text": [
      "['Jon Rahm', 'Jamie Lovemark', 'Sergio Garcia', 'Matthew Fitzpatrick', 'Marc Leishman', 'Cameron Smith'] 17.321 ['Jon Rahm', 'Jamie Lovemark', 'Sergio Garcia', 'Matthew Fitzpatrick', 'Phil Mickelson', 'Cameron Smith'] 50.929\n",
      "worse team taken\n"
     ]
    },
    {
     "name": "stderr",
     "output_type": "stream",
     "text": [
      "\r",
      " 78%|███████▊  | 235/300 [18:31:27<5:04:41, 281.25s/it]"
     ]
    },
    {
     "name": "stdout",
     "output_type": "stream",
     "text": [
      "['Jon Rahm', 'Jamie Lovemark', 'Sergio Garcia', 'Matthew Fitzpatrick', 'Phil Mickelson', 'Cameron Smith'] -0.937 ['Jon Rahm', 'Jamie Lovemark', 'Sergio Garcia', 'Matthew Fitzpatrick', 'Marc Leishman', 'Cameron Smith'] 17.321\n",
      "worse team taken\n"
     ]
    },
    {
     "name": "stderr",
     "output_type": "stream",
     "text": [
      "\r",
      " 79%|███████▊  | 236/300 [18:36:09<5:00:11, 281.43s/it]"
     ]
    },
    {
     "name": "stdout",
     "output_type": "stream",
     "text": [
      "['Jon Rahm', 'Billy Horschel', 'Sergio Garcia', 'Matthew Fitzpatrick', 'Phil Mickelson', 'Cameron Smith'] -1.953 ['Jon Rahm', 'Jamie Lovemark', 'Sergio Garcia', 'Matthew Fitzpatrick', 'Phil Mickelson', 'Cameron Smith'] -0.937\n"
     ]
    },
    {
     "name": "stderr",
     "output_type": "stream",
     "text": [
      "\r",
      " 79%|███████▉  | 237/300 [18:40:51<4:55:36, 281.53s/it]"
     ]
    },
    {
     "name": "stdout",
     "output_type": "stream",
     "text": [
      "['Jon Rahm', 'Jamie Lovemark', 'Sergio Garcia', 'Matthew Fitzpatrick', 'Tommy Fleetwood', 'Cameron Smith'] 2.425 ['Jon Rahm', 'Jamie Lovemark', 'Sergio Garcia', 'Matthew Fitzpatrick', 'Phil Mickelson', 'Cameron Smith'] -0.937\n"
     ]
    },
    {
     "name": "stderr",
     "output_type": "stream",
     "text": [
      "\r",
      " 79%|███████▉  | 238/300 [18:45:32<4:50:49, 281.44s/it]"
     ]
    },
    {
     "name": "stdout",
     "output_type": "stream",
     "text": [
      "['Jon Rahm', 'Jamie Lovemark', 'Sergio Garcia', 'Matthew Fitzpatrick', 'Tommy Fleetwood', 'Chez Reavie'] -2.603 ['Jon Rahm', 'Jamie Lovemark', 'Sergio Garcia', 'Matthew Fitzpatrick', 'Tommy Fleetwood', 'Cameron Smith'] 2.425\n"
     ]
    },
    {
     "name": "stderr",
     "output_type": "stream",
     "text": [
      "\r",
      " 80%|███████▉  | 239/300 [18:50:12<4:45:43, 281.04s/it]"
     ]
    },
    {
     "name": "stdout",
     "output_type": "stream",
     "text": [
      "['Jon Rahm', 'Padraig Harrington', 'Sergio Garcia', 'Matthew Fitzpatrick', 'Tommy Fleetwood', 'Cameron Smith'] 31.633 ['Jon Rahm', 'Jamie Lovemark', 'Sergio Garcia', 'Matthew Fitzpatrick', 'Tommy Fleetwood', 'Cameron Smith'] 2.425\n"
     ]
    },
    {
     "name": "stderr",
     "output_type": "stream",
     "text": [
      "\r",
      " 80%|████████  | 240/300 [18:54:53<4:41:11, 281.20s/it]"
     ]
    },
    {
     "name": "stdout",
     "output_type": "stream",
     "text": [
      "['Jon Rahm', 'Padraig Harrington', 'Sergio Garcia', 'Byeong-Hun An', 'Tommy Fleetwood', 'Cameron Smith'] -3.25 ['Jon Rahm', 'Padraig Harrington', 'Sergio Garcia', 'Matthew Fitzpatrick', 'Tommy Fleetwood', 'Cameron Smith'] 31.633\n"
     ]
    },
    {
     "name": "stderr",
     "output_type": "stream",
     "text": [
      "\r",
      " 80%|████████  | 241/300 [18:59:34<4:36:25, 281.11s/it]"
     ]
    },
    {
     "name": "stdout",
     "output_type": "stream",
     "text": [
      "['Henrik Stenson', 'Padraig Harrington', 'Sergio Garcia', 'Matthew Fitzpatrick', 'Tommy Fleetwood', 'Cameron Smith'] 24.142 ['Jon Rahm', 'Padraig Harrington', 'Sergio Garcia', 'Matthew Fitzpatrick', 'Tommy Fleetwood', 'Cameron Smith'] 31.633\n"
     ]
    },
    {
     "name": "stderr",
     "output_type": "stream",
     "text": [
      "\r",
      " 81%|████████  | 242/300 [19:04:16<4:31:46, 281.15s/it]"
     ]
    },
    {
     "name": "stdout",
     "output_type": "stream",
     "text": [
      "['Jon Rahm', 'Padraig Harrington', 'Sergio Garcia', 'Matthew Fitzpatrick', 'Tommy Fleetwood', 'Jhonattan Vegas'] -4.354 ['Jon Rahm', 'Padraig Harrington', 'Sergio Garcia', 'Matthew Fitzpatrick', 'Tommy Fleetwood', 'Cameron Smith'] 31.633\n"
     ]
    },
    {
     "name": "stderr",
     "output_type": "stream",
     "text": [
      "\r",
      " 81%|████████  | 243/300 [19:08:56<4:27:00, 281.06s/it]"
     ]
    },
    {
     "name": "stdout",
     "output_type": "stream",
     "text": [
      "['Jon Rahm', 'Chris Wood', 'Sergio Garcia', 'Matthew Fitzpatrick', 'Tommy Fleetwood', 'Cameron Smith'] -4.106 ['Jon Rahm', 'Padraig Harrington', 'Sergio Garcia', 'Matthew Fitzpatrick', 'Tommy Fleetwood', 'Cameron Smith'] 31.633\n"
     ]
    },
    {
     "name": "stderr",
     "output_type": "stream",
     "text": [
      "\r",
      " 81%|████████▏ | 244/300 [19:13:38<4:22:35, 281.35s/it]"
     ]
    },
    {
     "name": "stdout",
     "output_type": "stream",
     "text": [
      "['Jon Rahm', 'Padraig Harrington', 'Henrik Stenson', 'Matthew Fitzpatrick', 'Tommy Fleetwood', 'Cameron Smith'] 0.706 ['Jon Rahm', 'Padraig Harrington', 'Sergio Garcia', 'Matthew Fitzpatrick', 'Tommy Fleetwood', 'Cameron Smith'] 31.633\n"
     ]
    },
    {
     "name": "stderr",
     "output_type": "stream",
     "text": [
      "\r",
      " 82%|████████▏ | 245/300 [19:18:20<4:18:04, 281.54s/it]"
     ]
    },
    {
     "name": "stdout",
     "output_type": "stream",
     "text": [
      "['Jon Rahm', 'Padraig Harrington', 'Sergio Garcia', 'Matthew Fitzpatrick', 'Tommy Fleetwood', 'Chris Wood'] -1.902 ['Jon Rahm', 'Padraig Harrington', 'Sergio Garcia', 'Matthew Fitzpatrick', 'Tommy Fleetwood', 'Cameron Smith'] 31.633\n",
      "worse team taken\n"
     ]
    },
    {
     "name": "stderr",
     "output_type": "stream",
     "text": [
      "\r",
      " 82%|████████▏ | 246/300 [19:23:02<4:13:18, 281.45s/it]"
     ]
    },
    {
     "name": "stdout",
     "output_type": "stream",
     "text": [
      "['Jon Rahm', 'Padraig Harrington', 'Sergio Garcia', 'Matthew Fitzpatrick', 'Tommy Fleetwood', 'Steve Stricker'] -0.98 ['Jon Rahm', 'Padraig Harrington', 'Sergio Garcia', 'Matthew Fitzpatrick', 'Tommy Fleetwood', 'Chris Wood'] -1.902\n"
     ]
    },
    {
     "name": "stderr",
     "output_type": "stream",
     "text": [
      "\r",
      " 82%|████████▏ | 247/300 [19:27:43<4:08:28, 281.29s/it]"
     ]
    },
    {
     "name": "stdout",
     "output_type": "stream",
     "text": [
      "['Jon Rahm', 'Padraig Harrington', 'Sergio Garcia', 'Matthew Fitzpatrick', 'Alexander Noren', 'Steve Stricker'] 15.159 ['Jon Rahm', 'Padraig Harrington', 'Sergio Garcia', 'Matthew Fitzpatrick', 'Tommy Fleetwood', 'Steve Stricker'] -0.98\n"
     ]
    },
    {
     "name": "stderr",
     "output_type": "stream",
     "text": [
      "\r",
      " 83%|████████▎ | 248/300 [19:32:24<4:03:41, 281.18s/it]"
     ]
    },
    {
     "name": "stdout",
     "output_type": "stream",
     "text": [
      "['Jon Rahm', 'Padraig Harrington', 'Sergio Garcia', 'Peter Uihlein', 'Alexander Noren', 'Steve Stricker'] -3.416 ['Jon Rahm', 'Padraig Harrington', 'Sergio Garcia', 'Matthew Fitzpatrick', 'Alexander Noren', 'Steve Stricker'] 15.159\n"
     ]
    },
    {
     "name": "stderr",
     "output_type": "stream",
     "text": [
      "\r",
      " 83%|████████▎ | 249/300 [19:37:05<3:59:04, 281.26s/it]"
     ]
    },
    {
     "name": "stdout",
     "output_type": "stream",
     "text": [
      "['Jon Rahm', 'Kelly Kraft', 'Sergio Garcia', 'Matthew Fitzpatrick', 'Alexander Noren', 'Steve Stricker'] -3.605 ['Jon Rahm', 'Padraig Harrington', 'Sergio Garcia', 'Matthew Fitzpatrick', 'Alexander Noren', 'Steve Stricker'] 15.159\n"
     ]
    },
    {
     "name": "stderr",
     "output_type": "stream",
     "text": [
      "\r",
      " 83%|████████▎ | 250/300 [19:41:47<3:54:28, 281.36s/it]"
     ]
    },
    {
     "name": "stdout",
     "output_type": "stream",
     "text": [
      "['Jon Rahm', 'Padraig Harrington', 'Sergio Garcia', 'Matthew Fitzpatrick', 'Alexander Noren', 'Kevin Chappell'] 16.268 ['Jon Rahm', 'Padraig Harrington', 'Sergio Garcia', 'Matthew Fitzpatrick', 'Alexander Noren', 'Steve Stricker'] 15.159\n"
     ]
    },
    {
     "name": "stderr",
     "output_type": "stream",
     "text": [
      "\r",
      " 84%|████████▎ | 251/300 [19:46:27<3:49:34, 281.11s/it]"
     ]
    },
    {
     "name": "stdout",
     "output_type": "stream",
     "text": [
      "['Jon Rahm', 'Daniel Berger', 'Sergio Garcia', 'Matthew Fitzpatrick', 'Alexander Noren', 'Kevin Chappell'] 18.377 ['Jon Rahm', 'Padraig Harrington', 'Sergio Garcia', 'Matthew Fitzpatrick', 'Alexander Noren', 'Kevin Chappell'] 16.268\n"
     ]
    },
    {
     "name": "stderr",
     "output_type": "stream",
     "text": [
      "\r",
      " 84%|████████▍ | 252/300 [19:51:08<3:44:50, 281.05s/it]"
     ]
    },
    {
     "name": "stdout",
     "output_type": "stream",
     "text": [
      "['Jon Rahm', 'Daniel Berger', 'Sergio Garcia', 'Matthew Fitzpatrick', 'Alexander Noren', 'Younghan Song'] 12.64 ['Jon Rahm', 'Daniel Berger', 'Sergio Garcia', 'Matthew Fitzpatrick', 'Alexander Noren', 'Kevin Chappell'] 18.377\n",
      "worse team taken\n"
     ]
    },
    {
     "name": "stderr",
     "output_type": "stream",
     "text": [
      "\r",
      " 84%|████████▍ | 253/300 [19:55:49<3:40:13, 281.13s/it]"
     ]
    },
    {
     "name": "stdout",
     "output_type": "stream",
     "text": [
      "['Jon Rahm', 'Daniel Berger', 'Sergio Garcia', 'Patrick Cantlay', 'Alexander Noren', 'Younghan Song'] -5.073 ['Jon Rahm', 'Daniel Berger', 'Sergio Garcia', 'Matthew Fitzpatrick', 'Alexander Noren', 'Younghan Song'] 12.64\n"
     ]
    },
    {
     "name": "stderr",
     "output_type": "stream",
     "text": [
      "\r",
      " 85%|████████▍ | 254/300 [20:00:30<3:35:23, 280.95s/it]"
     ]
    },
    {
     "name": "stdout",
     "output_type": "stream",
     "text": [
      "['Jon Rahm', 'Daniel Berger', 'Sergio Garcia', 'Matthew Fitzpatrick', 'Alexander Noren', 'Webb Simpson'] -0.074 ['Jon Rahm', 'Daniel Berger', 'Sergio Garcia', 'Matthew Fitzpatrick', 'Alexander Noren', 'Younghan Song'] 12.64\n"
     ]
    },
    {
     "name": "stderr",
     "output_type": "stream",
     "text": [
      "\r",
      " 85%|████████▌ | 255/300 [20:05:11<3:30:49, 281.09s/it]"
     ]
    },
    {
     "name": "stdout",
     "output_type": "stream",
     "text": [
      "['Jon Rahm', 'Daniel Berger', 'Henrik Stenson', 'Matthew Fitzpatrick', 'Alexander Noren', 'Younghan Song'] -3.207 ['Jon Rahm', 'Daniel Berger', 'Sergio Garcia', 'Matthew Fitzpatrick', 'Alexander Noren', 'Younghan Song'] 12.64\n"
     ]
    },
    {
     "name": "stderr",
     "output_type": "stream",
     "text": [
      "\r",
      " 85%|████████▌ | 256/300 [20:09:53<3:26:20, 281.38s/it]"
     ]
    },
    {
     "name": "stdout",
     "output_type": "stream",
     "text": [
      "['Henrik Stenson', 'Daniel Berger', 'Sergio Garcia', 'Matthew Fitzpatrick', 'Alexander Noren', 'Younghan Song'] 1.999 ['Jon Rahm', 'Daniel Berger', 'Sergio Garcia', 'Matthew Fitzpatrick', 'Alexander Noren', 'Younghan Song'] 12.64\n",
      "worse team taken\n"
     ]
    },
    {
     "name": "stderr",
     "output_type": "stream",
     "text": [
      "\r",
      " 86%|████████▌ | 257/300 [20:14:35<3:21:37, 281.33s/it]"
     ]
    },
    {
     "name": "stdout",
     "output_type": "stream",
     "text": [
      "['Henrik Stenson', 'Daniel Berger', 'Sergio Garcia', 'Matthew Fitzpatrick', 'Alexander Noren', 'Kelly Kraft'] 4.105 ['Henrik Stenson', 'Daniel Berger', 'Sergio Garcia', 'Matthew Fitzpatrick', 'Alexander Noren', 'Younghan Song'] 1.999\n"
     ]
    },
    {
     "name": "stderr",
     "output_type": "stream",
     "text": [
      "\r",
      " 86%|████████▌ | 258/300 [20:19:16<3:16:54, 281.30s/it]"
     ]
    },
    {
     "name": "stdout",
     "output_type": "stream",
     "text": [
      "['Henrik Stenson', 'Daniel Berger', 'Sergio Garcia', 'Matthew Fitzpatrick', 'Alexander Noren', 'Keegan Bradley'] -0.394 ['Henrik Stenson', 'Daniel Berger', 'Sergio Garcia', 'Matthew Fitzpatrick', 'Alexander Noren', 'Kelly Kraft'] 4.105\n"
     ]
    },
    {
     "name": "stderr",
     "output_type": "stream",
     "text": [
      "\r",
      " 86%|████████▋ | 259/300 [20:23:58<3:12:20, 281.49s/it]"
     ]
    },
    {
     "name": "stdout",
     "output_type": "stream",
     "text": [
      "['Henrik Stenson', 'Daniel Berger', 'Sergio Garcia', 'Matthew Fitzpatrick', 'Alexander Noren', 'Tyrrell Hatton'] -2.696 ['Henrik Stenson', 'Daniel Berger', 'Sergio Garcia', 'Matthew Fitzpatrick', 'Alexander Noren', 'Kelly Kraft'] 4.105\n"
     ]
    },
    {
     "name": "stderr",
     "output_type": "stream",
     "text": [
      "\r",
      " 87%|████████▋ | 260/300 [20:28:39<3:07:40, 281.52s/it]"
     ]
    },
    {
     "name": "stdout",
     "output_type": "stream",
     "text": [
      "['Henrik Stenson', 'Daniel Berger', 'Sergio Garcia', 'Matthew Fitzpatrick', 'Alexander Noren', 'Chris Stroud'] -4.294 ['Henrik Stenson', 'Daniel Berger', 'Sergio Garcia', 'Matthew Fitzpatrick', 'Alexander Noren', 'Kelly Kraft'] 4.105\n"
     ]
    },
    {
     "name": "stderr",
     "output_type": "stream",
     "text": [
      "\r",
      " 87%|████████▋ | 261/300 [20:33:21<3:03:02, 281.61s/it]"
     ]
    },
    {
     "name": "stdout",
     "output_type": "stream",
     "text": [
      "['Henrik Stenson', 'Jonas Blixt', 'Sergio Garcia', 'Matthew Fitzpatrick', 'Alexander Noren', 'Kelly Kraft'] -5.991 ['Henrik Stenson', 'Daniel Berger', 'Sergio Garcia', 'Matthew Fitzpatrick', 'Alexander Noren', 'Kelly Kraft'] 4.105\n"
     ]
    },
    {
     "name": "stderr",
     "output_type": "stream",
     "text": [
      "\r",
      " 87%|████████▋ | 262/300 [20:38:02<2:58:17, 281.52s/it]"
     ]
    },
    {
     "name": "stdout",
     "output_type": "stream",
     "text": [
      "['Henrik Stenson', 'Daniel Berger', 'Sergio Garcia', 'Matthew Fitzpatrick', 'Alexander Noren', 'Thorbjorn Olesen'] 15.211 ['Henrik Stenson', 'Daniel Berger', 'Sergio Garcia', 'Matthew Fitzpatrick', 'Alexander Noren', 'Kelly Kraft'] 4.105\n"
     ]
    },
    {
     "name": "stderr",
     "output_type": "stream",
     "text": [
      "\r",
      " 88%|████████▊ | 263/300 [20:42:44<2:53:40, 281.63s/it]"
     ]
    },
    {
     "name": "stdout",
     "output_type": "stream",
     "text": [
      "['Henrik Stenson', 'Daniel Berger', 'Sergio Garcia', 'Matthew Fitzpatrick', 'Jamie Lovemark', 'Thorbjorn Olesen'] -1.362 ['Henrik Stenson', 'Daniel Berger', 'Sergio Garcia', 'Matthew Fitzpatrick', 'Alexander Noren', 'Thorbjorn Olesen'] 15.211\n"
     ]
    },
    {
     "name": "stderr",
     "output_type": "stream",
     "text": [
      "\r",
      " 88%|████████▊ | 264/300 [20:47:26<2:48:56, 281.57s/it]"
     ]
    },
    {
     "name": "stdout",
     "output_type": "stream",
     "text": [
      "['Henrik Stenson', 'Keegan Bradley', 'Sergio Garcia', 'Matthew Fitzpatrick', 'Alexander Noren', 'Thorbjorn Olesen'] -4.168 ['Henrik Stenson', 'Daniel Berger', 'Sergio Garcia', 'Matthew Fitzpatrick', 'Alexander Noren', 'Thorbjorn Olesen'] 15.211\n"
     ]
    },
    {
     "name": "stderr",
     "output_type": "stream",
     "text": [
      "\r",
      " 88%|████████▊ | 265/300 [20:52:08<2:44:19, 281.70s/it]"
     ]
    },
    {
     "name": "stdout",
     "output_type": "stream",
     "text": [
      "['Henrik Stenson', 'Daniel Berger', 'Sergio Garcia', 'Louis Oosthuizen', 'Alexander Noren', 'Thorbjorn Olesen'] 0.173 ['Henrik Stenson', 'Daniel Berger', 'Sergio Garcia', 'Matthew Fitzpatrick', 'Alexander Noren', 'Thorbjorn Olesen'] 15.211\n"
     ]
    },
    {
     "name": "stderr",
     "output_type": "stream",
     "text": [
      "\r",
      " 89%|████████▊ | 266/300 [20:56:49<2:39:30, 281.49s/it]"
     ]
    },
    {
     "name": "stdout",
     "output_type": "stream",
     "text": [
      "['Henrik Stenson', 'Daniel Berger', 'Sergio Garcia', 'Matthew Fitzpatrick', 'Alexander Noren', 'Thomas Pieters'] 45.731 ['Henrik Stenson', 'Daniel Berger', 'Sergio Garcia', 'Matthew Fitzpatrick', 'Alexander Noren', 'Thorbjorn Olesen'] 15.211\n"
     ]
    },
    {
     "name": "stderr",
     "output_type": "stream",
     "text": [
      "\r",
      " 89%|████████▉ | 267/300 [21:01:30<2:34:45, 281.39s/it]"
     ]
    },
    {
     "name": "stdout",
     "output_type": "stream",
     "text": [
      "['Henrik Stenson', 'Daniel Berger', 'Sergio Garcia', 'Matthew Fitzpatrick', 'Alexander Noren', 'Brandon Stone'] -1.404 ['Henrik Stenson', 'Daniel Berger', 'Sergio Garcia', 'Matthew Fitzpatrick', 'Alexander Noren', 'Thomas Pieters'] 45.731\n"
     ]
    },
    {
     "name": "stderr",
     "output_type": "stream",
     "text": [
      "\r",
      " 89%|████████▉ | 268/300 [21:06:12<2:30:10, 281.59s/it]"
     ]
    },
    {
     "name": "stdout",
     "output_type": "stream",
     "text": [
      "['Phil Mickelson', 'Daniel Berger', 'Sergio Garcia', 'Matthew Fitzpatrick', 'Alexander Noren', 'Thomas Pieters'] 22.055 ['Henrik Stenson', 'Daniel Berger', 'Sergio Garcia', 'Matthew Fitzpatrick', 'Alexander Noren', 'Thomas Pieters'] 45.731\n"
     ]
    },
    {
     "name": "stderr",
     "output_type": "stream",
     "text": [
      "\r",
      " 90%|████████▉ | 269/300 [21:10:54<2:25:33, 281.73s/it]"
     ]
    },
    {
     "name": "stdout",
     "output_type": "stream",
     "text": [
      "['Henrik Stenson', 'Daniel Berger', 'Sergio Garcia', 'Matthew Fitzpatrick', 'Alexander Noren', 'Mackenzie Hughes'] -5.394 ['Henrik Stenson', 'Daniel Berger', 'Sergio Garcia', 'Matthew Fitzpatrick', 'Alexander Noren', 'Thomas Pieters'] 45.731\n"
     ]
    },
    {
     "name": "stderr",
     "output_type": "stream",
     "text": [
      "\r",
      " 90%|█████████ | 270/300 [21:15:34<2:20:40, 281.35s/it]"
     ]
    },
    {
     "name": "stdout",
     "output_type": "stream",
     "text": [
      "['Henrik Stenson', 'Charl Schwartzel', 'Sergio Garcia', 'Matthew Fitzpatrick', 'Alexander Noren', 'Thomas Pieters'] 43.824 ['Henrik Stenson', 'Daniel Berger', 'Sergio Garcia', 'Matthew Fitzpatrick', 'Alexander Noren', 'Thomas Pieters'] 45.731\n"
     ]
    },
    {
     "name": "stderr",
     "output_type": "stream",
     "text": [
      "\r",
      " 90%|█████████ | 271/300 [21:20:16<2:16:01, 281.42s/it]"
     ]
    },
    {
     "name": "stdout",
     "output_type": "stream",
     "text": [
      "['Henrik Stenson', 'Daniel Berger', 'Tommy Fleetwood', 'Matthew Fitzpatrick', 'Alexander Noren', 'Thomas Pieters'] 3.256 ['Henrik Stenson', 'Daniel Berger', 'Sergio Garcia', 'Matthew Fitzpatrick', 'Alexander Noren', 'Thomas Pieters'] 45.731\n",
      "worse team taken\n"
     ]
    },
    {
     "name": "stderr",
     "output_type": "stream",
     "text": [
      "\r",
      " 91%|█████████ | 272/300 [21:24:57<2:11:19, 281.43s/it]"
     ]
    },
    {
     "name": "stdout",
     "output_type": "stream",
     "text": [
      "['Henrik Stenson', 'Justin Thomas', 'Tommy Fleetwood', 'Matthew Fitzpatrick', 'Alexander Noren', 'Thomas Pieters'] 11.394 ['Henrik Stenson', 'Daniel Berger', 'Tommy Fleetwood', 'Matthew Fitzpatrick', 'Alexander Noren', 'Thomas Pieters'] 3.256\n"
     ]
    },
    {
     "name": "stderr",
     "output_type": "stream",
     "text": [
      "\r",
      " 91%|█████████ | 273/300 [21:29:38<2:06:34, 281.28s/it]"
     ]
    },
    {
     "name": "stdout",
     "output_type": "stream",
     "text": [
      "['Henrik Stenson', 'Justin Thomas', 'Tommy Fleetwood', 'Matthew Fitzpatrick', 'Lucas Glover', 'Thomas Pieters'] 0.089 ['Henrik Stenson', 'Justin Thomas', 'Tommy Fleetwood', 'Matthew Fitzpatrick', 'Alexander Noren', 'Thomas Pieters'] 11.394\n"
     ]
    },
    {
     "name": "stderr",
     "output_type": "stream",
     "text": [
      "\r",
      " 91%|█████████▏| 274/300 [21:34:19<2:01:50, 281.16s/it]"
     ]
    },
    {
     "name": "stdout",
     "output_type": "stream",
     "text": [
      "['Henrik Stenson', 'Justin Thomas', 'Tommy Fleetwood', 'Matthew Fitzpatrick', 'David Toms', 'Thomas Pieters'] -4.909 ['Henrik Stenson', 'Justin Thomas', 'Tommy Fleetwood', 'Matthew Fitzpatrick', 'Alexander Noren', 'Thomas Pieters'] 11.394\n",
      "worse team taken\n"
     ]
    },
    {
     "name": "stderr",
     "output_type": "stream",
     "text": [
      "\r",
      " 92%|█████████▏| 275/300 [21:39:00<1:57:07, 281.11s/it]"
     ]
    },
    {
     "name": "stdout",
     "output_type": "stream",
     "text": [
      "['Henrik Stenson', 'Justin Thomas', 'Tommy Fleetwood', 'Matthew Fitzpatrick', 'Si Woo Kim', 'Thomas Pieters'] 3.143 ['Henrik Stenson', 'Justin Thomas', 'Tommy Fleetwood', 'Matthew Fitzpatrick', 'David Toms', 'Thomas Pieters'] -4.909\n"
     ]
    },
    {
     "name": "stderr",
     "output_type": "stream",
     "text": [
      "\r",
      " 92%|█████████▏| 276/300 [21:43:42<1:52:31, 281.30s/it]"
     ]
    },
    {
     "name": "stdout",
     "output_type": "stream",
     "text": [
      "['Henrik Stenson', 'Justin Thomas', 'Tommy Fleetwood', 'Matthew Fitzpatrick', 'Graeme McDowell', 'Thomas Pieters'] -0.281 ['Henrik Stenson', 'Justin Thomas', 'Tommy Fleetwood', 'Matthew Fitzpatrick', 'Si Woo Kim', 'Thomas Pieters'] 3.143\n",
      "worse team taken\n"
     ]
    },
    {
     "name": "stderr",
     "output_type": "stream",
     "text": [
      "\r",
      " 92%|█████████▏| 277/300 [21:48:24<1:47:52, 281.41s/it]"
     ]
    },
    {
     "name": "stdout",
     "output_type": "stream",
     "text": [
      "['Henrik Stenson', 'Justin Thomas', 'Tommy Fleetwood', 'Matthew Fitzpatrick', 'Graeme McDowell', 'Louis Oosthuizen'] -3.162 ['Henrik Stenson', 'Justin Thomas', 'Tommy Fleetwood', 'Matthew Fitzpatrick', 'Graeme McDowell', 'Thomas Pieters'] -0.281\n",
      "worse team taken\n"
     ]
    },
    {
     "name": "stderr",
     "output_type": "stream",
     "text": [
      "\r",
      " 93%|█████████▎| 278/300 [21:53:05<1:43:11, 281.42s/it]"
     ]
    },
    {
     "name": "stdout",
     "output_type": "stream",
     "text": [
      "['Henrik Stenson', 'Justin Thomas', 'Tommy Fleetwood', 'Matthew Fitzpatrick', 'Mackenzie Hughes', 'Louis Oosthuizen'] -6.745 ['Henrik Stenson', 'Justin Thomas', 'Tommy Fleetwood', 'Matthew Fitzpatrick', 'Graeme McDowell', 'Louis Oosthuizen'] -3.162\n",
      "worse team taken\n"
     ]
    },
    {
     "name": "stderr",
     "output_type": "stream",
     "text": [
      "\r",
      " 93%|█████████▎| 279/300 [21:57:46<1:38:29, 281.39s/it]"
     ]
    },
    {
     "name": "stdout",
     "output_type": "stream",
     "text": [
      "['Henrik Stenson', 'Justin Thomas', 'Tommy Fleetwood', 'Matthew Fitzpatrick', 'Byeong-Hun An', 'Louis Oosthuizen'] 10.644 ['Henrik Stenson', 'Justin Thomas', 'Tommy Fleetwood', 'Matthew Fitzpatrick', 'Mackenzie Hughes', 'Louis Oosthuizen'] -6.745\n"
     ]
    },
    {
     "name": "stderr",
     "output_type": "stream",
     "text": [
      "\r",
      " 93%|█████████▎| 280/300 [22:02:28<1:33:46, 281.31s/it]"
     ]
    },
    {
     "name": "stdout",
     "output_type": "stream",
     "text": [
      "['Henrik Stenson', 'Justin Thomas', 'Tommy Fleetwood', 'Matthew Fitzpatrick', 'Byeong-Hun An', 'Lucas Glover'] -3.934 ['Henrik Stenson', 'Justin Thomas', 'Tommy Fleetwood', 'Matthew Fitzpatrick', 'Byeong-Hun An', 'Louis Oosthuizen'] 10.644\n"
     ]
    },
    {
     "name": "stderr",
     "output_type": "stream",
     "text": [
      "\r",
      " 94%|█████████▎| 281/300 [22:07:09<1:29:04, 281.31s/it]"
     ]
    },
    {
     "name": "stdout",
     "output_type": "stream",
     "text": [
      "['Henrik Stenson', 'Justin Thomas', 'Tommy Fleetwood', 'James Hahn', 'Byeong-Hun An', 'Louis Oosthuizen'] -5.459 ['Henrik Stenson', 'Justin Thomas', 'Tommy Fleetwood', 'Matthew Fitzpatrick', 'Byeong-Hun An', 'Louis Oosthuizen'] 10.644\n"
     ]
    },
    {
     "name": "stderr",
     "output_type": "stream",
     "text": [
      "\r",
      " 94%|█████████▍| 282/300 [22:11:55<1:24:48, 282.67s/it]"
     ]
    },
    {
     "name": "stdout",
     "output_type": "stream",
     "text": [
      "['Henrik Stenson', 'Justin Thomas', 'Tommy Fleetwood', 'Jimmy Walker', 'Byeong-Hun An', 'Louis Oosthuizen'] -5.808 ['Henrik Stenson', 'Justin Thomas', 'Tommy Fleetwood', 'Matthew Fitzpatrick', 'Byeong-Hun An', 'Louis Oosthuizen'] 10.644\n",
      "worse team taken\n"
     ]
    },
    {
     "name": "stderr",
     "output_type": "stream",
     "text": [
      "\r",
      " 94%|█████████▍| 283/300 [22:16:43<1:20:33, 284.32s/it]"
     ]
    },
    {
     "name": "stdout",
     "output_type": "stream",
     "text": [
      "['Henrik Stenson', 'Justin Thomas', 'Tommy Fleetwood', 'Jimmy Walker', 'Adam Scott', 'Louis Oosthuizen'] -3.885 ['Henrik Stenson', 'Justin Thomas', 'Tommy Fleetwood', 'Jimmy Walker', 'Byeong-Hun An', 'Louis Oosthuizen'] -5.808\n"
     ]
    },
    {
     "name": "stderr",
     "output_type": "stream",
     "text": [
      "\r",
      " 95%|█████████▍| 284/300 [22:21:33<1:16:18, 286.17s/it]"
     ]
    },
    {
     "name": "stdout",
     "output_type": "stream",
     "text": [
      "['Henrik Stenson', 'Brooks Koepka', 'Tommy Fleetwood', 'Jimmy Walker', 'Adam Scott', 'Louis Oosthuizen'] -0.608 ['Henrik Stenson', 'Justin Thomas', 'Tommy Fleetwood', 'Jimmy Walker', 'Adam Scott', 'Louis Oosthuizen'] -3.885\n"
     ]
    },
    {
     "name": "stderr",
     "output_type": "stream",
     "text": [
      "\r",
      " 95%|█████████▌| 285/300 [22:26:20<1:11:34, 286.33s/it]"
     ]
    },
    {
     "name": "stdout",
     "output_type": "stream",
     "text": [
      "['Henrik Stenson', 'Brooks Koepka', 'Tommy Fleetwood', 'Jimmy Walker', 'Emiliano Grillo', 'Louis Oosthuizen'] 0.172 ['Henrik Stenson', 'Brooks Koepka', 'Tommy Fleetwood', 'Jimmy Walker', 'Adam Scott', 'Louis Oosthuizen'] -0.608\n"
     ]
    },
    {
     "name": "stderr",
     "output_type": "stream",
     "text": [
      "\r",
      " 95%|█████████▌| 286/300 [22:31:18<1:07:38, 289.92s/it]"
     ]
    },
    {
     "name": "stdout",
     "output_type": "stream",
     "text": [
      "['Henrik Stenson', 'Brooks Koepka', 'Tommy Fleetwood', 'Bryson DeChambeau', 'Emiliano Grillo', 'Louis Oosthuizen'] 2.34 ['Henrik Stenson', 'Brooks Koepka', 'Tommy Fleetwood', 'Jimmy Walker', 'Emiliano Grillo', 'Louis Oosthuizen'] 0.172\n"
     ]
    },
    {
     "name": "stderr",
     "output_type": "stream",
     "text": [
      "\r",
      " 96%|█████████▌| 287/300 [22:36:08<1:02:46, 289.76s/it]"
     ]
    },
    {
     "name": "stdout",
     "output_type": "stream",
     "text": [
      "['Henrik Stenson', 'Brooks Koepka', 'Tommy Fleetwood', 'D.A. Points', 'Emiliano Grillo', 'Louis Oosthuizen'] 21.551 ['Henrik Stenson', 'Brooks Koepka', 'Tommy Fleetwood', 'Bryson DeChambeau', 'Emiliano Grillo', 'Louis Oosthuizen'] 2.34\n"
     ]
    },
    {
     "name": "stderr",
     "output_type": "stream",
     "text": [
      "\r",
      " 96%|█████████▌| 288/300 [22:40:52<57:37, 288.16s/it]  "
     ]
    },
    {
     "name": "stdout",
     "output_type": "stream",
     "text": [
      "['Henrik Stenson', 'Brooks Koepka', 'Tommy Fleetwood', 'D.A. Points', 'Emiliano Grillo', 'Louis Oosthuizen'] -4.234 ['Henrik Stenson', 'Brooks Koepka', 'Tommy Fleetwood', 'D.A. Points', 'Emiliano Grillo', 'Louis Oosthuizen'] 21.551\n"
     ]
    },
    {
     "name": "stderr",
     "output_type": "stream",
     "text": [
      "\r",
      " 96%|█████████▋| 289/300 [22:45:37<52:38, 287.12s/it]"
     ]
    },
    {
     "name": "stdout",
     "output_type": "stream",
     "text": [
      "['Henrik Stenson', 'Brooks Koepka', 'Tommy Fleetwood', 'Robert Streb', 'Emiliano Grillo', 'Louis Oosthuizen'] -1.552 ['Henrik Stenson', 'Brooks Koepka', 'Tommy Fleetwood', 'D.A. Points', 'Emiliano Grillo', 'Louis Oosthuizen'] 21.551\n"
     ]
    },
    {
     "name": "stderr",
     "output_type": "stream",
     "text": [
      "\r",
      " 97%|█████████▋| 290/300 [22:50:22<47:43, 286.37s/it]"
     ]
    },
    {
     "name": "stdout",
     "output_type": "stream",
     "text": [
      "['Henrik Stenson', 'Brooks Koepka', 'Tommy Fleetwood', 'D.A. Points', 'Graham DeLaet', 'Louis Oosthuizen'] -6.248 ['Henrik Stenson', 'Brooks Koepka', 'Tommy Fleetwood', 'D.A. Points', 'Emiliano Grillo', 'Louis Oosthuizen'] 21.551\n",
      "worse team taken\n"
     ]
    },
    {
     "name": "stderr",
     "output_type": "stream",
     "text": [
      "\r",
      " 97%|█████████▋| 291/300 [22:55:18<43:25, 289.48s/it]"
     ]
    },
    {
     "name": "stdout",
     "output_type": "stream",
     "text": [
      "['Henrik Stenson', 'Brooks Koepka', 'Tommy Fleetwood', 'Brendan Steele', 'Graham DeLaet', 'Louis Oosthuizen'] -3.285 ['Henrik Stenson', 'Brooks Koepka', 'Tommy Fleetwood', 'D.A. Points', 'Graham DeLaet', 'Louis Oosthuizen'] -6.248\n"
     ]
    },
    {
     "name": "stderr",
     "output_type": "stream",
     "text": [
      "\r",
      " 97%|█████████▋| 292/300 [23:00:21<39:07, 293.42s/it]"
     ]
    },
    {
     "name": "stdout",
     "output_type": "stream",
     "text": [
      "['Henrik Stenson', 'Brooks Koepka', 'Tommy Fleetwood', 'Brandon Stone', 'Graham DeLaet', 'Louis Oosthuizen'] -6.194 ['Henrik Stenson', 'Brooks Koepka', 'Tommy Fleetwood', 'Brendan Steele', 'Graham DeLaet', 'Louis Oosthuizen'] -3.285\n",
      "worse team taken\n"
     ]
    },
    {
     "name": "stderr",
     "output_type": "stream",
     "text": [
      "\r",
      " 98%|█████████▊| 293/300 [23:05:22<34:30, 295.78s/it]"
     ]
    },
    {
     "name": "stdout",
     "output_type": "stream",
     "text": [
      "['Henrik Stenson', 'Brooks Koepka', 'Tommy Fleetwood', 'Brandon Stone', 'Webb Simpson', 'Louis Oosthuizen'] -6.066 ['Henrik Stenson', 'Brooks Koepka', 'Tommy Fleetwood', 'Brandon Stone', 'Graham DeLaet', 'Louis Oosthuizen'] -6.194\n"
     ]
    },
    {
     "name": "stderr",
     "output_type": "stream",
     "text": [
      "\r",
      " 98%|█████████▊| 294/300 [23:10:20<29:38, 296.39s/it]"
     ]
    },
    {
     "name": "stdout",
     "output_type": "stream",
     "text": [
      "['Henrik Stenson', 'Brooks Koepka', 'Tommy Fleetwood', 'Daniel Summerhays', 'Webb Simpson', 'Louis Oosthuizen'] -6.797 ['Henrik Stenson', 'Brooks Koepka', 'Tommy Fleetwood', 'Brandon Stone', 'Webb Simpson', 'Louis Oosthuizen'] -6.066\n"
     ]
    },
    {
     "name": "stderr",
     "output_type": "stream",
     "text": [
      "\r",
      " 98%|█████████▊| 295/300 [23:15:09<24:30, 294.04s/it]"
     ]
    },
    {
     "name": "stdout",
     "output_type": "stream",
     "text": [
      "['Henrik Stenson', 'Jon Rahm', 'Tommy Fleetwood', 'Brandon Stone', 'Webb Simpson', 'Louis Oosthuizen'] -6.965 ['Henrik Stenson', 'Brooks Koepka', 'Tommy Fleetwood', 'Brandon Stone', 'Webb Simpson', 'Louis Oosthuizen'] -6.066\n"
     ]
    },
    {
     "name": "stderr",
     "output_type": "stream",
     "text": [
      "\r",
      " 99%|█████████▊| 296/300 [23:19:57<19:29, 292.29s/it]"
     ]
    },
    {
     "name": "stdout",
     "output_type": "stream",
     "text": [
      "['Henrik Stenson', 'Brooks Koepka', 'Tommy Fleetwood', 'Brandon Stone', 'Marc Leishman', 'Louis Oosthuizen'] -0.384 ['Henrik Stenson', 'Brooks Koepka', 'Tommy Fleetwood', 'Brandon Stone', 'Webb Simpson', 'Louis Oosthuizen'] -6.066\n"
     ]
    },
    {
     "name": "stderr",
     "output_type": "stream",
     "text": [
      "\r",
      " 99%|█████████▉| 297/300 [23:24:47<14:35, 291.77s/it]"
     ]
    },
    {
     "name": "stdout",
     "output_type": "stream",
     "text": [
      "['Henrik Stenson', 'Brooks Koepka', 'Tommy Fleetwood', 'Cody Gribble', 'Marc Leishman', 'Louis Oosthuizen'] 20.452 ['Henrik Stenson', 'Brooks Koepka', 'Tommy Fleetwood', 'Brandon Stone', 'Marc Leishman', 'Louis Oosthuizen'] -0.384\n"
     ]
    },
    {
     "name": "stderr",
     "output_type": "stream",
     "text": [
      "\r",
      " 99%|█████████▉| 298/300 [23:29:36<09:41, 290.76s/it]"
     ]
    },
    {
     "name": "stdout",
     "output_type": "stream",
     "text": [
      "['Henrik Stenson', 'Brooks Koepka', 'Tommy Fleetwood', 'Cody Gribble', 'Marc Leishman', 'Brandon Stone'] -5.654 ['Henrik Stenson', 'Brooks Koepka', 'Tommy Fleetwood', 'Cody Gribble', 'Marc Leishman', 'Louis Oosthuizen'] 20.452\n",
      "worse team taken\n"
     ]
    },
    {
     "name": "stderr",
     "output_type": "stream",
     "text": [
      "\r",
      "100%|█████████▉| 299/300 [23:34:20<04:48, 288.97s/it]"
     ]
    },
    {
     "name": "stdout",
     "output_type": "stream",
     "text": [
      "['Henrik Stenson', 'Brooks Koepka', 'Tommy Fleetwood', 'Chez Reavie', 'Marc Leishman', 'Brandon Stone'] -6.626 ['Henrik Stenson', 'Brooks Koepka', 'Tommy Fleetwood', 'Cody Gribble', 'Marc Leishman', 'Brandon Stone'] -5.654\n"
     ]
    },
    {
     "name": "stderr",
     "output_type": "stream",
     "text": [
      "\r",
      "100%|██████████| 300/300 [23:39:07<00:00, 288.31s/it]"
     ]
    },
    {
     "name": "stdout",
     "output_type": "stream",
     "text": [
      "['Henrik Stenson', 'Brooks Koepka', 'Tommy Fleetwood', 'Ryan Fox', 'Marc Leishman', 'Brandon Stone'] -5.919 ['Henrik Stenson', 'Brooks Koepka', 'Tommy Fleetwood', 'Cody Gribble', 'Marc Leishman', 'Brandon Stone'] -5.654\n",
      "23:44:00.531973\n"
     ]
    },
    {
     "name": "stderr",
     "output_type": "stream",
     "text": [
      "\n"
     ]
    }
   ],
   "source": [
    "##Simulate tournaments\n",
    "\n",
    "def create_first_team(player_ls, pid_dict, sal_dict):\n",
    "    while True:\n",
    "        team_salary = 0\n",
    "\n",
    "        team = random.sample(player_ls, 6)\n",
    "    \n",
    "        for player in team:\n",
    "            team_salary += sal_dict[player]\n",
    "            \n",
    "        if team_salary <= 50000 and team_salary > 48000:\n",
    "            return team\n",
    "\n",
    "def update_temp(i, t):\n",
    "    temp = t / log(i)\n",
    "    return temp\n",
    "            \n",
    "def cost(team):\n",
    "    indices = np.arange(len(contest_array)).reshape(len(contest_array), 1)\n",
    "    team_payout_ls = []\n",
    "    \n",
    "    team_ids = []\n",
    "    \n",
    "    for player in team:\n",
    "        for key in pid_dict.keys():\n",
    "            if pid_dict[key]['name'] == player:\n",
    "                team_ids.append(key)\n",
    "\n",
    "    for i in range(1,proj_array.shape[1]):\n",
    "\n",
    "        #create dict of points \n",
    "        point_dict = dict(zip(proj_array[:,0], proj_array[:,i]))\n",
    "\n",
    "        #select random int for replacement in contest array\n",
    "        random_replacement = random.randint(0, len(contest_array) - 1)\n",
    "\n",
    "        #create_temp array for replacement\n",
    "        temp_contest_array = contest_array\n",
    "        temp_contest_array[random_replacement] = team_ids\n",
    "\n",
    "        #create sim array of points from single simulation\n",
    "        sim_array = np.vectorize(point_dict.__getitem__)(temp_contest_array)\n",
    "\n",
    "        #sum up team points for simulation\n",
    "        total_points = sim_array.sum(axis = 1).reshape((len(sim_array),1))\n",
    "\n",
    "        #create add indicies to total points\n",
    "        result_array = np.hstack((indices, total_points))\n",
    "\n",
    "        #sort result array by points decending\n",
    "        result_array = result_array[result_array[:, 1].argsort()[::-1]]\n",
    "\n",
    "        #add payout array to results array\n",
    "        result_array = np.hstack((result_array, payout_array))\n",
    "\n",
    "        #revert result array back to being order by index\n",
    "        result_array = result_array[result_array[:,0].argsort()]\n",
    "\n",
    "        #append team result to team payout list\n",
    "        team_payout_ls.append(result_array[random_replacement, -1])\n",
    "        \n",
    "    ####temp_tracking\n",
    "    cost_iteration_results.append({'team': team, 'payouts': team_payout_ls})\n",
    "        \n",
    "    return sum(team_payout_ls) / len(team_payout_ls)\n",
    "\n",
    "\n",
    "####Track iterations of cost function\n",
    "cost_iteration_results = []\n",
    "            \n",
    "def create_team(team, player_ls):\n",
    "    counter = 0\n",
    "    while True:\n",
    "        new_team = team[:]\n",
    "        team_salary = 0\n",
    "        \n",
    "        player_to_remove = random.randint(0, len(team) - 1)\n",
    "        player_to_add = random.choice(player_ls)\n",
    "\n",
    "        new_team[player_to_remove] = player_to_add\n",
    "        \n",
    "        for player in new_team:\n",
    "            team_salary += salary_dict[player]\n",
    "            \n",
    "        duplicates = Counter(new_team)\n",
    "        \n",
    "        if team_salary <= 50000 and team_salary >= 48000 and len(duplicates.values()) == 6:\n",
    "            return new_team\n",
    "        \n",
    "        counter += 1\n",
    "        \n",
    "        if counter > 1000:\n",
    "            new_team = create_first_team(player_ls, pid_dict, salary_dict)\n",
    "            return new_team\n",
    "        \n",
    "        \n",
    "    \n",
    "final_teams = []\n",
    "\n",
    "for z in range(1):\n",
    "    start = datetime.datetime.now()\n",
    "    #initialize values for simulation\n",
    "    first_team = create_first_team(players, pid_dict, salary_dict)\n",
    "    max_iters = 300\n",
    "    best_team = first_team[:]\n",
    "    current_best = first_team[:]\n",
    "    temp = 100\n",
    "    temp_change = .995\n",
    "    ev_ls = []\n",
    "    temp_ls = []\n",
    "    count = 50\n",
    "    cost_curr = cost(current_best)\n",
    "    \n",
    "    for i in tqdm(range(max_iters)):        \n",
    "        new_team = create_team(current_best, players)\n",
    "        \n",
    "        cost_new = cost(new_team)\n",
    "        \n",
    "            \n",
    "        print(new_team, cost_new, current_best, cost_curr)\n",
    "        if cost_new > cost_curr:\n",
    "            current_best = new_team[:]\n",
    "            cost_curr = cost_new\n",
    "            ev_ls.append([current_best, cost_new])\n",
    "    \n",
    "        else:\n",
    "            temp = temp * temp_change\n",
    "            if temp < 0:\n",
    "                temp = 100 - count\n",
    "                if count < 100:\n",
    "                    count += 7\n",
    "            r = random.randint(1,120)\n",
    "            \n",
    "            if r < temp:\n",
    "                print('worse team taken')\n",
    "                current_best = new_team[:]\n",
    "                cost_curr = cost_new\n",
    "                ev_ls.append([current_best, cost_new])\n",
    "                \n",
    "        \n",
    "    \n",
    "    final_teams.append(current_best)\n",
    "\n",
    "    print(datetime.datetime.now() - start)"
   ]
  },
  {
   "cell_type": "code",
   "execution_count": 170,
   "metadata": {
    "collapsed": false,
    "deletable": true,
    "editable": true
   },
   "outputs": [
    {
     "name": "stdout",
     "output_type": "stream",
     "text": [
      "['Sergio Garcia', 'Webb Simpson', 'Louis Oosthuizen', 'Hudson Swafford', 'Rory McIlroy', 'Jason Kokrak']\n",
      "Louis Oosthuizen Bud Cauley\n"
     ]
    },
    {
     "data": {
      "text/plain": [
       "['Sergio Garcia',\n",
       " 'Webb Simpson',\n",
       " 'Bud Cauley',\n",
       " 'Hudson Swafford',\n",
       " 'Rory McIlroy',\n",
       " 'Jason Kokrak']"
      ]
     },
     "execution_count": 170,
     "metadata": {},
     "output_type": "execute_result"
    }
   ],
   "source": [
    "create_team(['Sergio Garcia', 'Webb Simpson', 'Louis Oosthuizen', 'Hudson Swafford', 'Rory McIlroy', 'Jason Kokrak'],\n",
    "           players)"
   ]
  },
  {
   "cell_type": "code",
   "execution_count": 147,
   "metadata": {
    "collapsed": false,
    "deletable": true,
    "editable": true
   },
   "outputs": [
    {
     "data": {
      "image/png": "[encoded data removed]",
      "text/plain": [
       "<matplotlib.figure.Figure at 0x7f7524351a20>"
      ]
     },
     "metadata": {},
     "output_type": "display_data"
    },
    {
     "data": {
      "text/plain": [
       "['Bryson DeChambeau',\n",
       " 'Jason Kokrak',\n",
       " 'Vijay Singh',\n",
       " 'Anirban Lahiri',\n",
       " 'Sergio Garcia',\n",
       " 'Rory McIlroy']"
      ]
     },
     "execution_count": 147,
     "metadata": {},
     "output_type": "execute_result"
    }
   ],
   "source": [
    "import matplotlib.pyplot as plt\n",
    "%matplotlib inline\n",
    "\n",
    "num = -1\n",
    "\n",
    "cum_sum = 0\n",
    "y = []\n",
    "for result in cost_iteration_results[num]['payouts']:\n",
    "    cum_sum += result\n",
    "    y.append(cum_sum)\n",
    "\n",
    "plt.plot(y)\n",
    "plt.show()\n",
    "cost_iteration_results[num]['team']"
   ]
  },
  {
   "cell_type": "code",
   "execution_count": 149,
   "metadata": {
    "collapsed": false,
    "deletable": true,
    "editable": true
   },
   "outputs": [
    {
     "data": {
      "text/plain": [
       "501"
      ]
     },
     "execution_count": 149,
     "metadata": {},
     "output_type": "execute_result"
    }
   ],
   "source": [
    "len(cost_iteration_results)"
   ]
  },
  {
   "cell_type": "code",
   "execution_count": 150,
   "metadata": {
    "collapsed": false,
    "deletable": true,
    "editable": true,
    "scrolled": true
   },
   "outputs": [
    {
     "data": {
      "text/plain": [
       "['Bryson DeChambeau',\n",
       " 'Jason Kokrak',\n",
       " 'Vijay Singh',\n",
       " 'Anirban Lahiri',\n",
       " 'Sergio Garcia',\n",
       " 'Rory McIlroy']"
      ]
     },
     "execution_count": 150,
     "metadata": {},
     "output_type": "execute_result"
    }
   ],
   "source": [
    "new_team"
   ]
  },
  {
   "cell_type": "code",
   "execution_count": 185,
   "metadata": {
    "collapsed": false
   },
   "outputs": [
    {
     "data": {
      "text/plain": [
       "-2.9689999999999999"
      ]
     },
     "execution_count": 185,
     "metadata": {},
     "output_type": "execute_result"
    }
   ],
   "source": [
    "best_team = ['Henrik Stenson', 'Padraig Harrington', 'Sergio Garcia', 'Matthew Fitzpatrick', 'Tommy Fleetwood', 'Cameron Smith']\n",
    "\n",
    "cost(best_team)"
   ]
  },
  {
   "cell_type": "code",
   "execution_count": 225,
   "metadata": {
    "collapsed": true
   },
   "outputs": [],
   "source": [
    "def random_combination_2(iterable, r, player_ls): \n",
    "    #Random selection from combinations\n",
    "    #Remove player combinations from player list\n",
    "    iterable = [x for x in iterable if x not in player_ls]\n",
    "    \n",
    "    iter_count = 0 \n",
    "    combo_salary = 0\n",
    "    salary_ls = []\n",
    "    while combo_salary < 49000 or combo_salary > 50000:\n",
    "        iter_count += 1\n",
    "        if iter_count > 60000:\n",
    "            if player_ls[0] == 'placeholder':\n",
    "                print('placeholder error')\n",
    "                \n",
    "            else:\n",
    "                print('combination impossible')\n",
    "                \n",
    "            return salary_ls\n",
    "        \n",
    "        if r == 5:\n",
    "            combo_salary = salary_dict[player_ls[0]]\n",
    "        elif r == 4:\n",
    "            combo_salary = salary_dict[player_ls[0]] + salary_dict[players[1]]\n",
    "        else:\n",
    "            combo_salary = 0\n",
    "        \n",
    "        pool = tuple(iterable)\n",
    "        n = len(pool)\n",
    "        indices = sorted(random.sample(range(n), r))\n",
    "        team = tuple(pool[i] for i in indices)\n",
    "        \n",
    "        for t in team:\n",
    "            combo_salary += salary_dict[t]\n",
    "        \n",
    "        salary_ls.append(tuple((team, combo_salary)))\n",
    "    \n",
    "\n",
    "    return tuple(pool[i] for i in indices)\n",
    "\n",
    "\n",
    "def team_sim(team_ls):\n",
    "    indices = np.arange(len(contest_array)).reshape(len(contest_array), 1)\n",
    "    team_payout_ls = []\n",
    "    \n",
    "    team_ids_ls =[]\n",
    "    for team in team_ls:\n",
    "        \n",
    "        team_ids = []\n",
    "\n",
    "        for player in team:\n",
    "            for key in pid_dict.keys():\n",
    "                if pid_dict[key]['name'] == player:\n",
    "                    team_ids.append(key)\n",
    "        \n",
    "        team_ids_ls.append(team_ids)\n",
    "        \n",
    "    lineup_payout_array = np.arange(len(team_ls)).reshape(-1,1)\n",
    "    \n",
    "    for i in tqdm(range(1,proj_array.shape[1])):\n",
    "\n",
    "        #create dict of points \n",
    "        point_dict = dict(zip(proj_array[:,0], proj_array[:,i]))\n",
    "\n",
    "        #select random int for replacement in contest array\n",
    "        random_ls = []\n",
    "        for team in team_ls:\n",
    "            random_replacement = random.randint(0, len(contest_array) - 1)\n",
    "            random_ls.append(random_replacement)\n",
    "\n",
    "        #create_temp array for replacement\n",
    "        temp_contest_array = contest_array\n",
    "        \n",
    "        for t, team_id in enumerate(team_ids_ls):\n",
    "            random_num = random_ls[t]\n",
    "            temp_contest_array[random_replacement] = team_id\n",
    "\n",
    "        #create sim array of points from single simulation\n",
    "        sim_array = np.vectorize(point_dict.__getitem__)(temp_contest_array)\n",
    "\n",
    "        #sum up team points for simulation\n",
    "        total_points = sim_array.sum(axis = 1).reshape((len(sim_array),1))\n",
    "\n",
    "        #create add indicies to total points\n",
    "        result_array = np.hstack((indices, total_points))\n",
    "\n",
    "        #sort result array by points decending\n",
    "        result_array = result_array[result_array[:, 1].argsort()[::-1]]\n",
    "\n",
    "        #add payout array to results array\n",
    "        result_array = np.hstack((result_array, payout_array))\n",
    "\n",
    "        #revert result array back to being order by index\n",
    "        result_array = result_array[result_array[:,0].argsort()]\n",
    "\n",
    "        #append team result to team payout array\n",
    "        iteration_payout_array = result_array[random_ls, -1].reshape(-1,1)\n",
    "        lineup_payout_array = np.hstack((lineup_payout_array, iteration_payout_array))\n",
    "        \n",
    "           \n",
    "    return lineup_payout_array\n",
    "\n",
    "\n",
    "def find_first_player(top_players, num_players_to_return):\n",
    "    for p, player in enumerate(top_players):\n",
    "        team_ls = []\n",
    "        for i in range(num_lineups_per_player):\n",
    "            team_ls.append(random_combination_2(players, 5, [player]) + tuple((player,)))\n",
    "\n",
    "        master_team_ls.append(team_ls)\n",
    "\n",
    "        result_array = team_sim(team_ls)\n",
    "        result_array = np.hstack(((np.full((num_lineups_per_player, 1), p)), result_array))\n",
    "\n",
    "        if p == 0:\n",
    "            player_result_array = result_array\n",
    "        else:\n",
    "            player_result_array = np.vstack((player_result_array, result_array))\n",
    "\n",
    "    result_dict = {}\n",
    "    for p, player in enumerate(top_players):\n",
    "        temp_array = player_result_array[p * n:p * n + n]\n",
    "        result_dict[player] = {'total': np.sum(temp_array)}\n",
    "\n",
    "    result_df = pd.DataFrame()\n",
    "    result_df['players'] = result_dict.keys()\n",
    "    result_df['return'] = result_df['players'].apply(lambda x: result_dict[x]['total'])\n",
    "    result_df.sort_values('return', ascending = False, inplace = True)\n",
    "    result_df = result_df.head(num_players_to_return)\n",
    "    \n",
    "    return result_df['players'].values\n",
    "\n",
    "def find_second_player(top_players, first_player, num_combos_to_return, player_result_array):\n",
    "    result_df = pd.DataFrame(columns = ['combo', 'return'])\n",
    "    for p, player in enumerate(top_players):\n",
    "        team_ls = []\n",
    "        for i in range(num_lineups_per_player):\n",
    "            team_ls.append(random_combination_2(players, 4, [first_player, player]) + tuple((first_player, player)))\n",
    "            \n",
    "        master_team_ls.append(team_ls)\n",
    "        \n",
    "        result_array = team_sim(team_ls)\n",
    "        result_array = np.hstack(((np.full((num_lineups_per_player, 1), p)), result_array))\n",
    "        \n",
    "        player_result_array = np.vstack((player_result_array, result_array))\n",
    "        \n",
    "    for p, player in enumerate(top_players):\n",
    "        temp_array = player_result_array[p * n: p* n + n]\n",
    "        combo_name = first_player + ', ' + player\n",
    "        result_dict[combo_name] = {'total': np.sum(temp_array)}\n",
    "        \n",
    "        result_df.loc[p] = [combo_name, np.sum(temp_array)]\n",
    "    \n",
    "    result_df.sort_values('return', ascending = False, inplace = True)\n",
    "    result_df = result_df.head(num_combos_to_return)\n",
    "    \n",
    "    return result_df, player_result_array"
   ]
  },
  {
   "cell_type": "code",
   "execution_count": 186,
   "metadata": {
    "collapsed": false
   },
   "outputs": [
    {
     "name": "stderr",
     "output_type": "stream",
     "text": [
      "100%|██████████| 1000/1000 [04:45<00:00,  3.52it/s]\n",
      "100%|██████████| 1000/1000 [04:45<00:00,  3.53it/s]\n",
      "100%|██████████| 1000/1000 [04:44<00:00,  3.51it/s]\n",
      "100%|██████████| 1000/1000 [04:45<00:00,  3.51it/s]\n",
      "100%|██████████| 1000/1000 [04:43<00:00,  3.54it/s]\n",
      "100%|██████████| 1000/1000 [04:43<00:00,  3.53it/s]\n",
      "100%|██████████| 1000/1000 [04:45<00:00,  3.54it/s]\n",
      "100%|██████████| 1000/1000 [04:44<00:00,  3.50it/s]\n",
      "100%|██████████| 1000/1000 [04:44<00:00,  3.52it/s]\n",
      "100%|██████████| 1000/1000 [04:44<00:00,  3.53it/s]\n"
     ]
    },
    {
     "data": {
      "text/plain": [
       "array([[  0,   0,  -8, ...,  -8,  12,  -8],\n",
       "       [  0,   1,  -8, ...,  -8,   4,   4],\n",
       "       [  0,   2,  -8, ...,  -8,   7,  -8],\n",
       "       ..., \n",
       "       [  9, 147,  -8, ...,  -8,  -8,  -8],\n",
       "       [  9, 148,  17, ...,  -8,  -8,  -8],\n",
       "       [  9, 149,  -8, ...,  -8,  -8,  52]])"
      ]
     },
     "execution_count": 186,
     "metadata": {},
     "output_type": "execute_result"
    }
   ],
   "source": [
    "num_lineups_per_player = 150\n",
    "master_team_ls = []\n",
    "\n",
    "for p, player in enumerate(players[:10]):\n",
    "    team_ls = []\n",
    "    for i in range(num_lineups_per_player):\n",
    "        team_ls.append(random_combination_2(players, 5, player) + tuple((player,)))\n",
    "    \n",
    "    master_team_ls.append(team_ls)\n",
    "    \n",
    "    result_array = team_sim(team_ls)\n",
    "    result_array = np.hstack(((np.full((num_lineups_per_player, 1), p)), result_array))\n",
    "    \n",
    "    if p == 0:\n",
    "        player_result_array = result_array\n",
    "    else:\n",
    "        player_result_array = np.vstack((player_result_array, result_array))\n",
    "    \n",
    "player_result_array"
   ]
  },
  {
   "cell_type": "code",
   "execution_count": 227,
   "metadata": {
    "collapsed": false
   },
   "outputs": [
    {
     "name": "stderr",
     "output_type": "stream",
     "text": [
      "100%|██████████| 1000/1000 [04:51<00:00,  3.44it/s]\n",
      "100%|██████████| 1000/1000 [04:51<00:00,  3.45it/s]\n",
      "100%|██████████| 1000/1000 [04:52<00:00,  3.43it/s]\n",
      "100%|██████████| 1000/1000 [04:50<00:00,  3.46it/s]\n",
      "100%|██████████| 1000/1000 [04:51<00:00,  3.45it/s]\n",
      "100%|██████████| 1000/1000 [04:52<00:00,  3.37it/s]\n",
      "100%|██████████| 1000/1000 [04:51<00:00,  3.41it/s]\n",
      "100%|██████████| 1000/1000 [04:50<00:00,  3.48it/s]\n",
      "100%|██████████| 1000/1000 [04:47<00:00,  3.51it/s]\n",
      "100%|██████████| 1000/1000 [04:47<00:00,  3.48it/s]\n",
      "100%|██████████| 1000/1000 [04:47<00:00,  3.49it/s]\n",
      "100%|██████████| 1000/1000 [04:49<00:00,  3.46it/s]\n",
      "100%|██████████| 1000/1000 [04:48<00:00,  3.46it/s]\n",
      "100%|██████████| 1000/1000 [04:50<00:00,  3.43it/s]\n",
      "100%|██████████| 1000/1000 [04:51<00:00,  3.45it/s]\n",
      "100%|██████████| 1000/1000 [04:51<00:00,  3.44it/s]\n",
      "100%|██████████| 1000/1000 [04:51<00:00,  3.45it/s]\n",
      "100%|██████████| 1000/1000 [04:50<00:00,  3.44it/s]\n",
      "100%|██████████| 1000/1000 [04:51<00:00,  3.36it/s]\n",
      "100%|██████████| 1000/1000 [04:51<00:00,  3.44it/s]\n",
      "100%|██████████| 1000/1000 [04:50<00:00,  3.46it/s]\n",
      "100%|██████████| 1000/1000 [04:51<00:00,  3.42it/s]\n",
      "100%|██████████| 1000/1000 [04:50<00:00,  3.44it/s]\n",
      "100%|██████████| 1000/1000 [04:52<00:00,  3.44it/s]\n",
      "100%|██████████| 1000/1000 [04:50<00:00,  3.42it/s]\n",
      "100%|██████████| 1000/1000 [04:51<00:00,  3.43it/s]\n",
      "100%|██████████| 1000/1000 [04:52<00:00,  3.42it/s]\n",
      "100%|██████████| 1000/1000 [04:51<00:00,  3.39it/s]\n",
      "100%|██████████| 1000/1000 [04:49<00:00,  3.43it/s]\n",
      "100%|██████████| 1000/1000 [04:50<00:00,  3.40it/s]\n"
     ]
    },
    {
     "data": {
      "text/html": [
       "<div>\n",
       "<table border=\"1\" class=\"dataframe\">\n",
       "  <thead>\n",
       "    <tr style=\"text-align: right;\">\n",
       "      <th></th>\n",
       "      <th>combo</th>\n",
       "      <th>return</th>\n",
       "    </tr>\n",
       "  </thead>\n",
       "  <tbody>\n",
       "    <tr>\n",
       "      <th>27</th>\n",
       "      <td>Brooks Koepka, Russell Henley</td>\n",
       "      <td>-61272.0</td>\n",
       "    </tr>\n",
       "    <tr>\n",
       "      <th>28</th>\n",
       "      <td>Brooks Koepka, Patrick Reed</td>\n",
       "      <td>-66541.0</td>\n",
       "    </tr>\n",
       "    <tr>\n",
       "      <th>9</th>\n",
       "      <td>Brooks Koepka, Brooks Koepka</td>\n",
       "      <td>-70098.0</td>\n",
       "    </tr>\n",
       "    <tr>\n",
       "      <th>3</th>\n",
       "      <td>Brooks Koepka, Rickie Fowler</td>\n",
       "      <td>-83300.0</td>\n",
       "    </tr>\n",
       "    <tr>\n",
       "      <th>0</th>\n",
       "      <td>Brooks Koepka, Jordan Spieth</td>\n",
       "      <td>-115952.0</td>\n",
       "    </tr>\n",
       "    <tr>\n",
       "      <th>13</th>\n",
       "      <td>Brooks Koepka, Adam Scott</td>\n",
       "      <td>-117170.0</td>\n",
       "    </tr>\n",
       "    <tr>\n",
       "      <th>16</th>\n",
       "      <td>Brooks Koepka, Marc Leishman</td>\n",
       "      <td>-118525.0</td>\n",
       "    </tr>\n",
       "    <tr>\n",
       "      <th>12</th>\n",
       "      <td>Brooks Koepka, Matt Kuchar</td>\n",
       "      <td>-142756.0</td>\n",
       "    </tr>\n",
       "    <tr>\n",
       "      <th>5</th>\n",
       "      <td>Brooks Koepka, Jason Day</td>\n",
       "      <td>-150345.0</td>\n",
       "    </tr>\n",
       "    <tr>\n",
       "      <th>8</th>\n",
       "      <td>Brooks Koepka, Sergio Garcia</td>\n",
       "      <td>-151190.0</td>\n",
       "    </tr>\n",
       "    <tr>\n",
       "      <th>1</th>\n",
       "      <td>Brooks Koepka, Rory McIlroy</td>\n",
       "      <td>-158908.0</td>\n",
       "    </tr>\n",
       "    <tr>\n",
       "      <th>26</th>\n",
       "      <td>Brooks Koepka, Matthew Fitzpatrick</td>\n",
       "      <td>-164224.0</td>\n",
       "    </tr>\n",
       "    <tr>\n",
       "      <th>2</th>\n",
       "      <td>Brooks Koepka, Dustin Johnson</td>\n",
       "      <td>-164914.0</td>\n",
       "    </tr>\n",
       "    <tr>\n",
       "      <th>23</th>\n",
       "      <td>Brooks Koepka, Charl Schwartzel</td>\n",
       "      <td>-165037.0</td>\n",
       "    </tr>\n",
       "    <tr>\n",
       "      <th>6</th>\n",
       "      <td>Brooks Koepka, Jon Rahm</td>\n",
       "      <td>-171542.0</td>\n",
       "    </tr>\n",
       "    <tr>\n",
       "      <th>14</th>\n",
       "      <td>Brooks Koepka, Phil Mickelson</td>\n",
       "      <td>-177317.0</td>\n",
       "    </tr>\n",
       "    <tr>\n",
       "      <th>19</th>\n",
       "      <td>Brooks Koepka, Paul Casey</td>\n",
       "      <td>-182394.0</td>\n",
       "    </tr>\n",
       "    <tr>\n",
       "      <th>21</th>\n",
       "      <td>Brooks Koepka, Charley Hoffman</td>\n",
       "      <td>-186418.0</td>\n",
       "    </tr>\n",
       "    <tr>\n",
       "      <th>11</th>\n",
       "      <td>Brooks Koepka, Justin Thomas</td>\n",
       "      <td>-191344.0</td>\n",
       "    </tr>\n",
       "    <tr>\n",
       "      <th>7</th>\n",
       "      <td>Brooks Koepka, Henrik Stenson</td>\n",
       "      <td>-192125.0</td>\n",
       "    </tr>\n",
       "    <tr>\n",
       "      <th>20</th>\n",
       "      <td>Brooks Koepka, Daniel Berger</td>\n",
       "      <td>-193401.0</td>\n",
       "    </tr>\n",
       "    <tr>\n",
       "      <th>29</th>\n",
       "      <td>Brooks Koepka, Brendan Steele</td>\n",
       "      <td>-207897.0</td>\n",
       "    </tr>\n",
       "    <tr>\n",
       "      <th>17</th>\n",
       "      <td>Brooks Koepka, Tommy Fleetwood</td>\n",
       "      <td>-208530.0</td>\n",
       "    </tr>\n",
       "    <tr>\n",
       "      <th>15</th>\n",
       "      <td>Brooks Koepka, Branden Grace</td>\n",
       "      <td>-216197.0</td>\n",
       "    </tr>\n",
       "    <tr>\n",
       "      <th>22</th>\n",
       "      <td>Brooks Koepka, Thomas Pieters</td>\n",
       "      <td>-227038.0</td>\n",
       "    </tr>\n",
       "    <tr>\n",
       "      <th>18</th>\n",
       "      <td>Brooks Koepka, Alexander Noren</td>\n",
       "      <td>-245491.0</td>\n",
       "    </tr>\n",
       "    <tr>\n",
       "      <th>25</th>\n",
       "      <td>Brooks Koepka, J.B. Holmes</td>\n",
       "      <td>-258358.0</td>\n",
       "    </tr>\n",
       "    <tr>\n",
       "      <th>4</th>\n",
       "      <td>Brooks Koepka, Hideki Matsuyama</td>\n",
       "      <td>-287896.0</td>\n",
       "    </tr>\n",
       "    <tr>\n",
       "      <th>24</th>\n",
       "      <td>Brooks Koepka, Louis Oosthuizen</td>\n",
       "      <td>-295829.0</td>\n",
       "    </tr>\n",
       "    <tr>\n",
       "      <th>10</th>\n",
       "      <td>Brooks Koepka, Justin Rose</td>\n",
       "      <td>-311793.0</td>\n",
       "    </tr>\n",
       "  </tbody>\n",
       "</table>\n",
       "</div>"
      ],
      "text/plain": [
       "                                 combo    return\n",
       "27       Brooks Koepka, Russell Henley  -61272.0\n",
       "28         Brooks Koepka, Patrick Reed  -66541.0\n",
       "9         Brooks Koepka, Brooks Koepka  -70098.0\n",
       "3         Brooks Koepka, Rickie Fowler  -83300.0\n",
       "0         Brooks Koepka, Jordan Spieth -115952.0\n",
       "13           Brooks Koepka, Adam Scott -117170.0\n",
       "16        Brooks Koepka, Marc Leishman -118525.0\n",
       "12          Brooks Koepka, Matt Kuchar -142756.0\n",
       "5             Brooks Koepka, Jason Day -150345.0\n",
       "8         Brooks Koepka, Sergio Garcia -151190.0\n",
       "1          Brooks Koepka, Rory McIlroy -158908.0\n",
       "26  Brooks Koepka, Matthew Fitzpatrick -164224.0\n",
       "2        Brooks Koepka, Dustin Johnson -164914.0\n",
       "23     Brooks Koepka, Charl Schwartzel -165037.0\n",
       "6              Brooks Koepka, Jon Rahm -171542.0\n",
       "14       Brooks Koepka, Phil Mickelson -177317.0\n",
       "19           Brooks Koepka, Paul Casey -182394.0\n",
       "21      Brooks Koepka, Charley Hoffman -186418.0\n",
       "11        Brooks Koepka, Justin Thomas -191344.0\n",
       "7        Brooks Koepka, Henrik Stenson -192125.0\n",
       "20        Brooks Koepka, Daniel Berger -193401.0\n",
       "29       Brooks Koepka, Brendan Steele -207897.0\n",
       "17      Brooks Koepka, Tommy Fleetwood -208530.0\n",
       "15        Brooks Koepka, Branden Grace -216197.0\n",
       "22       Brooks Koepka, Thomas Pieters -227038.0\n",
       "18      Brooks Koepka, Alexander Noren -245491.0\n",
       "25          Brooks Koepka, J.B. Holmes -258358.0\n",
       "4      Brooks Koepka, Hideki Matsuyama -287896.0\n",
       "24     Brooks Koepka, Louis Oosthuizen -295829.0\n",
       "10          Brooks Koepka, Justin Rose -311793.0"
      ]
     },
     "execution_count": 227,
     "metadata": {},
     "output_type": "execute_result"
    }
   ],
   "source": [
    "num_lineups_per_player = 150\n",
    "n = num_lineups_per_player\n",
    "master_team_ls = []\n",
    "\n",
    "\n",
    "        \n",
    "        \n",
    "\n",
    "#top_players = find_first_player(players[:10], 1)\n",
    "top_2_man_combos, player_result_array = find_second_player(players[:30], 'Brooks Koepka', 30, player_result_array)\n",
    "top_2_man_combos"
   ]
  },
  {
   "cell_type": "code",
   "execution_count": 228,
   "metadata": {
    "collapsed": false
   },
   "outputs": [
    {
     "name": "stderr",
     "output_type": "stream",
     "text": [
      "100%|██████████| 1000/1000 [04:52<00:00,  3.45it/s]\n",
      "100%|██████████| 1000/1000 [04:50<00:00,  3.44it/s]\n",
      "100%|██████████| 1000/1000 [04:50<00:00,  3.45it/s]\n",
      "100%|██████████| 1000/1000 [04:55<00:00,  3.40it/s]\n",
      "100%|██████████| 1000/1000 [04:51<00:00,  3.42it/s]\n",
      "100%|██████████| 1000/1000 [04:53<00:00,  3.44it/s]\n",
      "100%|██████████| 1000/1000 [04:50<00:00,  3.42it/s]\n",
      "100%|██████████| 1000/1000 [04:51<00:00,  3.40it/s]\n",
      "100%|██████████| 1000/1000 [04:52<00:00,  3.44it/s]\n",
      "100%|██████████| 1000/1000 [04:51<00:00,  3.44it/s]\n",
      "100%|██████████| 1000/1000 [04:51<00:00,  3.45it/s]\n",
      "100%|██████████| 1000/1000 [04:52<00:00,  3.44it/s]\n",
      "100%|██████████| 1000/1000 [04:51<00:00,  3.45it/s]\n",
      "100%|██████████| 1000/1000 [04:51<00:00,  3.45it/s]\n",
      "100%|██████████| 1000/1000 [04:51<00:00,  3.42it/s]\n",
      "100%|██████████| 1000/1000 [04:50<00:00,  3.46it/s]\n",
      "100%|██████████| 1000/1000 [04:53<00:00,  3.44it/s]\n",
      "100%|██████████| 1000/1000 [04:51<00:00,  3.45it/s]\n",
      "100%|██████████| 1000/1000 [04:50<00:00,  3.47it/s]\n",
      "100%|██████████| 1000/1000 [04:52<00:00,  3.43it/s]\n",
      "100%|██████████| 1000/1000 [04:52<00:00,  3.40it/s]\n",
      "100%|██████████| 1000/1000 [04:54<00:00,  3.39it/s]\n",
      "100%|██████████| 1000/1000 [04:54<00:00,  3.42it/s]\n",
      "100%|██████████| 1000/1000 [04:54<00:00,  3.37it/s]\n",
      "100%|██████████| 1000/1000 [04:53<00:00,  3.38it/s]\n",
      "100%|██████████| 1000/1000 [04:54<00:00,  3.40it/s]\n",
      "100%|██████████| 1000/1000 [04:57<00:00,  3.32it/s]\n",
      "100%|██████████| 1000/1000 [04:54<00:00,  3.40it/s]\n",
      "100%|██████████| 1000/1000 [04:55<00:00,  3.39it/s]\n",
      "100%|██████████| 1000/1000 [04:55<00:00,  3.41it/s]\n"
     ]
    },
    {
     "data": {
      "text/html": [
       "<div>\n",
       "<table border=\"1\" class=\"dataframe\">\n",
       "  <thead>\n",
       "    <tr style=\"text-align: right;\">\n",
       "      <th></th>\n",
       "      <th>combo</th>\n",
       "      <th>return</th>\n",
       "    </tr>\n",
       "  </thead>\n",
       "  <tbody>\n",
       "    <tr>\n",
       "      <th>27</th>\n",
       "      <td>Dustin Johnson, Russell Henley</td>\n",
       "      <td>-61272.0</td>\n",
       "    </tr>\n",
       "    <tr>\n",
       "      <th>28</th>\n",
       "      <td>Dustin Johnson, Patrick Reed</td>\n",
       "      <td>-66541.0</td>\n",
       "    </tr>\n",
       "    <tr>\n",
       "      <th>9</th>\n",
       "      <td>Dustin Johnson, Brooks Koepka</td>\n",
       "      <td>-70098.0</td>\n",
       "    </tr>\n",
       "    <tr>\n",
       "      <th>3</th>\n",
       "      <td>Dustin Johnson, Rickie Fowler</td>\n",
       "      <td>-83300.0</td>\n",
       "    </tr>\n",
       "    <tr>\n",
       "      <th>0</th>\n",
       "      <td>Dustin Johnson, Jordan Spieth</td>\n",
       "      <td>-115952.0</td>\n",
       "    </tr>\n",
       "    <tr>\n",
       "      <th>13</th>\n",
       "      <td>Dustin Johnson, Adam Scott</td>\n",
       "      <td>-117170.0</td>\n",
       "    </tr>\n",
       "    <tr>\n",
       "      <th>16</th>\n",
       "      <td>Dustin Johnson, Marc Leishman</td>\n",
       "      <td>-118525.0</td>\n",
       "    </tr>\n",
       "    <tr>\n",
       "      <th>12</th>\n",
       "      <td>Dustin Johnson, Matt Kuchar</td>\n",
       "      <td>-142756.0</td>\n",
       "    </tr>\n",
       "    <tr>\n",
       "      <th>5</th>\n",
       "      <td>Dustin Johnson, Jason Day</td>\n",
       "      <td>-150345.0</td>\n",
       "    </tr>\n",
       "    <tr>\n",
       "      <th>8</th>\n",
       "      <td>Dustin Johnson, Sergio Garcia</td>\n",
       "      <td>-151190.0</td>\n",
       "    </tr>\n",
       "    <tr>\n",
       "      <th>1</th>\n",
       "      <td>Dustin Johnson, Rory McIlroy</td>\n",
       "      <td>-158908.0</td>\n",
       "    </tr>\n",
       "    <tr>\n",
       "      <th>26</th>\n",
       "      <td>Dustin Johnson, Matthew Fitzpatrick</td>\n",
       "      <td>-164224.0</td>\n",
       "    </tr>\n",
       "    <tr>\n",
       "      <th>2</th>\n",
       "      <td>Dustin Johnson, Dustin Johnson</td>\n",
       "      <td>-164914.0</td>\n",
       "    </tr>\n",
       "    <tr>\n",
       "      <th>23</th>\n",
       "      <td>Dustin Johnson, Charl Schwartzel</td>\n",
       "      <td>-165037.0</td>\n",
       "    </tr>\n",
       "    <tr>\n",
       "      <th>6</th>\n",
       "      <td>Dustin Johnson, Jon Rahm</td>\n",
       "      <td>-171542.0</td>\n",
       "    </tr>\n",
       "    <tr>\n",
       "      <th>14</th>\n",
       "      <td>Dustin Johnson, Phil Mickelson</td>\n",
       "      <td>-177317.0</td>\n",
       "    </tr>\n",
       "    <tr>\n",
       "      <th>19</th>\n",
       "      <td>Dustin Johnson, Paul Casey</td>\n",
       "      <td>-182394.0</td>\n",
       "    </tr>\n",
       "    <tr>\n",
       "      <th>21</th>\n",
       "      <td>Dustin Johnson, Charley Hoffman</td>\n",
       "      <td>-186418.0</td>\n",
       "    </tr>\n",
       "    <tr>\n",
       "      <th>11</th>\n",
       "      <td>Dustin Johnson, Justin Thomas</td>\n",
       "      <td>-191344.0</td>\n",
       "    </tr>\n",
       "    <tr>\n",
       "      <th>7</th>\n",
       "      <td>Dustin Johnson, Henrik Stenson</td>\n",
       "      <td>-192125.0</td>\n",
       "    </tr>\n",
       "    <tr>\n",
       "      <th>20</th>\n",
       "      <td>Dustin Johnson, Daniel Berger</td>\n",
       "      <td>-193401.0</td>\n",
       "    </tr>\n",
       "    <tr>\n",
       "      <th>29</th>\n",
       "      <td>Dustin Johnson, Brendan Steele</td>\n",
       "      <td>-207897.0</td>\n",
       "    </tr>\n",
       "    <tr>\n",
       "      <th>17</th>\n",
       "      <td>Dustin Johnson, Tommy Fleetwood</td>\n",
       "      <td>-208530.0</td>\n",
       "    </tr>\n",
       "    <tr>\n",
       "      <th>15</th>\n",
       "      <td>Dustin Johnson, Branden Grace</td>\n",
       "      <td>-216197.0</td>\n",
       "    </tr>\n",
       "    <tr>\n",
       "      <th>22</th>\n",
       "      <td>Dustin Johnson, Thomas Pieters</td>\n",
       "      <td>-227038.0</td>\n",
       "    </tr>\n",
       "    <tr>\n",
       "      <th>18</th>\n",
       "      <td>Dustin Johnson, Alexander Noren</td>\n",
       "      <td>-245491.0</td>\n",
       "    </tr>\n",
       "    <tr>\n",
       "      <th>25</th>\n",
       "      <td>Dustin Johnson, J.B. Holmes</td>\n",
       "      <td>-258358.0</td>\n",
       "    </tr>\n",
       "    <tr>\n",
       "      <th>4</th>\n",
       "      <td>Dustin Johnson, Hideki Matsuyama</td>\n",
       "      <td>-287896.0</td>\n",
       "    </tr>\n",
       "    <tr>\n",
       "      <th>24</th>\n",
       "      <td>Dustin Johnson, Louis Oosthuizen</td>\n",
       "      <td>-295829.0</td>\n",
       "    </tr>\n",
       "    <tr>\n",
       "      <th>10</th>\n",
       "      <td>Dustin Johnson, Justin Rose</td>\n",
       "      <td>-311793.0</td>\n",
       "    </tr>\n",
       "  </tbody>\n",
       "</table>\n",
       "</div>"
      ],
      "text/plain": [
       "                                  combo    return\n",
       "27       Dustin Johnson, Russell Henley  -61272.0\n",
       "28         Dustin Johnson, Patrick Reed  -66541.0\n",
       "9         Dustin Johnson, Brooks Koepka  -70098.0\n",
       "3         Dustin Johnson, Rickie Fowler  -83300.0\n",
       "0         Dustin Johnson, Jordan Spieth -115952.0\n",
       "13           Dustin Johnson, Adam Scott -117170.0\n",
       "16        Dustin Johnson, Marc Leishman -118525.0\n",
       "12          Dustin Johnson, Matt Kuchar -142756.0\n",
       "5             Dustin Johnson, Jason Day -150345.0\n",
       "8         Dustin Johnson, Sergio Garcia -151190.0\n",
       "1          Dustin Johnson, Rory McIlroy -158908.0\n",
       "26  Dustin Johnson, Matthew Fitzpatrick -164224.0\n",
       "2        Dustin Johnson, Dustin Johnson -164914.0\n",
       "23     Dustin Johnson, Charl Schwartzel -165037.0\n",
       "6              Dustin Johnson, Jon Rahm -171542.0\n",
       "14       Dustin Johnson, Phil Mickelson -177317.0\n",
       "19           Dustin Johnson, Paul Casey -182394.0\n",
       "21      Dustin Johnson, Charley Hoffman -186418.0\n",
       "11        Dustin Johnson, Justin Thomas -191344.0\n",
       "7        Dustin Johnson, Henrik Stenson -192125.0\n",
       "20        Dustin Johnson, Daniel Berger -193401.0\n",
       "29       Dustin Johnson, Brendan Steele -207897.0\n",
       "17      Dustin Johnson, Tommy Fleetwood -208530.0\n",
       "15        Dustin Johnson, Branden Grace -216197.0\n",
       "22       Dustin Johnson, Thomas Pieters -227038.0\n",
       "18      Dustin Johnson, Alexander Noren -245491.0\n",
       "25          Dustin Johnson, J.B. Holmes -258358.0\n",
       "4      Dustin Johnson, Hideki Matsuyama -287896.0\n",
       "24     Dustin Johnson, Louis Oosthuizen -295829.0\n",
       "10          Dustin Johnson, Justin Rose -311793.0"
      ]
     },
     "execution_count": 228,
     "metadata": {},
     "output_type": "execute_result"
    }
   ],
   "source": [
    "dj_2_man_combos, dj_player_result_array = find_second_player(players[:30], 'Dustin Johnson', 30, player_result_array)\n",
    "dj_2_man_combos"
   ]
  },
  {
   "cell_type": "code",
   "execution_count": 188,
   "metadata": {
    "collapsed": false
   },
   "outputs": [],
   "source": [
    "for key in result_dict.keys():\n",
    "    result_dict[key]['ownership'] = player_df['owned'].loc[player_df['name'] == key].values[0]\n",
    "    result_dict[key]['salary'] = player_df['salary'].loc[player_df['name'] == key].values[0]\n",
    "    result_dict[key]['mean_proj'] = sum(player_distro_dict[key][0]) / len(player_distro_dict[key][0])"
   ]
  },
  {
   "cell_type": "code",
   "execution_count": 189,
   "metadata": {
    "collapsed": false
   },
   "outputs": [
    {
     "data": {
      "text/plain": [
       "{'Brooks Koepka': {'mean_proj': 68.185000000000002,\n",
       "  'ownership': 0.12,\n",
       "  'salary': 9200,\n",
       "  'total': -70098},\n",
       " 'Dustin Johnson': {'mean_proj': 65.825000000000003,\n",
       "  'ownership': 0.16,\n",
       "  'salary': 11400,\n",
       "  'total': -164914},\n",
       " 'Henrik Stenson': {'mean_proj': 51.994999999999997,\n",
       "  'ownership': 0.10000000000000001,\n",
       "  'salary': 9800,\n",
       "  'total': -192125},\n",
       " 'Hideki Matsuyama': {'mean_proj': 57.365000000000002,\n",
       "  'ownership': 0.16,\n",
       "  'salary': 10500,\n",
       "  'total': -287896},\n",
       " 'Jason Day': {'mean_proj': 58.520000000000003,\n",
       "  'ownership': 0.089999999999999997,\n",
       "  'salary': 10400,\n",
       "  'total': -150345},\n",
       " 'Jon Rahm': {'mean_proj': 60.064999999999998,\n",
       "  'ownership': 0.11,\n",
       "  'salary': 10100,\n",
       "  'total': -171542},\n",
       " 'Jordan Spieth': {'mean_proj': 67.590000000000003,\n",
       "  'ownership': 0.17999999999999999,\n",
       "  'salary': 12000,\n",
       "  'total': -115952},\n",
       " 'Rickie Fowler': {'mean_proj': 64.939999999999998,\n",
       "  'ownership': 0.25,\n",
       "  'salary': 10700,\n",
       "  'total': -83300},\n",
       " 'Rory McIlroy': {'mean_proj': 66.635000000000005,\n",
       "  'ownership': 0.29999999999999999,\n",
       "  'salary': 11800,\n",
       "  'total': -158908},\n",
       " 'Sergio Garcia': {'mean_proj': 62.140000000000001,\n",
       "  'ownership': 0.34999999999999998,\n",
       "  'salary': 9400,\n",
       "  'total': -151190}}"
      ]
     },
     "execution_count": 189,
     "metadata": {},
     "output_type": "execute_result"
    }
   ],
   "source": [
    "result_dict"
   ]
  },
  {
   "cell_type": "code",
   "execution_count": 183,
   "metadata": {
    "collapsed": false
   },
   "outputs": [
    {
     "data": {
      "text/plain": [
       "{'payouts': [4,\n",
       "  -8,\n",
       "  7,\n",
       "  4,\n",
       "  -8,\n",
       "  -8,\n",
       "  -8,\n",
       "  7,\n",
       "  4,\n",
       "  -8,\n",
       "  -8,\n",
       "  4,\n",
       "  -8,\n",
       "  -8,\n",
       "  -8,\n",
       "  -8,\n",
       "  12,\n",
       "  -8,\n",
       "  -8,\n",
       "  -8,\n",
       "  -8,\n",
       "  4,\n",
       "  -8,\n",
       "  -8,\n",
       "  -8,\n",
       "  -8,\n",
       "  4,\n",
       "  -8,\n",
       "  -8,\n",
       "  -8,\n",
       "  -8,\n",
       "  4,\n",
       "  -8,\n",
       "  4,\n",
       "  -8,\n",
       "  -8,\n",
       "  -8,\n",
       "  -8,\n",
       "  -8,\n",
       "  -8,\n",
       "  -8,\n",
       "  -8,\n",
       "  4,\n",
       "  -8,\n",
       "  -8,\n",
       "  -8,\n",
       "  -8,\n",
       "  -8,\n",
       "  -8,\n",
       "  4,\n",
       "  4,\n",
       "  7,\n",
       "  -8,\n",
       "  -8,\n",
       "  -8,\n",
       "  12,\n",
       "  -8,\n",
       "  -8,\n",
       "  12,\n",
       "  -8,\n",
       "  12,\n",
       "  7,\n",
       "  -8,\n",
       "  -8,\n",
       "  -8,\n",
       "  -8,\n",
       "  17,\n",
       "  4,\n",
       "  4,\n",
       "  -8,\n",
       "  -8,\n",
       "  -8,\n",
       "  4,\n",
       "  -8,\n",
       "  -8,\n",
       "  -8,\n",
       "  -8,\n",
       "  -8,\n",
       "  -8,\n",
       "  -8,\n",
       "  -8,\n",
       "  -8,\n",
       "  -8,\n",
       "  -8,\n",
       "  -8,\n",
       "  -8,\n",
       "  -8,\n",
       "  -8,\n",
       "  4,\n",
       "  7,\n",
       "  -8,\n",
       "  -8,\n",
       "  -8,\n",
       "  7,\n",
       "  7,\n",
       "  -8,\n",
       "  -8,\n",
       "  -8,\n",
       "  -8,\n",
       "  4,\n",
       "  -8,\n",
       "  4,\n",
       "  -8,\n",
       "  -8,\n",
       "  -8,\n",
       "  12,\n",
       "  -8,\n",
       "  -8,\n",
       "  4,\n",
       "  -8,\n",
       "  -8,\n",
       "  -8,\n",
       "  -8,\n",
       "  -8,\n",
       "  -8,\n",
       "  -8,\n",
       "  -8,\n",
       "  -8,\n",
       "  4,\n",
       "  -8,\n",
       "  22,\n",
       "  -8,\n",
       "  -8,\n",
       "  -8,\n",
       "  -8,\n",
       "  -8,\n",
       "  -8,\n",
       "  -8,\n",
       "  -8,\n",
       "  4,\n",
       "  -8,\n",
       "  -8,\n",
       "  -8,\n",
       "  -8,\n",
       "  -8,\n",
       "  -8,\n",
       "  12,\n",
       "  -8,\n",
       "  -8,\n",
       "  -8,\n",
       "  -8,\n",
       "  7,\n",
       "  -8,\n",
       "  -8,\n",
       "  -8,\n",
       "  -8,\n",
       "  4,\n",
       "  -8,\n",
       "  -8,\n",
       "  4,\n",
       "  -8,\n",
       "  4,\n",
       "  7,\n",
       "  -8,\n",
       "  -8,\n",
       "  -8,\n",
       "  -8,\n",
       "  4,\n",
       "  -8,\n",
       "  22,\n",
       "  -8,\n",
       "  -8,\n",
       "  7,\n",
       "  -8,\n",
       "  -8,\n",
       "  -8,\n",
       "  -8,\n",
       "  -8,\n",
       "  -8,\n",
       "  4,\n",
       "  -8,\n",
       "  4,\n",
       "  -8,\n",
       "  -8,\n",
       "  -8,\n",
       "  -8,\n",
       "  -8,\n",
       "  -8,\n",
       "  -8,\n",
       "  -8,\n",
       "  -8,\n",
       "  -8,\n",
       "  -8,\n",
       "  4,\n",
       "  -8,\n",
       "  -8,\n",
       "  -8,\n",
       "  -8,\n",
       "  -8,\n",
       "  -8,\n",
       "  -8,\n",
       "  -8,\n",
       "  -8,\n",
       "  -8,\n",
       "  7,\n",
       "  -8,\n",
       "  -8,\n",
       "  -8,\n",
       "  -8,\n",
       "  -8,\n",
       "  -8,\n",
       "  -8,\n",
       "  4,\n",
       "  -8,\n",
       "  4,\n",
       "  -8,\n",
       "  -8,\n",
       "  -8,\n",
       "  4,\n",
       "  -8,\n",
       "  -8,\n",
       "  -8,\n",
       "  -8,\n",
       "  12,\n",
       "  -8,\n",
       "  -8,\n",
       "  4,\n",
       "  4,\n",
       "  12,\n",
       "  -8,\n",
       "  -8,\n",
       "  -8,\n",
       "  4,\n",
       "  -8,\n",
       "  -8,\n",
       "  -8,\n",
       "  7,\n",
       "  -8,\n",
       "  -8,\n",
       "  -8,\n",
       "  4,\n",
       "  -8,\n",
       "  -8,\n",
       "  -8,\n",
       "  -8,\n",
       "  4,\n",
       "  -8,\n",
       "  17,\n",
       "  -8,\n",
       "  -8,\n",
       "  -8,\n",
       "  -8,\n",
       "  -8,\n",
       "  17,\n",
       "  -8,\n",
       "  4,\n",
       "  -8,\n",
       "  -8,\n",
       "  4,\n",
       "  7,\n",
       "  7,\n",
       "  -8,\n",
       "  -8,\n",
       "  -8,\n",
       "  -8,\n",
       "  7,\n",
       "  -8,\n",
       "  -8,\n",
       "  -8,\n",
       "  4,\n",
       "  -8,\n",
       "  -8,\n",
       "  -8,\n",
       "  -8,\n",
       "  -8,\n",
       "  7,\n",
       "  -8,\n",
       "  -8,\n",
       "  -8,\n",
       "  -8,\n",
       "  -8,\n",
       "  -8,\n",
       "  4,\n",
       "  -8,\n",
       "  -8,\n",
       "  -8,\n",
       "  27,\n",
       "  -8,\n",
       "  -8,\n",
       "  -8,\n",
       "  4,\n",
       "  -8,\n",
       "  -8,\n",
       "  7,\n",
       "  -8,\n",
       "  -8,\n",
       "  -8,\n",
       "  -8,\n",
       "  -8,\n",
       "  -8,\n",
       "  17,\n",
       "  -8,\n",
       "  12,\n",
       "  -8,\n",
       "  -8,\n",
       "  -8,\n",
       "  4,\n",
       "  -8,\n",
       "  -8,\n",
       "  -8,\n",
       "  -8,\n",
       "  12,\n",
       "  -8,\n",
       "  4,\n",
       "  -8,\n",
       "  -8,\n",
       "  4,\n",
       "  -8,\n",
       "  -8,\n",
       "  -8,\n",
       "  -8,\n",
       "  -8,\n",
       "  -8,\n",
       "  -8,\n",
       "  -8,\n",
       "  -8,\n",
       "  -8,\n",
       "  12,\n",
       "  -8,\n",
       "  -8,\n",
       "  -8,\n",
       "  -8,\n",
       "  -8,\n",
       "  -8,\n",
       "  -8,\n",
       "  4,\n",
       "  -8,\n",
       "  -8,\n",
       "  -8,\n",
       "  -8,\n",
       "  -8,\n",
       "  -8,\n",
       "  -8,\n",
       "  -8,\n",
       "  -8,\n",
       "  -8,\n",
       "  -8,\n",
       "  -8,\n",
       "  4,\n",
       "  -8,\n",
       "  4,\n",
       "  7,\n",
       "  -8,\n",
       "  7,\n",
       "  -8,\n",
       "  -8,\n",
       "  -8,\n",
       "  -8,\n",
       "  -8,\n",
       "  -8,\n",
       "  -8,\n",
       "  7,\n",
       "  17,\n",
       "  -8,\n",
       "  -8,\n",
       "  -8,\n",
       "  -8,\n",
       "  -8,\n",
       "  7,\n",
       "  -8,\n",
       "  -8,\n",
       "  -8,\n",
       "  7,\n",
       "  -8,\n",
       "  -8,\n",
       "  -8,\n",
       "  22,\n",
       "  -8,\n",
       "  4,\n",
       "  -8,\n",
       "  -8,\n",
       "  -8,\n",
       "  4,\n",
       "  4,\n",
       "  -8,\n",
       "  4,\n",
       "  7,\n",
       "  -8,\n",
       "  -8,\n",
       "  -8,\n",
       "  -8,\n",
       "  -8,\n",
       "  17,\n",
       "  -8,\n",
       "  -8,\n",
       "  -8,\n",
       "  17,\n",
       "  -8,\n",
       "  22,\n",
       "  -8,\n",
       "  4,\n",
       "  7,\n",
       "  -8,\n",
       "  -8,\n",
       "  -8,\n",
       "  7,\n",
       "  -8,\n",
       "  -8,\n",
       "  7,\n",
       "  -8,\n",
       "  4,\n",
       "  -8,\n",
       "  -8,\n",
       "  -8,\n",
       "  -8,\n",
       "  -8,\n",
       "  -8,\n",
       "  -8,\n",
       "  7,\n",
       "  -8,\n",
       "  -8,\n",
       "  -8,\n",
       "  -8,\n",
       "  -8,\n",
       "  -8,\n",
       "  -8,\n",
       "  -8,\n",
       "  -8,\n",
       "  -8,\n",
       "  -8,\n",
       "  -8,\n",
       "  -8,\n",
       "  -8,\n",
       "  7,\n",
       "  4,\n",
       "  -8,\n",
       "  -8,\n",
       "  -8,\n",
       "  7,\n",
       "  4,\n",
       "  -8,\n",
       "  -8,\n",
       "  4,\n",
       "  7,\n",
       "  -8,\n",
       "  -8,\n",
       "  -8,\n",
       "  -8,\n",
       "  -8,\n",
       "  -8,\n",
       "  4,\n",
       "  -8,\n",
       "  17,\n",
       "  -8,\n",
       "  7,\n",
       "  -8,\n",
       "  7,\n",
       "  -8,\n",
       "  -8,\n",
       "  -8,\n",
       "  4,\n",
       "  -8,\n",
       "  -8,\n",
       "  -8,\n",
       "  -8,\n",
       "  4,\n",
       "  -8,\n",
       "  -8,\n",
       "  -8,\n",
       "  -8,\n",
       "  -8,\n",
       "  -8,\n",
       "  -8,\n",
       "  -8,\n",
       "  4,\n",
       "  17,\n",
       "  -8,\n",
       "  -8,\n",
       "  -8,\n",
       "  -8,\n",
       "  -8,\n",
       "  -8,\n",
       "  4,\n",
       "  -8,\n",
       "  -8,\n",
       "  -8,\n",
       "  -8,\n",
       "  7,\n",
       "  -8,\n",
       "  4,\n",
       "  -8,\n",
       "  -8,\n",
       "  -8,\n",
       "  -8,\n",
       "  -8,\n",
       "  -8,\n",
       "  -8,\n",
       "  -8,\n",
       "  -8,\n",
       "  -8,\n",
       "  12,\n",
       "  -8,\n",
       "  -8,\n",
       "  -8,\n",
       "  7,\n",
       "  -8,\n",
       "  -8,\n",
       "  4,\n",
       "  -8,\n",
       "  -8,\n",
       "  -8,\n",
       "  -8,\n",
       "  -8,\n",
       "  -8,\n",
       "  -8,\n",
       "  4,\n",
       "  -8,\n",
       "  -8,\n",
       "  -8,\n",
       "  -8,\n",
       "  -8,\n",
       "  4,\n",
       "  -8,\n",
       "  4,\n",
       "  -8,\n",
       "  -8,\n",
       "  -8,\n",
       "  -8,\n",
       "  4,\n",
       "  -8,\n",
       "  -8,\n",
       "  -8,\n",
       "  -8,\n",
       "  -8,\n",
       "  7,\n",
       "  4,\n",
       "  -8,\n",
       "  7,\n",
       "  12,\n",
       "  -8,\n",
       "  7,\n",
       "  7,\n",
       "  7,\n",
       "  -8,\n",
       "  -8,\n",
       "  -8,\n",
       "  -8,\n",
       "  -8,\n",
       "  -8,\n",
       "  -8,\n",
       "  4,\n",
       "  4,\n",
       "  -8,\n",
       "  -8,\n",
       "  -8,\n",
       "  -8,\n",
       "  -8,\n",
       "  -8,\n",
       "  -8,\n",
       "  4,\n",
       "  -8,\n",
       "  -8,\n",
       "  -8,\n",
       "  -8,\n",
       "  4,\n",
       "  -8,\n",
       "  -8,\n",
       "  4,\n",
       "  -8,\n",
       "  -8,\n",
       "  -8,\n",
       "  -8,\n",
       "  -8,\n",
       "  4,\n",
       "  -8,\n",
       "  -8,\n",
       "  -8,\n",
       "  -8,\n",
       "  -8,\n",
       "  4,\n",
       "  4,\n",
       "  -8,\n",
       "  -8,\n",
       "  -8,\n",
       "  -8,\n",
       "  4,\n",
       "  4,\n",
       "  4,\n",
       "  7,\n",
       "  -8,\n",
       "  4,\n",
       "  4,\n",
       "  -8,\n",
       "  7,\n",
       "  -8,\n",
       "  -8,\n",
       "  -8,\n",
       "  4,\n",
       "  -8,\n",
       "  -8,\n",
       "  142,\n",
       "  4,\n",
       "  -8,\n",
       "  42,\n",
       "  -8,\n",
       "  -8,\n",
       "  -8,\n",
       "  12,\n",
       "  -8,\n",
       "  -8,\n",
       "  -8,\n",
       "  -8,\n",
       "  -8,\n",
       "  -8,\n",
       "  -8,\n",
       "  -8,\n",
       "  -8,\n",
       "  -8,\n",
       "  -8,\n",
       "  -8,\n",
       "  7,\n",
       "  -8,\n",
       "  -8,\n",
       "  7,\n",
       "  -8,\n",
       "  -8,\n",
       "  -8,\n",
       "  -8,\n",
       "  -8,\n",
       "  -8,\n",
       "  7,\n",
       "  -8,\n",
       "  -8,\n",
       "  -8,\n",
       "  -8,\n",
       "  -8,\n",
       "  -8,\n",
       "  -8,\n",
       "  4,\n",
       "  -8,\n",
       "  -8,\n",
       "  4,\n",
       "  -8,\n",
       "  -8,\n",
       "  -8,\n",
       "  -8,\n",
       "  4,\n",
       "  -8,\n",
       "  -8,\n",
       "  -8,\n",
       "  -8,\n",
       "  -8,\n",
       "  -8,\n",
       "  -8,\n",
       "  4,\n",
       "  4,\n",
       "  -8,\n",
       "  -8,\n",
       "  -8,\n",
       "  7,\n",
       "  -8,\n",
       "  -8,\n",
       "  4,\n",
       "  -8,\n",
       "  -8,\n",
       "  -8,\n",
       "  -8,\n",
       "  -8,\n",
       "  -8,\n",
       "  -8,\n",
       "  7,\n",
       "  7,\n",
       "  -8,\n",
       "  4,\n",
       "  -8,\n",
       "  4,\n",
       "  -8,\n",
       "  -8,\n",
       "  -8,\n",
       "  4,\n",
       "  7,\n",
       "  -8,\n",
       "  4,\n",
       "  -8,\n",
       "  -8,\n",
       "  -8,\n",
       "  -8,\n",
       "  4,\n",
       "  7,\n",
       "  -8,\n",
       "  -8,\n",
       "  -8,\n",
       "  17,\n",
       "  -8,\n",
       "  -8,\n",
       "  -8,\n",
       "  4,\n",
       "  -8,\n",
       "  -8,\n",
       "  -8,\n",
       "  -8,\n",
       "  -8,\n",
       "  -8,\n",
       "  -8,\n",
       "  -8,\n",
       "  -8,\n",
       "  7,\n",
       "  -8,\n",
       "  -8,\n",
       "  -8,\n",
       "  7,\n",
       "  -8,\n",
       "  12,\n",
       "  -8,\n",
       "  4,\n",
       "  4,\n",
       "  4,\n",
       "  -8,\n",
       "  -8,\n",
       "  7,\n",
       "  -8,\n",
       "  -8,\n",
       "  -8,\n",
       "  -8,\n",
       "  -8,\n",
       "  -8,\n",
       "  -8,\n",
       "  4,\n",
       "  -8,\n",
       "  -8,\n",
       "  7,\n",
       "  -8,\n",
       "  -8,\n",
       "  -8,\n",
       "  4,\n",
       "  -8,\n",
       "  -8,\n",
       "  -8,\n",
       "  -8,\n",
       "  -8,\n",
       "  -8,\n",
       "  -8,\n",
       "  -8,\n",
       "  -8,\n",
       "  -8,\n",
       "  -8,\n",
       "  -8,\n",
       "  -8,\n",
       "  -8,\n",
       "  4,\n",
       "  -8,\n",
       "  -8,\n",
       "  -8,\n",
       "  -8,\n",
       "  -8,\n",
       "  4,\n",
       "  4,\n",
       "  -8,\n",
       "  -8,\n",
       "  -8,\n",
       "  -8,\n",
       "  -8,\n",
       "  -8,\n",
       "  7,\n",
       "  -8,\n",
       "  -8,\n",
       "  -8,\n",
       "  -8,\n",
       "  4,\n",
       "  -8,\n",
       "  7,\n",
       "  4,\n",
       "  -8,\n",
       "  -8,\n",
       "  -8,\n",
       "  -8,\n",
       "  -8,\n",
       "  -8,\n",
       "  -8,\n",
       "  4,\n",
       "  -8,\n",
       "  7,\n",
       "  4,\n",
       "  -8,\n",
       "  -8,\n",
       "  -8,\n",
       "  4,\n",
       "  4,\n",
       "  7,\n",
       "  -8,\n",
       "  7,\n",
       "  -8,\n",
       "  7,\n",
       "  -8,\n",
       "  -8,\n",
       "  -8,\n",
       "  4,\n",
       "  4,\n",
       "  -8,\n",
       "  4,\n",
       "  -8,\n",
       "  -8,\n",
       "  -8,\n",
       "  -8,\n",
       "  -8,\n",
       "  4,\n",
       "  4,\n",
       "  -8,\n",
       "  -8,\n",
       "  -8,\n",
       "  -8,\n",
       "  -8,\n",
       "  -8,\n",
       "  -8,\n",
       "  -8,\n",
       "  -8,\n",
       "  -8,\n",
       "  17,\n",
       "  -8,\n",
       "  -8,\n",
       "  -8,\n",
       "  -8,\n",
       "  -8,\n",
       "  -8,\n",
       "  -8,\n",
       "  -8,\n",
       "  -8,\n",
       "  -8,\n",
       "  4,\n",
       "  -8,\n",
       "  12,\n",
       "  4,\n",
       "  -8,\n",
       "  -8,\n",
       "  -8,\n",
       "  -8,\n",
       "  7,\n",
       "  -8,\n",
       "  -8,\n",
       "  -8,\n",
       "  -8,\n",
       "  -8,\n",
       "  -8,\n",
       "  -8,\n",
       "  4,\n",
       "  -8,\n",
       "  -8,\n",
       "  -8,\n",
       "  12,\n",
       "  4,\n",
       "  -8,\n",
       "  -8,\n",
       "  -8,\n",
       "  -8,\n",
       "  -8,\n",
       "  -8,\n",
       "  4,\n",
       "  -8,\n",
       "  -8,\n",
       "  -8,\n",
       "  -8,\n",
       "  -8,\n",
       "  7,\n",
       "  -8,\n",
       "  -8,\n",
       "  4,\n",
       "  -8,\n",
       "  7,\n",
       "  -8,\n",
       "  -8,\n",
       "  -8,\n",
       "  -8,\n",
       "  -8,\n",
       "  -8,\n",
       "  7,\n",
       "  -8,\n",
       "  -8,\n",
       "  -8,\n",
       "  -8,\n",
       "  12,\n",
       "  4,\n",
       "  4,\n",
       "  -8,\n",
       "  -8,\n",
       "  -8,\n",
       "  12,\n",
       "  -8,\n",
       "  -8,\n",
       "  -8,\n",
       "  -8,\n",
       "  -8,\n",
       "  17,\n",
       "  -8,\n",
       "  -8,\n",
       "  -8,\n",
       "  7,\n",
       "  -8,\n",
       "  -8,\n",
       "  -8,\n",
       "  4,\n",
       "  -8,\n",
       "  4,\n",
       "  4,\n",
       "  -8,\n",
       "  -8,\n",
       "  7,\n",
       "  7,\n",
       "  -8,\n",
       "  -8,\n",
       "  -8,\n",
       "  -8,\n",
       "  -8,\n",
       "  -8,\n",
       "  -8,\n",
       "  -8,\n",
       "  -8,\n",
       "  -8,\n",
       "  -8,\n",
       "  -8,\n",
       "  -8,\n",
       "  -8,\n",
       "  -8,\n",
       "  12,\n",
       "  -8,\n",
       "  -8,\n",
       "  4,\n",
       "  -8,\n",
       "  -8,\n",
       "  -8,\n",
       "  -8,\n",
       "  -8,\n",
       "  -8,\n",
       "  4,\n",
       "  4,\n",
       "  -8,\n",
       "  -8,\n",
       "  -8,\n",
       "  7,\n",
       "  -8,\n",
       "  -8,\n",
       "  -8,\n",
       "  -8,\n",
       "  -8,\n",
       "  7,\n",
       "  -8,\n",
       "  7,\n",
       "  -8,\n",
       "  -8,\n",
       "  -8,\n",
       "  -8,\n",
       "  -8,\n",
       "  -8,\n",
       "  -8,\n",
       "  -8,\n",
       "  -8,\n",
       "  -8,\n",
       "  -8,\n",
       "  -8,\n",
       "  -8,\n",
       "  -8,\n",
       "  4,\n",
       "  -8,\n",
       "  -8,\n",
       "  -8,\n",
       "  7,\n",
       "  4,\n",
       "  4,\n",
       "  -8,\n",
       "  -8,\n",
       "  -8,\n",
       "  -8,\n",
       "  22,\n",
       "  -8,\n",
       "  32,\n",
       "  -8,\n",
       "  -8,\n",
       "  4,\n",
       "  -8,\n",
       "  -8,\n",
       "  -8,\n",
       "  -8,\n",
       "  -8,\n",
       "  -8,\n",
       "  4,\n",
       "  -8,\n",
       "  -8,\n",
       "  -8,\n",
       "  -8,\n",
       "  4,\n",
       "  -8,\n",
       "  -8,\n",
       "  4,\n",
       "  -8,\n",
       "  -8,\n",
       "  -8,\n",
       "  -8,\n",
       "  -8,\n",
       "  -8,\n",
       "  -8,\n",
       "  -8,\n",
       "  12,\n",
       "  -8,\n",
       "  4,\n",
       "  -8,\n",
       "  -8,\n",
       "  -8,\n",
       "  -8,\n",
       "  4,\n",
       "  4,\n",
       "  -8],\n",
       " 'team': ['Henrik Stenson',\n",
       "  'Brooks Koepka',\n",
       "  'Tommy Fleetwood',\n",
       "  'D.A. Points',\n",
       "  'Emiliano Grillo',\n",
       "  'Louis Oosthuizen']}"
      ]
     },
     "execution_count": 183,
     "metadata": {},
     "output_type": "execute_result"
    }
   ],
   "source": [
    "cost_iteration_results[-1]"
   ]
  },
  {
   "cell_type": "code",
   "execution_count": null,
   "metadata": {
    "collapsed": true
   },
   "outputs": [],
   "source": []
  }
 ],
 "metadata": {
  "kernelspec": {
   "display_name": "Python 3",
   "language": "python",
   "name": "python3"
  },
  "language_info": {
   "codemirror_mode": {
    "name": "ipython",
    "version": 3
   },
   "file_extension": ".py",
   "mimetype": "text/x-python",
   "name": "python",
   "nbconvert_exporter": "python",
   "pygments_lexer": "ipython3",
   "version": "3.5.0"
  }
 },
 "nbformat": 4,
 "nbformat_minor": 2
}
