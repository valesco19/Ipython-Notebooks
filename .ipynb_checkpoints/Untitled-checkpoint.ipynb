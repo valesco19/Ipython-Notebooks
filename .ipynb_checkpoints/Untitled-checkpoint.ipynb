{
 "cells": [
  {
   "cell_type": "code",
   "execution_count": 2,
   "metadata": {
    "collapsed": true
   },
   "outputs": [],
   "source": [
    "from pulp import *\n",
    "import csv\n",
    "import numpy as np\n",
    "import pandas as pd\n",
    "import os"
   ]
  },
  {
   "cell_type": "code",
   "execution_count": null,
   "metadata": {
    "collapsed": false
   },
   "outputs": [],
   "source": []
  },
  {
   "cell_type": "code",
   "execution_count": null,
   "metadata": {
    "collapsed": true
   },
   "outputs": [],
   "source": [
    "in_file = \"D:/Datasets/DKSalariesOdds.csv\"\n",
    "reader = csv.DictReader(open(in_file, 'r'))\n",
    "player_dict = []\n",
    "for i , row in enumerate(reader):\n",
    "    t = {k: v for k, v in row.items()}\n",
    "    t['id'] = i\n",
    "    player_dict.append(t)\n",
    "    \n",
    "# Create an empty LP\n",
    "IP = LpProblem(\"Golf Optimization\", LpMinimize)\n",
    "\n",
    "# Create a list of the teams and player IDs\n",
    "teams = [i for i in range(10)]\n",
    "players = [player['id'] for player in player_dict]\n",
    "\n",
    "# Create binary decision variables for which player ends up on which team\n",
    "possible_assignments = LpVariable.dicts(\"x\", (teams, players), 0, 1, LpBinary)\n",
    "\n",
    "# Add in the objective function\n",
    "IP += sum([float(player['Odds']) * possible_assignments[team][player['id']] for player in player_dict for team in teams])\n",
    "#IP += \n",
    "\n",
    "for team in teams:\n",
    "    IP += lpSum([possible_assignments[team][player['id']] for player in player_dict]) == 6, '6 players per team '+str(team)\n",
    "    IP += sum([float(player['Salary']) * possible_assignments[team][player['id']] for player in player_dict]) <= 50000\n",
    "    #IP += sum([float(player['odds']) < 15 for player in player_dict]) > 0, '1 favorite per team'\n",
    "    #IP += lpSum([possible_assignments[t][p['id']] for p in d if p['Group'] == 'A']) == 1, '1 A per team '+str(t)\n",
    "    #IP += lpSum([possible_assignments[t][p['id']] for p in d if p['Group'] == 'B']) == 2, '2 B per team '+str(t)\n",
    "    #IP += lpSum([possible_assignments[t][p['id']] for p in d if p['Group'] == 'C']) == 3, '3 C per team '+str(t)\n",
    "    #IP += lpSum([possible_assignments[t][p['id']] for p in d if p['Group'] == 'D']) == 2, '2 D per team '+str(t)\n",
    "    \n",
    "    \n",
    "    \n",
    "    \n",
    "# Write out the LP formulation\n",
    "IP.writeLP('simple optimization.lp')"
   ]
  }
 ],
 "metadata": {
  "kernelspec": {
   "display_name": "Python 3",
   "language": "python",
   "name": "python3"
  },
  "language_info": {
   "codemirror_mode": {
    "name": "ipython",
    "version": 3
   },
   "file_extension": ".py",
   "mimetype": "text/x-python",
   "name": "python",
   "nbconvert_exporter": "python",
   "pygments_lexer": "ipython3",
   "version": "3.5.1"
  }
 },
 "nbformat": 4,
 "nbformat_minor": 0
}
