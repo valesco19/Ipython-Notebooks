{
 "cells": [
  {
   "cell_type": "code",
   "execution_count": 2,
   "metadata": {
    "collapsed": true,
    "deletable": true,
    "editable": true
   },
   "outputs": [],
   "source": [
    "import h5py\n",
    "import pandas as pd\n",
    "import numpy as np\n",
    "from scipy import stats\n",
    "import os\n",
    "import json\n",
    "from glob import glob\n",
    "import zipfile\n",
    "from collections import OrderedDict\n",
    "from operator import itemgetter\n",
    "from pga.return_pid import return_pid\n",
    "from datetime import datetime\n",
    "import numpy_indexed as npi\n",
    "from tqdm import tqdm"
   ]
  },
  {
   "cell_type": "code",
   "execution_count": 3,
   "metadata": {
    "collapsed": false,
    "deletable": true,
    "editable": true,
    "scrolled": true
   },
   "outputs": [
    {
     "data": {
      "text/plain": [
       "['batch0',\n",
       " 'batch1',\n",
       " 'batch2',\n",
       " 'batch3',\n",
       " 'batch4',\n",
       " 'batch5',\n",
       " 'batch6',\n",
       " 'batch7',\n",
       " 'batch8']"
      ]
     },
     "execution_count": 3,
     "metadata": {},
     "output_type": "execute_result"
    }
   ],
   "source": [
    "os.chdir('/home/valesco/Datasets/PGA_Data/lineup_combos/')\n",
    "\n",
    "file = h5py.File('masters_lineups.h5', 'r')\n",
    "#new_file = h5py.File('pga_5_team_combos.h5', 'w')\n",
    "\n",
    "h5_keys = list(file.keys())\n",
    "\n",
    "h5_keys"
   ]
  },
  {
   "cell_type": "code",
   "execution_count": 5,
   "metadata": {
    "collapsed": false,
    "deletable": true,
    "editable": true
   },
   "outputs": [
    {
     "data": {
      "text/plain": [
       "array([[ 32,   0,   1, ...,  60,  87, 102],\n",
       "       [ 32,   0,   1, ...,  60,  87, 106],\n",
       "       [ 32,   0,   1, ...,  60,  87, 113],\n",
       "       ..., \n",
       "       [ 29,  14,  87, ...,  73,  74,  86],\n",
       "       [ 29,  14,  88, ...,  74,  86,  62],\n",
       "       [ 29,  14,  88, ...,  74,  86,  62]], dtype=int16)"
      ]
     },
     "execution_count": 5,
     "metadata": {},
     "output_type": "execute_result"
    }
   ],
   "source": [
    "lu_combos = np.array(file[h5_keys[0]]).astype(np.int16)\n",
    "lu_combos"
   ]
  },
  {
   "cell_type": "code",
   "execution_count": 7,
   "metadata": {
    "collapsed": false,
    "deletable": true,
    "editable": true
   },
   "outputs": [
    {
     "data": {
      "text/plain": [
       "array([ 32,   0,   1,   2,   3,  51,  78,  63,  64,  60,  87, 102], dtype=int16)"
      ]
     },
     "execution_count": 7,
     "metadata": {},
     "output_type": "execute_result"
    }
   ],
   "source": [
    "lu_combos[0]"
   ]
  },
  {
   "cell_type": "code",
   "execution_count": 17,
   "metadata": {
    "collapsed": false,
    "deletable": true,
    "editable": true
   },
   "outputs": [
    {
     "data": {
      "text/plain": [
       "array([[  0,   0,   0,   0,   0],\n",
       "       [  0,   1,   2,   3,   4],\n",
       "       [  0,   1,   2,   3,   5],\n",
       "       ..., \n",
       "       [  4, 145, 146, 148, 149],\n",
       "       [  4, 145, 147, 148, 149],\n",
       "       [  4, 146, 147, 148, 149]], dtype=int16)"
      ]
     },
     "execution_count": 17,
     "metadata": {},
     "output_type": "execute_result"
    }
   ],
   "source": [
    "new_combo[:,:5]"
   ]
  },
  {
   "cell_type": "code",
   "execution_count": 11,
   "metadata": {
    "collapsed": false,
    "deletable": true,
    "editable": true
   },
   "outputs": [
    {
     "data": {
      "text/plain": [
       "array([[1, 2, 3, 4, 5, 1]], dtype=int16)"
      ]
     },
     "execution_count": 11,
     "metadata": {},
     "output_type": "execute_result"
    }
   ],
   "source": [
    "new_combo[np.where((new_combo == (1,2,3,4,5,1)).all(axis = 1))]"
   ]
  },
  {
   "cell_type": "code",
   "execution_count": null,
   "metadata": {
    "collapsed": true,
    "deletable": true,
    "editable": true
   },
   "outputs": [],
   "source": []
  }
 ],
 "metadata": {
  "kernelspec": {
   "display_name": "Python 3",
   "language": "python",
   "name": "python3"
  },
  "language_info": {
   "codemirror_mode": {
    "name": "ipython",
    "version": 3
   },
   "file_extension": ".py",
   "mimetype": "text/x-python",
   "name": "python",
   "nbconvert_exporter": "python",
   "pygments_lexer": "ipython3",
   "version": "3.5.0"
  }
 },
 "nbformat": 4,
 "nbformat_minor": 2
}
