{
 "cells": [
  {
   "cell_type": "code",
   "execution_count": 8,
   "metadata": {},
   "outputs": [],
   "source": [
    "import matplotlib.pyplot as plt\n",
    "import pandas as pd\n",
    "import numpy as np\n",
    "import time\n",
    "import csv\n",
    "from keras.models import Sequential\n",
    "from keras.layers.core import Dense, Activation, Dropout\n",
    "from keras.layers.recurrent import LSTM\n",
    "np.random.seed(19)"
   ]
  },
  {
   "cell_type": "code",
   "execution_count": 21,
   "metadata": {
    "collapsed": true
   },
   "outputs": [],
   "source": [
    "def data_power_consumption(path_to_dataset = 'D:/data/household_power_consumption.txt', \n",
    "                           sequence_length = 50, ratio = 1.0):\n",
    "    \n",
    "    max_values = ratio * 2049280\n",
    "    \n",
    "    with open(path_to_dataset) as f:\n",
    "        data = csv.reader(f, delimiter = ';')\n",
    "        power = []\n",
    "        nb_of_values = 0\n",
    "        \n",
    "        for line in data:\n",
    "            try:\n",
    "                power.append(float(line[2]))\n",
    "                nb_of_values += 1\n",
    "            except ValueError:\n",
    "                pass\n",
    "            \n",
    "            if nb_of_values / 2049280.0 >= ratio:\n",
    "                break\n",
    "                \n",
    "    result = []\n",
    "    \n",
    "    for index in range(len(power) - sequence_length):\n",
    "        result.append(power[index: index + sequence_length])\n",
    "        \n",
    "    result = np.array(result)\n",
    "    \n",
    "    result_mean = result.mean()\n",
    "    result -= result_mean\n",
    "    \n",
    "    print('Shift: ', result_mean)\n",
    "    print('Data: ', result.shape)\n",
    "    \n",
    "    row = int(round(0.9 * result.shape[0]))\n",
    "    train = result[:row, :]\n",
    "    np.random.shuffle(train)\n",
    "    \n",
    "    X_train = train[:, :-1]\n",
    "    y_train = train[:, -1]\n",
    "    X_test = result[row:, :-1]\n",
    "    y_test = result[row:, -1]\n",
    "    \n",
    "    X_train = np.reshape(X_train, (X_train.shape[0], X_train.shape[1], 1))\n",
    "    X_test = np.reshape(X_test, (X_test.shape[0], X_test.shape[1], 1))\n",
    "    \n",
    "    return [X_train, y_train, X_test, y_test]"
   ]
  },
  {
   "cell_type": "code",
   "execution_count": 27,
   "metadata": {},
   "outputs": [],
   "source": [
    "def build_model():\n",
    "    \n",
    "    model = Sequential()\n",
    "    layers = [1, 50, 100, 1]\n",
    "    \n",
    "    model.add(LSTM(layers[1], input_shape = (None, 1), return_sequences = True))\n",
    "    model.add(Dropout(0.2))\n",
    "    model.add(LSTM(layers[2], return_sequences = False))\n",
    "    model.add(Dropout(0.2))\n",
    "    model.add(Dense(layers[3]))\n",
    "    model.add(Activation('linear'))\n",
    "    \n",
    "    start = time.time()\n",
    "    model.compile(loss = 'mse', optimizer = 'rmsprop')\n",
    "    print('Compilation time: {}'.format(time.time() - start))\n",
    "    \n",
    "    return model\n",
    "\n",
    "def run_network(model = None, data = None):\n",
    "    global_start_time = time.time()\n",
    "    epochs = 3\n",
    "    ratio = 0.5\n",
    "    path_to_dataset = 'D:/data/household_power_consumption.txt'\n",
    "    \n",
    "    if data is None:\n",
    "        print('Loading data.....')\n",
    "        X_train, y_train, X_test, y_test = data_power_consumption(path_to_dataset)\n",
    "                                            \n",
    "    else:\n",
    "        X_train, y_train, X_test, y_test = data\n",
    "        \n",
    "    print('Data Loaded \\n Compiling....')\n",
    "    \n",
    "    if model is None:\n",
    "        model = build_model()\n",
    "        \n",
    "    try:\n",
    "        model.fit(X_train, y_train, batch_size = 512, nb_epoch = epochs, validation_split = 0.10)\n",
    "        predicted = model.predict(X_test)\n",
    "        predicted = np.reshape(predicted, (predicted.size,))\n",
    "    except KeyboardInterrupt:\n",
    "        print('Training duration (seconds): ', time.time() - global_start_time)\n",
    "        return model, y_test, 0\n",
    "    \n",
    "    try:\n",
    "        fig = plt.figure()\n",
    "        ax = fig.add_subplot(111)\n",
    "        ax.plot(y_test[:100, 0])\n",
    "        plt.plot(predicted[:100, 0])\n",
    "        plt.show()\n",
    "    except Exception as e:\n",
    "        print(str(e))\n",
    "        \n",
    "    print('Training duration (seconds): ', time.time() - global_start_time)\n",
    "    \n",
    "    return model, y_test, predicted\n",
    "    "
   ]
  },
  {
   "cell_type": "code",
   "execution_count": 28,
   "metadata": {},
   "outputs": [
    {
     "name": "stdout",
     "output_type": "stream",
     "text": [
      "Loading data.....\n",
      "Shift:  1.09157810417\n",
      "Data:  (2049230, 50)\n",
      "Data Loaded \n",
      " Compiling....\n",
      "Compilation time: 0.026999711990356445\n"
     ]
    },
    {
     "name": "stderr",
     "output_type": "stream",
     "text": [
      "C:\\Users\\vales\\Anaconda3\\lib\\site-packages\\keras\\models.py:837: UserWarning: The `nb_epoch` argument in `fit` has been renamed `epochs`.\n",
      "  warnings.warn('The `nb_epoch` argument in `fit` '\n"
     ]
    },
    {
     "name": "stdout",
     "output_type": "stream",
     "text": [
      "Train on 1659876 samples, validate on 184431 samples\n",
      "Epoch 1/3\n",
      "1659876/1659876 [==============================] - 605s - loss: 0.0831 - val_loss: 0.0711\n",
      "Epoch 2/3\n",
      "1659876/1659876 [==============================] - 601s - loss: 0.0726 - val_loss: 0.0699\n",
      "Epoch 3/3\n",
      "1659876/1659876 [==============================] - 604s - loss: 0.0703 - val_loss: 0.0640\n",
      "too many indices for array\n",
      "Training duration (seconds):  2046.9878125190735\n"
     ]
    }
   ],
   "source": [
    "model, y_test, predicted = run_network()"
   ]
  },
  {
   "cell_type": "code",
   "execution_count": 39,
   "metadata": {},
   "outputs": [
    {
     "data": {
      "text/plain": [
       "<matplotlib.figure.Figure at 0x202313b0c88>"
      ]
     },
     "metadata": {},
     "output_type": "display_data"
    },
    {
     "data": {
      "image/png": "[encoded data removed]",
      "text/plain": [
       "<matplotlib.figure.Figure at 0x2022793ffd0>"
      ]
     },
     "metadata": {},
     "output_type": "display_data"
    }
   ],
   "source": [
    "x = np.arange(100)\n",
    "fig = plt.figure()\n",
    "ax = fig.add_subplot(111)\n",
    "ax.plot(x, y_test[:100,])\n",
    "plt.plot(x, predicted[:100,])\n",
    "plt.show()"
   ]
  },
  {
   "cell_type": "code",
   "execution_count": 31,
   "metadata": {},
   "outputs": [
    {
     "data": {
      "text/plain": [
       "(204923,)"
      ]
     },
     "execution_count": 31,
     "metadata": {},
     "output_type": "execute_result"
    }
   ],
   "source": [
    "predicted.shape"
   ]
  },
  {
   "cell_type": "code",
   "execution_count": 32,
   "metadata": {},
   "outputs": [
    {
     "data": {
      "text/plain": [
       "(204923,)"
      ]
     },
     "execution_count": 32,
     "metadata": {},
     "output_type": "execute_result"
    }
   ],
   "source": [
    "y_test.shape"
   ]
  },
  {
   "cell_type": "code",
   "execution_count": null,
   "metadata": {
    "collapsed": true
   },
   "outputs": [],
   "source": []
  }
 ],
 "metadata": {
  "kernelspec": {
   "display_name": "Python 3",
   "language": "python",
   "name": "python3"
  },
  "language_info": {
   "codemirror_mode": {
    "name": "ipython",
    "version": 3
   },
   "file_extension": ".py",
   "mimetype": "text/x-python",
   "name": "python",
   "nbconvert_exporter": "python",
   "pygments_lexer": "ipython3",
   "version": "3.5.0"
  }
 },
 "nbformat": 4,
 "nbformat_minor": 2
}
