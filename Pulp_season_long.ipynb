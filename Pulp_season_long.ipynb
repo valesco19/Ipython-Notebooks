{
 "cells": [
  {
   "cell_type": "code",
   "execution_count": 1,
   "metadata": {
    "collapsed": false
   },
   "outputs": [],
   "source": [
    "from pulp import *\n",
    "import pandas as pd\n",
    "import numpy as np\n",
    "from random import randint\n",
    "import os\n",
    "import csv\n",
    "import itertools\n",
    "from multiprocessing import Process, Queue\n",
    "import random\n",
    "import time\n",
    "random.seed()\n",
    "import sys\n",
    "from ipyparallel import Client\n",
    "os.chdir('/home/valesco/Documents/')"
   ]
  },
  {
   "cell_type": "code",
   "execution_count": 22,
   "metadata": {
    "collapsed": false
   },
   "outputs": [],
   "source": [
    "#Beer Delivery\n",
    "\n",
    "prob = LpProblem('Beer Dist', LpMinimize)\n",
    "\n",
    "warehouses = ['A', 'B']\n",
    "supply = {'A': 1000, 'B': 4000}\n",
    "bars = ['1','2','3','4','5']\n",
    "demand = {'1': 500, '2': 900, '3': 1800, '4': 200, '5': 700}\n",
    "costs = [\n",
    "         #Costs for warehouse A to bars\n",
    "        [2,4,5,2,1],\n",
    "         #Costs for warehouse B to bars\n",
    "        [3,1,3,2,3]\n",
    "    \n",
    "]\n",
    "\n",
    "costs = makeDict([warehouses, bars], costs,0)\n",
    "routes = [(w,b) for w in warehouses for b in bars]"
   ]
  },
  {
   "cell_type": "code",
   "execution_count": 25,
   "metadata": {
    "collapsed": false
   },
   "outputs": [],
   "source": [
    "x = LpVariable.dicts('route', (warehouses, bars), lowBound = 0, cat= LpInteger)"
   ]
  },
  {
   "cell_type": "code",
   "execution_count": 26,
   "metadata": {
    "collapsed": false
   },
   "outputs": [],
   "source": [
    "prob += sum([x[w][b] * costs[w][b] for (w,b) in routes]) # Sum Transportation Costs"
   ]
  },
  {
   "cell_type": "code",
   "execution_count": 27,
   "metadata": {
    "collapsed": false
   },
   "outputs": [],
   "source": [
    "for w in warehouses:\n",
    "    prob += sum([x[w][b] for b in bars]) <= supply[w]"
   ]
  },
  {
   "cell_type": "code",
   "execution_count": 28,
   "metadata": {
    "collapsed": true
   },
   "outputs": [],
   "source": [
    "# Demand minimum constraints are added to prob for each demand node (bar)\n",
    "\n",
    "for b in bars:\n",
    "    prob += sum([x[w][b] for w in warehouses]) >= demand[b]"
   ]
  },
  {
   "cell_type": "code",
   "execution_count": 31,
   "metadata": {
    "collapsed": false
   },
   "outputs": [
    {
     "name": "stdout",
     "output_type": "stream",
     "text": [
      "Status:  Optimal\n"
     ]
    }
   ],
   "source": [
    "prob.solve()\n",
    "\n",
    "print('Status: ', LpStatus[prob.status])"
   ]
  },
  {
   "cell_type": "code",
   "execution_count": 32,
   "metadata": {
    "collapsed": false
   },
   "outputs": [
    {
     "name": "stdout",
     "output_type": "stream",
     "text": [
      "route_A_1  =  300.0\n",
      "route_A_2  =  0.0\n",
      "route_A_3  =  0.0\n",
      "route_A_4  =  0.0\n",
      "route_A_5  =  700.0\n",
      "route_B_1  =  200.0\n",
      "route_B_2  =  900.0\n",
      "route_B_3  =  1800.0\n",
      "route_B_4  =  200.0\n",
      "route_B_5  =  0.0\n"
     ]
    }
   ],
   "source": [
    "for v in prob.variables():\n",
    "    print(v.name, ' = ', v.varValue)"
   ]
  },
  {
   "cell_type": "code",
   "execution_count": 25,
   "metadata": {
    "collapsed": false
   },
   "outputs": [],
   "source": [
    "# Wedding Problem\n",
    "\n",
    "max_tables = 5\n",
    "max_table_size = 4\n",
    "guests = 'A B C D E F G I J K L M N O P Q R'.split(' ')\n",
    "def happiness(table):\n",
    "    for t in table:\n",
    "        sum_table = guest_dict[t]\n",
    "    return sum_table\n",
    " #create list of all possible tables\n",
    "possible_tables = [tuple(c) for c in pulp.allcombinations(guests,max_table_size)]\n",
    "#create a binary variable to state that a table setting is used\n",
    "x = pulp.LpVariable.dicts('table', possible_tables,\n",
    "    lowBound = 0,\n",
    "    upBound = 1,\n",
    "    cat = pulp.LpInteger)\n",
    "seating_model = pulp.LpProblem(\"Wedding Seating Model\", pulp.LpMaximize)\n",
    "seating_model += sum([happiness(table) * x[table] for table in possible_tables])\n",
    "#specify the maximum number of tables\n",
    "seating_model += sum([x[table] for table in possible_tables]) <= max_tables, \"Maximum_number_of_tables\"\n",
    "#A guest must seated at one and only one table\n",
    "for guest in guests:\n",
    "    seating_model += sum([x[table] for table in possible_tables if guest in table]) == 1"
   ]
  },
  {
   "cell_type": "code",
   "execution_count": 86,
   "metadata": {
    "collapsed": false
   },
   "outputs": [
    {
     "name": "stdout",
     "output_type": "stream",
     "text": [
      "The choosen tables are: \n",
      "('A',)\n",
      "('B', 'N', 'P', 'R')\n",
      "('C', 'D', 'I', 'K')\n",
      "('E', 'F', 'G', 'O')\n",
      "('J', 'L', 'M', 'Q')\n"
     ]
    }
   ],
   "source": [
    "seating_model.solve()\n",
    "\n",
    "print('The choosen tables are: ')\n",
    "for table in possible_tables:\n",
    "    if x[table].value() == 1.0:\n",
    "        print(table.replace(''))"
   ]
  },
  {
   "cell_type": "code",
   "execution_count": 24,
   "metadata": {
    "collapsed": false
   },
   "outputs": [],
   "source": [
    "guest_dict = {}\n",
    "for g in guests:\n",
    "    x = randint(0, 10)\n",
    "    guest_dict[g] = x"
   ]
  },
  {
   "cell_type": "code",
   "execution_count": 81,
   "metadata": {
    "collapsed": false
   },
   "outputs": [
    {
     "name": "stdout",
     "output_type": "stream",
     "text": [
      "A R\n"
     ]
    }
   ],
   "source": [
    "x = pulp.LpVariable.dicts('table', possible_tables,\n",
    "    lowBound = 0,\n",
    "    upBound = 1,\n",
    "    cat = pulp.LpInteger)\n",
    "\n",
    "for i, table in enumerate(possible_tables):\n",
    "    if i == 1000:\n",
    "        print(table[0], table[-1])"
   ]
  },
  {
   "cell_type": "code",
   "execution_count": 2,
   "metadata": {
    "collapsed": false
   },
   "outputs": [],
   "source": [
    "in_file = \"f_proj.csv\"\n",
    "player_df = pd.read_csv(in_file)\n",
    "players = player_df['player'].tolist()"
   ]
  },
  {
   "cell_type": "code",
   "execution_count": 8,
   "metadata": {
    "collapsed": false
   },
   "outputs": [
    {
     "name": "stdout",
     "output_type": "stream",
     "text": [
      "Waiting for connection file: ~/.ipython/profile_default/security/ipcontroller-client.json\n"
     ]
    },
    {
     "ename": "OSError",
     "evalue": "Connection file '~/.ipython/profile_default/security/ipcontroller-client.json' not found.\nYou have attempted to connect to an IPython Cluster but no Controller could be found.\nPlease double-check your configuration and ensure that a cluster is running.",
     "output_type": "error",
     "traceback": [
      "\u001b[1;31m---------------------------------------------------------------------------\u001b[0m",
      "\u001b[1;31mOSError\u001b[0m                                   Traceback (most recent call last)",
      "\u001b[1;32m<ipython-input-8-0abbbc94063a>\u001b[0m in \u001b[0;36m<module>\u001b[1;34m()\u001b[0m\n\u001b[1;32m----> 1\u001b[1;33m \u001b[0mrc\u001b[0m \u001b[1;33m=\u001b[0m \u001b[0mClient\u001b[0m\u001b[1;33m(\u001b[0m\u001b[1;33m)\u001b[0m\u001b[1;33m\u001b[0m\u001b[0m\n\u001b[0m\u001b[0;32m      2\u001b[0m \u001b[1;33m\u001b[0m\u001b[0m\n\u001b[0;32m      3\u001b[0m \u001b[1;32mwith\u001b[0m \u001b[0mrc\u001b[0m\u001b[1;33m[\u001b[0m\u001b[1;33m:\u001b[0m\u001b[1;33m]\u001b[0m\u001b[1;33m.\u001b[0m\u001b[0msyn_imports\u001b[0m\u001b[1;33m(\u001b[0m\u001b[1;33m)\u001b[0m\u001b[1;33m:\u001b[0m\u001b[1;33m\u001b[0m\u001b[0m\n\u001b[0;32m      4\u001b[0m     \u001b[1;32mimport\u001b[0m \u001b[0mitertools\u001b[0m\u001b[1;33m\u001b[0m\u001b[0m\n\u001b[0;32m      5\u001b[0m \u001b[1;33m\u001b[0m\u001b[0m\n",
      "\u001b[1;32m/home/valesco/anaconda3/lib/python3.5/site-packages/ipyparallel/client/client.py\u001b[0m in \u001b[0;36m__init__\u001b[1;34m(self, url_file, profile, profile_dir, ipython_dir, context, debug, sshserver, sshkey, password, paramiko, timeout, cluster_id, **extra_args)\u001b[0m\n\u001b[0;32m    389\u001b[0m                         \u001b[0mno_file_msg\u001b[0m\u001b[1;33m,\u001b[0m\u001b[1;33m\u001b[0m\u001b[0m\n\u001b[0;32m    390\u001b[0m                     ])\n\u001b[1;32m--> 391\u001b[1;33m                     \u001b[1;32mraise\u001b[0m \u001b[0mIOError\u001b[0m\u001b[1;33m(\u001b[0m\u001b[0mmsg\u001b[0m\u001b[1;33m)\u001b[0m\u001b[1;33m\u001b[0m\u001b[0m\n\u001b[0m\u001b[0;32m    392\u001b[0m         \u001b[1;32mif\u001b[0m \u001b[0murl_file\u001b[0m \u001b[1;32mis\u001b[0m \u001b[1;32mNone\u001b[0m\u001b[1;33m:\u001b[0m\u001b[1;33m\u001b[0m\u001b[0m\n\u001b[0;32m    393\u001b[0m             \u001b[1;32mraise\u001b[0m \u001b[0mIOError\u001b[0m\u001b[1;33m(\u001b[0m\u001b[0mno_file_msg\u001b[0m\u001b[1;33m)\u001b[0m\u001b[1;33m\u001b[0m\u001b[0m\n",
      "\u001b[1;31mOSError\u001b[0m: Connection file '~/.ipython/profile_default/security/ipcontroller-client.json' not found.\nYou have attempted to connect to an IPython Cluster but no Controller could be found.\nPlease double-check your configuration and ensure that a cluster is running."
     ]
    }
   ],
   "source": [
    "rc = Client()\n",
    "\n",
    "with rc[:].syn_imports():\n",
    "    import itertools\n",
    "\n",
    "teams = 10\n",
    "max_players = 9\n",
    "\n",
    "def calc_sum(team):\n",
    "    for t in team:\n",
    "        sum_team = player_df[t]\n",
    "    return sum_team\n",
    "\n",
    "#create list of all possible tables\n",
    "%px possible_tables = tuple(itertools.combinations(players,4))"
   ]
  },
  {
   "cell_type": "code",
   "execution_count": 3,
   "metadata": {
    "collapsed": false
   },
   "outputs": [],
   "source": [
    "qb = player_df['player'].loc[player_df['pos'] == 0].tolist()\n",
    "rb = player_df['player'].loc[player_df['pos'] == 1].tolist()\n",
    "wr = player_df['player'].loc[player_df['pos'] == 2].tolist()\n",
    "te = player_df['player'].loc[player_df['pos'] == 3].tolist()\n",
    "k = player_df['player'].loc[player_df['pos'] == 4].tolist()\n",
    "d = player_df['player'].loc[player_df['pos'] == 5].tolist()\n",
    "util = rb + wr\n",
    "\n",
    "qb = qb[:12]\n",
    "wr = wr[:20]\n",
    "rb = rb[:20]\n",
    "te = te[:12]\n",
    "k = k[:12]\n",
    "d = d[:12]\n",
    "util = util[:40]"
   ]
  },
  {
   "cell_type": "code",
   "execution_count": 4,
   "metadata": {
    "collapsed": false
   },
   "outputs": [
    {
     "ename": "MemoryError",
     "evalue": "",
     "output_type": "error",
     "traceback": [
      "\u001b[1;31m---------------------------------------------------------------------------\u001b[0m",
      "\u001b[1;31mMemoryError\u001b[0m                               Traceback (most recent call last)",
      "\u001b[1;32m<ipython-input-4-2421e24a1335>\u001b[0m in \u001b[0;36m<module>\u001b[1;34m()\u001b[0m\n\u001b[0;32m     11\u001b[0m                                     \u001b[1;32mif\u001b[0m \u001b[0mr1\u001b[0m \u001b[1;33m!=\u001b[0m \u001b[0mr2\u001b[0m \u001b[1;32mand\u001b[0m \u001b[0mr1\u001b[0m \u001b[1;33m!=\u001b[0m \u001b[0mutil\u001b[0m \u001b[1;32mand\u001b[0m \u001b[0mr2\u001b[0m \u001b[1;33m!=\u001b[0m \u001b[0mutil\u001b[0m\u001b[1;33m:\u001b[0m\u001b[1;33m\u001b[0m\u001b[0m\n\u001b[0;32m     12\u001b[0m                                         \u001b[1;32mif\u001b[0m \u001b[0mw1\u001b[0m \u001b[1;33m!=\u001b[0m \u001b[0mw2\u001b[0m \u001b[1;32mand\u001b[0m \u001b[0mw1\u001b[0m \u001b[1;33m!=\u001b[0m \u001b[0mutil\u001b[0m \u001b[1;32mand\u001b[0m \u001b[0mw2\u001b[0m \u001b[1;33m!=\u001b[0m \u001b[0mutil\u001b[0m\u001b[1;33m:\u001b[0m\u001b[1;33m\u001b[0m\u001b[0m\n\u001b[1;32m---> 13\u001b[1;33m                                             \u001b[0mposs_teams\u001b[0m\u001b[1;33m.\u001b[0m\u001b[0mappend\u001b[0m\u001b[1;33m(\u001b[0m\u001b[0mtuple\u001b[0m\u001b[1;33m(\u001b[0m\u001b[1;33m(\u001b[0m\u001b[0mq\u001b[0m\u001b[1;33m,\u001b[0m\u001b[0mr1\u001b[0m\u001b[1;33m,\u001b[0m\u001b[0mr2\u001b[0m\u001b[1;33m,\u001b[0m\u001b[0mw1\u001b[0m\u001b[1;33m,\u001b[0m\u001b[0mw2\u001b[0m\u001b[1;33m,\u001b[0m\u001b[0mt\u001b[0m\u001b[1;33m,\u001b[0m\u001b[0mk1\u001b[0m\u001b[1;33m,\u001b[0m\u001b[0md1\u001b[0m\u001b[1;33m,\u001b[0m\u001b[0mu\u001b[0m\u001b[1;33m)\u001b[0m\u001b[1;33m)\u001b[0m\u001b[1;33m)\u001b[0m\u001b[1;33m\u001b[0m\u001b[0m\n\u001b[0m\u001b[0;32m     14\u001b[0m \u001b[1;33m\u001b[0m\u001b[0m\n",
      "\u001b[1;31mMemoryError\u001b[0m: "
     ]
    }
   ],
   "source": [
    "poss_teams = []\n",
    "for q in qb:\n",
    "    for r1 in rb:\n",
    "        for r2 in rb:\n",
    "            for w1 in wr:\n",
    "                for w2 in wr:\n",
    "                    for t in te:\n",
    "                        for k1 in k:\n",
    "                            for d1 in d:\n",
    "                                for u in util:\n",
    "                                    if r1 != r2 and r1 != util and r2 != util:\n",
    "                                        if w1 != w2 and w1 != util and w2 != util:\n",
    "                                            poss_teams.append(tuple((q,r1,r2,w1,w2,t,k1,d1,u)))\n",
    "                                    "
   ]
  },
  {
   "cell_type": "code",
   "execution_count": 20,
   "metadata": {
    "collapsed": false
   },
   "outputs": [],
   "source": []
  },
  {
   "cell_type": "code",
   "execution_count": 29,
   "metadata": {
    "collapsed": false
   },
   "outputs": [
    {
     "data": {
      "text/plain": [
       "('asd', 'adfas', 'asdfasd', 'asdfasd')"
      ]
     },
     "execution_count": 29,
     "metadata": {},
     "output_type": "execute_result"
    }
   ],
   "source": [
    "t = tuple(('asd', 'adfas', 'asdfasd', 'asdfasd'))\n",
    "t"
   ]
  },
  {
   "cell_type": "code",
   "execution_count": null,
   "metadata": {
    "collapsed": true
   },
   "outputs": [],
   "source": []
  }
 ],
 "metadata": {
  "kernelspec": {
   "display_name": "Python 3",
   "language": "python",
   "name": "python3"
  },
  "language_info": {
   "codemirror_mode": {
    "name": "ipython",
    "version": 3
   },
   "file_extension": ".py",
   "mimetype": "text/x-python",
   "name": "python",
   "nbconvert_exporter": "python",
   "pygments_lexer": "ipython3",
   "version": "3.5.1"
  }
 },
 "nbformat": 4,
 "nbformat_minor": 0
}
