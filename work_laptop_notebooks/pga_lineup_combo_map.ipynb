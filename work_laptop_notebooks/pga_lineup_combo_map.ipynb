{
 "cells": [
  {
   "cell_type": "code",
   "execution_count": 65,
   "metadata": {
    "collapsed": true
   },
   "outputs": [],
   "source": [
    "import h5py\n",
    "import pandas as pd\n",
    "import numpy as np\n",
    "from scipy import stats\n",
    "import os\n",
    "import json\n",
    "from glob import glob\n",
    "import zipfile\n",
    "from collections import OrderedDict\n",
    "from operator import itemgetter\n",
    "from pga.return_pid import return_pid\n",
    "from datetime import datetime\n",
    "import numpy_indexed as npi\n",
    "from tqdm import tqdm"
   ]
  },
  {
   "cell_type": "code",
   "execution_count": 33,
   "metadata": {
    "collapsed": true
   },
   "outputs": [],
   "source": [
    "os.chdir('D:/data/lineup_combos')\n",
    "file = h5py.File('test_combo_5.h5', 'r')\n",
    "\n",
    "file_keys = file.keys()\n",
    "\n",
    "combos = np.array(file['batch_0'])\n",
    "#combos = combos[1:,:5]"
   ]
  },
  {
   "cell_type": "code",
   "execution_count": 3,
   "metadata": {},
   "outputs": [
    {
     "data": {
      "text/plain": [
       "(98600005, 5)"
      ]
     },
     "execution_count": 3,
     "metadata": {},
     "output_type": "execute_result"
    }
   ],
   "source": [
    "combos.shape"
   ]
  },
  {
   "cell_type": "code",
   "execution_count": 4,
   "metadata": {
    "collapsed": true
   },
   "outputs": [],
   "source": [
    "#os.chdir('/home/valesco/Datasets/dk_downloads/')\n",
    "\n",
    "sal_df = pd.read_csv('DKSalaries (36).csv', skiprows = 7, usecols = range(7,14))\n",
    "sal_df.reset_index(inplace = True, drop = True)\n",
    "sal_df.columns = ['pos', 'name_id', 'player_name', 'id', 'salary', 'tournament', 'team']\n",
    "sal_df.head()\n",
    "sal_df = sal_df.loc[sal_df['player_name'] != 'Stewart Hagestad']\n",
    "sal_df = sal_df.loc[sal_df['player_name'] != 'Toto Gana']"
   ]
  },
  {
   "cell_type": "code",
   "execution_count": 5,
   "metadata": {
    "collapsed": true
   },
   "outputs": [],
   "source": [
    "pid_ls = []\n",
    "for player in sal_df['player_name'].unique():\n",
    "    pid = return_pid(player)\n",
    "    \n",
    "    if pid is not np.nan:\n",
    "        pid_ls.append(pid)\n",
    "    else:\n",
    "        print(player, pid)\n",
    "        \n",
    "sal_df['pid'] = pid_ls        "
   ]
  },
  {
   "cell_type": "code",
   "execution_count": 58,
   "metadata": {},
   "outputs": [
    {
     "data": {
      "text/html": [
       "<div>\n",
       "<table border=\"1\" class=\"dataframe\">\n",
       "  <thead>\n",
       "    <tr style=\"text-align: right;\">\n",
       "      <th></th>\n",
       "      <th>pos</th>\n",
       "      <th>name_id</th>\n",
       "      <th>player_name</th>\n",
       "      <th>id</th>\n",
       "      <th>salary</th>\n",
       "      <th>tournament</th>\n",
       "      <th>team</th>\n",
       "      <th>pid</th>\n",
       "      <th>temp_pid</th>\n",
       "      <th>sal/100</th>\n",
       "      <th>sal_rank</th>\n",
       "    </tr>\n",
       "  </thead>\n",
       "  <tbody>\n",
       "    <tr>\n",
       "      <th>83</th>\n",
       "      <td>G</td>\n",
       "      <td>Fred Couples (8422982)</td>\n",
       "      <td>Fred Couples</td>\n",
       "      <td>8422982</td>\n",
       "      <td>6300</td>\n",
       "      <td>Masters Tournament</td>\n",
       "      <td>Golf</td>\n",
       "      <td>1226</td>\n",
       "      <td>0</td>\n",
       "      <td>63</td>\n",
       "      <td>83</td>\n",
       "    </tr>\n",
       "    <tr>\n",
       "      <th>80</th>\n",
       "      <td>G</td>\n",
       "      <td>Bernhard Langer (8422959)</td>\n",
       "      <td>Bernhard Langer</td>\n",
       "      <td>8422959</td>\n",
       "      <td>6400</td>\n",
       "      <td>Masters Tournament</td>\n",
       "      <td>Golf</td>\n",
       "      <td>1666</td>\n",
       "      <td>1</td>\n",
       "      <td>64</td>\n",
       "      <td>80</td>\n",
       "    </tr>\n",
       "    <tr>\n",
       "      <th>92</th>\n",
       "      <td>G</td>\n",
       "      <td>Sandy Lyle (8422962)</td>\n",
       "      <td>Sandy Lyle</td>\n",
       "      <td>8422962</td>\n",
       "      <td>6000</td>\n",
       "      <td>Masters Tournament</td>\n",
       "      <td>Golf</td>\n",
       "      <td>1717</td>\n",
       "      <td>2</td>\n",
       "      <td>60</td>\n",
       "      <td>92</td>\n",
       "    </tr>\n",
       "    <tr>\n",
       "      <th>10</th>\n",
       "      <td>G</td>\n",
       "      <td>Phil Mickelson (8422942)</td>\n",
       "      <td>Phil Mickelson</td>\n",
       "      <td>8422942</td>\n",
       "      <td>8700</td>\n",
       "      <td>Masters Tournament</td>\n",
       "      <td>Golf</td>\n",
       "      <td>1810</td>\n",
       "      <td>3</td>\n",
       "      <td>87</td>\n",
       "      <td>11</td>\n",
       "    </tr>\n",
       "    <tr>\n",
       "      <th>93</th>\n",
       "      <td>G</td>\n",
       "      <td>Larry Mize (8422966)</td>\n",
       "      <td>Larry Mize</td>\n",
       "      <td>8422966</td>\n",
       "      <td>6000</td>\n",
       "      <td>Masters Tournament</td>\n",
       "      <td>Golf</td>\n",
       "      <td>1823</td>\n",
       "      <td>4</td>\n",
       "      <td>60</td>\n",
       "      <td>92</td>\n",
       "    </tr>\n",
       "  </tbody>\n",
       "</table>\n",
       "</div>"
      ],
      "text/plain": [
       "   pos                    name_id      player_name       id  salary  \\\n",
       "83   G     Fred Couples (8422982)     Fred Couples  8422982    6300   \n",
       "80   G  Bernhard Langer (8422959)  Bernhard Langer  8422959    6400   \n",
       "92   G       Sandy Lyle (8422962)       Sandy Lyle  8422962    6000   \n",
       "10   G   Phil Mickelson (8422942)   Phil Mickelson  8422942    8700   \n",
       "93   G       Larry Mize (8422966)       Larry Mize  8422966    6000   \n",
       "\n",
       "            tournament  team   pid  temp_pid  sal/100  sal_rank  \n",
       "83  Masters Tournament  Golf  1226         0       63        83  \n",
       "80  Masters Tournament  Golf  1666         1       64        80  \n",
       "92  Masters Tournament  Golf  1717         2       60        92  \n",
       "10  Masters Tournament  Golf  1810         3       87        11  \n",
       "93  Masters Tournament  Golf  1823         4       60        92  "
      ]
     },
     "execution_count": 58,
     "metadata": {},
     "output_type": "execute_result"
    }
   ],
   "source": [
    "sal_df['pid'] = sal_df['pid'].apply(lambda x: int(x))\n",
    "sal_df.sort_values(by = 'pid', inplace = True)\n",
    "sal_df['temp_pid'] = sal_df['pid'].rank(ascending = True)\n",
    "sal_df['temp_pid'] = sal_df['temp_pid'].apply(lambda x: int(x - 1))\n",
    "sal_df['sal/100'] = sal_df['salary'] / 100\n",
    "sal_df['sal/100'] = sal_df['sal/100'].apply(lambda x: int(x))\n",
    "sal_df['sal_rank'] = sal_df['salary'].rank(ascending = False)\n",
    "sal_df['sal_rank'] = sal_df['sal_rank'].apply(lambda x: int(x))\n",
    "sal_df.head()"
   ]
  },
  {
   "cell_type": "code",
   "execution_count": 63,
   "metadata": {
    "collapsed": true
   },
   "outputs": [],
   "source": [
    "sal_dict = dict(zip(np.array(sal_df['temp_pid'].values).astype(np.int16), \n",
    "                    np.array(sal_df['sal/100'].values).astype(np.int16)))\n",
    "\n",
    "top_df = sal_df.loc[sal_df['sal_rank'] <= 10]\n",
    "rank_dict = dict(zip(np.array(top_df['temp_pid'].values).astype(np.int16),\n",
    "                     np.array(top_df['sal/100'].values).astype(np.int16)))"
   ]
  },
  {
   "cell_type": "code",
   "execution_count": 49,
   "metadata": {},
   "outputs": [
    {
     "ename": "NameError",
     "evalue": "name 'start' is not defined",
     "output_type": "error",
     "traceback": [
      "\u001b[0;31m---------------------------------------------------------------------------\u001b[0m",
      "\u001b[0;31mNameError\u001b[0m                                 Traceback (most recent call last)",
      "\u001b[0;32m<ipython-input-49-b1f3ada54bf9>\u001b[0m in \u001b[0;36m<module>\u001b[0;34m()\u001b[0m\n\u001b[1;32m      8\u001b[0m \u001b[0msal_array\u001b[0m \u001b[1;33m=\u001b[0m \u001b[0mnp\u001b[0m\u001b[1;33m.\u001b[0m\u001b[0mvectorize\u001b[0m\u001b[1;33m(\u001b[0m\u001b[0msal_dict\u001b[0m\u001b[1;33m.\u001b[0m\u001b[0m__getitem__\u001b[0m\u001b[1;33m)\u001b[0m\u001b[1;33m(\u001b[0m\u001b[0mcombos\u001b[0m\u001b[1;33m)\u001b[0m\u001b[1;33m\u001b[0m\u001b[0m\n\u001b[1;32m      9\u001b[0m \u001b[1;33m\u001b[0m\u001b[0m\n\u001b[0;32m---> 10\u001b[0;31m \u001b[0mprint\u001b[0m\u001b[1;33m(\u001b[0m\u001b[0mdatetime\u001b[0m\u001b[1;33m.\u001b[0m\u001b[0mnow\u001b[0m\u001b[1;33m(\u001b[0m\u001b[1;33m)\u001b[0m \u001b[1;33m-\u001b[0m \u001b[0mstart\u001b[0m\u001b[1;33m)\u001b[0m\u001b[1;33m\u001b[0m\u001b[0m\n\u001b[0m\u001b[1;32m     11\u001b[0m \u001b[1;33m\u001b[0m\u001b[0m\n\u001b[1;32m     12\u001b[0m \u001b[1;31m#test_combos[np.where((test_combos == (1,2,3,4,5,1)).all(axis = 1))]\u001b[0m\u001b[1;33m\u001b[0m\u001b[1;33m\u001b[0m\u001b[0m\n",
      "\u001b[0;31mNameError\u001b[0m: name 'start' is not defined"
     ]
    }
   ],
   "source": [
    "#test_combos = npi.unique(combos[:-2999])\n",
    "start = datetime.now()\n",
    "\n",
    "combos = combos[1:,:5]\n",
    "combos = npi.unique(combos)\n",
    "combos = combos[np.where((combos < 93).all(axis = 1))]\n",
    "\n",
    "sal_array = np.vectorize(sal_dict.__getitem__)(combos)\n",
    "\n",
    "print(datetime.now() - start)\n",
    "\n",
    "#test_combos[np.where((test_combos == (1,2,3,4,5,1)).all(axis = 1))]"
   ]
  },
  {
   "cell_type": "code",
   "execution_count": 132,
   "metadata": {},
   "outputs": [
    {
     "name": "stderr",
     "output_type": "stream",
     "text": [
      "\r",
      "  0%|                                                                                           | 0/10 [00:00<?, ?it/s]C:\\Users\\vales\\Anaconda3\\lib\\site-packages\\numpy\\core\\numeric.py:301: FutureWarning: in the future, full((12795531, 1), 95) will return an array of dtype('int16')\n",
      "  format(shape, fill_value, array(fill_value).dtype), FutureWarning)\n",
      "\r",
      " 10%|████████▎                                                                          | 1/10 [00:20<03:06, 20.67s/it]C:\\Users\\vales\\Anaconda3\\lib\\site-packages\\numpy\\core\\numeric.py:301: FutureWarning: in the future, full((12795531, 1), 92) will return an array of dtype('int16')\n",
      "  format(shape, fill_value, array(fill_value).dtype), FutureWarning)\n",
      "\r",
      " 20%|████████████████▌                                                                  | 2/10 [00:38<02:39, 19.92s/it]C:\\Users\\vales\\Anaconda3\\lib\\site-packages\\numpy\\core\\numeric.py:301: FutureWarning: in the future, full((12795531, 1), 88) will return an array of dtype('int16')\n",
      "  format(shape, fill_value, array(fill_value).dtype), FutureWarning)\n",
      "\r",
      " 30%|████████████████████████▉                                                          | 3/10 [00:55<02:11, 18.82s/it]C:\\Users\\vales\\Anaconda3\\lib\\site-packages\\numpy\\core\\numeric.py:301: FutureWarning: in the future, full((12795531, 1), 102) will return an array of dtype('int16')\n",
      "  format(shape, fill_value, array(fill_value).dtype), FutureWarning)\n",
      "\r",
      " 40%|█████████████████████████████████▏                                                 | 4/10 [01:19<02:02, 20.35s/it]C:\\Users\\vales\\Anaconda3\\lib\\site-packages\\numpy\\core\\numeric.py:301: FutureWarning: in the future, full((12795531, 1), 106) will return an array of dtype('int16')\n",
      "  format(shape, fill_value, array(fill_value).dtype), FutureWarning)\n",
      "\r",
      " 50%|█████████████████████████████████████████▌                                         | 5/10 [01:45<01:50, 22.16s/it]C:\\Users\\vales\\Anaconda3\\lib\\site-packages\\numpy\\core\\numeric.py:301: FutureWarning: in the future, full((12795531, 1), 113) will return an array of dtype('int16')\n",
      "  format(shape, fill_value, array(fill_value).dtype), FutureWarning)\n",
      "\r",
      " 60%|█████████████████████████████████████████████████▊                                 | 6/10 [02:14<01:36, 24.19s/it]C:\\Users\\vales\\Anaconda3\\lib\\site-packages\\numpy\\core\\numeric.py:301: FutureWarning: in the future, full((12795531, 1), 93) will return an array of dtype('int16')\n",
      "  format(shape, fill_value, array(fill_value).dtype), FutureWarning)\n",
      "\r",
      " 70%|██████████████████████████████████████████████████████████                         | 7/10 [02:33<01:08, 22.81s/it]C:\\Users\\vales\\Anaconda3\\lib\\site-packages\\numpy\\core\\numeric.py:301: FutureWarning: in the future, full((12795531, 1), 99) will return an array of dtype('int16')\n",
      "  format(shape, fill_value, array(fill_value).dtype), FutureWarning)\n",
      "\r",
      " 80%|██████████████████████████████████████████████████████████████████▍                | 8/10 [02:55<00:45, 22.54s/it]C:\\Users\\vales\\Anaconda3\\lib\\site-packages\\numpy\\core\\numeric.py:301: FutureWarning: in the future, full((12795531, 1), 89) will return an array of dtype('int16')\n",
      "  format(shape, fill_value, array(fill_value).dtype), FutureWarning)\n",
      "\r",
      " 90%|██████████████████████████████████████████████████████████████████████████▋        | 9/10 [03:12<00:20, 20.89s/it]C:\\Users\\vales\\Anaconda3\\lib\\site-packages\\numpy\\core\\numeric.py:301: FutureWarning: in the future, full((12795531, 1), 115) will return an array of dtype('int16')\n",
      "  format(shape, fill_value, array(fill_value).dtype), FutureWarning)\n",
      "\r",
      "100%|██████████████████████████████████████████████████████████████████████████████████| 10/10 [03:42<00:00, 23.42s/it]\n"
     ]
    }
   ],
   "source": [
    "final_array = np.zeros(shape = (1,6)).astype(np.int16)\n",
    "\n",
    "for pid, salary in tqdm(rank_dict.items()):\n",
    "    \n",
    "    temp_sal = np.full((len(sal_array), 1), salary)\n",
    "\n",
    "    sal_array = np.hstack((temp_sal, sal_array))\n",
    "    indices = np.where((sal_array.sum(axis = 1) < 501) & (sal_array.sum(axis = 1) > 450))\n",
    "\n",
    "    sal_array = sal_array[:,1:]\n",
    "\n",
    "    temp_combo = combos[indices]\n",
    "    temp_pid = np.full((len(temp_combo), 1), pid, np.int16)\n",
    "    temp_combo = np.hstack((temp_pid, temp_combo))\n",
    "\n",
    "    vals, counts = stats.mode(temp_combo, axis = 1)\n",
    "\n",
    "    temp_array = np.hstack((temp_combo, counts)).astype(np.int16)\n",
    "    temp_array = temp_array[temp_array[:,6] == 1]\n",
    "    temp_array = temp_array[:,:-1]\n",
    "\n",
    "    final_array = np.vstack((final_array, temp_array))"
   ]
  },
  {
   "cell_type": "code",
   "execution_count": 95,
   "metadata": {},
   "outputs": [
    {
     "data": {
      "text/plain": [
       "array([[  63.,   64.,  102.,  113.,  115.],\n",
       "       [  63.,   64.,  106.,  113.,  115.],\n",
       "       [  63.,   64.,  113.,   99.,  115.],\n",
       "       ..., \n",
       "       [  60.,  113.,  115.,   82.,   86.],\n",
       "       [  60.,   93.,   99.,   89.,  115.],\n",
       "       [  60.,   93.,   99.,  115.,   86.]])"
      ]
     },
     "execution_count": 95,
     "metadata": {},
     "output_type": "execute_result"
    }
   ],
   "source": [
    "sal_array[np.where((sal_array.sum(axis = 1) < 501) & (sal_array.sum(axis = 1) > 450))]"
   ]
  },
  {
   "cell_type": "code",
   "execution_count": 133,
   "metadata": {},
   "outputs": [
    {
     "data": {
      "text/plain": [
       "(65311001, 6)"
      ]
     },
     "execution_count": 133,
     "metadata": {},
     "output_type": "execute_result"
    }
   ],
   "source": [
    "final_array.shape"
   ]
  },
  {
   "cell_type": "code",
   "execution_count": 134,
   "metadata": {},
   "outputs": [
    {
     "name": "stdout",
     "output_type": "stream",
     "text": [
      "0:09:40.980470\n"
     ]
    }
   ],
   "source": [
    "start = datetime.now()\n",
    "test_sal_array = np.vectorize(sal_dict.__getitem__)(final_array[1:])\n",
    "print(datetime.now() - start)"
   ]
  },
  {
   "cell_type": "code",
   "execution_count": 143,
   "metadata": {},
   "outputs": [
    {
     "data": {
      "text/plain": [
       "array([[ 95,  63,  64, ...,  87,  83, 452],\n",
       "       [ 95,  63,  64, ...,  87,  92, 461],\n",
       "       [ 95,  63,  64, ...,  87,  88, 457],\n",
       "       ..., \n",
       "       [115,  60,  73, ...,  86,  62, 470],\n",
       "       [115,  60,  73, ...,  62,  62, 458],\n",
       "       [115,  60,  74, ...,  62,  62, 459]])"
      ]
     },
     "execution_count": 143,
     "metadata": {},
     "output_type": "execute_result"
    }
   ],
   "source": [
    "sal_sum = test_sal_array.sum(axis = 1).reshape(len(test_sal_array), 1)\n",
    "np.hstack((test_sal_array, sal_sum))"
   ]
  },
  {
   "cell_type": "code",
   "execution_count": 136,
   "metadata": {},
   "outputs": [
    {
     "data": {
      "text/plain": [
       "(65311000,)"
      ]
     },
     "execution_count": 136,
     "metadata": {},
     "output_type": "execute_result"
    }
   ],
   "source": [
    "sal_sum.shape"
   ]
  },
  {
   "cell_type": "code",
   "execution_count": 137,
   "metadata": {},
   "outputs": [
    {
     "data": {
      "text/plain": [
       "(65311000, 6)"
      ]
     },
     "execution_count": 137,
     "metadata": {},
     "output_type": "execute_result"
    }
   ],
   "source": [
    "test_sal_array.shape"
   ]
  },
  {
   "cell_type": "code",
   "execution_count": 142,
   "metadata": {},
   "outputs": [
    {
     "data": {
      "text/plain": [
       "array([451, 451, 451, ..., 500, 500, 500])"
      ]
     },
     "execution_count": 142,
     "metadata": {},
     "output_type": "execute_result"
    }
   ],
   "source": [
    "sal_sum"
   ]
  },
  {
   "cell_type": "code",
   "execution_count": 141,
   "metadata": {},
   "outputs": [
    {
     "data": {
      "text/plain": [
       "array([[451],\n",
       "       [451],\n",
       "       [451],\n",
       "       ..., \n",
       "       [500],\n",
       "       [500],\n",
       "       [500]])"
      ]
     },
     "execution_count": 141,
     "metadata": {},
     "output_type": "execute_result"
    }
   ],
   "source": [
    "sal_sum.reshape(len(test_sal_array), 1)"
   ]
  },
  {
   "cell_type": "code",
   "execution_count": null,
   "metadata": {
    "collapsed": true
   },
   "outputs": [],
   "source": []
  }
 ],
 "metadata": {
  "kernelspec": {
   "display_name": "Python 3",
   "language": "python",
   "name": "python3"
  },
  "language_info": {
   "codemirror_mode": {
    "name": "ipython",
    "version": 3
   },
   "file_extension": ".py",
   "mimetype": "text/x-python",
   "name": "python",
   "nbconvert_exporter": "python",
   "pygments_lexer": "ipython3",
   "version": "3.5.0"
  }
 },
 "nbformat": 4,
 "nbformat_minor": 2
}
