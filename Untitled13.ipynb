{
 "cells": [
  {
   "cell_type": "code",
   "execution_count": 3,
   "metadata": {
    "collapsed": false
   },
   "outputs": [],
   "source": [
    "import pandas as pd\n",
    "import os\n",
    "import numpy as np\n",
    "from scipy.stats import multivariate_normal as multi\n",
    "import scipy\n",
    "import matplotlib.pyplot as plt\n",
    "import math\n",
    "import matplotlib.mlab as mlab\n",
    "import statsmodels.stats.moment_helpers as stats\n",
    "%matplotlib inline\n",
    "os.chdir('/home/valesco/Datasets/NFL/Week1')"
   ]
  },
  {
   "cell_type": "code",
   "execution_count": 5,
   "metadata": {
    "collapsed": false
   },
   "outputs": [],
   "source": [
    "wk1 = pd.read_csv('2016_week1_proj.csv')\n",
    "cov = pd.read_csv('nfl_covariance_matrix.csv')"
   ]
  },
  {
   "cell_type": "code",
   "execution_count": 11,
   "metadata": {
    "collapsed": false,
    "scrolled": true
   },
   "outputs": [
    {
     "data": {
      "text/html": [
       "<div>\n",
       "<table border=\"1\" class=\"dataframe\">\n",
       "  <thead>\n",
       "    <tr style=\"text-align: right;\">\n",
       "      <th></th>\n",
       "      <th>weak</th>\n",
       "      <th>year</th>\n",
       "      <th>gid</th>\n",
       "      <th>name</th>\n",
       "      <th>pos</th>\n",
       "      <th>team</th>\n",
       "      <th>h/a</th>\n",
       "      <th>opp</th>\n",
       "      <th>points</th>\n",
       "      <th>salary</th>\n",
       "    </tr>\n",
       "  </thead>\n",
       "  <tbody>\n",
       "    <tr>\n",
       "      <th>6855</th>\n",
       "      <td>17</td>\n",
       "      <td>2015</td>\n",
       "      <td>7003</td>\n",
       "      <td>Baltimore Defense</td>\n",
       "      <td>Def</td>\n",
       "      <td>bal</td>\n",
       "      <td>a</td>\n",
       "      <td>cin</td>\n",
       "      <td>3.0</td>\n",
       "      <td>2100.0</td>\n",
       "    </tr>\n",
       "    <tr>\n",
       "      <th>6856</th>\n",
       "      <td>17</td>\n",
       "      <td>2015</td>\n",
       "      <td>7030</td>\n",
       "      <td>Tennessee Defense</td>\n",
       "      <td>Def</td>\n",
       "      <td>ten</td>\n",
       "      <td>a</td>\n",
       "      <td>ind</td>\n",
       "      <td>3.0</td>\n",
       "      <td>2500.0</td>\n",
       "    </tr>\n",
       "    <tr>\n",
       "      <th>6857</th>\n",
       "      <td>17</td>\n",
       "      <td>2015</td>\n",
       "      <td>7009</td>\n",
       "      <td>Dallas Defense</td>\n",
       "      <td>Def</td>\n",
       "      <td>dal</td>\n",
       "      <td>h</td>\n",
       "      <td>was</td>\n",
       "      <td>2.0</td>\n",
       "      <td>2100.0</td>\n",
       "    </tr>\n",
       "    <tr>\n",
       "      <th>6858</th>\n",
       "      <td>17</td>\n",
       "      <td>2015</td>\n",
       "      <td>7018</td>\n",
       "      <td>New England Defense</td>\n",
       "      <td>Def</td>\n",
       "      <td>nwe</td>\n",
       "      <td>a</td>\n",
       "      <td>mia</td>\n",
       "      <td>2.0</td>\n",
       "      <td>3200.0</td>\n",
       "    </tr>\n",
       "    <tr>\n",
       "      <th>6859</th>\n",
       "      <td>17</td>\n",
       "      <td>2015</td>\n",
       "      <td>7001</td>\n",
       "      <td>Arizona Defense</td>\n",
       "      <td>Def</td>\n",
       "      <td>ari</td>\n",
       "      <td>h</td>\n",
       "      <td>sea</td>\n",
       "      <td>-3.0</td>\n",
       "      <td>3300.0</td>\n",
       "    </tr>\n",
       "  </tbody>\n",
       "</table>\n",
       "</div>"
      ],
      "text/plain": [
       "      weak  year   gid                 name  pos team h/a  opp  points  salary\n",
       "6855    17  2015  7003    Baltimore Defense  Def  bal   a  cin     3.0  2100.0\n",
       "6856    17  2015  7030    Tennessee Defense  Def  ten   a  ind     3.0  2500.0\n",
       "6857    17  2015  7009       Dallas Defense  Def  dal   h  was     2.0  2100.0\n",
       "6858    17  2015  7018  New England Defense  Def  nwe   a  mia     2.0  3200.0\n",
       "6859    17  2015  7001      Arizona Defense  Def  ari   h  sea    -3.0  3300.0"
      ]
     },
     "execution_count": 11,
     "metadata": {},
     "output_type": "execute_result"
    }
   ],
   "source": [
    "df_2015 = pd.read_csv('2015_Draftkings_Salaries.csv')\n",
    "df_2015.columns = ['weak', 'year', 'gid', 'name', 'pos', 'team', 'h/a', 'opp', 'points', 'salary']\n",
    "df_2015.tail()"
   ]
  },
  {
   "cell_type": "code",
   "execution_count": 12,
   "metadata": {
    "collapsed": false
   },
   "outputs": [],
   "source": [
    "wr_df = df_2015.loc[df_2015['pos'] == 'WR']\n",
    "qb_df = df_2015.loc[df_2015['pos'] == 'QB']\n",
    "rb_df = df_2015.loc[df_2015['pos'] == 'RB']\n",
    "te_df = df_2015.loc[df_2015['pos'] == 'TE']\n",
    "dst_df = df_2015.loc[df_2015['pos'] == 'Def']"
   ]
  },
  {
   "cell_type": "code",
   "execution_count": 13,
   "metadata": {
    "collapsed": false
   },
   "outputs": [
    {
     "name": "stdout",
     "output_type": "stream",
     "text": [
      "{'QB': 8.80548030403744, 'DST': 6.092659625715512, 'WR': 9.813933373327632, 'TE': 8.096014874788208, 'RB': 8.70239738207283}\n",
      "{'QB': 19.861207547169812, 'DST': 7.447265625, 'WR': 13.674574347332571, 'TE': 12.50152284263959, 'RB': 12.900904159132013}\n"
     ]
    }
   ],
   "source": [
    "wr_std = wr_df['points'].loc[wr_df['salary'] > 3500].std()\n",
    "qb_std = qb_df['points'].loc[qb_df['salary'] > 5500].std()\n",
    "rb_std = rb_df['points'].loc[rb_df['salary'] > 3900].std()\n",
    "te_std = te_df['points'].loc[te_df['salary'] > 3500].std()\n",
    "dst_std = dst_df['points'].loc[dst_df['salary'] > 100].std()\n",
    "\n",
    "wr_mean = wr_df['points'].loc[wr_df['salary'] > 3500].mean()\n",
    "qb_mean = qb_df['points'].loc[qb_df['salary'] > 5500].mean()\n",
    "rb_mean = rb_df['points'].loc[rb_df['salary'] > 3900].mean()\n",
    "te_mean = te_df['points'].loc[te_df['salary'] > 3500].mean()\n",
    "dst_mean = dst_df['points'].loc[dst_df['salary'] > 100].mean()\n",
    "\n",
    "player_std = {'WR': wr_std, 'QB': qb_std, 'RB': rb_std, 'TE': te_std, 'DST': dst_std}\n",
    "player_mean = {'WR': wr_mean, 'QB': qb_mean, 'RB': rb_mean, 'TE': te_mean, 'DST': dst_mean}\n",
    "\n",
    "print(player_std)\n",
    "print(player_mean)"
   ]
  },
  {
   "cell_type": "code",
   "execution_count": 14,
   "metadata": {
    "collapsed": false
   },
   "outputs": [],
   "source": [
    "var_stack = wr_std ** 2 + qb_std ** 2 + 2 * 35.4307\n",
    "var_non_stack = wr_std ** 2 + qb_std ** 2\n",
    "stack_sqrt = np.sqrt(var_stack)\n",
    "nostack_sqrt = np.sqrt(var_non_stack)"
   ]
  },
  {
   "cell_type": "code",
   "execution_count": 15,
   "metadata": {
    "collapsed": false,
    "scrolled": true
   },
   "outputs": [
    {
     "data": {
      "image/png": "[encoded data removed]",
      "text/plain": [
       "<matplotlib.figure.Figure at 0x7fbdb5962f28>"
      ]
     },
     "metadata": {},
     "output_type": "display_data"
    },
    {
     "name": "stdout",
     "output_type": "stream",
     "text": [
      "Stack top 5%: 59.266633193615476  Unstacked top 5%: 55.223522940056974\n"
     ]
    }
   ],
   "source": [
    "combo_mu = wr_mean + qb_mean\n",
    "x = np.linspace(combo_mu - 40, combo_mu + 40, 100)\n",
    "plt.plot(x, mlab.normpdf(x, combo_mu, np.sqrt(var_stack)))\n",
    "plt.plot(x, mlab.normpdf(x, combo_mu, np.sqrt(var_non_stack)))\n",
    "plt.show()\n",
    "\n",
    "stack_dist = scipy.stats.norm(combo_mu, stack_sqrt)\n",
    "nostack_dist = scipy.stats.norm(combo_mu, nostack_sqrt)\n",
    "\n",
    "print('Stack top 5%: {}  Unstacked top 5%: {}'.format(stack_dist.ppf(.95), \n",
    "                            nostack_dist.ppf(.95)))"
   ]
  },
  {
   "cell_type": "code",
   "execution_count": 16,
   "metadata": {
    "collapsed": false,
    "scrolled": true
   },
   "outputs": [
    {
     "data": {
      "text/plain": [
       "2.7673793351700908"
      ]
     },
     "execution_count": 16,
     "metadata": {},
     "output_type": "execute_result"
    }
   ],
   "source": [
    "stack_dist.cdf(.95) / nostack_dist.cdf(.95)"
   ]
  },
  {
   "cell_type": "code",
   "execution_count": 17,
   "metadata": {
    "collapsed": false,
    "scrolled": true
   },
   "outputs": [
    {
     "data": {
      "text/plain": [
       "array([[ 77.53648338,  39.75154263,   6.1303031 ],\n",
       "       [ 39.75154263,  96.31328826,   2.56214244],\n",
       "       [  6.1303031 ,   2.56214244,  75.7317202 ]])"
      ]
     },
     "execution_count": 17,
     "metadata": {},
     "output_type": "execute_result"
    }
   ],
   "source": [
    "stack3_corr = np.array([[1, .46, .08],[.46, 1, .03], [.08, .03, 1]])\n",
    "stack3_std = [qb_std, wr_std, rb_std]\n",
    "Z = stats.corr2cov(stack3_corr, stack3_std)\n",
    "Z"
   ]
  },
  {
   "cell_type": "code",
   "execution_count": 31,
   "metadata": {
    "collapsed": false
   },
   "outputs": [
    {
     "name": "stdout",
     "output_type": "stream",
     "text": [
      "90.902025682\n",
      "85.8789691066\n"
     ]
    }
   ],
   "source": [
    "jameis_proj = 21.58\n",
    "jameis_std = 8.096014\n",
    "doug_proj = 17.35\n",
    "doug_std = 8.702397\n",
    "evans_proj = 16.34\n",
    "evans_std = 9.81\n",
    "\n",
    "corr_matrix = np.array([[1, .08], [.08, 1]])\n",
    "cov_matrix = stats.corr2cov(corr_matrix, [jameis_std, doug_std])\n",
    "\n",
    "stack2_var = jameis_std ** 2 + doug_std ** 2 + (2 * cov_matrix[1,0])\n",
    "\n",
    "stack = scipy.stats.norm(jameis_proj + doug_proj, np.sqrt(stack2_var)).ppf(.95)\n",
    "\n",
    "jameis = scipy.stats.norm(jameis_proj, jameis_std).ppf(.875)\n",
    "doug = scipy.stats.norm(doug_proj, doug_std).ppf(.875)\n",
    "evans = scipy.stats.norm(evans_proj, evans_std).ppf(.875)\n",
    "\n",
    "corr_matrix3 = np.array([[1, .08, .45], [.08, 1, .06], [.45, .06, 1]])\n",
    "cov_matrix3 = stats.corr2cov(corr_matrix3, [jameis_std, doug_std, evans_std])\n",
    "\n",
    "stack3_var = jameis_std ** 2 + evans_std ** 2 + doug_std ** 2 + 2 * (cov_matrix3[1,0] + cov_matrix3[2,0] + cov_matrix3[2,1])\n",
    "stack3 = scipy.stats.norm(jameis_proj + doug_proj + evans_proj, np.sqrt(stack3_var)).ppf(.975)\n",
    "\n",
    "\n",
    "\n",
    "\n",
    "\n",
    "\n",
    "\n",
    "print(stack3)\n",
    "print(jameis + doug + evans)\n",
    "\n"
   ]
  },
  {
   "cell_type": "code",
   "execution_count": 20,
   "metadata": {
    "collapsed": false,
    "scrolled": true
   },
   "outputs": [
    {
     "data": {
      "image/png": "[encoded data removed]",
      "text/plain": [
       "<matplotlib.figure.Figure at 0x7fbdb5bf70f0>"
      ]
     },
     "metadata": {},
     "output_type": "display_data"
    }
   ],
   "source": [
    "var_stack = wr_std ** 2 + qb_std ** 2 + 2 * 35.4307\n",
    "\n",
    "stack3_mu = wr_mean + qb_mean + rb_mean\n",
    "stack3_var = wr_std ** 2 + qb_std ** 2 + rb_std ** 2 + 2 * (39.7515 + 6.1303 + 2.5621)\n",
    "nostack3_var = wr_std ** 2 + qb_std ** 2 + rb_std ** 2\n",
    "y = np.linspace (jameis_proj + doug_proj - 40, jameis_proj + doug_proj + 40, 100)\n",
    "plt.plot(y, mlab.normpdf(y, jameis_proj + doug_proj, np.sqrt(stack2_var)))\n",
    "plt.plot(x, mlab.normpdf(y, combo_mu, np.sqrt(var_stack)))\n",
    "plt.plot(x, mlab.normpdf(y, combo_mu, np.sqrt(var_non_stack)))\n",
    "plt.plot(y, mlab.normpdf(y, stack3_mu, np.sqrt(nostack3_var)))\n",
    "plt.show()"
   ]
  },
  {
   "cell_type": "code",
   "execution_count": 254,
   "metadata": {
    "collapsed": false,
    "scrolled": true
   },
   "outputs": [
    {
     "name": "stdout",
     "output_type": "stream",
     "text": [
      "152.549912705 38.93\n",
      "65.545442688196 75.731713545609\n"
     ]
    }
   ],
   "source": [
    "print(stack2_var, jameis_proj + doug_proj)\n",
    "print(jameis_std ** 2, doug_std ** 2)"
   ]
  },
  {
   "cell_type": "code",
   "execution_count": 220,
   "metadata": {
    "collapsed": false,
    "scrolled": true
   },
   "outputs": [
    {
     "name": "stdout",
     "output_type": "stream",
     "text": [
      "159.666009911\n",
      "147.397842853\n"
     ]
    }
   ],
   "source": [
    "print(stack3_dist.ppf(.99) + stack_dist.ppf(.99))\n",
    "print(nostack3_dist.ppf(.99) + nostack_dist.ppf(.99))"
   ]
  },
  {
   "cell_type": "code",
   "execution_count": 225,
   "metadata": {
    "collapsed": false
   },
   "outputs": [
    {
     "data": {
      "text/plain": [
       "20.619397469416743"
      ]
     },
     "execution_count": 225,
     "metadata": {},
     "output_type": "execute_result"
    }
   ],
   "source": [
    "player_dist = scipy.stats.norm(14, wr_std)\n",
    "player_dist.ppf(.75)\n"
   ]
  },
  {
   "cell_type": "code",
   "execution_count": null,
   "metadata": {
    "collapsed": true
   },
   "outputs": [],
   "source": []
  }
 ],
 "metadata": {
  "anaconda-cloud": {},
  "kernelspec": {
   "display_name": "Python [default]",
   "language": "python",
   "name": "python3"
  },
  "language_info": {
   "codemirror_mode": {
    "name": "ipython",
    "version": 3
   },
   "file_extension": ".py",
   "mimetype": "text/x-python",
   "name": "python",
   "nbconvert_exporter": "python",
   "pygments_lexer": "ipython3",
   "version": "3.5.2"
  }
 },
 "nbformat": 4,
 "nbformat_minor": 0
}
