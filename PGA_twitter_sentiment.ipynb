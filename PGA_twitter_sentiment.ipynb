{
 "cells": [
  {
   "cell_type": "code",
   "execution_count": 71,
   "metadata": {
    "collapsed": true
   },
   "outputs": [],
   "source": [
    "import tweepy\n",
    "from tweepy import OAuthHandler\n",
    "import json\n",
    "from datetime import datetime\n",
    "from selenium import webdriver\n",
    "import os\n",
    "import time\n",
    "from datetime import datetime\n",
    "from datetime import timedelta\n",
    "import json\n",
    "import sys\n",
    "import pandas as pd\n",
    "from random import randint"
   ]
  },
  {
   "cell_type": "code",
   "execution_count": 2,
   "metadata": {
    "collapsed": true
   },
   "outputs": [],
   "source": [
    "consumer_key = 'MsSJdxiIPYKBC5KwmCJVN5tIG'\n",
    "consumer_secret = 'y6CuE1HFl9iAxZyyIQ8RfhKPjug5sG5SgC7XNuuD1UZ6OEMKki'\n",
    "access_token = '44972871-h9MdXShwFmWdfCbVLfRttF0VCTdDhF6rZTuxDLNo6'\n",
    "access_secret = 'nQ3mACqfvvFlqyLBXMNizOv76vvDnjtvvL14oe75iDZlJ'\n",
    "\n",
    "auth = OAuthHandler(consumer_key, consumer_secret)\n",
    "auth.set_access_token(access_token, access_secret)\n",
    " \n",
    "api = tweepy.API(auth)"
   ]
  },
  {
   "cell_type": "code",
   "execution_count": 28,
   "metadata": {
    "collapsed": true
   },
   "outputs": [],
   "source": [
    "query = 'JB Holmes'\n",
    "max_tweets = 1000\n",
    "searched_tweets = [status for status in tweepy.Cursor(api.search, q=query).items(max_tweets)]"
   ]
  },
  {
   "cell_type": "code",
   "execution_count": 27,
   "metadata": {
    "collapsed": false
   },
   "outputs": [],
   "source": [
    "json_str = json.dumps(searched_tweets[0]._json)\n",
    "kuchar = json.loads(json_str)"
   ]
  },
  {
   "cell_type": "code",
   "execution_count": 30,
   "metadata": {
    "collapsed": false
   },
   "outputs": [],
   "source": [
    "now = datetime.now()\n",
    "jb_tweets = []\n",
    "\n",
    "for tweet in searched_tweets:\n",
    "    json_str = json.dumps(tweet._json)\n",
    "    player = json.loads(json_str)\n",
    "    jb_tweets.append(player)\n"
   ]
  },
  {
   "cell_type": "code",
   "execution_count": 62,
   "metadata": {
    "collapsed": false
   },
   "outputs": [
    {
     "name": "stdout",
     "output_type": "stream",
     "text": [
      "NEVER FORGET what @tigerwoods did to JB Holmes in the 2008 @dellmatchplay 🏆 #golfbettertucson #tiger https://t.co/py5aItJcOP\n",
      "NEVER FORGET what @tigerwoods did to JB Holmes in the 2008 dellmatchplay 🏆 #golfbettertucson #tiger https://t.co/8BuYH8WM9m\n",
      "Pieters and JB Holmes for me this week in the @DellMatchPlay . #OTG\n",
      "OUTSIDE TIP ALERT 🚨                     Dell Match Play: JB Holmes - 66/1 Betfair.\n",
      "#play2win #bet2win\n",
      "@GCMorningDrive without a doubt Tiger Woods win versus Stephen Ames and the comeback win he had versus JB Holmes\n",
      "@BenColeyGolf JB Holmes seems pretty consistent and did well at Augusta last year , decent value ?\n",
      "@deptulahasrage you lose Holmes Jb and sidy. Who comes in when #4 needs a break? So when is enough? Year after next?\n",
      "HORNY FRENCH HOUSEWIFE ANALYSED BY STEVE HOLMES  -JB$R https://t.co/vPbYs0Kbtb\n",
      "Tickets were gone in 9 minutes this is crazy I just wanna see JB https://t.co/1n2X65a55T\n",
      "@ForeverBigBlue On no planet is Randall Cobb more famous than Ashley Judd. And I don't even know who JB Holmes is.\n",
      "@Aaron_Torres Pat Riley?  JB Holmes?  Randall Cobb?\n",
      "That's just a very short list.\n",
      "@EMaree @somuchhedgepig That looks like a set from Clue or a Sherlock Holmes murder mystery. DON'T GET MURDERED!\n",
      "RT @Sixers: Final Stats ⤵\n",
      "Saric 25PTS/7REB/6AST/3STL/2BLK\n",
      "Okafor 22PTS / 6REB / 4BLK\n",
      "Holmes 14PTS / 8REB / 2BLK\n",
      "TLC 10PTS\n",
      "McConnell 7PTS /…\n",
      "Remember at the end of Sherlock Holmes: A Game of Shadows when Watson steps out just in time to see Sherlock go over the edge with Moriarty?\n",
      "Elementary! I've been pressing that claim since the 80s. Granada TVs Holmes series is the best. Sorry JB died befor… https://t.co/pOaxkdzlui\n",
      "RT @zaksnow_: le renoi qui mets des vestes longue avec d chapeau il s'était embrouillé avec un blanc le blanc lui a dit \"tu va faire quoi S…\n",
      "RT @ItsView_: ส่วนสูงอัลบั้มนี้ #GOT7_NeverEver_정오공개\n",
      "YG 180\n",
      "JB 179\n",
      "JY 178\n",
      "YJ 177\n",
      "BB 176\n",
      "MK 175\n",
      "JS 174\n",
      "\n",
      "มีวงไหนมหัศจรรย์ได้เท่านี้อีกไหมคะ เ…\n",
      "RT @Guglielminetti: L'acteur Adrian Holmes de la version anglaise de 19-2 remporte le prix du meilleur acteur série dramatique #CdnScreenAw…\n"
     ]
    }
   ],
   "source": [
    "tweet_df = pd.DataFrame(columns = ['search_date', 'search_phrase', 'num_results_returned', 'tweet_created_date',\n",
    "        'num_hashtags', 'num_usermentions', 'num_favorited', 'language', 'num_retweets', 'text', \n",
    "        'user_created_date', 'user_favorites_count', 'user_followers_count', 'user_statuses_count'])\n",
    "\n",
    "count = 0\n",
    "for tweet in jb_tweets:\n",
    "    tweet_created_date = datetime.strptime(tweet['created_at'], '%a %b %d %H:%M:%S +0000 %Y')\n",
    "    num_hashtags = len(tweet['entities']['hashtags'])\n",
    "    num_usermentions = len(tweet['entities']['user_mentions'])\n",
    "    num_favorited = tweet['favorite_count']\n",
    "    language = tweet['lang']\n",
    "    num_retweets = tweet['retweet_count']\n",
    "    text = tweet['text']\n",
    "    user_created_date = datetime.strptime(tweet['user']['created_at'], '%a %b %d %H:%M:%S +0000 %Y')\n",
    "    user_favorites_count = tweet['user']['favourites_count']\n",
    "    user_followers_count = tweet['user']['followers_count']\n",
    "    user_statuses_count = tweet['user']['statuses_count']\n",
    "    \n",
    "    tweet_df.loc[count] = [now, query, len(jb_tweets), tweet_created_date, num_hashtags, num_usermentions, \n",
    "                num_favorited, language, num_retweets, text, user_created_date, user_favorites_count, \n",
    "                user_followers_count, user_statuses_count]\n",
    "    \n",
    "    print(text)\n",
    "    count += 1"
   ]
  },
  {
   "cell_type": "code",
   "execution_count": 64,
   "metadata": {
    "collapsed": false
   },
   "outputs": [],
   "source": [
    "goog_browser = webdriver.Chrome()\n",
    "\n",
    "google_query = query.split(' ')\n",
    "\n",
    "search_str = ''\n",
    "for word in google_query:\n",
    "    search_str += word + '+'\n",
    "search_str = search_str[:-1]\n",
    "\n",
    "goog_url = 'https://www.google.com/#q=' + search_str + '&safe=off&tbs=qdr:w&*'\n"
   ]
  },
  {
   "cell_type": "code",
   "execution_count": 68,
   "metadata": {
    "collapsed": false
   },
   "outputs": [
    {
     "name": "stdout",
     "output_type": "stream",
     "text": [
      "2 days ago - Get the latest news, stats, videos, and more about golfer J.B. Holmes on ESPN.com.\n",
      "20 hours ago - Hole, 1, 2, 3, 4, 5, 6, 7, 8, 9, OUT. Yardage, 316, 387, 186, 506, 445, 625, 235, 525, 382, 3607. Par, 4, 4, 3, 4, 4, 5, 3, 4, 4, 35. RND 4, 4, 4, 3, 4, 4, 5, 3, 4, 4, 35 ...\n",
      "1 day ago - 15.14: Phil Mickelson v J.B. Holmes. Live on Sky Sports 4. All Markets will be settled according to the official website www.worldgolfchampionships.com.\n",
      "2 days ago - 19.05: J.B. Holmes v Daniel Berger. Live on Sky Sports 4. All Markets will be settled according to the official website www.worldgolfchampionships.com.\n",
      "1 day ago - Latest phil mickelson j b holmes daniel berger News, Photos, Blogposts, Videos and Wallpapers. Explore phil mickelson j b holmes daniel berger profile at ...\n",
      "1 day ago - JB Holmes v Daniel Berger Betting. Markets available include Match betting , Draw no betting.\n",
      "17 hours ago - Bet on Golf - J.B. Holmes - Daniel Berger match on BetClic. See our best odds, statistics and live results!\n",
      "1 day ago - The latest J.B Holmes v Daniel Berger betting from Sky Bet. Your best bet for Golf markets.\n",
      "15 hours ago - Bet on Golf - J.B. Holmes - Daniel Berger match on Expekt. See our best odds, statistics and live results!\n",
      "9 hours ago - J.B. Holmes [Round 1] vs Daniel Berger [Round 1] Pariez sur betFIRST et accèdez aux meilleurs paris et cotes du marché !\n"
     ]
    }
   ],
   "source": [
    "def randint_():\n",
    "    return(randint(1,60))\n",
    "\n",
    "goog_browser.get(goog_url)\n",
    "\n",
    "time.sleep(randint_())\n",
    "results_stats = goog_browser.find_element_by_xpath('//*[@id=\"resultStats\"]').text\n",
    "\n",
    "result_desc = goog_browser.find_elements_by_xpath('//*[@class=\"st\"]')\n",
    "\n",
    "for desc in result_desc:\n",
    "    goog_desc.append(desc.text)\n",
    "    \n"
   ]
  },
  {
   "cell_type": "code",
   "execution_count": 70,
   "metadata": {
    "collapsed": false
   },
   "outputs": [
    {
     "data": {
      "text/plain": [
       "''"
      ]
     },
     "execution_count": 70,
     "metadata": {},
     "output_type": "execute_result"
    }
   ],
   "source": [
    "results_stats"
   ]
  },
  {
   "cell_type": "code",
   "execution_count": null,
   "metadata": {
    "collapsed": true
   },
   "outputs": [],
   "source": [
    "//*[@id=\"resultStats\"]"
   ]
  }
 ],
 "metadata": {
  "kernelspec": {
   "display_name": "Python 3",
   "language": "python",
   "name": "python3"
  },
  "language_info": {
   "codemirror_mode": {
    "name": "ipython",
    "version": 3
   },
   "file_extension": ".py",
   "mimetype": "text/x-python",
   "name": "python",
   "nbconvert_exporter": "python",
   "pygments_lexer": "ipython3",
   "version": "3.6.0"
  }
 },
 "nbformat": 4,
 "nbformat_minor": 2
}
