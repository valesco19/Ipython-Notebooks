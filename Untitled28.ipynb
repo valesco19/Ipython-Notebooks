{
 "cells": [
  {
   "cell_type": "code",
   "execution_count": 27,
   "metadata": {
    "collapsed": true,
    "deletable": true,
    "editable": true
   },
   "outputs": [],
   "source": [
    "import h5py\n",
    "import pandas as pd\n",
    "import numpy as np\n",
    "from scipy import stats\n",
    "import os\n",
    "import zipfile\n",
    "from operator import itemgetter\n",
    "from pga.return_pid import return_pid\n",
    "from datetime import datetime\n",
    "import numpy_indexed as npi\n",
    "from tqdm import tqdm"
   ]
  },
  {
   "cell_type": "code",
   "execution_count": 31,
   "metadata": {
    "collapsed": false,
    "deletable": true,
    "editable": true
   },
   "outputs": [],
   "source": [
    "def parse_salary_csv(df, top_players):\n",
    "    pid_ls = []\n",
    "    for player in sal_df['player_name'].unique():\n",
    "        pid = return_pid(player)\n",
    "\n",
    "        if pid is not np.nan:\n",
    "            pid_ls.append(pid)\n",
    "        else:\n",
    "            print(player, 'player id not found, skipped!!')\n",
    "            \n",
    "    df['pid'] = pid_ls\n",
    "    df['pid'] = df['pid'].apply(lambda x: int(x))\n",
    "    df.sort_values(by = 'pid', inplace = True)\n",
    "    df['temp_pid'] = df['pid'].rank(ascending = True)\n",
    "    df['temp_pid'] = df['temp_pid'].apply(lambda x: int(x - 1))\n",
    "    df['sal/100'] = df['salary'] / 100\n",
    "    df['sal/100'] = df['sal/100'].apply(lambda x: int(x))\n",
    "    df['sal_rank'] = df['salary'].rank(ascending = False)\n",
    "    df['sal_rank'] = df['sal_rank'].apply(lambda x: int(x))\n",
    "    \n",
    "    salary_dict = dict(zip(np.array(df['temp_pid'].values).astype(np.int16), \n",
    "                    np.array(df['sal/100'].values).astype(np.int16)))\n",
    "    pid_mapped_dict = dict(zip(np.array(df['temp_pid'].values).astype(np.int16),\n",
    "                    np.array(df['pid'].values).astype(np.int16)))\n",
    "    \n",
    "    top_df = df.loc[df['sal_rank'] <= top_players]\n",
    "    top_players_dict = dict(zip(np.array(top_df['temp_pid'].values).astype(np.int16),\n",
    "                     np.array(top_df['sal/100'].values).astype(np.int16)))\n",
    "    \n",
    "    return salary_dict, pid_mapped_dict, top_players_dict\n",
    "\n",
    "def map_pids_to_array(salary_dict, pid_mapped_dict, top_players_dict, hdf5_filepath, hdf5_savepath):\n",
    "    os.chdir('/home/valesco/Datasets/PGA_Data/lineup_combos/')\n",
    "    #Open 5 combo's hdf5 file\n",
    "    h5_file = h5py.File(hdf5_filepath, 'r')\n",
    "    h5_keys = list(h5_file.keys())\n",
    "    \n",
    "    #Create new hdf5 file for outputs\n",
    "    new_h5_file = h5py.File(hdf5_savepath, 'w')\n",
    "    \n",
    "    #set player cutoff for combos\n",
    "    player_cutoff = len(salary_dict.keys())\n",
    "    \n",
    "    for k, key in enumerate(h5_keys):\n",
    "        print('batch {} starting'.format(k))\n",
    "        \n",
    "        #iterate through top players to create 6 combo teams\n",
    "        complete_array = np.zeros(shape = (1,12)).astype(np.int16)\n",
    "        for top_pid, salary in tqdm(top_players_dict.items()):\n",
    "            \n",
    "            #read h5 dataset\n",
    "            combos = np.array(h5_file[key]).astype(np.int16)\n",
    "            print('combos', combos.shape)\n",
    "            \n",
    "            #limit players to max players in field\n",
    "            combos = combos[np.where((combos < player_cutoff).all(axis = 1))]\n",
    "            \n",
    "            print('combos', combos.shape)\n",
    "            pid_col = np.full((len(combos), 1), top_pid, np.int16)\n",
    "            \n",
    "            #add 6th player id\n",
    "            combos = np.hstack((pid_col, combos))\n",
    "            print('combos', combos.shape)\n",
    "            \n",
    "            #drop teams with duplicate players\n",
    "            vals, counts = stats.mode(combos, axis = 1)\n",
    "            combos = np.hstack((combos, counts)).astype(np.int16)\n",
    "            combos = combos[combos[:,6] == 1]\n",
    "            combos = combos[:,:6]\n",
    "            print('combos', combos.shape)\n",
    "            \n",
    "            #map temp_pids to array with player salaries\n",
    "            salary_array = np.vectorize(salary_dict.__getitem__)(combos).astype(np.int16)\n",
    "            print('salary_array', salary_array.shape)\n",
    "            \n",
    "            #retreive lineup indices that meet salary constraints\n",
    "            indices = np.where((salary_array.sum(axis = 1) < 501) & (salary_array.sum(axis = 1) > 470))\n",
    "            \n",
    "            #combine combo and salary arrays\n",
    "            salary_array = np.hstack((combos[indices], salary_array[indices]))\n",
    "            print('salary_array', salary_array.shape)\n",
    "            \n",
    "            #append salary array to complete array\n",
    "            complete_array = np.vstack((complete_array, salary_array))\n",
    "            print('complete_array', complete_array.shape)\n",
    "            \n",
    "        #write complete array to h5\n",
    "        new_h5_file.create_dataset('batch' + str(k), data = complete_array[1:])\n",
    "    \n",
    "    print('Process complete hdf5 file {} saved'.format(hdf5_savepath))"
   ]
  },
  {
   "cell_type": "code",
   "execution_count": 32,
   "metadata": {
    "collapsed": false,
    "deletable": true,
    "editable": true
   },
   "outputs": [
    {
     "data": {
      "text/html": [
       "<div>\n",
       "<table border=\"1\" class=\"dataframe\">\n",
       "  <thead>\n",
       "    <tr style=\"text-align: right;\">\n",
       "      <th></th>\n",
       "      <th>pos</th>\n",
       "      <th>name_id</th>\n",
       "      <th>player_name</th>\n",
       "      <th>id</th>\n",
       "      <th>salary</th>\n",
       "      <th>tournament</th>\n",
       "      <th>team</th>\n",
       "    </tr>\n",
       "  </thead>\n",
       "  <tbody>\n",
       "    <tr>\n",
       "      <th>0</th>\n",
       "      <td>G</td>\n",
       "      <td>Jordan Spieth (8422900)</td>\n",
       "      <td>Jordan Spieth</td>\n",
       "      <td>8422900</td>\n",
       "      <td>11500</td>\n",
       "      <td>Masters Tournament</td>\n",
       "      <td>Golf</td>\n",
       "    </tr>\n",
       "    <tr>\n",
       "      <th>1</th>\n",
       "      <td>G</td>\n",
       "      <td>Dustin Johnson (8422944)</td>\n",
       "      <td>Dustin Johnson</td>\n",
       "      <td>8422944</td>\n",
       "      <td>11300</td>\n",
       "      <td>Masters Tournament</td>\n",
       "      <td>Golf</td>\n",
       "    </tr>\n",
       "    <tr>\n",
       "      <th>2</th>\n",
       "      <td>G</td>\n",
       "      <td>Rory McIlroy (8422908)</td>\n",
       "      <td>Rory McIlroy</td>\n",
       "      <td>8422908</td>\n",
       "      <td>10600</td>\n",
       "      <td>Masters Tournament</td>\n",
       "      <td>Golf</td>\n",
       "    </tr>\n",
       "    <tr>\n",
       "      <th>3</th>\n",
       "      <td>G</td>\n",
       "      <td>Jason Day (8422926)</td>\n",
       "      <td>Jason Day</td>\n",
       "      <td>8422926</td>\n",
       "      <td>10200</td>\n",
       "      <td>Masters Tournament</td>\n",
       "      <td>Golf</td>\n",
       "    </tr>\n",
       "    <tr>\n",
       "      <th>4</th>\n",
       "      <td>G</td>\n",
       "      <td>Hideki Matsuyama (8422978)</td>\n",
       "      <td>Hideki Matsuyama</td>\n",
       "      <td>8422978</td>\n",
       "      <td>9900</td>\n",
       "      <td>Masters Tournament</td>\n",
       "      <td>Golf</td>\n",
       "    </tr>\n",
       "  </tbody>\n",
       "</table>\n",
       "</div>"
      ],
      "text/plain": [
       "  pos                     name_id       player_name       id  salary  \\\n",
       "0   G     Jordan Spieth (8422900)     Jordan Spieth  8422900   11500   \n",
       "1   G    Dustin Johnson (8422944)    Dustin Johnson  8422944   11300   \n",
       "2   G      Rory McIlroy (8422908)      Rory McIlroy  8422908   10600   \n",
       "3   G         Jason Day (8422926)         Jason Day  8422926   10200   \n",
       "4   G  Hideki Matsuyama (8422978)  Hideki Matsuyama  8422978    9900   \n",
       "\n",
       "           tournament  team  \n",
       "0  Masters Tournament  Golf  \n",
       "1  Masters Tournament  Golf  \n",
       "2  Masters Tournament  Golf  \n",
       "3  Masters Tournament  Golf  \n",
       "4  Masters Tournament  Golf  "
      ]
     },
     "execution_count": 32,
     "metadata": {},
     "output_type": "execute_result"
    }
   ],
   "source": [
    "os.chdir('/home/valesco/Datasets/dk_downloads/')\n",
    "\n",
    "sal_df = pd.read_csv('DKSalaries (36).csv', skiprows = 7, usecols = range(7,14))\n",
    "sal_df.reset_index(inplace = True, drop = True)\n",
    "sal_df.columns = ['pos', 'name_id', 'player_name', 'id', 'salary', 'tournament', 'team']\n",
    "sal_df = sal_df.loc[sal_df['player_name'] != 'Stewart Hagestad']\n",
    "sal_df = sal_df.loc[sal_df['player_name'] != 'Toto Gana']\n",
    "sal_df.head()"
   ]
  },
  {
   "cell_type": "code",
   "execution_count": 33,
   "metadata": {
    "collapsed": false,
    "deletable": true,
    "editable": true
   },
   "outputs": [
    {
     "name": "stderr",
     "output_type": "stream",
     "text": [
      "\r",
      "  0%|          | 0/20 [00:00<?, ?it/s]"
     ]
    },
    {
     "name": "stdout",
     "output_type": "stream",
     "text": [
      "batch 0 starting\n",
      "combos (311375421, 5)\n",
      "combos (25591062, 5)\n",
      "combos (25591062, 6)\n",
      "combos (24454542, 6)\n",
      "salary_array (24454542, 6)\n"
     ]
    },
    {
     "name": "stderr",
     "output_type": "stream",
     "text": [
      "\r",
      "  5%|▌         | 1/20 [04:39<1:28:24, 279.20s/it]"
     ]
    },
    {
     "name": "stdout",
     "output_type": "stream",
     "text": [
      "salary_array (2292602, 12)\n",
      "complete_array (2292603, 12)\n",
      "combos (311375421, 5)\n",
      "combos (25591062, 5)\n",
      "combos (25591062, 6)\n",
      "combos (24454542, 6)\n",
      "salary_array (24454542, 6)\n"
     ]
    },
    {
     "name": "stderr",
     "output_type": "stream",
     "text": [
      "\r",
      " 10%|█         | 2/20 [08:48<1:21:06, 270.37s/it]"
     ]
    },
    {
     "name": "stdout",
     "output_type": "stream",
     "text": [
      "salary_array (4501769, 12)\n",
      "complete_array (6794372, 12)\n",
      "combos (311375421, 5)\n",
      "combos (25591062, 5)\n",
      "combos (25591062, 6)\n",
      "combos (24454542, 6)\n",
      "salary_array (24454542, 6)\n"
     ]
    },
    {
     "name": "stderr",
     "output_type": "stream",
     "text": [
      "\r",
      " 15%|█▌        | 3/20 [13:00<1:14:59, 264.70s/it]"
     ]
    },
    {
     "name": "stdout",
     "output_type": "stream",
     "text": [
      "salary_array (2292602, 12)\n",
      "complete_array (9086974, 12)\n",
      "combos (311375421, 5)\n",
      "combos (25591062, 5)\n",
      "combos (25591062, 6)\n",
      "combos (22228647, 6)\n",
      "salary_array (22228647, 6)\n"
     ]
    },
    {
     "name": "stderr",
     "output_type": "stream",
     "text": [
      "\r",
      " 20%|██        | 4/20 [16:51<1:07:55, 254.70s/it]"
     ]
    },
    {
     "name": "stdout",
     "output_type": "stream",
     "text": [
      "salary_array (2842945, 12)\n",
      "complete_array (11929919, 12)\n",
      "combos (311375421, 5)\n",
      "combos (25591062, 5)\n",
      "combos (25591062, 6)\n",
      "combos (24454542, 6)\n",
      "salary_array (24454542, 6)\n"
     ]
    },
    {
     "name": "stderr",
     "output_type": "stream",
     "text": [
      "\r",
      " 25%|██▌       | 5/20 [21:02<1:03:20, 253.38s/it]"
     ]
    },
    {
     "name": "stdout",
     "output_type": "stream",
     "text": [
      "salary_array (3071227, 12)\n",
      "complete_array (15001146, 12)\n",
      "combos (311375421, 5)\n",
      "combos (25591062, 5)\n",
      "combos (25591062, 6)\n",
      "combos (24454542, 6)\n",
      "salary_array (24454542, 6)\n"
     ]
    },
    {
     "name": "stderr",
     "output_type": "stream",
     "text": [
      "\r",
      " 30%|███       | 6/20 [25:08<58:38, 251.35s/it]  "
     ]
    },
    {
     "name": "stdout",
     "output_type": "stream",
     "text": [
      "salary_array (5611125, 12)\n",
      "complete_array (20612271, 12)\n",
      "combos (311375421, 5)\n",
      "combos (25591062, 5)\n",
      "combos (25591062, 6)\n",
      "combos (24454542, 6)\n",
      "salary_array (24454542, 6)\n"
     ]
    },
    {
     "name": "stderr",
     "output_type": "stream",
     "text": [
      "\r",
      " 35%|███▌      | 7/20 [29:12<53:59, 249.21s/it]"
     ]
    },
    {
     "name": "stdout",
     "output_type": "stream",
     "text": [
      "salary_array (2662747, 12)\n",
      "complete_array (23275018, 12)\n",
      "combos (311375421, 5)\n",
      "combos (25591062, 5)\n",
      "combos (25591062, 6)\n",
      "combos (24454542, 6)\n",
      "salary_array (24454542, 6)\n"
     ]
    },
    {
     "name": "stderr",
     "output_type": "stream",
     "text": [
      "\r",
      " 40%|████      | 8/20 [33:18<49:38, 248.20s/it]"
     ]
    },
    {
     "name": "stdout",
     "output_type": "stream",
     "text": [
      "salary_array (2411584, 12)\n",
      "complete_array (25686602, 12)\n",
      "combos (311375421, 5)\n",
      "combos (25591062, 5)\n",
      "combos (25591062, 6)\n",
      "combos (24454542, 6)\n",
      "salary_array (24454542, 6)\n"
     ]
    },
    {
     "name": "stderr",
     "output_type": "stream",
     "text": [
      "\r",
      " 45%|████▌     | 9/20 [37:30<45:42, 249.32s/it]"
     ]
    },
    {
     "name": "stdout",
     "output_type": "stream",
     "text": [
      "salary_array (3829832, 12)\n",
      "complete_array (29516434, 12)\n",
      "combos (311375421, 5)\n",
      "combos (25591062, 5)\n",
      "combos (25591062, 6)\n",
      "combos (24454542, 6)\n",
      "salary_array (24454542, 6)\n"
     ]
    },
    {
     "name": "stderr",
     "output_type": "stream",
     "text": [
      "\r",
      " 50%|█████     | 10/20 [41:36<41:22, 248.28s/it]"
     ]
    },
    {
     "name": "stdout",
     "output_type": "stream",
     "text": [
      "salary_array (9853377, 12)\n",
      "complete_array (39369811, 12)\n",
      "combos (311375421, 5)\n",
      "combos (25591062, 5)\n",
      "combos (25591062, 6)\n",
      "combos (24454542, 6)\n",
      "salary_array (24454542, 6)\n"
     ]
    },
    {
     "name": "stderr",
     "output_type": "stream",
     "text": [
      "\r",
      " 55%|█████▌    | 11/20 [45:42<37:08, 247.65s/it]"
     ]
    },
    {
     "name": "stdout",
     "output_type": "stream",
     "text": [
      "salary_array (2794750, 12)\n",
      "complete_array (42164561, 12)\n",
      "combos (311375421, 5)\n",
      "combos (25591062, 5)\n",
      "combos (25591062, 6)\n",
      "combos (24454542, 6)\n",
      "salary_array (24454542, 6)\n"
     ]
    },
    {
     "name": "stderr",
     "output_type": "stream",
     "text": [
      "\r",
      " 60%|██████    | 12/20 [49:56<33:16, 249.54s/it]"
     ]
    },
    {
     "name": "stdout",
     "output_type": "stream",
     "text": [
      "salary_array (2535000, 12)\n",
      "complete_array (44699561, 12)\n",
      "combos (311375421, 5)\n",
      "combos (25591062, 5)\n",
      "combos (25591062, 6)\n",
      "combos (24454542, 6)\n",
      "salary_array (24454542, 6)\n",
      "salary_array (2930869, 12)\n"
     ]
    },
    {
     "name": "stderr",
     "output_type": "stream",
     "text": [
      "\r",
      " 65%|██████▌   | 13/20 [54:06<29:08, 249.75s/it]"
     ]
    },
    {
     "name": "stdout",
     "output_type": "stream",
     "text": [
      "complete_array (47630430, 12)\n",
      "combos (311375421, 5)\n",
      "combos (25591062, 5)\n",
      "combos (25591062, 6)\n",
      "combos (24454542, 6)\n",
      "salary_array (24454542, 6)\n",
      "salary_array (6253484, 12)\n"
     ]
    },
    {
     "name": "stderr",
     "output_type": "stream",
     "text": [
      "\r",
      " 70%|███████   | 14/20 [58:15<24:55, 249.32s/it]"
     ]
    },
    {
     "name": "stdout",
     "output_type": "stream",
     "text": [
      "complete_array (53883914, 12)\n",
      "combos (311375421, 5)\n",
      "combos (25591062, 5)\n",
      "combos (25591062, 6)\n",
      "combos (24454542, 6)\n",
      "salary_array (24454542, 6)\n",
      "salary_array (4855663, 12)\n"
     ]
    },
    {
     "name": "stderr",
     "output_type": "stream",
     "text": [
      "\r",
      " 75%|███████▌  | 15/20 [1:02:23<20:44, 248.89s/it]"
     ]
    },
    {
     "name": "stdout",
     "output_type": "stream",
     "text": [
      "complete_array (58739577, 12)\n",
      "combos (311375421, 5)\n",
      "combos (25591062, 5)\n",
      "combos (25591062, 6)\n",
      "combos (24454542, 6)\n",
      "salary_array (24454542, 6)\n",
      "salary_array (4328998, 12)\n"
     ]
    },
    {
     "name": "stderr",
     "output_type": "stream",
     "text": [
      "\r",
      " 80%|████████  | 16/20 [1:06:33<16:37, 249.36s/it]"
     ]
    },
    {
     "name": "stdout",
     "output_type": "stream",
     "text": [
      "complete_array (63068575, 12)\n",
      "combos (311375421, 5)\n",
      "combos (25591062, 5)\n",
      "combos (25591062, 6)\n",
      "combos (24454542, 6)\n",
      "salary_array (24454542, 6)\n",
      "salary_array (7256500, 12)\n"
     ]
    },
    {
     "name": "stderr",
     "output_type": "stream",
     "text": [
      "\r",
      " 85%|████████▌ | 17/20 [1:10:45<12:30, 250.23s/it]"
     ]
    },
    {
     "name": "stdout",
     "output_type": "stream",
     "text": [
      "complete_array (70325075, 12)\n",
      "combos (311375421, 5)\n",
      "combos (25591062, 5)\n",
      "combos (25591062, 6)\n",
      "combos (24454542, 6)\n",
      "salary_array (24454542, 6)\n",
      "salary_array (3363189, 12)\n"
     ]
    },
    {
     "name": "stderr",
     "output_type": "stream",
     "text": [
      "\r",
      " 90%|█████████ | 18/20 [1:14:53<08:18, 249.47s/it]"
     ]
    },
    {
     "name": "stdout",
     "output_type": "stream",
     "text": [
      "complete_array (73688264, 12)\n",
      "combos (311375421, 5)\n",
      "combos (25591062, 5)\n",
      "combos (25591062, 6)\n",
      "combos (24454542, 6)\n",
      "salary_array (24454542, 6)\n",
      "salary_array (9272875, 12)\n"
     ]
    },
    {
     "name": "stderr",
     "output_type": "stream",
     "text": [
      "\r",
      " 95%|█████████▌| 19/20 [1:19:01<04:09, 249.08s/it]"
     ]
    },
    {
     "name": "stdout",
     "output_type": "stream",
     "text": [
      "complete_array (82961139, 12)\n",
      "combos (311375421, 5)\n",
      "combos (25591062, 5)\n",
      "combos (25591062, 6)\n",
      "combos (24454542, 6)\n",
      "salary_array (24454542, 6)\n",
      "salary_array (3670395, 12)\n"
     ]
    },
    {
     "name": "stderr",
     "output_type": "stream",
     "text": [
      "\r",
      "100%|██████████| 20/20 [1:23:11<00:00, 249.36s/it]"
     ]
    },
    {
     "name": "stdout",
     "output_type": "stream",
     "text": [
      "complete_array (86631534, 12)\n"
     ]
    },
    {
     "name": "stderr",
     "output_type": "stream",
     "text": [
      "\n",
      "\r",
      "  0%|          | 0/20 [00:00<?, ?it/s]"
     ]
    },
    {
     "name": "stdout",
     "output_type": "stream",
     "text": [
      "batch 1 starting\n",
      "combos (311375421, 5)\n",
      "combos (25591062, 5)\n",
      "combos (25591062, 6)\n",
      "combos (24454542, 6)\n",
      "salary_array (24454542, 6)\n"
     ]
    },
    {
     "name": "stderr",
     "output_type": "stream",
     "text": [
      "\r",
      "  5%|▌         | 1/20 [04:58<1:34:34, 298.67s/it]"
     ]
    },
    {
     "name": "stdout",
     "output_type": "stream",
     "text": [
      "salary_array (2292602, 12)\n",
      "complete_array (2292603, 12)\n",
      "combos (311375421, 5)\n",
      "combos (25591062, 5)\n",
      "combos (25591062, 6)\n",
      "combos (24454542, 6)\n",
      "salary_array (24454542, 6)\n"
     ]
    },
    {
     "name": "stderr",
     "output_type": "stream",
     "text": [
      "\r",
      " 10%|█         | 2/20 [09:06<1:25:00, 283.39s/it]"
     ]
    },
    {
     "name": "stdout",
     "output_type": "stream",
     "text": [
      "salary_array (4501769, 12)\n",
      "complete_array (6794372, 12)\n",
      "combos (311375421, 5)\n",
      "combos (25591062, 5)\n",
      "combos (25591062, 6)\n",
      "combos (24454542, 6)\n",
      "salary_array (24454542, 6)\n"
     ]
    },
    {
     "name": "stderr",
     "output_type": "stream",
     "text": [
      "\r",
      " 15%|█▌        | 3/20 [13:15<1:17:21, 273.02s/it]"
     ]
    },
    {
     "name": "stdout",
     "output_type": "stream",
     "text": [
      "salary_array (2292602, 12)\n",
      "complete_array (9086974, 12)\n",
      "combos (311375421, 5)\n",
      "combos (25591062, 5)\n",
      "combos (25591062, 6)\n",
      "combos (22228647, 6)\n",
      "salary_array (22228647, 6)\n"
     ]
    },
    {
     "name": "stderr",
     "output_type": "stream",
     "text": [
      "\r",
      " 20%|██        | 4/20 [17:06<1:09:28, 260.51s/it]"
     ]
    },
    {
     "name": "stdout",
     "output_type": "stream",
     "text": [
      "salary_array (2842945, 12)\n",
      "complete_array (11929919, 12)\n",
      "combos (311375421, 5)\n",
      "combos (25591062, 5)\n",
      "combos (25591062, 6)\n",
      "combos (24454542, 6)\n",
      "salary_array (24454542, 6)\n"
     ]
    },
    {
     "name": "stderr",
     "output_type": "stream",
     "text": [
      "\r",
      " 25%|██▌       | 5/20 [21:13<1:04:04, 256.30s/it]"
     ]
    },
    {
     "name": "stdout",
     "output_type": "stream",
     "text": [
      "salary_array (3071227, 12)\n",
      "complete_array (15001146, 12)\n",
      "combos (311375421, 5)\n",
      "combos (25591062, 5)\n",
      "combos (25591062, 6)\n",
      "combos (24454542, 6)\n",
      "salary_array (24454542, 6)\n"
     ]
    },
    {
     "name": "stderr",
     "output_type": "stream",
     "text": [
      "\r",
      " 30%|███       | 6/20 [25:17<59:00, 252.86s/it]  "
     ]
    },
    {
     "name": "stdout",
     "output_type": "stream",
     "text": [
      "salary_array (5611125, 12)\n",
      "complete_array (20612271, 12)\n",
      "combos (311375421, 5)\n",
      "combos (25591062, 5)\n",
      "combos (25591062, 6)\n",
      "combos (24454542, 6)\n",
      "salary_array (24454542, 6)\n"
     ]
    },
    {
     "name": "stderr",
     "output_type": "stream",
     "text": [
      "\r",
      " 35%|███▌      | 7/20 [29:23<54:18, 250.68s/it]"
     ]
    },
    {
     "name": "stdout",
     "output_type": "stream",
     "text": [
      "salary_array (2662747, 12)\n",
      "complete_array (23275018, 12)\n",
      "combos (311375421, 5)\n",
      "combos (25591062, 5)\n",
      "combos (25591062, 6)\n",
      "combos (24454542, 6)\n",
      "salary_array (24454542, 6)\n"
     ]
    },
    {
     "name": "stderr",
     "output_type": "stream",
     "text": [
      "\r",
      " 40%|████      | 8/20 [33:31<49:57, 249.83s/it]"
     ]
    },
    {
     "name": "stdout",
     "output_type": "stream",
     "text": [
      "salary_array (2411584, 12)\n",
      "complete_array (25686602, 12)\n",
      "combos (311375421, 5)\n",
      "combos (25591062, 5)\n",
      "combos (25591062, 6)\n",
      "combos (24454542, 6)\n",
      "salary_array (24454542, 6)\n"
     ]
    },
    {
     "name": "stderr",
     "output_type": "stream",
     "text": [
      "\r",
      " 45%|████▌     | 9/20 [37:43<45:54, 250.41s/it]"
     ]
    },
    {
     "name": "stdout",
     "output_type": "stream",
     "text": [
      "salary_array (3829832, 12)\n",
      "complete_array (29516434, 12)\n",
      "combos (311375421, 5)\n",
      "combos (25591062, 5)\n",
      "combos (25591062, 6)\n",
      "combos (24454542, 6)\n",
      "salary_array (24454542, 6)\n"
     ]
    },
    {
     "name": "stderr",
     "output_type": "stream",
     "text": [
      "\r",
      " 50%|█████     | 10/20 [41:51<41:37, 249.72s/it]"
     ]
    },
    {
     "name": "stdout",
     "output_type": "stream",
     "text": [
      "salary_array (9853377, 12)\n",
      "complete_array (39369811, 12)\n",
      "combos (311375421, 5)\n",
      "combos (25591062, 5)\n",
      "combos (25591062, 6)\n",
      "combos (24454542, 6)\n",
      "salary_array (24454542, 6)\n"
     ]
    },
    {
     "name": "stderr",
     "output_type": "stream",
     "text": [
      "\r",
      " 55%|█████▌    | 11/20 [45:58<37:22, 249.14s/it]"
     ]
    },
    {
     "name": "stdout",
     "output_type": "stream",
     "text": [
      "salary_array (2794750, 12)\n",
      "complete_array (42164561, 12)\n",
      "combos (311375421, 5)\n",
      "combos (25591062, 5)\n",
      "combos (25591062, 6)\n",
      "combos (24454542, 6)\n",
      "salary_array (24454542, 6)\n"
     ]
    },
    {
     "name": "stderr",
     "output_type": "stream",
     "text": [
      "\r",
      " 60%|██████    | 12/20 [50:05<33:06, 248.29s/it]"
     ]
    },
    {
     "name": "stdout",
     "output_type": "stream",
     "text": [
      "salary_array (2535000, 12)\n",
      "complete_array (44699561, 12)\n",
      "combos (311375421, 5)\n",
      "combos (25591062, 5)\n",
      "combos (25591062, 6)\n",
      "combos (24454542, 6)\n",
      "salary_array (24454542, 6)\n",
      "salary_array (2930869, 12)\n"
     ]
    },
    {
     "name": "stderr",
     "output_type": "stream",
     "text": [
      "\r",
      " 65%|██████▌   | 13/20 [54:11<28:54, 247.82s/it]"
     ]
    },
    {
     "name": "stdout",
     "output_type": "stream",
     "text": [
      "complete_array (47630430, 12)\n",
      "combos (311375421, 5)\n",
      "combos (25591062, 5)\n",
      "combos (25591062, 6)\n",
      "combos (24454542, 6)\n",
      "salary_array (24454542, 6)\n",
      "salary_array (6253484, 12)\n"
     ]
    },
    {
     "name": "stderr",
     "output_type": "stream",
     "text": [
      "\r",
      " 70%|███████   | 14/20 [58:21<24:50, 248.36s/it]"
     ]
    },
    {
     "name": "stdout",
     "output_type": "stream",
     "text": [
      "complete_array (53883914, 12)\n",
      "combos (311375421, 5)\n",
      "combos (25591062, 5)\n",
      "combos (25591062, 6)\n",
      "combos (24454542, 6)\n",
      "salary_array (24454542, 6)\n",
      "salary_array (4855663, 12)\n"
     ]
    },
    {
     "name": "stderr",
     "output_type": "stream",
     "text": [
      "\r",
      " 75%|███████▌  | 15/20 [1:02:28<20:40, 248.07s/it]"
     ]
    },
    {
     "name": "stdout",
     "output_type": "stream",
     "text": [
      "complete_array (58739577, 12)\n",
      "combos (311375421, 5)\n",
      "combos (25591062, 5)\n",
      "combos (25591062, 6)\n",
      "combos (24454542, 6)\n",
      "salary_array (24454542, 6)\n",
      "salary_array (4328998, 12)\n"
     ]
    },
    {
     "name": "stderr",
     "output_type": "stream",
     "text": [
      "\r",
      " 80%|████████  | 16/20 [1:06:35<16:30, 247.53s/it]"
     ]
    },
    {
     "name": "stdout",
     "output_type": "stream",
     "text": [
      "complete_array (63068575, 12)\n",
      "combos (311375421, 5)\n",
      "combos (25591062, 5)\n",
      "combos (25591062, 6)\n",
      "combos (24454542, 6)\n",
      "salary_array (24454542, 6)\n",
      "salary_array (7256500, 12)\n"
     ]
    },
    {
     "name": "stderr",
     "output_type": "stream",
     "text": [
      "\r",
      " 85%|████████▌ | 17/20 [1:10:44<12:24, 248.08s/it]"
     ]
    },
    {
     "name": "stdout",
     "output_type": "stream",
     "text": [
      "complete_array (70325075, 12)\n",
      "combos (311375421, 5)\n",
      "combos (25591062, 5)\n",
      "combos (25591062, 6)\n",
      "combos (24454542, 6)\n",
      "salary_array (24454542, 6)\n",
      "salary_array (3363189, 12)\n"
     ]
    },
    {
     "name": "stderr",
     "output_type": "stream",
     "text": [
      "\r",
      " 90%|█████████ | 18/20 [1:14:51<08:15, 247.84s/it]"
     ]
    },
    {
     "name": "stdout",
     "output_type": "stream",
     "text": [
      "complete_array (73688264, 12)\n",
      "combos (311375421, 5)\n",
      "combos (25591062, 5)\n",
      "combos (25591062, 6)\n",
      "combos (24454542, 6)\n",
      "salary_array (24454542, 6)\n",
      "salary_array (9272875, 12)\n"
     ]
    },
    {
     "name": "stderr",
     "output_type": "stream",
     "text": [
      "\r",
      " 95%|█████████▌| 19/20 [1:18:58<04:07, 247.54s/it]"
     ]
    },
    {
     "name": "stdout",
     "output_type": "stream",
     "text": [
      "complete_array (82961139, 12)\n",
      "combos (311375421, 5)\n",
      "combos (25591062, 5)\n",
      "combos (25591062, 6)\n",
      "combos (24454542, 6)\n",
      "salary_array (24454542, 6)\n",
      "salary_array (3670395, 12)\n"
     ]
    },
    {
     "name": "stderr",
     "output_type": "stream",
     "text": [
      "\r",
      "100%|██████████| 20/20 [1:23:08<00:00, 248.09s/it]"
     ]
    },
    {
     "name": "stdout",
     "output_type": "stream",
     "text": [
      "complete_array (86631534, 12)\n"
     ]
    },
    {
     "name": "stderr",
     "output_type": "stream",
     "text": [
      "\n",
      "\r",
      "  0%|          | 0/20 [00:00<?, ?it/s]"
     ]
    },
    {
     "name": "stdout",
     "output_type": "stream",
     "text": [
      "batch 2 starting\n",
      "combos (311375421, 5)\n",
      "combos (25591062, 5)\n",
      "combos (25591062, 6)\n",
      "combos (24454542, 6)\n",
      "salary_array (24454542, 6)\n"
     ]
    },
    {
     "name": "stderr",
     "output_type": "stream",
     "text": [
      "\r",
      "  5%|▌         | 1/20 [04:56<1:33:47, 296.19s/it]"
     ]
    },
    {
     "name": "stdout",
     "output_type": "stream",
     "text": [
      "salary_array (2292602, 12)\n",
      "complete_array (2292603, 12)\n",
      "combos (311375421, 5)\n",
      "combos (25591062, 5)\n",
      "combos (25591062, 6)\n",
      "combos (24454542, 6)\n",
      "salary_array (24454542, 6)\n"
     ]
    },
    {
     "name": "stderr",
     "output_type": "stream",
     "text": [
      "\r",
      " 10%|█         | 2/20 [09:03<1:24:29, 281.63s/it]"
     ]
    },
    {
     "name": "stdout",
     "output_type": "stream",
     "text": [
      "salary_array (4501769, 12)\n",
      "complete_array (6794372, 12)\n",
      "combos (311375421, 5)\n",
      "combos (25591062, 5)\n",
      "combos (25591062, 6)\n",
      "combos (24454542, 6)\n",
      "salary_array (24454542, 6)\n"
     ]
    },
    {
     "name": "stderr",
     "output_type": "stream",
     "text": [
      "\r",
      " 15%|█▌        | 3/20 [13:10<1:16:50, 271.23s/it]"
     ]
    },
    {
     "name": "stdout",
     "output_type": "stream",
     "text": [
      "salary_array (2292602, 12)\n",
      "complete_array (9086974, 12)\n",
      "combos (311375421, 5)\n",
      "combos (25591062, 5)\n",
      "combos (25591062, 6)\n",
      "combos (22228647, 6)\n",
      "salary_array (22228647, 6)\n"
     ]
    },
    {
     "name": "stderr",
     "output_type": "stream",
     "text": [
      "\r",
      " 20%|██        | 4/20 [17:02<1:09:08, 259.28s/it]"
     ]
    },
    {
     "name": "stdout",
     "output_type": "stream",
     "text": [
      "salary_array (2842945, 12)\n",
      "complete_array (11929919, 12)\n",
      "combos (311375421, 5)\n",
      "combos (25591062, 5)\n",
      "combos (25591062, 6)\n",
      "combos (24454542, 6)\n",
      "salary_array (24454542, 6)\n"
     ]
    },
    {
     "name": "stderr",
     "output_type": "stream",
     "text": [
      "\r",
      " 25%|██▌       | 5/20 [21:10<1:03:59, 255.98s/it]"
     ]
    },
    {
     "name": "stdout",
     "output_type": "stream",
     "text": [
      "salary_array (3071227, 12)\n",
      "complete_array (15001146, 12)\n",
      "combos (311375421, 5)\n",
      "combos (25591062, 5)\n",
      "combos (25591062, 6)\n",
      "combos (24454542, 6)\n",
      "salary_array (24454542, 6)\n"
     ]
    },
    {
     "name": "stderr",
     "output_type": "stream",
     "text": [
      "\r",
      " 30%|███       | 6/20 [25:19<59:13, 253.84s/it]  "
     ]
    },
    {
     "name": "stdout",
     "output_type": "stream",
     "text": [
      "salary_array (5611125, 12)\n",
      "complete_array (20612271, 12)\n",
      "combos (311375421, 5)\n",
      "combos (25591062, 5)\n",
      "combos (25591062, 6)\n",
      "combos (24454542, 6)\n",
      "salary_array (24454542, 6)\n"
     ]
    },
    {
     "name": "stderr",
     "output_type": "stream",
     "text": [
      "\r",
      " 35%|███▌      | 7/20 [29:28<54:42, 252.48s/it]"
     ]
    },
    {
     "name": "stdout",
     "output_type": "stream",
     "text": [
      "salary_array (2662747, 12)\n",
      "complete_array (23275018, 12)\n",
      "combos (311375421, 5)\n",
      "combos (25591062, 5)\n",
      "combos (25591062, 6)\n",
      "combos (24454542, 6)\n",
      "salary_array (24454542, 6)\n"
     ]
    },
    {
     "name": "stderr",
     "output_type": "stream",
     "text": [
      "\r",
      " 40%|████      | 8/20 [33:34<50:05, 250.49s/it]"
     ]
    },
    {
     "name": "stdout",
     "output_type": "stream",
     "text": [
      "salary_array (2411584, 12)\n",
      "complete_array (25686602, 12)\n",
      "combos (311375421, 5)\n",
      "combos (25591062, 5)\n",
      "combos (25591062, 6)\n",
      "combos (24454542, 6)\n",
      "salary_array (24454542, 6)\n"
     ]
    },
    {
     "name": "stderr",
     "output_type": "stream",
     "text": [
      "\r",
      " 45%|████▌     | 9/20 [37:41<45:42, 249.32s/it]"
     ]
    },
    {
     "name": "stdout",
     "output_type": "stream",
     "text": [
      "salary_array (3829832, 12)\n",
      "complete_array (29516434, 12)\n",
      "combos (311375421, 5)\n",
      "combos (25591062, 5)\n",
      "combos (25591062, 6)\n",
      "combos (24454542, 6)\n",
      "salary_array (24454542, 6)\n"
     ]
    },
    {
     "name": "stderr",
     "output_type": "stream",
     "text": [
      "\r",
      " 50%|█████     | 10/20 [41:46<41:21, 248.17s/it]"
     ]
    },
    {
     "name": "stdout",
     "output_type": "stream",
     "text": [
      "salary_array (9853377, 12)\n",
      "complete_array (39369811, 12)\n",
      "combos (311375421, 5)\n",
      "combos (25591062, 5)\n",
      "combos (25591062, 6)\n",
      "combos (24454542, 6)\n",
      "salary_array (24454542, 6)\n"
     ]
    },
    {
     "name": "stderr",
     "output_type": "stream",
     "text": [
      "\r",
      " 55%|█████▌    | 11/20 [45:54<37:14, 248.25s/it]"
     ]
    },
    {
     "name": "stdout",
     "output_type": "stream",
     "text": [
      "salary_array (2794750, 12)\n",
      "complete_array (42164561, 12)\n",
      "combos (311375421, 5)\n",
      "combos (25591062, 5)\n",
      "combos (25591062, 6)\n",
      "combos (24454542, 6)\n",
      "salary_array (24454542, 6)\n"
     ]
    },
    {
     "name": "stderr",
     "output_type": "stream",
     "text": [
      "\r",
      " 60%|██████    | 12/20 [50:04<33:09, 248.63s/it]"
     ]
    },
    {
     "name": "stdout",
     "output_type": "stream",
     "text": [
      "salary_array (2535000, 12)\n",
      "complete_array (44699561, 12)\n",
      "combos (311375421, 5)\n",
      "combos (25591062, 5)\n",
      "combos (25591062, 6)\n",
      "combos (24454542, 6)\n",
      "salary_array (24454542, 6)\n",
      "salary_array (2930869, 12)\n"
     ]
    },
    {
     "name": "stderr",
     "output_type": "stream",
     "text": [
      "\r",
      " 65%|██████▌   | 13/20 [54:14<29:02, 248.91s/it]"
     ]
    },
    {
     "name": "stdout",
     "output_type": "stream",
     "text": [
      "complete_array (47630430, 12)\n",
      "combos (311375421, 5)\n",
      "combos (25591062, 5)\n",
      "combos (25591062, 6)\n",
      "combos (24454542, 6)\n",
      "salary_array (24454542, 6)\n",
      "salary_array (6253484, 12)\n"
     ]
    },
    {
     "name": "stderr",
     "output_type": "stream",
     "text": [
      "\r",
      " 70%|███████   | 14/20 [58:21<24:51, 248.57s/it]"
     ]
    },
    {
     "name": "stdout",
     "output_type": "stream",
     "text": [
      "complete_array (53883914, 12)\n",
      "combos (311375421, 5)\n",
      "combos (25591062, 5)\n",
      "combos (25591062, 6)\n",
      "combos (24454542, 6)\n",
      "salary_array (24454542, 6)\n",
      "salary_array (4855663, 12)\n"
     ]
    },
    {
     "name": "stderr",
     "output_type": "stream",
     "text": [
      "\r",
      " 75%|███████▌  | 15/20 [1:02:29<20:40, 248.16s/it]"
     ]
    },
    {
     "name": "stdout",
     "output_type": "stream",
     "text": [
      "complete_array (58739577, 12)\n",
      "combos (311375421, 5)\n",
      "combos (25591062, 5)\n",
      "combos (25591062, 6)\n",
      "combos (24454542, 6)\n",
      "salary_array (24454542, 6)\n",
      "salary_array (4328998, 12)\n"
     ]
    },
    {
     "name": "stderr",
     "output_type": "stream",
     "text": [
      "\r",
      " 80%|████████  | 16/20 [1:06:42<16:39, 249.87s/it]"
     ]
    },
    {
     "name": "stdout",
     "output_type": "stream",
     "text": [
      "complete_array (63068575, 12)\n",
      "combos (311375421, 5)\n",
      "combos (25591062, 5)\n",
      "combos (25591062, 6)\n",
      "combos (24454542, 6)\n",
      "salary_array (24454542, 6)\n",
      "salary_array (7256500, 12)\n"
     ]
    },
    {
     "name": "stderr",
     "output_type": "stream",
     "text": [
      "\r",
      " 85%|████████▌ | 17/20 [1:11:01<12:37, 252.63s/it]"
     ]
    },
    {
     "name": "stdout",
     "output_type": "stream",
     "text": [
      "complete_array (70325075, 12)\n",
      "combos (311375421, 5)\n",
      "combos (25591062, 5)\n",
      "combos (25591062, 6)\n",
      "combos (24454542, 6)\n",
      "salary_array (24454542, 6)\n",
      "salary_array (3363189, 12)\n"
     ]
    },
    {
     "name": "stderr",
     "output_type": "stream",
     "text": [
      "\r",
      " 90%|█████████ | 18/20 [1:15:21<08:29, 254.84s/it]"
     ]
    },
    {
     "name": "stdout",
     "output_type": "stream",
     "text": [
      "complete_array (73688264, 12)\n",
      "combos (311375421, 5)\n",
      "combos (25591062, 5)\n",
      "combos (25591062, 6)\n",
      "combos (24454542, 6)\n",
      "salary_array (24454542, 6)\n",
      "salary_array (9272875, 12)\n"
     ]
    },
    {
     "name": "stderr",
     "output_type": "stream",
     "text": [
      "\r",
      " 95%|█████████▌| 19/20 [1:19:39<04:15, 255.68s/it]"
     ]
    },
    {
     "name": "stdout",
     "output_type": "stream",
     "text": [
      "complete_array (82961139, 12)\n",
      "combos (311375421, 5)\n",
      "combos (25591062, 5)\n",
      "combos (25591062, 6)\n",
      "combos (24454542, 6)\n",
      "salary_array (24454542, 6)\n",
      "salary_array (3670395, 12)\n"
     ]
    },
    {
     "name": "stderr",
     "output_type": "stream",
     "text": [
      "\r",
      "100%|██████████| 20/20 [1:23:58<00:00, 256.69s/it]"
     ]
    },
    {
     "name": "stdout",
     "output_type": "stream",
     "text": [
      "complete_array (86631534, 12)\n"
     ]
    },
    {
     "name": "stderr",
     "output_type": "stream",
     "text": [
      "\n",
      "\r",
      "  0%|          | 0/20 [00:00<?, ?it/s]"
     ]
    },
    {
     "name": "stdout",
     "output_type": "stream",
     "text": [
      "batch 3 starting\n",
      "combos (311375421, 5)\n",
      "combos (19180799, 5)\n",
      "combos (19180799, 6)\n",
      "combos (18381753, 6)\n",
      "salary_array (18381753, 6)\n"
     ]
    },
    {
     "name": "stderr",
     "output_type": "stream",
     "text": [
      "\r",
      "  5%|▌         | 1/20 [04:06<1:18:07, 246.70s/it]"
     ]
    },
    {
     "name": "stdout",
     "output_type": "stream",
     "text": [
      "salary_array (1936168, 12)\n",
      "complete_array (1936169, 12)\n",
      "combos (311375421, 5)\n",
      "combos (19180799, 5)\n",
      "combos (19180799, 6)\n",
      "combos (18381800, 6)\n",
      "salary_array (18381800, 6)\n"
     ]
    },
    {
     "name": "stderr",
     "output_type": "stream",
     "text": [
      "\r",
      " 10%|█         | 2/20 [07:17<1:08:59, 229.98s/it]"
     ]
    },
    {
     "name": "stdout",
     "output_type": "stream",
     "text": [
      "salary_array (3720262, 12)\n",
      "complete_array (5656431, 12)\n",
      "combos (311375421, 5)\n",
      "combos (19180799, 5)\n",
      "combos (19180799, 6)\n",
      "combos (18381800, 6)\n",
      "salary_array (18381800, 6)\n"
     ]
    },
    {
     "name": "stderr",
     "output_type": "stream",
     "text": [
      "\r",
      " 15%|█▌        | 3/20 [10:27<1:01:44, 217.91s/it]"
     ]
    },
    {
     "name": "stdout",
     "output_type": "stream",
     "text": [
      "salary_array (1936168, 12)\n",
      "complete_array (7592599, 12)\n",
      "combos (311375421, 5)\n",
      "combos (19180799, 5)\n",
      "combos (19180799, 6)\n",
      "combos (18044279, 6)\n",
      "salary_array (18044279, 6)\n"
     ]
    },
    {
     "name": "stderr",
     "output_type": "stream",
     "text": [
      "\r",
      " 20%|██        | 4/20 [13:33<55:34, 208.41s/it]  "
     ]
    },
    {
     "name": "stdout",
     "output_type": "stream",
     "text": [
      "salary_array (2783951, 12)\n",
      "complete_array (10376550, 12)\n",
      "combos (311375421, 5)\n",
      "combos (19180799, 5)\n",
      "combos (19180799, 6)\n",
      "combos (18381753, 6)\n",
      "salary_array (18381753, 6)\n"
     ]
    },
    {
     "name": "stderr",
     "output_type": "stream",
     "text": [
      "\r",
      " 25%|██▌       | 5/20 [16:41<50:32, 202.16s/it]"
     ]
    },
    {
     "name": "stdout",
     "output_type": "stream",
     "text": [
      "salary_array (2565950, 12)\n",
      "complete_array (12942500, 12)\n",
      "combos (311375421, 5)\n",
      "combos (19180799, 5)\n",
      "combos (19180799, 6)\n",
      "combos (18381800, 6)\n",
      "salary_array (18381800, 6)\n"
     ]
    },
    {
     "name": "stderr",
     "output_type": "stream",
     "text": [
      "\r",
      " 30%|███       | 6/20 [19:49<46:13, 198.09s/it]"
     ]
    },
    {
     "name": "stdout",
     "output_type": "stream",
     "text": [
      "salary_array (4659355, 12)\n",
      "complete_array (17601855, 12)\n",
      "combos (311375421, 5)\n",
      "combos (19180799, 5)\n",
      "combos (19180799, 6)\n",
      "combos (18381753, 6)\n",
      "salary_array (18381753, 6)\n"
     ]
    },
    {
     "name": "stderr",
     "output_type": "stream",
     "text": [
      "\r",
      " 35%|███▌      | 7/20 [22:58<42:19, 195.33s/it]"
     ]
    },
    {
     "name": "stdout",
     "output_type": "stream",
     "text": [
      "salary_array (2236192, 12)\n",
      "complete_array (19838047, 12)\n",
      "combos (311375421, 5)\n",
      "combos (19180799, 5)\n",
      "combos (19180799, 6)\n",
      "combos (18381753, 6)\n",
      "salary_array (18381753, 6)\n"
     ]
    },
    {
     "name": "stderr",
     "output_type": "stream",
     "text": [
      "\r",
      " 40%|████      | 8/20 [26:05<38:34, 192.88s/it]"
     ]
    },
    {
     "name": "stdout",
     "output_type": "stream",
     "text": [
      "salary_array (2032703, 12)\n",
      "complete_array (21870750, 12)\n",
      "combos (311375421, 5)\n",
      "combos (19180799, 5)\n",
      "combos (19180799, 6)\n",
      "combos (18381800, 6)\n",
      "salary_array (18381800, 6)\n"
     ]
    },
    {
     "name": "stderr",
     "output_type": "stream",
     "text": [
      "\r",
      " 45%|████▌     | 9/20 [29:12<35:01, 191.01s/it]"
     ]
    },
    {
     "name": "stdout",
     "output_type": "stream",
     "text": [
      "salary_array (3172061, 12)\n",
      "complete_array (25042811, 12)\n",
      "combos (311375421, 5)\n",
      "combos (19180799, 5)\n",
      "combos (19180799, 6)\n",
      "combos (18381800, 6)\n",
      "salary_array (18381800, 6)\n"
     ]
    },
    {
     "name": "stderr",
     "output_type": "stream",
     "text": [
      "\r",
      " 50%|█████     | 10/20 [32:21<31:44, 190.46s/it]"
     ]
    },
    {
     "name": "stdout",
     "output_type": "stream",
     "text": [
      "salary_array (7855051, 12)\n",
      "complete_array (32897862, 12)\n",
      "combos (311375421, 5)\n",
      "combos (19180799, 5)\n",
      "combos (19180799, 6)\n",
      "combos (18381800, 6)\n",
      "salary_array (18381800, 6)\n"
     ]
    },
    {
     "name": "stderr",
     "output_type": "stream",
     "text": [
      "\r",
      " 55%|█████▌    | 11/20 [35:33<28:37, 190.78s/it]"
     ]
    },
    {
     "name": "stdout",
     "output_type": "stream",
     "text": [
      "salary_array (2343247, 12)\n",
      "complete_array (35241109, 12)\n",
      "combos (311375421, 5)\n",
      "combos (19180799, 5)\n",
      "combos (19180799, 6)\n",
      "combos (18381800, 6)\n",
      "salary_array (18381800, 6)\n"
     ]
    },
    {
     "name": "stderr",
     "output_type": "stream",
     "text": [
      "\r",
      " 60%|██████    | 12/20 [38:44<25:27, 190.92s/it]"
     ]
    },
    {
     "name": "stdout",
     "output_type": "stream",
     "text": [
      "salary_array (2132760, 12)\n",
      "complete_array (37373869, 12)\n",
      "combos (311375421, 5)\n",
      "combos (19180799, 5)\n",
      "combos (19180799, 6)\n",
      "combos (16155654, 6)\n",
      "salary_array (16155654, 6)\n"
     ]
    },
    {
     "name": "stderr",
     "output_type": "stream",
     "text": [
      "\r",
      " 65%|██████▌   | 13/20 [41:37<21:38, 185.56s/it]"
     ]
    },
    {
     "name": "stdout",
     "output_type": "stream",
     "text": [
      "salary_array (1938902, 12)\n",
      "complete_array (39312771, 12)\n",
      "combos (311375421, 5)\n",
      "combos (19180799, 5)\n",
      "combos (19180799, 6)\n",
      "combos (18381800, 6)\n",
      "salary_array (18381800, 6)\n"
     ]
    },
    {
     "name": "stderr",
     "output_type": "stream",
     "text": [
      "\r",
      " 70%|███████   | 14/20 [44:46<18:40, 186.72s/it]"
     ]
    },
    {
     "name": "stdout",
     "output_type": "stream",
     "text": [
      "salary_array (5202701, 12)\n",
      "complete_array (44515472, 12)\n",
      "combos (311375421, 5)\n",
      "combos (19180799, 5)\n",
      "combos (19180799, 6)\n",
      "combos (17239184, 6)\n",
      "salary_array (17239184, 6)\n",
      "salary_array (3529494, 12)\n"
     ]
    },
    {
     "name": "stderr",
     "output_type": "stream",
     "text": [
      "\r",
      " 75%|███████▌  | 15/20 [47:46<15:22, 184.52s/it]"
     ]
    },
    {
     "name": "stdout",
     "output_type": "stream",
     "text": [
      "complete_array (48044966, 12)\n",
      "combos (311375421, 5)\n",
      "combos (19180799, 5)\n",
      "combos (19180799, 6)\n",
      "combos (17241599, 6)\n",
      "salary_array (17241599, 6)\n",
      "salary_array (3197785, 12)\n"
     ]
    },
    {
     "name": "stderr",
     "output_type": "stream",
     "text": [
      "\r",
      " 80%|████████  | 16/20 [50:45<12:11, 182.85s/it]"
     ]
    },
    {
     "name": "stdout",
     "output_type": "stream",
     "text": [
      "complete_array (51242751, 12)\n",
      "combos (311375421, 5)\n",
      "combos (19180799, 5)\n",
      "combos (19180799, 6)\n",
      "combos (18381800, 6)\n",
      "salary_array (18381800, 6)\n",
      "salary_array (6012842, 12)\n"
     ]
    },
    {
     "name": "stderr",
     "output_type": "stream",
     "text": [
      "\r",
      " 85%|████████▌ | 17/20 [53:52<09:12, 184.20s/it]"
     ]
    },
    {
     "name": "stdout",
     "output_type": "stream",
     "text": [
      "complete_array (57255593, 12)\n",
      "combos (311375421, 5)\n",
      "combos (19180799, 5)\n",
      "combos (19180799, 6)\n",
      "combos (18381800, 6)\n",
      "salary_array (18381800, 6)\n",
      "salary_array (2799114, 12)\n"
     ]
    },
    {
     "name": "stderr",
     "output_type": "stream",
     "text": [
      "\r",
      " 90%|█████████ | 18/20 [56:59<06:09, 184.91s/it]"
     ]
    },
    {
     "name": "stdout",
     "output_type": "stream",
     "text": [
      "complete_array (60054707, 12)\n",
      "combos (311375421, 5)\n",
      "combos (19180799, 5)\n",
      "combos (19180799, 6)\n",
      "combos (18381800, 6)\n",
      "salary_array (18381800, 6)\n",
      "salary_array (7474866, 12)\n"
     ]
    },
    {
     "name": "stderr",
     "output_type": "stream",
     "text": [
      "\r",
      " 95%|█████████▌| 19/20 [1:00:06<03:05, 185.73s/it]"
     ]
    },
    {
     "name": "stdout",
     "output_type": "stream",
     "text": [
      "complete_array (67529573, 12)\n",
      "combos (311375421, 5)\n",
      "combos (19180799, 5)\n",
      "combos (19180799, 6)\n",
      "combos (18381753, 6)\n",
      "salary_array (18381753, 6)\n",
      "salary_array (3044264, 12)\n"
     ]
    },
    {
     "name": "stderr",
     "output_type": "stream",
     "text": [
      "\r",
      "100%|██████████| 20/20 [1:03:16<00:00, 186.91s/it]"
     ]
    },
    {
     "name": "stdout",
     "output_type": "stream",
     "text": [
      "complete_array (70573837, 12)\n"
     ]
    },
    {
     "name": "stderr",
     "output_type": "stream",
     "text": [
      "\n",
      "\r",
      "  0%|          | 0/20 [00:00<?, ?it/s]"
     ]
    },
    {
     "name": "stdout",
     "output_type": "stream",
     "text": [
      "batch 4 starting\n",
      "combos (311375421, 5)\n",
      "combos (19180799, 5)\n",
      "combos (19180799, 6)\n",
      "combos (18381753, 6)\n",
      "salary_array (18381753, 6)\n"
     ]
    },
    {
     "name": "stderr",
     "output_type": "stream",
     "text": [
      "\r",
      "  5%|▌         | 1/20 [03:56<1:14:56, 236.64s/it]"
     ]
    },
    {
     "name": "stdout",
     "output_type": "stream",
     "text": [
      "salary_array (1936168, 12)\n",
      "complete_array (1936169, 12)\n",
      "combos (311375421, 5)\n",
      "combos (19180799, 5)\n",
      "combos (19180799, 6)\n",
      "combos (18381800, 6)\n",
      "salary_array (18381800, 6)\n"
     ]
    },
    {
     "name": "stderr",
     "output_type": "stream",
     "text": [
      "\r",
      " 10%|█         | 2/20 [07:08<1:06:57, 223.21s/it]"
     ]
    },
    {
     "name": "stdout",
     "output_type": "stream",
     "text": [
      "salary_array (3720262, 12)\n",
      "complete_array (5656431, 12)\n",
      "combos (311375421, 5)\n",
      "combos (19180799, 5)\n",
      "combos (19180799, 6)\n",
      "combos (18381800, 6)\n",
      "salary_array (18381800, 6)\n"
     ]
    },
    {
     "name": "stderr",
     "output_type": "stream",
     "text": [
      "\r",
      " 15%|█▌        | 3/20 [10:18<1:00:24, 213.23s/it]"
     ]
    },
    {
     "name": "stdout",
     "output_type": "stream",
     "text": [
      "salary_array (1936168, 12)\n",
      "complete_array (7592599, 12)\n",
      "combos (311375421, 5)\n",
      "combos (19180799, 5)\n",
      "combos (19180799, 6)\n",
      "combos (18044279, 6)\n",
      "salary_array (18044279, 6)\n"
     ]
    },
    {
     "name": "stderr",
     "output_type": "stream",
     "text": [
      "\r",
      " 20%|██        | 4/20 [13:22<54:33, 204.58s/it]  "
     ]
    },
    {
     "name": "stdout",
     "output_type": "stream",
     "text": [
      "salary_array (2783951, 12)\n",
      "complete_array (10376550, 12)\n",
      "combos (311375421, 5)\n",
      "combos (19180799, 5)\n",
      "combos (19180799, 6)\n",
      "combos (18381753, 6)\n",
      "salary_array (18381753, 6)\n"
     ]
    },
    {
     "name": "stderr",
     "output_type": "stream",
     "text": [
      "\r",
      " 25%|██▌       | 5/20 [16:30<49:52, 199.51s/it]"
     ]
    },
    {
     "name": "stdout",
     "output_type": "stream",
     "text": [
      "salary_array (2565950, 12)\n",
      "complete_array (12942500, 12)\n",
      "combos (311375421, 5)\n",
      "combos (19180799, 5)\n",
      "combos (19180799, 6)\n",
      "combos (18381800, 6)\n",
      "salary_array (18381800, 6)\n"
     ]
    },
    {
     "name": "stderr",
     "output_type": "stream",
     "text": [
      "\r",
      " 30%|███       | 6/20 [19:38<45:42, 195.92s/it]"
     ]
    },
    {
     "name": "stdout",
     "output_type": "stream",
     "text": [
      "salary_array (4659355, 12)\n",
      "complete_array (17601855, 12)\n",
      "combos (311375421, 5)\n",
      "combos (19180799, 5)\n",
      "combos (19180799, 6)\n",
      "combos (18381753, 6)\n",
      "salary_array (18381753, 6)\n"
     ]
    },
    {
     "name": "stderr",
     "output_type": "stream",
     "text": [
      "\r",
      " 35%|███▌      | 7/20 [22:45<41:54, 193.40s/it]"
     ]
    },
    {
     "name": "stdout",
     "output_type": "stream",
     "text": [
      "salary_array (2236192, 12)\n",
      "complete_array (19838047, 12)\n",
      "combos (311375421, 5)\n",
      "combos (19180799, 5)\n",
      "combos (19180799, 6)\n",
      "combos (18381753, 6)\n",
      "salary_array (18381753, 6)\n"
     ]
    },
    {
     "name": "stderr",
     "output_type": "stream",
     "text": [
      "\r",
      " 40%|████      | 8/20 [25:54<38:23, 191.92s/it]"
     ]
    },
    {
     "name": "stdout",
     "output_type": "stream",
     "text": [
      "salary_array (2032703, 12)\n",
      "complete_array (21870750, 12)\n",
      "combos (311375421, 5)\n",
      "combos (19180799, 5)\n",
      "combos (19180799, 6)\n",
      "combos (18381800, 6)\n",
      "salary_array (18381800, 6)\n"
     ]
    },
    {
     "name": "stderr",
     "output_type": "stream",
     "text": [
      "\r",
      " 45%|████▌     | 9/20 [29:04<35:06, 191.54s/it]"
     ]
    },
    {
     "name": "stdout",
     "output_type": "stream",
     "text": [
      "salary_array (3172061, 12)\n",
      "complete_array (25042811, 12)\n",
      "combos (311375421, 5)\n",
      "combos (19180799, 5)\n",
      "combos (19180799, 6)\n",
      "combos (18381800, 6)\n",
      "salary_array (18381800, 6)\n"
     ]
    },
    {
     "name": "stderr",
     "output_type": "stream",
     "text": [
      "\r",
      " 50%|█████     | 10/20 [32:11<31:41, 190.19s/it]"
     ]
    },
    {
     "name": "stdout",
     "output_type": "stream",
     "text": [
      "salary_array (7855051, 12)\n",
      "complete_array (32897862, 12)\n",
      "combos (311375421, 5)\n",
      "combos (19180799, 5)\n",
      "combos (19180799, 6)\n",
      "combos (18381800, 6)\n",
      "salary_array (18381800, 6)\n"
     ]
    },
    {
     "name": "stderr",
     "output_type": "stream",
     "text": [
      "\r",
      " 55%|█████▌    | 11/20 [35:19<28:25, 189.50s/it]"
     ]
    },
    {
     "name": "stdout",
     "output_type": "stream",
     "text": [
      "salary_array (2343247, 12)\n",
      "complete_array (35241109, 12)\n",
      "combos (311375421, 5)\n",
      "combos (19180799, 5)\n",
      "combos (19180799, 6)\n",
      "combos (18381800, 6)\n",
      "salary_array (18381800, 6)\n"
     ]
    },
    {
     "name": "stderr",
     "output_type": "stream",
     "text": [
      "\r",
      " 60%|██████    | 12/20 [38:25<25:08, 188.54s/it]"
     ]
    },
    {
     "name": "stdout",
     "output_type": "stream",
     "text": [
      "salary_array (2132760, 12)\n",
      "complete_array (37373869, 12)\n",
      "combos (311375421, 5)\n",
      "combos (19180799, 5)\n",
      "combos (19180799, 6)\n",
      "combos (16155654, 6)\n",
      "salary_array (16155654, 6)\n"
     ]
    },
    {
     "name": "stderr",
     "output_type": "stream",
     "text": [
      "\r",
      " 65%|██████▌   | 13/20 [41:17<21:23, 183.41s/it]"
     ]
    },
    {
     "name": "stdout",
     "output_type": "stream",
     "text": [
      "salary_array (1938902, 12)\n",
      "complete_array (39312771, 12)\n",
      "combos (311375421, 5)\n",
      "combos (19180799, 5)\n",
      "combos (19180799, 6)\n",
      "combos (18381800, 6)\n",
      "salary_array (18381800, 6)\n"
     ]
    },
    {
     "name": "stderr",
     "output_type": "stream",
     "text": [
      "\r",
      " 70%|███████   | 14/20 [44:27<18:32, 185.35s/it]"
     ]
    },
    {
     "name": "stdout",
     "output_type": "stream",
     "text": [
      "salary_array (5202701, 12)\n",
      "complete_array (44515472, 12)\n",
      "combos (311375421, 5)\n",
      "combos (19180799, 5)\n",
      "combos (19180799, 6)\n",
      "combos (17239184, 6)\n",
      "salary_array (17239184, 6)\n",
      "salary_array (3529494, 12)\n"
     ]
    },
    {
     "name": "stderr",
     "output_type": "stream",
     "text": [
      "\r",
      " 75%|███████▌  | 15/20 [47:28<15:20, 184.06s/it]"
     ]
    },
    {
     "name": "stdout",
     "output_type": "stream",
     "text": [
      "complete_array (48044966, 12)\n",
      "combos (311375421, 5)\n",
      "combos (19180799, 5)\n",
      "combos (19180799, 6)\n",
      "combos (17241599, 6)\n",
      "salary_array (17241599, 6)\n",
      "salary_array (3197785, 12)\n"
     ]
    },
    {
     "name": "stderr",
     "output_type": "stream",
     "text": [
      "\r",
      " 80%|████████  | 16/20 [50:31<12:15, 183.89s/it]"
     ]
    },
    {
     "name": "stdout",
     "output_type": "stream",
     "text": [
      "complete_array (51242751, 12)\n",
      "combos (311375421, 5)\n",
      "combos (19180799, 5)\n",
      "combos (19180799, 6)\n",
      "combos (18381800, 6)\n",
      "salary_array (18381800, 6)\n",
      "salary_array (6012842, 12)\n"
     ]
    },
    {
     "name": "stderr",
     "output_type": "stream",
     "text": [
      "\r",
      " 85%|████████▌ | 17/20 [53:39<09:15, 185.06s/it]"
     ]
    },
    {
     "name": "stdout",
     "output_type": "stream",
     "text": [
      "complete_array (57255593, 12)\n",
      "combos (311375421, 5)\n",
      "combos (19180799, 5)\n",
      "combos (19180799, 6)\n",
      "combos (18381800, 6)\n",
      "salary_array (18381800, 6)\n",
      "salary_array (2799114, 12)\n"
     ]
    },
    {
     "name": "stderr",
     "output_type": "stream",
     "text": [
      "\r",
      " 90%|█████████ | 18/20 [56:48<06:12, 186.12s/it]"
     ]
    },
    {
     "name": "stdout",
     "output_type": "stream",
     "text": [
      "complete_array (60054707, 12)\n",
      "combos (311375421, 5)\n",
      "combos (19180799, 5)\n",
      "combos (19180799, 6)\n",
      "combos (18381800, 6)\n",
      "salary_array (18381800, 6)\n",
      "salary_array (7474866, 12)\n"
     ]
    },
    {
     "name": "stderr",
     "output_type": "stream",
     "text": [
      "\r",
      " 95%|█████████▌| 19/20 [59:59<03:07, 187.55s/it]"
     ]
    },
    {
     "name": "stdout",
     "output_type": "stream",
     "text": [
      "complete_array (67529573, 12)\n",
      "combos (311375421, 5)\n",
      "combos (19180799, 5)\n",
      "combos (19180799, 6)\n",
      "combos (18381753, 6)\n",
      "salary_array (18381753, 6)\n",
      "salary_array (3044264, 12)\n"
     ]
    },
    {
     "name": "stderr",
     "output_type": "stream",
     "text": [
      "\r",
      "100%|██████████| 20/20 [1:03:05<00:00, 187.21s/it]"
     ]
    },
    {
     "name": "stdout",
     "output_type": "stream",
     "text": [
      "complete_array (70573837, 12)\n"
     ]
    },
    {
     "name": "stderr",
     "output_type": "stream",
     "text": [
      "\n",
      "\r",
      "  0%|          | 0/20 [00:00<?, ?it/s]"
     ]
    },
    {
     "name": "stdout",
     "output_type": "stream",
     "text": [
      "batch 5 starting\n",
      "combos (311375421, 5)\n",
      "combos (19180799, 5)\n",
      "combos (19180799, 6)\n",
      "combos (18381753, 6)\n",
      "salary_array (18381753, 6)\n"
     ]
    },
    {
     "name": "stderr",
     "output_type": "stream",
     "text": [
      "\r",
      "  5%|▌         | 1/20 [03:54<1:14:17, 234.61s/it]"
     ]
    },
    {
     "name": "stdout",
     "output_type": "stream",
     "text": [
      "salary_array (1936168, 12)\n",
      "complete_array (1936169, 12)\n",
      "combos (311375421, 5)\n",
      "combos (19180799, 5)\n",
      "combos (19180799, 6)\n",
      "combos (18381800, 6)\n",
      "salary_array (18381800, 6)\n"
     ]
    },
    {
     "name": "stderr",
     "output_type": "stream",
     "text": [
      "\r",
      " 10%|█         | 2/20 [07:07<1:06:35, 221.98s/it]"
     ]
    },
    {
     "name": "stdout",
     "output_type": "stream",
     "text": [
      "salary_array (3720262, 12)\n",
      "complete_array (5656431, 12)\n",
      "combos (311375421, 5)\n",
      "combos (19180799, 5)\n",
      "combos (19180799, 6)\n",
      "combos (18381800, 6)\n",
      "salary_array (18381800, 6)\n"
     ]
    },
    {
     "name": "stderr",
     "output_type": "stream",
     "text": [
      "\r",
      " 15%|█▌        | 3/20 [10:16<1:00:08, 212.29s/it]"
     ]
    },
    {
     "name": "stdout",
     "output_type": "stream",
     "text": [
      "salary_array (1936168, 12)\n",
      "complete_array (7592599, 12)\n",
      "combos (311375421, 5)\n",
      "combos (19180799, 5)\n",
      "combos (19180799, 6)\n",
      "combos (18044279, 6)\n",
      "salary_array (18044279, 6)\n"
     ]
    },
    {
     "name": "stderr",
     "output_type": "stream",
     "text": [
      "\r",
      " 20%|██        | 4/20 [13:21<54:24, 204.02s/it]  "
     ]
    },
    {
     "name": "stdout",
     "output_type": "stream",
     "text": [
      "salary_array (2783951, 12)\n",
      "complete_array (10376550, 12)\n",
      "combos (311375421, 5)\n",
      "combos (19180799, 5)\n",
      "combos (19180799, 6)\n",
      "combos (18381753, 6)\n",
      "salary_array (18381753, 6)\n"
     ]
    },
    {
     "name": "stderr",
     "output_type": "stream",
     "text": [
      "\r",
      " 25%|██▌       | 5/20 [16:31<49:57, 199.85s/it]"
     ]
    },
    {
     "name": "stdout",
     "output_type": "stream",
     "text": [
      "salary_array (2565950, 12)\n",
      "complete_array (12942500, 12)\n",
      "combos (311375421, 5)\n",
      "combos (19180799, 5)\n",
      "combos (19180799, 6)\n",
      "combos (18381800, 6)\n",
      "salary_array (18381800, 6)\n"
     ]
    },
    {
     "name": "stderr",
     "output_type": "stream",
     "text": [
      "\r",
      " 30%|███       | 6/20 [19:41<45:56, 196.86s/it]"
     ]
    },
    {
     "name": "stdout",
     "output_type": "stream",
     "text": [
      "salary_array (4659355, 12)\n",
      "complete_array (17601855, 12)\n",
      "combos (311375421, 5)\n",
      "combos (19180799, 5)\n",
      "combos (19180799, 6)\n",
      "combos (18381753, 6)\n",
      "salary_array (18381753, 6)\n"
     ]
    },
    {
     "name": "stderr",
     "output_type": "stream",
     "text": [
      "\r",
      " 35%|███▌      | 7/20 [22:51<42:10, 194.65s/it]"
     ]
    },
    {
     "name": "stdout",
     "output_type": "stream",
     "text": [
      "salary_array (2236192, 12)\n",
      "complete_array (19838047, 12)\n",
      "combos (311375421, 5)\n",
      "combos (19180799, 5)\n",
      "combos (19180799, 6)\n",
      "combos (18381753, 6)\n",
      "salary_array (18381753, 6)\n"
     ]
    },
    {
     "name": "stderr",
     "output_type": "stream",
     "text": [
      "\r",
      " 40%|████      | 8/20 [25:59<38:33, 192.79s/it]"
     ]
    },
    {
     "name": "stdout",
     "output_type": "stream",
     "text": [
      "salary_array (2032703, 12)\n",
      "complete_array (21870750, 12)\n",
      "combos (311375421, 5)\n",
      "combos (19180799, 5)\n",
      "combos (19180799, 6)\n",
      "combos (18381800, 6)\n",
      "salary_array (18381800, 6)\n"
     ]
    },
    {
     "name": "stderr",
     "output_type": "stream",
     "text": [
      "\r",
      " 45%|████▌     | 9/20 [29:09<35:10, 191.83s/it]"
     ]
    },
    {
     "name": "stdout",
     "output_type": "stream",
     "text": [
      "salary_array (3172061, 12)\n",
      "complete_array (25042811, 12)\n",
      "combos (311375421, 5)\n",
      "combos (19180799, 5)\n",
      "combos (19180799, 6)\n",
      "combos (18381800, 6)\n",
      "salary_array (18381800, 6)\n"
     ]
    },
    {
     "name": "stderr",
     "output_type": "stream",
     "text": [
      "\r",
      " 50%|█████     | 10/20 [32:17<31:47, 190.75s/it]"
     ]
    },
    {
     "name": "stdout",
     "output_type": "stream",
     "text": [
      "salary_array (7855051, 12)\n",
      "complete_array (32897862, 12)\n",
      "combos (311375421, 5)\n",
      "combos (19180799, 5)\n",
      "combos (19180799, 6)\n",
      "combos (18381800, 6)\n",
      "salary_array (18381800, 6)\n"
     ]
    },
    {
     "name": "stderr",
     "output_type": "stream",
     "text": [
      "\r",
      " 55%|█████▌    | 11/20 [35:26<28:31, 190.16s/it]"
     ]
    },
    {
     "name": "stdout",
     "output_type": "stream",
     "text": [
      "salary_array (2343247, 12)\n",
      "complete_array (35241109, 12)\n",
      "combos (311375421, 5)\n",
      "combos (19180799, 5)\n",
      "combos (19180799, 6)\n",
      "combos (18381800, 6)\n",
      "salary_array (18381800, 6)\n"
     ]
    },
    {
     "name": "stderr",
     "output_type": "stream",
     "text": [
      "\r",
      " 60%|██████    | 12/20 [38:36<25:21, 190.15s/it]"
     ]
    },
    {
     "name": "stdout",
     "output_type": "stream",
     "text": [
      "salary_array (2132760, 12)\n",
      "complete_array (37373869, 12)\n",
      "combos (311375421, 5)\n",
      "combos (19180799, 5)\n",
      "combos (19180799, 6)\n",
      "combos (16155654, 6)\n",
      "salary_array (16155654, 6)\n"
     ]
    },
    {
     "name": "stderr",
     "output_type": "stream",
     "text": [
      "\r",
      " 65%|██████▌   | 13/20 [41:26<21:29, 184.18s/it]"
     ]
    },
    {
     "name": "stdout",
     "output_type": "stream",
     "text": [
      "salary_array (1938902, 12)\n",
      "complete_array (39312771, 12)\n",
      "combos (311375421, 5)\n",
      "combos (19180799, 5)\n",
      "combos (19180799, 6)\n",
      "combos (18381800, 6)\n",
      "salary_array (18381800, 6)\n"
     ]
    },
    {
     "name": "stderr",
     "output_type": "stream",
     "text": [
      "\r",
      " 70%|███████   | 14/20 [44:32<18:27, 184.65s/it]"
     ]
    },
    {
     "name": "stdout",
     "output_type": "stream",
     "text": [
      "salary_array (5202701, 12)\n",
      "complete_array (44515472, 12)\n",
      "combos (311375421, 5)\n",
      "combos (19180799, 5)\n",
      "combos (19180799, 6)\n",
      "combos (17239184, 6)\n",
      "salary_array (17239184, 6)\n",
      "salary_array (3529494, 12)\n"
     ]
    },
    {
     "name": "stderr",
     "output_type": "stream",
     "text": [
      "\r",
      " 75%|███████▌  | 15/20 [47:30<15:13, 182.62s/it]"
     ]
    },
    {
     "name": "stdout",
     "output_type": "stream",
     "text": [
      "complete_array (48044966, 12)\n",
      "combos (311375421, 5)\n",
      "combos (19180799, 5)\n",
      "combos (19180799, 6)\n",
      "combos (17241599, 6)\n",
      "salary_array (17241599, 6)\n",
      "salary_array (3197785, 12)\n"
     ]
    },
    {
     "name": "stderr",
     "output_type": "stream",
     "text": [
      "\r",
      " 80%|████████  | 16/20 [50:29<12:07, 181.77s/it]"
     ]
    },
    {
     "name": "stdout",
     "output_type": "stream",
     "text": [
      "complete_array (51242751, 12)\n",
      "combos (311375421, 5)\n",
      "combos (19180799, 5)\n",
      "combos (19180799, 6)\n",
      "combos (18381800, 6)\n",
      "salary_array (18381800, 6)\n",
      "salary_array (6012842, 12)\n"
     ]
    },
    {
     "name": "stderr",
     "output_type": "stream",
     "text": [
      "\r",
      " 85%|████████▌ | 17/20 [53:37<09:10, 183.60s/it]"
     ]
    },
    {
     "name": "stdout",
     "output_type": "stream",
     "text": [
      "complete_array (57255593, 12)\n",
      "combos (311375421, 5)\n",
      "combos (19180799, 5)\n",
      "combos (19180799, 6)\n",
      "combos (18381800, 6)\n",
      "salary_array (18381800, 6)\n",
      "salary_array (2799114, 12)\n"
     ]
    },
    {
     "name": "stderr",
     "output_type": "stream",
     "text": [
      "\r",
      " 90%|█████████ | 18/20 [56:47<06:10, 185.40s/it]"
     ]
    },
    {
     "name": "stdout",
     "output_type": "stream",
     "text": [
      "complete_array (60054707, 12)\n",
      "combos (311375421, 5)\n",
      "combos (19180799, 5)\n",
      "combos (19180799, 6)\n",
      "combos (18381800, 6)\n",
      "salary_array (18381800, 6)\n",
      "salary_array (7474866, 12)\n"
     ]
    },
    {
     "name": "stderr",
     "output_type": "stream",
     "text": [
      "\r",
      " 95%|█████████▌| 19/20 [59:54<03:05, 185.91s/it]"
     ]
    },
    {
     "name": "stdout",
     "output_type": "stream",
     "text": [
      "complete_array (67529573, 12)\n",
      "combos (311375421, 5)\n",
      "combos (19180799, 5)\n",
      "combos (19180799, 6)\n",
      "combos (18381753, 6)\n",
      "salary_array (18381753, 6)\n",
      "salary_array (3044264, 12)\n"
     ]
    },
    {
     "name": "stderr",
     "output_type": "stream",
     "text": [
      "\r",
      "100%|██████████| 20/20 [1:03:05<00:00, 187.42s/it]"
     ]
    },
    {
     "name": "stdout",
     "output_type": "stream",
     "text": [
      "complete_array (70573837, 12)\n"
     ]
    },
    {
     "name": "stderr",
     "output_type": "stream",
     "text": [
      "\n",
      "\r",
      "  0%|          | 0/20 [00:00<?, ?it/s]"
     ]
    },
    {
     "name": "stdout",
     "output_type": "stream",
     "text": [
      "batch 6 starting\n",
      "combos (311375421, 5)\n",
      "combos (44773577, 5)\n",
      "combos (44773577, 6)\n",
      "combos (42837807, 6)\n",
      "salary_array (42837807, 6)\n"
     ]
    },
    {
     "name": "stderr",
     "output_type": "stream",
     "text": [
      "\r",
      "  5%|▌         | 1/20 [07:55<2:30:35, 475.58s/it]"
     ]
    },
    {
     "name": "stdout",
     "output_type": "stream",
     "text": [
      "salary_array (6441999, 12)\n",
      "complete_array (6442000, 12)\n",
      "combos (311375421, 5)\n",
      "combos (44773577, 5)\n",
      "combos (44773577, 6)\n",
      "combos (41696820, 6)\n",
      "salary_array (41696820, 6)\n"
     ]
    },
    {
     "name": "stderr",
     "output_type": "stream",
     "text": [
      "\r",
      " 10%|█         | 2/20 [15:05<2:18:36, 462.03s/it]"
     ]
    },
    {
     "name": "stdout",
     "output_type": "stream",
     "text": [
      "salary_array (10562247, 12)\n",
      "complete_array (17004247, 12)\n",
      "combos (311375421, 5)\n",
      "combos (44773577, 5)\n",
      "combos (44773577, 6)\n",
      "combos (41696820, 6)\n",
      "salary_array (41696820, 6)\n"
     ]
    },
    {
     "name": "stderr",
     "output_type": "stream",
     "text": [
      "\r",
      " 15%|█▌        | 3/20 [22:14<2:08:03, 451.99s/it]"
     ]
    },
    {
     "name": "stdout",
     "output_type": "stream",
     "text": [
      "salary_array (6324646, 12)\n",
      "complete_array (23328893, 12)\n",
      "combos (311375421, 5)\n",
      "combos (44773577, 5)\n",
      "combos (44773577, 6)\n",
      "combos (42500537, 6)\n",
      "salary_array (42500537, 6)\n"
     ]
    },
    {
     "name": "stderr",
     "output_type": "stream",
     "text": [
      "\r",
      " 20%|██        | 4/20 [29:21<1:58:30, 444.39s/it]"
     ]
    },
    {
     "name": "stdout",
     "output_type": "stream",
     "text": [
      "salary_array (9016458, 12)\n",
      "complete_array (32345351, 12)\n",
      "combos (311375421, 5)\n",
      "combos (44773577, 5)\n",
      "combos (44773577, 6)\n",
      "combos (42837807, 6)\n",
      "salary_array (42837807, 6)\n"
     ]
    },
    {
     "name": "stderr",
     "output_type": "stream",
     "text": [
      "\r",
      " 25%|██▌       | 5/20 [36:28<1:49:50, 439.39s/it]"
     ]
    },
    {
     "name": "stdout",
     "output_type": "stream",
     "text": [
      "salary_array (8195302, 12)\n",
      "complete_array (40540653, 12)\n",
      "combos (311375421, 5)\n",
      "combos (44773577, 5)\n",
      "combos (44773577, 6)\n",
      "combos (42838060, 6)\n",
      "salary_array (42838060, 6)\n",
      "salary_array (12591920, 12)\n"
     ]
    },
    {
     "name": "stderr",
     "output_type": "stream",
     "text": [
      "\r",
      " 30%|███       | 6/20 [43:29<1:41:13, 433.81s/it]"
     ]
    },
    {
     "name": "stdout",
     "output_type": "stream",
     "text": [
      "complete_array (53132573, 12)\n",
      "combos (311375421, 5)\n",
      "combos (44773577, 5)\n",
      "combos (44773577, 6)\n",
      "combos (42838057, 6)\n",
      "salary_array (42838057, 6)\n",
      "salary_array (7289739, 12)\n"
     ]
    },
    {
     "name": "stderr",
     "output_type": "stream",
     "text": [
      "\r",
      " 35%|███▌      | 7/20 [50:35<1:33:28, 431.44s/it]"
     ]
    },
    {
     "name": "stdout",
     "output_type": "stream",
     "text": [
      "complete_array (60422312, 12)\n",
      "combos (311375421, 5)\n",
      "combos (44773577, 5)\n",
      "combos (44773577, 6)\n",
      "combos (42838057, 6)\n",
      "salary_array (42838057, 6)\n",
      "salary_array (6717228, 12)\n"
     ]
    },
    {
     "name": "stderr",
     "output_type": "stream",
     "text": [
      "\r",
      " 40%|████      | 8/20 [57:36<1:25:40, 428.40s/it]"
     ]
    },
    {
     "name": "stdout",
     "output_type": "stream",
     "text": [
      "complete_array (67139540, 12)\n",
      "combos (311375421, 5)\n",
      "combos (44773577, 5)\n",
      "combos (44773577, 6)\n",
      "combos (42838060, 6)\n",
      "salary_array (42838060, 6)\n",
      "salary_array (9772528, 12)\n"
     ]
    },
    {
     "name": "stderr",
     "output_type": "stream",
     "text": [
      "\r",
      " 45%|████▌     | 9/20 [1:04:41<1:18:21, 427.37s/it]"
     ]
    },
    {
     "name": "stdout",
     "output_type": "stream",
     "text": [
      "complete_array (76912068, 12)\n",
      "combos (311375421, 5)\n",
      "combos (44773577, 5)\n",
      "combos (44773577, 6)\n",
      "combos (42838060, 6)\n",
      "salary_array (42838060, 6)\n",
      "salary_array (17633218, 12)\n"
     ]
    },
    {
     "name": "stderr",
     "output_type": "stream",
     "text": [
      "\r",
      " 50%|█████     | 10/20 [1:11:49<1:11:13, 427.39s/it]"
     ]
    },
    {
     "name": "stdout",
     "output_type": "stream",
     "text": [
      "complete_array (94545286, 12)\n",
      "combos (311375421, 5)\n",
      "combos (44773577, 5)\n",
      "combos (44773577, 6)\n",
      "combos (42838060, 6)\n",
      "salary_array (42838060, 6)\n",
      "salary_array (7585917, 12)\n"
     ]
    },
    {
     "name": "stderr",
     "output_type": "stream",
     "text": [
      "\r",
      " 55%|█████▌    | 11/20 [1:19:03<1:04:25, 429.46s/it]"
     ]
    },
    {
     "name": "stdout",
     "output_type": "stream",
     "text": [
      "complete_array (102131203, 12)\n",
      "combos (311375421, 5)\n",
      "combos (44773577, 5)\n",
      "combos (44773577, 6)\n",
      "combos (42838057, 6)\n",
      "salary_array (42838057, 6)\n",
      "salary_array (7000085, 12)\n"
     ]
    },
    {
     "name": "stderr",
     "output_type": "stream",
     "text": [
      "\r",
      " 60%|██████    | 12/20 [1:26:10<57:09, 428.67s/it]  "
     ]
    },
    {
     "name": "stdout",
     "output_type": "stream",
     "text": [
      "complete_array (109131288, 12)\n",
      "combos (311375421, 5)\n",
      "combos (44773577, 5)\n",
      "combos (44773577, 6)\n",
      "combos (42837807, 6)\n",
      "salary_array (42837807, 6)\n",
      "salary_array (7887728, 12)\n"
     ]
    },
    {
     "name": "stderr",
     "output_type": "stream",
     "text": [
      "\r",
      " 65%|██████▌   | 13/20 [1:33:21<50:06, 429.47s/it]"
     ]
    },
    {
     "name": "stdout",
     "output_type": "stream",
     "text": [
      "complete_array (117019016, 12)\n",
      "combos (311375421, 5)\n",
      "combos (44773577, 5)\n",
      "combos (44773577, 6)\n",
      "combos (40612162, 6)\n",
      "salary_array (40612162, 6)\n",
      "salary_array (12052568, 12)\n"
     ]
    },
    {
     "name": "stderr",
     "output_type": "stream",
     "text": [
      "\r",
      " 70%|███████   | 14/20 [1:40:14<42:26, 424.50s/it]"
     ]
    },
    {
     "name": "stdout",
     "output_type": "stream",
     "text": [
      "complete_array (129071584, 12)\n",
      "combos (311375421, 5)\n",
      "combos (44773577, 5)\n",
      "combos (44773577, 6)\n",
      "combos (42837807, 6)\n",
      "salary_array (42837807, 6)\n",
      "salary_array (11533066, 12)\n"
     ]
    },
    {
     "name": "stderr",
     "output_type": "stream",
     "text": [
      "\r",
      " 75%|███████▌  | 15/20 [1:47:23<35:28, 425.77s/it]"
     ]
    },
    {
     "name": "stdout",
     "output_type": "stream",
     "text": [
      "complete_array (140604650, 12)\n",
      "combos (311375421, 5)\n",
      "combos (44773577, 5)\n",
      "combos (44773577, 6)\n",
      "combos (42837807, 6)\n",
      "salary_array (42837807, 6)\n",
      "salary_array (10686283, 12)\n"
     ]
    },
    {
     "name": "stderr",
     "output_type": "stream",
     "text": [
      "\r",
      " 80%|████████  | 16/20 [1:54:33<28:27, 426.96s/it]"
     ]
    },
    {
     "name": "stdout",
     "output_type": "stream",
     "text": [
      "complete_array (151290933, 12)\n",
      "combos (311375421, 5)\n",
      "combos (44773577, 5)\n",
      "combos (44773577, 6)\n",
      "combos (40612162, 6)\n",
      "salary_array (40612162, 6)\n",
      "salary_array (13493692, 12)\n"
     ]
    },
    {
     "name": "stderr",
     "output_type": "stream",
     "text": [
      "\r",
      " 85%|████████▌ | 17/20 [2:01:30<21:11, 423.99s/it]"
     ]
    },
    {
     "name": "stdout",
     "output_type": "stream",
     "text": [
      "complete_array (164784625, 12)\n",
      "combos (311375421, 5)\n",
      "combos (44773577, 5)\n",
      "combos (44773577, 6)\n",
      "combos (42838060, 6)\n",
      "salary_array (42838060, 6)\n",
      "salary_array (8823266, 12)\n"
     ]
    },
    {
     "name": "stderr",
     "output_type": "stream",
     "text": [
      "\r",
      " 90%|█████████ | 18/20 [2:08:36<14:09, 424.82s/it]"
     ]
    },
    {
     "name": "stdout",
     "output_type": "stream",
     "text": [
      "complete_array (173607891, 12)\n",
      "combos (311375421, 5)\n",
      "combos (44773577, 5)\n",
      "combos (44773577, 6)\n",
      "combos (40612162, 6)\n",
      "salary_array (40612162, 6)\n",
      "salary_array (16525479, 12)\n"
     ]
    },
    {
     "name": "stderr",
     "output_type": "stream",
     "text": [
      "\r",
      " 95%|█████████▌| 19/20 [2:15:31<07:01, 421.75s/it]"
     ]
    },
    {
     "name": "stdout",
     "output_type": "stream",
     "text": [
      "complete_array (190133370, 12)\n",
      "combos (311375421, 5)\n",
      "combos (44773577, 5)\n",
      "combos (44773577, 6)\n",
      "combos (42837807, 6)\n",
      "salary_array (42837807, 6)\n",
      "salary_array (9457499, 12)\n"
     ]
    },
    {
     "name": "stderr",
     "output_type": "stream",
     "text": [
      "\r",
      "100%|██████████| 20/20 [2:22:44<00:00, 425.08s/it]"
     ]
    },
    {
     "name": "stdout",
     "output_type": "stream",
     "text": [
      "complete_array (199590869, 12)\n"
     ]
    },
    {
     "name": "stderr",
     "output_type": "stream",
     "text": [
      "\n",
      "\r",
      "  0%|          | 0/20 [00:00<?, ?it/s]"
     ]
    },
    {
     "name": "stdout",
     "output_type": "stream",
     "text": [
      "batch 7 starting\n",
      "combos (311375421, 5)\n",
      "combos (44773577, 5)\n",
      "combos (44773577, 6)\n",
      "combos (42837807, 6)\n",
      "salary_array (42837807, 6)\n"
     ]
    },
    {
     "name": "stderr",
     "output_type": "stream",
     "text": [
      "\r",
      "  5%|▌         | 1/20 [08:15<2:36:47, 495.14s/it]"
     ]
    },
    {
     "name": "stdout",
     "output_type": "stream",
     "text": [
      "salary_array (6441999, 12)\n",
      "complete_array (6442000, 12)\n",
      "combos (311375421, 5)\n",
      "combos (44773577, 5)\n",
      "combos (44773577, 6)\n",
      "combos (41696820, 6)\n",
      "salary_array (41696820, 6)\n"
     ]
    },
    {
     "name": "stderr",
     "output_type": "stream",
     "text": [
      "\r",
      " 10%|█         | 2/20 [15:18<2:22:07, 473.74s/it]"
     ]
    },
    {
     "name": "stdout",
     "output_type": "stream",
     "text": [
      "salary_array (10562247, 12)\n",
      "complete_array (17004247, 12)\n",
      "combos (311375421, 5)\n",
      "combos (44773577, 5)\n",
      "combos (44773577, 6)\n",
      "combos (41696820, 6)\n",
      "salary_array (41696820, 6)\n"
     ]
    },
    {
     "name": "stderr",
     "output_type": "stream",
     "text": [
      "\r",
      " 15%|█▌        | 3/20 [22:20<2:09:46, 458.04s/it]"
     ]
    },
    {
     "name": "stdout",
     "output_type": "stream",
     "text": [
      "salary_array (6324646, 12)\n",
      "complete_array (23328893, 12)\n",
      "combos (311375421, 5)\n",
      "combos (44773577, 5)\n",
      "combos (44773577, 6)\n",
      "combos (42500537, 6)\n",
      "salary_array (42500537, 6)\n"
     ]
    },
    {
     "name": "stderr",
     "output_type": "stream",
     "text": [
      "\r",
      " 20%|██        | 4/20 [29:32<2:00:02, 450.15s/it]"
     ]
    },
    {
     "name": "stdout",
     "output_type": "stream",
     "text": [
      "salary_array (9016458, 12)\n",
      "complete_array (32345351, 12)\n",
      "combos (311375421, 5)\n",
      "combos (44773577, 5)\n",
      "combos (44773577, 6)\n",
      "combos (42837807, 6)\n",
      "salary_array (42837807, 6)\n"
     ]
    },
    {
     "name": "stderr",
     "output_type": "stream",
     "text": [
      "\r",
      " 25%|██▌       | 5/20 [36:52<1:51:48, 447.23s/it]"
     ]
    },
    {
     "name": "stdout",
     "output_type": "stream",
     "text": [
      "salary_array (8195302, 12)\n",
      "complete_array (40540653, 12)\n",
      "combos (311375421, 5)\n",
      "combos (44773577, 5)\n",
      "combos (44773577, 6)\n",
      "combos (42838060, 6)\n",
      "salary_array (42838060, 6)\n",
      "salary_array (12591920, 12)\n"
     ]
    },
    {
     "name": "stderr",
     "output_type": "stream",
     "text": [
      "\r",
      " 30%|███       | 6/20 [44:09<1:43:38, 444.18s/it]"
     ]
    },
    {
     "name": "stdout",
     "output_type": "stream",
     "text": [
      "complete_array (53132573, 12)\n",
      "combos (311375421, 5)\n",
      "combos (44773577, 5)\n",
      "combos (44773577, 6)\n",
      "combos (42838057, 6)\n",
      "salary_array (42838057, 6)\n",
      "salary_array (7289739, 12)\n"
     ]
    },
    {
     "name": "stderr",
     "output_type": "stream",
     "text": [
      "\r",
      " 35%|███▌      | 7/20 [51:22<1:35:29, 440.75s/it]"
     ]
    },
    {
     "name": "stdout",
     "output_type": "stream",
     "text": [
      "complete_array (60422312, 12)\n",
      "combos (311375421, 5)\n",
      "combos (44773577, 5)\n",
      "combos (44773577, 6)\n",
      "combos (42838057, 6)\n",
      "salary_array (42838057, 6)\n",
      "salary_array (6717228, 12)\n"
     ]
    },
    {
     "name": "stderr",
     "output_type": "stream",
     "text": [
      "\r",
      " 40%|████      | 8/20 [58:34<1:27:38, 438.17s/it]"
     ]
    },
    {
     "name": "stdout",
     "output_type": "stream",
     "text": [
      "complete_array (67139540, 12)\n",
      "combos (311375421, 5)\n",
      "combos (44773577, 5)\n",
      "combos (44773577, 6)\n",
      "combos (42838060, 6)\n",
      "salary_array (42838060, 6)\n",
      "salary_array (9772528, 12)\n"
     ]
    },
    {
     "name": "stderr",
     "output_type": "stream",
     "text": [
      "\r",
      " 45%|████▌     | 9/20 [1:05:47<1:20:01, 436.51s/it]"
     ]
    },
    {
     "name": "stdout",
     "output_type": "stream",
     "text": [
      "complete_array (76912068, 12)\n",
      "combos (311375421, 5)\n",
      "combos (44773577, 5)\n",
      "combos (44773577, 6)\n",
      "combos (42838060, 6)\n",
      "salary_array (42838060, 6)\n",
      "salary_array (17633218, 12)\n"
     ]
    },
    {
     "name": "stderr",
     "output_type": "stream",
     "text": [
      "\r",
      " 50%|█████     | 10/20 [1:13:00<1:12:36, 435.64s/it]"
     ]
    },
    {
     "name": "stdout",
     "output_type": "stream",
     "text": [
      "complete_array (94545286, 12)\n",
      "combos (311375421, 5)\n",
      "combos (44773577, 5)\n",
      "combos (44773577, 6)\n",
      "combos (42838060, 6)\n",
      "salary_array (42838060, 6)\n",
      "salary_array (7585917, 12)\n"
     ]
    },
    {
     "name": "stderr",
     "output_type": "stream",
     "text": [
      "\r",
      " 55%|█████▌    | 11/20 [1:20:12<1:05:09, 434.40s/it]"
     ]
    },
    {
     "name": "stdout",
     "output_type": "stream",
     "text": [
      "complete_array (102131203, 12)\n",
      "combos (311375421, 5)\n",
      "combos (44773577, 5)\n",
      "combos (44773577, 6)\n",
      "combos (42838057, 6)\n",
      "salary_array (42838057, 6)\n",
      "salary_array (7000085, 12)\n"
     ]
    },
    {
     "name": "stderr",
     "output_type": "stream",
     "text": [
      "\r",
      " 60%|██████    | 12/20 [1:27:23<57:46, 433.36s/it]  "
     ]
    },
    {
     "name": "stdout",
     "output_type": "stream",
     "text": [
      "complete_array (109131288, 12)\n",
      "combos (311375421, 5)\n",
      "combos (44773577, 5)\n",
      "combos (44773577, 6)\n",
      "combos (42837807, 6)\n",
      "salary_array (42837807, 6)\n",
      "salary_array (7887728, 12)\n"
     ]
    },
    {
     "name": "stderr",
     "output_type": "stream",
     "text": [
      "\r",
      " 65%|██████▌   | 13/20 [1:34:37<50:35, 433.64s/it]"
     ]
    },
    {
     "name": "stdout",
     "output_type": "stream",
     "text": [
      "complete_array (117019016, 12)\n",
      "combos (311375421, 5)\n",
      "combos (44773577, 5)\n",
      "combos (44773577, 6)\n",
      "combos (40612162, 6)\n",
      "salary_array (40612162, 6)\n",
      "salary_array (12052568, 12)\n"
     ]
    },
    {
     "name": "stderr",
     "output_type": "stream",
     "text": [
      "\r",
      " 70%|███████   | 14/20 [1:41:34<42:52, 428.72s/it]"
     ]
    },
    {
     "name": "stdout",
     "output_type": "stream",
     "text": [
      "complete_array (129071584, 12)\n",
      "combos (311375421, 5)\n",
      "combos (44773577, 5)\n",
      "combos (44773577, 6)\n",
      "combos (42837807, 6)\n",
      "salary_array (42837807, 6)\n",
      "salary_array (11533066, 12)\n"
     ]
    },
    {
     "name": "stderr",
     "output_type": "stream",
     "text": [
      "\r",
      " 75%|███████▌  | 15/20 [1:48:48<35:51, 430.28s/it]"
     ]
    },
    {
     "name": "stdout",
     "output_type": "stream",
     "text": [
      "complete_array (140604650, 12)\n",
      "combos (311375421, 5)\n",
      "combos (44773577, 5)\n",
      "combos (44773577, 6)\n",
      "combos (42837807, 6)\n",
      "salary_array (42837807, 6)\n",
      "salary_array (10686283, 12)\n"
     ]
    },
    {
     "name": "stderr",
     "output_type": "stream",
     "text": [
      "\r",
      " 80%|████████  | 16/20 [1:56:02<28:45, 431.42s/it]"
     ]
    },
    {
     "name": "stdout",
     "output_type": "stream",
     "text": [
      "complete_array (151290933, 12)\n",
      "combos (311375421, 5)\n",
      "combos (44773577, 5)\n",
      "combos (44773577, 6)\n",
      "combos (40612162, 6)\n",
      "salary_array (40612162, 6)\n",
      "salary_array (13493692, 12)\n"
     ]
    },
    {
     "name": "stderr",
     "output_type": "stream",
     "text": [
      "\r",
      " 85%|████████▌ | 17/20 [2:02:57<21:19, 426.52s/it]"
     ]
    },
    {
     "name": "stdout",
     "output_type": "stream",
     "text": [
      "complete_array (164784625, 12)\n",
      "combos (311375421, 5)\n",
      "combos (44773577, 5)\n",
      "combos (44773577, 6)\n",
      "combos (42838060, 6)\n",
      "salary_array (42838060, 6)\n",
      "salary_array (8823266, 12)\n"
     ]
    },
    {
     "name": "stderr",
     "output_type": "stream",
     "text": [
      "\r",
      " 90%|█████████ | 18/20 [2:10:09<14:16, 428.19s/it]"
     ]
    },
    {
     "name": "stdout",
     "output_type": "stream",
     "text": [
      "complete_array (173607891, 12)\n",
      "combos (311375421, 5)\n",
      "combos (44773577, 5)\n",
      "combos (44773577, 6)\n",
      "combos (40612162, 6)\n",
      "salary_array (40612162, 6)\n",
      "salary_array (16525479, 12)\n"
     ]
    },
    {
     "name": "stderr",
     "output_type": "stream",
     "text": [
      "\r",
      " 95%|█████████▌| 19/20 [2:17:03<07:03, 423.92s/it]"
     ]
    },
    {
     "name": "stdout",
     "output_type": "stream",
     "text": [
      "complete_array (190133370, 12)\n",
      "combos (311375421, 5)\n",
      "combos (44773577, 5)\n",
      "combos (44773577, 6)\n",
      "combos (42837807, 6)\n",
      "salary_array (42837807, 6)\n",
      "salary_array (9457499, 12)\n"
     ]
    },
    {
     "name": "stderr",
     "output_type": "stream",
     "text": [
      "\r",
      "100%|██████████| 20/20 [2:24:17<00:00, 426.76s/it]"
     ]
    },
    {
     "name": "stdout",
     "output_type": "stream",
     "text": [
      "complete_array (199590869, 12)\n"
     ]
    },
    {
     "name": "stderr",
     "output_type": "stream",
     "text": [
      "\n",
      "\r",
      "  0%|          | 0/20 [00:00<?, ?it/s]"
     ]
    },
    {
     "name": "stdout",
     "output_type": "stream",
     "text": [
      "batch 8 starting\n",
      "combos (311375421, 5)\n",
      "combos (44773577, 5)\n",
      "combos (44773577, 6)\n",
      "combos (42837807, 6)\n",
      "salary_array (42837807, 6)\n"
     ]
    },
    {
     "name": "stderr",
     "output_type": "stream",
     "text": [
      "\r",
      "  5%|▌         | 1/20 [07:56<2:30:49, 476.28s/it]"
     ]
    },
    {
     "name": "stdout",
     "output_type": "stream",
     "text": [
      "salary_array (6441999, 12)\n",
      "complete_array (6442000, 12)\n",
      "combos (311375421, 5)\n",
      "combos (44773577, 5)\n",
      "combos (44773577, 6)\n",
      "combos (41696820, 6)\n",
      "salary_array (41696820, 6)\n"
     ]
    },
    {
     "name": "stderr",
     "output_type": "stream",
     "text": [
      "\r",
      " 10%|█         | 2/20 [14:59<2:18:05, 460.30s/it]"
     ]
    },
    {
     "name": "stdout",
     "output_type": "stream",
     "text": [
      "salary_array (10562247, 12)\n",
      "complete_array (17004247, 12)\n",
      "combos (311375421, 5)\n",
      "combos (44773577, 5)\n",
      "combos (44773577, 6)\n",
      "combos (41696820, 6)\n",
      "salary_array (41696820, 6)\n"
     ]
    },
    {
     "name": "stderr",
     "output_type": "stream",
     "text": [
      "\r",
      " 15%|█▌        | 3/20 [22:03<2:07:22, 449.56s/it]"
     ]
    },
    {
     "name": "stdout",
     "output_type": "stream",
     "text": [
      "salary_array (6324646, 12)\n",
      "complete_array (23328893, 12)\n",
      "combos (311375421, 5)\n",
      "combos (44773577, 5)\n",
      "combos (44773577, 6)\n",
      "combos (42500537, 6)\n",
      "salary_array (42500537, 6)\n"
     ]
    },
    {
     "name": "stderr",
     "output_type": "stream",
     "text": [
      "\r",
      " 20%|██        | 4/20 [29:14<1:58:22, 443.93s/it]"
     ]
    },
    {
     "name": "stdout",
     "output_type": "stream",
     "text": [
      "salary_array (9016458, 12)\n",
      "complete_array (32345351, 12)\n",
      "combos (311375421, 5)\n",
      "combos (44773577, 5)\n",
      "combos (44773577, 6)\n",
      "combos (42837807, 6)\n",
      "salary_array (42837807, 6)\n"
     ]
    },
    {
     "name": "stderr",
     "output_type": "stream",
     "text": [
      "\r",
      " 25%|██▌       | 5/20 [36:30<1:50:23, 441.54s/it]"
     ]
    },
    {
     "name": "stdout",
     "output_type": "stream",
     "text": [
      "salary_array (8195302, 12)\n",
      "complete_array (40540653, 12)\n",
      "combos (311375421, 5)\n",
      "combos (44773577, 5)\n",
      "combos (44773577, 6)\n",
      "combos (42838060, 6)\n",
      "salary_array (42838060, 6)\n",
      "salary_array (12591920, 12)\n"
     ]
    },
    {
     "name": "stderr",
     "output_type": "stream",
     "text": [
      "\r",
      " 30%|███       | 6/20 [43:43<1:42:24, 438.86s/it]"
     ]
    },
    {
     "name": "stdout",
     "output_type": "stream",
     "text": [
      "complete_array (53132573, 12)\n",
      "combos (311375421, 5)\n",
      "combos (44773577, 5)\n",
      "combos (44773577, 6)\n",
      "combos (42838057, 6)\n",
      "salary_array (42838057, 6)\n",
      "salary_array (7289739, 12)\n"
     ]
    },
    {
     "name": "stderr",
     "output_type": "stream",
     "text": [
      "\r",
      " 35%|███▌      | 7/20 [50:57<1:34:46, 437.46s/it]"
     ]
    },
    {
     "name": "stdout",
     "output_type": "stream",
     "text": [
      "complete_array (60422312, 12)\n",
      "combos (311375421, 5)\n",
      "combos (44773577, 5)\n",
      "combos (44773577, 6)\n",
      "combos (42838057, 6)\n",
      "salary_array (42838057, 6)\n",
      "salary_array (6717228, 12)\n"
     ]
    },
    {
     "name": "stderr",
     "output_type": "stream",
     "text": [
      "\r",
      " 40%|████      | 8/20 [58:10<1:27:13, 436.13s/it]"
     ]
    },
    {
     "name": "stdout",
     "output_type": "stream",
     "text": [
      "complete_array (67139540, 12)\n",
      "combos (311375421, 5)\n",
      "combos (44773577, 5)\n",
      "combos (44773577, 6)\n",
      "combos (42838060, 6)\n",
      "salary_array (42838060, 6)\n",
      "salary_array (9772528, 12)\n"
     ]
    },
    {
     "name": "stderr",
     "output_type": "stream",
     "text": [
      "\r",
      " 45%|████▌     | 9/20 [1:05:17<1:19:27, 433.43s/it]"
     ]
    },
    {
     "name": "stdout",
     "output_type": "stream",
     "text": [
      "complete_array (76912068, 12)\n",
      "combos (311375421, 5)\n",
      "combos (44773577, 5)\n",
      "combos (44773577, 6)\n",
      "combos (42838060, 6)\n",
      "salary_array (42838060, 6)\n",
      "salary_array (17633218, 12)\n"
     ]
    },
    {
     "name": "stderr",
     "output_type": "stream",
     "text": [
      "\r",
      " 50%|█████     | 10/20 [1:12:20<1:11:43, 430.36s/it]"
     ]
    },
    {
     "name": "stdout",
     "output_type": "stream",
     "text": [
      "complete_array (94545286, 12)\n",
      "combos (311375421, 5)\n",
      "combos (44773577, 5)\n",
      "combos (44773577, 6)\n",
      "combos (42838060, 6)\n",
      "salary_array (42838060, 6)\n",
      "salary_array (7585917, 12)\n"
     ]
    },
    {
     "name": "stderr",
     "output_type": "stream",
     "text": [
      "\r",
      " 55%|█████▌    | 11/20 [1:19:26<1:04:20, 428.90s/it]"
     ]
    },
    {
     "name": "stdout",
     "output_type": "stream",
     "text": [
      "complete_array (102131203, 12)\n",
      "combos (311375421, 5)\n",
      "combos (44773577, 5)\n",
      "combos (44773577, 6)\n",
      "combos (42838057, 6)\n",
      "salary_array (42838057, 6)\n",
      "salary_array (7000085, 12)\n"
     ]
    },
    {
     "name": "stderr",
     "output_type": "stream",
     "text": [
      "\r",
      " 60%|██████    | 12/20 [1:26:31<57:01, 427.71s/it]  "
     ]
    },
    {
     "name": "stdout",
     "output_type": "stream",
     "text": [
      "complete_array (109131288, 12)\n",
      "combos (311375421, 5)\n",
      "combos (44773577, 5)\n",
      "combos (44773577, 6)\n",
      "combos (42837807, 6)\n",
      "salary_array (42837807, 6)\n",
      "salary_array (7887728, 12)\n"
     ]
    },
    {
     "name": "stderr",
     "output_type": "stream",
     "text": [
      "\r",
      " 65%|██████▌   | 13/20 [1:33:32<49:41, 425.86s/it]"
     ]
    },
    {
     "name": "stdout",
     "output_type": "stream",
     "text": [
      "complete_array (117019016, 12)\n",
      "combos (311375421, 5)\n",
      "combos (44773577, 5)\n",
      "combos (44773577, 6)\n",
      "combos (40612162, 6)\n",
      "salary_array (40612162, 6)\n",
      "salary_array (12052568, 12)\n"
     ]
    },
    {
     "name": "stderr",
     "output_type": "stream",
     "text": [
      "\r",
      " 70%|███████   | 14/20 [1:40:17<41:56, 419.49s/it]"
     ]
    },
    {
     "name": "stdout",
     "output_type": "stream",
     "text": [
      "complete_array (129071584, 12)\n",
      "combos (311375421, 5)\n",
      "combos (44773577, 5)\n",
      "combos (44773577, 6)\n",
      "combos (42837807, 6)\n",
      "salary_array (42837807, 6)\n",
      "salary_array (11533066, 12)\n"
     ]
    },
    {
     "name": "stderr",
     "output_type": "stream",
     "text": [
      "\r",
      " 75%|███████▌  | 15/20 [1:47:19<35:02, 420.44s/it]"
     ]
    },
    {
     "name": "stdout",
     "output_type": "stream",
     "text": [
      "complete_array (140604650, 12)\n",
      "combos (311375421, 5)\n",
      "combos (44773577, 5)\n",
      "combos (44773577, 6)\n",
      "combos (42837807, 6)\n",
      "salary_array (42837807, 6)\n",
      "salary_array (10686283, 12)\n"
     ]
    },
    {
     "name": "stderr",
     "output_type": "stream",
     "text": [
      "\r",
      " 80%|████████  | 16/20 [1:54:21<28:03, 420.82s/it]"
     ]
    },
    {
     "name": "stdout",
     "output_type": "stream",
     "text": [
      "complete_array (151290933, 12)\n",
      "combos (311375421, 5)\n",
      "combos (44773577, 5)\n",
      "combos (44773577, 6)\n",
      "combos (40612162, 6)\n",
      "salary_array (40612162, 6)\n",
      "salary_array (13493692, 12)\n"
     ]
    },
    {
     "name": "stderr",
     "output_type": "stream",
     "text": [
      "\r",
      " 85%|████████▌ | 17/20 [2:01:10<20:51, 417.25s/it]"
     ]
    },
    {
     "name": "stdout",
     "output_type": "stream",
     "text": [
      "complete_array (164784625, 12)\n",
      "combos (311375421, 5)\n",
      "combos (44773577, 5)\n",
      "combos (44773577, 6)\n",
      "combos (42838060, 6)\n",
      "salary_array (42838060, 6)\n",
      "salary_array (8823266, 12)\n"
     ]
    },
    {
     "name": "stderr",
     "output_type": "stream",
     "text": [
      "\r",
      " 90%|█████████ | 18/20 [2:08:11<13:56, 418.44s/it]"
     ]
    },
    {
     "name": "stdout",
     "output_type": "stream",
     "text": [
      "complete_array (173607891, 12)\n",
      "combos (311375421, 5)\n",
      "combos (44773577, 5)\n",
      "combos (44773577, 6)\n",
      "combos (40612162, 6)\n",
      "salary_array (40612162, 6)\n",
      "salary_array (16525479, 12)\n"
     ]
    },
    {
     "name": "stderr",
     "output_type": "stream",
     "text": [
      "\r",
      " 95%|█████████▌| 19/20 [2:14:59<06:55, 415.14s/it]"
     ]
    },
    {
     "name": "stdout",
     "output_type": "stream",
     "text": [
      "complete_array (190133370, 12)\n",
      "combos (311375421, 5)\n",
      "combos (44773577, 5)\n",
      "combos (44773577, 6)\n",
      "combos (42837807, 6)\n",
      "salary_array (42837807, 6)\n",
      "salary_array (9457499, 12)\n"
     ]
    },
    {
     "name": "stderr",
     "output_type": "stream",
     "text": [
      "\r",
      "100%|██████████| 20/20 [2:22:01<00:00, 417.31s/it]"
     ]
    },
    {
     "name": "stdout",
     "output_type": "stream",
     "text": [
      "complete_array (199590869, 12)\n",
      "Process complete hdf5 file masters_lineups.h5 saved\n"
     ]
    },
    {
     "name": "stderr",
     "output_type": "stream",
     "text": [
      "\n"
     ]
    }
   ],
   "source": [
    "os.chdir('/home/valesco/Datasets/PGA_Data/lineup_combos/')\n",
    "\n",
    "salary_dict, pid_mapped_dict, top_players_dict = parse_salary_csv(sal_df, 20)\n",
    "\n",
    "map_pids_to_array(salary_dict, pid_mapped_dict, top_players_dict, 'pga_5_team_combos.h5', 'masters_lineups.h5')"
   ]
  },
  {
   "cell_type": "code",
   "execution_count": null,
   "metadata": {
    "collapsed": true,
    "deletable": true,
    "editable": true
   },
   "outputs": [],
   "source": []
  }
 ],
 "metadata": {
  "kernelspec": {
   "display_name": "Python 3",
   "language": "python",
   "name": "python3"
  },
  "language_info": {
   "codemirror_mode": {
    "name": "ipython",
    "version": 3
   },
   "file_extension": ".py",
   "mimetype": "text/x-python",
   "name": "python",
   "nbconvert_exporter": "python",
   "pygments_lexer": "ipython3",
   "version": "3.5.0"
  }
 },
 "nbformat": 4,
 "nbformat_minor": 2
}
