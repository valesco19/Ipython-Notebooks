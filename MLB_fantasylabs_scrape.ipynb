{
 "cells": [
  {
   "cell_type": "code",
   "execution_count": 3,
   "metadata": {
    "collapsed": true,
    "deletable": true,
    "editable": true
   },
   "outputs": [],
   "source": [
    "import json\n",
    "import os\n",
    "import glob\n",
    "import pandas as pd\n",
    "import requests\n",
    "import time\n",
    "from datetime import datetime\n",
    "from random import randint"
   ]
  },
  {
   "cell_type": "code",
   "execution_count": null,
   "metadata": {
    "collapsed": false,
    "deletable": true,
    "editable": true
   },
   "outputs": [
    {
     "name": "stdout",
     "output_type": "stream",
     "text": [
      "4_20_2017 suceeded!!\n"
     ]
    }
   ],
   "source": [
    " while True:\n",
    "    os.chdir('/home/valesco/Datasets/MLB_Data/ownership_data/')\n",
    "\n",
    "    now = datetime.now()\n",
    "\n",
    "    date_str = str(now.month) + '_' + str(now.day) + '_' + str(now.year)\n",
    "\n",
    "    owner_url = 'http://www.fantasylabs.com/api/contest-ownership/3/' + date_str + '/4/'\n",
    "\n",
    "    response = requests.get(owner_url)\n",
    "    data = json.loads(response.text)\n",
    "\n",
    "    if len(data) > 2:\n",
    "        filename = date_str + '_mlb_ownership.json'\n",
    "\n",
    "        with open(filename, 'w') as outfile:\n",
    "            json.dump(data, outfile)\n",
    "            \n",
    "    time.sleep(1)       \n",
    "    os.chdir('/home/valesco/Datasets/MLB_Data/sportevent_data/')\n",
    "    \n",
    "    sportsevent_url = 'http://www.fantasylabs.com/api/sportevents/3/' + date_str\n",
    "    \n",
    "    response = requests.get(sportsevent_url)\n",
    "    data = json.loads(response.text)\n",
    "\n",
    "    if len(data) > 2:\n",
    "        filename = date_str + '_mlb_sportevent_data.json'\n",
    "\n",
    "        with open(filename, 'w') as outfile:\n",
    "            json.dump(data, outfile)\n",
    "    \n",
    "    time.sleep(1)\n",
    "    os.chdir('/home/valesco/Datasets/MLB_Data/player_data/')\n",
    "    \n",
    "    playerdata_url = 'http://www.fantasylabs.com/api/playermodel/3/' + date_str + '/?modelId=35231'\n",
    "    \n",
    "    response = requests.get(playerdata_url)\n",
    "    data = json.loads(response.text)\n",
    "\n",
    "    if len(data) > 2:\n",
    "        filename = date_str + '_mlb_player_data.json'\n",
    "\n",
    "        with open(filename, 'w') as outfile:\n",
    "            json.dump(data, outfile)\n",
    "    \n",
    "    time.sleep(1)\n",
    "    os.chdir('/home/valesco/Datasets/MLB_Data/lineup_data/')\n",
    "    \n",
    "    lineupdata_url = 'http://www.fantasylabs.com/api/lineuptracker/3/' + date_str\n",
    "    \n",
    "    response = requests.get(lineupdata_url)\n",
    "    data = json.loads(response.text)\n",
    "\n",
    "    if len(data) > 2:\n",
    "        filename = date_str + '_mlb_lineup_data.json'\n",
    "\n",
    "        with open(filename, 'w') as outfile:\n",
    "            json.dump(data, outfile)\n",
    "    \n",
    "    time.sleep(1)\n",
    "    os.chdir('/home/valesco/Datasets/MLB_Data/news_data/')\n",
    "    \n",
    "    news_url = 'http://www.fantasylabs.com/api/players/news/3/?showAll=true'\n",
    "    \n",
    "    response = requests.get(lineupdata_url)\n",
    "    data = json.loads(response.text)\n",
    "\n",
    "    if len(data) > 2:\n",
    "        filename = date_str + '_mlb_news.json'\n",
    "\n",
    "        with open(filename, 'w') as outfile:\n",
    "            json.dump(data, outfile)\n",
    "    \n",
    "    print(date_str + ' suceeded!!')\n",
    "    time.sleep(84600)    "
   ]
  },
  {
   "cell_type": "code",
   "execution_count": null,
   "metadata": {
    "collapsed": false,
    "deletable": true,
    "editable": true
   },
   "outputs": [],
   "source": []
  },
  {
   "cell_type": "code",
   "execution_count": null,
   "metadata": {
    "collapsed": false,
    "deletable": true,
    "editable": true
   },
   "outputs": [],
   "source": []
  },
  {
   "cell_type": "code",
   "execution_count": null,
   "metadata": {
    "collapsed": true,
    "deletable": true,
    "editable": true
   },
   "outputs": [],
   "source": []
  }
 ],
 "metadata": {
  "kernelspec": {
   "display_name": "Python 3",
   "language": "python",
   "name": "python3"
  },
  "language_info": {
   "codemirror_mode": {
    "name": "ipython",
    "version": 3
   },
   "file_extension": ".py",
   "mimetype": "text/x-python",
   "name": "python",
   "nbconvert_exporter": "python",
   "pygments_lexer": "ipython3",
   "version": "3.5.0"
  }
 },
 "nbformat": 4,
 "nbformat_minor": 2
}
