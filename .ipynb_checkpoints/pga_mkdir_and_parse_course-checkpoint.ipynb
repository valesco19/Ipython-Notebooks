{
 "cells": [
  {
   "cell_type": "code",
   "execution_count": 1,
   "metadata": {
    "collapsed": false
   },
   "outputs": [],
   "source": [
    "import json\n",
    "import os\n",
    "import glob\n",
    "import pandas as pd\n",
    "import time\n",
    "import xmltodict\n",
    "import forecastio\n",
    "import datetime\n"
   ]
  },
  {
   "cell_type": "code",
   "execution_count": 6,
   "metadata": {
    "collapsed": false
   },
   "outputs": [],
   "source": [
    "failed_ls = ['018_2016', '026_2015', '027_2016', '028_2016', '033_2016', '058_2016']\n",
    "\n",
    "attempt_ls = ['060_2016']"
   ]
  },
  {
   "cell_type": "code",
   "execution_count": 7,
   "metadata": {
    "collapsed": false
   },
   "outputs": [
    {
     "name": "stdout",
     "output_type": "stream",
     "text": [
      "058_2016  failed!!\n"
     ]
    }
   ],
   "source": [
    "os.chdir('/home/valesco/Datasets/PGA_Data/PGA/')\n",
    "\n",
    "tournaments = os.walk(os.getcwd())\n",
    "\n",
    "tourny_dir = []\n",
    "\n",
    "for t in tournaments:\n",
    "    if 'PlayerScoreCards' not in t[0]:\n",
    "        tourny_dir.append(t[0])\n",
    "        \n",
    "tourny_dir = tourny_dir[1:]\n",
    "succeed_ls = []\n",
    "for i, tourny in enumerate(attempt_ls):\n",
    "    try:\n",
    "        tourny_path = '/home/valesco/Datasets/PGA_Data/PGA/' + tourny\n",
    "        os.chdir(tourny_path)\n",
    "\n",
    "        # return tournament_code plus year\n",
    "        tourny_prefix = tourny_path.replace('/home/valesco/Datasets/PGA_Data/PGA/','')\n",
    "\n",
    "\n",
    "        # load course json file\n",
    "        course_json = open(tourny_prefix + '_course.json')\n",
    "        course_data = json.load(course_json)\n",
    "\n",
    "        # load leaderboard json file\n",
    "        leaderboard_json = open(tourny_prefix + '_leaderboard-v2.json')\n",
    "        leaderboard_data = json.load(leaderboard_json)\n",
    "\n",
    "        # load money json file\n",
    "        money_json = open(tourny_prefix + '_money.json')\n",
    "        money_data = json.load(money_json)\n",
    "\n",
    "        # load player stats json file\n",
    "        stats_json = open(tourny_prefix + '_player_stats.json')\n",
    "        stats_data = json.load(stats_json)\n",
    "\n",
    "        # load playoff json file\n",
    "        playoff_json = open(tourny_prefix + '_playoff_info.json')\n",
    "        playoff_data = json.load(playoff_json)\n",
    "\n",
    "        # load teetimes json file\n",
    "        tee_json = open(tourny_prefix + '_teetimes.json')\n",
    "        tee_data = json.load(tee_json)\n",
    "\n",
    "        # load tournsum json file\n",
    "        tournsum_json = open(tourny_prefix + '_tournsum.json')\n",
    "        tournsum_data = json.load(tournsum_json)\n",
    "\n",
    "        # load course location file\n",
    "        course_loc_json = open('/home/valesco/Datasets/PGA_Data/course_locations.json')\n",
    "        course_loc_data = json.load(course_loc_json)\n",
    "\n",
    "        # load player_id to player_name\n",
    "\n",
    "        #Turn setup.xml to ordered dict to retrieve course grass type\n",
    "        with open(tourny_prefix + '_setup.xml') as fd:\n",
    "            setup_data = xmltodict.parse(fd.read())\n",
    "\n",
    "        setup2_json = open(tourny_prefix + '_setup.json')\n",
    "        setup2_data = json.load(setup2_json)\n",
    "\n",
    "        # PlayerScoreCards Directory\n",
    "        score_card_path = tourny_path + '/PlayerScoreCards/'\n",
    "\n",
    "        tournament_dict = {}\n",
    "\n",
    "        #Get tournament code, tourny, and course name\n",
    "        tourny_code = tourny_prefix.split('_')[0]\n",
    "        tourny_name = tee_data['tournament']['TournamentName']\n",
    "\n",
    "\n",
    "        tournament_dict[tourny_code] = {'tournament_name': tourny_name}\n",
    "\n",
    "        #Count number of courses played in tournament and dictate for json to use course or courses\n",
    "        num_courses = len(course_data['courses'])\n",
    "\n",
    "        if num_courses > 1:\n",
    "            course_courses = 'courses'\n",
    "        else:\n",
    "            course_courses = 'course'\n",
    "\n",
    "        #make dict of course info for each course in tournament\n",
    "        tourny_course_dict = {}\n",
    "        for e, course in enumerate(course_data['courses']):\n",
    "            tourny_course_name = course_data['courses'][e]['name']\n",
    "            tourny_par_front = tee_data['tournament']['rounds'][0]['courses'][e]['Front']\n",
    "            tourny_par_back = tee_data['tournament']['rounds'][0]['courses'][e]['Back']\n",
    "            tourny_yardage = course_data['courses'][e]['yards']\n",
    "            tourny_course_num = tournsum_data['years'][0]['tours'][0]['trns'][0]['courses'][e]['courseNum']\n",
    "            if 'stimp' in leaderboard_data['leaderboard']['courses'][e]['holes'][0]['round'][0].keys():\n",
    "                tourny_stimp = leaderboard_data['leaderboard']['courses'][e]['holes'][0]['round'][0]['stimp']\n",
    "            else:\n",
    "                tourny_stimp = 'no_stimp_reading'\n",
    "\n",
    "            try:\n",
    "                if 'grassTypes' in setup_data['trn']['courseInfo']['course'][e].keys():\n",
    "                    tourny_grass_fairway = setup_data['trn']['courseInfo']['course'][e]['grassTypes']['@fairway']\n",
    "                    tourny_grass_green = setup_data['trn']['courseInfo']['course'][e]['grassTypes']['@green']\n",
    "                    tourny_grass_rough = setup_data['trn']['courseInfo']['course'][e]['grassTypes']['@rough']\n",
    "                else:\n",
    "                    tourny_grass_fairway = 'no_grass_type'\n",
    "                    tourny_grass_green = 'no_grass_type'\n",
    "                    tourny_grass_rough = 'no_grass_type'\n",
    "\n",
    "            except:      \n",
    "                if 'grassTypes' in setup_data['trn']['courseInfo']['course'].keys():\n",
    "                    tourny_grass_fairway = setup_data['trn']['courseInfo']['course']['grassTypes']['@fairway']\n",
    "                    tourny_grass_green = setup_data['trn']['courseInfo']['course']['grassTypes']['@green']\n",
    "                    tourny_grass_rough = setup_data['trn']['courseInfo']['course']['grassTypes']['@rough']\n",
    "                else:\n",
    "                    tourny_grass_fairway = 'no_grass_type'\n",
    "                    tourny_grass_green = 'no_grass_type'\n",
    "                    tourny_grass_rough = 'no_grass_type'\n",
    "            \n",
    "            tourny_course_loc = 'no_course_loc_info'\n",
    "            for course in course_loc_data['courses']:\n",
    "                if course['courseNum'] == tourny_course_num:\n",
    "                    tourny_course_loc = course\n",
    "\n",
    "            # add field info\n",
    "            field_dict = {}\n",
    "            for s in setup2_data['trn']['field']:\n",
    "                player_id = s['id']\n",
    "                player_first_name = s['name']['first']\n",
    "                player_last_name = s['name']['last']\n",
    "                player_ytd_money_rank = s['money']['ytdRank']\n",
    "                player_current_country = s['info']['country']\n",
    "                player_country_birth = s['info']['countryOfBirth']\n",
    "                player_hometown = s['info']['hometown']\n",
    "                player_status = s['status']\n",
    "                field_dict[player_id] = {'first_name': player_first_name, 'last_name': player_last_name,\n",
    "                       'ytd_money_rank': player_ytd_money_rank, 'current_country': player_current_country, \n",
    "                       'birth_country': player_country_birth, 'hometown': player_hometown, 'playing_status': player_status}\n",
    "\n",
    "\n",
    "            # add hole x,y,z coordinates and teetimes to course information\n",
    "            tourny_hole_coords = {}  \n",
    "            tourny_tee_times = {}\n",
    "            for r in range(4):\n",
    "                try:\n",
    "                    tee_data['tournament']['rounds'][r]['courses'][e]['holes']\n",
    "                except:\n",
    "                    e = 0\n",
    "                tourny_hole_coords[r] = tee_data['tournament']['rounds'][r]['courses'][e]['holes']\n",
    "                tourny_tee_times[r] = setup2_data['trn']['rnds'][r]['courses'][e]['teetimes']\n",
    "\n",
    "            temp_dict = {'course_name': tourny_course_name, 'par_front': \\\n",
    "                tourny_par_front, 'par_back': tourny_par_back, 'course_yards': tourny_yardage,\n",
    "                'stimp': tourny_stimp, 'grass_type': {'fairway_grass': tourny_grass_fairway, 'green_grass': tourny_grass_green,\n",
    "                'rough_grass': tourny_grass_rough}, 'course_loc': tourny_course_loc, 'hole_coords': tourny_hole_coords,\n",
    "                'field': field_dict, 'tee_times': tourny_tee_times}\n",
    "\n",
    "        # set default key as list, and append all courses to the course key\n",
    "        tourny_course_dict['_num_courses'] = str(len(course_data['courses']))  \n",
    "        tourny_course_dict.setdefault('course', []).append(temp_dict)\n",
    "\n",
    "        tournament_dict[tourny_code]['course_info'] = tourny_course_dict\n",
    "\n",
    "        tourny_start_date = tee_data['tournament']['rounds'][0]['courses'][0]['segments'][0]['groups'][0]['StartDate']\n",
    "        tournament_dict[tourny_code]['start_date'] = tourny_start_date\n",
    "\n",
    "        # Add weather dictionary\n",
    "        api = 'c7c2d4dea244baeca35b91ed97364062'\n",
    "        weather_dict = {}\n",
    "        for d in range(4):\n",
    "            lat = tourny_course_loc['latitude']\n",
    "            lon = tourny_course_loc['longitude']\n",
    "            date_object = datetime.datetime.strptime(tourny_start_date, '%m/%d/%Y')\n",
    "            date_string = date_object + datetime.timedelta(days = d)\n",
    "            weather = forecastio.load_forecast(api, lat, lon, time = date_string, units = 'us')\n",
    "            hourly = weather.hourly()\n",
    "\n",
    "            temp_weather_ls = []\n",
    "            for hour in hourly.data:\n",
    "                h = hour.d\n",
    "                h['time_str'] = datetime.datetime.fromtimestamp(int(h['time'])).strftime('%m/%d/%Y %H:%M')\n",
    "                temp_weather_ls.append(h)\n",
    "\n",
    "            weather_dict[d] = temp_weather_ls\n",
    "\n",
    "        tournament_dict[tourny_code]['weather'] = weather_dict\n",
    "\n",
    "        base_path = '/home/valesco/Datasets/PGA_Data/PGA_Dir'\n",
    "        os.chdir(base_path)\n",
    "\n",
    "        make_path = base_path + '/' + tourny_prefix\n",
    "        os.mkdir(make_path)\n",
    "        os.chdir(make_path)\n",
    "\n",
    "        file_name = tourny_prefix + '_course_data.json'\n",
    "        with open(file_name, 'w') as outfile:\n",
    "            json.dump(tournament_dict, outfile)\n",
    "        \n",
    "        print(tourny_prefix, ' succeeded!!')\n",
    "        suceed_ls.append(tourny)\n",
    "    except:\n",
    "        print(tourny_prefix, ' failed!!')\n",
    "        pass"
   ]
  },
  {
   "cell_type": "code",
   "execution_count": 33,
   "metadata": {
    "collapsed": false
   },
   "outputs": [
    {
     "data": {
      "text/plain": [
       "odict_keys(['@id', '@code', '@name', '@host', '@parFront', '@parBack', '@parTotal', '@sigHole', '@record', 'grassTypes'])"
      ]
     },
     "execution_count": 33,
     "metadata": {},
     "output_type": "execute_result"
    }
   ],
   "source": [
    "setup_data['trn']['courseInfo']['course'].keys()"
   ]
  },
  {
   "cell_type": "code",
   "execution_count": 169,
   "metadata": {
    "collapsed": false
   },
   "outputs": [
    {
     "data": {
      "text/plain": [
       "OrderedDict([('@id', '005'),\n",
       "             ('@code', 'PB'),\n",
       "             ('@name', 'Pebble Beach Golf Links'),\n",
       "             ('@host', 'y'),\n",
       "             ('@parFront', '36'),\n",
       "             ('@parBack', '36'),\n",
       "             ('@parTotal', '72'),\n",
       "             ('@record', '0'),\n",
       "             ('grassTypes',\n",
       "              OrderedDict([('@fairway', 'Perennial Ryegrass/Poa Annua'),\n",
       "                           ('@green', 'Poa annua'),\n",
       "                           ('@rough', 'Perennial Ryegrass')]))])"
      ]
     },
     "execution_count": 169,
     "metadata": {},
     "output_type": "execute_result"
    }
   ],
   "source": [
    "setup_data['trn']['courseInfo']['course'][0]"
   ]
  },
  {
   "cell_type": "code",
   "execution_count": 10,
   "metadata": {
    "collapsed": false
   },
   "outputs": [
    {
     "data": {
      "text/plain": [
       "datetime.datetime(2016, 8, 18, 0, 0)"
      ]
     },
     "execution_count": 10,
     "metadata": {},
     "output_type": "execute_result"
    }
   ],
   "source": [
    "date_object"
   ]
  },
  {
   "cell_type": "code",
   "execution_count": null,
   "metadata": {
    "collapsed": true
   },
   "outputs": [],
   "source": []
  }
 ],
 "metadata": {
  "anaconda-cloud": {},
  "kernelspec": {
   "display_name": "Python [default]",
   "language": "python",
   "name": "python3"
  },
  "language_info": {
   "codemirror_mode": {
    "name": "ipython",
    "version": 3
   },
   "file_extension": ".py",
   "mimetype": "text/x-python",
   "name": "python",
   "nbconvert_exporter": "python",
   "pygments_lexer": "ipython3",
   "version": "3.5.2"
  }
 },
 "nbformat": 4,
 "nbformat_minor": 0
}
