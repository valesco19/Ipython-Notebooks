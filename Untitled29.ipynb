{
 "cells": [
  {
   "cell_type": "code",
   "execution_count": 2,
   "metadata": {
    "collapsed": false,
    "deletable": true,
    "editable": true
   },
   "outputs": [],
   "source": [
    "from airflow import DAG\n",
    "from airflow.operators.bash_operator import BashOperator\n",
    "from airflow.operators.python_operator import PythonOperator\n",
    "from datetime import datetime, timedelta\n",
    "import os"
   ]
  },
  {
   "cell_type": "code",
   "execution_count": 9,
   "metadata": {
    "collapsed": false,
    "deletable": true,
    "editable": true
   },
   "outputs": [
    {
     "name": "stderr",
     "output_type": "stream",
     "text": [
      "/home/valesco/anaconda3/lib/python3.5/site-packages/airflow/models.py:1927: PendingDeprecationWarning: Invalid arguments were passed to PythonOperator. Support for passing such arguments will be dropped in Airflow 2.0. Invalid arguments were:\n",
      "*args: ()\n",
      "**kwargs: {'xcom_push': True}\n",
      "  category=PendingDeprecationWarning\n"
     ]
    }
   ],
   "source": [
    "os.chdir('/home/valesco/Datasets/business_data/forex_data/')\n",
    "\n",
    "default_args = {\n",
    "    'owner': 'valesco',\n",
    "    'depends_on_past': False,\n",
    "    'start_date': datetime.now(), #datetime(2017, 4, 27),\n",
    "    'email': ['valesco19@gmail.com'],\n",
    "    'email_on_failure': True,\n",
    "    'email_on_success': True,\n",
    "    'email_on_retry': False,\n",
    "    'retries': 1,\n",
    "    'retry_delay': timedelta(minutes=5)\n",
    "}\n",
    "\n",
    "dag = DAG('forex_data_process', default_args = default_args, schedule_interval = timedelta(7))\n",
    "\n",
    "get_forex_data = PythonOperator(dag = dag,\n",
    "                task_id = 'retrieve_forex_rates',\n",
    "                provide_context = False,\n",
    "                python_callable = 'retrieve_forex_rates.py',\n",
    "                xcom_push = True)\n",
    "\n"
   ]
  },
  {
   "cell_type": "code",
   "execution_count": 10,
   "metadata": {
    "collapsed": false
   },
   "outputs": [
    {
     "ename": "TypeError",
     "evalue": "xcom_push() missing 3 required positional arguments: 'context', 'key', and 'value'",
     "output_type": "error",
     "traceback": [
      "\u001b[0;31m---------------------------------------------------------------------------\u001b[0m",
      "\u001b[0;31mTypeError\u001b[0m                                 Traceback (most recent call last)",
      "\u001b[0;32m<ipython-input-10-9e167bc15318>\u001b[0m in \u001b[0;36m<module>\u001b[0;34m()\u001b[0m\n\u001b[0;32m----> 1\u001b[0;31m \u001b[0mget_forex_data\u001b[0m\u001b[0;34m.\u001b[0m\u001b[0mxcom_push\u001b[0m\u001b[0;34m(\u001b[0m\u001b[0;34m)\u001b[0m\u001b[0;34m\u001b[0m\u001b[0m\n\u001b[0m",
      "\u001b[0;31mTypeError\u001b[0m: xcom_push() missing 3 required positional arguments: 'context', 'key', and 'value'"
     ]
    }
   ],
   "source": [
    "get_forex_data."
   ]
  },
  {
   "cell_type": "code",
   "execution_count": null,
   "metadata": {
    "collapsed": true
   },
   "outputs": [],
   "source": []
  }
 ],
 "metadata": {
  "kernelspec": {
   "display_name": "Python 3",
   "language": "python",
   "name": "python3"
  },
  "language_info": {
   "codemirror_mode": {
    "name": "ipython",
    "version": 3
   },
   "file_extension": ".py",
   "mimetype": "text/x-python",
   "name": "python",
   "nbconvert_exporter": "python",
   "pygments_lexer": "ipython3",
   "version": "3.5.0"
  }
 },
 "nbformat": 4,
 "nbformat_minor": 2
}
