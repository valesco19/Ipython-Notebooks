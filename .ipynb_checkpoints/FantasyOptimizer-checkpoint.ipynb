{
 "cells": [
  {
   "cell_type": "code",
   "execution_count": 1,
   "metadata": {
    "collapsed": true
   },
   "outputs": [],
   "source": [
    "from pulp import *\n",
    "import csv"
   ]
  },
  {
   "cell_type": "code",
   "execution_count": 2,
   "metadata": {
    "collapsed": false
   },
   "outputs": [],
   "source": [
    "in_file = \"D:/Datasets/basketball_data.csv\"\n",
    "reader = csv.DictReader(open(in_file, 'r'))\n",
    "d = []\n",
    "for i , row in enumerate(reader):\n",
    "    t = {k: v for k, v in row.items()}\n",
    "    t['id'] = i\n",
    "    d.append(t)"
   ]
  },
  {
   "cell_type": "code",
   "execution_count": 3,
   "metadata": {
    "collapsed": true
   },
   "outputs": [],
   "source": [
    "# Create an empty LP\n",
    "IP = LpProblem(\"Basketball Optimization\", LpMaximize)"
   ]
  },
  {
   "cell_type": "code",
   "execution_count": 4,
   "metadata": {
    "collapsed": false
   },
   "outputs": [],
   "source": [
    "# Create a list of the teams and player IDs\n",
    "teams = [i for i in range(10)]\n",
    "players = [p['id'] for p in d]"
   ]
  },
  {
   "cell_type": "code",
   "execution_count": 269,
   "metadata": {
    "collapsed": false
   },
   "outputs": [],
   "source": [
    "# Create binary decision variables for which player ends up on which team\n",
    "possible_assignments = LpVariable.dicts(\"x\", (teams, players), 0, 1, LpBinary)"
   ]
  },
  {
   "cell_type": "code",
   "execution_count": 270,
   "metadata": {
    "collapsed": false
   },
   "outputs": [],
   "source": [
    "# Add in the objective function\n",
    "IP += sum([float(p['FP']) * possible_assignments[t][p['id']] for p in d for t in teams])"
   ]
  },
  {
   "cell_type": "code",
   "execution_count": 271,
   "metadata": {
    "collapsed": false
   },
   "outputs": [],
   "source": [
    "for t in teams:\n",
    "    IP += lpSum([possible_assignments[t][p['id']] for p in d if p['Pos'] == 'C']) >= 1, 'at least one C per team '+str(t)\n",
    "    IP += lpSum([possible_assignments[t][p['id']] for p in d if p['Pos'] == 'SG']) >= 1, 'at least one SG per team '+str(t)\n",
    "    IP += lpSum([possible_assignments[t][p['id']] for p in d if p['Pos'] == 'SF']) >= 1, 'at least one SF per team '+str(t)\n",
    "    IP += lpSum([possible_assignments[t][p['id']] for p in d if p['Pos'] == 'PF']) >= 1, 'at least one PF per team '+str(t)\n",
    "    IP += lpSum([possible_assignments[t][p['id']] for p in d if p['Pos'] == 'PG']) >= 1, 'at least one PG per team '+str(t)\n",
    "    IP += lpSum([possible_assignments[t][p['id']] for p in d if p['Pos'] in ('PG', 'SG')]) >= 1, 'at least one G per team '+str(t)\n",
    "    IP += lpSum([possible_assignments[t][p['id']] for p in d if p['Pos'] in ('PF', 'SF')]) >= 1, 'at least one F per team '+str(t)\n",
    "    IP += lpSum([possible_assignments[t][p['id']] for p in d if p['Pos'] in ('PF', 'SF', 'C','SG','PG')]) >= 1, \\\n",
    "                    'at least one Util per team '+str(t)\n",
    "    IP += lpSum([possible_assignments[t][p['id']] for p in d]) == 8, '8 players per team '+str(t)\n",
    "    IP += sum([float(p['Salary']) * possible_assignments[t][p['id']] for p in d]) <= 50000"
   ]
  },
  {
   "cell_type": "code",
   "execution_count": 272,
   "metadata": {
    "collapsed": false
   },
   "outputs": [],
   "source": [
    "# Write out the LP formulation\n",
    "IP.writeLP('simple optimization.lp')"
   ]
  },
  {
   "cell_type": "code",
   "execution_count": 273,
   "metadata": {
    "collapsed": false
   },
   "outputs": [
    {
     "data": {
      "text/plain": [
       "1"
      ]
     },
     "execution_count": 273,
     "metadata": {},
     "output_type": "execute_result"
    }
   ],
   "source": [
    "# Solve the LP\n",
    "IP.solve()"
   ]
  },
  {
   "cell_type": "code",
   "execution_count": 274,
   "metadata": {
    "collapsed": false
   },
   "outputs": [
    {
     "name": "stdout",
     "output_type": "stream",
     "text": [
      "Status: Optimal\n"
     ]
    }
   ],
   "source": [
    "# Print out the LP solution statuslp\n",
    "print(\"Status:\", LpStatus[IP.status])"
   ]
  },
  {
   "cell_type": "code",
   "execution_count": 275,
   "metadata": {
    "collapsed": false
   },
   "outputs": [
    {
     "name": "stdout",
     "output_type": "stream",
     "text": [
      "The players chosen for team 1 are:\n",
      "Rudy Gobert (C) 37.2\n",
      "Derrick Favors (PF) 36.1\n",
      "Gorgui Dieng (C) 32.3\n",
      "Josh Smith (PF) 28.7\n",
      "Mike Conely (PG) 27.8\n",
      "Deron Williams (PG) 27.5\n",
      "Brad Beal (SG) 27.3\n",
      "Jeff Green (SF) 22.9\n",
      "Total Salary - 50000, Optimal Points - 239\n"
     ]
    }
   ],
   "source": [
    "# Print out some results\n",
    "print(\"The players chosen for team 1 are:\")\n",
    "\n",
    "opt_points = []\n",
    "opt_salary = []\n",
    "for p in d:\n",
    "    if possible_assignments[0][p['id']].value() == 1.0:\n",
    "        print(p['Player Name']+\" (\"+p['Pos']+') ' + p['FP'])\n",
    "        opt_points.append(float(p['FP']))\n",
    "        opt_salary.append(int(p['Salary']))\n",
    "\n",
    "print('Total Salary - %i, Optimal Points - %i' % (sum(opt_salary), sum(opt_points)))\n",
    "        "
   ]
  },
  {
   "cell_type": "code",
   "execution_count": null,
   "metadata": {
    "collapsed": false
   },
   "outputs": [],
   "source": []
  },
  {
   "cell_type": "code",
   "execution_count": null,
   "metadata": {
    "collapsed": true
   },
   "outputs": [],
   "source": []
  }
 ],
 "metadata": {
  "kernelspec": {
   "display_name": "Python 3",
   "language": "python",
   "name": "python3"
  },
  "language_info": {
   "codemirror_mode": {
    "name": "ipython",
    "version": 3
   },
   "file_extension": ".py",
   "mimetype": "text/x-python",
   "name": "python",
   "nbconvert_exporter": "python",
   "pygments_lexer": "ipython3",
   "version": "3.5.1"
  }
 },
 "nbformat": 4,
 "nbformat_minor": 0
}
