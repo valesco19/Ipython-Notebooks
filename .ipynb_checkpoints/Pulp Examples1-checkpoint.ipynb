{
 "cells": [
  {
   "cell_type": "code",
   "execution_count": 1,
   "metadata": {
    "collapsed": true
   },
   "outputs": [],
   "source": [
    "from pulp import *\n",
    "import csv\n",
    "import numpy as np\n",
    "import pandas as pd"
   ]
  },
  {
   "cell_type": "code",
   "execution_count": 4,
   "metadata": {
    "collapsed": false
   },
   "outputs": [
    {
     "ename": "KeyError",
     "evalue": "'odds'",
     "output_type": "error",
     "traceback": [
      "\u001b[1;31m---------------------------------------------------------------------------\u001b[0m",
      "\u001b[1;31mKeyError\u001b[0m                                  Traceback (most recent call last)",
      "\u001b[1;32m<ipython-input-4-0e839e44f52f>\u001b[0m in \u001b[0;36m<module>\u001b[1;34m()\u001b[0m\n\u001b[0;32m     18\u001b[0m \u001b[1;33m\u001b[0m\u001b[0m\n\u001b[0;32m     19\u001b[0m \u001b[1;31m# Add in the objective function\u001b[0m\u001b[1;33m\u001b[0m\u001b[1;33m\u001b[0m\u001b[0m\n\u001b[1;32m---> 20\u001b[1;33m \u001b[0mIP\u001b[0m \u001b[1;33m+=\u001b[0m \u001b[0msum\u001b[0m\u001b[1;33m(\u001b[0m\u001b[1;33m[\u001b[0m\u001b[0mfloat\u001b[0m\u001b[1;33m(\u001b[0m\u001b[0mplayer\u001b[0m\u001b[1;33m[\u001b[0m\u001b[1;34m'odds'\u001b[0m\u001b[1;33m]\u001b[0m\u001b[1;33m)\u001b[0m \u001b[1;33m*\u001b[0m \u001b[0mpossible_assignments\u001b[0m\u001b[1;33m[\u001b[0m\u001b[0mteam\u001b[0m\u001b[1;33m]\u001b[0m\u001b[1;33m[\u001b[0m\u001b[0mplayer\u001b[0m\u001b[1;33m[\u001b[0m\u001b[1;34m'id'\u001b[0m\u001b[1;33m]\u001b[0m\u001b[1;33m]\u001b[0m \u001b[1;32mfor\u001b[0m \u001b[0mplayer\u001b[0m \u001b[1;32min\u001b[0m \u001b[0mplayer_dict\u001b[0m \u001b[1;32mfor\u001b[0m \u001b[0mteam\u001b[0m \u001b[1;32min\u001b[0m \u001b[0mteams\u001b[0m\u001b[1;33m]\u001b[0m\u001b[1;33m)\u001b[0m\u001b[1;33m\u001b[0m\u001b[0m\n\u001b[0m\u001b[0;32m     21\u001b[0m \u001b[1;31m#IP +=\u001b[0m\u001b[1;33m\u001b[0m\u001b[1;33m\u001b[0m\u001b[0m\n\u001b[0;32m     22\u001b[0m \u001b[1;33m\u001b[0m\u001b[0m\n",
      "\u001b[1;32m<ipython-input-4-0e839e44f52f>\u001b[0m in \u001b[0;36m<listcomp>\u001b[1;34m(.0)\u001b[0m\n\u001b[0;32m     18\u001b[0m \u001b[1;33m\u001b[0m\u001b[0m\n\u001b[0;32m     19\u001b[0m \u001b[1;31m# Add in the objective function\u001b[0m\u001b[1;33m\u001b[0m\u001b[1;33m\u001b[0m\u001b[0m\n\u001b[1;32m---> 20\u001b[1;33m \u001b[0mIP\u001b[0m \u001b[1;33m+=\u001b[0m \u001b[0msum\u001b[0m\u001b[1;33m(\u001b[0m\u001b[1;33m[\u001b[0m\u001b[0mfloat\u001b[0m\u001b[1;33m(\u001b[0m\u001b[0mplayer\u001b[0m\u001b[1;33m[\u001b[0m\u001b[1;34m'odds'\u001b[0m\u001b[1;33m]\u001b[0m\u001b[1;33m)\u001b[0m \u001b[1;33m*\u001b[0m \u001b[0mpossible_assignments\u001b[0m\u001b[1;33m[\u001b[0m\u001b[0mteam\u001b[0m\u001b[1;33m]\u001b[0m\u001b[1;33m[\u001b[0m\u001b[0mplayer\u001b[0m\u001b[1;33m[\u001b[0m\u001b[1;34m'id'\u001b[0m\u001b[1;33m]\u001b[0m\u001b[1;33m]\u001b[0m \u001b[1;32mfor\u001b[0m \u001b[0mplayer\u001b[0m \u001b[1;32min\u001b[0m \u001b[0mplayer_dict\u001b[0m \u001b[1;32mfor\u001b[0m \u001b[0mteam\u001b[0m \u001b[1;32min\u001b[0m \u001b[0mteams\u001b[0m\u001b[1;33m]\u001b[0m\u001b[1;33m)\u001b[0m\u001b[1;33m\u001b[0m\u001b[0m\n\u001b[0m\u001b[0;32m     21\u001b[0m \u001b[1;31m#IP +=\u001b[0m\u001b[1;33m\u001b[0m\u001b[1;33m\u001b[0m\u001b[0m\n\u001b[0;32m     22\u001b[0m \u001b[1;33m\u001b[0m\u001b[0m\n",
      "\u001b[1;31mKeyError\u001b[0m: 'odds'"
     ]
    }
   ],
   "source": [
    "in_file = \"/home/valesco/Datasets/IpythonNotebooks/USOpenDK.csv\"\n",
    "reader = csv.DictReader(open(in_file, 'r'))\n",
    "player_dict = []\n",
    "for i , row in enumerate(reader):\n",
    "    t = {k: v for k, v in row.items()}\n",
    "    t['id'] = i\n",
    "    player_dict.append(t)\n",
    "    \n",
    "# Create an empty LP\n",
    "IP = LpProblem(\"Golf Optimization\", LpMinimize)\n",
    "\n",
    "# Create a list of the teams and player IDs\n",
    "teams = [i for i in range(10)]\n",
    "players = [player['id'] for player in player_dict]\n",
    "\n",
    "# Create binary decision variables for which player ends up on which team\n",
    "possible_assignments = LpVariable.dicts(\"x\", (teams, players), 0, 1, LpBinary)\n",
    "\n",
    "# Add in the objective function\n",
    "IP += sum([float(player['odds']) * possible_assignments[team][player['id']] for player in player_dict for team in teams])\n",
    "#IP += \n",
    "\n",
    "for team in teams:\n",
    "    IP += lpSum([possible_assignments[team][player['id']] for player in player_dict]) == 6, '6 players per team '+str(team)\n",
    "    IP += sum([float(player['Salary']) * possible_assignments[team][player['id']] for player in player_dict]) <= 50000\n",
    "    IP += sum([float(player['odds']) < 15 for player in player_dict]) > 0, '1 favorite per team'\n",
    "    #IP += lpSum([possible_assignments[t][p['id']] for p in d if p['Group'] == 'A']) == 1, '1 A per team '+str(t)\n",
    "    #IP += lpSum([possible_assignments[t][p['id']] for p in d if p['Group'] == 'B']) == 2, '2 B per team '+str(t)\n",
    "    #IP += lpSum([possible_assignments[t][p['id']] for p in d if p['Group'] == 'C']) == 3, '3 C per team '+str(t)\n",
    "    #IP += lpSum([possible_assignments[t][p['id']] for p in d if p['Group'] == 'D']) == 2, '2 D per team '+str(t)\n",
    "    \n",
    "    \n",
    "    \n",
    "    \n",
    "# Write out the LP formulation\n",
    "IP.writeLP('simple optimization.lp')"
   ]
  },
  {
   "cell_type": "code",
   "execution_count": 13,
   "metadata": {
    "collapsed": false
   },
   "outputs": [
    {
     "name": "stdout",
     "output_type": "stream",
     "text": [
      "Status: Optimal\n"
     ]
    }
   ],
   "source": [
    "# Solve the LP\n",
    "IP.solve()\n",
    "\n",
    "# Print out the LP solution status\n",
    "print(\"Status:\", LpStatus[IP.status])"
   ]
  },
  {
   "cell_type": "code",
   "execution_count": 14,
   "metadata": {
    "collapsed": false
   },
   "outputs": [
    {
     "name": "stdout",
     "output_type": "stream",
     "text": [
      "The players chosen for team 1 are:\n",
      "Phil Mickelson- odds: 25 Salary: 9300\n",
      "Henrik Stenson- odds: 33 Salary: 9100\n",
      "Matt Kuchar- odds: 40 Salary: 8500\n",
      "Brooks Koepka- odds: 50 Salary: 8100\n",
      "Matthew Fitzpatrick- odds: 66 Salary: 7300\n",
      "Daniel Berger- odds: 66 Salary: 7200\n",
      "Total Salary - 49500, Avg odds to win - 46\n"
     ]
    }
   ],
   "source": [
    "# Print out some results\n",
    "print(\"The players chosen for team 1 are:\")\n",
    "\n",
    "opt_salary = []\n",
    "opt_odds = []\n",
    "for player in player_dict:\n",
    "    if possible_assignments[1][player['id']].value() == 1.0:\n",
    "        print(player['player']+ '- odds: ' + player['odds'] + ' Salary: ' + player['Salary'])\n",
    "        opt_odds.append(float(player['odds']))\n",
    "        opt_salary.append(int(player['Salary']))\n",
    "\n",
    "print('Total Salary - %i, Avg odds to win - %i' % (sum(opt_salary), np.mean(opt_odds)))\n",
    "        "
   ]
  },
  {
   "cell_type": "code",
   "execution_count": 5,
   "metadata": {
    "collapsed": true
   },
   "outputs": [],
   "source": [
    "#Cat food simplified Model\n",
    "#Create the problem variable to contain the problem data\n",
    "prob = LpProblem('The Whiskas Problem', LpMinimize)\n",
    "\n",
    "#Create 2 variables Beef and Chicken with lower limit of 0\n",
    "x1 = LpVariable('Chick Percent', 0, None, LpInteger)\n",
    "x2 = LpVariable('Beef Percent', 0)\n",
    "\n",
    "#Create the objective of the optimization\n",
    "prob += 0.013 * x1 + 0.008 * x2, \"Total Cost of Ingredients per can\"\n",
    "\n",
    "#Create 5 constraints\n",
    "prob += x1 + x2 == 100, 'Percentage Sum'\n",
    "prob += 0.100 * x1 + 0.200 * x2 >= 8.0, 'Protein Requirement'\n",
    "prob += 0.080 * x1 + 0.100 * x2 >= 6.0, 'Fat Requirement'\n",
    "prob += 0.001 * x1 + 0.005 * x2 <= 2.0, 'Fiber Requirement'\n",
    "prob += 0.002 * x1 + 0.005 * x2 <= 0.4, 'Salt Rquirement'"
   ]
  },
  {
   "cell_type": "code",
   "execution_count": 6,
   "metadata": {
    "collapsed": false
   },
   "outputs": [
    {
     "name": "stdout",
     "output_type": "stream",
     "text": [
      "Status:  Optimal\n"
     ]
    }
   ],
   "source": [
    "# Solve problem\n",
    "prob.solve()\n",
    "print('Status: ', LpStatus[prob.status])"
   ]
  },
  {
   "cell_type": "code",
   "execution_count": 7,
   "metadata": {
    "collapsed": false
   },
   "outputs": [
    {
     "name": "stdout",
     "output_type": "stream",
     "text": [
      "Beef_Percent  =  66.0\n",
      "Chick_Percent  =  34.0\n"
     ]
    }
   ],
   "source": [
    "for v in prob.variables():\n",
    "    print(v.name, ' = ', v.varValue)"
   ]
  },
  {
   "cell_type": "code",
   "execution_count": 8,
   "metadata": {
    "collapsed": false
   },
   "outputs": [
    {
     "name": "stdout",
     "output_type": "stream",
     "text": [
      "Total Cost of Ingredients per can =  0.97\n"
     ]
    }
   ],
   "source": [
    "# The optimized objective function value is printed to the screen\n",
    "print('Total Cost of Ingredients per can = ', value(prob.objective))"
   ]
  },
  {
   "cell_type": "code",
   "execution_count": 9,
   "metadata": {
    "collapsed": true
   },
   "outputs": [],
   "source": [
    "#Cat food full version\n",
    "# Create a list of ingredients\n",
    "Ingredients = ['Chicken', 'Beef', 'Mutton', 'Rice', 'Wheat', 'Gel']\n",
    "\n",
    "# Dict of the cost of each ingredient\n",
    "costs = {'Chicken': 0.013,\n",
    "         'Beef': 0.008,\n",
    "         'Mutton': 0.010,\n",
    "         'Rice': 0.002,\n",
    "         'Wheat': 0.005,\n",
    "         'Gel': 0.001}\n",
    "\n",
    "# Dict of protein percent\n",
    "proteinPercent = {'Chicken': 0.100,\n",
    "                  'Beef': 0.200,\n",
    "                  'Mutton': 0.150,\n",
    "                  'Rice': 0.000,\n",
    "                  'Wheat': 0.040,\n",
    "                  'Gel': 0.000}\n",
    "\n",
    "# A dictionary of the fat percent\n",
    "fatPercent = {'Chicken': 0.080,\n",
    "              'Beef': 0.100,\n",
    "              'Mutton': 0.110,\n",
    "              'Rice': 0.010,\n",
    "              'Wheat': 0.010,\n",
    "              'Gel': 0.000}\n",
    "\n",
    "# Dict of fiber\n",
    "fiberPercent = {'Chicken': 0.001,\n",
    "                'Beef': 0.005,\n",
    "                'Mutton': 0.003,\n",
    "                'Rice': 0.100,\n",
    "                'Wheat': 0.150,\n",
    "                'Gel': 0.000}\n",
    "\n",
    "# Dict of salt percent\n",
    "saltPercent = {'Chicken': 0.002,\n",
    "               'Beef': 0.005,\n",
    "               'Mutton': 0.007,\n",
    "               'Rice': 0.002,\n",
    "               'Wheat': 0.008,\n",
    "               'Gel': 0.000}"
   ]
  },
  {
   "cell_type": "code",
   "execution_count": 10,
   "metadata": {
    "collapsed": false
   },
   "outputs": [],
   "source": [
    "# Create the 'prob' variable to contain the problem data\n",
    "prob = LpProblem('The Whiskas Problem', LpMinimize)\n",
    "\n",
    "# Dict called ingredient vars to contain reference variables\n",
    "ingredient_vars = LpVariable.dicts(\"Ingr\",Ingredients,0)\n",
    "\n",
    "# The objective funct is added to prob first\n",
    "prob += lpSum([costs[i] * ingredient_vars[i] for i in Ingredients]), 'Total Cost of Ingredients per can'\n",
    "\n",
    "# The five constraints are added to 'prob'\n",
    "prob += lpSum([ingredient_vars[i] for i in Ingredients]) == 100, \"PercentagesSum\"\n",
    "prob += lpSum([proteinPercent[i] * ingredient_vars[i] for i in Ingredients]) >= 8.0, \"ProteinRequirement\"\n",
    "prob += lpSum([fatPercent[i] * ingredient_vars[i] for i in Ingredients]) >= 6.0, \"FatRequirement\"\n",
    "prob += lpSum([fiberPercent[i] * ingredient_vars[i] for i in Ingredients]) <= 2.0, \"FibreRequirement\"\n",
    "prob += lpSum([saltPercent[i] * ingredient_vars[i] for i in Ingredients]) <= 0.4, \"SaltRequirement\""
   ]
  },
  {
   "cell_type": "code",
   "execution_count": 11,
   "metadata": {
    "collapsed": false
   },
   "outputs": [
    {
     "name": "stdout",
     "output_type": "stream",
     "text": [
      "Status:  Optimal\n"
     ]
    }
   ],
   "source": [
    "# Solve problem\n",
    "prob.solve()\n",
    "print('Status: ', LpStatus[prob.status])"
   ]
  },
  {
   "cell_type": "code",
   "execution_count": 12,
   "metadata": {
    "collapsed": false
   },
   "outputs": [
    {
     "name": "stdout",
     "output_type": "stream",
     "text": [
      "Ingr_Beef  =  60.0\n",
      "Ingr_Chicken  =  0.0\n",
      "Ingr_Gel  =  40.0\n",
      "Ingr_Mutton  =  0.0\n",
      "Ingr_Rice  =  0.0\n",
      "Ingr_Wheat  =  0.0\n"
     ]
    }
   ],
   "source": [
    "for v in prob.variables():\n",
    "    print(v.name, ' = ', v.varValue)"
   ]
  },
  {
   "cell_type": "code",
   "execution_count": 13,
   "metadata": {
    "collapsed": false
   },
   "outputs": [
    {
     "name": "stdout",
     "output_type": "stream",
     "text": [
      "Total Cost of Ingredients per can =  0.52\n"
     ]
    }
   ],
   "source": [
    "# The optimized objective function value is printed to the screen\n",
    "print('Total Cost of Ingredients per can = ', value(prob.objective))"
   ]
  },
  {
   "cell_type": "code",
   "execution_count": 17,
   "metadata": {
    "collapsed": true
   },
   "outputs": [],
   "source": [
    "in_file = \"D:/Datasets/USOpenDK.csv\"\n",
    "reader = csv.DictReader(open(in_file, 'r'))\n",
    "player_dict = []\n",
    "for i , row in enumerate(reader):\n",
    "    team = {k: v for k, v in row.items()}\n",
    "    team['id'] = i\n",
    "    player_dict.append(team)\n",
    "    "
   ]
  },
  {
   "cell_type": "code",
   "execution_count": 33,
   "metadata": {
    "collapsed": false
   },
   "outputs": [],
   "source": [
    "teams = [i for i in range(10)]\n",
    "players = [player['id'] for player in player_dict]\n",
    "\n",
    "\n",
    "golf = LpProblem('Masters', LpMinimize)\n",
    "\n",
    "possible_assignments = LpVariable.dicts(\"possible\", (teams, players), 0, 1, LpBinary)\n",
    "\n",
    "#objective\n",
    "golf += sum([float(player['Odds']) * possible_assignments[team][player['id']] for player in player_dict for team in teams])\n",
    "\n",
    "for team in teams:\n",
    "    golf += lpSum([possible_assignments[team][player['id']] for player in player_dict]) == 6, '6 players per team '+str(team)\n",
    "    golf += sum([float(player['Salary']) * possible_assignments[team][player['id']] for player in player_dict]) <= 50000\n",
    "    golf += lpSum([possible_assignments[team][player['id']] for player in player_dict if float(player['Odds']) < 15]) >= 1\n",
    "    #golf += lpSum([possible_assignments[team][player['id']] for player in player_dict if float(player['Odds']) < 20]) >= 2\n",
    "    golf += lpSum([possible_assignments[team][player['id']] for player in player_dict if player['Name'] == 'Danny Lee']) == 1\n",
    "    #golf += lpSum([possible_assignments[team][player['id']] for player in player_dict if player['Name'] == 'Zach Johnson']) == 0"
   ]
  },
  {
   "cell_type": "code",
   "execution_count": 34,
   "metadata": {
    "collapsed": false,
    "scrolled": true
   },
   "outputs": [
    {
     "name": "stdout",
     "output_type": "stream",
     "text": [
      "Status:  Optimal\n"
     ]
    }
   ],
   "source": [
    "golf.writeLP('masters_optimization.lp')\n",
    "golf.solve()\n",
    "print('Status: ', LpStatus[golf.status])\n"
   ]
  },
  {
   "cell_type": "code",
   "execution_count": 35,
   "metadata": {
    "collapsed": false
   },
   "outputs": [
    {
     "name": "stdout",
     "output_type": "stream",
     "text": [
      "The players chosen for team 1 are:\n",
      "Dustin Johnson- odds: 14 Salary: 11000\n",
      "Henrik Stenson- odds: 33 Salary: 9100\n",
      "Matt Kuchar- odds: 40 Salary: 8500\n",
      "Matthew Fitzpatrick- odds: 66 Salary: 7300\n",
      "Daniel Berger- odds: 66 Salary: 7200\n",
      "Danny Lee- odds: 125 Salary: 6800\n",
      "Total Salary - 49900, Avg odds to win - 57\n"
     ]
    }
   ],
   "source": [
    "# Print out some results\n",
    "print(\"The players chosen for team 1 are:\")\n",
    "\n",
    "opt_salary = []\n",
    "opt_odds = []\n",
    "for player in player_dict:\n",
    "    if possible_assignments[1][player['id']].value() == 1.0:\n",
    "        print(player['Name']+ '- odds: ' + player['Odds'] + ' Salary: ' + player['Salary'])\n",
    "        opt_odds.append(float(player['Odds']))\n",
    "        opt_salary.append(int(player['Salary']))\n",
    "\n",
    "print('Total Salary - %i, Avg odds to win - %i' % (sum(opt_salary), np.mean(opt_odds)))\n",
    "        "
   ]
  },
  {
   "cell_type": "code",
   "execution_count": null,
   "metadata": {
    "collapsed": false
   },
   "outputs": [],
   "source": []
  },
  {
   "cell_type": "code",
   "execution_count": null,
   "metadata": {
    "collapsed": true
   },
   "outputs": [],
   "source": []
  },
  {
   "cell_type": "code",
   "execution_count": null,
   "metadata": {
    "collapsed": true
   },
   "outputs": [],
   "source": []
  }
 ],
 "metadata": {
  "kernelspec": {
   "display_name": "Python 3",
   "language": "python",
   "name": "python3"
  },
  "language_info": {
   "codemirror_mode": {
    "name": "ipython",
    "version": 3
   },
   "file_extension": ".py",
   "mimetype": "text/x-python",
   "name": "python",
   "nbconvert_exporter": "python",
   "pygments_lexer": "ipython3",
   "version": "3.5.1"
  }
 },
 "nbformat": 4,
 "nbformat_minor": 0
}
