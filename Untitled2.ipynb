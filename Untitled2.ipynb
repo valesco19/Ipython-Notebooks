{
 "cells": [
  {
   "cell_type": "code",
   "execution_count": 35,
   "metadata": {
    "collapsed": true
   },
   "outputs": [],
   "source": [
    "import json\n",
    "import os\n",
    "import glob\n",
    "import pandas as pd\n",
    "import time\n",
    "import datetime\n",
    "import forecastio\n",
    "import pytz\n",
    "from tzwhere import tzwhere\n",
    "from pytz import timezone"
   ]
  },
  {
   "cell_type": "code",
   "execution_count": 6,
   "metadata": {
    "collapsed": true
   },
   "outputs": [],
   "source": [
    "os.chdir('/home/valesco/Datasets/PGA_Data/PGA/')"
   ]
  },
  {
   "cell_type": "code",
   "execution_count": 7,
   "metadata": {
    "collapsed": false
   },
   "outputs": [],
   "source": [
    "api = 'c7c2d4dea244baeca35b91ed97364062'\n",
    "lat = 32.136138\n",
    "long = -80.808495\n",
    "date = datetime.datetime(2015,4,16)"
   ]
  },
  {
   "cell_type": "code",
   "execution_count": 8,
   "metadata": {
    "collapsed": true
   },
   "outputs": [],
   "source": [
    "weather = forecastio.load_forecast(api, lat, long, time = date, units = 'us')"
   ]
  },
  {
   "cell_type": "code",
   "execution_count": 58,
   "metadata": {
    "collapsed": false
   },
   "outputs": [
    {
     "name": "stdout",
     "output_type": "stream",
     "text": [
      "2015-04-16 08:00\n"
     ]
    }
   ],
   "source": [
    "hourly = weather.hourly()\n",
    "hour = hourly.data[9].d\n",
    "\n",
    "time_string = '05/15/2015'\n",
    "\n",
    "date_object = datetime.datetime.strptime(time_string, '%m/%d/%Y')\n",
    "\n",
    "print(datetime.datetime.fromtimestamp(int(hour['time'])).strftime(\\\n",
    "        '%Y-%m-%d %H:%M'))\n",
    "    \n"
   ]
  },
  {
   "cell_type": "code",
   "execution_count": 55,
   "metadata": {
    "collapsed": false
   },
   "outputs": [
    {
     "data": {
      "text/plain": [
       "'05/15/2015'"
      ]
     },
     "execution_count": 55,
     "metadata": {},
     "output_type": "execute_result"
    }
   ],
   "source": [
    "datetime.datetime.strftime(date_object, '%m/%d/%Y')"
   ]
  },
  {
   "cell_type": "code",
   "execution_count": 63,
   "metadata": {
    "collapsed": false
   },
   "outputs": [
    {
     "name": "stdout",
     "output_type": "stream",
     "text": [
      "{'precipIntensity': 0, 'apparentTemperature': 66.81, 'time_str': '04/15/2015', 'temperature': 66.81, 'icon': 'clear-night', 'windBearing': 35, 'precipProbability': 0, 'summary': 'Clear', 'pressure': 1020.84, 'time': 1429156800, 'windSpeed': 13.14, 'dewPoint': 66.22, 'humidity': 0.98, 'visibility': 10}\n",
      "{'precipIntensity': 0, 'apparentTemperature': 64.83, 'time_str': '04/16/2015', 'temperature': 64.83, 'icon': 'clear-night', 'windBearing': 41, 'precipProbability': 0, 'summary': 'Clear', 'pressure': 1021.31, 'time': 1429160400, 'windSpeed': 12.63, 'dewPoint': 63.06, 'humidity': 0.94, 'visibility': 10}\n",
      "{'precipIntensity': 0, 'apparentTemperature': 63.91, 'time_str': '04/16/2015', 'temperature': 63.91, 'icon': 'cloudy', 'cloudCover': 1, 'windBearing': 33, 'precipProbability': 0, 'summary': 'Overcast', 'pressure': 1021.28, 'time': 1429164000, 'windSpeed': 10.68, 'dewPoint': 62.15, 'humidity': 0.94, 'visibility': 9.1}\n",
      "{'precipIntensity': 0, 'apparentTemperature': 63.23, 'time_str': '04/16/2015', 'temperature': 63.23, 'icon': 'clear-night', 'windBearing': 34, 'precipProbability': 0, 'summary': 'Clear', 'pressure': 1021.07, 'time': 1429167600, 'windSpeed': 10.26, 'dewPoint': 61.27, 'humidity': 0.93, 'visibility': 10}\n",
      "{'precipIntensity': 0, 'apparentTemperature': 62, 'time_str': '04/16/2015', 'temperature': 62, 'icon': 'clear-night', 'windBearing': 27, 'precipProbability': 0, 'summary': 'Clear', 'pressure': 1020.39, 'time': 1429171200, 'windSpeed': 11.51, 'dewPoint': 58.81, 'humidity': 0.89, 'visibility': 10}\n",
      "{'precipIntensity': 0, 'apparentTemperature': 62, 'time_str': '04/16/2015', 'temperature': 62, 'icon': 'partly-cloudy-night', 'cloudCover': 0.31, 'windBearing': 21, 'precipProbability': 0, 'summary': 'Partly Cloudy', 'pressure': 1021.07, 'time': 1429174800, 'windSpeed': 10.24, 'dewPoint': 58.52, 'humidity': 0.88, 'visibility': 10}\n",
      "{'precipIntensity': 0, 'apparentTemperature': 61.5, 'time_str': '04/16/2015', 'temperature': 61.5, 'icon': 'clear-night', 'windBearing': 9, 'precipProbability': 0, 'summary': 'Clear', 'pressure': 1021.28, 'time': 1429178400, 'windSpeed': 11.08, 'dewPoint': 58.22, 'humidity': 0.89, 'visibility': 10}\n",
      "{'precipIntensity': 0, 'apparentTemperature': 63.44, 'time_str': '04/16/2015', 'temperature': 63.44, 'icon': 'clear-day', 'windBearing': 11, 'precipProbability': 0, 'summary': 'Clear', 'pressure': 1021.8, 'time': 1429182000, 'windSpeed': 11.92, 'dewPoint': 60.52, 'humidity': 0.9, 'visibility': 10}\n",
      "{'precipIntensity': 0, 'apparentTemperature': 60.58, 'time_str': '04/16/2015', 'temperature': 60.58, 'icon': 'cloudy', 'cloudCover': 1, 'windBearing': 7, 'precipProbability': 0, 'summary': 'Overcast', 'pressure': 1022.72, 'time': 1429185600, 'windSpeed': 11.37, 'dewPoint': 58.57, 'humidity': 0.93, 'visibility': 10}\n",
      "{'precipIntensity': 0, 'apparentTemperature': 60.74, 'time_str': '04/16/2015', 'temperature': 60.74, 'icon': 'clear-day', 'windBearing': 2, 'precipProbability': 0, 'summary': 'Clear', 'pressure': 1022.68, 'time': 1429189200, 'windSpeed': 10.88, 'dewPoint': 57.47, 'humidity': 0.89, 'visibility': 10}\n",
      "{'precipIntensity': 0, 'apparentTemperature': 60.39, 'time_str': '04/16/2015', 'temperature': 60.39, 'icon': 'clear-day', 'windBearing': 2, 'precipProbability': 0, 'summary': 'Clear', 'pressure': 1023.51, 'time': 1429192800, 'windSpeed': 13.2, 'dewPoint': 56.93, 'humidity': 0.88, 'visibility': 10}\n",
      "{'precipIntensity': 0, 'apparentTemperature': 58.61, 'time_str': '04/16/2015', 'temperature': 58.61, 'icon': 'clear-day', 'windBearing': 8, 'precipProbability': 0, 'summary': 'Clear', 'pressure': 1023.17, 'time': 1429196400, 'windSpeed': 12.9, 'dewPoint': 56.23, 'humidity': 0.92, 'visibility': 10}\n",
      "{'precipIntensity': 0, 'apparentTemperature': 58.41, 'time_str': '04/16/2015', 'temperature': 58.41, 'icon': 'clear-day', 'windBearing': 356, 'precipProbability': 0, 'summary': 'Clear', 'pressure': 1023.38, 'time': 1429200000, 'windSpeed': 11.38, 'dewPoint': 56.03, 'humidity': 0.92, 'visibility': 10}\n",
      "{'precipIntensity': 0, 'apparentTemperature': 59.48, 'time_str': '04/16/2015', 'temperature': 59.48, 'icon': 'clear-day', 'windBearing': 352, 'precipProbability': 0, 'summary': 'Clear', 'pressure': 1022.91, 'time': 1429203600, 'windSpeed': 12.69, 'dewPoint': 55.06, 'humidity': 0.85, 'visibility': 10}\n",
      "{'precipIntensity': 0, 'apparentTemperature': 59.91, 'time_str': '04/16/2015', 'temperature': 59.91, 'icon': 'cloudy', 'cloudCover': 1, 'windBearing': 354, 'precipProbability': 0, 'summary': 'Overcast', 'pressure': 1022.72, 'time': 1429207200, 'windSpeed': 10.38, 'dewPoint': 55.45, 'humidity': 0.85, 'visibility': 10}\n",
      "{'precipIntensity': 0, 'apparentTemperature': 61.93, 'time_str': '04/16/2015', 'temperature': 61.93, 'icon': 'clear-day', 'windBearing': 340, 'precipProbability': 0, 'summary': 'Clear', 'pressure': 1021.93, 'time': 1429210800, 'windSpeed': 11.12, 'dewPoint': 56.97, 'humidity': 0.84, 'visibility': 10}\n",
      "{'precipIntensity': 0, 'apparentTemperature': 63.02, 'time_str': '04/16/2015', 'temperature': 63.02, 'icon': 'clear-day', 'windBearing': 341, 'precipProbability': 0, 'summary': 'Clear', 'pressure': 1021.42, 'time': 1429214400, 'windSpeed': 11.3, 'dewPoint': 56.88, 'humidity': 0.8, 'visibility': 10}\n",
      "{'precipIntensity': 0, 'apparentTemperature': 62.59, 'time_str': '04/16/2015', 'temperature': 62.59, 'icon': 'clear-day', 'windBearing': 344, 'precipProbability': 0, 'summary': 'Clear', 'pressure': 1021.17, 'time': 1429218000, 'windSpeed': 12.55, 'dewPoint': 56.7, 'humidity': 0.81, 'visibility': 10}\n",
      "{'precipIntensity': 0, 'apparentTemperature': 60.89, 'time_str': '04/16/2015', 'temperature': 60.89, 'icon': 'clear-day', 'windBearing': 346, 'precipProbability': 0, 'summary': 'Clear', 'pressure': 1021.4, 'time': 1429221600, 'windSpeed': 12.41, 'dewPoint': 56.73, 'humidity': 0.86, 'visibility': 7.17}\n",
      "{'precipIntensity': 0, 'apparentTemperature': 60.09, 'time_str': '04/16/2015', 'temperature': 60.09, 'icon': 'clear-day', 'windBearing': 341, 'precipProbability': 0, 'summary': 'Clear', 'pressure': 1021.19, 'time': 1429225200, 'windSpeed': 10.65, 'dewPoint': 56.38, 'humidity': 0.88, 'visibility': 7.17}\n",
      "{'precipIntensity': 0, 'apparentTemperature': 59.95, 'time_str': '04/16/2015', 'temperature': 59.95, 'icon': 'cloudy', 'cloudCover': 1, 'windBearing': 353, 'precipProbability': 0, 'summary': 'Overcast', 'pressure': 1021.21, 'time': 1429228800, 'windSpeed': 11.97, 'dewPoint': 56.51, 'humidity': 0.88, 'visibility': 10}\n",
      "{'precipIntensity': 0, 'apparentTemperature': 59.95, 'time_str': '04/16/2015', 'temperature': 59.95, 'icon': 'clear-night', 'windBearing': 346, 'precipProbability': 0, 'summary': 'Clear', 'pressure': 1021.68, 'time': 1429232400, 'windSpeed': 11.66, 'dewPoint': 56.51, 'humidity': 0.88, 'visibility': 10}\n",
      "{'precipIntensity': 0, 'apparentTemperature': 59.82, 'time_str': '04/16/2015', 'temperature': 59.82, 'icon': 'clear-night', 'windBearing': 346, 'precipProbability': 0, 'summary': 'Clear', 'pressure': 1021.76, 'time': 1429236000, 'windSpeed': 10.18, 'dewPoint': 56.78, 'humidity': 0.9, 'visibility': 10}\n",
      "{'precipIntensity': 0, 'apparentTemperature': 59.95, 'time_str': '04/16/2015', 'temperature': 59.95, 'icon': 'clear-night', 'windBearing': 340, 'precipProbability': 0, 'summary': 'Clear', 'pressure': 1021.54, 'time': 1429239600, 'windSpeed': 10.48, 'dewPoint': 57.55, 'humidity': 0.92, 'visibility': 10}\n"
     ]
    }
   ],
   "source": [
    "for h in hourly.data:\n",
    "    hour = h.d\n",
    "    hour['time_str'] = datetime.datetime.fromtimestamp(int(hour['time'])).strftime('%m/%d/%Y')\n",
    "    print(hour)"
   ]
  },
  {
   "cell_type": "code",
   "execution_count": 18,
   "metadata": {
    "collapsed": true
   },
   "outputs": [],
   "source": [
    "course_loc_json = open('/home/valesco/Datasets/PGA_Data/courselocations.json')\n",
    "course_loc_data = json.load(course_loc_json)"
   ]
  },
  {
   "cell_type": "code",
   "execution_count": 21,
   "metadata": {
    "collapsed": false
   },
   "outputs": [],
   "source": [
    "course = course_loc_data['courses'][1]"
   ]
  },
  {
   "cell_type": "code",
   "execution_count": 23,
   "metadata": {
    "collapsed": false
   },
   "outputs": [
    {
     "data": {
      "text/plain": [
       "dict_keys(['name', 'latitude', 'courseNum', 'state', 'longitude', 'country', 'city'])"
      ]
     },
     "execution_count": 23,
     "metadata": {},
     "output_type": "execute_result"
    }
   ],
   "source": [
    "course.keys()"
   ]
  },
  {
   "cell_type": "code",
   "execution_count": 38,
   "metadata": {
    "collapsed": false
   },
   "outputs": [],
   "source": [
    "for course in course_loc_data['courses']:\n",
    "    lat = float(course['latitude'])\n",
    "    long = float(course['longitude'])\n",
    "\n",
    "    tz = tzwhere.tzwhere()\n",
    "    time_zone = tz.tzNameAt(lat, long)\n",
    "    course['timezone'] = time_zone"
   ]
  },
  {
   "cell_type": "code",
   "execution_count": 40,
   "metadata": {
    "collapsed": false
   },
   "outputs": [],
   "source": [
    "with open('/home/valesco/Datasets/PGA_Data/course_locations.json', 'w') as outfile:\n",
    "    json.dump(course_loc_data, outfile)"
   ]
  },
  {
   "cell_type": "code",
   "execution_count": 41,
   "metadata": {
    "collapsed": false
   },
   "outputs": [
    {
     "name": "stdout",
     "output_type": "stream",
     "text": [
      "0\n",
      "1\n",
      "2\n",
      "3\n"
     ]
    }
   ],
   "source": [
    "for r in range(4):\n",
    "    print(r)"
   ]
  },
  {
   "cell_type": "code",
   "execution_count": null,
   "metadata": {
    "collapsed": true
   },
   "outputs": [],
   "source": []
  }
 ],
 "metadata": {
  "kernelspec": {
   "display_name": "Python 3",
   "language": "python",
   "name": "python3"
  },
  "language_info": {
   "codemirror_mode": {
    "name": "ipython",
    "version": 3
   },
   "file_extension": ".py",
   "mimetype": "text/x-python",
   "name": "python",
   "nbconvert_exporter": "python",
   "pygments_lexer": "ipython3",
   "version": "3.5.1"
  }
 },
 "nbformat": 4,
 "nbformat_minor": 0
}
