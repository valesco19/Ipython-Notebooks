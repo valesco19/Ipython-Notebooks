{
 "cells": [
  {
   "cell_type": "code",
   "execution_count": 6,
   "metadata": {
    "collapsed": true,
    "deletable": true,
    "editable": true
   },
   "outputs": [],
   "source": [
    "import json\n",
    "import os\n",
    "import glob\n",
    "import pandas as pd\n",
    "from tqdm import tqdm\n",
    "import datetime\n",
    "import numpy as np\n",
    "from glob import glob\n",
    "os.chdir('/home/valesco/Datasets/PGA_Data/PGA/')\n",
    "\n",
    "pd.set_option('display.max_rows', 50)\n",
    "pd.set_option('display.max_columns', 100)"
   ]
  },
  {
   "cell_type": "code",
   "execution_count": 13,
   "metadata": {
    "collapsed": false,
    "deletable": true,
    "editable": true
   },
   "outputs": [
    {
     "data": {
      "text/plain": [
       "15"
      ]
     },
     "execution_count": 13,
     "metadata": {},
     "output_type": "execute_result"
    }
   ],
   "source": [
    "len(succeed_ls)"
   ]
  },
  {
   "cell_type": "code",
   "execution_count": 32,
   "metadata": {
    "collapsed": false,
    "deletable": true,
    "editable": true,
    "scrolled": true
   },
   "outputs": [
    {
     "name": "stderr",
     "output_type": "stream",
     "text": [
      "\n",
      "  0%|          | 0/11 [00:00<?, ?it/s]\u001b[A\n",
      "  9%|▉         | 1/11 [00:00<00:05,  1.85it/s]"
     ]
    },
    {
     "name": "stdout",
     "output_type": "stream",
     "text": [
      "005_2014 succeeded!!\n"
     ]
    },
    {
     "name": "stderr",
     "output_type": "stream",
     "text": [
      "\u001b[A\n",
      " 18%|█▊        | 2/11 [00:01<00:04,  1.85it/s]"
     ]
    },
    {
     "name": "stdout",
     "output_type": "stream",
     "text": [
      "476_2015 succeeded!!\n"
     ]
    },
    {
     "name": "stderr",
     "output_type": "stream",
     "text": [
      "\u001b[A\n",
      " 27%|██▋       | 3/11 [00:01<00:04,  1.89it/s]"
     ]
    },
    {
     "name": "stdout",
     "output_type": "stream",
     "text": [
      "021_2015 succeeded!!\n"
     ]
    },
    {
     "name": "stderr",
     "output_type": "stream",
     "text": [
      "\u001b[A\n",
      " 36%|███▋      | 4/11 [00:02<00:03,  1.87it/s]"
     ]
    },
    {
     "name": "stdout",
     "output_type": "stream",
     "text": [
      "013_2015 succeeded!!\n"
     ]
    },
    {
     "name": "stderr",
     "output_type": "stream",
     "text": [
      "\u001b[A\n",
      " 45%|████▌     | 5/11 [00:02<00:03,  1.89it/s]"
     ]
    },
    {
     "name": "stdout",
     "output_type": "stream",
     "text": [
      "021_2014 succeeded!!\n"
     ]
    },
    {
     "name": "stderr",
     "output_type": "stream",
     "text": [
      "\u001b[A\n",
      " 55%|█████▍    | 6/11 [00:03<00:02,  1.80it/s]"
     ]
    },
    {
     "name": "stdout",
     "output_type": "stream",
     "text": [
      "002_2016 succeeded!!\n"
     ]
    },
    {
     "name": "stderr",
     "output_type": "stream",
     "text": [
      "\u001b[A\n",
      " 64%|██████▎   | 7/11 [00:03<00:02,  1.78it/s]"
     ]
    },
    {
     "name": "stdout",
     "output_type": "stream",
     "text": [
      "490_2015 succeeded!!\n"
     ]
    },
    {
     "name": "stderr",
     "output_type": "stream",
     "text": [
      "\u001b[A\n",
      " 73%|███████▎  | 8/11 [00:04<00:01,  1.74it/s]"
     ]
    },
    {
     "name": "stdout",
     "output_type": "stream",
     "text": [
      "009_2014 succeeded!!\n"
     ]
    },
    {
     "name": "stderr",
     "output_type": "stream",
     "text": [
      "\u001b[A\n",
      " 82%|████████▏ | 9/11 [00:05<00:01,  1.68it/s]"
     ]
    },
    {
     "name": "stdout",
     "output_type": "stream",
     "text": [
      "021_2016 succeeded!!\n"
     ]
    },
    {
     "name": "stderr",
     "output_type": "stream",
     "text": [
      "\u001b[A\n",
      " 91%|█████████ | 10/11 [00:05<00:00,  1.71it/s]"
     ]
    },
    {
     "name": "stdout",
     "output_type": "stream",
     "text": [
      "060_2014 succeeded!!\n"
     ]
    },
    {
     "name": "stderr",
     "output_type": "stream",
     "text": [
      "\u001b[A\n",
      "100%|██████████| 11/11 [00:06<00:00,  1.71it/s]"
     ]
    },
    {
     "name": "stdout",
     "output_type": "stream",
     "text": [
      "027_2014 succeeded!!\n"
     ]
    },
    {
     "name": "stderr",
     "output_type": "stream",
     "text": [
      "\u001b[A\n",
      "\u001b[A"
     ]
    }
   ],
   "source": [
    "os.chdir('/home/valesco/Datasets/PGA_Data/PGA_Dir/')\n",
    "folder_ls = glob('*')\n",
    "\n",
    "succeed_ls = []\n",
    "\n",
    "for folder in folder_ls:\n",
    "    os.chdir('/home/valesco/Datasets/PGA_Data/PGA_Dir/' + folder)\n",
    "    \n",
    "    temp_dir = glob('*')\n",
    "    \n",
    "    temp_count = 0\n",
    "    for file in temp_dir:\n",
    "        if 'weather.csv' in file:\n",
    "            temp_count += 1\n",
    "            \n",
    "    if temp_count == 0: \n",
    "        succeed_ls.append(folder)\n",
    "\n",
    "os.chdir('/home/valesco/Datasets/PGA_Data/PGA_Dir/')\n",
    "        \n",
    "tournament_info_df = pd.DataFrame(columns = ['tournament_id', 'tournament_num', 'tournament_year', \n",
    "        'tournament_country', 'tournament_state', 'tournament_city', 'tournament_timezone', 'num_courses', \n",
    "        'course1_name', 'course1_num', 'course1_lat', 'course1_long', 'course1_yards', 'course1_par_front',\n",
    "        'course1_par_back', 'course1_par_total', 'course1_fairway_type', 'course1_rough_type', 'course1_green_type',\n",
    "        'course1_stimp',\n",
    "        'course2_name', 'course2_num', 'course2_lat', 'course2_long', 'course2_yards', 'course2_par_front',\n",
    "        'course2_par_back', 'course2_par_total', 'course2_fairway_type', 'course2_rough_type', 'course2_green_type',\n",
    "        'course2_stimp',\n",
    "        'course3_name', 'course3_num', 'course3_lat', 'course3_long', 'course3_yards', 'course3_par_front',\n",
    "        'course3_par_back', 'course3_par_total', 'course3_fairway_type', 'course3_rough_type', 'course3_green_type',\n",
    "        'course3_stimp',\n",
    "        'round1_players_per_group','round4_players_per_group','round4_players_per_group','round4_players_per_group',\n",
    "        'round1_is_cut_round', 'round2_is_cut_round', 'round3_is_cut_round', 'round4_is_cut_round',\n",
    "        'round1_start_date', 'round1_start_time', 'round2_start_date', 'round2_start_time',\n",
    "        'round3_start_date', 'round3_start_time', 'round4_start_date', 'round4_start_time',\n",
    "        'round1_player_count', 'round2_player_count', 'round3_player_count', 'round4_player_count'\n",
    "         ])\n",
    "\n",
    "weather_df = pd.DataFrame(columns = ['tournament_id', 'round', 'apparentTemperature',\n",
    "                                       'cloudCover',\n",
    "                                       'dewPoint',\n",
    "                                       'humidity',\n",
    "                                       'icon',\n",
    "                                       'precipIntensity',\n",
    "                                       'precipProbability',\n",
    "                                       'pressure',\n",
    "                                       'summary',\n",
    "                                       'temperature',\n",
    "                                       'time',\n",
    "                                       'time_str',\n",
    "                                       'visibility',\n",
    "                                       'windBearing',\n",
    "                                       'windSpeed'])\n",
    "\n",
    "\n",
    "count_total = 0\n",
    "count_weather = 0\n",
    "\n",
    "\n",
    "for tourny_prefix in tqdm(succeed_ls):  \n",
    "    #try:\n",
    "\n",
    "    tournament_id = tourny_prefix.split('_')[0]\n",
    "    tournament_year = tourny_prefix.split('_')[1]\n",
    "\n",
    "    course_process_filepath = '/home/valesco/Datasets/PGA_Data/PGA_Dir/' + tourny_prefix + '/' \n",
    "    course_process_json = open(course_process_filepath + tourny_prefix + '_course_data1.json')\n",
    "    course_process_data = json.load(course_process_json)\n",
    "\n",
    "    course_raw_filepath = '/home/valesco/Datasets/PGA_Data/PGA/' + tourny_prefix + '/' \n",
    "    course_raw_json = open(course_raw_filepath + tourny_prefix + '_course.json')\n",
    "    course_raw_data = json.load(course_raw_json)\n",
    "\n",
    "\n",
    "    num_courses = course_process_data[tournament_id]['course_info']['_num_courses']\n",
    "    \n",
    "    c_info = 0\n",
    "    for c, course in enumerate(course_process_data[tournament_id]['course_info']['course']):\n",
    "        if course['course_loc'] != 'no_course_loc_info':\n",
    "            c_info = c\n",
    "            tournament_city = course['course_loc']['city']\n",
    "            tournament_state = course['course_loc']['state']\n",
    "            tournament_country = course['course_loc']['country']\n",
    "            tournament_timezone = course['course_loc']['timezone']\n",
    "\n",
    "    # retrieve course 1 stats\n",
    "    course_lat1 = course_process_data[tournament_id]['course_info']['course'][c_info]['course_loc']['latitude']\n",
    "    course_long1 = course_process_data[tournament_id]['course_info']['course'][c_info]['course_loc']['longitude']\n",
    "    course_name1 = course_process_data[tournament_id]['course_info']['course'][0]['course_name']\n",
    "    course_yards1 = course_process_data[tournament_id]['course_info']['course'][0]['course_yards']\n",
    "    course_fairway_type1 = course_process_data[tournament_id]['course_info']['course'][0]['grass_type']['fairway_grass']\n",
    "    course_rough_type1 = course_process_data[tournament_id]['course_info']['course'][0]['grass_type']['rough_grass']\n",
    "    course_green_type1 = course_process_data[tournament_id]['course_info']['course'][0]['grass_type']['green_grass']\n",
    "    course_stimp1 = course_process_data[tournament_id]['course_info']['course'][0]['stimp']\n",
    "    course_par_front1 = course_process_data[tournament_id]['course_info']['course'][0]['par_front']\n",
    "    course_par_back1 = course_process_data[tournament_id]['course_info']['course'][0]['par_back']\n",
    "    course_par_total1 = str(int(course_par_front1) + int(course_par_back1))\n",
    "\n",
    "    for course in course_raw_data['courses']:\n",
    "        if course_name1 == course['name']:\n",
    "            course_num1 = course['number']\n",
    "\n",
    "    # retrieve course 2 stats if they exist, else set to null\n",
    "    try:\n",
    "        course_lat2 = course_process_data[tournament_id]['course_info']['course'][1]['course_loc']['latitude']\n",
    "        course_long2 = course_process_data[tournament_id]['course_info']['course'][1]['course_loc']['longitude']\n",
    "        course_name2 = course_process_data[tournament_id]['course_info']['course'][1]['course_name']\n",
    "        course_yards2 = course_process_data[tournament_id]['course_info']['course'][1]['course_yards']\n",
    "        course_fairway_type2 = course_process_data[tournament_id]['course_info']['course'][1]['grass_type']['fairway_grass']\n",
    "        course_rough_type2 = course_process_data[tournament_id]['course_info']['course'][1]['grass_type']['rough_grass']\n",
    "        course_green_type2 = course_process_data[tournament_id]['course_info']['course'][1]['grass_type']['green_grass']\n",
    "        course_stimp2 = course_process_data[tournament_id]['course_info']['course'][1]['stimp']\n",
    "        course_par_front2 = course_process_data[tournament_id]['course_info']['course'][1]['par_front']\n",
    "        course_par_back2 = course_process_data[tournament_id]['course_info']['course'][1]['par_back']\n",
    "        course_par_total2 = str(int(course_par_front2) + int(course_par_back2))\n",
    "\n",
    "        for course in course_raw_data['courses']:\n",
    "            if course_name2 == course['name']:\n",
    "                course_num2 = course['number']\n",
    "    except:\n",
    "        course2_ls = ['course_lat2', 'course_long2', 'course_name2', 'course_yards2', 'course_fairway_type2',\n",
    "                     'course_rough_type2', 'course_green_type2', 'course_stimp2', 'course_par_front2', \n",
    "                     'course_par_back2', 'course_par_total2', 'course_num2']\n",
    "\n",
    "        for course2_var in course2_ls:\n",
    "            globals()[course2_var] = 'null'\n",
    "\n",
    "    # retrieve course 3 stats if they exist, else set to null\n",
    "    try:\n",
    "        course_lat3 = course_process_data[tournament_id]['course_info']['course'][2]['course_loc']['latitude']\n",
    "        course_long3 = course_process_data[tournament_id]['course_info']['course'][2]['course_loc']['longitude']\n",
    "        course_name3 = course_process_data[tournament_id]['course_info']['course'][2]['course_name']\n",
    "        course_yards3 = course_process_data[tournament_id]['course_info']['course'][2]['course_yards']\n",
    "        course_fairway_type3 = course_process_data[tournament_id]['course_info']['course'][2]['grass_type']['fairway_grass']\n",
    "        course_rough_type3 = course_process_data[tournament_id]['course_info']['course'][2]['grass_type']['rough_grass']\n",
    "        course_green_type3 = course_process_data[tournament_id]['course_info']['course'][2]['grass_type']['green_grass']\n",
    "        course_stimp3 = course_process_data[tournament_id]['course_info']['course'][2]['stimp']\n",
    "        course_par_front3 = course_process_data[tournament_id]['course_info']['course'][2]['par_front']\n",
    "        course_par_back3 = course_process_data[tournament_id]['course_info']['course'][2]['par_back']\n",
    "        course_par_total3 = str(int(course_par_front3) + int(course_par_back3))\n",
    "\n",
    "        for course in course_raw_data['courses']:\n",
    "            if course_name3 == course['name']:\n",
    "                course_num3 = course['number']\n",
    "    except:\n",
    "        course3_ls = ['course_lat3', 'course_long3', 'course_name3', 'course_yards3', 'course_fairway_type3',\n",
    "                     'course_rough_type3', 'course_green_type3', 'course_stimp3', 'course_par_front3', \n",
    "                     'course_par_back3', 'course_par_total3', 'course_num3']\n",
    "\n",
    "        for course3_var in course3_ls:\n",
    "            globals()[course3_var] = 'null'\n",
    "\n",
    "    #Retrieve round data\n",
    "    round1_player_per_group = course_process_data[tournament_id]['tee_data']['rounds'][0]['MaxPlayersPerGroup']\n",
    "    round2_player_per_group = course_process_data[tournament_id]['tee_data']['rounds'][1]['MaxPlayersPerGroup']\n",
    "    round3_player_per_group = course_process_data[tournament_id]['tee_data']['rounds'][2]['MaxPlayersPerGroup']\n",
    "    round4_player_per_group = course_process_data[tournament_id]['tee_data']['rounds'][3]['MaxPlayersPerGroup']\n",
    "\n",
    "    round1_is_cut_round = course_process_data[tournament_id]['tee_data']['rounds'][0]['IsCutRound']\n",
    "    round2_is_cut_round = course_process_data[tournament_id]['tee_data']['rounds'][1]['IsCutRound']\n",
    "    round3_is_cut_round = course_process_data[tournament_id]['tee_data']['rounds'][2]['IsCutRound']\n",
    "    round4_is_cut_round = course_process_data[tournament_id]['tee_data']['rounds'][3]['IsCutRound']\n",
    "\n",
    "    round1_start_date = course_process_data[tournament_id]['tee_data']['rounds'][0]['courses'][0]['segments'][0] \\\n",
    "                        ['groups'][0]['StartDate']\n",
    "    round2_start_date = course_process_data[tournament_id]['tee_data']['rounds'][1]['courses'][0]['segments'][0] \\\n",
    "                        ['groups'][0]['StartDate']\n",
    "    round3_start_date = course_process_data[tournament_id]['tee_data']['rounds'][2]['courses'][0]['segments'][0] \\\n",
    "                        ['groups'][0]['StartDate']\n",
    "    round4_start_date = course_process_data[tournament_id]['tee_data']['rounds'][3]['courses'][0]['segments'][0] \\\n",
    "                        ['groups'][0]['StartDate']\n",
    "    round4_start_date = 'canceled'\n",
    "    \n",
    "    round1_start_time = course_process_data[tournament_id]['tee_data']['rounds'][0]['courses'][0]['segments'][0] \\\n",
    "                        ['groups'][0]['StartTime']\n",
    "    round2_start_time = course_process_data[tournament_id]['tee_data']['rounds'][1]['courses'][0]['segments'][0] \\\n",
    "                        ['groups'][0]['StartTime']\n",
    "    round3_start_time = course_process_data[tournament_id]['tee_data']['rounds'][2]['courses'][0]['segments'][0] \\\n",
    "                        ['groups'][0]['StartTime']\n",
    "    round4_start_time = course_process_data[tournament_id]['tee_data']['rounds'][3]['courses'][0]['segments'][0] \\\n",
    "                        ['groups'][0]['StartTime']\n",
    "    \n",
    "    \n",
    "    round1_player_count = 0\n",
    "    for course in course_process_data[tournament_id]['tee_data']['rounds'][0]['courses']:\n",
    "        for segment in course['segments']:\n",
    "            for group in segment['groups']:\n",
    "                for player in group['players']:\n",
    "                    if player['IsAmateur'] == 'No':\n",
    "                        round1_player_count += 1\n",
    "\n",
    "    round2_player_count = 0\n",
    "    for course in course_process_data[tournament_id]['tee_data']['rounds'][1]['courses']:\n",
    "        for segment in course['segments']:\n",
    "            for group in segment['groups']:\n",
    "                for player in group['players']:\n",
    "                    if player['IsAmateur'] == 'No':\n",
    "                        round2_player_count += 1\n",
    "\n",
    "    round3_player_count = 0\n",
    "    for course in course_process_data[tournament_id]['tee_data']['rounds'][2]['courses']:\n",
    "        for segment in course['segments']:\n",
    "            for group in segment['groups']:\n",
    "                for player in group['players']:\n",
    "                    if player['IsAmateur'] == 'No':\n",
    "                        round3_player_count += 1\n",
    "\n",
    "    round4_player_count = 0\n",
    "    for course in course_process_data[tournament_id]['tee_data']['rounds'][3]['courses']:\n",
    "        for segment in course['segments']:\n",
    "            for group in segment['groups']:\n",
    "                for player in group['players']:\n",
    "                    if player['IsAmateur'] == 'No':\n",
    "                        round4_player_count += 1\n",
    "\n",
    "\n",
    "    tournament_info_df.loc[count_total] = [tourny_prefix, tournament_id, tournament_year, tournament_country,\n",
    "            tournament_state, tournament_city, tournament_timezone, num_courses, course_name1, course_num1,\n",
    "            course_lat1, course_long1, course_yards1, course_par_front1, course_par_back1, course_par_total1, \n",
    "            course_fairway_type1, course_rough_type1, course_green_type1,course_stimp1, course_name2, course_num2,\n",
    "            course_lat2, course_long2, course_yards2, course_par_front2, course_par_back2, course_par_total2, \n",
    "            course_fairway_type2, course_rough_type2, course_green_type2,course_stimp2,course_name3, course_num3,\n",
    "            course_lat3, course_long3, course_yards3, course_par_front3, course_par_back3, course_par_total3, \n",
    "            course_fairway_type3, course_rough_type3, course_green_type3,course_stimp3,\n",
    "            round1_player_per_group,round2_player_per_group,round3_player_per_group,round4_player_per_group,\n",
    "             round1_is_cut_round, round2_is_cut_round, round3_is_cut_round, round4_is_cut_round,\n",
    "             round1_start_date, round1_start_time, round2_start_date, round2_start_time,\n",
    "             round3_start_date, round3_start_time, round4_start_date, round4_start_time,\n",
    "             round1_player_count, round2_player_count, round3_player_count, round4_player_count] \n",
    "\n",
    "    count_total += 1\n",
    "\n",
    "\n",
    "    for key in course_process_data[tournament_id]['weather'].keys():\n",
    "        for weather in course_process_data[tournament_id]['weather'][key]:\n",
    "            round_str = str(int(key) + 1)               \n",
    "\n",
    "            try:\n",
    "                app_temp = weather['apparentTemperature']\n",
    "            except:\n",
    "                app_temp = 'null'\n",
    "            try:\n",
    "                cloud_cover = weather['cloudCover']\n",
    "            except:\n",
    "                cloud_cover = 'null'\n",
    "            try:\n",
    "                dew_point = weather['dewPoint']\n",
    "            except:\n",
    "                dew_point = 'null'\n",
    "            try:\n",
    "                humidity = weather['humidity']\n",
    "            except:\n",
    "                humidity = 'null'\n",
    "            try:\n",
    "                icon = weather['icon']\n",
    "            except:\n",
    "                icon = 'null'\n",
    "            try:\n",
    "                precip_intensity = weather['precipIntensity']\n",
    "            except:\n",
    "                precip_intensity = 'null'\n",
    "            try:\n",
    "                precip_possibility = weather['precipProbability']\n",
    "            except:\n",
    "                precip_possibility = 'null'\n",
    "            try:\n",
    "                pressure = weather['pressure']\n",
    "            except:\n",
    "                pressure = 'null'\n",
    "            try:\n",
    "                summary = weather['summary']\n",
    "            except:\n",
    "                summary = 'null'\n",
    "            try:\n",
    "                temp = weather['temperature']\n",
    "            except:\n",
    "                temp = 'null'\n",
    "            try:\n",
    "                time = datetime.datetime.fromtimestamp(weather['time'])\n",
    "            except:\n",
    "                time = 'null'\n",
    "            try:\n",
    "                time_str = weather['time_str']\n",
    "            except:\n",
    "                time_str = 'null'\n",
    "            try:\n",
    "                visib = weather['visibility']\n",
    "            except:\n",
    "                visib = 'null'\n",
    "            try:\n",
    "                wind_bearing = weather['windBearing']\n",
    "            except:\n",
    "                wind_bearing = 'null'\n",
    "            try:\n",
    "                wind_speed = weather['windSpeed']\n",
    "            except:\n",
    "                wind_speed = 'null'\n",
    "\n",
    "            weather_df.loc[count_weather] = [tourny_prefix, round_str, app_temp, cloud_cover, dew_point,\n",
    "                    humidity, icon, precip_intensity, precip_possibility, pressure, summary, temp, time,\n",
    "                    time_str, visib, wind_bearing, wind_speed]\n",
    "\n",
    "            count_weather += 1\n",
    "\n",
    "    os.chdir('/home/valesco/Datasets/PGA_Data/PGA_Dir/' + tourny_prefix + '/')\n",
    "    weather_df.to_csv(tourny_prefix + '_weather.csv')\n",
    "    tournament_info_df.to_csv(tourny_prefix + '_tournament_info.csv') \n",
    "    print(tourny_prefix + ' succeeded!!')\n",
    "    #except:\n",
    "        #print(tourny_prefix + ' failed!!')\n",
    "        #pass\n",
    "#os.chdir('/home/valesco/Datasets/PGA_Data/PGA_Dir/')\n",
    "#weather_df.sort_values('time', inplace = True)\n",
    "#tournament_info_df.sort_values('round1_start_date', inplace = True)\n",
    "\n",
    "\n"
   ]
  },
  {
   "cell_type": "code",
   "execution_count": 24,
   "metadata": {
    "collapsed": false,
    "deletable": true,
    "editable": true
   },
   "outputs": [
    {
     "ename": "IndexError",
     "evalue": "list index out of range",
     "output_type": "error",
     "traceback": [
      "\u001b[0;31m---------------------------------------------------------------------------\u001b[0m",
      "\u001b[0;31mIndexError\u001b[0m                                Traceback (most recent call last)",
      "\u001b[0;32m<ipython-input-24-640a93974354>\u001b[0m in \u001b[0;36m<module>\u001b[0;34m()\u001b[0m\n\u001b[0;32m----> 1\u001b[0;31m \u001b[0mcourse_process_data\u001b[0m\u001b[0;34m[\u001b[0m\u001b[0mtournament_id\u001b[0m\u001b[0;34m]\u001b[0m\u001b[0;34m[\u001b[0m\u001b[0;34m'tee_data'\u001b[0m\u001b[0;34m]\u001b[0m\u001b[0;34m[\u001b[0m\u001b[0;34m'rounds'\u001b[0m\u001b[0;34m]\u001b[0m\u001b[0;34m[\u001b[0m\u001b[0;36m3\u001b[0m\u001b[0;34m]\u001b[0m\u001b[0;34m[\u001b[0m\u001b[0;34m'courses'\u001b[0m\u001b[0;34m]\u001b[0m\u001b[0;34m[\u001b[0m\u001b[0;36m0\u001b[0m\u001b[0;34m]\u001b[0m\u001b[0;34m[\u001b[0m\u001b[0;34m'segments'\u001b[0m\u001b[0;34m]\u001b[0m\u001b[0;34m[\u001b[0m\u001b[0;36m0\u001b[0m\u001b[0;34m]\u001b[0m\u001b[0;34m[\u001b[0m\u001b[0;34m'groups'\u001b[0m\u001b[0;34m]\u001b[0m\u001b[0;34m[\u001b[0m\u001b[0;36m0\u001b[0m\u001b[0;34m]\u001b[0m\u001b[0;34m[\u001b[0m\u001b[0;34m'StartDate'\u001b[0m\u001b[0;34m]\u001b[0m\u001b[0;34m\u001b[0m\u001b[0m\n\u001b[0m",
      "\u001b[0;31mIndexError\u001b[0m: list index out of range"
     ]
    }
   ],
   "source": [
    "course_process_data[tournament_id]['tee_data']['rounds'][3]['courses'][0]['segments'][0]['groups'][0]['StartDate']"
   ]
  },
  {
   "cell_type": "code",
   "execution_count": 25,
   "metadata": {
    "collapsed": false,
    "deletable": true,
    "editable": true
   },
   "outputs": [
    {
     "data": {
      "text/plain": [
       "'018_2016'"
      ]
     },
     "execution_count": 25,
     "metadata": {},
     "output_type": "execute_result"
    }
   ],
   "source": [
    "tourny_prefix"
   ]
  },
  {
   "cell_type": "code",
   "execution_count": null,
   "metadata": {
    "collapsed": false,
    "deletable": true,
    "editable": true
   },
   "outputs": [],
   "source": []
  },
  {
   "cell_type": "code",
   "execution_count": null,
   "metadata": {
    "collapsed": false,
    "deletable": true,
    "editable": true
   },
   "outputs": [],
   "source": []
  },
  {
   "cell_type": "code",
   "execution_count": null,
   "metadata": {
    "collapsed": false,
    "deletable": true,
    "editable": true
   },
   "outputs": [],
   "source": []
  },
  {
   "cell_type": "code",
   "execution_count": null,
   "metadata": {
    "collapsed": true,
    "deletable": true,
    "editable": true
   },
   "outputs": [],
   "source": []
  }
 ],
 "metadata": {
  "anaconda-cloud": {},
  "kernelspec": {
   "display_name": "Python 3",
   "language": "python",
   "name": "python3"
  },
  "language_info": {
   "codemirror_mode": {
    "name": "ipython",
    "version": 3
   },
   "file_extension": ".py",
   "mimetype": "text/x-python",
   "name": "python",
   "nbconvert_exporter": "python",
   "pygments_lexer": "ipython3",
   "version": "3.5.0"
  }
 },
 "nbformat": 4,
 "nbformat_minor": 1
}
