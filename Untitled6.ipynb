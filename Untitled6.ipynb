{
 "cells": [
  {
   "cell_type": "code",
   "execution_count": 1,
   "metadata": {
    "collapsed": true
   },
   "outputs": [],
   "source": [
    "from neo4j.v1 import GraphDatabase, basic_auth"
   ]
  },
  {
   "cell_type": "code",
   "execution_count": 2,
   "metadata": {
    "collapsed": true
   },
   "outputs": [],
   "source": [
    "driver = GraphDatabase.driver(\"bolt://localhost\", auth=basic_auth(\"neo4j\", \"neo4j\"))\n",
    "session = driver.session()"
   ]
  },
  {
   "cell_type": "code",
   "execution_count": 3,
   "metadata": {
    "collapsed": false
   },
   "outputs": [
    {
     "data": {
      "text/plain": [
       "<neo4j.v1.session.StatementResult at 0x7fc4cee61080>"
      ]
     },
     "execution_count": 3,
     "metadata": {},
     "output_type": "execute_result"
    }
   ],
   "source": [
    "session.run(\"CREATE (a:Person {name:'Arthur', title:'King'})\")"
   ]
  },
  {
   "cell_type": "code",
   "execution_count": 4,
   "metadata": {
    "collapsed": false
   },
   "outputs": [
    {
     "name": "stdout",
     "output_type": "stream",
     "text": [
      "King Arthur\n",
      "King Arthur\n"
     ]
    },
    {
     "ename": "ImportError",
     "evalue": "cannot import name 'GraphDatabase'",
     "output_type": "error",
     "traceback": [
      "\u001b[1;31m---------------------------------------------------------------------------\u001b[0m",
      "\u001b[1;31mImportError\u001b[0m                               Traceback (most recent call last)",
      "\u001b[1;32m<ipython-input-4-e49c8c01e8d3>\u001b[0m in \u001b[0;36m<module>\u001b[1;34m()\u001b[0m\n\u001b[0;32m     10\u001b[0m \u001b[1;33m\u001b[0m\u001b[0m\n\u001b[0;32m     11\u001b[0m \u001b[0msession\u001b[0m\u001b[1;33m.\u001b[0m\u001b[0mclose\u001b[0m\u001b[1;33m(\u001b[0m\u001b[1;33m)\u001b[0m\u001b[1;33m\u001b[0m\u001b[0m\n\u001b[1;32m---> 12\u001b[1;33m \u001b[1;32mfrom\u001b[0m \u001b[0mneo4j\u001b[0m \u001b[1;32mimport\u001b[0m \u001b[0mGraphDatabase\u001b[0m\u001b[1;33m\u001b[0m\u001b[0m\n\u001b[0m",
      "\u001b[1;31mImportError\u001b[0m: cannot import name 'GraphDatabase'"
     ]
    }
   ],
   "source": [
    "from neo4j.v1 import GraphDatabase, basic_auth\n",
    "driver = GraphDatabase.driver(\"bolt://localhost\", auth=basic_auth(\"neo4j\", \"v1933\"))\n",
    "session = driver.session()\n",
    "\n",
    "session.run(\"CREATE (a:Person {name:'Arthur', title:'King'})\")\n",
    "\n",
    "result = session.run(\"MATCH (a:Person) WHERE a.name = 'Arthur' RETURN a.name AS name, a.title AS title\")\n",
    "for record in result:\n",
    "    print(\"%s %s\" % (record[\"title\"], record[\"name\"]))\n",
    "\n",
    "session.close()\n",
    "from neo4j import GraphDatabase"
   ]
  },
  {
   "cell_type": "code",
   "execution_count": 2,
   "metadata": {
    "collapsed": false
   },
   "outputs": [],
   "source": [
    "from neo4jrestclient.client import GraphDatabase\n",
    " \n",
    "db = GraphDatabase(\"http://localhost:7474\", username=\"neo4j\", password=\"v1933\")\n",
    " \n",
    "# Create some nodes with labels\n",
    "user = db.labels.create(\"User\")\n",
    "u1 = db.nodes.create(name=\"Marco\")\n",
    "user.add(u1)\n",
    "u2 = db.nodes.create(name=\"Daniela\")\n",
    "user.add(u2)\n",
    " \n",
    "beer = db.labels.create(\"Beer\")\n",
    "b1 = db.nodes.create(name=\"Punk IPA\")\n",
    "b2 = db.nodes.create(name=\"Hoegaarden Rosee\")\n",
    "# You can associate a label with many nodes in one go\n",
    "beer.add(b1, b2)\n"
   ]
  },
  {
   "cell_type": "code",
   "execution_count": 3,
   "metadata": {
    "collapsed": false
   },
   "outputs": [
    {
     "data": {
      "text/plain": [
       "<Neo4j Relationship: http://localhost:7474/db/data/relationship/7>"
      ]
     },
     "execution_count": 3,
     "metadata": {},
     "output_type": "execute_result"
    }
   ],
   "source": [
    "# User-likes->Beer relationships\n",
    "u1.relationships.create(\"likes\", b1)\n",
    "u1.relationships.create(\"likes\", b2)\n",
    "u2.relationships.create(\"likes\", b1)\n",
    "# Bi-directional relationship?\n",
    "u1.relationships.create(\"friends\", u2)"
   ]
  },
  {
   "cell_type": "code",
   "execution_count": 10,
   "metadata": {
    "collapsed": false
   },
   "outputs": [
    {
     "name": "stdout",
     "output_type": "stream",
     "text": [
      "(Marco)-[likes]->(Hoegaarden Rosee)\n",
      "(Marco)-[likes]->(Punk IPA)\n"
     ]
    }
   ],
   "source": [
    "from neo4jrestclient import client\n",
    "\n",
    "q = 'MATCH (u:User)-[r:likes]->(m:Beer) WHERE u.name=\"Marco\" RETURN u, type(r), m'\n",
    "# \"db\" as defined above\n",
    "results = db.query(q, returns=(client.Node, str, client.Node))\n",
    "for r in results:\n",
    "    print(\"(%s)-[%s]->(%s)\" % (r[0][\"name\"], r[1], r[2][\"name\"]))\n",
    "# The output:\n",
    "# (Marco)-[likes]->(Punk IPA)\n",
    "# (Marco)-[likes]->(Hoegaarden Rosee)\n"
   ]
  },
  {
   "cell_type": "code",
   "execution_count": 16,
   "metadata": {
    "collapsed": true
   },
   "outputs": [],
   "source": [
    "from pymongo import MongoClient\n",
    "import pprint\n",
    "import csv\n",
    "import pandas as pd\n",
    "import sys, getopt"
   ]
  },
  {
   "cell_type": "code",
   "execution_count": 12,
   "metadata": {
    "collapsed": true
   },
   "outputs": [],
   "source": [
    "client = MongoClient()\n",
    "client = MongoClient('mongodb://mongodb0.example.net:27019')"
   ]
  },
  {
   "cell_type": "code",
   "execution_count": 25,
   "metadata": {
    "collapsed": false
   },
   "outputs": [
    {
     "name": "stderr",
     "output_type": "stream",
     "text": [
      "/home/valesco/anaconda3/lib/python3.5/site-packages/ipykernel/__main__.py:13: DeprecationWarning: insert is deprecated. Use insert_one or insert_many instead.\n"
     ]
    }
   ],
   "source": [
    "csvfile = open('/home/valesco/Datasets/MongoDb/Users/gundega/Desktop/github/ud032/Lesson_4/Examples/autos.csv')\n",
    "reader = csv.DictReader(csvfile)\n",
    "mongo_client = MongoClient()\n",
    "db = mongo_client.autos\n",
    "\n",
    "header = ['URI','rdf-schema#label', 'rdf-schema#comment','assembly_label', 'manufacturer']\n",
    "\n",
    "for r in reader:\n",
    "    row = {}\n",
    "    for field in header:\n",
    "        row[field] = r[field]\n",
    "    \n",
    "    db.segment.insert(row)"
   ]
  },
  {
   "cell_type": "code",
   "execution_count": 26,
   "metadata": {
    "collapsed": false
   },
   "outputs": [],
   "source": [
    "def find():\n",
    "    autos = db.autos.find({'manufacturer': 'Toyota'})\n",
    "    for a in autos:\n",
    "        pprint.pprint(a)"
   ]
  },
  {
   "cell_type": "code",
   "execution_count": null,
   "metadata": {
    "collapsed": true
   },
   "outputs": [],
   "source": []
  }
 ],
 "metadata": {
  "kernelspec": {
   "display_name": "Python 3",
   "language": "python",
   "name": "python3"
  },
  "language_info": {
   "codemirror_mode": {
    "name": "ipython",
    "version": 3
   },
   "file_extension": ".py",
   "mimetype": "text/x-python",
   "name": "python",
   "nbconvert_exporter": "python",
   "pygments_lexer": "ipython3",
   "version": "3.5.1"
  }
 },
 "nbformat": 4,
 "nbformat_minor": 0
}
