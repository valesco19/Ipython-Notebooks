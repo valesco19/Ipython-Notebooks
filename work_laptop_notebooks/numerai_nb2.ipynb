{
 "cells": [
  {
   "cell_type": "code",
   "execution_count": 1,
   "metadata": {
    "collapsed": true
   },
   "outputs": [],
   "source": [
    "import os\n",
    "from sklearn.model_selection import train_test_split\n",
    "from sklearn.model_selection import cross_val_score\n",
    "from sklearn.model_selection import KFold\n",
    "from sklearn.ensemble import GradientBoostingClassifier\n",
    "from sklearn.metrics import roc_curve, accuracy_score\n",
    "import pandas as pd\n",
    "import numpy as np\n",
    "from tqdm import tqdm"
   ]
  },
  {
   "cell_type": "code",
   "execution_count": 2,
   "metadata": {
    "collapsed": true
   },
   "outputs": [],
   "source": [
    "def add_targets_split(train_set, test_set):\n",
    "    train_set['target'] = 1\n",
    "    test_set['target'] = 0\n",
    "    \n",
    "    combo_set = pd.concat((train_set, test_set), axis = 0)\n",
    "    \n",
    "    x = combo_set.drop(['target', 'id', 'data_type', 'era'], axis = 1)\n",
    "    y = combo_set['target']\n",
    "    \n",
    "    x_train, x_test, y_train, y_test = train_test_split(x, y, train_size = .75)\n",
    "    \n",
    "    return x_train, x_test, y_train, y_test\n",
    "    \n",
    "def simple_classifier(x_train, x_test, y_train, y_test):\n",
    "    g_boost = GradientBoostingClassifier(n_estimators = 10)\n",
    "    g_boost.fit(x_train, y_train)\n",
    "    \n",
    "    y_predict = g_boost.predict(x_test)\n",
    "    \n",
    "    acc_score = accuracy_score(y_test, y_predict)\n",
    "    \n",
    "    return acc_score\n",
    "    \n",
    "    "
   ]
  },
  {
   "cell_type": "code",
   "execution_count": 3,
   "metadata": {},
   "outputs": [
    {
     "data": {
      "text/plain": [
       "0.70179215187903621"
      ]
     },
     "execution_count": 3,
     "metadata": {},
     "output_type": "execute_result"
    }
   ],
   "source": [
    "train = pd.read_csv('D:/data/numerai/Week56/numerai_training_data.csv')\n",
    "test = pd.read_csv('D:/data/numerai/Week56/numerai_tournament_data.csv')\n",
    "\n",
    "x_train, x_test, y_train, y_test = add_targets_split(train, test)\n",
    "acc_score = simple_classifier(x_train, x_test, y_train, y_test)\n",
    "acc_score"
   ]
  },
  {
   "cell_type": "code",
   "execution_count": null,
   "metadata": {
    "collapsed": true
   },
   "outputs": [],
   "source": []
  },
  {
   "cell_type": "code",
   "execution_count": null,
   "metadata": {
    "collapsed": true
   },
   "outputs": [],
   "source": []
  }
 ],
 "metadata": {
  "kernelspec": {
   "display_name": "Python 3",
   "language": "python",
   "name": "python3"
  },
  "language_info": {
   "codemirror_mode": {
    "name": "ipython",
    "version": 3
   },
   "file_extension": ".py",
   "mimetype": "text/x-python",
   "name": "python",
   "nbconvert_exporter": "python",
   "pygments_lexer": "ipython3",
   "version": "3.5.0"
  }
 },
 "nbformat": 4,
 "nbformat_minor": 2
}
