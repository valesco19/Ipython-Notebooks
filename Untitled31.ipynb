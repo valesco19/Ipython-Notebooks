{
 "cells": [
  {
   "cell_type": "code",
   "execution_count": 26,
   "metadata": {
    "collapsed": true
   },
   "outputs": [],
   "source": [
    "import pandas as pd\n",
    "import requests\n",
    "import datetime\n",
    "import os\n",
    "import json\n",
    "import time\n",
    "from tqdm import tqdm"
   ]
  },
  {
   "cell_type": "code",
   "execution_count": 7,
   "metadata": {
    "collapsed": false
   },
   "outputs": [],
   "source": [
    "url = 'http://gripapi-static-pd.usopen.com/gripapi/leaderboard.json'\n",
    "leader_json = requests.get(url).json()\n",
    "\n",
    "os.chdir('/home/valesco/Datasets/PGA_Data/Majors_Data/US_Open_2017/')\n",
    "\n",
    "file_name = 'US_Open_2017_leaderboard.json'\n",
    "\n",
    "with open(file_name, 'w') as outfile:\n",
    "    json.dump(leader_json, outfile)"
   ]
  },
  {
   "cell_type": "code",
   "execution_count": 8,
   "metadata": {
    "collapsed": false
   },
   "outputs": [
    {
     "data": {
      "text/plain": [
       "['36689',\n",
       " '32839',\n",
       " '27644',\n",
       " '30911',\n",
       " '48081',\n",
       " '24924',\n",
       " '32102',\n",
       " '12716',\n",
       " '46601',\n",
       " '27649',\n",
       " '33448',\n",
       " '27141',\n",
       " '29518',\n",
       " '34360',\n",
       " '37455',\n",
       " '23108',\n",
       " '06527',\n",
       " '26476',\n",
       " '34709',\n",
       " '29454',\n",
       " '34409',\n",
       " '21209',\n",
       " '32366',\n",
       " '10809',\n",
       " '26329',\n",
       " '25364',\n",
       " '46046',\n",
       " '24024',\n",
       " '29461',\n",
       " '26851',\n",
       " '34098',\n",
       " '25396',\n",
       " '27936',\n",
       " '52372',\n",
       " '34046',\n",
       " '46048',\n",
       " '27408',\n",
       " '35225',\n",
       " '29221',\n",
       " '28486',\n",
       " '40098',\n",
       " '26499',\n",
       " '34242',\n",
       " '34358',\n",
       " '47996',\n",
       " '20229',\n",
       " '33204',\n",
       " '34099',\n",
       " '32816',\n",
       " '31323',\n",
       " '37454',\n",
       " '29974',\n",
       " '30944',\n",
       " '28420',\n",
       " '06522',\n",
       " '31202',\n",
       " '20396',\n",
       " '29478',\n",
       " '24461',\n",
       " '33141',\n",
       " '23821',\n",
       " '36799',\n",
       " '33399',\n",
       " '47663',\n",
       " '25834',\n",
       " '46402',\n",
       " '47610',\n",
       " '35296',\n",
       " '22582',\n",
       " '26908',\n",
       " '24361',\n",
       " '29531',\n",
       " '29484',\n",
       " '22405',\n",
       " '52370',\n",
       " '39004',\n",
       " '27896',\n",
       " '25900',\n",
       " '22000',\n",
       " '24502',\n",
       " '29908',\n",
       " '21528',\n",
       " '26331',\n",
       " '33948',\n",
       " '46442',\n",
       " '46340',\n",
       " '23320',\n",
       " '22983',\n",
       " '33293',\n",
       " '25198',\n",
       " '34305',\n",
       " '32640',\n",
       " '25804',\n",
       " '35376',\n",
       " '21498',\n",
       " '46567',\n",
       " '34021',\n",
       " '34363',\n",
       " '50735',\n",
       " '30925',\n",
       " '33408',\n",
       " '26525',\n",
       " '24140',\n",
       " '28237',\n",
       " '37275',\n",
       " '32775',\n",
       " '39958',\n",
       " '46970',\n",
       " '25572',\n",
       " '20848',\n",
       " '33122',\n",
       " '45486',\n",
       " '40104',\n",
       " '51977',\n",
       " '26341',\n",
       " '34587',\n",
       " '49826',\n",
       " '47959',\n",
       " '25818',\n",
       " '25632',\n",
       " '27556',\n",
       " '25562',\n",
       " '29535',\n",
       " '49771',\n",
       " '27349',\n",
       " '50488',\n",
       " '31678',\n",
       " '36884',\n",
       " '28937',\n",
       " '48887',\n",
       " '25686',\n",
       " '39997',\n",
       " '34579',\n",
       " '27064',\n",
       " '32200',\n",
       " '31646',\n",
       " '33592',\n",
       " '51586',\n",
       " '51634',\n",
       " '40026',\n",
       " '36963',\n",
       " '46414',\n",
       " '02049',\n",
       " '27561',\n",
       " '28089',\n",
       " '35947',\n",
       " '47644',\n",
       " '31559',\n",
       " '31560',\n",
       " '47622',\n",
       " '20850',\n",
       " '29420',\n",
       " '52371',\n",
       " '48084',\n",
       " '52373',\n",
       " '32139']"
      ]
     },
     "execution_count": 8,
     "metadata": {},
     "output_type": "execute_result"
    }
   ],
   "source": [
    "player_ids = []\n",
    "\n",
    "for player in leader_json['standings']:\n",
    "    player_ids.append(player['player']['identifier'])\n",
    "    \n",
    "player_ids"
   ]
  },
  {
   "cell_type": "code",
   "execution_count": 13,
   "metadata": {
    "collapsed": false
   },
   "outputs": [],
   "source": [
    "os.chdir('/home/valesco/Datasets/PGA_Data/Majors_Data/US_Open_2017/Player_Pages/')\n",
    "\n",
    "for player in player_ids:\n",
    "    base_url = 'http://gripapi-static-pd.usopen.com/gripapi/player/{}.json'\n",
    "    \n",
    "    complete_url = base_url.format(player)\n",
    "    \n",
    "    data = requests.get(complete_url).json()\n",
    "    \n",
    "    file_name = '{}_player_page.json'.format(player)\n",
    "    \n",
    "    with open(file_name, 'w') as outfile:\n",
    "        json.dump(leader_json, outfile)\n",
    "        \n",
    "    time.sleep(.3333)"
   ]
  },
  {
   "cell_type": "code",
   "execution_count": 30,
   "metadata": {
    "collapsed": false
   },
   "outputs": [
    {
     "name": "stderr",
     "output_type": "stream",
     "text": [
      "\n",
      "  0%|          | 0/83 [00:00<?, ?it/s]\u001b[A\n",
      "100%|██████████| 83/83 [58:49<00:00, 50.97s/it]\n"
     ]
    }
   ],
   "source": [
    "os.chdir('/home/valesco/Datasets/PGA_Data/Majors_Data/US_Open_2017/Player_Shot_Data/')\n",
    "\n",
    "for player in tqdm(player_ids[73:]):\n",
    "    player_data = {'round': []}\n",
    "    base_url = 'http://usgamensbp.smtinternetservices.com/content/json/{}/{}_{}_{}.json'\n",
    "    try:\n",
    "        for rnd in range(1,5):\n",
    "            hole_data = {'hole': []}\n",
    "            for hole in range(1,19):\n",
    "                time.sleep(.333)\n",
    "                data = requests.get(base_url.format(rnd, player, rnd, hole)).json()\n",
    "                hole_data['hole'].append(data)\n",
    "            player_data['round'].append(hole_data)\n",
    "    except:\n",
    "        pass\n",
    "    file_name = '{}_shot_data.json'.format(player)\n",
    "    with open(file_name, 'w') as outfile:\n",
    "        json.dump(player_data, outfile)\n",
    "        \n",
    "        "
   ]
  },
  {
   "cell_type": "code",
   "execution_count": 29,
   "metadata": {
    "collapsed": false
   },
   "outputs": [
    {
     "data": {
      "text/plain": [
       "'http://usgamensbp.smtinternetservices.com/content/json/3/39004_3_1.json'"
      ]
     },
     "execution_count": 29,
     "metadata": {},
     "output_type": "execute_result"
    }
   ],
   "source": [
    "base_url.format(rnd, player, rnd, hole)"
   ]
  },
  {
   "cell_type": "code",
   "execution_count": 17,
   "metadata": {
    "collapsed": false
   },
   "outputs": [
    {
     "data": {
      "text/plain": [
       "{'rounds': ['dfadafd']}"
      ]
     },
     "execution_count": 17,
     "metadata": {},
     "output_type": "execute_result"
    }
   ],
   "source": [
    "player_data = {'rounds': []}\n",
    "player_data['rounds'].append('dfadafd')\n",
    "player_data"
   ]
  },
  {
   "cell_type": "code",
   "execution_count": null,
   "metadata": {
    "collapsed": true
   },
   "outputs": [],
   "source": []
  }
 ],
 "metadata": {
  "kernelspec": {
   "display_name": "Python 3",
   "language": "python",
   "name": "python3"
  },
  "language_info": {
   "codemirror_mode": {
    "name": "ipython",
    "version": 3
   },
   "file_extension": ".py",
   "mimetype": "text/x-python",
   "name": "python",
   "nbconvert_exporter": "python",
   "pygments_lexer": "ipython3",
   "version": "3.5.0"
  }
 },
 "nbformat": 4,
 "nbformat_minor": 2
}
